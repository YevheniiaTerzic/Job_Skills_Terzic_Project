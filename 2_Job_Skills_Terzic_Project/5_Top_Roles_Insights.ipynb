{
 "cells": [
  {
   "cell_type": "markdown",
   "id": "b15c1de1",
   "metadata": {},
   "source": [
    "# How can you maximize your salary as a Data Analyst? \n",
    "- Which skills and other factors are most strongly correlated with higher pay?"
   ]
  }
 ],
 "metadata": {
  "language_info": {
   "name": "python"
  }
 },
 "nbformat": 4,
 "nbformat_minor": 5
}
