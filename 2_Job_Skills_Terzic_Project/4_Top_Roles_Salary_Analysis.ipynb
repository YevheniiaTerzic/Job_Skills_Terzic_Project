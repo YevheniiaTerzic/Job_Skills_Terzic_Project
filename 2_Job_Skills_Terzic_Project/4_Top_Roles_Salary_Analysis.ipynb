{
 "cells": [
  {
   "cell_type": "markdown",
   "id": "c711c70d",
   "metadata": {},
   "source": [
    "# How well are the most popular roles paid in Europe?\n",
    "- Global Salary Distribution\n",
    "- Salaries of Top-3 in-Demand Data Roles in Europe\n",
    "- Salary Gap% for Top-3 Data Roles in US and EU\n",
    "- Interactive Map - Median Salary for Top-3 Data Roles in EU"
   ]
  },
  {
   "cell_type": "code",
   "execution_count": 1,
   "id": "edcd26c5",
   "metadata": {},
   "outputs": [],
   "source": [
    "import pandas as pd\n",
    "import plotly.express as px\n",
    "\n",
    "import matplotlib.pyplot as plt\n",
    "import seaborn as sns\n",
    "\n",
    "import plotly.graph_objects as go\n",
    "\n",
    "from pathlib import Path\n",
    "current_dir = Path.cwd()\n",
    "project_dir = current_dir.parents[1]\n",
    "raw_data_dir = project_dir / \"Raw_Data\"\n",
    "df = pd.read_csv(raw_data_dir / 'df_Final.csv')"
   ]
  },
  {
   "cell_type": "markdown",
   "id": "b26a7308",
   "metadata": {},
   "source": [
    "### Remove Salary Outliers\n",
    "During the exploratory analysis, we identified unusually high salaries in countries with very few job postings. These outliers may result from salaries listed in local currencies, company registration addresses being used instead of actual job locations, or other inconsistencies.\n",
    "\n",
    "Action Taken:\n",
    "- Outliers were removed per job title and country to preserve meaningful comparisons.\n",
    "- For countries with fewer than 5 postings, outliers were removed based on job title only to avoid skewed insights from limited data."
   ]
  },
  {
   "cell_type": "code",
   "execution_count": 3,
   "id": "9026ce4f",
   "metadata": {},
   "outputs": [
    {
     "name": "stdout",
     "output_type": "stream",
     "text": [
      "Original dataset size: 22002\n",
      "Filtered dataset size: 21307\n"
     ]
    }
   ],
   "source": [
    "#Calculate global IQR\n",
    "Q1_global = df['salary_month_avg_eur'].quantile(0.25)\n",
    "Q3_global = df['salary_month_avg_eur'].quantile(0.75)\n",
    "IQR_global = Q3_global - Q1_global\n",
    "lower_bound_global = Q1_global - 1.5 * IQR_global\n",
    "upper_bound_global = Q3_global + 1.5 * IQR_global\n",
    "\n",
    "#Build list to collect filtered results\n",
    "filtered_groups = []\n",
    "\n",
    "#Iterate over groups\n",
    "for (country, title), group in df.groupby(['job_country', 'job_title_short']):\n",
    "    if len(group) >= 5:\n",
    "        Q1 = group['salary_month_avg_eur'].quantile(0.25)\n",
    "        Q3 = group['salary_month_avg_eur'].quantile(0.75)\n",
    "        IQR = Q3 - Q1\n",
    "        lower = Q1 - 1.5 * IQR\n",
    "        upper = Q3 + 1.5 * IQR\n",
    "    else:\n",
    "        lower = lower_bound_global\n",
    "        upper = upper_bound_global\n",
    "\n",
    "    filtered = group[\n",
    "        (group['salary_month_avg_eur'] >= lower) &\n",
    "        (group['salary_month_avg_eur'] <= upper)\n",
    "    ]\n",
    "    filtered_groups.append(filtered)\n",
    "\n",
    "# Combine all groups back\n",
    "df_filtered = pd.concat(filtered_groups, ignore_index=True)\n",
    "\n",
    "print(f\"Original dataset size: {len(df)}\")\n",
    "print(f\"Filtered dataset size: {len(df_filtered)}\")"
   ]
  },
  {
   "cell_type": "markdown",
   "id": "516d4258",
   "metadata": {},
   "source": [
    "### Global Salary Distribution"
   ]
  },
  {
   "cell_type": "code",
   "execution_count": 4,
   "id": "850b1812",
   "metadata": {},
   "outputs": [
    {
     "data": {
      "application/vnd.plotly.v1+json": {
       "config": {
        "plotlyServerURL": "https://plot.ly"
       },
       "data": [
        {
         "hovertemplate": "Median Salary, EUR=%{x}<br>job_title_short=%{y}<br>text=%{text}<extra></extra>",
         "insidetextanchor": "middle",
         "legendgroup": "",
         "marker": {
          "color": "#5DADE2",
          "pattern": {
           "shape": ""
          }
         },
         "name": "",
         "orientation": "h",
         "showlegend": false,
         "text": {
          "bdata": "exSuR+HUt0BmZmZmJvu4QAAAAADAO7lAzczMzIydu0B7FK5HYXC9QKRwPQqXK79APQrXo/CFwUA9Ctej8IXBQOF6FK5nrcRApHA9CpexxUA=",
          "dtype": "f8"
         },
         "textposition": "inside",
         "texttemplate": "%{text:.0f}",
         "type": "bar",
         "x": {
          "bdata": "exSuR+HUt0BmZmZmJvu4QAAAAADAO7lAzczMzIydu0B7FK5HYXC9QKRwPQqXK79APQrXo/CFwUA9Ctej8IXBQOF6FK5nrcRApHA9CpexxUA=",
          "dtype": "f8"
         },
         "xaxis": "x",
         "y": [
          "Business Analyst",
          "Cloud Engineer",
          "Data Analyst",
          "Software Engineer",
          "Machine Learning Engineer",
          "Senior Data Analyst",
          "Data Scientist",
          "Data Engineer",
          "Senior Data Engineer",
          "Senior Data Scientist"
         ],
         "yaxis": "y"
        }
       ],
       "layout": {
        "barmode": "relative",
        "legend": {
         "tracegroupgap": 0
        },
        "showlegend": false,
        "template": {
         "data": {
          "bar": [
           {
            "error_x": {
             "color": "#2a3f5f"
            },
            "error_y": {
             "color": "#2a3f5f"
            },
            "marker": {
             "line": {
              "color": "#E5ECF6",
              "width": 0.5
             },
             "pattern": {
              "fillmode": "overlay",
              "size": 10,
              "solidity": 0.2
             }
            },
            "type": "bar"
           }
          ],
          "barpolar": [
           {
            "marker": {
             "line": {
              "color": "#E5ECF6",
              "width": 0.5
             },
             "pattern": {
              "fillmode": "overlay",
              "size": 10,
              "solidity": 0.2
             }
            },
            "type": "barpolar"
           }
          ],
          "carpet": [
           {
            "aaxis": {
             "endlinecolor": "#2a3f5f",
             "gridcolor": "white",
             "linecolor": "white",
             "minorgridcolor": "white",
             "startlinecolor": "#2a3f5f"
            },
            "baxis": {
             "endlinecolor": "#2a3f5f",
             "gridcolor": "white",
             "linecolor": "white",
             "minorgridcolor": "white",
             "startlinecolor": "#2a3f5f"
            },
            "type": "carpet"
           }
          ],
          "choropleth": [
           {
            "colorbar": {
             "outlinewidth": 0,
             "ticks": ""
            },
            "type": "choropleth"
           }
          ],
          "contour": [
           {
            "colorbar": {
             "outlinewidth": 0,
             "ticks": ""
            },
            "colorscale": [
             [
              0,
              "#0d0887"
             ],
             [
              0.1111111111111111,
              "#46039f"
             ],
             [
              0.2222222222222222,
              "#7201a8"
             ],
             [
              0.3333333333333333,
              "#9c179e"
             ],
             [
              0.4444444444444444,
              "#bd3786"
             ],
             [
              0.5555555555555556,
              "#d8576b"
             ],
             [
              0.6666666666666666,
              "#ed7953"
             ],
             [
              0.7777777777777778,
              "#fb9f3a"
             ],
             [
              0.8888888888888888,
              "#fdca26"
             ],
             [
              1,
              "#f0f921"
             ]
            ],
            "type": "contour"
           }
          ],
          "contourcarpet": [
           {
            "colorbar": {
             "outlinewidth": 0,
             "ticks": ""
            },
            "type": "contourcarpet"
           }
          ],
          "heatmap": [
           {
            "colorbar": {
             "outlinewidth": 0,
             "ticks": ""
            },
            "colorscale": [
             [
              0,
              "#0d0887"
             ],
             [
              0.1111111111111111,
              "#46039f"
             ],
             [
              0.2222222222222222,
              "#7201a8"
             ],
             [
              0.3333333333333333,
              "#9c179e"
             ],
             [
              0.4444444444444444,
              "#bd3786"
             ],
             [
              0.5555555555555556,
              "#d8576b"
             ],
             [
              0.6666666666666666,
              "#ed7953"
             ],
             [
              0.7777777777777778,
              "#fb9f3a"
             ],
             [
              0.8888888888888888,
              "#fdca26"
             ],
             [
              1,
              "#f0f921"
             ]
            ],
            "type": "heatmap"
           }
          ],
          "histogram": [
           {
            "marker": {
             "pattern": {
              "fillmode": "overlay",
              "size": 10,
              "solidity": 0.2
             }
            },
            "type": "histogram"
           }
          ],
          "histogram2d": [
           {
            "colorbar": {
             "outlinewidth": 0,
             "ticks": ""
            },
            "colorscale": [
             [
              0,
              "#0d0887"
             ],
             [
              0.1111111111111111,
              "#46039f"
             ],
             [
              0.2222222222222222,
              "#7201a8"
             ],
             [
              0.3333333333333333,
              "#9c179e"
             ],
             [
              0.4444444444444444,
              "#bd3786"
             ],
             [
              0.5555555555555556,
              "#d8576b"
             ],
             [
              0.6666666666666666,
              "#ed7953"
             ],
             [
              0.7777777777777778,
              "#fb9f3a"
             ],
             [
              0.8888888888888888,
              "#fdca26"
             ],
             [
              1,
              "#f0f921"
             ]
            ],
            "type": "histogram2d"
           }
          ],
          "histogram2dcontour": [
           {
            "colorbar": {
             "outlinewidth": 0,
             "ticks": ""
            },
            "colorscale": [
             [
              0,
              "#0d0887"
             ],
             [
              0.1111111111111111,
              "#46039f"
             ],
             [
              0.2222222222222222,
              "#7201a8"
             ],
             [
              0.3333333333333333,
              "#9c179e"
             ],
             [
              0.4444444444444444,
              "#bd3786"
             ],
             [
              0.5555555555555556,
              "#d8576b"
             ],
             [
              0.6666666666666666,
              "#ed7953"
             ],
             [
              0.7777777777777778,
              "#fb9f3a"
             ],
             [
              0.8888888888888888,
              "#fdca26"
             ],
             [
              1,
              "#f0f921"
             ]
            ],
            "type": "histogram2dcontour"
           }
          ],
          "mesh3d": [
           {
            "colorbar": {
             "outlinewidth": 0,
             "ticks": ""
            },
            "type": "mesh3d"
           }
          ],
          "parcoords": [
           {
            "line": {
             "colorbar": {
              "outlinewidth": 0,
              "ticks": ""
             }
            },
            "type": "parcoords"
           }
          ],
          "pie": [
           {
            "automargin": true,
            "type": "pie"
           }
          ],
          "scatter": [
           {
            "fillpattern": {
             "fillmode": "overlay",
             "size": 10,
             "solidity": 0.2
            },
            "type": "scatter"
           }
          ],
          "scatter3d": [
           {
            "line": {
             "colorbar": {
              "outlinewidth": 0,
              "ticks": ""
             }
            },
            "marker": {
             "colorbar": {
              "outlinewidth": 0,
              "ticks": ""
             }
            },
            "type": "scatter3d"
           }
          ],
          "scattercarpet": [
           {
            "marker": {
             "colorbar": {
              "outlinewidth": 0,
              "ticks": ""
             }
            },
            "type": "scattercarpet"
           }
          ],
          "scattergeo": [
           {
            "marker": {
             "colorbar": {
              "outlinewidth": 0,
              "ticks": ""
             }
            },
            "type": "scattergeo"
           }
          ],
          "scattergl": [
           {
            "marker": {
             "colorbar": {
              "outlinewidth": 0,
              "ticks": ""
             }
            },
            "type": "scattergl"
           }
          ],
          "scattermap": [
           {
            "marker": {
             "colorbar": {
              "outlinewidth": 0,
              "ticks": ""
             }
            },
            "type": "scattermap"
           }
          ],
          "scattermapbox": [
           {
            "marker": {
             "colorbar": {
              "outlinewidth": 0,
              "ticks": ""
             }
            },
            "type": "scattermapbox"
           }
          ],
          "scatterpolar": [
           {
            "marker": {
             "colorbar": {
              "outlinewidth": 0,
              "ticks": ""
             }
            },
            "type": "scatterpolar"
           }
          ],
          "scatterpolargl": [
           {
            "marker": {
             "colorbar": {
              "outlinewidth": 0,
              "ticks": ""
             }
            },
            "type": "scatterpolargl"
           }
          ],
          "scatterternary": [
           {
            "marker": {
             "colorbar": {
              "outlinewidth": 0,
              "ticks": ""
             }
            },
            "type": "scatterternary"
           }
          ],
          "surface": [
           {
            "colorbar": {
             "outlinewidth": 0,
             "ticks": ""
            },
            "colorscale": [
             [
              0,
              "#0d0887"
             ],
             [
              0.1111111111111111,
              "#46039f"
             ],
             [
              0.2222222222222222,
              "#7201a8"
             ],
             [
              0.3333333333333333,
              "#9c179e"
             ],
             [
              0.4444444444444444,
              "#bd3786"
             ],
             [
              0.5555555555555556,
              "#d8576b"
             ],
             [
              0.6666666666666666,
              "#ed7953"
             ],
             [
              0.7777777777777778,
              "#fb9f3a"
             ],
             [
              0.8888888888888888,
              "#fdca26"
             ],
             [
              1,
              "#f0f921"
             ]
            ],
            "type": "surface"
           }
          ],
          "table": [
           {
            "cells": {
             "fill": {
              "color": "#EBF0F8"
             },
             "line": {
              "color": "white"
             }
            },
            "header": {
             "fill": {
              "color": "#C8D4E3"
             },
             "line": {
              "color": "white"
             }
            },
            "type": "table"
           }
          ]
         },
         "layout": {
          "annotationdefaults": {
           "arrowcolor": "#2a3f5f",
           "arrowhead": 0,
           "arrowwidth": 1
          },
          "autotypenumbers": "strict",
          "coloraxis": {
           "colorbar": {
            "outlinewidth": 0,
            "ticks": ""
           }
          },
          "colorscale": {
           "diverging": [
            [
             0,
             "#8e0152"
            ],
            [
             0.1,
             "#c51b7d"
            ],
            [
             0.2,
             "#de77ae"
            ],
            [
             0.3,
             "#f1b6da"
            ],
            [
             0.4,
             "#fde0ef"
            ],
            [
             0.5,
             "#f7f7f7"
            ],
            [
             0.6,
             "#e6f5d0"
            ],
            [
             0.7,
             "#b8e186"
            ],
            [
             0.8,
             "#7fbc41"
            ],
            [
             0.9,
             "#4d9221"
            ],
            [
             1,
             "#276419"
            ]
           ],
           "sequential": [
            [
             0,
             "#0d0887"
            ],
            [
             0.1111111111111111,
             "#46039f"
            ],
            [
             0.2222222222222222,
             "#7201a8"
            ],
            [
             0.3333333333333333,
             "#9c179e"
            ],
            [
             0.4444444444444444,
             "#bd3786"
            ],
            [
             0.5555555555555556,
             "#d8576b"
            ],
            [
             0.6666666666666666,
             "#ed7953"
            ],
            [
             0.7777777777777778,
             "#fb9f3a"
            ],
            [
             0.8888888888888888,
             "#fdca26"
            ],
            [
             1,
             "#f0f921"
            ]
           ],
           "sequentialminus": [
            [
             0,
             "#0d0887"
            ],
            [
             0.1111111111111111,
             "#46039f"
            ],
            [
             0.2222222222222222,
             "#7201a8"
            ],
            [
             0.3333333333333333,
             "#9c179e"
            ],
            [
             0.4444444444444444,
             "#bd3786"
            ],
            [
             0.5555555555555556,
             "#d8576b"
            ],
            [
             0.6666666666666666,
             "#ed7953"
            ],
            [
             0.7777777777777778,
             "#fb9f3a"
            ],
            [
             0.8888888888888888,
             "#fdca26"
            ],
            [
             1,
             "#f0f921"
            ]
           ]
          },
          "colorway": [
           "#636efa",
           "#EF553B",
           "#00cc96",
           "#ab63fa",
           "#FFA15A",
           "#19d3f3",
           "#FF6692",
           "#B6E880",
           "#FF97FF",
           "#FECB52"
          ],
          "font": {
           "color": "#2a3f5f"
          },
          "geo": {
           "bgcolor": "white",
           "lakecolor": "white",
           "landcolor": "#E5ECF6",
           "showlakes": true,
           "showland": true,
           "subunitcolor": "white"
          },
          "hoverlabel": {
           "align": "left"
          },
          "hovermode": "closest",
          "mapbox": {
           "style": "light"
          },
          "paper_bgcolor": "white",
          "plot_bgcolor": "#E5ECF6",
          "polar": {
           "angularaxis": {
            "gridcolor": "white",
            "linecolor": "white",
            "ticks": ""
           },
           "bgcolor": "#E5ECF6",
           "radialaxis": {
            "gridcolor": "white",
            "linecolor": "white",
            "ticks": ""
           }
          },
          "scene": {
           "xaxis": {
            "backgroundcolor": "#E5ECF6",
            "gridcolor": "white",
            "gridwidth": 2,
            "linecolor": "white",
            "showbackground": true,
            "ticks": "",
            "zerolinecolor": "white"
           },
           "yaxis": {
            "backgroundcolor": "#E5ECF6",
            "gridcolor": "white",
            "gridwidth": 2,
            "linecolor": "white",
            "showbackground": true,
            "ticks": "",
            "zerolinecolor": "white"
           },
           "zaxis": {
            "backgroundcolor": "#E5ECF6",
            "gridcolor": "white",
            "gridwidth": 2,
            "linecolor": "white",
            "showbackground": true,
            "ticks": "",
            "zerolinecolor": "white"
           }
          },
          "shapedefaults": {
           "line": {
            "color": "#2a3f5f"
           }
          },
          "ternary": {
           "aaxis": {
            "gridcolor": "white",
            "linecolor": "white",
            "ticks": ""
           },
           "baxis": {
            "gridcolor": "white",
            "linecolor": "white",
            "ticks": ""
           },
           "bgcolor": "#E5ECF6",
           "caxis": {
            "gridcolor": "white",
            "linecolor": "white",
            "ticks": ""
           }
          },
          "title": {
           "x": 0.05
          },
          "xaxis": {
           "automargin": true,
           "gridcolor": "white",
           "linecolor": "white",
           "ticks": "",
           "title": {
            "standoff": 15
           },
           "zerolinecolor": "white",
           "zerolinewidth": 2
          },
          "yaxis": {
           "automargin": true,
           "gridcolor": "white",
           "linecolor": "white",
           "ticks": "",
           "title": {
            "standoff": 15
           },
           "zerolinecolor": "white",
           "zerolinewidth": 2
          }
         }
        },
        "title": {
         "text": "Global Median Salary by Job Title"
        },
        "xaxis": {
         "anchor": "y",
         "domain": [
          0,
          1
         ],
         "title": {
          "text": "Median Salary, EUR"
         }
        },
        "yaxis": {
         "anchor": "x",
         "domain": [
          0,
          1
         ],
         "title": {
          "text": ""
         }
        }
       }
      }
     },
     "metadata": {},
     "output_type": "display_data"
    }
   ],
   "source": [
    "median_salary = df_filtered.groupby('job_title_short')['salary_month_avg_eur'].median().sort_values()\n",
    "\n",
    "fig1 = px.bar(\n",
    "    median_salary,\n",
    "    x=median_salary.values,\n",
    "    y=median_salary.index,\n",
    "    orientation='h',\n",
    "    title='Global Median Salary by Job Title',\n",
    "    labels={'x': 'Median Salary, EUR', 'index': 'Job Title'},\n",
    "    color_discrete_sequence=['#5DADE2'],\n",
    "    text=median_salary.values\n",
    ")\n",
    "\n",
    "fig1.update_traces(\n",
    "    texttemplate='%{text:.0f}', \n",
    "    textposition='inside', \n",
    "    insidetextanchor='middle'\n",
    "    )\n",
    "\n",
    "fig1.update_layout(\n",
    "    showlegend=False,\n",
    "    yaxis_title=''\n",
    "    )\n",
    "fig1.show()"
   ]
  },
  {
   "cell_type": "markdown",
   "id": "48cf30e2",
   "metadata": {},
   "source": [
    "Despite being the most popular role in Europe, Data Analyst has the lowest median salary among the top-3 data roles, indicating high accessibility but limited earning potential in the long term. In contrast, Data Scientist and Data Engineer both offer significantly higher median salaries (nearly 40% more). \n",
    "\n",
    "For job seekers, starting as a Data Analyst offers a practical entry point, but upskilling toward Data Science — currently one of the highest-paid and fastest-growing roles globally — provides stronger long-term career and salary growth potential. "
   ]
  },
  {
   "cell_type": "markdown",
   "id": "b1bd2ff8",
   "metadata": {},
   "source": [
    "### Salaries of Top-3 in-Demand Data Roles in Europe"
   ]
  },
  {
   "cell_type": "code",
   "execution_count": 5,
   "id": "bced3f9c",
   "metadata": {},
   "outputs": [],
   "source": [
    "top_roles = ['Data Analyst', 'Data Scientist', 'Data Engineer']\n",
    "\n",
    "df_eu_top = df_filtered[\n",
    "    (df_filtered['job_title_short'].isin(top_roles)) &\n",
    "    (df_filtered['region_group'] == 'EU')\n",
    "]"
   ]
  },
  {
   "cell_type": "code",
   "execution_count": 6,
   "id": "84d20767",
   "metadata": {},
   "outputs": [
    {
     "data": {
      "application/vnd.plotly.v1+json": {
       "config": {
        "plotlyServerURL": "https://plot.ly"
       },
       "data": [
        {
         "alignmentgroup": "True",
         "hovertemplate": "=%{x}<br>Monthly Salary (EUR)=%{y}<extra></extra>",
         "legendgroup": "",
         "line": {
          "color": "#5DADE2"
         },
         "marker": {
          "color": "#5DADE2"
         },
         "name": "",
         "notched": false,
         "offsetgroup": "",
         "orientation": "v",
         "showlegend": false,
         "type": "box",
         "x": [
          "Data Analyst",
          "Data Analyst",
          "Data Analyst",
          "Data Analyst",
          "Data Engineer",
          "Data Engineer",
          "Data Engineer",
          "Data Scientist",
          "Data Scientist",
          "Data Analyst",
          "Data Analyst",
          "Data Analyst",
          "Data Analyst",
          "Data Analyst",
          "Data Analyst",
          "Data Analyst",
          "Data Analyst",
          "Data Analyst",
          "Data Analyst",
          "Data Analyst",
          "Data Analyst",
          "Data Analyst",
          "Data Analyst",
          "Data Analyst",
          "Data Analyst",
          "Data Analyst",
          "Data Analyst",
          "Data Analyst",
          "Data Analyst",
          "Data Engineer",
          "Data Engineer",
          "Data Engineer",
          "Data Engineer",
          "Data Engineer",
          "Data Engineer",
          "Data Engineer",
          "Data Engineer",
          "Data Engineer",
          "Data Engineer",
          "Data Engineer",
          "Data Scientist",
          "Data Scientist",
          "Data Scientist",
          "Data Scientist",
          "Data Scientist",
          "Data Scientist",
          "Data Scientist",
          "Data Scientist",
          "Data Analyst",
          "Data Analyst",
          "Data Analyst",
          "Data Analyst",
          "Data Analyst",
          "Data Analyst",
          "Data Analyst",
          "Data Analyst",
          "Data Analyst",
          "Data Analyst",
          "Data Engineer",
          "Data Engineer",
          "Data Scientist",
          "Data Scientist",
          "Data Scientist",
          "Data Scientist",
          "Data Scientist",
          "Data Analyst",
          "Data Analyst",
          "Data Analyst",
          "Data Analyst",
          "Data Engineer",
          "Data Engineer",
          "Data Engineer",
          "Data Engineer",
          "Data Engineer",
          "Data Engineer",
          "Data Scientist",
          "Data Scientist",
          "Data Analyst",
          "Data Analyst",
          "Data Analyst",
          "Data Engineer",
          "Data Engineer",
          "Data Engineer",
          "Data Scientist",
          "Data Analyst",
          "Data Analyst",
          "Data Analyst",
          "Data Analyst",
          "Data Analyst",
          "Data Engineer",
          "Data Engineer",
          "Data Scientist",
          "Data Scientist",
          "Data Scientist",
          "Data Scientist",
          "Data Scientist",
          "Data Scientist",
          "Data Scientist",
          "Data Analyst",
          "Data Analyst",
          "Data Analyst",
          "Data Analyst",
          "Data Analyst",
          "Data Analyst",
          "Data Analyst",
          "Data Analyst",
          "Data Analyst",
          "Data Analyst",
          "Data Analyst",
          "Data Engineer",
          "Data Engineer",
          "Data Engineer",
          "Data Engineer",
          "Data Scientist",
          "Data Scientist",
          "Data Scientist",
          "Data Scientist",
          "Data Analyst",
          "Data Analyst",
          "Data Analyst",
          "Data Analyst",
          "Data Analyst",
          "Data Engineer",
          "Data Engineer",
          "Data Engineer",
          "Data Engineer",
          "Data Engineer",
          "Data Scientist",
          "Data Scientist",
          "Data Scientist",
          "Data Scientist",
          "Data Analyst",
          "Data Analyst",
          "Data Analyst",
          "Data Analyst",
          "Data Analyst",
          "Data Analyst",
          "Data Analyst",
          "Data Analyst",
          "Data Analyst",
          "Data Analyst",
          "Data Analyst",
          "Data Analyst",
          "Data Analyst",
          "Data Analyst",
          "Data Analyst",
          "Data Analyst",
          "Data Analyst",
          "Data Analyst",
          "Data Analyst",
          "Data Analyst",
          "Data Analyst",
          "Data Analyst",
          "Data Analyst",
          "Data Analyst",
          "Data Analyst",
          "Data Analyst",
          "Data Analyst",
          "Data Analyst",
          "Data Analyst",
          "Data Analyst",
          "Data Analyst",
          "Data Analyst",
          "Data Analyst",
          "Data Analyst",
          "Data Analyst",
          "Data Analyst",
          "Data Analyst",
          "Data Analyst",
          "Data Analyst",
          "Data Analyst",
          "Data Analyst",
          "Data Analyst",
          "Data Analyst",
          "Data Analyst",
          "Data Analyst",
          "Data Analyst",
          "Data Analyst",
          "Data Analyst",
          "Data Analyst",
          "Data Engineer",
          "Data Engineer",
          "Data Engineer",
          "Data Engineer",
          "Data Engineer",
          "Data Engineer",
          "Data Engineer",
          "Data Engineer",
          "Data Engineer",
          "Data Engineer",
          "Data Engineer",
          "Data Engineer",
          "Data Engineer",
          "Data Engineer",
          "Data Engineer",
          "Data Engineer",
          "Data Engineer",
          "Data Engineer",
          "Data Engineer",
          "Data Engineer",
          "Data Engineer",
          "Data Engineer",
          "Data Engineer",
          "Data Engineer",
          "Data Engineer",
          "Data Engineer",
          "Data Engineer",
          "Data Engineer",
          "Data Engineer",
          "Data Engineer",
          "Data Engineer",
          "Data Engineer",
          "Data Engineer",
          "Data Engineer",
          "Data Engineer",
          "Data Engineer",
          "Data Engineer",
          "Data Engineer",
          "Data Engineer",
          "Data Engineer",
          "Data Engineer",
          "Data Engineer",
          "Data Engineer",
          "Data Engineer",
          "Data Engineer",
          "Data Engineer",
          "Data Engineer",
          "Data Engineer",
          "Data Engineer",
          "Data Engineer",
          "Data Engineer",
          "Data Engineer",
          "Data Engineer",
          "Data Engineer",
          "Data Engineer",
          "Data Engineer",
          "Data Engineer",
          "Data Engineer",
          "Data Engineer",
          "Data Engineer",
          "Data Engineer",
          "Data Scientist",
          "Data Scientist",
          "Data Scientist",
          "Data Scientist",
          "Data Scientist",
          "Data Scientist",
          "Data Scientist",
          "Data Scientist",
          "Data Scientist",
          "Data Scientist",
          "Data Scientist",
          "Data Scientist",
          "Data Scientist",
          "Data Scientist",
          "Data Scientist",
          "Data Scientist",
          "Data Scientist",
          "Data Scientist",
          "Data Scientist",
          "Data Scientist",
          "Data Scientist",
          "Data Scientist",
          "Data Scientist",
          "Data Scientist",
          "Data Scientist",
          "Data Scientist",
          "Data Scientist",
          "Data Scientist",
          "Data Scientist",
          "Data Scientist",
          "Data Scientist",
          "Data Scientist",
          "Data Scientist",
          "Data Scientist",
          "Data Scientist",
          "Data Scientist",
          "Data Scientist",
          "Data Scientist",
          "Data Scientist",
          "Data Scientist",
          "Data Scientist",
          "Data Scientist",
          "Data Scientist",
          "Data Scientist",
          "Data Scientist",
          "Data Scientist",
          "Data Scientist",
          "Data Scientist",
          "Data Scientist",
          "Data Scientist",
          "Data Scientist",
          "Data Scientist",
          "Data Scientist",
          "Data Scientist",
          "Data Scientist",
          "Data Scientist",
          "Data Scientist",
          "Data Analyst",
          "Data Analyst",
          "Data Analyst",
          "Data Analyst",
          "Data Analyst",
          "Data Analyst",
          "Data Analyst",
          "Data Analyst",
          "Data Analyst",
          "Data Analyst",
          "Data Analyst",
          "Data Analyst",
          "Data Analyst",
          "Data Analyst",
          "Data Analyst",
          "Data Analyst",
          "Data Analyst",
          "Data Analyst",
          "Data Analyst",
          "Data Analyst",
          "Data Analyst",
          "Data Analyst",
          "Data Analyst",
          "Data Analyst",
          "Data Analyst",
          "Data Analyst",
          "Data Analyst",
          "Data Analyst",
          "Data Analyst",
          "Data Analyst",
          "Data Analyst",
          "Data Analyst",
          "Data Analyst",
          "Data Analyst",
          "Data Analyst",
          "Data Analyst",
          "Data Analyst",
          "Data Analyst",
          "Data Analyst",
          "Data Analyst",
          "Data Analyst",
          "Data Analyst",
          "Data Analyst",
          "Data Analyst",
          "Data Engineer",
          "Data Engineer",
          "Data Engineer",
          "Data Engineer",
          "Data Engineer",
          "Data Engineer",
          "Data Engineer",
          "Data Engineer",
          "Data Engineer",
          "Data Engineer",
          "Data Engineer",
          "Data Engineer",
          "Data Engineer",
          "Data Engineer",
          "Data Engineer",
          "Data Engineer",
          "Data Engineer",
          "Data Engineer",
          "Data Engineer",
          "Data Engineer",
          "Data Engineer",
          "Data Engineer",
          "Data Engineer",
          "Data Engineer",
          "Data Engineer",
          "Data Engineer",
          "Data Engineer",
          "Data Engineer",
          "Data Engineer",
          "Data Engineer",
          "Data Engineer",
          "Data Engineer",
          "Data Engineer",
          "Data Engineer",
          "Data Engineer",
          "Data Engineer",
          "Data Engineer",
          "Data Engineer",
          "Data Engineer",
          "Data Scientist",
          "Data Scientist",
          "Data Scientist",
          "Data Scientist",
          "Data Scientist",
          "Data Scientist",
          "Data Scientist",
          "Data Scientist",
          "Data Scientist",
          "Data Scientist",
          "Data Scientist",
          "Data Scientist",
          "Data Scientist",
          "Data Scientist",
          "Data Scientist",
          "Data Scientist",
          "Data Scientist",
          "Data Scientist",
          "Data Scientist",
          "Data Scientist",
          "Data Scientist",
          "Data Scientist",
          "Data Scientist",
          "Data Scientist",
          "Data Scientist",
          "Data Scientist",
          "Data Scientist",
          "Data Scientist",
          "Data Scientist",
          "Data Scientist",
          "Data Scientist",
          "Data Scientist",
          "Data Scientist",
          "Data Scientist",
          "Data Scientist",
          "Data Scientist",
          "Data Scientist",
          "Data Scientist",
          "Data Scientist",
          "Data Scientist",
          "Data Scientist",
          "Data Analyst",
          "Data Analyst",
          "Data Analyst",
          "Data Analyst",
          "Data Analyst",
          "Data Analyst",
          "Data Analyst",
          "Data Analyst",
          "Data Analyst",
          "Data Analyst",
          "Data Analyst",
          "Data Analyst",
          "Data Analyst",
          "Data Analyst",
          "Data Analyst",
          "Data Analyst",
          "Data Engineer",
          "Data Engineer",
          "Data Engineer",
          "Data Engineer",
          "Data Engineer",
          "Data Engineer",
          "Data Engineer",
          "Data Engineer",
          "Data Engineer",
          "Data Engineer",
          "Data Engineer",
          "Data Engineer",
          "Data Engineer",
          "Data Engineer",
          "Data Engineer",
          "Data Engineer",
          "Data Engineer",
          "Data Engineer",
          "Data Engineer",
          "Data Engineer",
          "Data Engineer",
          "Data Engineer",
          "Data Engineer",
          "Data Engineer",
          "Data Scientist",
          "Data Scientist",
          "Data Scientist",
          "Data Scientist",
          "Data Scientist",
          "Data Scientist",
          "Data Scientist",
          "Data Scientist",
          "Data Scientist",
          "Data Scientist",
          "Data Analyst",
          "Data Analyst",
          "Data Analyst",
          "Data Analyst",
          "Data Analyst",
          "Data Analyst",
          "Data Analyst",
          "Data Analyst",
          "Data Analyst",
          "Data Analyst",
          "Data Analyst",
          "Data Analyst",
          "Data Analyst",
          "Data Analyst",
          "Data Analyst",
          "Data Analyst",
          "Data Analyst",
          "Data Analyst",
          "Data Engineer",
          "Data Engineer",
          "Data Engineer",
          "Data Engineer",
          "Data Engineer",
          "Data Engineer",
          "Data Engineer",
          "Data Engineer",
          "Data Engineer",
          "Data Engineer",
          "Data Scientist",
          "Data Scientist",
          "Data Scientist",
          "Data Scientist",
          "Data Scientist",
          "Data Scientist",
          "Data Scientist",
          "Data Scientist",
          "Data Scientist",
          "Data Scientist",
          "Data Scientist",
          "Data Scientist",
          "Data Scientist",
          "Data Analyst",
          "Data Analyst",
          "Data Analyst",
          "Data Analyst",
          "Data Analyst",
          "Data Analyst",
          "Data Analyst",
          "Data Analyst",
          "Data Analyst",
          "Data Analyst",
          "Data Analyst",
          "Data Analyst",
          "Data Analyst",
          "Data Analyst",
          "Data Analyst",
          "Data Analyst",
          "Data Engineer",
          "Data Engineer",
          "Data Engineer",
          "Data Engineer",
          "Data Engineer",
          "Data Engineer",
          "Data Engineer",
          "Data Engineer",
          "Data Engineer",
          "Data Scientist",
          "Data Scientist",
          "Data Scientist",
          "Data Scientist",
          "Data Scientist",
          "Data Scientist",
          "Data Analyst",
          "Data Analyst",
          "Data Analyst",
          "Data Analyst",
          "Data Analyst",
          "Data Analyst",
          "Data Analyst",
          "Data Analyst",
          "Data Analyst",
          "Data Analyst",
          "Data Analyst",
          "Data Engineer",
          "Data Engineer",
          "Data Engineer",
          "Data Engineer",
          "Data Engineer",
          "Data Engineer",
          "Data Engineer",
          "Data Engineer",
          "Data Engineer",
          "Data Engineer",
          "Data Engineer",
          "Data Engineer",
          "Data Scientist",
          "Data Scientist",
          "Data Scientist",
          "Data Scientist",
          "Data Scientist",
          "Data Scientist",
          "Data Scientist",
          "Data Scientist",
          "Data Scientist",
          "Data Scientist",
          "Data Scientist",
          "Data Scientist",
          "Data Analyst",
          "Data Engineer",
          "Data Engineer",
          "Data Engineer",
          "Data Analyst",
          "Data Analyst",
          "Data Analyst",
          "Data Analyst",
          "Data Engineer",
          "Data Engineer",
          "Data Scientist",
          "Data Scientist",
          "Data Analyst",
          "Data Analyst",
          "Data Analyst",
          "Data Engineer",
          "Data Engineer",
          "Data Engineer",
          "Data Scientist",
          "Data Scientist",
          "Data Scientist",
          "Data Analyst",
          "Data Analyst",
          "Data Analyst",
          "Data Analyst",
          "Data Analyst",
          "Data Engineer",
          "Data Analyst",
          "Data Analyst",
          "Data Analyst",
          "Data Analyst",
          "Data Analyst",
          "Data Analyst",
          "Data Analyst",
          "Data Analyst",
          "Data Analyst",
          "Data Analyst",
          "Data Analyst",
          "Data Analyst",
          "Data Analyst",
          "Data Analyst",
          "Data Analyst",
          "Data Analyst",
          "Data Analyst",
          "Data Analyst",
          "Data Analyst",
          "Data Engineer",
          "Data Engineer",
          "Data Engineer",
          "Data Engineer",
          "Data Engineer",
          "Data Engineer",
          "Data Engineer",
          "Data Engineer",
          "Data Engineer",
          "Data Engineer",
          "Data Engineer",
          "Data Engineer",
          "Data Engineer",
          "Data Engineer",
          "Data Engineer",
          "Data Engineer",
          "Data Engineer",
          "Data Engineer",
          "Data Scientist",
          "Data Scientist",
          "Data Scientist",
          "Data Scientist",
          "Data Scientist",
          "Data Scientist",
          "Data Scientist",
          "Data Scientist",
          "Data Scientist",
          "Data Scientist",
          "Data Scientist",
          "Data Scientist",
          "Data Scientist",
          "Data Scientist",
          "Data Scientist",
          "Data Scientist",
          "Data Scientist",
          "Data Analyst",
          "Data Analyst",
          "Data Analyst",
          "Data Analyst",
          "Data Analyst",
          "Data Analyst",
          "Data Analyst",
          "Data Analyst",
          "Data Analyst",
          "Data Analyst",
          "Data Analyst",
          "Data Analyst",
          "Data Analyst",
          "Data Analyst",
          "Data Analyst",
          "Data Analyst",
          "Data Analyst",
          "Data Analyst",
          "Data Analyst",
          "Data Analyst",
          "Data Analyst",
          "Data Analyst",
          "Data Analyst",
          "Data Analyst",
          "Data Analyst",
          "Data Analyst",
          "Data Analyst",
          "Data Analyst",
          "Data Analyst",
          "Data Analyst",
          "Data Analyst",
          "Data Analyst",
          "Data Analyst",
          "Data Analyst",
          "Data Analyst",
          "Data Analyst",
          "Data Analyst",
          "Data Analyst",
          "Data Analyst",
          "Data Analyst",
          "Data Analyst",
          "Data Analyst",
          "Data Analyst",
          "Data Engineer",
          "Data Engineer",
          "Data Engineer",
          "Data Engineer",
          "Data Engineer",
          "Data Engineer",
          "Data Engineer",
          "Data Engineer",
          "Data Engineer",
          "Data Engineer",
          "Data Engineer",
          "Data Engineer",
          "Data Engineer",
          "Data Engineer",
          "Data Engineer",
          "Data Engineer",
          "Data Engineer",
          "Data Engineer",
          "Data Engineer",
          "Data Engineer",
          "Data Engineer",
          "Data Engineer",
          "Data Engineer",
          "Data Engineer",
          "Data Engineer",
          "Data Engineer",
          "Data Engineer",
          "Data Engineer",
          "Data Engineer",
          "Data Engineer",
          "Data Engineer",
          "Data Engineer",
          "Data Engineer",
          "Data Engineer",
          "Data Engineer",
          "Data Engineer",
          "Data Engineer",
          "Data Engineer",
          "Data Engineer",
          "Data Engineer",
          "Data Engineer",
          "Data Engineer",
          "Data Engineer",
          "Data Engineer",
          "Data Engineer",
          "Data Engineer",
          "Data Scientist",
          "Data Scientist",
          "Data Scientist",
          "Data Scientist",
          "Data Scientist",
          "Data Scientist",
          "Data Scientist",
          "Data Scientist",
          "Data Scientist",
          "Data Scientist",
          "Data Scientist",
          "Data Scientist",
          "Data Scientist",
          "Data Scientist",
          "Data Scientist",
          "Data Scientist",
          "Data Scientist",
          "Data Scientist",
          "Data Scientist",
          "Data Scientist",
          "Data Scientist",
          "Data Scientist",
          "Data Scientist",
          "Data Scientist",
          "Data Scientist",
          "Data Scientist",
          "Data Scientist",
          "Data Scientist",
          "Data Scientist",
          "Data Analyst",
          "Data Analyst",
          "Data Analyst",
          "Data Analyst",
          "Data Analyst",
          "Data Analyst",
          "Data Analyst",
          "Data Analyst",
          "Data Analyst",
          "Data Analyst",
          "Data Analyst",
          "Data Analyst",
          "Data Analyst",
          "Data Analyst",
          "Data Analyst",
          "Data Analyst",
          "Data Analyst",
          "Data Analyst",
          "Data Analyst",
          "Data Analyst",
          "Data Analyst",
          "Data Analyst",
          "Data Analyst",
          "Data Analyst",
          "Data Analyst",
          "Data Analyst",
          "Data Analyst",
          "Data Analyst",
          "Data Analyst",
          "Data Analyst",
          "Data Analyst",
          "Data Analyst",
          "Data Analyst",
          "Data Analyst",
          "Data Analyst",
          "Data Analyst",
          "Data Analyst",
          "Data Engineer",
          "Data Engineer",
          "Data Engineer",
          "Data Engineer",
          "Data Engineer",
          "Data Engineer",
          "Data Engineer",
          "Data Engineer",
          "Data Engineer",
          "Data Engineer",
          "Data Engineer",
          "Data Engineer",
          "Data Engineer",
          "Data Engineer",
          "Data Engineer",
          "Data Engineer",
          "Data Engineer",
          "Data Engineer",
          "Data Engineer",
          "Data Engineer",
          "Data Engineer",
          "Data Engineer",
          "Data Engineer",
          "Data Engineer",
          "Data Engineer",
          "Data Engineer",
          "Data Engineer",
          "Data Engineer",
          "Data Engineer",
          "Data Engineer",
          "Data Scientist",
          "Data Scientist",
          "Data Scientist",
          "Data Scientist",
          "Data Scientist",
          "Data Scientist",
          "Data Scientist",
          "Data Scientist",
          "Data Scientist",
          "Data Scientist",
          "Data Scientist",
          "Data Scientist",
          "Data Scientist",
          "Data Scientist",
          "Data Scientist",
          "Data Scientist",
          "Data Scientist",
          "Data Scientist",
          "Data Scientist",
          "Data Scientist",
          "Data Scientist",
          "Data Scientist",
          "Data Analyst",
          "Data Analyst",
          "Data Analyst",
          "Data Analyst",
          "Data Analyst",
          "Data Analyst",
          "Data Analyst",
          "Data Analyst",
          "Data Analyst",
          "Data Analyst",
          "Data Analyst",
          "Data Analyst",
          "Data Engineer",
          "Data Engineer",
          "Data Engineer",
          "Data Engineer",
          "Data Engineer",
          "Data Scientist",
          "Data Scientist",
          "Data Scientist",
          "Data Scientist",
          "Data Scientist",
          "Data Scientist",
          "Data Scientist",
          "Data Engineer",
          "Data Engineer",
          "Data Engineer",
          "Data Scientist",
          "Data Scientist",
          "Data Scientist",
          "Data Scientist",
          "Data Engineer",
          "Data Engineer",
          "Data Analyst",
          "Data Analyst",
          "Data Analyst",
          "Data Analyst",
          "Data Analyst",
          "Data Analyst",
          "Data Analyst",
          "Data Analyst",
          "Data Analyst",
          "Data Analyst",
          "Data Analyst",
          "Data Analyst",
          "Data Analyst",
          "Data Analyst",
          "Data Analyst",
          "Data Analyst",
          "Data Analyst",
          "Data Analyst",
          "Data Analyst",
          "Data Analyst",
          "Data Analyst",
          "Data Analyst",
          "Data Analyst",
          "Data Analyst",
          "Data Analyst",
          "Data Analyst",
          "Data Analyst",
          "Data Analyst",
          "Data Analyst",
          "Data Analyst",
          "Data Engineer",
          "Data Engineer",
          "Data Engineer",
          "Data Engineer",
          "Data Engineer",
          "Data Engineer",
          "Data Engineer",
          "Data Engineer",
          "Data Engineer",
          "Data Engineer",
          "Data Engineer",
          "Data Engineer",
          "Data Engineer",
          "Data Engineer",
          "Data Engineer",
          "Data Engineer",
          "Data Engineer",
          "Data Engineer",
          "Data Engineer",
          "Data Engineer",
          "Data Engineer",
          "Data Engineer",
          "Data Engineer",
          "Data Engineer",
          "Data Engineer",
          "Data Engineer",
          "Data Engineer",
          "Data Engineer",
          "Data Engineer",
          "Data Engineer",
          "Data Engineer",
          "Data Engineer",
          "Data Engineer",
          "Data Engineer",
          "Data Engineer",
          "Data Scientist",
          "Data Scientist",
          "Data Scientist",
          "Data Scientist",
          "Data Scientist",
          "Data Scientist",
          "Data Scientist",
          "Data Scientist",
          "Data Scientist",
          "Data Scientist",
          "Data Scientist",
          "Data Scientist",
          "Data Scientist",
          "Data Scientist",
          "Data Scientist",
          "Data Scientist",
          "Data Scientist",
          "Data Analyst",
          "Data Analyst",
          "Data Analyst",
          "Data Analyst",
          "Data Analyst",
          "Data Analyst",
          "Data Analyst",
          "Data Analyst",
          "Data Engineer",
          "Data Engineer",
          "Data Engineer",
          "Data Engineer",
          "Data Engineer",
          "Data Engineer",
          "Data Engineer",
          "Data Scientist",
          "Data Scientist",
          "Data Scientist",
          "Data Scientist",
          "Data Scientist",
          "Data Scientist",
          "Data Scientist"
         ],
         "x0": " ",
         "xaxis": "x",
         "y": {
          "bdata": "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",
          "dtype": "f8"
         },
         "y0": " ",
         "yaxis": "y"
        }
       ],
       "layout": {
        "annotations": [
         {
          "font": {
           "size": 12
          },
          "showarrow": false,
          "text": "Median: €6,395",
          "x": "Data Analyst",
          "y": 6395,
          "yshift": 10
         },
         {
          "font": {
           "size": 12
          },
          "showarrow": false,
          "text": "Median: €7,518",
          "x": "Data Engineer",
          "y": 7518,
          "yshift": 10
         },
         {
          "font": {
           "size": 12
          },
          "showarrow": false,
          "text": "Median: €7,583",
          "x": "Data Scientist",
          "y": 7583,
          "yshift": 10
         }
        ],
        "boxmode": "group",
        "legend": {
         "tracegroupgap": 0
        },
        "showlegend": false,
        "template": {
         "data": {
          "bar": [
           {
            "error_x": {
             "color": "#2a3f5f"
            },
            "error_y": {
             "color": "#2a3f5f"
            },
            "marker": {
             "line": {
              "color": "#E5ECF6",
              "width": 0.5
             },
             "pattern": {
              "fillmode": "overlay",
              "size": 10,
              "solidity": 0.2
             }
            },
            "type": "bar"
           }
          ],
          "barpolar": [
           {
            "marker": {
             "line": {
              "color": "#E5ECF6",
              "width": 0.5
             },
             "pattern": {
              "fillmode": "overlay",
              "size": 10,
              "solidity": 0.2
             }
            },
            "type": "barpolar"
           }
          ],
          "carpet": [
           {
            "aaxis": {
             "endlinecolor": "#2a3f5f",
             "gridcolor": "white",
             "linecolor": "white",
             "minorgridcolor": "white",
             "startlinecolor": "#2a3f5f"
            },
            "baxis": {
             "endlinecolor": "#2a3f5f",
             "gridcolor": "white",
             "linecolor": "white",
             "minorgridcolor": "white",
             "startlinecolor": "#2a3f5f"
            },
            "type": "carpet"
           }
          ],
          "choropleth": [
           {
            "colorbar": {
             "outlinewidth": 0,
             "ticks": ""
            },
            "type": "choropleth"
           }
          ],
          "contour": [
           {
            "colorbar": {
             "outlinewidth": 0,
             "ticks": ""
            },
            "colorscale": [
             [
              0,
              "#0d0887"
             ],
             [
              0.1111111111111111,
              "#46039f"
             ],
             [
              0.2222222222222222,
              "#7201a8"
             ],
             [
              0.3333333333333333,
              "#9c179e"
             ],
             [
              0.4444444444444444,
              "#bd3786"
             ],
             [
              0.5555555555555556,
              "#d8576b"
             ],
             [
              0.6666666666666666,
              "#ed7953"
             ],
             [
              0.7777777777777778,
              "#fb9f3a"
             ],
             [
              0.8888888888888888,
              "#fdca26"
             ],
             [
              1,
              "#f0f921"
             ]
            ],
            "type": "contour"
           }
          ],
          "contourcarpet": [
           {
            "colorbar": {
             "outlinewidth": 0,
             "ticks": ""
            },
            "type": "contourcarpet"
           }
          ],
          "heatmap": [
           {
            "colorbar": {
             "outlinewidth": 0,
             "ticks": ""
            },
            "colorscale": [
             [
              0,
              "#0d0887"
             ],
             [
              0.1111111111111111,
              "#46039f"
             ],
             [
              0.2222222222222222,
              "#7201a8"
             ],
             [
              0.3333333333333333,
              "#9c179e"
             ],
             [
              0.4444444444444444,
              "#bd3786"
             ],
             [
              0.5555555555555556,
              "#d8576b"
             ],
             [
              0.6666666666666666,
              "#ed7953"
             ],
             [
              0.7777777777777778,
              "#fb9f3a"
             ],
             [
              0.8888888888888888,
              "#fdca26"
             ],
             [
              1,
              "#f0f921"
             ]
            ],
            "type": "heatmap"
           }
          ],
          "histogram": [
           {
            "marker": {
             "pattern": {
              "fillmode": "overlay",
              "size": 10,
              "solidity": 0.2
             }
            },
            "type": "histogram"
           }
          ],
          "histogram2d": [
           {
            "colorbar": {
             "outlinewidth": 0,
             "ticks": ""
            },
            "colorscale": [
             [
              0,
              "#0d0887"
             ],
             [
              0.1111111111111111,
              "#46039f"
             ],
             [
              0.2222222222222222,
              "#7201a8"
             ],
             [
              0.3333333333333333,
              "#9c179e"
             ],
             [
              0.4444444444444444,
              "#bd3786"
             ],
             [
              0.5555555555555556,
              "#d8576b"
             ],
             [
              0.6666666666666666,
              "#ed7953"
             ],
             [
              0.7777777777777778,
              "#fb9f3a"
             ],
             [
              0.8888888888888888,
              "#fdca26"
             ],
             [
              1,
              "#f0f921"
             ]
            ],
            "type": "histogram2d"
           }
          ],
          "histogram2dcontour": [
           {
            "colorbar": {
             "outlinewidth": 0,
             "ticks": ""
            },
            "colorscale": [
             [
              0,
              "#0d0887"
             ],
             [
              0.1111111111111111,
              "#46039f"
             ],
             [
              0.2222222222222222,
              "#7201a8"
             ],
             [
              0.3333333333333333,
              "#9c179e"
             ],
             [
              0.4444444444444444,
              "#bd3786"
             ],
             [
              0.5555555555555556,
              "#d8576b"
             ],
             [
              0.6666666666666666,
              "#ed7953"
             ],
             [
              0.7777777777777778,
              "#fb9f3a"
             ],
             [
              0.8888888888888888,
              "#fdca26"
             ],
             [
              1,
              "#f0f921"
             ]
            ],
            "type": "histogram2dcontour"
           }
          ],
          "mesh3d": [
           {
            "colorbar": {
             "outlinewidth": 0,
             "ticks": ""
            },
            "type": "mesh3d"
           }
          ],
          "parcoords": [
           {
            "line": {
             "colorbar": {
              "outlinewidth": 0,
              "ticks": ""
             }
            },
            "type": "parcoords"
           }
          ],
          "pie": [
           {
            "automargin": true,
            "type": "pie"
           }
          ],
          "scatter": [
           {
            "fillpattern": {
             "fillmode": "overlay",
             "size": 10,
             "solidity": 0.2
            },
            "type": "scatter"
           }
          ],
          "scatter3d": [
           {
            "line": {
             "colorbar": {
              "outlinewidth": 0,
              "ticks": ""
             }
            },
            "marker": {
             "colorbar": {
              "outlinewidth": 0,
              "ticks": ""
             }
            },
            "type": "scatter3d"
           }
          ],
          "scattercarpet": [
           {
            "marker": {
             "colorbar": {
              "outlinewidth": 0,
              "ticks": ""
             }
            },
            "type": "scattercarpet"
           }
          ],
          "scattergeo": [
           {
            "marker": {
             "colorbar": {
              "outlinewidth": 0,
              "ticks": ""
             }
            },
            "type": "scattergeo"
           }
          ],
          "scattergl": [
           {
            "marker": {
             "colorbar": {
              "outlinewidth": 0,
              "ticks": ""
             }
            },
            "type": "scattergl"
           }
          ],
          "scattermap": [
           {
            "marker": {
             "colorbar": {
              "outlinewidth": 0,
              "ticks": ""
             }
            },
            "type": "scattermap"
           }
          ],
          "scattermapbox": [
           {
            "marker": {
             "colorbar": {
              "outlinewidth": 0,
              "ticks": ""
             }
            },
            "type": "scattermapbox"
           }
          ],
          "scatterpolar": [
           {
            "marker": {
             "colorbar": {
              "outlinewidth": 0,
              "ticks": ""
             }
            },
            "type": "scatterpolar"
           }
          ],
          "scatterpolargl": [
           {
            "marker": {
             "colorbar": {
              "outlinewidth": 0,
              "ticks": ""
             }
            },
            "type": "scatterpolargl"
           }
          ],
          "scatterternary": [
           {
            "marker": {
             "colorbar": {
              "outlinewidth": 0,
              "ticks": ""
             }
            },
            "type": "scatterternary"
           }
          ],
          "surface": [
           {
            "colorbar": {
             "outlinewidth": 0,
             "ticks": ""
            },
            "colorscale": [
             [
              0,
              "#0d0887"
             ],
             [
              0.1111111111111111,
              "#46039f"
             ],
             [
              0.2222222222222222,
              "#7201a8"
             ],
             [
              0.3333333333333333,
              "#9c179e"
             ],
             [
              0.4444444444444444,
              "#bd3786"
             ],
             [
              0.5555555555555556,
              "#d8576b"
             ],
             [
              0.6666666666666666,
              "#ed7953"
             ],
             [
              0.7777777777777778,
              "#fb9f3a"
             ],
             [
              0.8888888888888888,
              "#fdca26"
             ],
             [
              1,
              "#f0f921"
             ]
            ],
            "type": "surface"
           }
          ],
          "table": [
           {
            "cells": {
             "fill": {
              "color": "#EBF0F8"
             },
             "line": {
              "color": "white"
             }
            },
            "header": {
             "fill": {
              "color": "#C8D4E3"
             },
             "line": {
              "color": "white"
             }
            },
            "type": "table"
           }
          ]
         },
         "layout": {
          "annotationdefaults": {
           "arrowcolor": "#2a3f5f",
           "arrowhead": 0,
           "arrowwidth": 1
          },
          "autotypenumbers": "strict",
          "coloraxis": {
           "colorbar": {
            "outlinewidth": 0,
            "ticks": ""
           }
          },
          "colorscale": {
           "diverging": [
            [
             0,
             "#8e0152"
            ],
            [
             0.1,
             "#c51b7d"
            ],
            [
             0.2,
             "#de77ae"
            ],
            [
             0.3,
             "#f1b6da"
            ],
            [
             0.4,
             "#fde0ef"
            ],
            [
             0.5,
             "#f7f7f7"
            ],
            [
             0.6,
             "#e6f5d0"
            ],
            [
             0.7,
             "#b8e186"
            ],
            [
             0.8,
             "#7fbc41"
            ],
            [
             0.9,
             "#4d9221"
            ],
            [
             1,
             "#276419"
            ]
           ],
           "sequential": [
            [
             0,
             "#0d0887"
            ],
            [
             0.1111111111111111,
             "#46039f"
            ],
            [
             0.2222222222222222,
             "#7201a8"
            ],
            [
             0.3333333333333333,
             "#9c179e"
            ],
            [
             0.4444444444444444,
             "#bd3786"
            ],
            [
             0.5555555555555556,
             "#d8576b"
            ],
            [
             0.6666666666666666,
             "#ed7953"
            ],
            [
             0.7777777777777778,
             "#fb9f3a"
            ],
            [
             0.8888888888888888,
             "#fdca26"
            ],
            [
             1,
             "#f0f921"
            ]
           ],
           "sequentialminus": [
            [
             0,
             "#0d0887"
            ],
            [
             0.1111111111111111,
             "#46039f"
            ],
            [
             0.2222222222222222,
             "#7201a8"
            ],
            [
             0.3333333333333333,
             "#9c179e"
            ],
            [
             0.4444444444444444,
             "#bd3786"
            ],
            [
             0.5555555555555556,
             "#d8576b"
            ],
            [
             0.6666666666666666,
             "#ed7953"
            ],
            [
             0.7777777777777778,
             "#fb9f3a"
            ],
            [
             0.8888888888888888,
             "#fdca26"
            ],
            [
             1,
             "#f0f921"
            ]
           ]
          },
          "colorway": [
           "#636efa",
           "#EF553B",
           "#00cc96",
           "#ab63fa",
           "#FFA15A",
           "#19d3f3",
           "#FF6692",
           "#B6E880",
           "#FF97FF",
           "#FECB52"
          ],
          "font": {
           "color": "#2a3f5f"
          },
          "geo": {
           "bgcolor": "white",
           "lakecolor": "white",
           "landcolor": "#E5ECF6",
           "showlakes": true,
           "showland": true,
           "subunitcolor": "white"
          },
          "hoverlabel": {
           "align": "left"
          },
          "hovermode": "closest",
          "mapbox": {
           "style": "light"
          },
          "paper_bgcolor": "white",
          "plot_bgcolor": "#E5ECF6",
          "polar": {
           "angularaxis": {
            "gridcolor": "white",
            "linecolor": "white",
            "ticks": ""
           },
           "bgcolor": "#E5ECF6",
           "radialaxis": {
            "gridcolor": "white",
            "linecolor": "white",
            "ticks": ""
           }
          },
          "scene": {
           "xaxis": {
            "backgroundcolor": "#E5ECF6",
            "gridcolor": "white",
            "gridwidth": 2,
            "linecolor": "white",
            "showbackground": true,
            "ticks": "",
            "zerolinecolor": "white"
           },
           "yaxis": {
            "backgroundcolor": "#E5ECF6",
            "gridcolor": "white",
            "gridwidth": 2,
            "linecolor": "white",
            "showbackground": true,
            "ticks": "",
            "zerolinecolor": "white"
           },
           "zaxis": {
            "backgroundcolor": "#E5ECF6",
            "gridcolor": "white",
            "gridwidth": 2,
            "linecolor": "white",
            "showbackground": true,
            "ticks": "",
            "zerolinecolor": "white"
           }
          },
          "shapedefaults": {
           "line": {
            "color": "#2a3f5f"
           }
          },
          "ternary": {
           "aaxis": {
            "gridcolor": "white",
            "linecolor": "white",
            "ticks": ""
           },
           "baxis": {
            "gridcolor": "white",
            "linecolor": "white",
            "ticks": ""
           },
           "bgcolor": "#E5ECF6",
           "caxis": {
            "gridcolor": "white",
            "linecolor": "white",
            "ticks": ""
           }
          },
          "title": {
           "x": 0.05
          },
          "xaxis": {
           "automargin": true,
           "gridcolor": "white",
           "linecolor": "white",
           "ticks": "",
           "title": {
            "standoff": 15
           },
           "zerolinecolor": "white",
           "zerolinewidth": 2
          },
          "yaxis": {
           "automargin": true,
           "gridcolor": "white",
           "linecolor": "white",
           "ticks": "",
           "title": {
            "standoff": 15
           },
           "zerolinecolor": "white",
           "zerolinewidth": 2
          }
         }
        },
        "title": {
         "text": "Salary Distribution for Top-3 Data Roles in EU"
        },
        "xaxis": {
         "anchor": "y",
         "domain": [
          0,
          1
         ],
         "title": {
          "text": ""
         }
        },
        "yaxis": {
         "anchor": "x",
         "domain": [
          0,
          1
         ],
         "title": {
          "text": "Monthly Salary (EUR)"
         }
        }
       }
      }
     },
     "metadata": {},
     "output_type": "display_data"
    }
   ],
   "source": [
    "fig2 = px.box(\n",
    "    df_eu_top,\n",
    "    x='job_title_short',\n",
    "    y='salary_month_avg_eur',\n",
    "    title='Salary Distribution for Top-3 Data Roles in EU',\n",
    "    labels={\n",
    "        'salary_month_avg_eur': 'Monthly Salary (EUR)',\n",
    "        'job_title_short': ''\n",
    "    }\n",
    ")\n",
    "\n",
    "fig2.update_traces(marker_color='#5DADE2', line_color='#5DADE2')\n",
    "\n",
    "# Add median labels\n",
    "medians = df_eu_top.groupby('job_title_short')['salary_month_avg_eur'].median().round(0)\n",
    "for job, med in medians.items():\n",
    "    fig2.add_annotation(\n",
    "        x=job,\n",
    "        y=med,\n",
    "        text=f\"Median: €{med:,.0f}\",\n",
    "        showarrow=False,\n",
    "        font=dict(size=12),\n",
    "        yshift=10\n",
    "    )\n",
    "\n",
    "fig2.update_layout(showlegend=False)\n",
    "fig2.show()"
   ]
  },
  {
   "cell_type": "markdown",
   "id": "9b73399d",
   "metadata": {},
   "source": [
    "Just like on the global level, Data Scientists and Data Engineers in Europe earn noticeably more than Data Analysts. In the same time, Data Analyst salaries have a narrow, predictable distribution, making them attractive for entry-level professionals seeking stability and lower risk. In contrast, the broader and skewed distributions for Data Scientist and Data Engineer roles indicate greater variability but also higher earning potential — especially for those with advanced skills and niche expertise."
   ]
  },
  {
   "cell_type": "markdown",
   "id": "c9a71a9e",
   "metadata": {},
   "source": [
    "### Salary Gap% for Top-3 Data Roles in US and EU"
   ]
  },
  {
   "cell_type": "markdown",
   "id": "71faf30d",
   "metadata": {},
   "source": [
    "The US data roles market is step ahead globally in adopting emerging technologies and job specializations. Therefore, comparing salaries between the US and EU can help predict future trends for the European market, offering insight into potential career growth, remote work advantages, and long-term salary expectations."
   ]
  },
  {
   "cell_type": "code",
   "execution_count": 7,
   "id": "dff5df2f",
   "metadata": {},
   "outputs": [
    {
     "data": {
      "application/vnd.plotly.v1+json": {
       "config": {
        "plotlyServerURL": "https://plot.ly"
       },
       "data": [
        {
         "insidetextanchor": "middle",
         "marker": {
          "color": "#aec7e8"
         },
         "name": "US",
         "text": {
          "bdata": "AAAAAAA8uUAAAAAAAIbBQAAAAACA38FA",
          "dtype": "f8"
         },
         "textposition": "inside",
         "type": "bar",
         "width": 0.35,
         "x": [
          "Data Analyst",
          "Data Engineer",
          "Data Scientist"
         ],
         "y": {
          "bdata": "AAAAAMA7uUA9Ctej8IXBQOF6FK6n38FA",
          "dtype": "f8"
         }
        },
        {
         "insidetextanchor": "middle",
         "marker": {
          "color": "#1f77b4"
         },
         "name": "EU",
         "text": {
          "bdata": "AAAAAAD7uEAAAAAAAF69QAAAAAAAn71A",
          "dtype": "f8"
         },
         "textposition": "inside",
         "type": "bar",
         "width": 0.35,
         "x": [
          "Data Analyst",
          "Data Engineer",
          "Data Scientist"
         ],
         "y": {
          "bdata": "ZmZmZib7uECkcD0Kl129QOF6FK4Hn71A",
          "dtype": "f8"
         }
        }
       ],
       "layout": {
        "annotations": [
         {
          "arrowcolor": "gray",
          "arrowhead": 2,
          "arrowwidth": 2.5,
          "ax": 0,
          "ay": -40,
          "font": {
           "color": "black",
           "size": 12
          },
          "showarrow": true,
          "standoff": 6,
          "text": "1.0%",
          "x": "Data Analyst",
          "y": 7259.75
         },
         {
          "arrowcolor": "gray",
          "arrowhead": 2,
          "arrowwidth": 2.5,
          "ax": 0,
          "ay": -40,
          "font": {
           "color": "black",
           "size": 12
          },
          "showarrow": true,
          "standoff": 6,
          "text": "19.3%",
          "x": "Data Engineer",
          "y": 9771.88
         },
         {
          "arrowcolor": "gray",
          "arrowhead": 2,
          "arrowwidth": 2.5,
          "ax": 0,
          "ay": -40,
          "font": {
           "color": "black",
           "size": 12
          },
          "showarrow": true,
          "standoff": 6,
          "text": "20.7%",
          "x": "Data Scientist",
          "y": 9951.31
         }
        ],
        "bargap": 0.1,
        "barmode": "group",
        "height": 500,
        "legend": {
         "title": {
          "text": "Region"
         }
        },
        "margin": {
         "t": 80
        },
        "template": {
         "data": {
          "bar": [
           {
            "error_x": {
             "color": "#2a3f5f"
            },
            "error_y": {
             "color": "#2a3f5f"
            },
            "marker": {
             "line": {
              "color": "#E5ECF6",
              "width": 0.5
             },
             "pattern": {
              "fillmode": "overlay",
              "size": 10,
              "solidity": 0.2
             }
            },
            "type": "bar"
           }
          ],
          "barpolar": [
           {
            "marker": {
             "line": {
              "color": "#E5ECF6",
              "width": 0.5
             },
             "pattern": {
              "fillmode": "overlay",
              "size": 10,
              "solidity": 0.2
             }
            },
            "type": "barpolar"
           }
          ],
          "carpet": [
           {
            "aaxis": {
             "endlinecolor": "#2a3f5f",
             "gridcolor": "white",
             "linecolor": "white",
             "minorgridcolor": "white",
             "startlinecolor": "#2a3f5f"
            },
            "baxis": {
             "endlinecolor": "#2a3f5f",
             "gridcolor": "white",
             "linecolor": "white",
             "minorgridcolor": "white",
             "startlinecolor": "#2a3f5f"
            },
            "type": "carpet"
           }
          ],
          "choropleth": [
           {
            "colorbar": {
             "outlinewidth": 0,
             "ticks": ""
            },
            "type": "choropleth"
           }
          ],
          "contour": [
           {
            "colorbar": {
             "outlinewidth": 0,
             "ticks": ""
            },
            "colorscale": [
             [
              0,
              "#0d0887"
             ],
             [
              0.1111111111111111,
              "#46039f"
             ],
             [
              0.2222222222222222,
              "#7201a8"
             ],
             [
              0.3333333333333333,
              "#9c179e"
             ],
             [
              0.4444444444444444,
              "#bd3786"
             ],
             [
              0.5555555555555556,
              "#d8576b"
             ],
             [
              0.6666666666666666,
              "#ed7953"
             ],
             [
              0.7777777777777778,
              "#fb9f3a"
             ],
             [
              0.8888888888888888,
              "#fdca26"
             ],
             [
              1,
              "#f0f921"
             ]
            ],
            "type": "contour"
           }
          ],
          "contourcarpet": [
           {
            "colorbar": {
             "outlinewidth": 0,
             "ticks": ""
            },
            "type": "contourcarpet"
           }
          ],
          "heatmap": [
           {
            "colorbar": {
             "outlinewidth": 0,
             "ticks": ""
            },
            "colorscale": [
             [
              0,
              "#0d0887"
             ],
             [
              0.1111111111111111,
              "#46039f"
             ],
             [
              0.2222222222222222,
              "#7201a8"
             ],
             [
              0.3333333333333333,
              "#9c179e"
             ],
             [
              0.4444444444444444,
              "#bd3786"
             ],
             [
              0.5555555555555556,
              "#d8576b"
             ],
             [
              0.6666666666666666,
              "#ed7953"
             ],
             [
              0.7777777777777778,
              "#fb9f3a"
             ],
             [
              0.8888888888888888,
              "#fdca26"
             ],
             [
              1,
              "#f0f921"
             ]
            ],
            "type": "heatmap"
           }
          ],
          "histogram": [
           {
            "marker": {
             "pattern": {
              "fillmode": "overlay",
              "size": 10,
              "solidity": 0.2
             }
            },
            "type": "histogram"
           }
          ],
          "histogram2d": [
           {
            "colorbar": {
             "outlinewidth": 0,
             "ticks": ""
            },
            "colorscale": [
             [
              0,
              "#0d0887"
             ],
             [
              0.1111111111111111,
              "#46039f"
             ],
             [
              0.2222222222222222,
              "#7201a8"
             ],
             [
              0.3333333333333333,
              "#9c179e"
             ],
             [
              0.4444444444444444,
              "#bd3786"
             ],
             [
              0.5555555555555556,
              "#d8576b"
             ],
             [
              0.6666666666666666,
              "#ed7953"
             ],
             [
              0.7777777777777778,
              "#fb9f3a"
             ],
             [
              0.8888888888888888,
              "#fdca26"
             ],
             [
              1,
              "#f0f921"
             ]
            ],
            "type": "histogram2d"
           }
          ],
          "histogram2dcontour": [
           {
            "colorbar": {
             "outlinewidth": 0,
             "ticks": ""
            },
            "colorscale": [
             [
              0,
              "#0d0887"
             ],
             [
              0.1111111111111111,
              "#46039f"
             ],
             [
              0.2222222222222222,
              "#7201a8"
             ],
             [
              0.3333333333333333,
              "#9c179e"
             ],
             [
              0.4444444444444444,
              "#bd3786"
             ],
             [
              0.5555555555555556,
              "#d8576b"
             ],
             [
              0.6666666666666666,
              "#ed7953"
             ],
             [
              0.7777777777777778,
              "#fb9f3a"
             ],
             [
              0.8888888888888888,
              "#fdca26"
             ],
             [
              1,
              "#f0f921"
             ]
            ],
            "type": "histogram2dcontour"
           }
          ],
          "mesh3d": [
           {
            "colorbar": {
             "outlinewidth": 0,
             "ticks": ""
            },
            "type": "mesh3d"
           }
          ],
          "parcoords": [
           {
            "line": {
             "colorbar": {
              "outlinewidth": 0,
              "ticks": ""
             }
            },
            "type": "parcoords"
           }
          ],
          "pie": [
           {
            "automargin": true,
            "type": "pie"
           }
          ],
          "scatter": [
           {
            "fillpattern": {
             "fillmode": "overlay",
             "size": 10,
             "solidity": 0.2
            },
            "type": "scatter"
           }
          ],
          "scatter3d": [
           {
            "line": {
             "colorbar": {
              "outlinewidth": 0,
              "ticks": ""
             }
            },
            "marker": {
             "colorbar": {
              "outlinewidth": 0,
              "ticks": ""
             }
            },
            "type": "scatter3d"
           }
          ],
          "scattercarpet": [
           {
            "marker": {
             "colorbar": {
              "outlinewidth": 0,
              "ticks": ""
             }
            },
            "type": "scattercarpet"
           }
          ],
          "scattergeo": [
           {
            "marker": {
             "colorbar": {
              "outlinewidth": 0,
              "ticks": ""
             }
            },
            "type": "scattergeo"
           }
          ],
          "scattergl": [
           {
            "marker": {
             "colorbar": {
              "outlinewidth": 0,
              "ticks": ""
             }
            },
            "type": "scattergl"
           }
          ],
          "scattermap": [
           {
            "marker": {
             "colorbar": {
              "outlinewidth": 0,
              "ticks": ""
             }
            },
            "type": "scattermap"
           }
          ],
          "scattermapbox": [
           {
            "marker": {
             "colorbar": {
              "outlinewidth": 0,
              "ticks": ""
             }
            },
            "type": "scattermapbox"
           }
          ],
          "scatterpolar": [
           {
            "marker": {
             "colorbar": {
              "outlinewidth": 0,
              "ticks": ""
             }
            },
            "type": "scatterpolar"
           }
          ],
          "scatterpolargl": [
           {
            "marker": {
             "colorbar": {
              "outlinewidth": 0,
              "ticks": ""
             }
            },
            "type": "scatterpolargl"
           }
          ],
          "scatterternary": [
           {
            "marker": {
             "colorbar": {
              "outlinewidth": 0,
              "ticks": ""
             }
            },
            "type": "scatterternary"
           }
          ],
          "surface": [
           {
            "colorbar": {
             "outlinewidth": 0,
             "ticks": ""
            },
            "colorscale": [
             [
              0,
              "#0d0887"
             ],
             [
              0.1111111111111111,
              "#46039f"
             ],
             [
              0.2222222222222222,
              "#7201a8"
             ],
             [
              0.3333333333333333,
              "#9c179e"
             ],
             [
              0.4444444444444444,
              "#bd3786"
             ],
             [
              0.5555555555555556,
              "#d8576b"
             ],
             [
              0.6666666666666666,
              "#ed7953"
             ],
             [
              0.7777777777777778,
              "#fb9f3a"
             ],
             [
              0.8888888888888888,
              "#fdca26"
             ],
             [
              1,
              "#f0f921"
             ]
            ],
            "type": "surface"
           }
          ],
          "table": [
           {
            "cells": {
             "fill": {
              "color": "#EBF0F8"
             },
             "line": {
              "color": "white"
             }
            },
            "header": {
             "fill": {
              "color": "#C8D4E3"
             },
             "line": {
              "color": "white"
             }
            },
            "type": "table"
           }
          ]
         },
         "layout": {
          "annotationdefaults": {
           "arrowcolor": "#2a3f5f",
           "arrowhead": 0,
           "arrowwidth": 1
          },
          "autotypenumbers": "strict",
          "coloraxis": {
           "colorbar": {
            "outlinewidth": 0,
            "ticks": ""
           }
          },
          "colorscale": {
           "diverging": [
            [
             0,
             "#8e0152"
            ],
            [
             0.1,
             "#c51b7d"
            ],
            [
             0.2,
             "#de77ae"
            ],
            [
             0.3,
             "#f1b6da"
            ],
            [
             0.4,
             "#fde0ef"
            ],
            [
             0.5,
             "#f7f7f7"
            ],
            [
             0.6,
             "#e6f5d0"
            ],
            [
             0.7,
             "#b8e186"
            ],
            [
             0.8,
             "#7fbc41"
            ],
            [
             0.9,
             "#4d9221"
            ],
            [
             1,
             "#276419"
            ]
           ],
           "sequential": [
            [
             0,
             "#0d0887"
            ],
            [
             0.1111111111111111,
             "#46039f"
            ],
            [
             0.2222222222222222,
             "#7201a8"
            ],
            [
             0.3333333333333333,
             "#9c179e"
            ],
            [
             0.4444444444444444,
             "#bd3786"
            ],
            [
             0.5555555555555556,
             "#d8576b"
            ],
            [
             0.6666666666666666,
             "#ed7953"
            ],
            [
             0.7777777777777778,
             "#fb9f3a"
            ],
            [
             0.8888888888888888,
             "#fdca26"
            ],
            [
             1,
             "#f0f921"
            ]
           ],
           "sequentialminus": [
            [
             0,
             "#0d0887"
            ],
            [
             0.1111111111111111,
             "#46039f"
            ],
            [
             0.2222222222222222,
             "#7201a8"
            ],
            [
             0.3333333333333333,
             "#9c179e"
            ],
            [
             0.4444444444444444,
             "#bd3786"
            ],
            [
             0.5555555555555556,
             "#d8576b"
            ],
            [
             0.6666666666666666,
             "#ed7953"
            ],
            [
             0.7777777777777778,
             "#fb9f3a"
            ],
            [
             0.8888888888888888,
             "#fdca26"
            ],
            [
             1,
             "#f0f921"
            ]
           ]
          },
          "colorway": [
           "#636efa",
           "#EF553B",
           "#00cc96",
           "#ab63fa",
           "#FFA15A",
           "#19d3f3",
           "#FF6692",
           "#B6E880",
           "#FF97FF",
           "#FECB52"
          ],
          "font": {
           "color": "#2a3f5f"
          },
          "geo": {
           "bgcolor": "white",
           "lakecolor": "white",
           "landcolor": "#E5ECF6",
           "showlakes": true,
           "showland": true,
           "subunitcolor": "white"
          },
          "hoverlabel": {
           "align": "left"
          },
          "hovermode": "closest",
          "mapbox": {
           "style": "light"
          },
          "paper_bgcolor": "white",
          "plot_bgcolor": "#E5ECF6",
          "polar": {
           "angularaxis": {
            "gridcolor": "white",
            "linecolor": "white",
            "ticks": ""
           },
           "bgcolor": "#E5ECF6",
           "radialaxis": {
            "gridcolor": "white",
            "linecolor": "white",
            "ticks": ""
           }
          },
          "scene": {
           "xaxis": {
            "backgroundcolor": "#E5ECF6",
            "gridcolor": "white",
            "gridwidth": 2,
            "linecolor": "white",
            "showbackground": true,
            "ticks": "",
            "zerolinecolor": "white"
           },
           "yaxis": {
            "backgroundcolor": "#E5ECF6",
            "gridcolor": "white",
            "gridwidth": 2,
            "linecolor": "white",
            "showbackground": true,
            "ticks": "",
            "zerolinecolor": "white"
           },
           "zaxis": {
            "backgroundcolor": "#E5ECF6",
            "gridcolor": "white",
            "gridwidth": 2,
            "linecolor": "white",
            "showbackground": true,
            "ticks": "",
            "zerolinecolor": "white"
           }
          },
          "shapedefaults": {
           "line": {
            "color": "#2a3f5f"
           }
          },
          "ternary": {
           "aaxis": {
            "gridcolor": "white",
            "linecolor": "white",
            "ticks": ""
           },
           "baxis": {
            "gridcolor": "white",
            "linecolor": "white",
            "ticks": ""
           },
           "bgcolor": "#E5ECF6",
           "caxis": {
            "gridcolor": "white",
            "linecolor": "white",
            "ticks": ""
           }
          },
          "title": {
           "x": 0.05
          },
          "xaxis": {
           "automargin": true,
           "gridcolor": "white",
           "linecolor": "white",
           "ticks": "",
           "title": {
            "standoff": 15
           },
           "zerolinecolor": "white",
           "zerolinewidth": 2
          },
          "yaxis": {
           "automargin": true,
           "gridcolor": "white",
           "linecolor": "white",
           "ticks": "",
           "title": {
            "standoff": 15
           },
           "zerolinecolor": "white",
           "zerolinewidth": 2
          }
         }
        },
        "title": {
         "text": "Salary Gap% for Top-3 Data Roles in US and EU"
        },
        "xaxis": {
         "title": {
          "text": ""
         }
        },
        "yaxis": {
         "title": {
          "text": "Median Salary, EUR"
         }
        }
       }
      }
     },
     "metadata": {},
     "output_type": "display_data"
    }
   ],
   "source": [
    "df_top = df_filtered[\n",
    "    (df_filtered['region_group'].isin(['EU', 'US'])) &\n",
    "    (df_filtered['job_title_short'].isin(top_roles))\n",
    "    ]\n",
    "\n",
    "salary_medians = df_top.groupby(['job_title_short', 'region_group'])['salary_month_avg_eur'].median().unstack()\n",
    "salary_medians['gap_abs'] = salary_medians['US'] - salary_medians['EU']\n",
    "salary_medians['gap_pct'] = 100 * (salary_medians['gap_abs'] / salary_medians['EU'])\n",
    "\n",
    "# Prepare base data\n",
    "df_base = salary_medians.reset_index()\n",
    "x_labels = df_base['job_title_short']\n",
    "\n",
    "# Create the bar chart\n",
    "fig3 = go.Figure()\n",
    "\n",
    "# US bars (first in group)\n",
    "fig3.add_trace(go.Bar(\n",
    "    x=x_labels,\n",
    "    y=df_base['US'],\n",
    "    name='US',\n",
    "    marker_color='#aec7e8',\n",
    "    width=0.35,\n",
    "    text=df_base['US'].round(0),\n",
    "    textposition='inside',\n",
    "    insidetextanchor='middle'\n",
    "))\n",
    "\n",
    "# EU bars (second in group)\n",
    "fig3.add_trace(go.Bar(\n",
    "    x=x_labels,\n",
    "    y=df_base['EU'],\n",
    "    name='EU',\n",
    "    marker_color='#1f77b4',\n",
    "    width=0.35,\n",
    "    text=df_base['EU'].round(0),\n",
    "    textposition='inside',\n",
    "    insidetextanchor='middle'\n",
    "))\n",
    "\n",
    "# Add arrows and % gap labels\n",
    "for i, row in df_base.iterrows():\n",
    "    x = row['job_title_short']\n",
    "    y_us = row['US']\n",
    "    y_eu = row['EU']\n",
    "    pct_gap = row['gap_pct']\n",
    "    y_max = max(y_us, y_eu)\n",
    "\n",
    "    fig3.add_annotation(\n",
    "        x=x,\n",
    "        y=y_max + 800,\n",
    "        text=f\"{pct_gap:.1f}%\",\n",
    "        showarrow=True,\n",
    "        arrowhead=2,\n",
    "        arrowwidth=2.5,\n",
    "        arrowcolor='gray',\n",
    "        ax=0,\n",
    "        ay=-40,\n",
    "        font=dict(size=12, color='black'),\n",
    "        standoff=6\n",
    "    )\n",
    "\n",
    "# Layout settings\n",
    "fig3.update_layout(\n",
    "    barmode='group',\n",
    "    bargap=0.1,  \n",
    "    title='Salary Gap% for Top-3 Data Roles in US and EU',\n",
    "    xaxis_title='',\n",
    "    yaxis_title='Median Salary, EUR',\n",
    "    height=500,\n",
    "    legend=dict(title='Region'),\n",
    "    margin=dict(t=80)\n",
    ")\n",
    "\n",
    "fig3.show()"
   ]
  },
  {
   "cell_type": "markdown",
   "id": "54eb9ded",
   "metadata": {},
   "source": [
    "The salary gap between the US and EU is almost negligible for Data Analysts (1%), indicating this role is well-established and globally standardized in terms of expectations and compensation. However, the much larger gap for Data Scientists and especially Data Engineers suggests that the EU is still catching up in adopting advanced analytics and scaling data infrastructure."
   ]
  },
  {
   "cell_type": "code",
   "execution_count": 13,
   "id": "1e19d1ac",
   "metadata": {},
   "outputs": [
    {
     "data": {
      "application/vnd.plotly.v1+json": {
       "config": {
        "plotlyServerURL": "https://plot.ly"
       },
       "data": [
        {
         "colorbar": {
          "title": {
           "text": "EUR"
          }
         },
         "colorscale": [
          [
           0,
           "rgb(247,251,255)"
          ],
          [
           0.125,
           "rgb(222,235,247)"
          ],
          [
           0.25,
           "rgb(198,219,239)"
          ],
          [
           0.375,
           "rgb(158,202,225)"
          ],
          [
           0.5,
           "rgb(107,174,214)"
          ],
          [
           0.625,
           "rgb(66,146,198)"
          ],
          [
           0.75,
           "rgb(33,113,181)"
          ],
          [
           0.875,
           "rgb(8,81,156)"
          ],
          [
           1,
           "rgb(8,48,107)"
          ]
         ],
         "locationmode": "ISO-3",
         "locations": [
          "AUT",
          "BEL",
          "BGR",
          "HRV",
          "CYP",
          "DNK",
          "EST",
          "FIN",
          "FRA",
          "DEU",
          "GRC",
          "HUN",
          "IRL",
          "ITA",
          "LVA",
          "LTU",
          "LUX",
          "MLT",
          "NLD",
          "POL",
          "PRT",
          "ROU",
          "ESP",
          "SWE"
         ],
         "name": "Data Analyst",
         "text": [
          "Austria",
          "Belgium",
          "Bulgaria",
          "Croatia",
          "Cyprus",
          "Denmark",
          "Estonia",
          "Finland",
          "France",
          "Germany",
          "Greece",
          "Hungary",
          "Ireland",
          "Italy",
          "Latvia",
          "Lithuania",
          "Luxembourg",
          "Malta",
          "Netherlands",
          "Poland",
          "Portugal",
          "Romania",
          "Spain",
          "Sweden"
         ],
         "type": "choropleth",
         "visible": true,
         "z": {
          "bdata": "9ihcjwKrtkAK16Nwfdu1QFyPwvWoFr1A4XoUrkfLr0DD9ShcD5usQGZmZmYm+7hA4XoUrkfLr0DhehSuB5+9QMP1KFwPH7BAcT0K12MtvEAK16NwneW7QPYoXI8Cq7ZArkfhehTTt0Bcj8L1KLqtQOF6FK5Hy69AcT0K12MtvEAK16NwPSawQD0K16PwvLxAhetRuJ4CuUBmZmZmJvu4QGZmZmYm+7hA61G4HmVwtEBmZmZmpsm5QML1KFxPZb5A",
          "dtype": "f8"
         },
         "zmax": 13709.02,
         "zmin": 3661.53
        },
        {
         "colorbar": {
          "title": {
           "text": "EUR"
          }
         },
         "colorscale": [
          [
           0,
           "rgb(247,251,255)"
          ],
          [
           0.125,
           "rgb(222,235,247)"
          ],
          [
           0.25,
           "rgb(198,219,239)"
          ],
          [
           0.375,
           "rgb(158,202,225)"
          ],
          [
           0.5,
           "rgb(107,174,214)"
          ],
          [
           0.625,
           "rgb(66,146,198)"
          ],
          [
           0.75,
           "rgb(33,113,181)"
          ],
          [
           0.875,
           "rgb(8,81,156)"
          ],
          [
           1,
           "rgb(8,48,107)"
          ]
         ],
         "locationmode": "ISO-3",
         "locations": [
          "AUT",
          "BEL",
          "BGR",
          "HRV",
          "CYP",
          "DNK",
          "EST",
          "FIN",
          "FRA",
          "DEU",
          "GRC",
          "HUN",
          "IRL",
          "ITA",
          "LVA",
          "LTU",
          "LUX",
          "MLT",
          "NLD",
          "POL",
          "PRT",
          "ROU",
          "SVK",
          "SVN",
          "ESP",
          "SWE"
         ],
         "name": "Data Engineer",
         "text": [
          "Austria",
          "Belgium",
          "Bulgaria",
          "Croatia",
          "Cyprus",
          "Denmark",
          "Estonia",
          "Finland",
          "France",
          "Germany",
          "Greece",
          "Hungary",
          "Ireland",
          "Italy",
          "Latvia",
          "Lithuania",
          "Luxembourg",
          "Malta",
          "Netherlands",
          "Poland",
          "Portugal",
          "Romania",
          "Slovakia",
          "Slovenia",
          "Spain",
          "Sweden"
         ],
         "type": "choropleth",
         "visible": false,
         "z": {
          "bdata": "4XoUrmetxECkcD0Kl4+7QIXrUbiuUsRAKVyPwvU5u0Bcj8L1CKXCQI/C9SgsH8FA4XoUrmfkv0B7FK5H4SG7QKRwPQqXj7tA4XoUrmetxEB7FK5H4SG7QOF6FK5nrcRA4XoUrmetxEDXo3A9ClK7QHsUrkfhIbtAj8L1KCwfwUBmZmZmJvu4QPYoXI8Cq7ZA16NwPQpSu0AUrkfh+rbCQJqZmZlJosFA9ihcj0KOu0DhehSuZ63EQML1KFzPKbZAXI/C9QilwkAUrkfh+rbCQA==",
          "dtype": "f8"
         },
         "zmax": 13709.02,
         "zmin": 3661.53
        },
        {
         "colorbar": {
          "title": {
           "text": "EUR"
          }
         },
         "colorscale": [
          [
           0,
           "rgb(247,251,255)"
          ],
          [
           0.125,
           "rgb(222,235,247)"
          ],
          [
           0.25,
           "rgb(198,219,239)"
          ],
          [
           0.375,
           "rgb(158,202,225)"
          ],
          [
           0.5,
           "rgb(107,174,214)"
          ],
          [
           0.625,
           "rgb(66,146,198)"
          ],
          [
           0.75,
           "rgb(33,113,181)"
          ],
          [
           0.875,
           "rgb(8,81,156)"
          ],
          [
           1,
           "rgb(8,48,107)"
          ]
         ],
         "locationmode": "ISO-3",
         "locations": [
          "AUT",
          "BEL",
          "BGR",
          "HRV",
          "CYP",
          "DNK",
          "EST",
          "FIN",
          "FRA",
          "DEU",
          "GRC",
          "HUN",
          "IRL",
          "ITA",
          "LTU",
          "LUX",
          "NLD",
          "POL",
          "PRT",
          "ROU",
          "SVK",
          "ESP",
          "SWE"
         ],
         "name": "Data Scientist",
         "text": [
          "Austria",
          "Belgium",
          "Bulgaria",
          "Croatia",
          "Cyprus",
          "Denmark",
          "Estonia",
          "Finland",
          "France",
          "Germany",
          "Greece",
          "Hungary",
          "Ireland",
          "Italy",
          "Lithuania",
          "Luxembourg",
          "Netherlands",
          "Poland",
          "Portugal",
          "Romania",
          "Slovakia",
          "Spain",
          "Sweden"
         ],
         "type": "choropleth",
         "visible": false,
         "z": {
          "bdata": "MzMzM/P5s0AK16Nw7UjBQOF6FK4Hl7hAzczMzHw3wUD2KFyPgsbKQI/C9Shcs75ApHA9ChcWwECF61G4LinAQHE9CtdjtbhAj8L1KFxxwkCF61G4fjO5QGZmZmYm+7hA9ihcj6KcvEDsUbgeRdi4QFK4HoVr58VA4XoUrkcUxkDhehSuRxTGQAAAAABgfMJA4XoUrtdgxUBxPQrXY/bAQHA9CtcTWcFAAAAAAIB6uEDhehSuRxTGQA==",
          "dtype": "f8"
         },
         "zmax": 13709.02,
         "zmin": 3661.53
        }
       ],
       "layout": {
        "geo": {
         "projection": {
          "type": "natural earth"
         },
         "scope": "europe",
         "showcoastlines": false,
         "showframe": false
        },
        "height": 600,
        "template": {
         "data": {
          "bar": [
           {
            "error_x": {
             "color": "#2a3f5f"
            },
            "error_y": {
             "color": "#2a3f5f"
            },
            "marker": {
             "line": {
              "color": "#E5ECF6",
              "width": 0.5
             },
             "pattern": {
              "fillmode": "overlay",
              "size": 10,
              "solidity": 0.2
             }
            },
            "type": "bar"
           }
          ],
          "barpolar": [
           {
            "marker": {
             "line": {
              "color": "#E5ECF6",
              "width": 0.5
             },
             "pattern": {
              "fillmode": "overlay",
              "size": 10,
              "solidity": 0.2
             }
            },
            "type": "barpolar"
           }
          ],
          "carpet": [
           {
            "aaxis": {
             "endlinecolor": "#2a3f5f",
             "gridcolor": "white",
             "linecolor": "white",
             "minorgridcolor": "white",
             "startlinecolor": "#2a3f5f"
            },
            "baxis": {
             "endlinecolor": "#2a3f5f",
             "gridcolor": "white",
             "linecolor": "white",
             "minorgridcolor": "white",
             "startlinecolor": "#2a3f5f"
            },
            "type": "carpet"
           }
          ],
          "choropleth": [
           {
            "colorbar": {
             "outlinewidth": 0,
             "ticks": ""
            },
            "type": "choropleth"
           }
          ],
          "contour": [
           {
            "colorbar": {
             "outlinewidth": 0,
             "ticks": ""
            },
            "colorscale": [
             [
              0,
              "#0d0887"
             ],
             [
              0.1111111111111111,
              "#46039f"
             ],
             [
              0.2222222222222222,
              "#7201a8"
             ],
             [
              0.3333333333333333,
              "#9c179e"
             ],
             [
              0.4444444444444444,
              "#bd3786"
             ],
             [
              0.5555555555555556,
              "#d8576b"
             ],
             [
              0.6666666666666666,
              "#ed7953"
             ],
             [
              0.7777777777777778,
              "#fb9f3a"
             ],
             [
              0.8888888888888888,
              "#fdca26"
             ],
             [
              1,
              "#f0f921"
             ]
            ],
            "type": "contour"
           }
          ],
          "contourcarpet": [
           {
            "colorbar": {
             "outlinewidth": 0,
             "ticks": ""
            },
            "type": "contourcarpet"
           }
          ],
          "heatmap": [
           {
            "colorbar": {
             "outlinewidth": 0,
             "ticks": ""
            },
            "colorscale": [
             [
              0,
              "#0d0887"
             ],
             [
              0.1111111111111111,
              "#46039f"
             ],
             [
              0.2222222222222222,
              "#7201a8"
             ],
             [
              0.3333333333333333,
              "#9c179e"
             ],
             [
              0.4444444444444444,
              "#bd3786"
             ],
             [
              0.5555555555555556,
              "#d8576b"
             ],
             [
              0.6666666666666666,
              "#ed7953"
             ],
             [
              0.7777777777777778,
              "#fb9f3a"
             ],
             [
              0.8888888888888888,
              "#fdca26"
             ],
             [
              1,
              "#f0f921"
             ]
            ],
            "type": "heatmap"
           }
          ],
          "histogram": [
           {
            "marker": {
             "pattern": {
              "fillmode": "overlay",
              "size": 10,
              "solidity": 0.2
             }
            },
            "type": "histogram"
           }
          ],
          "histogram2d": [
           {
            "colorbar": {
             "outlinewidth": 0,
             "ticks": ""
            },
            "colorscale": [
             [
              0,
              "#0d0887"
             ],
             [
              0.1111111111111111,
              "#46039f"
             ],
             [
              0.2222222222222222,
              "#7201a8"
             ],
             [
              0.3333333333333333,
              "#9c179e"
             ],
             [
              0.4444444444444444,
              "#bd3786"
             ],
             [
              0.5555555555555556,
              "#d8576b"
             ],
             [
              0.6666666666666666,
              "#ed7953"
             ],
             [
              0.7777777777777778,
              "#fb9f3a"
             ],
             [
              0.8888888888888888,
              "#fdca26"
             ],
             [
              1,
              "#f0f921"
             ]
            ],
            "type": "histogram2d"
           }
          ],
          "histogram2dcontour": [
           {
            "colorbar": {
             "outlinewidth": 0,
             "ticks": ""
            },
            "colorscale": [
             [
              0,
              "#0d0887"
             ],
             [
              0.1111111111111111,
              "#46039f"
             ],
             [
              0.2222222222222222,
              "#7201a8"
             ],
             [
              0.3333333333333333,
              "#9c179e"
             ],
             [
              0.4444444444444444,
              "#bd3786"
             ],
             [
              0.5555555555555556,
              "#d8576b"
             ],
             [
              0.6666666666666666,
              "#ed7953"
             ],
             [
              0.7777777777777778,
              "#fb9f3a"
             ],
             [
              0.8888888888888888,
              "#fdca26"
             ],
             [
              1,
              "#f0f921"
             ]
            ],
            "type": "histogram2dcontour"
           }
          ],
          "mesh3d": [
           {
            "colorbar": {
             "outlinewidth": 0,
             "ticks": ""
            },
            "type": "mesh3d"
           }
          ],
          "parcoords": [
           {
            "line": {
             "colorbar": {
              "outlinewidth": 0,
              "ticks": ""
             }
            },
            "type": "parcoords"
           }
          ],
          "pie": [
           {
            "automargin": true,
            "type": "pie"
           }
          ],
          "scatter": [
           {
            "fillpattern": {
             "fillmode": "overlay",
             "size": 10,
             "solidity": 0.2
            },
            "type": "scatter"
           }
          ],
          "scatter3d": [
           {
            "line": {
             "colorbar": {
              "outlinewidth": 0,
              "ticks": ""
             }
            },
            "marker": {
             "colorbar": {
              "outlinewidth": 0,
              "ticks": ""
             }
            },
            "type": "scatter3d"
           }
          ],
          "scattercarpet": [
           {
            "marker": {
             "colorbar": {
              "outlinewidth": 0,
              "ticks": ""
             }
            },
            "type": "scattercarpet"
           }
          ],
          "scattergeo": [
           {
            "marker": {
             "colorbar": {
              "outlinewidth": 0,
              "ticks": ""
             }
            },
            "type": "scattergeo"
           }
          ],
          "scattergl": [
           {
            "marker": {
             "colorbar": {
              "outlinewidth": 0,
              "ticks": ""
             }
            },
            "type": "scattergl"
           }
          ],
          "scattermap": [
           {
            "marker": {
             "colorbar": {
              "outlinewidth": 0,
              "ticks": ""
             }
            },
            "type": "scattermap"
           }
          ],
          "scattermapbox": [
           {
            "marker": {
             "colorbar": {
              "outlinewidth": 0,
              "ticks": ""
             }
            },
            "type": "scattermapbox"
           }
          ],
          "scatterpolar": [
           {
            "marker": {
             "colorbar": {
              "outlinewidth": 0,
              "ticks": ""
             }
            },
            "type": "scatterpolar"
           }
          ],
          "scatterpolargl": [
           {
            "marker": {
             "colorbar": {
              "outlinewidth": 0,
              "ticks": ""
             }
            },
            "type": "scatterpolargl"
           }
          ],
          "scatterternary": [
           {
            "marker": {
             "colorbar": {
              "outlinewidth": 0,
              "ticks": ""
             }
            },
            "type": "scatterternary"
           }
          ],
          "surface": [
           {
            "colorbar": {
             "outlinewidth": 0,
             "ticks": ""
            },
            "colorscale": [
             [
              0,
              "#0d0887"
             ],
             [
              0.1111111111111111,
              "#46039f"
             ],
             [
              0.2222222222222222,
              "#7201a8"
             ],
             [
              0.3333333333333333,
              "#9c179e"
             ],
             [
              0.4444444444444444,
              "#bd3786"
             ],
             [
              0.5555555555555556,
              "#d8576b"
             ],
             [
              0.6666666666666666,
              "#ed7953"
             ],
             [
              0.7777777777777778,
              "#fb9f3a"
             ],
             [
              0.8888888888888888,
              "#fdca26"
             ],
             [
              1,
              "#f0f921"
             ]
            ],
            "type": "surface"
           }
          ],
          "table": [
           {
            "cells": {
             "fill": {
              "color": "#EBF0F8"
             },
             "line": {
              "color": "white"
             }
            },
            "header": {
             "fill": {
              "color": "#C8D4E3"
             },
             "line": {
              "color": "white"
             }
            },
            "type": "table"
           }
          ]
         },
         "layout": {
          "annotationdefaults": {
           "arrowcolor": "#2a3f5f",
           "arrowhead": 0,
           "arrowwidth": 1
          },
          "autotypenumbers": "strict",
          "coloraxis": {
           "colorbar": {
            "outlinewidth": 0,
            "ticks": ""
           }
          },
          "colorscale": {
           "diverging": [
            [
             0,
             "#8e0152"
            ],
            [
             0.1,
             "#c51b7d"
            ],
            [
             0.2,
             "#de77ae"
            ],
            [
             0.3,
             "#f1b6da"
            ],
            [
             0.4,
             "#fde0ef"
            ],
            [
             0.5,
             "#f7f7f7"
            ],
            [
             0.6,
             "#e6f5d0"
            ],
            [
             0.7,
             "#b8e186"
            ],
            [
             0.8,
             "#7fbc41"
            ],
            [
             0.9,
             "#4d9221"
            ],
            [
             1,
             "#276419"
            ]
           ],
           "sequential": [
            [
             0,
             "#0d0887"
            ],
            [
             0.1111111111111111,
             "#46039f"
            ],
            [
             0.2222222222222222,
             "#7201a8"
            ],
            [
             0.3333333333333333,
             "#9c179e"
            ],
            [
             0.4444444444444444,
             "#bd3786"
            ],
            [
             0.5555555555555556,
             "#d8576b"
            ],
            [
             0.6666666666666666,
             "#ed7953"
            ],
            [
             0.7777777777777778,
             "#fb9f3a"
            ],
            [
             0.8888888888888888,
             "#fdca26"
            ],
            [
             1,
             "#f0f921"
            ]
           ],
           "sequentialminus": [
            [
             0,
             "#0d0887"
            ],
            [
             0.1111111111111111,
             "#46039f"
            ],
            [
             0.2222222222222222,
             "#7201a8"
            ],
            [
             0.3333333333333333,
             "#9c179e"
            ],
            [
             0.4444444444444444,
             "#bd3786"
            ],
            [
             0.5555555555555556,
             "#d8576b"
            ],
            [
             0.6666666666666666,
             "#ed7953"
            ],
            [
             0.7777777777777778,
             "#fb9f3a"
            ],
            [
             0.8888888888888888,
             "#fdca26"
            ],
            [
             1,
             "#f0f921"
            ]
           ]
          },
          "colorway": [
           "#636efa",
           "#EF553B",
           "#00cc96",
           "#ab63fa",
           "#FFA15A",
           "#19d3f3",
           "#FF6692",
           "#B6E880",
           "#FF97FF",
           "#FECB52"
          ],
          "font": {
           "color": "#2a3f5f"
          },
          "geo": {
           "bgcolor": "white",
           "lakecolor": "white",
           "landcolor": "#E5ECF6",
           "showlakes": true,
           "showland": true,
           "subunitcolor": "white"
          },
          "hoverlabel": {
           "align": "left"
          },
          "hovermode": "closest",
          "mapbox": {
           "style": "light"
          },
          "paper_bgcolor": "white",
          "plot_bgcolor": "#E5ECF6",
          "polar": {
           "angularaxis": {
            "gridcolor": "white",
            "linecolor": "white",
            "ticks": ""
           },
           "bgcolor": "#E5ECF6",
           "radialaxis": {
            "gridcolor": "white",
            "linecolor": "white",
            "ticks": ""
           }
          },
          "scene": {
           "xaxis": {
            "backgroundcolor": "#E5ECF6",
            "gridcolor": "white",
            "gridwidth": 2,
            "linecolor": "white",
            "showbackground": true,
            "ticks": "",
            "zerolinecolor": "white"
           },
           "yaxis": {
            "backgroundcolor": "#E5ECF6",
            "gridcolor": "white",
            "gridwidth": 2,
            "linecolor": "white",
            "showbackground": true,
            "ticks": "",
            "zerolinecolor": "white"
           },
           "zaxis": {
            "backgroundcolor": "#E5ECF6",
            "gridcolor": "white",
            "gridwidth": 2,
            "linecolor": "white",
            "showbackground": true,
            "ticks": "",
            "zerolinecolor": "white"
           }
          },
          "shapedefaults": {
           "line": {
            "color": "#2a3f5f"
           }
          },
          "ternary": {
           "aaxis": {
            "gridcolor": "white",
            "linecolor": "white",
            "ticks": ""
           },
           "baxis": {
            "gridcolor": "white",
            "linecolor": "white",
            "ticks": ""
           },
           "bgcolor": "#E5ECF6",
           "caxis": {
            "gridcolor": "white",
            "linecolor": "white",
            "ticks": ""
           }
          },
          "title": {
           "x": 0.05
          },
          "xaxis": {
           "automargin": true,
           "gridcolor": "white",
           "linecolor": "white",
           "ticks": "",
           "title": {
            "standoff": 15
           },
           "zerolinecolor": "white",
           "zerolinewidth": 2
          },
          "yaxis": {
           "automargin": true,
           "gridcolor": "white",
           "linecolor": "white",
           "ticks": "",
           "title": {
            "standoff": 15
           },
           "zerolinecolor": "white",
           "zerolinewidth": 2
          }
         }
        },
        "title": {
         "text": "Median Monthly Salary in EU — Data Analyst",
         "x": 0.5,
         "xanchor": "center",
         "y": 0.92
        },
        "updatemenus": [
         {
          "buttons": [
           {
            "args": [
             {
              "visible": [
               true,
               false,
               false
              ]
             },
             {
              "title": "Median Monthly Salary in EU — Data Analyst"
             }
            ],
            "label": "Data Analyst",
            "method": "update"
           },
           {
            "args": [
             {
              "visible": [
               false,
               true,
               false
              ]
             },
             {
              "title": "Median Monthly Salary in EU — Data Engineer"
             }
            ],
            "label": "Data Engineer",
            "method": "update"
           },
           {
            "args": [
             {
              "visible": [
               false,
               false,
               true
              ]
             },
             {
              "title": "Median Monthly Salary in EU — Data Scientist"
             }
            ],
            "label": "Data Scientist",
            "method": "update"
           }
          ],
          "direction": "right",
          "pad": {
           "r": 10,
           "t": 10
          },
          "type": "buttons",
          "x": 0.5,
          "xanchor": "center",
          "y": 1.05,
          "yanchor": "top"
         }
        ]
       }
      }
     },
     "metadata": {},
     "output_type": "display_data"
    }
   ],
   "source": [
    "# Prepare dataset for ploting map\n",
    "df_map = df_eu_top.groupby(['job_country', 'job_title_short'])['salary_month_avg_eur'].median().reset_index()\n",
    "\n",
    "df_iso_lookup = df_eu_top[['job_country', 'ISO']].drop_duplicates()\n",
    "df_map = df_map.merge(df_iso_lookup, on='job_country', how='left')\n",
    "df_map.rename(columns={'ISO': 'iso_alpha'}, inplace=True)\n",
    "df_map = df_map.dropna(subset=['iso_alpha'])\n",
    "\n",
    "# Prepare traces for each role (Data Analyst, Scientist, Engineer)\n",
    "fig4 = go.Figure()\n",
    "\n",
    "job_titles = df_map['job_title_short'].unique()\n",
    "\n",
    "for role in job_titles:\n",
    "    df_role = df_map[df_map['job_title_short'] == role]\n",
    "    fig4.add_trace(go.Choropleth(\n",
    "        locations=df_role['iso_alpha'],\n",
    "        z=df_role['salary_month_avg_eur'],\n",
    "        text=df_role['job_country'],\n",
    "        colorscale='Blues',\n",
    "        colorbar_title='EUR',\n",
    "        zmin=df_map['salary_month_avg_eur'].min(),\n",
    "        zmax=df_map['salary_month_avg_eur'].max(),\n",
    "        visible=(role == job_titles[0]),\n",
    "        name=role,\n",
    "        locationmode='ISO-3'\n",
    "    ))\n",
    "\n",
    "# Side-by-side toggle buttons\n",
    "buttons = [\n",
    "    {\n",
    "        'label': role,\n",
    "        'method': 'update',\n",
    "        'args': [\n",
    "            {'visible': [r == role for r in job_titles]},\n",
    "            {'title': f'Median Monthly Salary in EU — {role}'}\n",
    "        ]\n",
    "    }\n",
    "    for role in job_titles\n",
    "]\n",
    "\n",
    "# Layout with buttons above the plot\n",
    "fig4.update_layout(\n",
    "    title=dict(\n",
    "        text=f'Median Monthly Salary in EU — {job_titles[0]}',\n",
    "        y=0.92,  # move title up to make space\n",
    "        x=0.5,\n",
    "        xanchor='center'\n",
    "    ),\n",
    "    geo=dict(\n",
    "        showframe=False,\n",
    "        showcoastlines=False,\n",
    "        projection_type='natural earth',\n",
    "        scope='europe'\n",
    "    ),\n",
    "    height=600,\n",
    "    updatemenus=[{\n",
    "        'type': 'buttons',\n",
    "        'buttons': buttons,\n",
    "        'direction': 'right',\n",
    "        'pad': {'r': 10, 't': 10},\n",
    "        'x': 0.5,\n",
    "        'xanchor': 'center',\n",
    "        'y': 1.05,\n",
    "        'yanchor': 'top'\n",
    "    }]\n",
    ")\n",
    "\n",
    "fig4.show()"
   ]
  },
  {
   "cell_type": "markdown",
   "id": "75a5c5c4",
   "metadata": {},
   "source": [
    "This is an additional interactive map showing salaries by European countries for the top 3 in-demand roles. The highest salaries are found in Cyprus, Sweden, and the Netherlands. Cyprus stands out due to favorable conditions for registering companies, making it a profitable location for business. Meanwhile, Sweden and the Netherlands host many global companies such as Spotify, Netflix, and H&M, which contributes to higher salary levels in these countries."
   ]
  },
  {
   "cell_type": "code",
   "execution_count": 10,
   "id": "9dfb9abe",
   "metadata": {},
   "outputs": [
    {
     "name": "stdout",
     "output_type": "stream",
     "text": [
      "Top 3 countries by median Data Scientist salary: ['Cyprus', 'Sweden', 'Netherlands']\n",
      "            company_name  job_country  salary_month_avg_eur\n",
      "15                 Palta       Cyprus               13709.0\n",
      "10                   ING  Netherlands               12243.0\n",
      "7               Elsevier  Netherlands               12238.0\n",
      "0                  Adyen  Netherlands               11305.0\n",
      "16               Spotify       Sweden               11305.0\n",
      "17        Syngenta Group  Netherlands               11305.0\n",
      "1         Avery Dennison  Netherlands               11305.0\n",
      "6       Dun & Bradstreet       Sweden               11305.0\n",
      "14               Netflix  Netherlands               11305.0\n",
      "18            Vattenfall  Netherlands               11305.0\n",
      "9              H&M Group       Sweden               10407.0\n",
      "3       Creative Fabrica  Netherlands               10374.0\n",
      "13                  Miro  Netherlands                8491.0\n",
      "11  JACOBS DOUWE EGBERTS  Netherlands                7859.0\n",
      "2               Blend360  Netherlands                7558.0\n"
     ]
    }
   ],
   "source": [
    "df_ds = df_eu_top[df_eu_top['job_title_short'] == 'Data Scientist'].copy()\n",
    "\n",
    "top3_countries = (\n",
    "    df_ds.groupby('job_country')['salary_month_avg_eur']\n",
    "    .median()\n",
    "    .sort_values(ascending=False)\n",
    "    .head(3)\n",
    "    .index.tolist()\n",
    ")\n",
    "\n",
    "ds_top_countries = df_ds[df_ds['job_country'].isin(top3_countries)]\n",
    "\n",
    "# Median salary per company in those countries\n",
    "company_medians = (\n",
    "    ds_top_countries.groupby(['company_name', 'job_country'])['salary_month_avg_eur']\n",
    "    .median()\n",
    "    .reset_index()\n",
    "    .sort_values(by='salary_month_avg_eur', ascending=False)\n",
    "    .round(0)\n",
    ")\n",
    "\n",
    "print(\"Top 3 countries by median Data Scientist salary:\", top3_countries)\n",
    "print(company_medians.head(15))"
   ]
  },
  {
   "cell_type": "code",
   "execution_count": null,
   "id": "617126a0",
   "metadata": {},
   "outputs": [],
   "source": []
  }
 ],
 "metadata": {
  "kernelspec": {
   "display_name": "data_jobs",
   "language": "python",
   "name": "python3"
  },
  "language_info": {
   "codemirror_mode": {
    "name": "ipython",
    "version": 3
   },
   "file_extension": ".py",
   "mimetype": "text/x-python",
   "name": "python",
   "nbconvert_exporter": "python",
   "pygments_lexer": "ipython3",
   "version": "3.11.11"
  }
 },
 "nbformat": 4,
 "nbformat_minor": 5
}
