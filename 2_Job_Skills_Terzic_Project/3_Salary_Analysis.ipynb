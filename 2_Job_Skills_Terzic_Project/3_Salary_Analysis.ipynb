{
 "cells": [
  {
   "cell_type": "markdown",
   "id": "c711c70d",
   "metadata": {},
   "source": [
    "## How well are top data roles paid in Europe, and which roles have future growth potential?\n",
    "This section analyzes salary trends for the most in-demand data roles, with a focus on European markets, and includes:\n",
    "- Global salary distribution across data roles\n",
    "- Salary distributions for Top-3 Data Roles in Europe\n",
    "- Salary gap percentages for these roles between the US and the EU\n",
    "- An interactive map visualizing median salaries for these roles across European countries"
   ]
  },
  {
   "cell_type": "markdown",
   "id": "9f1cf94c",
   "metadata": {},
   "source": [
    "### Import Libraries"
   ]
  },
  {
   "cell_type": "code",
   "execution_count": 20,
   "id": "edcd26c5",
   "metadata": {},
   "outputs": [],
   "source": [
    "from pathlib import Path\n",
    "\n",
    "import pandas as pd\n",
    "import plotly.express as px\n",
    "import plotly.graph_objects as go"
   ]
  },
  {
   "cell_type": "markdown",
   "id": "54ae91a0",
   "metadata": {},
   "source": [
    "### Load Cleaned Dataset"
   ]
  },
  {
   "cell_type": "code",
   "execution_count": 21,
   "id": "df915008",
   "metadata": {},
   "outputs": [],
   "source": [
    "df = pd.read_csv(Path.cwd().parents[1] / \"Raw_Data\" / 'df_Final.csv')"
   ]
  },
  {
   "cell_type": "markdown",
   "id": "b26a7308",
   "metadata": {},
   "source": [
    "### Remove Salary Outliers\n",
    "During the exploratory analysis, we identified unusually high salaries in countries with very few job postings. These outliers may result from salaries listed in local currencies, company registration addresses being used instead of actual job locations, or other inconsistencies.\n",
    "\n",
    "Action Taken:\n",
    "- Outliers were removed per job title and country to preserve meaningful comparisons.\n",
    "- For countries with fewer than 5 postings, outliers were removed based on job title only to avoid skewed insights from limited data."
   ]
  },
  {
   "cell_type": "code",
   "execution_count": 22,
   "id": "9026ce4f",
   "metadata": {},
   "outputs": [
    {
     "name": "stdout",
     "output_type": "stream",
     "text": [
      "Original dataset size: 22002\n",
      "Filtered dataset size: 21309\n"
     ]
    }
   ],
   "source": [
    "#Calculate global IQR\n",
    "Q1_global = df['salary_month_avg_eur'].quantile(0.25)\n",
    "Q3_global = df['salary_month_avg_eur'].quantile(0.75)\n",
    "IQR_global = Q3_global - Q1_global\n",
    "lower_bound_global = Q1_global - 1.5 * IQR_global\n",
    "upper_bound_global = Q3_global + 1.5 * IQR_global\n",
    "\n",
    "#Build list to collect filtered results\n",
    "filtered_groups = []\n",
    "\n",
    "#Iterate over groups\n",
    "for (country, title), group in df.groupby(['job_country', 'job_title_short']):\n",
    "    if len(group) >= 5:\n",
    "        Q1 = group['salary_month_avg_eur'].quantile(0.25)\n",
    "        Q3 = group['salary_month_avg_eur'].quantile(0.75)\n",
    "        IQR = Q3 - Q1\n",
    "        lower = Q1 - 1.5 * IQR\n",
    "        upper = Q3 + 1.5 * IQR\n",
    "    else:\n",
    "        lower = lower_bound_global\n",
    "        upper = upper_bound_global\n",
    "\n",
    "    filtered = group[\n",
    "        (group['salary_month_avg_eur'] >= lower) &\n",
    "        (group['salary_month_avg_eur'] <= upper)\n",
    "    ]\n",
    "    filtered_groups.append(filtered)\n",
    "\n",
    "# Combine all groups back\n",
    "df_filtered = pd.concat(filtered_groups, ignore_index=True)\n",
    "\n",
    "print(f\"Original dataset size: {len(df)}\")\n",
    "print(f\"Filtered dataset size: {len(df_filtered)}\")"
   ]
  },
  {
   "cell_type": "markdown",
   "id": "516d4258",
   "metadata": {},
   "source": [
    "### Global salary distribution across data roles\n",
    "To understand overall salary positioning, we start by comparing the **global median monthly salaries** for each role. This helps compare the relative earning power of each job title before diving into regional details."
   ]
  },
  {
   "cell_type": "code",
   "execution_count": 23,
   "id": "850b1812",
   "metadata": {},
   "outputs": [
    {
     "data": {
      "application/vnd.plotly.v1+json": {
       "config": {
        "plotlyServerURL": "https://plot.ly"
       },
       "data": [
        {
         "hovertemplate": "Median Salary, EUR=%{x}<br>job_title_short=%{y}<br>text=%{text}<extra></extra>",
         "insidetextanchor": "middle",
         "legendgroup": "",
         "marker": {
          "color": "#5DADE2",
          "pattern": {
           "shape": ""
          }
         },
         "name": "",
         "orientation": "h",
         "showlegend": false,
         "text": {
          "bdata": "rkfhetSEt0AAAAAAQKe4QAAAAAAA57hAzczMzMxAu0AAAAAAgA29QGZmZmbmwr5AKVyPwhVLwUApXI/CFUvBQClcj8L1Z8RAFK5H4bpoxUA=",
          "dtype": "f8"
         },
         "textposition": "inside",
         "texttemplate": "%{text:.0f}",
         "type": "bar",
         "x": {
          "bdata": "rkfhetSEt0AAAAAAQKe4QAAAAAAA57hAzczMzMxAu0AAAAAAgA29QGZmZmbmwr5AKVyPwhVLwUApXI/CFUvBQClcj8L1Z8RAFK5H4bpoxUA=",
          "dtype": "f8"
         },
         "xaxis": "x",
         "y": [
          "Business Analyst",
          "Cloud Engineer",
          "Data Analyst",
          "Software Engineer",
          "Machine Learning Engineer",
          "Senior Data Analyst",
          "Data Scientist",
          "Data Engineer",
          "Senior Data Engineer",
          "Senior Data Scientist"
         ],
         "yaxis": "y"
        }
       ],
       "layout": {
        "barmode": "relative",
        "legend": {
         "tracegroupgap": 0
        },
        "showlegend": false,
        "template": {
         "data": {
          "bar": [
           {
            "error_x": {
             "color": "#2a3f5f"
            },
            "error_y": {
             "color": "#2a3f5f"
            },
            "marker": {
             "line": {
              "color": "#E5ECF6",
              "width": 0.5
             },
             "pattern": {
              "fillmode": "overlay",
              "size": 10,
              "solidity": 0.2
             }
            },
            "type": "bar"
           }
          ],
          "barpolar": [
           {
            "marker": {
             "line": {
              "color": "#E5ECF6",
              "width": 0.5
             },
             "pattern": {
              "fillmode": "overlay",
              "size": 10,
              "solidity": 0.2
             }
            },
            "type": "barpolar"
           }
          ],
          "carpet": [
           {
            "aaxis": {
             "endlinecolor": "#2a3f5f",
             "gridcolor": "white",
             "linecolor": "white",
             "minorgridcolor": "white",
             "startlinecolor": "#2a3f5f"
            },
            "baxis": {
             "endlinecolor": "#2a3f5f",
             "gridcolor": "white",
             "linecolor": "white",
             "minorgridcolor": "white",
             "startlinecolor": "#2a3f5f"
            },
            "type": "carpet"
           }
          ],
          "choropleth": [
           {
            "colorbar": {
             "outlinewidth": 0,
             "ticks": ""
            },
            "type": "choropleth"
           }
          ],
          "contour": [
           {
            "colorbar": {
             "outlinewidth": 0,
             "ticks": ""
            },
            "colorscale": [
             [
              0,
              "#0d0887"
             ],
             [
              0.1111111111111111,
              "#46039f"
             ],
             [
              0.2222222222222222,
              "#7201a8"
             ],
             [
              0.3333333333333333,
              "#9c179e"
             ],
             [
              0.4444444444444444,
              "#bd3786"
             ],
             [
              0.5555555555555556,
              "#d8576b"
             ],
             [
              0.6666666666666666,
              "#ed7953"
             ],
             [
              0.7777777777777778,
              "#fb9f3a"
             ],
             [
              0.8888888888888888,
              "#fdca26"
             ],
             [
              1,
              "#f0f921"
             ]
            ],
            "type": "contour"
           }
          ],
          "contourcarpet": [
           {
            "colorbar": {
             "outlinewidth": 0,
             "ticks": ""
            },
            "type": "contourcarpet"
           }
          ],
          "heatmap": [
           {
            "colorbar": {
             "outlinewidth": 0,
             "ticks": ""
            },
            "colorscale": [
             [
              0,
              "#0d0887"
             ],
             [
              0.1111111111111111,
              "#46039f"
             ],
             [
              0.2222222222222222,
              "#7201a8"
             ],
             [
              0.3333333333333333,
              "#9c179e"
             ],
             [
              0.4444444444444444,
              "#bd3786"
             ],
             [
              0.5555555555555556,
              "#d8576b"
             ],
             [
              0.6666666666666666,
              "#ed7953"
             ],
             [
              0.7777777777777778,
              "#fb9f3a"
             ],
             [
              0.8888888888888888,
              "#fdca26"
             ],
             [
              1,
              "#f0f921"
             ]
            ],
            "type": "heatmap"
           }
          ],
          "histogram": [
           {
            "marker": {
             "pattern": {
              "fillmode": "overlay",
              "size": 10,
              "solidity": 0.2
             }
            },
            "type": "histogram"
           }
          ],
          "histogram2d": [
           {
            "colorbar": {
             "outlinewidth": 0,
             "ticks": ""
            },
            "colorscale": [
             [
              0,
              "#0d0887"
             ],
             [
              0.1111111111111111,
              "#46039f"
             ],
             [
              0.2222222222222222,
              "#7201a8"
             ],
             [
              0.3333333333333333,
              "#9c179e"
             ],
             [
              0.4444444444444444,
              "#bd3786"
             ],
             [
              0.5555555555555556,
              "#d8576b"
             ],
             [
              0.6666666666666666,
              "#ed7953"
             ],
             [
              0.7777777777777778,
              "#fb9f3a"
             ],
             [
              0.8888888888888888,
              "#fdca26"
             ],
             [
              1,
              "#f0f921"
             ]
            ],
            "type": "histogram2d"
           }
          ],
          "histogram2dcontour": [
           {
            "colorbar": {
             "outlinewidth": 0,
             "ticks": ""
            },
            "colorscale": [
             [
              0,
              "#0d0887"
             ],
             [
              0.1111111111111111,
              "#46039f"
             ],
             [
              0.2222222222222222,
              "#7201a8"
             ],
             [
              0.3333333333333333,
              "#9c179e"
             ],
             [
              0.4444444444444444,
              "#bd3786"
             ],
             [
              0.5555555555555556,
              "#d8576b"
             ],
             [
              0.6666666666666666,
              "#ed7953"
             ],
             [
              0.7777777777777778,
              "#fb9f3a"
             ],
             [
              0.8888888888888888,
              "#fdca26"
             ],
             [
              1,
              "#f0f921"
             ]
            ],
            "type": "histogram2dcontour"
           }
          ],
          "mesh3d": [
           {
            "colorbar": {
             "outlinewidth": 0,
             "ticks": ""
            },
            "type": "mesh3d"
           }
          ],
          "parcoords": [
           {
            "line": {
             "colorbar": {
              "outlinewidth": 0,
              "ticks": ""
             }
            },
            "type": "parcoords"
           }
          ],
          "pie": [
           {
            "automargin": true,
            "type": "pie"
           }
          ],
          "scatter": [
           {
            "fillpattern": {
             "fillmode": "overlay",
             "size": 10,
             "solidity": 0.2
            },
            "type": "scatter"
           }
          ],
          "scatter3d": [
           {
            "line": {
             "colorbar": {
              "outlinewidth": 0,
              "ticks": ""
             }
            },
            "marker": {
             "colorbar": {
              "outlinewidth": 0,
              "ticks": ""
             }
            },
            "type": "scatter3d"
           }
          ],
          "scattercarpet": [
           {
            "marker": {
             "colorbar": {
              "outlinewidth": 0,
              "ticks": ""
             }
            },
            "type": "scattercarpet"
           }
          ],
          "scattergeo": [
           {
            "marker": {
             "colorbar": {
              "outlinewidth": 0,
              "ticks": ""
             }
            },
            "type": "scattergeo"
           }
          ],
          "scattergl": [
           {
            "marker": {
             "colorbar": {
              "outlinewidth": 0,
              "ticks": ""
             }
            },
            "type": "scattergl"
           }
          ],
          "scattermap": [
           {
            "marker": {
             "colorbar": {
              "outlinewidth": 0,
              "ticks": ""
             }
            },
            "type": "scattermap"
           }
          ],
          "scattermapbox": [
           {
            "marker": {
             "colorbar": {
              "outlinewidth": 0,
              "ticks": ""
             }
            },
            "type": "scattermapbox"
           }
          ],
          "scatterpolar": [
           {
            "marker": {
             "colorbar": {
              "outlinewidth": 0,
              "ticks": ""
             }
            },
            "type": "scatterpolar"
           }
          ],
          "scatterpolargl": [
           {
            "marker": {
             "colorbar": {
              "outlinewidth": 0,
              "ticks": ""
             }
            },
            "type": "scatterpolargl"
           }
          ],
          "scatterternary": [
           {
            "marker": {
             "colorbar": {
              "outlinewidth": 0,
              "ticks": ""
             }
            },
            "type": "scatterternary"
           }
          ],
          "surface": [
           {
            "colorbar": {
             "outlinewidth": 0,
             "ticks": ""
            },
            "colorscale": [
             [
              0,
              "#0d0887"
             ],
             [
              0.1111111111111111,
              "#46039f"
             ],
             [
              0.2222222222222222,
              "#7201a8"
             ],
             [
              0.3333333333333333,
              "#9c179e"
             ],
             [
              0.4444444444444444,
              "#bd3786"
             ],
             [
              0.5555555555555556,
              "#d8576b"
             ],
             [
              0.6666666666666666,
              "#ed7953"
             ],
             [
              0.7777777777777778,
              "#fb9f3a"
             ],
             [
              0.8888888888888888,
              "#fdca26"
             ],
             [
              1,
              "#f0f921"
             ]
            ],
            "type": "surface"
           }
          ],
          "table": [
           {
            "cells": {
             "fill": {
              "color": "#EBF0F8"
             },
             "line": {
              "color": "white"
             }
            },
            "header": {
             "fill": {
              "color": "#C8D4E3"
             },
             "line": {
              "color": "white"
             }
            },
            "type": "table"
           }
          ]
         },
         "layout": {
          "annotationdefaults": {
           "arrowcolor": "#2a3f5f",
           "arrowhead": 0,
           "arrowwidth": 1
          },
          "autotypenumbers": "strict",
          "coloraxis": {
           "colorbar": {
            "outlinewidth": 0,
            "ticks": ""
           }
          },
          "colorscale": {
           "diverging": [
            [
             0,
             "#8e0152"
            ],
            [
             0.1,
             "#c51b7d"
            ],
            [
             0.2,
             "#de77ae"
            ],
            [
             0.3,
             "#f1b6da"
            ],
            [
             0.4,
             "#fde0ef"
            ],
            [
             0.5,
             "#f7f7f7"
            ],
            [
             0.6,
             "#e6f5d0"
            ],
            [
             0.7,
             "#b8e186"
            ],
            [
             0.8,
             "#7fbc41"
            ],
            [
             0.9,
             "#4d9221"
            ],
            [
             1,
             "#276419"
            ]
           ],
           "sequential": [
            [
             0,
             "#0d0887"
            ],
            [
             0.1111111111111111,
             "#46039f"
            ],
            [
             0.2222222222222222,
             "#7201a8"
            ],
            [
             0.3333333333333333,
             "#9c179e"
            ],
            [
             0.4444444444444444,
             "#bd3786"
            ],
            [
             0.5555555555555556,
             "#d8576b"
            ],
            [
             0.6666666666666666,
             "#ed7953"
            ],
            [
             0.7777777777777778,
             "#fb9f3a"
            ],
            [
             0.8888888888888888,
             "#fdca26"
            ],
            [
             1,
             "#f0f921"
            ]
           ],
           "sequentialminus": [
            [
             0,
             "#0d0887"
            ],
            [
             0.1111111111111111,
             "#46039f"
            ],
            [
             0.2222222222222222,
             "#7201a8"
            ],
            [
             0.3333333333333333,
             "#9c179e"
            ],
            [
             0.4444444444444444,
             "#bd3786"
            ],
            [
             0.5555555555555556,
             "#d8576b"
            ],
            [
             0.6666666666666666,
             "#ed7953"
            ],
            [
             0.7777777777777778,
             "#fb9f3a"
            ],
            [
             0.8888888888888888,
             "#fdca26"
            ],
            [
             1,
             "#f0f921"
            ]
           ]
          },
          "colorway": [
           "#636efa",
           "#EF553B",
           "#00cc96",
           "#ab63fa",
           "#FFA15A",
           "#19d3f3",
           "#FF6692",
           "#B6E880",
           "#FF97FF",
           "#FECB52"
          ],
          "font": {
           "color": "#2a3f5f"
          },
          "geo": {
           "bgcolor": "white",
           "lakecolor": "white",
           "landcolor": "#E5ECF6",
           "showlakes": true,
           "showland": true,
           "subunitcolor": "white"
          },
          "hoverlabel": {
           "align": "left"
          },
          "hovermode": "closest",
          "mapbox": {
           "style": "light"
          },
          "paper_bgcolor": "white",
          "plot_bgcolor": "#E5ECF6",
          "polar": {
           "angularaxis": {
            "gridcolor": "white",
            "linecolor": "white",
            "ticks": ""
           },
           "bgcolor": "#E5ECF6",
           "radialaxis": {
            "gridcolor": "white",
            "linecolor": "white",
            "ticks": ""
           }
          },
          "scene": {
           "xaxis": {
            "backgroundcolor": "#E5ECF6",
            "gridcolor": "white",
            "gridwidth": 2,
            "linecolor": "white",
            "showbackground": true,
            "ticks": "",
            "zerolinecolor": "white"
           },
           "yaxis": {
            "backgroundcolor": "#E5ECF6",
            "gridcolor": "white",
            "gridwidth": 2,
            "linecolor": "white",
            "showbackground": true,
            "ticks": "",
            "zerolinecolor": "white"
           },
           "zaxis": {
            "backgroundcolor": "#E5ECF6",
            "gridcolor": "white",
            "gridwidth": 2,
            "linecolor": "white",
            "showbackground": true,
            "ticks": "",
            "zerolinecolor": "white"
           }
          },
          "shapedefaults": {
           "line": {
            "color": "#2a3f5f"
           }
          },
          "ternary": {
           "aaxis": {
            "gridcolor": "white",
            "linecolor": "white",
            "ticks": ""
           },
           "baxis": {
            "gridcolor": "white",
            "linecolor": "white",
            "ticks": ""
           },
           "bgcolor": "#E5ECF6",
           "caxis": {
            "gridcolor": "white",
            "linecolor": "white",
            "ticks": ""
           }
          },
          "title": {
           "x": 0.05
          },
          "xaxis": {
           "automargin": true,
           "gridcolor": "white",
           "linecolor": "white",
           "ticks": "",
           "title": {
            "standoff": 15
           },
           "zerolinecolor": "white",
           "zerolinewidth": 2
          },
          "yaxis": {
           "automargin": true,
           "gridcolor": "white",
           "linecolor": "white",
           "ticks": "",
           "title": {
            "standoff": 15
           },
           "zerolinecolor": "white",
           "zerolinewidth": 2
          }
         }
        },
        "title": {
         "text": "Global Median Salary by Job Title"
        },
        "xaxis": {
         "anchor": "y",
         "domain": [
          0,
          1
         ],
         "title": {
          "text": "Median Salary, EUR"
         }
        },
        "yaxis": {
         "anchor": "x",
         "domain": [
          0,
          1
         ],
         "title": {
          "text": ""
         }
        }
       }
      }
     },
     "metadata": {},
     "output_type": "display_data"
    }
   ],
   "source": [
    "median_salary = df_filtered.groupby('job_title_short')['salary_month_avg_eur'].median().sort_values()\n",
    "\n",
    "fig1 = px.bar(\n",
    "    median_salary,\n",
    "    x=median_salary.values,\n",
    "    y=median_salary.index,\n",
    "    orientation='h',\n",
    "    title='Global Median Salary by Job Title',\n",
    "    labels={'x': 'Median Salary, EUR', 'index': 'Job Title'},\n",
    "    color_discrete_sequence=['#5DADE2'],\n",
    "    text=median_salary.values\n",
    ")\n",
    "\n",
    "fig1.update_traces(\n",
    "    texttemplate='%{text:.0f}', \n",
    "    textposition='inside', \n",
    "    insidetextanchor='middle'\n",
    "    )\n",
    "\n",
    "fig1.update_layout(\n",
    "    showlegend=False,\n",
    "    yaxis_title=''\n",
    "    )\n",
    "fig1.show()"
   ]
  },
  {
   "cell_type": "markdown",
   "id": "48cf30e2",
   "metadata": {},
   "source": [
    "Despite being the most popular role in Europe, Data Analyst has the lowest median salary among the top-3 data roles, indicating high accessibility but limited earning potential in the long term. In contrast, Data Scientist and Data Engineer both offer significantly higher median salaries (nearly 40% more). \n",
    "\n",
    "For job seekers, starting as a Data Analyst offers a practical entry point, but upskilling toward Data Science — currently one of the highest-paid and fastest-growing roles globally — provides stronger long-term career and salary growth potential. "
   ]
  },
  {
   "cell_type": "markdown",
   "id": "b1bd2ff8",
   "metadata": {},
   "source": [
    "Filter only top 3 roles and European Union data"
   ]
  },
  {
   "cell_type": "code",
   "execution_count": 24,
   "id": "bced3f9c",
   "metadata": {},
   "outputs": [],
   "source": [
    "top_roles = ['Data Analyst', 'Data Scientist', 'Data Engineer']\n",
    "\n",
    "df_eu_top = df_filtered[\n",
    "    (df_filtered['job_title_short'].isin(top_roles)) &\n",
    "    (df_filtered['region_group'] == 'EU')\n",
    "]"
   ]
  },
  {
   "cell_type": "markdown",
   "id": "4bba46e8",
   "metadata": {},
   "source": [
    "### Salary distributions for Top-3 Data Roles in Europe\n",
    "\n",
    "After identifying the most in-demand roles — Data Analyst, Data Scientist, and Data Engineer — we explore how these roles are compensated **within Europe**. This box plot shows distribution, median, and variability of salaries, helping assess earning potential and predictability."
   ]
  },
  {
   "cell_type": "code",
   "execution_count": 25,
   "id": "84d20767",
   "metadata": {},
   "outputs": [
    {
     "data": {
      "application/vnd.plotly.v1+json": {
       "config": {
        "plotlyServerURL": "https://plot.ly"
       },
       "data": [
        {
         "alignmentgroup": "True",
         "hovertemplate": "=%{x}<br>Monthly Salary (EUR)=%{y}<extra></extra>",
         "legendgroup": "",
         "line": {
          "color": "#5DADE2"
         },
         "marker": {
          "color": "#5DADE2"
         },
         "name": "",
         "notched": false,
         "offsetgroup": "",
         "orientation": "v",
         "showlegend": false,
         "type": "box",
         "x": [
          "Data Analyst",
          "Data Analyst",
          "Data Analyst",
          "Data Analyst",
          "Data Engineer",
          "Data Engineer",
          "Data Engineer",
          "Data Scientist",
          "Data Scientist",
          "Data Analyst",
          "Data Analyst",
          "Data Analyst",
          "Data Analyst",
          "Data Analyst",
          "Data Analyst",
          "Data Analyst",
          "Data Analyst",
          "Data Analyst",
          "Data Analyst",
          "Data Analyst",
          "Data Analyst",
          "Data Analyst",
          "Data Analyst",
          "Data Analyst",
          "Data Analyst",
          "Data Analyst",
          "Data Analyst",
          "Data Analyst",
          "Data Analyst",
          "Data Engineer",
          "Data Engineer",
          "Data Engineer",
          "Data Engineer",
          "Data Engineer",
          "Data Engineer",
          "Data Engineer",
          "Data Engineer",
          "Data Engineer",
          "Data Engineer",
          "Data Engineer",
          "Data Scientist",
          "Data Scientist",
          "Data Scientist",
          "Data Scientist",
          "Data Scientist",
          "Data Scientist",
          "Data Scientist",
          "Data Scientist",
          "Data Analyst",
          "Data Analyst",
          "Data Analyst",
          "Data Analyst",
          "Data Analyst",
          "Data Analyst",
          "Data Analyst",
          "Data Analyst",
          "Data Analyst",
          "Data Analyst",
          "Data Engineer",
          "Data Engineer",
          "Data Scientist",
          "Data Scientist",
          "Data Scientist",
          "Data Scientist",
          "Data Scientist",
          "Data Analyst",
          "Data Analyst",
          "Data Analyst",
          "Data Analyst",
          "Data Engineer",
          "Data Engineer",
          "Data Engineer",
          "Data Engineer",
          "Data Engineer",
          "Data Engineer",
          "Data Scientist",
          "Data Scientist",
          "Data Analyst",
          "Data Analyst",
          "Data Analyst",
          "Data Engineer",
          "Data Engineer",
          "Data Engineer",
          "Data Scientist",
          "Data Analyst",
          "Data Analyst",
          "Data Analyst",
          "Data Analyst",
          "Data Analyst",
          "Data Engineer",
          "Data Engineer",
          "Data Scientist",
          "Data Scientist",
          "Data Scientist",
          "Data Scientist",
          "Data Scientist",
          "Data Scientist",
          "Data Scientist",
          "Data Analyst",
          "Data Analyst",
          "Data Analyst",
          "Data Analyst",
          "Data Analyst",
          "Data Analyst",
          "Data Analyst",
          "Data Analyst",
          "Data Analyst",
          "Data Analyst",
          "Data Analyst",
          "Data Engineer",
          "Data Engineer",
          "Data Engineer",
          "Data Engineer",
          "Data Scientist",
          "Data Scientist",
          "Data Scientist",
          "Data Scientist",
          "Data Analyst",
          "Data Analyst",
          "Data Analyst",
          "Data Analyst",
          "Data Analyst",
          "Data Engineer",
          "Data Engineer",
          "Data Engineer",
          "Data Engineer",
          "Data Engineer",
          "Data Scientist",
          "Data Scientist",
          "Data Scientist",
          "Data Scientist",
          "Data Analyst",
          "Data Analyst",
          "Data Analyst",
          "Data Analyst",
          "Data Analyst",
          "Data Analyst",
          "Data Analyst",
          "Data Analyst",
          "Data Analyst",
          "Data Analyst",
          "Data Analyst",
          "Data Analyst",
          "Data Analyst",
          "Data Analyst",
          "Data Analyst",
          "Data Analyst",
          "Data Analyst",
          "Data Analyst",
          "Data Analyst",
          "Data Analyst",
          "Data Analyst",
          "Data Analyst",
          "Data Analyst",
          "Data Analyst",
          "Data Analyst",
          "Data Analyst",
          "Data Analyst",
          "Data Analyst",
          "Data Analyst",
          "Data Analyst",
          "Data Analyst",
          "Data Analyst",
          "Data Analyst",
          "Data Analyst",
          "Data Analyst",
          "Data Analyst",
          "Data Analyst",
          "Data Analyst",
          "Data Analyst",
          "Data Analyst",
          "Data Analyst",
          "Data Analyst",
          "Data Analyst",
          "Data Analyst",
          "Data Analyst",
          "Data Analyst",
          "Data Analyst",
          "Data Analyst",
          "Data Analyst",
          "Data Engineer",
          "Data Engineer",
          "Data Engineer",
          "Data Engineer",
          "Data Engineer",
          "Data Engineer",
          "Data Engineer",
          "Data Engineer",
          "Data Engineer",
          "Data Engineer",
          "Data Engineer",
          "Data Engineer",
          "Data Engineer",
          "Data Engineer",
          "Data Engineer",
          "Data Engineer",
          "Data Engineer",
          "Data Engineer",
          "Data Engineer",
          "Data Engineer",
          "Data Engineer",
          "Data Engineer",
          "Data Engineer",
          "Data Engineer",
          "Data Engineer",
          "Data Engineer",
          "Data Engineer",
          "Data Engineer",
          "Data Engineer",
          "Data Engineer",
          "Data Engineer",
          "Data Engineer",
          "Data Engineer",
          "Data Engineer",
          "Data Engineer",
          "Data Engineer",
          "Data Engineer",
          "Data Engineer",
          "Data Engineer",
          "Data Engineer",
          "Data Engineer",
          "Data Engineer",
          "Data Engineer",
          "Data Engineer",
          "Data Engineer",
          "Data Engineer",
          "Data Engineer",
          "Data Engineer",
          "Data Engineer",
          "Data Engineer",
          "Data Engineer",
          "Data Engineer",
          "Data Engineer",
          "Data Engineer",
          "Data Engineer",
          "Data Engineer",
          "Data Engineer",
          "Data Engineer",
          "Data Engineer",
          "Data Engineer",
          "Data Engineer",
          "Data Scientist",
          "Data Scientist",
          "Data Scientist",
          "Data Scientist",
          "Data Scientist",
          "Data Scientist",
          "Data Scientist",
          "Data Scientist",
          "Data Scientist",
          "Data Scientist",
          "Data Scientist",
          "Data Scientist",
          "Data Scientist",
          "Data Scientist",
          "Data Scientist",
          "Data Scientist",
          "Data Scientist",
          "Data Scientist",
          "Data Scientist",
          "Data Scientist",
          "Data Scientist",
          "Data Scientist",
          "Data Scientist",
          "Data Scientist",
          "Data Scientist",
          "Data Scientist",
          "Data Scientist",
          "Data Scientist",
          "Data Scientist",
          "Data Scientist",
          "Data Scientist",
          "Data Scientist",
          "Data Scientist",
          "Data Scientist",
          "Data Scientist",
          "Data Scientist",
          "Data Scientist",
          "Data Scientist",
          "Data Scientist",
          "Data Scientist",
          "Data Scientist",
          "Data Scientist",
          "Data Scientist",
          "Data Scientist",
          "Data Scientist",
          "Data Scientist",
          "Data Scientist",
          "Data Scientist",
          "Data Scientist",
          "Data Scientist",
          "Data Scientist",
          "Data Scientist",
          "Data Scientist",
          "Data Scientist",
          "Data Scientist",
          "Data Scientist",
          "Data Scientist",
          "Data Analyst",
          "Data Analyst",
          "Data Analyst",
          "Data Analyst",
          "Data Analyst",
          "Data Analyst",
          "Data Analyst",
          "Data Analyst",
          "Data Analyst",
          "Data Analyst",
          "Data Analyst",
          "Data Analyst",
          "Data Analyst",
          "Data Analyst",
          "Data Analyst",
          "Data Analyst",
          "Data Analyst",
          "Data Analyst",
          "Data Analyst",
          "Data Analyst",
          "Data Analyst",
          "Data Analyst",
          "Data Analyst",
          "Data Analyst",
          "Data Analyst",
          "Data Analyst",
          "Data Analyst",
          "Data Analyst",
          "Data Analyst",
          "Data Analyst",
          "Data Analyst",
          "Data Analyst",
          "Data Analyst",
          "Data Analyst",
          "Data Analyst",
          "Data Analyst",
          "Data Analyst",
          "Data Analyst",
          "Data Analyst",
          "Data Analyst",
          "Data Analyst",
          "Data Analyst",
          "Data Analyst",
          "Data Analyst",
          "Data Engineer",
          "Data Engineer",
          "Data Engineer",
          "Data Engineer",
          "Data Engineer",
          "Data Engineer",
          "Data Engineer",
          "Data Engineer",
          "Data Engineer",
          "Data Engineer",
          "Data Engineer",
          "Data Engineer",
          "Data Engineer",
          "Data Engineer",
          "Data Engineer",
          "Data Engineer",
          "Data Engineer",
          "Data Engineer",
          "Data Engineer",
          "Data Engineer",
          "Data Engineer",
          "Data Engineer",
          "Data Engineer",
          "Data Engineer",
          "Data Engineer",
          "Data Engineer",
          "Data Engineer",
          "Data Engineer",
          "Data Engineer",
          "Data Engineer",
          "Data Engineer",
          "Data Engineer",
          "Data Engineer",
          "Data Engineer",
          "Data Engineer",
          "Data Engineer",
          "Data Engineer",
          "Data Engineer",
          "Data Engineer",
          "Data Scientist",
          "Data Scientist",
          "Data Scientist",
          "Data Scientist",
          "Data Scientist",
          "Data Scientist",
          "Data Scientist",
          "Data Scientist",
          "Data Scientist",
          "Data Scientist",
          "Data Scientist",
          "Data Scientist",
          "Data Scientist",
          "Data Scientist",
          "Data Scientist",
          "Data Scientist",
          "Data Scientist",
          "Data Scientist",
          "Data Scientist",
          "Data Scientist",
          "Data Scientist",
          "Data Scientist",
          "Data Scientist",
          "Data Scientist",
          "Data Scientist",
          "Data Scientist",
          "Data Scientist",
          "Data Scientist",
          "Data Scientist",
          "Data Scientist",
          "Data Scientist",
          "Data Scientist",
          "Data Scientist",
          "Data Scientist",
          "Data Scientist",
          "Data Scientist",
          "Data Scientist",
          "Data Scientist",
          "Data Scientist",
          "Data Scientist",
          "Data Scientist",
          "Data Analyst",
          "Data Analyst",
          "Data Analyst",
          "Data Analyst",
          "Data Analyst",
          "Data Analyst",
          "Data Analyst",
          "Data Analyst",
          "Data Analyst",
          "Data Analyst",
          "Data Analyst",
          "Data Analyst",
          "Data Analyst",
          "Data Analyst",
          "Data Analyst",
          "Data Analyst",
          "Data Engineer",
          "Data Engineer",
          "Data Engineer",
          "Data Engineer",
          "Data Engineer",
          "Data Engineer",
          "Data Engineer",
          "Data Engineer",
          "Data Engineer",
          "Data Engineer",
          "Data Engineer",
          "Data Engineer",
          "Data Engineer",
          "Data Engineer",
          "Data Engineer",
          "Data Engineer",
          "Data Engineer",
          "Data Engineer",
          "Data Engineer",
          "Data Engineer",
          "Data Engineer",
          "Data Engineer",
          "Data Engineer",
          "Data Engineer",
          "Data Scientist",
          "Data Scientist",
          "Data Scientist",
          "Data Scientist",
          "Data Scientist",
          "Data Scientist",
          "Data Scientist",
          "Data Scientist",
          "Data Scientist",
          "Data Scientist",
          "Data Analyst",
          "Data Analyst",
          "Data Analyst",
          "Data Analyst",
          "Data Analyst",
          "Data Analyst",
          "Data Analyst",
          "Data Analyst",
          "Data Analyst",
          "Data Analyst",
          "Data Analyst",
          "Data Analyst",
          "Data Analyst",
          "Data Analyst",
          "Data Analyst",
          "Data Analyst",
          "Data Analyst",
          "Data Analyst",
          "Data Engineer",
          "Data Engineer",
          "Data Engineer",
          "Data Engineer",
          "Data Engineer",
          "Data Engineer",
          "Data Engineer",
          "Data Engineer",
          "Data Engineer",
          "Data Engineer",
          "Data Scientist",
          "Data Scientist",
          "Data Scientist",
          "Data Scientist",
          "Data Scientist",
          "Data Scientist",
          "Data Scientist",
          "Data Scientist",
          "Data Scientist",
          "Data Scientist",
          "Data Scientist",
          "Data Scientist",
          "Data Scientist",
          "Data Analyst",
          "Data Analyst",
          "Data Analyst",
          "Data Analyst",
          "Data Analyst",
          "Data Analyst",
          "Data Analyst",
          "Data Analyst",
          "Data Analyst",
          "Data Analyst",
          "Data Analyst",
          "Data Analyst",
          "Data Analyst",
          "Data Analyst",
          "Data Analyst",
          "Data Analyst",
          "Data Engineer",
          "Data Engineer",
          "Data Engineer",
          "Data Engineer",
          "Data Engineer",
          "Data Engineer",
          "Data Engineer",
          "Data Engineer",
          "Data Engineer",
          "Data Scientist",
          "Data Scientist",
          "Data Scientist",
          "Data Scientist",
          "Data Scientist",
          "Data Scientist",
          "Data Analyst",
          "Data Analyst",
          "Data Analyst",
          "Data Analyst",
          "Data Analyst",
          "Data Analyst",
          "Data Analyst",
          "Data Analyst",
          "Data Analyst",
          "Data Analyst",
          "Data Analyst",
          "Data Engineer",
          "Data Engineer",
          "Data Engineer",
          "Data Engineer",
          "Data Engineer",
          "Data Engineer",
          "Data Engineer",
          "Data Engineer",
          "Data Engineer",
          "Data Engineer",
          "Data Engineer",
          "Data Engineer",
          "Data Scientist",
          "Data Scientist",
          "Data Scientist",
          "Data Scientist",
          "Data Scientist",
          "Data Scientist",
          "Data Scientist",
          "Data Scientist",
          "Data Scientist",
          "Data Scientist",
          "Data Scientist",
          "Data Scientist",
          "Data Analyst",
          "Data Engineer",
          "Data Engineer",
          "Data Engineer",
          "Data Analyst",
          "Data Analyst",
          "Data Analyst",
          "Data Analyst",
          "Data Engineer",
          "Data Engineer",
          "Data Scientist",
          "Data Scientist",
          "Data Analyst",
          "Data Analyst",
          "Data Analyst",
          "Data Engineer",
          "Data Engineer",
          "Data Engineer",
          "Data Scientist",
          "Data Scientist",
          "Data Scientist",
          "Data Analyst",
          "Data Analyst",
          "Data Analyst",
          "Data Analyst",
          "Data Analyst",
          "Data Engineer",
          "Data Analyst",
          "Data Analyst",
          "Data Analyst",
          "Data Analyst",
          "Data Analyst",
          "Data Analyst",
          "Data Analyst",
          "Data Analyst",
          "Data Analyst",
          "Data Analyst",
          "Data Analyst",
          "Data Analyst",
          "Data Analyst",
          "Data Analyst",
          "Data Analyst",
          "Data Analyst",
          "Data Analyst",
          "Data Analyst",
          "Data Analyst",
          "Data Engineer",
          "Data Engineer",
          "Data Engineer",
          "Data Engineer",
          "Data Engineer",
          "Data Engineer",
          "Data Engineer",
          "Data Engineer",
          "Data Engineer",
          "Data Engineer",
          "Data Engineer",
          "Data Engineer",
          "Data Engineer",
          "Data Engineer",
          "Data Engineer",
          "Data Engineer",
          "Data Engineer",
          "Data Engineer",
          "Data Scientist",
          "Data Scientist",
          "Data Scientist",
          "Data Scientist",
          "Data Scientist",
          "Data Scientist",
          "Data Scientist",
          "Data Scientist",
          "Data Scientist",
          "Data Scientist",
          "Data Scientist",
          "Data Scientist",
          "Data Scientist",
          "Data Scientist",
          "Data Scientist",
          "Data Scientist",
          "Data Scientist",
          "Data Analyst",
          "Data Analyst",
          "Data Analyst",
          "Data Analyst",
          "Data Analyst",
          "Data Analyst",
          "Data Analyst",
          "Data Analyst",
          "Data Analyst",
          "Data Analyst",
          "Data Analyst",
          "Data Analyst",
          "Data Analyst",
          "Data Analyst",
          "Data Analyst",
          "Data Analyst",
          "Data Analyst",
          "Data Analyst",
          "Data Analyst",
          "Data Analyst",
          "Data Analyst",
          "Data Analyst",
          "Data Analyst",
          "Data Analyst",
          "Data Analyst",
          "Data Analyst",
          "Data Analyst",
          "Data Analyst",
          "Data Analyst",
          "Data Analyst",
          "Data Analyst",
          "Data Analyst",
          "Data Analyst",
          "Data Analyst",
          "Data Analyst",
          "Data Analyst",
          "Data Analyst",
          "Data Analyst",
          "Data Analyst",
          "Data Analyst",
          "Data Analyst",
          "Data Analyst",
          "Data Analyst",
          "Data Engineer",
          "Data Engineer",
          "Data Engineer",
          "Data Engineer",
          "Data Engineer",
          "Data Engineer",
          "Data Engineer",
          "Data Engineer",
          "Data Engineer",
          "Data Engineer",
          "Data Engineer",
          "Data Engineer",
          "Data Engineer",
          "Data Engineer",
          "Data Engineer",
          "Data Engineer",
          "Data Engineer",
          "Data Engineer",
          "Data Engineer",
          "Data Engineer",
          "Data Engineer",
          "Data Engineer",
          "Data Engineer",
          "Data Engineer",
          "Data Engineer",
          "Data Engineer",
          "Data Engineer",
          "Data Engineer",
          "Data Engineer",
          "Data Engineer",
          "Data Engineer",
          "Data Engineer",
          "Data Engineer",
          "Data Engineer",
          "Data Engineer",
          "Data Engineer",
          "Data Engineer",
          "Data Engineer",
          "Data Engineer",
          "Data Engineer",
          "Data Engineer",
          "Data Engineer",
          "Data Engineer",
          "Data Engineer",
          "Data Engineer",
          "Data Engineer",
          "Data Scientist",
          "Data Scientist",
          "Data Scientist",
          "Data Scientist",
          "Data Scientist",
          "Data Scientist",
          "Data Scientist",
          "Data Scientist",
          "Data Scientist",
          "Data Scientist",
          "Data Scientist",
          "Data Scientist",
          "Data Scientist",
          "Data Scientist",
          "Data Scientist",
          "Data Scientist",
          "Data Scientist",
          "Data Scientist",
          "Data Scientist",
          "Data Scientist",
          "Data Scientist",
          "Data Scientist",
          "Data Scientist",
          "Data Scientist",
          "Data Scientist",
          "Data Scientist",
          "Data Scientist",
          "Data Scientist",
          "Data Scientist",
          "Data Analyst",
          "Data Analyst",
          "Data Analyst",
          "Data Analyst",
          "Data Analyst",
          "Data Analyst",
          "Data Analyst",
          "Data Analyst",
          "Data Analyst",
          "Data Analyst",
          "Data Analyst",
          "Data Analyst",
          "Data Analyst",
          "Data Analyst",
          "Data Analyst",
          "Data Analyst",
          "Data Analyst",
          "Data Analyst",
          "Data Analyst",
          "Data Analyst",
          "Data Analyst",
          "Data Analyst",
          "Data Analyst",
          "Data Analyst",
          "Data Analyst",
          "Data Analyst",
          "Data Analyst",
          "Data Analyst",
          "Data Analyst",
          "Data Analyst",
          "Data Analyst",
          "Data Analyst",
          "Data Analyst",
          "Data Analyst",
          "Data Analyst",
          "Data Analyst",
          "Data Analyst",
          "Data Engineer",
          "Data Engineer",
          "Data Engineer",
          "Data Engineer",
          "Data Engineer",
          "Data Engineer",
          "Data Engineer",
          "Data Engineer",
          "Data Engineer",
          "Data Engineer",
          "Data Engineer",
          "Data Engineer",
          "Data Engineer",
          "Data Engineer",
          "Data Engineer",
          "Data Engineer",
          "Data Engineer",
          "Data Engineer",
          "Data Engineer",
          "Data Engineer",
          "Data Engineer",
          "Data Engineer",
          "Data Engineer",
          "Data Engineer",
          "Data Engineer",
          "Data Engineer",
          "Data Engineer",
          "Data Engineer",
          "Data Engineer",
          "Data Engineer",
          "Data Scientist",
          "Data Scientist",
          "Data Scientist",
          "Data Scientist",
          "Data Scientist",
          "Data Scientist",
          "Data Scientist",
          "Data Scientist",
          "Data Scientist",
          "Data Scientist",
          "Data Scientist",
          "Data Scientist",
          "Data Scientist",
          "Data Scientist",
          "Data Scientist",
          "Data Scientist",
          "Data Scientist",
          "Data Scientist",
          "Data Scientist",
          "Data Scientist",
          "Data Scientist",
          "Data Scientist",
          "Data Analyst",
          "Data Analyst",
          "Data Analyst",
          "Data Analyst",
          "Data Analyst",
          "Data Analyst",
          "Data Analyst",
          "Data Analyst",
          "Data Analyst",
          "Data Analyst",
          "Data Analyst",
          "Data Analyst",
          "Data Engineer",
          "Data Engineer",
          "Data Engineer",
          "Data Engineer",
          "Data Engineer",
          "Data Scientist",
          "Data Scientist",
          "Data Scientist",
          "Data Scientist",
          "Data Scientist",
          "Data Scientist",
          "Data Scientist",
          "Data Engineer",
          "Data Engineer",
          "Data Engineer",
          "Data Scientist",
          "Data Scientist",
          "Data Scientist",
          "Data Scientist",
          "Data Engineer",
          "Data Engineer",
          "Data Analyst",
          "Data Analyst",
          "Data Analyst",
          "Data Analyst",
          "Data Analyst",
          "Data Analyst",
          "Data Analyst",
          "Data Analyst",
          "Data Analyst",
          "Data Analyst",
          "Data Analyst",
          "Data Analyst",
          "Data Analyst",
          "Data Analyst",
          "Data Analyst",
          "Data Analyst",
          "Data Analyst",
          "Data Analyst",
          "Data Analyst",
          "Data Analyst",
          "Data Analyst",
          "Data Analyst",
          "Data Analyst",
          "Data Analyst",
          "Data Analyst",
          "Data Analyst",
          "Data Analyst",
          "Data Analyst",
          "Data Analyst",
          "Data Analyst",
          "Data Engineer",
          "Data Engineer",
          "Data Engineer",
          "Data Engineer",
          "Data Engineer",
          "Data Engineer",
          "Data Engineer",
          "Data Engineer",
          "Data Engineer",
          "Data Engineer",
          "Data Engineer",
          "Data Engineer",
          "Data Engineer",
          "Data Engineer",
          "Data Engineer",
          "Data Engineer",
          "Data Engineer",
          "Data Engineer",
          "Data Engineer",
          "Data Engineer",
          "Data Engineer",
          "Data Engineer",
          "Data Engineer",
          "Data Engineer",
          "Data Engineer",
          "Data Engineer",
          "Data Engineer",
          "Data Engineer",
          "Data Engineer",
          "Data Engineer",
          "Data Engineer",
          "Data Engineer",
          "Data Engineer",
          "Data Engineer",
          "Data Engineer",
          "Data Scientist",
          "Data Scientist",
          "Data Scientist",
          "Data Scientist",
          "Data Scientist",
          "Data Scientist",
          "Data Scientist",
          "Data Scientist",
          "Data Scientist",
          "Data Scientist",
          "Data Scientist",
          "Data Scientist",
          "Data Scientist",
          "Data Scientist",
          "Data Scientist",
          "Data Scientist",
          "Data Scientist",
          "Data Analyst",
          "Data Analyst",
          "Data Analyst",
          "Data Analyst",
          "Data Analyst",
          "Data Analyst",
          "Data Analyst",
          "Data Analyst",
          "Data Engineer",
          "Data Engineer",
          "Data Engineer",
          "Data Engineer",
          "Data Engineer",
          "Data Engineer",
          "Data Engineer",
          "Data Scientist",
          "Data Scientist",
          "Data Scientist",
          "Data Scientist",
          "Data Scientist",
          "Data Scientist",
          "Data Scientist"
         ],
         "x0": " ",
         "xaxis": "x",
         "y": {
          "bdata": "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",
          "dtype": "f8"
         },
         "y0": " ",
         "yaxis": "y"
        }
       ],
       "layout": {
        "annotations": [
         {
          "font": {
           "size": 12
          },
          "showarrow": false,
          "text": "Median: €6,311",
          "x": "Data Analyst",
          "y": 6311,
          "yshift": 10
         },
         {
          "font": {
           "size": 12
          },
          "showarrow": false,
          "text": "Median: €7,419",
          "x": "Data Engineer",
          "y": 7419,
          "yshift": 10
         },
         {
          "font": {
           "size": 12
          },
          "showarrow": false,
          "text": "Median: €7,484",
          "x": "Data Scientist",
          "y": 7484,
          "yshift": 10
         }
        ],
        "boxmode": "group",
        "legend": {
         "tracegroupgap": 0
        },
        "showlegend": false,
        "template": {
         "data": {
          "bar": [
           {
            "error_x": {
             "color": "#2a3f5f"
            },
            "error_y": {
             "color": "#2a3f5f"
            },
            "marker": {
             "line": {
              "color": "#E5ECF6",
              "width": 0.5
             },
             "pattern": {
              "fillmode": "overlay",
              "size": 10,
              "solidity": 0.2
             }
            },
            "type": "bar"
           }
          ],
          "barpolar": [
           {
            "marker": {
             "line": {
              "color": "#E5ECF6",
              "width": 0.5
             },
             "pattern": {
              "fillmode": "overlay",
              "size": 10,
              "solidity": 0.2
             }
            },
            "type": "barpolar"
           }
          ],
          "carpet": [
           {
            "aaxis": {
             "endlinecolor": "#2a3f5f",
             "gridcolor": "white",
             "linecolor": "white",
             "minorgridcolor": "white",
             "startlinecolor": "#2a3f5f"
            },
            "baxis": {
             "endlinecolor": "#2a3f5f",
             "gridcolor": "white",
             "linecolor": "white",
             "minorgridcolor": "white",
             "startlinecolor": "#2a3f5f"
            },
            "type": "carpet"
           }
          ],
          "choropleth": [
           {
            "colorbar": {
             "outlinewidth": 0,
             "ticks": ""
            },
            "type": "choropleth"
           }
          ],
          "contour": [
           {
            "colorbar": {
             "outlinewidth": 0,
             "ticks": ""
            },
            "colorscale": [
             [
              0,
              "#0d0887"
             ],
             [
              0.1111111111111111,
              "#46039f"
             ],
             [
              0.2222222222222222,
              "#7201a8"
             ],
             [
              0.3333333333333333,
              "#9c179e"
             ],
             [
              0.4444444444444444,
              "#bd3786"
             ],
             [
              0.5555555555555556,
              "#d8576b"
             ],
             [
              0.6666666666666666,
              "#ed7953"
             ],
             [
              0.7777777777777778,
              "#fb9f3a"
             ],
             [
              0.8888888888888888,
              "#fdca26"
             ],
             [
              1,
              "#f0f921"
             ]
            ],
            "type": "contour"
           }
          ],
          "contourcarpet": [
           {
            "colorbar": {
             "outlinewidth": 0,
             "ticks": ""
            },
            "type": "contourcarpet"
           }
          ],
          "heatmap": [
           {
            "colorbar": {
             "outlinewidth": 0,
             "ticks": ""
            },
            "colorscale": [
             [
              0,
              "#0d0887"
             ],
             [
              0.1111111111111111,
              "#46039f"
             ],
             [
              0.2222222222222222,
              "#7201a8"
             ],
             [
              0.3333333333333333,
              "#9c179e"
             ],
             [
              0.4444444444444444,
              "#bd3786"
             ],
             [
              0.5555555555555556,
              "#d8576b"
             ],
             [
              0.6666666666666666,
              "#ed7953"
             ],
             [
              0.7777777777777778,
              "#fb9f3a"
             ],
             [
              0.8888888888888888,
              "#fdca26"
             ],
             [
              1,
              "#f0f921"
             ]
            ],
            "type": "heatmap"
           }
          ],
          "histogram": [
           {
            "marker": {
             "pattern": {
              "fillmode": "overlay",
              "size": 10,
              "solidity": 0.2
             }
            },
            "type": "histogram"
           }
          ],
          "histogram2d": [
           {
            "colorbar": {
             "outlinewidth": 0,
             "ticks": ""
            },
            "colorscale": [
             [
              0,
              "#0d0887"
             ],
             [
              0.1111111111111111,
              "#46039f"
             ],
             [
              0.2222222222222222,
              "#7201a8"
             ],
             [
              0.3333333333333333,
              "#9c179e"
             ],
             [
              0.4444444444444444,
              "#bd3786"
             ],
             [
              0.5555555555555556,
              "#d8576b"
             ],
             [
              0.6666666666666666,
              "#ed7953"
             ],
             [
              0.7777777777777778,
              "#fb9f3a"
             ],
             [
              0.8888888888888888,
              "#fdca26"
             ],
             [
              1,
              "#f0f921"
             ]
            ],
            "type": "histogram2d"
           }
          ],
          "histogram2dcontour": [
           {
            "colorbar": {
             "outlinewidth": 0,
             "ticks": ""
            },
            "colorscale": [
             [
              0,
              "#0d0887"
             ],
             [
              0.1111111111111111,
              "#46039f"
             ],
             [
              0.2222222222222222,
              "#7201a8"
             ],
             [
              0.3333333333333333,
              "#9c179e"
             ],
             [
              0.4444444444444444,
              "#bd3786"
             ],
             [
              0.5555555555555556,
              "#d8576b"
             ],
             [
              0.6666666666666666,
              "#ed7953"
             ],
             [
              0.7777777777777778,
              "#fb9f3a"
             ],
             [
              0.8888888888888888,
              "#fdca26"
             ],
             [
              1,
              "#f0f921"
             ]
            ],
            "type": "histogram2dcontour"
           }
          ],
          "mesh3d": [
           {
            "colorbar": {
             "outlinewidth": 0,
             "ticks": ""
            },
            "type": "mesh3d"
           }
          ],
          "parcoords": [
           {
            "line": {
             "colorbar": {
              "outlinewidth": 0,
              "ticks": ""
             }
            },
            "type": "parcoords"
           }
          ],
          "pie": [
           {
            "automargin": true,
            "type": "pie"
           }
          ],
          "scatter": [
           {
            "fillpattern": {
             "fillmode": "overlay",
             "size": 10,
             "solidity": 0.2
            },
            "type": "scatter"
           }
          ],
          "scatter3d": [
           {
            "line": {
             "colorbar": {
              "outlinewidth": 0,
              "ticks": ""
             }
            },
            "marker": {
             "colorbar": {
              "outlinewidth": 0,
              "ticks": ""
             }
            },
            "type": "scatter3d"
           }
          ],
          "scattercarpet": [
           {
            "marker": {
             "colorbar": {
              "outlinewidth": 0,
              "ticks": ""
             }
            },
            "type": "scattercarpet"
           }
          ],
          "scattergeo": [
           {
            "marker": {
             "colorbar": {
              "outlinewidth": 0,
              "ticks": ""
             }
            },
            "type": "scattergeo"
           }
          ],
          "scattergl": [
           {
            "marker": {
             "colorbar": {
              "outlinewidth": 0,
              "ticks": ""
             }
            },
            "type": "scattergl"
           }
          ],
          "scattermap": [
           {
            "marker": {
             "colorbar": {
              "outlinewidth": 0,
              "ticks": ""
             }
            },
            "type": "scattermap"
           }
          ],
          "scattermapbox": [
           {
            "marker": {
             "colorbar": {
              "outlinewidth": 0,
              "ticks": ""
             }
            },
            "type": "scattermapbox"
           }
          ],
          "scatterpolar": [
           {
            "marker": {
             "colorbar": {
              "outlinewidth": 0,
              "ticks": ""
             }
            },
            "type": "scatterpolar"
           }
          ],
          "scatterpolargl": [
           {
            "marker": {
             "colorbar": {
              "outlinewidth": 0,
              "ticks": ""
             }
            },
            "type": "scatterpolargl"
           }
          ],
          "scatterternary": [
           {
            "marker": {
             "colorbar": {
              "outlinewidth": 0,
              "ticks": ""
             }
            },
            "type": "scatterternary"
           }
          ],
          "surface": [
           {
            "colorbar": {
             "outlinewidth": 0,
             "ticks": ""
            },
            "colorscale": [
             [
              0,
              "#0d0887"
             ],
             [
              0.1111111111111111,
              "#46039f"
             ],
             [
              0.2222222222222222,
              "#7201a8"
             ],
             [
              0.3333333333333333,
              "#9c179e"
             ],
             [
              0.4444444444444444,
              "#bd3786"
             ],
             [
              0.5555555555555556,
              "#d8576b"
             ],
             [
              0.6666666666666666,
              "#ed7953"
             ],
             [
              0.7777777777777778,
              "#fb9f3a"
             ],
             [
              0.8888888888888888,
              "#fdca26"
             ],
             [
              1,
              "#f0f921"
             ]
            ],
            "type": "surface"
           }
          ],
          "table": [
           {
            "cells": {
             "fill": {
              "color": "#EBF0F8"
             },
             "line": {
              "color": "white"
             }
            },
            "header": {
             "fill": {
              "color": "#C8D4E3"
             },
             "line": {
              "color": "white"
             }
            },
            "type": "table"
           }
          ]
         },
         "layout": {
          "annotationdefaults": {
           "arrowcolor": "#2a3f5f",
           "arrowhead": 0,
           "arrowwidth": 1
          },
          "autotypenumbers": "strict",
          "coloraxis": {
           "colorbar": {
            "outlinewidth": 0,
            "ticks": ""
           }
          },
          "colorscale": {
           "diverging": [
            [
             0,
             "#8e0152"
            ],
            [
             0.1,
             "#c51b7d"
            ],
            [
             0.2,
             "#de77ae"
            ],
            [
             0.3,
             "#f1b6da"
            ],
            [
             0.4,
             "#fde0ef"
            ],
            [
             0.5,
             "#f7f7f7"
            ],
            [
             0.6,
             "#e6f5d0"
            ],
            [
             0.7,
             "#b8e186"
            ],
            [
             0.8,
             "#7fbc41"
            ],
            [
             0.9,
             "#4d9221"
            ],
            [
             1,
             "#276419"
            ]
           ],
           "sequential": [
            [
             0,
             "#0d0887"
            ],
            [
             0.1111111111111111,
             "#46039f"
            ],
            [
             0.2222222222222222,
             "#7201a8"
            ],
            [
             0.3333333333333333,
             "#9c179e"
            ],
            [
             0.4444444444444444,
             "#bd3786"
            ],
            [
             0.5555555555555556,
             "#d8576b"
            ],
            [
             0.6666666666666666,
             "#ed7953"
            ],
            [
             0.7777777777777778,
             "#fb9f3a"
            ],
            [
             0.8888888888888888,
             "#fdca26"
            ],
            [
             1,
             "#f0f921"
            ]
           ],
           "sequentialminus": [
            [
             0,
             "#0d0887"
            ],
            [
             0.1111111111111111,
             "#46039f"
            ],
            [
             0.2222222222222222,
             "#7201a8"
            ],
            [
             0.3333333333333333,
             "#9c179e"
            ],
            [
             0.4444444444444444,
             "#bd3786"
            ],
            [
             0.5555555555555556,
             "#d8576b"
            ],
            [
             0.6666666666666666,
             "#ed7953"
            ],
            [
             0.7777777777777778,
             "#fb9f3a"
            ],
            [
             0.8888888888888888,
             "#fdca26"
            ],
            [
             1,
             "#f0f921"
            ]
           ]
          },
          "colorway": [
           "#636efa",
           "#EF553B",
           "#00cc96",
           "#ab63fa",
           "#FFA15A",
           "#19d3f3",
           "#FF6692",
           "#B6E880",
           "#FF97FF",
           "#FECB52"
          ],
          "font": {
           "color": "#2a3f5f"
          },
          "geo": {
           "bgcolor": "white",
           "lakecolor": "white",
           "landcolor": "#E5ECF6",
           "showlakes": true,
           "showland": true,
           "subunitcolor": "white"
          },
          "hoverlabel": {
           "align": "left"
          },
          "hovermode": "closest",
          "mapbox": {
           "style": "light"
          },
          "paper_bgcolor": "white",
          "plot_bgcolor": "#E5ECF6",
          "polar": {
           "angularaxis": {
            "gridcolor": "white",
            "linecolor": "white",
            "ticks": ""
           },
           "bgcolor": "#E5ECF6",
           "radialaxis": {
            "gridcolor": "white",
            "linecolor": "white",
            "ticks": ""
           }
          },
          "scene": {
           "xaxis": {
            "backgroundcolor": "#E5ECF6",
            "gridcolor": "white",
            "gridwidth": 2,
            "linecolor": "white",
            "showbackground": true,
            "ticks": "",
            "zerolinecolor": "white"
           },
           "yaxis": {
            "backgroundcolor": "#E5ECF6",
            "gridcolor": "white",
            "gridwidth": 2,
            "linecolor": "white",
            "showbackground": true,
            "ticks": "",
            "zerolinecolor": "white"
           },
           "zaxis": {
            "backgroundcolor": "#E5ECF6",
            "gridcolor": "white",
            "gridwidth": 2,
            "linecolor": "white",
            "showbackground": true,
            "ticks": "",
            "zerolinecolor": "white"
           }
          },
          "shapedefaults": {
           "line": {
            "color": "#2a3f5f"
           }
          },
          "ternary": {
           "aaxis": {
            "gridcolor": "white",
            "linecolor": "white",
            "ticks": ""
           },
           "baxis": {
            "gridcolor": "white",
            "linecolor": "white",
            "ticks": ""
           },
           "bgcolor": "#E5ECF6",
           "caxis": {
            "gridcolor": "white",
            "linecolor": "white",
            "ticks": ""
           }
          },
          "title": {
           "x": 0.05
          },
          "xaxis": {
           "automargin": true,
           "gridcolor": "white",
           "linecolor": "white",
           "ticks": "",
           "title": {
            "standoff": 15
           },
           "zerolinecolor": "white",
           "zerolinewidth": 2
          },
          "yaxis": {
           "automargin": true,
           "gridcolor": "white",
           "linecolor": "white",
           "ticks": "",
           "title": {
            "standoff": 15
           },
           "zerolinecolor": "white",
           "zerolinewidth": 2
          }
         }
        },
        "title": {
         "text": "Salary Distribution for Top-3 Data Roles in EU"
        },
        "xaxis": {
         "anchor": "y",
         "domain": [
          0,
          1
         ],
         "title": {
          "text": ""
         }
        },
        "yaxis": {
         "anchor": "x",
         "domain": [
          0,
          1
         ],
         "title": {
          "text": "Monthly Salary (EUR)"
         }
        }
       }
      }
     },
     "metadata": {},
     "output_type": "display_data"
    }
   ],
   "source": [
    "fig2 = px.box(\n",
    "    df_eu_top,\n",
    "    x='job_title_short',\n",
    "    y='salary_month_avg_eur',\n",
    "    title='Salary Distribution for Top-3 Data Roles in EU',\n",
    "    labels={\n",
    "        'salary_month_avg_eur': 'Monthly Salary (EUR)',\n",
    "        'job_title_short': ''\n",
    "    }\n",
    ")\n",
    "\n",
    "fig2.update_traces(marker_color='#5DADE2', line_color='#5DADE2')\n",
    "\n",
    "# Add median labels\n",
    "medians = df_eu_top.groupby('job_title_short')['salary_month_avg_eur'].median().round(0)\n",
    "for job, med in medians.items():\n",
    "    fig2.add_annotation(\n",
    "        x=job,\n",
    "        y=med,\n",
    "        text=f\"Median: €{med:,.0f}\",\n",
    "        showarrow=False,\n",
    "        font=dict(size=12),\n",
    "        yshift=10\n",
    "    )\n",
    "\n",
    "fig2.update_layout(showlegend=False)\n",
    "fig2.show()"
   ]
  },
  {
   "cell_type": "markdown",
   "id": "9b73399d",
   "metadata": {},
   "source": [
    "Just like on the global level, Data Scientists and Data Engineers in Europe earn noticeably more than Data Analysts. In the same time, **Data Analyst** salaries have a narrow, predictable distribution, making them **attractive for entry-level** professionals seeking stability and lower risk. In contrast, the broader and skewed distributions for Data Scientist and Data Engineer roles indicate greater variability but also higher earning potential — especially for those with advanced skills and niche expertise."
   ]
  },
  {
   "cell_type": "markdown",
   "id": "c9a71a9e",
   "metadata": {},
   "source": [
    "### Salary gap percentages for these roles between the US and the EU"
   ]
  },
  {
   "cell_type": "markdown",
   "id": "71faf30d",
   "metadata": {},
   "source": [
    "The US often leads in adopting new technologies and pays a premium for advanced data skills. By comparing median salaries between the EU and US for the same roles, we uncover regional disparities and highlight potential for salary growth in Europe."
   ]
  },
  {
   "cell_type": "code",
   "execution_count": 26,
   "id": "dff5df2f",
   "metadata": {},
   "outputs": [
    {
     "data": {
      "application/vnd.plotly.v1+json": {
       "config": {
        "plotlyServerURL": "https://plot.ly"
       },
       "data": [
        {
         "insidetextanchor": "middle",
         "marker": {
          "color": "#aec7e8"
         },
         "name": "US",
         "text": {
          "bdata": "AAAAAADnuEAAAAAAAEvBQAAAAACAo8FA",
          "dtype": "f8"
         },
         "textposition": "inside",
         "type": "bar",
         "width": 0.35,
         "x": [
          "Data Analyst",
          "Data Engineer",
          "Data Scientist"
         ],
         "y": {
          "bdata": "AAAAAADnuEApXI/CFUvBQAAAAACgo8FA",
          "dtype": "f8"
         }
        },
        {
         "insidetextanchor": "middle",
         "marker": {
          "color": "#1f77b4"
         },
         "name": "EU",
         "text": {
          "bdata": "AAAAAACnuEAAAAAAAPu8QAAAAAAAPL1A",
          "dtype": "f8"
         },
         "textposition": "inside",
         "type": "bar",
         "width": 0.35,
         "x": [
          "Data Analyst",
          "Data Engineer",
          "Data Scientist"
         ],
         "y": {
          "bdata": "AAAAAECnuEApXI/C9fq8QNejcD2KO71A",
          "dtype": "f8"
         }
        }
       ],
       "layout": {
        "annotations": [
         {
          "arrowcolor": "gray",
          "arrowhead": 2,
          "arrowwidth": 2.5,
          "ax": 0,
          "ay": -40,
          "font": {
           "color": "black",
           "size": 12
          },
          "showarrow": true,
          "standoff": 6,
          "text": "1.0%",
          "x": "Data Analyst",
          "y": 7175
         },
         {
          "arrowcolor": "gray",
          "arrowhead": 2,
          "arrowwidth": 2.5,
          "ax": 0,
          "ay": -40,
          "font": {
           "color": "black",
           "size": 12
          },
          "showarrow": true,
          "standoff": 6,
          "text": "19.3%",
          "x": "Data Engineer",
          "y": 9654.17
         },
         {
          "arrowcolor": "gray",
          "arrowhead": 2,
          "arrowwidth": 2.5,
          "ax": 0,
          "ay": -40,
          "font": {
           "color": "black",
           "size": 12
          },
          "showarrow": true,
          "standoff": 6,
          "text": "20.7%",
          "x": "Data Scientist",
          "y": 9831.25
         }
        ],
        "bargap": 0.1,
        "barmode": "group",
        "height": 500,
        "legend": {
         "title": {
          "text": "Region"
         }
        },
        "margin": {
         "t": 80
        },
        "template": {
         "data": {
          "bar": [
           {
            "error_x": {
             "color": "#2a3f5f"
            },
            "error_y": {
             "color": "#2a3f5f"
            },
            "marker": {
             "line": {
              "color": "#E5ECF6",
              "width": 0.5
             },
             "pattern": {
              "fillmode": "overlay",
              "size": 10,
              "solidity": 0.2
             }
            },
            "type": "bar"
           }
          ],
          "barpolar": [
           {
            "marker": {
             "line": {
              "color": "#E5ECF6",
              "width": 0.5
             },
             "pattern": {
              "fillmode": "overlay",
              "size": 10,
              "solidity": 0.2
             }
            },
            "type": "barpolar"
           }
          ],
          "carpet": [
           {
            "aaxis": {
             "endlinecolor": "#2a3f5f",
             "gridcolor": "white",
             "linecolor": "white",
             "minorgridcolor": "white",
             "startlinecolor": "#2a3f5f"
            },
            "baxis": {
             "endlinecolor": "#2a3f5f",
             "gridcolor": "white",
             "linecolor": "white",
             "minorgridcolor": "white",
             "startlinecolor": "#2a3f5f"
            },
            "type": "carpet"
           }
          ],
          "choropleth": [
           {
            "colorbar": {
             "outlinewidth": 0,
             "ticks": ""
            },
            "type": "choropleth"
           }
          ],
          "contour": [
           {
            "colorbar": {
             "outlinewidth": 0,
             "ticks": ""
            },
            "colorscale": [
             [
              0,
              "#0d0887"
             ],
             [
              0.1111111111111111,
              "#46039f"
             ],
             [
              0.2222222222222222,
              "#7201a8"
             ],
             [
              0.3333333333333333,
              "#9c179e"
             ],
             [
              0.4444444444444444,
              "#bd3786"
             ],
             [
              0.5555555555555556,
              "#d8576b"
             ],
             [
              0.6666666666666666,
              "#ed7953"
             ],
             [
              0.7777777777777778,
              "#fb9f3a"
             ],
             [
              0.8888888888888888,
              "#fdca26"
             ],
             [
              1,
              "#f0f921"
             ]
            ],
            "type": "contour"
           }
          ],
          "contourcarpet": [
           {
            "colorbar": {
             "outlinewidth": 0,
             "ticks": ""
            },
            "type": "contourcarpet"
           }
          ],
          "heatmap": [
           {
            "colorbar": {
             "outlinewidth": 0,
             "ticks": ""
            },
            "colorscale": [
             [
              0,
              "#0d0887"
             ],
             [
              0.1111111111111111,
              "#46039f"
             ],
             [
              0.2222222222222222,
              "#7201a8"
             ],
             [
              0.3333333333333333,
              "#9c179e"
             ],
             [
              0.4444444444444444,
              "#bd3786"
             ],
             [
              0.5555555555555556,
              "#d8576b"
             ],
             [
              0.6666666666666666,
              "#ed7953"
             ],
             [
              0.7777777777777778,
              "#fb9f3a"
             ],
             [
              0.8888888888888888,
              "#fdca26"
             ],
             [
              1,
              "#f0f921"
             ]
            ],
            "type": "heatmap"
           }
          ],
          "histogram": [
           {
            "marker": {
             "pattern": {
              "fillmode": "overlay",
              "size": 10,
              "solidity": 0.2
             }
            },
            "type": "histogram"
           }
          ],
          "histogram2d": [
           {
            "colorbar": {
             "outlinewidth": 0,
             "ticks": ""
            },
            "colorscale": [
             [
              0,
              "#0d0887"
             ],
             [
              0.1111111111111111,
              "#46039f"
             ],
             [
              0.2222222222222222,
              "#7201a8"
             ],
             [
              0.3333333333333333,
              "#9c179e"
             ],
             [
              0.4444444444444444,
              "#bd3786"
             ],
             [
              0.5555555555555556,
              "#d8576b"
             ],
             [
              0.6666666666666666,
              "#ed7953"
             ],
             [
              0.7777777777777778,
              "#fb9f3a"
             ],
             [
              0.8888888888888888,
              "#fdca26"
             ],
             [
              1,
              "#f0f921"
             ]
            ],
            "type": "histogram2d"
           }
          ],
          "histogram2dcontour": [
           {
            "colorbar": {
             "outlinewidth": 0,
             "ticks": ""
            },
            "colorscale": [
             [
              0,
              "#0d0887"
             ],
             [
              0.1111111111111111,
              "#46039f"
             ],
             [
              0.2222222222222222,
              "#7201a8"
             ],
             [
              0.3333333333333333,
              "#9c179e"
             ],
             [
              0.4444444444444444,
              "#bd3786"
             ],
             [
              0.5555555555555556,
              "#d8576b"
             ],
             [
              0.6666666666666666,
              "#ed7953"
             ],
             [
              0.7777777777777778,
              "#fb9f3a"
             ],
             [
              0.8888888888888888,
              "#fdca26"
             ],
             [
              1,
              "#f0f921"
             ]
            ],
            "type": "histogram2dcontour"
           }
          ],
          "mesh3d": [
           {
            "colorbar": {
             "outlinewidth": 0,
             "ticks": ""
            },
            "type": "mesh3d"
           }
          ],
          "parcoords": [
           {
            "line": {
             "colorbar": {
              "outlinewidth": 0,
              "ticks": ""
             }
            },
            "type": "parcoords"
           }
          ],
          "pie": [
           {
            "automargin": true,
            "type": "pie"
           }
          ],
          "scatter": [
           {
            "fillpattern": {
             "fillmode": "overlay",
             "size": 10,
             "solidity": 0.2
            },
            "type": "scatter"
           }
          ],
          "scatter3d": [
           {
            "line": {
             "colorbar": {
              "outlinewidth": 0,
              "ticks": ""
             }
            },
            "marker": {
             "colorbar": {
              "outlinewidth": 0,
              "ticks": ""
             }
            },
            "type": "scatter3d"
           }
          ],
          "scattercarpet": [
           {
            "marker": {
             "colorbar": {
              "outlinewidth": 0,
              "ticks": ""
             }
            },
            "type": "scattercarpet"
           }
          ],
          "scattergeo": [
           {
            "marker": {
             "colorbar": {
              "outlinewidth": 0,
              "ticks": ""
             }
            },
            "type": "scattergeo"
           }
          ],
          "scattergl": [
           {
            "marker": {
             "colorbar": {
              "outlinewidth": 0,
              "ticks": ""
             }
            },
            "type": "scattergl"
           }
          ],
          "scattermap": [
           {
            "marker": {
             "colorbar": {
              "outlinewidth": 0,
              "ticks": ""
             }
            },
            "type": "scattermap"
           }
          ],
          "scattermapbox": [
           {
            "marker": {
             "colorbar": {
              "outlinewidth": 0,
              "ticks": ""
             }
            },
            "type": "scattermapbox"
           }
          ],
          "scatterpolar": [
           {
            "marker": {
             "colorbar": {
              "outlinewidth": 0,
              "ticks": ""
             }
            },
            "type": "scatterpolar"
           }
          ],
          "scatterpolargl": [
           {
            "marker": {
             "colorbar": {
              "outlinewidth": 0,
              "ticks": ""
             }
            },
            "type": "scatterpolargl"
           }
          ],
          "scatterternary": [
           {
            "marker": {
             "colorbar": {
              "outlinewidth": 0,
              "ticks": ""
             }
            },
            "type": "scatterternary"
           }
          ],
          "surface": [
           {
            "colorbar": {
             "outlinewidth": 0,
             "ticks": ""
            },
            "colorscale": [
             [
              0,
              "#0d0887"
             ],
             [
              0.1111111111111111,
              "#46039f"
             ],
             [
              0.2222222222222222,
              "#7201a8"
             ],
             [
              0.3333333333333333,
              "#9c179e"
             ],
             [
              0.4444444444444444,
              "#bd3786"
             ],
             [
              0.5555555555555556,
              "#d8576b"
             ],
             [
              0.6666666666666666,
              "#ed7953"
             ],
             [
              0.7777777777777778,
              "#fb9f3a"
             ],
             [
              0.8888888888888888,
              "#fdca26"
             ],
             [
              1,
              "#f0f921"
             ]
            ],
            "type": "surface"
           }
          ],
          "table": [
           {
            "cells": {
             "fill": {
              "color": "#EBF0F8"
             },
             "line": {
              "color": "white"
             }
            },
            "header": {
             "fill": {
              "color": "#C8D4E3"
             },
             "line": {
              "color": "white"
             }
            },
            "type": "table"
           }
          ]
         },
         "layout": {
          "annotationdefaults": {
           "arrowcolor": "#2a3f5f",
           "arrowhead": 0,
           "arrowwidth": 1
          },
          "autotypenumbers": "strict",
          "coloraxis": {
           "colorbar": {
            "outlinewidth": 0,
            "ticks": ""
           }
          },
          "colorscale": {
           "diverging": [
            [
             0,
             "#8e0152"
            ],
            [
             0.1,
             "#c51b7d"
            ],
            [
             0.2,
             "#de77ae"
            ],
            [
             0.3,
             "#f1b6da"
            ],
            [
             0.4,
             "#fde0ef"
            ],
            [
             0.5,
             "#f7f7f7"
            ],
            [
             0.6,
             "#e6f5d0"
            ],
            [
             0.7,
             "#b8e186"
            ],
            [
             0.8,
             "#7fbc41"
            ],
            [
             0.9,
             "#4d9221"
            ],
            [
             1,
             "#276419"
            ]
           ],
           "sequential": [
            [
             0,
             "#0d0887"
            ],
            [
             0.1111111111111111,
             "#46039f"
            ],
            [
             0.2222222222222222,
             "#7201a8"
            ],
            [
             0.3333333333333333,
             "#9c179e"
            ],
            [
             0.4444444444444444,
             "#bd3786"
            ],
            [
             0.5555555555555556,
             "#d8576b"
            ],
            [
             0.6666666666666666,
             "#ed7953"
            ],
            [
             0.7777777777777778,
             "#fb9f3a"
            ],
            [
             0.8888888888888888,
             "#fdca26"
            ],
            [
             1,
             "#f0f921"
            ]
           ],
           "sequentialminus": [
            [
             0,
             "#0d0887"
            ],
            [
             0.1111111111111111,
             "#46039f"
            ],
            [
             0.2222222222222222,
             "#7201a8"
            ],
            [
             0.3333333333333333,
             "#9c179e"
            ],
            [
             0.4444444444444444,
             "#bd3786"
            ],
            [
             0.5555555555555556,
             "#d8576b"
            ],
            [
             0.6666666666666666,
             "#ed7953"
            ],
            [
             0.7777777777777778,
             "#fb9f3a"
            ],
            [
             0.8888888888888888,
             "#fdca26"
            ],
            [
             1,
             "#f0f921"
            ]
           ]
          },
          "colorway": [
           "#636efa",
           "#EF553B",
           "#00cc96",
           "#ab63fa",
           "#FFA15A",
           "#19d3f3",
           "#FF6692",
           "#B6E880",
           "#FF97FF",
           "#FECB52"
          ],
          "font": {
           "color": "#2a3f5f"
          },
          "geo": {
           "bgcolor": "white",
           "lakecolor": "white",
           "landcolor": "#E5ECF6",
           "showlakes": true,
           "showland": true,
           "subunitcolor": "white"
          },
          "hoverlabel": {
           "align": "left"
          },
          "hovermode": "closest",
          "mapbox": {
           "style": "light"
          },
          "paper_bgcolor": "white",
          "plot_bgcolor": "#E5ECF6",
          "polar": {
           "angularaxis": {
            "gridcolor": "white",
            "linecolor": "white",
            "ticks": ""
           },
           "bgcolor": "#E5ECF6",
           "radialaxis": {
            "gridcolor": "white",
            "linecolor": "white",
            "ticks": ""
           }
          },
          "scene": {
           "xaxis": {
            "backgroundcolor": "#E5ECF6",
            "gridcolor": "white",
            "gridwidth": 2,
            "linecolor": "white",
            "showbackground": true,
            "ticks": "",
            "zerolinecolor": "white"
           },
           "yaxis": {
            "backgroundcolor": "#E5ECF6",
            "gridcolor": "white",
            "gridwidth": 2,
            "linecolor": "white",
            "showbackground": true,
            "ticks": "",
            "zerolinecolor": "white"
           },
           "zaxis": {
            "backgroundcolor": "#E5ECF6",
            "gridcolor": "white",
            "gridwidth": 2,
            "linecolor": "white",
            "showbackground": true,
            "ticks": "",
            "zerolinecolor": "white"
           }
          },
          "shapedefaults": {
           "line": {
            "color": "#2a3f5f"
           }
          },
          "ternary": {
           "aaxis": {
            "gridcolor": "white",
            "linecolor": "white",
            "ticks": ""
           },
           "baxis": {
            "gridcolor": "white",
            "linecolor": "white",
            "ticks": ""
           },
           "bgcolor": "#E5ECF6",
           "caxis": {
            "gridcolor": "white",
            "linecolor": "white",
            "ticks": ""
           }
          },
          "title": {
           "x": 0.05
          },
          "xaxis": {
           "automargin": true,
           "gridcolor": "white",
           "linecolor": "white",
           "ticks": "",
           "title": {
            "standoff": 15
           },
           "zerolinecolor": "white",
           "zerolinewidth": 2
          },
          "yaxis": {
           "automargin": true,
           "gridcolor": "white",
           "linecolor": "white",
           "ticks": "",
           "title": {
            "standoff": 15
           },
           "zerolinecolor": "white",
           "zerolinewidth": 2
          }
         }
        },
        "title": {
         "text": "Salary Gap% for Top-3 Data Roles in US and EU"
        },
        "xaxis": {
         "title": {
          "text": ""
         }
        },
        "yaxis": {
         "title": {
          "text": "Median Salary, EUR"
         }
        }
       }
      }
     },
     "metadata": {},
     "output_type": "display_data"
    }
   ],
   "source": [
    "df_top = df_filtered[\n",
    "    (df_filtered['region_group'].isin(['EU', 'US'])) &\n",
    "    (df_filtered['job_title_short'].isin(top_roles))\n",
    "    ]\n",
    "\n",
    "salary_medians = df_top.groupby(['job_title_short', 'region_group'])['salary_month_avg_eur'].median().unstack()\n",
    "salary_medians['gap_abs'] = salary_medians['US'] - salary_medians['EU']\n",
    "salary_medians['gap_pct'] = 100 * (salary_medians['gap_abs'] / salary_medians['EU'])\n",
    "\n",
    "# Prepare base data\n",
    "df_base = salary_medians.reset_index()\n",
    "x_labels = df_base['job_title_short']\n",
    "\n",
    "# Create the bar chart\n",
    "fig3 = go.Figure()\n",
    "\n",
    "# US bars (first in group)\n",
    "fig3.add_trace(go.Bar(\n",
    "    x=x_labels,\n",
    "    y=df_base['US'],\n",
    "    name='US',\n",
    "    marker_color='#aec7e8',\n",
    "    width=0.35,\n",
    "    text=df_base['US'].round(0),\n",
    "    textposition='inside',\n",
    "    insidetextanchor='middle'\n",
    "))\n",
    "\n",
    "# EU bars (second in group)\n",
    "fig3.add_trace(go.Bar(\n",
    "    x=x_labels,\n",
    "    y=df_base['EU'],\n",
    "    name='EU',\n",
    "    marker_color='#1f77b4',\n",
    "    width=0.35,\n",
    "    text=df_base['EU'].round(0),\n",
    "    textposition='inside',\n",
    "    insidetextanchor='middle'\n",
    "))\n",
    "\n",
    "# Add arrows and % gap labels\n",
    "for i, row in df_base.iterrows():\n",
    "    x = row['job_title_short']\n",
    "    y_us = row['US']\n",
    "    y_eu = row['EU']\n",
    "    pct_gap = row['gap_pct']\n",
    "    y_max = max(y_us, y_eu)\n",
    "\n",
    "    fig3.add_annotation(\n",
    "        x=x,\n",
    "        y=y_max + 800,\n",
    "        text=f\"{pct_gap:.1f}%\",\n",
    "        showarrow=True,\n",
    "        arrowhead=2,\n",
    "        arrowwidth=2.5,\n",
    "        arrowcolor='gray',\n",
    "        ax=0,\n",
    "        ay=-40,\n",
    "        font=dict(size=12, color='black'),\n",
    "        standoff=6\n",
    "    )\n",
    "\n",
    "# Layout settings\n",
    "fig3.update_layout(\n",
    "    barmode='group',\n",
    "    bargap=0.1,  \n",
    "    title='Salary Gap% for Top-3 Data Roles in US and EU',\n",
    "    xaxis_title='',\n",
    "    yaxis_title='Median Salary, EUR',\n",
    "    height=500,\n",
    "    legend=dict(title='Region'),\n",
    "    margin=dict(t=80)\n",
    ")\n",
    "\n",
    "fig3.show()"
   ]
  },
  {
   "cell_type": "markdown",
   "id": "54eb9ded",
   "metadata": {},
   "source": [
    "The salary gap between the US and EU is almost negligible for Data Analysts (1%), indicating this role is well-established and globally standardized in terms of expectations and compensation. However, the much larger gap for Data Scientists and especially Data Engineers suggests that the EU is still catching up in adopting advanced analytics and scaling data infrastructure."
   ]
  },
  {
   "cell_type": "markdown",
   "id": "97759c64",
   "metadata": {},
   "source": [
    "### An interactive map visualizing median salaries for these roles across European countries\n",
    "\n",
    "This interactive map shows the **median monthly salaries** across European countries for each of the top-3 data roles. It helps identify salary hotspots and understand how location affects compensation."
   ]
  },
  {
   "cell_type": "code",
   "execution_count": 27,
   "id": "1e19d1ac",
   "metadata": {},
   "outputs": [
    {
     "data": {
      "application/vnd.plotly.v1+json": {
       "config": {
        "plotlyServerURL": "https://plot.ly"
       },
       "data": [
        {
         "colorbar": {
          "title": {
           "text": "EUR"
          }
         },
         "colorscale": [
          [
           0,
           "rgb(247,251,255)"
          ],
          [
           0.125,
           "rgb(222,235,247)"
          ],
          [
           0.25,
           "rgb(198,219,239)"
          ],
          [
           0.375,
           "rgb(158,202,225)"
          ],
          [
           0.5,
           "rgb(107,174,214)"
          ],
          [
           0.625,
           "rgb(66,146,198)"
          ],
          [
           0.75,
           "rgb(33,113,181)"
          ],
          [
           0.875,
           "rgb(8,81,156)"
          ],
          [
           1,
           "rgb(8,48,107)"
          ]
         ],
         "locationmode": "ISO-3",
         "locations": [
          "AUT",
          "BEL",
          "BGR",
          "HRV",
          "CYP",
          "DNK",
          "EST",
          "FIN",
          "FRA",
          "DEU",
          "GRC",
          "HUN",
          "IRL",
          "ITA",
          "LVA",
          "LTU",
          "LUX",
          "MLT",
          "NLD",
          "POL",
          "PRT",
          "ROU",
          "ESP",
          "SWE"
         ],
         "name": "Data Analyst",
         "text": [
          "Austria",
          "Belgium",
          "Bulgaria",
          "Croatia",
          "Cyprus",
          "Denmark",
          "Estonia",
          "Finland",
          "France",
          "Germany",
          "Greece",
          "Hungary",
          "Ireland",
          "Italy",
          "Latvia",
          "Lithuania",
          "Luxembourg",
          "Malta",
          "Netherlands",
          "Poland",
          "Portugal",
          "Romania",
          "Spain",
          "Sweden"
         ],
         "type": "choropleth",
         "visible": true,
         "z": {
          "bdata": "AAAAAOBetkCuR+F6FJK1QClcj8L1tLxAAAAAAIBgr0AUrkfh+jqsQAAAAABAp7hAAAAAAIBgr0DXo3A9iju9QKRwPQrX0a9AAAAAAMDOu0DXo3A96oe7QHsUrkfhXrZAPgrXoxCDt0C4HoXrUVatQAAAAACAYK9AAAAAAMDOu0AAAAAAAOCvQFK4HoVrXLxAhetRuJ6uuEAAAAAAQKe4QAAAAABAp7hAAAAAAMArtEDXo3A9CnO5QB6F61E4/71A",
          "dtype": "f8"
         },
         "zmax": 13529.17,
         "zmin": 3613.49
        },
        {
         "colorbar": {
          "title": {
           "text": "EUR"
          }
         },
         "colorscale": [
          [
           0,
           "rgb(247,251,255)"
          ],
          [
           0.125,
           "rgb(222,235,247)"
          ],
          [
           0.25,
           "rgb(198,219,239)"
          ],
          [
           0.375,
           "rgb(158,202,225)"
          ],
          [
           0.5,
           "rgb(107,174,214)"
          ],
          [
           0.625,
           "rgb(66,146,198)"
          ],
          [
           0.75,
           "rgb(33,113,181)"
          ],
          [
           0.875,
           "rgb(8,81,156)"
          ],
          [
           1,
           "rgb(8,48,107)"
          ]
         ],
         "locationmode": "ISO-3",
         "locations": [
          "AUT",
          "BEL",
          "BGR",
          "HRV",
          "CYP",
          "DNK",
          "EST",
          "FIN",
          "FRA",
          "DEU",
          "GRC",
          "HUN",
          "IRL",
          "ITA",
          "LVA",
          "LTU",
          "LUX",
          "MLT",
          "NLD",
          "POL",
          "PRT",
          "ROU",
          "SVK",
          "SVN",
          "ESP",
          "SWE"
         ],
         "name": "Data Engineer",
         "text": [
          "Austria",
          "Belgium",
          "Bulgaria",
          "Croatia",
          "Cyprus",
          "Denmark",
          "Estonia",
          "Finland",
          "France",
          "Germany",
          "Greece",
          "Hungary",
          "Ireland",
          "Italy",
          "Latvia",
          "Lithuania",
          "Luxembourg",
          "Malta",
          "Netherlands",
          "Poland",
          "Portugal",
          "Romania",
          "Slovakia",
          "Slovenia",
          "Spain",
          "Sweden"
         ],
         "type": "choropleth",
         "visible": false,
         "z": {
          "bdata": "KVyPwvVnxEDsUbgeBTO7QM3MzMxsDsRAcD0K14PeukDXo3A9ambCQBSuR+Gq5cBAUrgehUt5v0AAAAAAwMa6QOxRuB4FM7tAKVyPwvVnxEAAAAAAwMa6QClcj8L1Z8RAKVyPwvVnxEDhehSuR/a6QAAAAADAxrpAFK5H4arlwEAAAAAAQKe4QHsUrkfhXrZA4XoUrkf2ukAAAAAAIHjCQAAAAAAQZ8FAKVyPwrUxu0ApXI/C9WfEQAAAAABg37VA16NwPWpmwkAAAAAAIHjCQA==",
          "dtype": "f8"
         },
         "zmax": 13529.17,
         "zmin": 3613.49
        },
        {
         "colorbar": {
          "title": {
           "text": "EUR"
          }
         },
         "colorscale": [
          [
           0,
           "rgb(247,251,255)"
          ],
          [
           0.125,
           "rgb(222,235,247)"
          ],
          [
           0.25,
           "rgb(198,219,239)"
          ],
          [
           0.375,
           "rgb(158,202,225)"
          ],
          [
           0.5,
           "rgb(107,174,214)"
          ],
          [
           0.625,
           "rgb(66,146,198)"
          ],
          [
           0.75,
           "rgb(33,113,181)"
          ],
          [
           0.875,
           "rgb(8,81,156)"
          ],
          [
           1,
           "rgb(8,48,107)"
          ]
         ],
         "locationmode": "ISO-3",
         "locations": [
          "AUT",
          "BEL",
          "BGR",
          "HRV",
          "CYP",
          "DNK",
          "EST",
          "FIN",
          "FRA",
          "DEU",
          "GRC",
          "HUN",
          "IRL",
          "ITA",
          "LTU",
          "LUX",
          "NLD",
          "POL",
          "PRT",
          "ROU",
          "SVK",
          "ESP",
          "SWE"
         ],
         "name": "Data Scientist",
         "text": [
          "Austria",
          "Belgium",
          "Bulgaria",
          "Croatia",
          "Cyprus",
          "Denmark",
          "Estonia",
          "Finland",
          "France",
          "Germany",
          "Greece",
          "Hungary",
          "Ireland",
          "Italy",
          "Lithuania",
          "Luxembourg",
          "Netherlands",
          "Poland",
          "Portugal",
          "Romania",
          "Slovakia",
          "Spain",
          "Sweden"
         ],
         "type": "choropleth",
         "visible": false,
         "z": {
          "bdata": "FK5H4dq2s0AAAAAA4A7BQD0K16NwRLhAmpmZman9wEApXI/ClWzKQAAAAABATL5AAAAAACDAv0DD9Shcz+W/QGZmZmZmYrhA16NwPWozwkAUrkfh2t64QAAAAABAp7hA16NwPYo8vEAzMzMz04S4QBSuR+HancVAAAAAACDKxUAAAAAAIMrFQNejcD1KPsJAFK5H4QoZxUDXo3A9ar3AQAAAAADQHsFA4XoUrkcouEAAAAAAIMrFQA==",
          "dtype": "f8"
         },
         "zmax": 13529.17,
         "zmin": 3613.49
        }
       ],
       "layout": {
        "geo": {
         "projection": {
          "type": "natural earth"
         },
         "scope": "europe",
         "showcoastlines": false,
         "showframe": false
        },
        "height": 600,
        "template": {
         "data": {
          "bar": [
           {
            "error_x": {
             "color": "#2a3f5f"
            },
            "error_y": {
             "color": "#2a3f5f"
            },
            "marker": {
             "line": {
              "color": "#E5ECF6",
              "width": 0.5
             },
             "pattern": {
              "fillmode": "overlay",
              "size": 10,
              "solidity": 0.2
             }
            },
            "type": "bar"
           }
          ],
          "barpolar": [
           {
            "marker": {
             "line": {
              "color": "#E5ECF6",
              "width": 0.5
             },
             "pattern": {
              "fillmode": "overlay",
              "size": 10,
              "solidity": 0.2
             }
            },
            "type": "barpolar"
           }
          ],
          "carpet": [
           {
            "aaxis": {
             "endlinecolor": "#2a3f5f",
             "gridcolor": "white",
             "linecolor": "white",
             "minorgridcolor": "white",
             "startlinecolor": "#2a3f5f"
            },
            "baxis": {
             "endlinecolor": "#2a3f5f",
             "gridcolor": "white",
             "linecolor": "white",
             "minorgridcolor": "white",
             "startlinecolor": "#2a3f5f"
            },
            "type": "carpet"
           }
          ],
          "choropleth": [
           {
            "colorbar": {
             "outlinewidth": 0,
             "ticks": ""
            },
            "type": "choropleth"
           }
          ],
          "contour": [
           {
            "colorbar": {
             "outlinewidth": 0,
             "ticks": ""
            },
            "colorscale": [
             [
              0,
              "#0d0887"
             ],
             [
              0.1111111111111111,
              "#46039f"
             ],
             [
              0.2222222222222222,
              "#7201a8"
             ],
             [
              0.3333333333333333,
              "#9c179e"
             ],
             [
              0.4444444444444444,
              "#bd3786"
             ],
             [
              0.5555555555555556,
              "#d8576b"
             ],
             [
              0.6666666666666666,
              "#ed7953"
             ],
             [
              0.7777777777777778,
              "#fb9f3a"
             ],
             [
              0.8888888888888888,
              "#fdca26"
             ],
             [
              1,
              "#f0f921"
             ]
            ],
            "type": "contour"
           }
          ],
          "contourcarpet": [
           {
            "colorbar": {
             "outlinewidth": 0,
             "ticks": ""
            },
            "type": "contourcarpet"
           }
          ],
          "heatmap": [
           {
            "colorbar": {
             "outlinewidth": 0,
             "ticks": ""
            },
            "colorscale": [
             [
              0,
              "#0d0887"
             ],
             [
              0.1111111111111111,
              "#46039f"
             ],
             [
              0.2222222222222222,
              "#7201a8"
             ],
             [
              0.3333333333333333,
              "#9c179e"
             ],
             [
              0.4444444444444444,
              "#bd3786"
             ],
             [
              0.5555555555555556,
              "#d8576b"
             ],
             [
              0.6666666666666666,
              "#ed7953"
             ],
             [
              0.7777777777777778,
              "#fb9f3a"
             ],
             [
              0.8888888888888888,
              "#fdca26"
             ],
             [
              1,
              "#f0f921"
             ]
            ],
            "type": "heatmap"
           }
          ],
          "histogram": [
           {
            "marker": {
             "pattern": {
              "fillmode": "overlay",
              "size": 10,
              "solidity": 0.2
             }
            },
            "type": "histogram"
           }
          ],
          "histogram2d": [
           {
            "colorbar": {
             "outlinewidth": 0,
             "ticks": ""
            },
            "colorscale": [
             [
              0,
              "#0d0887"
             ],
             [
              0.1111111111111111,
              "#46039f"
             ],
             [
              0.2222222222222222,
              "#7201a8"
             ],
             [
              0.3333333333333333,
              "#9c179e"
             ],
             [
              0.4444444444444444,
              "#bd3786"
             ],
             [
              0.5555555555555556,
              "#d8576b"
             ],
             [
              0.6666666666666666,
              "#ed7953"
             ],
             [
              0.7777777777777778,
              "#fb9f3a"
             ],
             [
              0.8888888888888888,
              "#fdca26"
             ],
             [
              1,
              "#f0f921"
             ]
            ],
            "type": "histogram2d"
           }
          ],
          "histogram2dcontour": [
           {
            "colorbar": {
             "outlinewidth": 0,
             "ticks": ""
            },
            "colorscale": [
             [
              0,
              "#0d0887"
             ],
             [
              0.1111111111111111,
              "#46039f"
             ],
             [
              0.2222222222222222,
              "#7201a8"
             ],
             [
              0.3333333333333333,
              "#9c179e"
             ],
             [
              0.4444444444444444,
              "#bd3786"
             ],
             [
              0.5555555555555556,
              "#d8576b"
             ],
             [
              0.6666666666666666,
              "#ed7953"
             ],
             [
              0.7777777777777778,
              "#fb9f3a"
             ],
             [
              0.8888888888888888,
              "#fdca26"
             ],
             [
              1,
              "#f0f921"
             ]
            ],
            "type": "histogram2dcontour"
           }
          ],
          "mesh3d": [
           {
            "colorbar": {
             "outlinewidth": 0,
             "ticks": ""
            },
            "type": "mesh3d"
           }
          ],
          "parcoords": [
           {
            "line": {
             "colorbar": {
              "outlinewidth": 0,
              "ticks": ""
             }
            },
            "type": "parcoords"
           }
          ],
          "pie": [
           {
            "automargin": true,
            "type": "pie"
           }
          ],
          "scatter": [
           {
            "fillpattern": {
             "fillmode": "overlay",
             "size": 10,
             "solidity": 0.2
            },
            "type": "scatter"
           }
          ],
          "scatter3d": [
           {
            "line": {
             "colorbar": {
              "outlinewidth": 0,
              "ticks": ""
             }
            },
            "marker": {
             "colorbar": {
              "outlinewidth": 0,
              "ticks": ""
             }
            },
            "type": "scatter3d"
           }
          ],
          "scattercarpet": [
           {
            "marker": {
             "colorbar": {
              "outlinewidth": 0,
              "ticks": ""
             }
            },
            "type": "scattercarpet"
           }
          ],
          "scattergeo": [
           {
            "marker": {
             "colorbar": {
              "outlinewidth": 0,
              "ticks": ""
             }
            },
            "type": "scattergeo"
           }
          ],
          "scattergl": [
           {
            "marker": {
             "colorbar": {
              "outlinewidth": 0,
              "ticks": ""
             }
            },
            "type": "scattergl"
           }
          ],
          "scattermap": [
           {
            "marker": {
             "colorbar": {
              "outlinewidth": 0,
              "ticks": ""
             }
            },
            "type": "scattermap"
           }
          ],
          "scattermapbox": [
           {
            "marker": {
             "colorbar": {
              "outlinewidth": 0,
              "ticks": ""
             }
            },
            "type": "scattermapbox"
           }
          ],
          "scatterpolar": [
           {
            "marker": {
             "colorbar": {
              "outlinewidth": 0,
              "ticks": ""
             }
            },
            "type": "scatterpolar"
           }
          ],
          "scatterpolargl": [
           {
            "marker": {
             "colorbar": {
              "outlinewidth": 0,
              "ticks": ""
             }
            },
            "type": "scatterpolargl"
           }
          ],
          "scatterternary": [
           {
            "marker": {
             "colorbar": {
              "outlinewidth": 0,
              "ticks": ""
             }
            },
            "type": "scatterternary"
           }
          ],
          "surface": [
           {
            "colorbar": {
             "outlinewidth": 0,
             "ticks": ""
            },
            "colorscale": [
             [
              0,
              "#0d0887"
             ],
             [
              0.1111111111111111,
              "#46039f"
             ],
             [
              0.2222222222222222,
              "#7201a8"
             ],
             [
              0.3333333333333333,
              "#9c179e"
             ],
             [
              0.4444444444444444,
              "#bd3786"
             ],
             [
              0.5555555555555556,
              "#d8576b"
             ],
             [
              0.6666666666666666,
              "#ed7953"
             ],
             [
              0.7777777777777778,
              "#fb9f3a"
             ],
             [
              0.8888888888888888,
              "#fdca26"
             ],
             [
              1,
              "#f0f921"
             ]
            ],
            "type": "surface"
           }
          ],
          "table": [
           {
            "cells": {
             "fill": {
              "color": "#EBF0F8"
             },
             "line": {
              "color": "white"
             }
            },
            "header": {
             "fill": {
              "color": "#C8D4E3"
             },
             "line": {
              "color": "white"
             }
            },
            "type": "table"
           }
          ]
         },
         "layout": {
          "annotationdefaults": {
           "arrowcolor": "#2a3f5f",
           "arrowhead": 0,
           "arrowwidth": 1
          },
          "autotypenumbers": "strict",
          "coloraxis": {
           "colorbar": {
            "outlinewidth": 0,
            "ticks": ""
           }
          },
          "colorscale": {
           "diverging": [
            [
             0,
             "#8e0152"
            ],
            [
             0.1,
             "#c51b7d"
            ],
            [
             0.2,
             "#de77ae"
            ],
            [
             0.3,
             "#f1b6da"
            ],
            [
             0.4,
             "#fde0ef"
            ],
            [
             0.5,
             "#f7f7f7"
            ],
            [
             0.6,
             "#e6f5d0"
            ],
            [
             0.7,
             "#b8e186"
            ],
            [
             0.8,
             "#7fbc41"
            ],
            [
             0.9,
             "#4d9221"
            ],
            [
             1,
             "#276419"
            ]
           ],
           "sequential": [
            [
             0,
             "#0d0887"
            ],
            [
             0.1111111111111111,
             "#46039f"
            ],
            [
             0.2222222222222222,
             "#7201a8"
            ],
            [
             0.3333333333333333,
             "#9c179e"
            ],
            [
             0.4444444444444444,
             "#bd3786"
            ],
            [
             0.5555555555555556,
             "#d8576b"
            ],
            [
             0.6666666666666666,
             "#ed7953"
            ],
            [
             0.7777777777777778,
             "#fb9f3a"
            ],
            [
             0.8888888888888888,
             "#fdca26"
            ],
            [
             1,
             "#f0f921"
            ]
           ],
           "sequentialminus": [
            [
             0,
             "#0d0887"
            ],
            [
             0.1111111111111111,
             "#46039f"
            ],
            [
             0.2222222222222222,
             "#7201a8"
            ],
            [
             0.3333333333333333,
             "#9c179e"
            ],
            [
             0.4444444444444444,
             "#bd3786"
            ],
            [
             0.5555555555555556,
             "#d8576b"
            ],
            [
             0.6666666666666666,
             "#ed7953"
            ],
            [
             0.7777777777777778,
             "#fb9f3a"
            ],
            [
             0.8888888888888888,
             "#fdca26"
            ],
            [
             1,
             "#f0f921"
            ]
           ]
          },
          "colorway": [
           "#636efa",
           "#EF553B",
           "#00cc96",
           "#ab63fa",
           "#FFA15A",
           "#19d3f3",
           "#FF6692",
           "#B6E880",
           "#FF97FF",
           "#FECB52"
          ],
          "font": {
           "color": "#2a3f5f"
          },
          "geo": {
           "bgcolor": "white",
           "lakecolor": "white",
           "landcolor": "#E5ECF6",
           "showlakes": true,
           "showland": true,
           "subunitcolor": "white"
          },
          "hoverlabel": {
           "align": "left"
          },
          "hovermode": "closest",
          "mapbox": {
           "style": "light"
          },
          "paper_bgcolor": "white",
          "plot_bgcolor": "#E5ECF6",
          "polar": {
           "angularaxis": {
            "gridcolor": "white",
            "linecolor": "white",
            "ticks": ""
           },
           "bgcolor": "#E5ECF6",
           "radialaxis": {
            "gridcolor": "white",
            "linecolor": "white",
            "ticks": ""
           }
          },
          "scene": {
           "xaxis": {
            "backgroundcolor": "#E5ECF6",
            "gridcolor": "white",
            "gridwidth": 2,
            "linecolor": "white",
            "showbackground": true,
            "ticks": "",
            "zerolinecolor": "white"
           },
           "yaxis": {
            "backgroundcolor": "#E5ECF6",
            "gridcolor": "white",
            "gridwidth": 2,
            "linecolor": "white",
            "showbackground": true,
            "ticks": "",
            "zerolinecolor": "white"
           },
           "zaxis": {
            "backgroundcolor": "#E5ECF6",
            "gridcolor": "white",
            "gridwidth": 2,
            "linecolor": "white",
            "showbackground": true,
            "ticks": "",
            "zerolinecolor": "white"
           }
          },
          "shapedefaults": {
           "line": {
            "color": "#2a3f5f"
           }
          },
          "ternary": {
           "aaxis": {
            "gridcolor": "white",
            "linecolor": "white",
            "ticks": ""
           },
           "baxis": {
            "gridcolor": "white",
            "linecolor": "white",
            "ticks": ""
           },
           "bgcolor": "#E5ECF6",
           "caxis": {
            "gridcolor": "white",
            "linecolor": "white",
            "ticks": ""
           }
          },
          "title": {
           "x": 0.05
          },
          "xaxis": {
           "automargin": true,
           "gridcolor": "white",
           "linecolor": "white",
           "ticks": "",
           "title": {
            "standoff": 15
           },
           "zerolinecolor": "white",
           "zerolinewidth": 2
          },
          "yaxis": {
           "automargin": true,
           "gridcolor": "white",
           "linecolor": "white",
           "ticks": "",
           "title": {
            "standoff": 15
           },
           "zerolinecolor": "white",
           "zerolinewidth": 2
          }
         }
        },
        "title": {
         "text": "Median Monthly Salary in EU — Data Analyst",
         "x": 0.5,
         "xanchor": "center",
         "y": 0.92
        },
        "updatemenus": [
         {
          "buttons": [
           {
            "args": [
             {
              "visible": [
               true,
               false,
               false
              ]
             },
             {
              "title": "Median Monthly Salary in EU — Data Analyst"
             }
            ],
            "label": "Data Analyst",
            "method": "update"
           },
           {
            "args": [
             {
              "visible": [
               false,
               true,
               false
              ]
             },
             {
              "title": "Median Monthly Salary in EU — Data Engineer"
             }
            ],
            "label": "Data Engineer",
            "method": "update"
           },
           {
            "args": [
             {
              "visible": [
               false,
               false,
               true
              ]
             },
             {
              "title": "Median Monthly Salary in EU — Data Scientist"
             }
            ],
            "label": "Data Scientist",
            "method": "update"
           }
          ],
          "direction": "right",
          "pad": {
           "r": 10,
           "t": 10
          },
          "type": "buttons",
          "x": 0.5,
          "xanchor": "center",
          "y": 1.05,
          "yanchor": "top"
         }
        ]
       }
      }
     },
     "metadata": {},
     "output_type": "display_data"
    }
   ],
   "source": [
    "# Prepare dataset for ploting map\n",
    "df_map = df_eu_top.groupby(['job_country', 'job_title_short'])['salary_month_avg_eur'].median().reset_index()\n",
    "\n",
    "df_iso_lookup = df_eu_top[['job_country', 'ISO']].drop_duplicates()\n",
    "df_map = df_map.merge(df_iso_lookup, on='job_country', how='left')\n",
    "df_map.rename(columns={'ISO': 'iso_alpha'}, inplace=True)\n",
    "df_map = df_map.dropna(subset=['iso_alpha'])\n",
    "\n",
    "# Prepare traces for each role (Data Analyst, Scientist, Engineer)\n",
    "fig4 = go.Figure()\n",
    "\n",
    "job_titles = df_map['job_title_short'].unique()\n",
    "\n",
    "for role in job_titles:\n",
    "    df_role = df_map[df_map['job_title_short'] == role]\n",
    "    fig4.add_trace(go.Choropleth(\n",
    "        locations=df_role['iso_alpha'],\n",
    "        z=df_role['salary_month_avg_eur'],\n",
    "        text=df_role['job_country'],\n",
    "        colorscale='Blues',\n",
    "        colorbar_title='EUR',\n",
    "        zmin=df_map['salary_month_avg_eur'].min(),\n",
    "        zmax=df_map['salary_month_avg_eur'].max(),\n",
    "        visible=(role == job_titles[0]),\n",
    "        name=role,\n",
    "        locationmode='ISO-3'\n",
    "    ))\n",
    "\n",
    "# Side-by-side toggle buttons\n",
    "buttons = [\n",
    "    {\n",
    "        'label': role,\n",
    "        'method': 'update',\n",
    "        'args': [\n",
    "            {'visible': [r == role for r in job_titles]},\n",
    "            {'title': f'Median Monthly Salary in EU — {role}'}\n",
    "        ]\n",
    "    }\n",
    "    for role in job_titles\n",
    "]\n",
    "\n",
    "# Layout with buttons above the plot\n",
    "fig4.update_layout(\n",
    "    title=dict(\n",
    "        text=f'Median Monthly Salary in EU — {job_titles[0]}',\n",
    "        y=0.92,  # move title up to make space\n",
    "        x=0.5,\n",
    "        xanchor='center'\n",
    "    ),\n",
    "    geo=dict(\n",
    "        showframe=False,\n",
    "        showcoastlines=False,\n",
    "        projection_type='natural earth',\n",
    "        scope='europe'\n",
    "    ),\n",
    "    height=600,\n",
    "    updatemenus=[{\n",
    "        'type': 'buttons',\n",
    "        'buttons': buttons,\n",
    "        'direction': 'right',\n",
    "        'pad': {'r': 10, 't': 10},\n",
    "        'x': 0.5,\n",
    "        'xanchor': 'center',\n",
    "        'y': 1.05,\n",
    "        'yanchor': 'top'\n",
    "    }]\n",
    ")\n",
    "\n",
    "fig4.show()"
   ]
  },
  {
   "cell_type": "markdown",
   "id": "7f6cc673",
   "metadata": {},
   "source": [
    "The highest salaries for Data Analysts in Europ are in Finland, Sweden and Bulfaria. Lets dive deeply and take a look into **companies offering the highest salaries** in these top-3 companies:"
   ]
  },
  {
   "cell_type": "code",
   "execution_count": 28,
   "id": "92ef5096",
   "metadata": {},
   "outputs": [
    {
     "data": {
      "text/html": [
       "<div>\n",
       "<style scoped>\n",
       "    .dataframe tbody tr th:only-of-type {\n",
       "        vertical-align: middle;\n",
       "    }\n",
       "\n",
       "    .dataframe tbody tr th {\n",
       "        vertical-align: top;\n",
       "    }\n",
       "\n",
       "    .dataframe thead th {\n",
       "        text-align: right;\n",
       "    }\n",
       "</style>\n",
       "<table border=\"1\" class=\"dataframe\">\n",
       "  <thead>\n",
       "    <tr style=\"text-align: right;\">\n",
       "      <th></th>\n",
       "      <th>company_name</th>\n",
       "      <th>job_country</th>\n",
       "      <th>salary_month_avg_eur</th>\n",
       "    </tr>\n",
       "  </thead>\n",
       "  <tbody>\n",
       "    <tr>\n",
       "      <th>11</th>\n",
       "      <td>Wolt</td>\n",
       "      <td>Finland</td>\n",
       "      <td>8854.0</td>\n",
       "    </tr>\n",
       "    <tr>\n",
       "      <th>6</th>\n",
       "      <td>Nordea</td>\n",
       "      <td>Sweden</td>\n",
       "      <td>8368.0</td>\n",
       "    </tr>\n",
       "    <tr>\n",
       "      <th>7</th>\n",
       "      <td>Spotify</td>\n",
       "      <td>Sweden</td>\n",
       "      <td>7877.0</td>\n",
       "    </tr>\n",
       "    <tr>\n",
       "      <th>4</th>\n",
       "      <td>HP</td>\n",
       "      <td>Bulgaria</td>\n",
       "      <td>7813.0</td>\n",
       "    </tr>\n",
       "    <tr>\n",
       "      <th>9</th>\n",
       "      <td>Verisk</td>\n",
       "      <td>Bulgaria</td>\n",
       "      <td>7260.0</td>\n",
       "    </tr>\n",
       "  </tbody>\n",
       "</table>\n",
       "</div>"
      ],
      "text/plain": [
       "   company_name job_country  salary_month_avg_eur\n",
       "11         Wolt     Finland                8854.0\n",
       "6        Nordea      Sweden                8368.0\n",
       "7       Spotify      Sweden                7877.0\n",
       "4            HP    Bulgaria                7813.0\n",
       "9        Verisk    Bulgaria                7260.0"
      ]
     },
     "execution_count": 28,
     "metadata": {},
     "output_type": "execute_result"
    }
   ],
   "source": [
    "df_ds = df_eu_top[df_eu_top['job_title_short'] == 'Data Analyst'].copy()\n",
    "\n",
    "top3_countries = (\n",
    "    df_ds.groupby('job_country')['salary_month_avg_eur']\n",
    "    .median()\n",
    "    .sort_values(ascending=False)\n",
    "    .head(3)\n",
    "    .index.tolist()\n",
    ")\n",
    "ds_top_countries = df_ds[df_ds['job_country'].isin(top3_countries)]\n",
    "\n",
    "# Remove overly common salary values (potential placeholders)\n",
    "common_salaries = ds_top_countries['salary_month_avg_eur'].value_counts()\n",
    "suspect_salaries = common_salaries[common_salaries >= 2].index.tolist()\n",
    "filtered_ds = ds_top_countries[~ds_top_countries['salary_month_avg_eur'].isin(suspect_salaries)]\n",
    "\n",
    "company_medians = (\n",
    "    filtered_ds.groupby(['company_name', 'job_country'])['salary_month_avg_eur']\n",
    "    .median()\n",
    "    .reset_index()\n",
    "    .sort_values(by='salary_month_avg_eur', ascending=False)\n",
    "    .round(0)\n",
    ")\n",
    "\n",
    "company_medians.head(5)"
   ]
  },
  {
   "cell_type": "markdown",
   "id": "dcf3433e",
   "metadata": {},
   "source": [
    "The most high compensation offering big worldwide companies as Wolt, Nordea and Spotify that are able to pay the best emplees. It says us that job seakers aiming get higher salary should focus on big worldwide companies."
   ]
  }
 ],
 "metadata": {
  "kernelspec": {
   "display_name": "data_jobs",
   "language": "python",
   "name": "python3"
  },
  "language_info": {
   "codemirror_mode": {
    "name": "ipython",
    "version": 3
   },
   "file_extension": ".py",
   "mimetype": "text/x-python",
   "name": "python",
   "nbconvert_exporter": "python",
   "pygments_lexer": "ipython3",
   "version": "3.11.11"
  }
 },
 "nbformat": 4,
 "nbformat_minor": 5
}
