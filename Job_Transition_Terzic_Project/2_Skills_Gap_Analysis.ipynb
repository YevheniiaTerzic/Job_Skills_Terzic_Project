{
 "cells": [
  {
   "cell_type": "markdown",
   "id": "6dad79b3",
   "metadata": {},
   "source": [
    "## What Skills Do You Need to Transition from Data Analyst to Data Scientist?\n",
    "\n",
    "This section explores the skills needed to transition roles using global 2024 job postings. We will cover:\n",
    "\n",
    "- The average number of skills required for Data Analyst and Data Scientist roles.\n",
    "- Gap analysis comparing the skill sets of Data Analysts and Data Scientists.\n",
    "- The most impactful skills on salary within these roles."
   ]
  },
  {
   "cell_type": "markdown",
   "id": "11da7071",
   "metadata": {},
   "source": [
    "### Import Libraries"
   ]
  },
  {
   "cell_type": "code",
   "execution_count": 19,
   "id": "b856db79",
   "metadata": {},
   "outputs": [],
   "source": [
    "from pathlib import Path\n",
    "import ast\n",
    "\n",
    "import pandas as pd\n",
    "import numpy as np\n",
    "\n",
    "import matplotlib.pyplot as plt\n",
    "from matplotlib_venn import venn2\n",
    "import seaborn as sns\n",
    "\n",
    "import plotly.express as px\n",
    "import plotly.graph_objects as go\n",
    "from plotly.subplots import make_subplots\n",
    "\n",
    "from sklearn.ensemble import RandomForestRegressor\n",
    "import shap"
   ]
  },
  {
   "cell_type": "markdown",
   "id": "286ac3a6",
   "metadata": {},
   "source": [
    "### Load Cleaned Dataset"
   ]
  },
  {
   "cell_type": "code",
   "execution_count": 2,
   "id": "3e4547b1",
   "metadata": {},
   "outputs": [],
   "source": [
    "df = pd.read_pickle(Path.cwd().parents[1] / 'Raw_Data' / 'df_Final_2.pkl')"
   ]
  },
  {
   "cell_type": "markdown",
   "id": "4344c2bd",
   "metadata": {},
   "source": [
    "### Filter Dataset for 2024 Job Postings with Skills\n",
    "\n",
    "To focus on the latest trends, we filter for job postings from 2024 that include non-null skill data."
   ]
  },
  {
   "cell_type": "code",
   "execution_count": 23,
   "id": "09159634",
   "metadata": {},
   "outputs": [],
   "source": [
    "df_2024 = df[\n",
    "    df['job_posted_date'].astype(str).str.startswith('2024')\n",
    "    & df['job_skills'].notna()\n",
    "].copy()"
   ]
  },
  {
   "cell_type": "markdown",
   "id": "55cefbde",
   "metadata": {},
   "source": [
    "### Number of Skills vs Number of Job Postings (2024)\n",
    "\n",
    "Here we analyze how many skills are typically required for Data Analyst and Data Scientist roles. Understanding this helps to grasp the complexity and expectations for transitioning between these roles."
   ]
  },
  {
   "cell_type": "code",
   "execution_count": 25,
   "id": "dcba8e2c",
   "metadata": {},
   "outputs": [
    {
     "data": {
      "application/vnd.plotly.v1+json": {
       "config": {
        "plotlyServerURL": "https://plot.ly"
       },
       "data": [
        {
         "hovertemplate": "job_title_short=Data Analyst<br>num_skills=%{x}<br>num_postings=%{y}<extra></extra>",
         "legendgroup": "Data Analyst",
         "marker": {
          "color": "lightskyblue",
          "opacity": 0.8,
          "size": 10,
          "symbol": "circle"
         },
         "mode": "markers",
         "name": "Data Analyst",
         "orientation": "v",
         "showlegend": true,
         "type": "scatter",
         "x": {
          "bdata": "AQIDBAUGBwgJCgsMDQ4PEBESExQW",
          "dtype": "i1"
         },
         "xaxis": "x",
         "y": {
          "bdata": "fwczAmICWwLlAbIB8wCRAMMAUwBgAFQAGQAOAAkACAAFADUAAwABAAEA",
          "dtype": "i2"
         },
         "yaxis": "y"
        },
        {
         "hovertemplate": "job_title_short=Data Scientist<br>num_skills=%{x}<br>num_postings=%{y}<extra></extra>",
         "legendgroup": "Data Scientist",
         "marker": {
          "color": "steelblue",
          "opacity": 0.8,
          "size": 10,
          "symbol": "circle"
         },
         "mode": "markers",
         "name": "Data Scientist",
         "orientation": "v",
         "showlegend": true,
         "type": "scatter",
         "x": {
          "bdata": "AQIDBAUGBwgJCgsMDQ4PEBESExQVFhcYGRoi",
          "dtype": "i1"
         },
         "xaxis": "x",
         "y": {
          "bdata": "JwF3AekCogL7AYoBKAHfABQBlADbAJYAQAAkACAAHQASAAoACwABAAYABQABAAEAAQABAAEA",
          "dtype": "i2"
         },
         "yaxis": "y"
        }
       ],
       "layout": {
        "annotations": [
         {
          "align": "left",
          "bgcolor": "white",
          "bordercolor": "gray",
          "borderwidth": 1,
          "font": {
           "color": "black",
           "size": 12
          },
          "showarrow": false,
          "text": "Avg number of skills<br>Data Analyst: 4<br>Data Scientist: 6",
          "x": 6.7,
          "y": 1919
         }
        ],
        "height": 500,
        "legend": {
         "title": {
          "text": "Job Title"
         },
         "tracegroupgap": 0
        },
        "shapes": [
         {
          "layer": "below",
          "line": {
           "color": "gray",
           "dash": "dash"
          },
          "type": "line",
          "x0": 6,
          "x1": 6,
          "xref": "x",
          "y0": 0,
          "y1": 1,
          "yref": "y domain"
         },
         {
          "layer": "below",
          "line": {
           "color": "gray",
           "dash": "dash"
          },
          "type": "line",
          "x0": 4,
          "x1": 4,
          "xref": "x",
          "y0": 0,
          "y1": 1,
          "yref": "y domain"
         }
        ],
        "template": {
         "data": {
          "bar": [
           {
            "error_x": {
             "color": "#2a3f5f"
            },
            "error_y": {
             "color": "#2a3f5f"
            },
            "marker": {
             "line": {
              "color": "white",
              "width": 0.5
             },
             "pattern": {
              "fillmode": "overlay",
              "size": 10,
              "solidity": 0.2
             }
            },
            "type": "bar"
           }
          ],
          "barpolar": [
           {
            "marker": {
             "line": {
              "color": "white",
              "width": 0.5
             },
             "pattern": {
              "fillmode": "overlay",
              "size": 10,
              "solidity": 0.2
             }
            },
            "type": "barpolar"
           }
          ],
          "carpet": [
           {
            "aaxis": {
             "endlinecolor": "#2a3f5f",
             "gridcolor": "#C8D4E3",
             "linecolor": "#C8D4E3",
             "minorgridcolor": "#C8D4E3",
             "startlinecolor": "#2a3f5f"
            },
            "baxis": {
             "endlinecolor": "#2a3f5f",
             "gridcolor": "#C8D4E3",
             "linecolor": "#C8D4E3",
             "minorgridcolor": "#C8D4E3",
             "startlinecolor": "#2a3f5f"
            },
            "type": "carpet"
           }
          ],
          "choropleth": [
           {
            "colorbar": {
             "outlinewidth": 0,
             "ticks": ""
            },
            "type": "choropleth"
           }
          ],
          "contour": [
           {
            "colorbar": {
             "outlinewidth": 0,
             "ticks": ""
            },
            "colorscale": [
             [
              0,
              "#0d0887"
             ],
             [
              0.1111111111111111,
              "#46039f"
             ],
             [
              0.2222222222222222,
              "#7201a8"
             ],
             [
              0.3333333333333333,
              "#9c179e"
             ],
             [
              0.4444444444444444,
              "#bd3786"
             ],
             [
              0.5555555555555556,
              "#d8576b"
             ],
             [
              0.6666666666666666,
              "#ed7953"
             ],
             [
              0.7777777777777778,
              "#fb9f3a"
             ],
             [
              0.8888888888888888,
              "#fdca26"
             ],
             [
              1,
              "#f0f921"
             ]
            ],
            "type": "contour"
           }
          ],
          "contourcarpet": [
           {
            "colorbar": {
             "outlinewidth": 0,
             "ticks": ""
            },
            "type": "contourcarpet"
           }
          ],
          "heatmap": [
           {
            "colorbar": {
             "outlinewidth": 0,
             "ticks": ""
            },
            "colorscale": [
             [
              0,
              "#0d0887"
             ],
             [
              0.1111111111111111,
              "#46039f"
             ],
             [
              0.2222222222222222,
              "#7201a8"
             ],
             [
              0.3333333333333333,
              "#9c179e"
             ],
             [
              0.4444444444444444,
              "#bd3786"
             ],
             [
              0.5555555555555556,
              "#d8576b"
             ],
             [
              0.6666666666666666,
              "#ed7953"
             ],
             [
              0.7777777777777778,
              "#fb9f3a"
             ],
             [
              0.8888888888888888,
              "#fdca26"
             ],
             [
              1,
              "#f0f921"
             ]
            ],
            "type": "heatmap"
           }
          ],
          "histogram": [
           {
            "marker": {
             "pattern": {
              "fillmode": "overlay",
              "size": 10,
              "solidity": 0.2
             }
            },
            "type": "histogram"
           }
          ],
          "histogram2d": [
           {
            "colorbar": {
             "outlinewidth": 0,
             "ticks": ""
            },
            "colorscale": [
             [
              0,
              "#0d0887"
             ],
             [
              0.1111111111111111,
              "#46039f"
             ],
             [
              0.2222222222222222,
              "#7201a8"
             ],
             [
              0.3333333333333333,
              "#9c179e"
             ],
             [
              0.4444444444444444,
              "#bd3786"
             ],
             [
              0.5555555555555556,
              "#d8576b"
             ],
             [
              0.6666666666666666,
              "#ed7953"
             ],
             [
              0.7777777777777778,
              "#fb9f3a"
             ],
             [
              0.8888888888888888,
              "#fdca26"
             ],
             [
              1,
              "#f0f921"
             ]
            ],
            "type": "histogram2d"
           }
          ],
          "histogram2dcontour": [
           {
            "colorbar": {
             "outlinewidth": 0,
             "ticks": ""
            },
            "colorscale": [
             [
              0,
              "#0d0887"
             ],
             [
              0.1111111111111111,
              "#46039f"
             ],
             [
              0.2222222222222222,
              "#7201a8"
             ],
             [
              0.3333333333333333,
              "#9c179e"
             ],
             [
              0.4444444444444444,
              "#bd3786"
             ],
             [
              0.5555555555555556,
              "#d8576b"
             ],
             [
              0.6666666666666666,
              "#ed7953"
             ],
             [
              0.7777777777777778,
              "#fb9f3a"
             ],
             [
              0.8888888888888888,
              "#fdca26"
             ],
             [
              1,
              "#f0f921"
             ]
            ],
            "type": "histogram2dcontour"
           }
          ],
          "mesh3d": [
           {
            "colorbar": {
             "outlinewidth": 0,
             "ticks": ""
            },
            "type": "mesh3d"
           }
          ],
          "parcoords": [
           {
            "line": {
             "colorbar": {
              "outlinewidth": 0,
              "ticks": ""
             }
            },
            "type": "parcoords"
           }
          ],
          "pie": [
           {
            "automargin": true,
            "type": "pie"
           }
          ],
          "scatter": [
           {
            "fillpattern": {
             "fillmode": "overlay",
             "size": 10,
             "solidity": 0.2
            },
            "type": "scatter"
           }
          ],
          "scatter3d": [
           {
            "line": {
             "colorbar": {
              "outlinewidth": 0,
              "ticks": ""
             }
            },
            "marker": {
             "colorbar": {
              "outlinewidth": 0,
              "ticks": ""
             }
            },
            "type": "scatter3d"
           }
          ],
          "scattercarpet": [
           {
            "marker": {
             "colorbar": {
              "outlinewidth": 0,
              "ticks": ""
             }
            },
            "type": "scattercarpet"
           }
          ],
          "scattergeo": [
           {
            "marker": {
             "colorbar": {
              "outlinewidth": 0,
              "ticks": ""
             }
            },
            "type": "scattergeo"
           }
          ],
          "scattergl": [
           {
            "marker": {
             "colorbar": {
              "outlinewidth": 0,
              "ticks": ""
             }
            },
            "type": "scattergl"
           }
          ],
          "scattermap": [
           {
            "marker": {
             "colorbar": {
              "outlinewidth": 0,
              "ticks": ""
             }
            },
            "type": "scattermap"
           }
          ],
          "scattermapbox": [
           {
            "marker": {
             "colorbar": {
              "outlinewidth": 0,
              "ticks": ""
             }
            },
            "type": "scattermapbox"
           }
          ],
          "scatterpolar": [
           {
            "marker": {
             "colorbar": {
              "outlinewidth": 0,
              "ticks": ""
             }
            },
            "type": "scatterpolar"
           }
          ],
          "scatterpolargl": [
           {
            "marker": {
             "colorbar": {
              "outlinewidth": 0,
              "ticks": ""
             }
            },
            "type": "scatterpolargl"
           }
          ],
          "scatterternary": [
           {
            "marker": {
             "colorbar": {
              "outlinewidth": 0,
              "ticks": ""
             }
            },
            "type": "scatterternary"
           }
          ],
          "surface": [
           {
            "colorbar": {
             "outlinewidth": 0,
             "ticks": ""
            },
            "colorscale": [
             [
              0,
              "#0d0887"
             ],
             [
              0.1111111111111111,
              "#46039f"
             ],
             [
              0.2222222222222222,
              "#7201a8"
             ],
             [
              0.3333333333333333,
              "#9c179e"
             ],
             [
              0.4444444444444444,
              "#bd3786"
             ],
             [
              0.5555555555555556,
              "#d8576b"
             ],
             [
              0.6666666666666666,
              "#ed7953"
             ],
             [
              0.7777777777777778,
              "#fb9f3a"
             ],
             [
              0.8888888888888888,
              "#fdca26"
             ],
             [
              1,
              "#f0f921"
             ]
            ],
            "type": "surface"
           }
          ],
          "table": [
           {
            "cells": {
             "fill": {
              "color": "#EBF0F8"
             },
             "line": {
              "color": "white"
             }
            },
            "header": {
             "fill": {
              "color": "#C8D4E3"
             },
             "line": {
              "color": "white"
             }
            },
            "type": "table"
           }
          ]
         },
         "layout": {
          "annotationdefaults": {
           "arrowcolor": "#2a3f5f",
           "arrowhead": 0,
           "arrowwidth": 1
          },
          "autotypenumbers": "strict",
          "coloraxis": {
           "colorbar": {
            "outlinewidth": 0,
            "ticks": ""
           }
          },
          "colorscale": {
           "diverging": [
            [
             0,
             "#8e0152"
            ],
            [
             0.1,
             "#c51b7d"
            ],
            [
             0.2,
             "#de77ae"
            ],
            [
             0.3,
             "#f1b6da"
            ],
            [
             0.4,
             "#fde0ef"
            ],
            [
             0.5,
             "#f7f7f7"
            ],
            [
             0.6,
             "#e6f5d0"
            ],
            [
             0.7,
             "#b8e186"
            ],
            [
             0.8,
             "#7fbc41"
            ],
            [
             0.9,
             "#4d9221"
            ],
            [
             1,
             "#276419"
            ]
           ],
           "sequential": [
            [
             0,
             "#0d0887"
            ],
            [
             0.1111111111111111,
             "#46039f"
            ],
            [
             0.2222222222222222,
             "#7201a8"
            ],
            [
             0.3333333333333333,
             "#9c179e"
            ],
            [
             0.4444444444444444,
             "#bd3786"
            ],
            [
             0.5555555555555556,
             "#d8576b"
            ],
            [
             0.6666666666666666,
             "#ed7953"
            ],
            [
             0.7777777777777778,
             "#fb9f3a"
            ],
            [
             0.8888888888888888,
             "#fdca26"
            ],
            [
             1,
             "#f0f921"
            ]
           ],
           "sequentialminus": [
            [
             0,
             "#0d0887"
            ],
            [
             0.1111111111111111,
             "#46039f"
            ],
            [
             0.2222222222222222,
             "#7201a8"
            ],
            [
             0.3333333333333333,
             "#9c179e"
            ],
            [
             0.4444444444444444,
             "#bd3786"
            ],
            [
             0.5555555555555556,
             "#d8576b"
            ],
            [
             0.6666666666666666,
             "#ed7953"
            ],
            [
             0.7777777777777778,
             "#fb9f3a"
            ],
            [
             0.8888888888888888,
             "#fdca26"
            ],
            [
             1,
             "#f0f921"
            ]
           ]
          },
          "colorway": [
           "#636efa",
           "#EF553B",
           "#00cc96",
           "#ab63fa",
           "#FFA15A",
           "#19d3f3",
           "#FF6692",
           "#B6E880",
           "#FF97FF",
           "#FECB52"
          ],
          "font": {
           "color": "#2a3f5f"
          },
          "geo": {
           "bgcolor": "white",
           "lakecolor": "white",
           "landcolor": "white",
           "showlakes": true,
           "showland": true,
           "subunitcolor": "#C8D4E3"
          },
          "hoverlabel": {
           "align": "left"
          },
          "hovermode": "closest",
          "mapbox": {
           "style": "light"
          },
          "paper_bgcolor": "white",
          "plot_bgcolor": "white",
          "polar": {
           "angularaxis": {
            "gridcolor": "#EBF0F8",
            "linecolor": "#EBF0F8",
            "ticks": ""
           },
           "bgcolor": "white",
           "radialaxis": {
            "gridcolor": "#EBF0F8",
            "linecolor": "#EBF0F8",
            "ticks": ""
           }
          },
          "scene": {
           "xaxis": {
            "backgroundcolor": "white",
            "gridcolor": "#DFE8F3",
            "gridwidth": 2,
            "linecolor": "#EBF0F8",
            "showbackground": true,
            "ticks": "",
            "zerolinecolor": "#EBF0F8"
           },
           "yaxis": {
            "backgroundcolor": "white",
            "gridcolor": "#DFE8F3",
            "gridwidth": 2,
            "linecolor": "#EBF0F8",
            "showbackground": true,
            "ticks": "",
            "zerolinecolor": "#EBF0F8"
           },
           "zaxis": {
            "backgroundcolor": "white",
            "gridcolor": "#DFE8F3",
            "gridwidth": 2,
            "linecolor": "#EBF0F8",
            "showbackground": true,
            "ticks": "",
            "zerolinecolor": "#EBF0F8"
           }
          },
          "shapedefaults": {
           "line": {
            "color": "#2a3f5f"
           }
          },
          "ternary": {
           "aaxis": {
            "gridcolor": "#DFE8F3",
            "linecolor": "#A2B1C6",
            "ticks": ""
           },
           "baxis": {
            "gridcolor": "#DFE8F3",
            "linecolor": "#A2B1C6",
            "ticks": ""
           },
           "bgcolor": "white",
           "caxis": {
            "gridcolor": "#DFE8F3",
            "linecolor": "#A2B1C6",
            "ticks": ""
           }
          },
          "title": {
           "x": 0.05
          },
          "xaxis": {
           "automargin": true,
           "gridcolor": "#EBF0F8",
           "linecolor": "#EBF0F8",
           "ticks": "",
           "title": {
            "standoff": 15
           },
           "zerolinecolor": "#EBF0F8",
           "zerolinewidth": 2
          },
          "yaxis": {
           "automargin": true,
           "gridcolor": "#EBF0F8",
           "linecolor": "#EBF0F8",
           "ticks": "",
           "title": {
            "standoff": 15
           },
           "zerolinecolor": "#EBF0F8",
           "zerolinewidth": 2
          }
         }
        },
        "title": {
         "text": "Number of Skills vs Number of Job Postings (2024)"
        },
        "width": 850,
        "xaxis": {
         "anchor": "y",
         "domain": [
          0,
          1
         ],
         "tickmode": "array",
         "tickvals": [
          0,
          5,
          10
         ],
         "title": {
          "text": "Number of Skills per Job Posting"
         }
        },
        "yaxis": {
         "anchor": "x",
         "domain": [
          0,
          1
         ],
         "title": {
          "text": "Number of Job Postings"
         }
        }
       }
      }
     },
     "metadata": {},
     "output_type": "display_data"
    }
   ],
   "source": [
    "roles = [\"Data Scientist\", \"Data Analyst\"]\n",
    "df_filtered = df_2024[(df_2024[\"job_title_short\"].isin(roles))].copy()\n",
    "\n",
    "df_filtered['num_skills'] = df_filtered['job_skills'].apply(len)\n",
    "\n",
    "grouped = df_filtered.groupby([\"job_title_short\", \"num_skills\"]).size().reset_index(name=\"num_postings\")\n",
    "mean_skills = df_filtered.groupby(\"job_title_short\")[\"num_skills\"].mean().round(0).astype(int)\n",
    "\n",
    "# Plot\n",
    "fig = px.scatter(\n",
    "    grouped,\n",
    "    x='num_skills',\n",
    "    y='num_postings',\n",
    "    color='job_title_short',\n",
    "    title='Number of Skills vs Number of Job Postings (2024)',\n",
    "    labels={\n",
    "        'num_skills\": \"Number of Skills',\n",
    "        'num_postings\": \"Number of Job Postings',\n",
    "        'job_title_short\": \"Job Title'\n",
    "    },\n",
    "    template='plotly_white',\n",
    "    color_discrete_map={\n",
    "        'Data Scientist': 'steelblue',\n",
    "        'Data Analyst': 'lightskyblue'\n",
    "    }\n",
    ")\n",
    "\n",
    "# Uniform marker size\n",
    "fig.update_traces(marker=dict(size=10, opacity=0.8))\n",
    "\n",
    "# Add vertical lines for averages\n",
    "for role in roles:\n",
    "    avg = mean_skills[role]\n",
    "    fig.add_vline(\n",
    "        x=avg,\n",
    "        line=dict(color=\"gray\", dash=\"dash\"),\n",
    "        layer=\"below\"\n",
    "    )\n",
    "\n",
    "# Add combined annotation box near the dotted lines (right side)\n",
    "avg_text = (\n",
    "    f'Avg number of skills<br>'\n",
    "    f\"Data Analyst: {mean_skills['Data Analyst']}<br>\"\n",
    "    f\"Data Scientist: {mean_skills['Data Scientist']}\"\n",
    ")\n",
    "fig.add_annotation(\n",
    "    x=max(mean_skills) + 0.7,\n",
    "    y=grouped[\"num_postings\"].max(),\n",
    "    text=avg_text,\n",
    "    showarrow=False,\n",
    "    align=\"left\",\n",
    "    bgcolor=\"white\",\n",
    "    bordercolor=\"gray\",\n",
    "    borderwidth=1,\n",
    "    font=dict(color=\"black\", size=12)\n",
    ")\n",
    "\n",
    "# Clean up x-axis ticks\n",
    "fig.update_layout(\n",
    "    width=850,\n",
    "    height=500,\n",
    "    legend_title_text=\"Job Title\",\n",
    "    xaxis=dict(\n",
    "        tickmode=\"array\",\n",
    "        tickvals=[0, 5, 10],\n",
    "        title=\"Number of Skills per Job Posting\"\n",
    "    ),\n",
    "    yaxis=dict(\n",
    "        title=\"Number of Job Postings\"\n",
    "    )\n",
    ")\n",
    "\n",
    "fig.show()"
   ]
  },
  {
   "cell_type": "markdown",
   "id": "91af7282",
   "metadata": {},
   "source": [
    "Average number of skills needed to land Data Analyst Role is 4 when for Data Scientist the number is 6. Now we can find the most in-demand Data Analyst skills that could be useful for transition to Data Scientist Role and skills that is needed to get additionally. "
   ]
  },
  {
   "cell_type": "markdown",
   "id": "c334d119",
   "metadata": {},
   "source": [
    "### Skill Requirements for Transition: Skills You Should Have vs. Skills to Learn\n",
    "\n",
    "We identify the top-4 most in-demand Data Analyst skills and the top-6 Data Scientist skills in 2024. By comparing these sets, we reveal which skills a job seeker should develop further and which new skills are needed to successfully transition into a Data Scientist role."
   ]
  },
  {
   "cell_type": "code",
   "execution_count": 5,
   "id": "bd205e1e",
   "metadata": {},
   "outputs": [
    {
     "data": {
      "image/png": "[encoded data removed]",
      "text/plain": [
       "<Figure size 700x700 with 1 Axes>"
      ]
     },
     "metadata": {},
     "output_type": "display_data"
    }
   ],
   "source": [
    "# Data Analyst: Top 4 skills in 2024\n",
    "skills_da = df_2024[df_2024['job_title_short'] == 'Data Analyst']['job_skills']\n",
    "skill_counts_da = {}\n",
    "for skills in skills_da:\n",
    "    if isinstance(skills, list):\n",
    "        for skill in skills:\n",
    "            skill_counts_da[skill] = skill_counts_da.get(skill, 0) + 1\n",
    "top4_da = sorted(skill_counts_da, key=skill_counts_da.get, reverse=True)[:4]\n",
    "\n",
    "# Data Scientist: Top 6 skills in 2024\n",
    "skills_ds = df_2024[df_2024['job_title_short'] == 'Data Scientist']['job_skills']\n",
    "skill_counts_ds = {}\n",
    "for skills in skills_ds:\n",
    "    if isinstance(skills, list):\n",
    "        for skill in skills:\n",
    "            skill_counts_ds[skill] = skill_counts_ds.get(skill, 0) + 1\n",
    "top6_ds = sorted(skill_counts_ds, key=skill_counts_ds.get, reverse=True)[:6]\n",
    "\n",
    "# Convert to sets for Venn diagram\n",
    "set_da = set(top4_da)\n",
    "set_ds = set(top6_ds)\n",
    "\n",
    "# Plot Venn diagram\n",
    "plt.figure(figsize=(7,7))\n",
    "venn = venn2(\n",
    "    [set_da, set_ds],\n",
    "    set_labels=('Data Analyst (Top 4)', 'Data Scientist (Top 6)'),\n",
    "    set_colors=('lightskyblue', 'steelblue'),  # custom colors\n",
    "    alpha=0.7  # transparency\n",
    ")\n",
    "\n",
    "# Annotate each section with skill names\n",
    "if venn.get_label_by_id('10'):\n",
    "    venn.get_label_by_id('10').set_text('\\n'.join(set_da - set_ds))\n",
    "if venn.get_label_by_id('01'):\n",
    "    venn.get_label_by_id('01').set_text('\\n'.join(set_ds - set_da))\n",
    "if venn.get_label_by_id('11'):\n",
    "    venn.get_label_by_id('11').set_text('\\n'.join(set_da & set_ds))\n",
    "\n",
    "plt.title('Top Data Analyst & Data Scientist Skills in 2024')\n",
    "plt.show()"
   ]
  },
  {
   "cell_type": "markdown",
   "id": "a7ac3b5f",
   "metadata": {},
   "source": [
    "The Venn diagram illustrates the overlap and differences between the top skills for Data Analysts and Data Scientists:\n",
    "\n",
    "- SQL, Python, and Tableau are essential for both roles.\n",
    "- Excel, fundamental for Data Analysts, is less important for Data Scientists, so no need develop this skill when you are looking for the transition.\n",
    "- Instead focus on learning AWS, Spart and R that'll help to sucseed Data Scientist role requirement."
   ]
  },
  {
   "cell_type": "markdown",
   "id": "03a58be3",
   "metadata": {},
   "source": [
    "### Analyzing the Impact of Skills on Salary\n",
    "\n",
    "To quantify how individual skills influence salary for Data Scientist roles, we perform the following:\n",
    "\n",
    "1. Prepare the dataset by filtering roles and one-hot encoding the top skills.\n",
    "2. Train a tree-based regression model (Random Forest) to estimate salaries.\n",
    "3. Use SHAP values for interpretable feature importance."
   ]
  },
  {
   "cell_type": "code",
   "execution_count": 26,
   "id": "25e5d5e4",
   "metadata": {},
   "outputs": [
    {
     "data": {
      "text/html": [
       "<div>\n",
       "<style scoped>\n",
       "    .dataframe tbody tr th:only-of-type {\n",
       "        vertical-align: middle;\n",
       "    }\n",
       "\n",
       "    .dataframe tbody tr th {\n",
       "        vertical-align: top;\n",
       "    }\n",
       "\n",
       "    .dataframe thead th {\n",
       "        text-align: right;\n",
       "    }\n",
       "</style>\n",
       "<table border=\"1\" class=\"dataframe\">\n",
       "  <thead>\n",
       "    <tr style=\"text-align: right;\">\n",
       "      <th></th>\n",
       "      <th>job_title_short</th>\n",
       "      <th>job_title</th>\n",
       "      <th>job_location</th>\n",
       "      <th>job_via</th>\n",
       "      <th>job_schedule_type</th>\n",
       "      <th>job_work_from_home</th>\n",
       "      <th>search_location</th>\n",
       "      <th>job_posted_date</th>\n",
       "      <th>job_no_degree_mention</th>\n",
       "      <th>job_health_insurance</th>\n",
       "      <th>...</th>\n",
       "      <th>python</th>\n",
       "      <th>sql</th>\n",
       "      <th>r</th>\n",
       "      <th>tableau</th>\n",
       "      <th>spark</th>\n",
       "      <th>aws</th>\n",
       "      <th>sas</th>\n",
       "      <th>azure</th>\n",
       "      <th>tensorflow</th>\n",
       "      <th>pytorch</th>\n",
       "    </tr>\n",
       "  </thead>\n",
       "  <tbody>\n",
       "    <tr>\n",
       "      <th>1</th>\n",
       "      <td>Data Scientist</td>\n",
       "      <td>Data Scientist III (50% REMOTE) Jobs</td>\n",
       "      <td>Huntsville, AL</td>\n",
       "      <td>via Clearance Jobs</td>\n",
       "      <td>Contractor</td>\n",
       "      <td>False</td>\n",
       "      <td>Georgia</td>\n",
       "      <td>2024-01-01</td>\n",
       "      <td>False</td>\n",
       "      <td>False</td>\n",
       "      <td>...</td>\n",
       "      <td>1</td>\n",
       "      <td>0</td>\n",
       "      <td>0</td>\n",
       "      <td>0</td>\n",
       "      <td>0</td>\n",
       "      <td>1</td>\n",
       "      <td>0</td>\n",
       "      <td>0</td>\n",
       "      <td>1</td>\n",
       "      <td>1</td>\n",
       "    </tr>\n",
       "    <tr>\n",
       "      <th>2</th>\n",
       "      <td>Data Scientist</td>\n",
       "      <td>Principal Data Scientist</td>\n",
       "      <td>Palmyra, PA</td>\n",
       "      <td>via Ladders</td>\n",
       "      <td>Full-time</td>\n",
       "      <td>False</td>\n",
       "      <td>New York, United States</td>\n",
       "      <td>2024-01-01</td>\n",
       "      <td>False</td>\n",
       "      <td>False</td>\n",
       "      <td>...</td>\n",
       "      <td>0</td>\n",
       "      <td>0</td>\n",
       "      <td>0</td>\n",
       "      <td>0</td>\n",
       "      <td>0</td>\n",
       "      <td>0</td>\n",
       "      <td>0</td>\n",
       "      <td>0</td>\n",
       "      <td>0</td>\n",
       "      <td>0</td>\n",
       "    </tr>\n",
       "    <tr>\n",
       "      <th>7</th>\n",
       "      <td>Data Scientist</td>\n",
       "      <td>Data Science</td>\n",
       "      <td>United States</td>\n",
       "      <td>via BeBee</td>\n",
       "      <td>Full-time</td>\n",
       "      <td>False</td>\n",
       "      <td>Illinois, United States</td>\n",
       "      <td>2024-01-01</td>\n",
       "      <td>False</td>\n",
       "      <td>False</td>\n",
       "      <td>...</td>\n",
       "      <td>0</td>\n",
       "      <td>1</td>\n",
       "      <td>0</td>\n",
       "      <td>1</td>\n",
       "      <td>0</td>\n",
       "      <td>0</td>\n",
       "      <td>1</td>\n",
       "      <td>0</td>\n",
       "      <td>0</td>\n",
       "      <td>0</td>\n",
       "    </tr>\n",
       "    <tr>\n",
       "      <th>12</th>\n",
       "      <td>Data Scientist</td>\n",
       "      <td>Principal Data Scientist</td>\n",
       "      <td>Anywhere</td>\n",
       "      <td>via LinkedIn</td>\n",
       "      <td>Full-time</td>\n",
       "      <td>True</td>\n",
       "      <td>Sudan</td>\n",
       "      <td>2024-01-01</td>\n",
       "      <td>False</td>\n",
       "      <td>False</td>\n",
       "      <td>...</td>\n",
       "      <td>0</td>\n",
       "      <td>0</td>\n",
       "      <td>0</td>\n",
       "      <td>0</td>\n",
       "      <td>0</td>\n",
       "      <td>1</td>\n",
       "      <td>0</td>\n",
       "      <td>0</td>\n",
       "      <td>0</td>\n",
       "      <td>0</td>\n",
       "    </tr>\n",
       "    <tr>\n",
       "      <th>15</th>\n",
       "      <td>Data Scientist</td>\n",
       "      <td>GIS and Data Analysis Specialist</td>\n",
       "      <td>Anywhere</td>\n",
       "      <td>via Get.It</td>\n",
       "      <td>Full-time</td>\n",
       "      <td>True</td>\n",
       "      <td>California, United States</td>\n",
       "      <td>2024-01-01</td>\n",
       "      <td>False</td>\n",
       "      <td>True</td>\n",
       "      <td>...</td>\n",
       "      <td>1</td>\n",
       "      <td>1</td>\n",
       "      <td>1</td>\n",
       "      <td>1</td>\n",
       "      <td>0</td>\n",
       "      <td>1</td>\n",
       "      <td>0</td>\n",
       "      <td>0</td>\n",
       "      <td>0</td>\n",
       "      <td>0</td>\n",
       "    </tr>\n",
       "  </tbody>\n",
       "</table>\n",
       "<p>5 rows × 30 columns</p>\n",
       "</div>"
      ],
      "text/plain": [
       "   job_title_short                             job_title    job_location  \\\n",
       "1   Data Scientist  Data Scientist III (50% REMOTE) Jobs  Huntsville, AL   \n",
       "2   Data Scientist              Principal Data Scientist     Palmyra, PA   \n",
       "7   Data Scientist                          Data Science   United States   \n",
       "12  Data Scientist              Principal Data Scientist        Anywhere   \n",
       "15  Data Scientist      GIS and Data Analysis Specialist        Anywhere   \n",
       "\n",
       "               job_via job_schedule_type  job_work_from_home  \\\n",
       "1   via Clearance Jobs        Contractor               False   \n",
       "2          via Ladders         Full-time               False   \n",
       "7            via BeBee         Full-time               False   \n",
       "12        via LinkedIn         Full-time                True   \n",
       "15          via Get.It         Full-time                True   \n",
       "\n",
       "              search_location job_posted_date  job_no_degree_mention  \\\n",
       "1                     Georgia      2024-01-01                  False   \n",
       "2     New York, United States      2024-01-01                  False   \n",
       "7     Illinois, United States      2024-01-01                  False   \n",
       "12                      Sudan      2024-01-01                  False   \n",
       "15  California, United States      2024-01-01                  False   \n",
       "\n",
       "    job_health_insurance  ... python sql  r tableau spark  aws  sas azure  \\\n",
       "1                  False  ...      1   0  0       0     0    1    0     0   \n",
       "2                  False  ...      0   0  0       0     0    0    0     0   \n",
       "7                  False  ...      0   1  0       1     0    0    1     0   \n",
       "12                 False  ...      0   0  0       0     0    1    0     0   \n",
       "15                  True  ...      1   1  1       1     0    1    0     0   \n",
       "\n",
       "    tensorflow pytorch  \n",
       "1            1       1  \n",
       "2            0       0  \n",
       "7            0       0  \n",
       "12           0       0  \n",
       "15           0       0  \n",
       "\n",
       "[5 rows x 30 columns]"
      ]
     },
     "execution_count": 26,
     "metadata": {},
     "output_type": "execute_result"
    }
   ],
   "source": [
    "df_ds = df_2024[df_2024['job_title_short'] == 'Data Scientist'].copy()\n",
    "\n",
    "top10_skills = (\n",
    "    pd.Series([skill for skills in df_ds['job_skills'] if skills for skill in skills])\n",
    "    .value_counts()\n",
    "    .head(10)\n",
    "    .index\n",
    ")\n",
    "\n",
    "# One-hot encode top 10 skills\n",
    "for skill in top10_skills:\n",
    "    df_ds[skill] = df_ds['job_skills'].apply(lambda skills: int(skill in skills))\n",
    "\n",
    "# Features & target\n",
    "X = df_ds[top10_skills]\n",
    "y = df_ds['salary_month_avg_eur']\n",
    "\n",
    "df_ds.head(5)"
   ]
  },
  {
   "cell_type": "markdown",
   "id": "603200bb",
   "metadata": {},
   "source": [
    "We train a Random Forest Regressor on the one-hot encoded skills and compute SHAP values to explain the model predictions."
   ]
  },
  {
   "cell_type": "code",
   "execution_count": 17,
   "id": "020e81af",
   "metadata": {},
   "outputs": [
    {
     "data": {
      "image/png": "[encoded data removed]",
      "text/plain": [
       "<Figure size 640x480 with 1 Axes>"
      ]
     },
     "metadata": {},
     "output_type": "display_data"
    }
   ],
   "source": [
    "model = RandomForestRegressor(random_state=42).fit(X, y)\n",
    "explainer = shap.TreeExplainer(model)\n",
    "sv = explainer(X)\n",
    "\n",
    "means = np.abs(sv.values).mean(0)\n",
    "perc = means / means.sum() * 100\n",
    "idx = np.argsort(means)[::-1]\n",
    "\n",
    "plt.barh(np.array(X.columns)[idx], perc[idx], color=\"steelblue\")\n",
    "plt.gca().invert_yaxis()\n",
    "plt.xlim(0, perc.max() + 5)\n",
    "\n",
    "for i, v in enumerate(perc[idx]):\n",
    "    plt.text(v + 0.5, i, f\"{v:.1f}%\", va='center')\n",
    "plt.xlabel(\"Feature Importance (%)\")\n",
    "plt.title(\"SHAP Feature Importance\")\n",
    "plt.show()"
   ]
  },
  {
   "cell_type": "markdown",
   "id": "05c8a62e",
   "metadata": {},
   "source": [
    "SHAP feature importance for the Random Forest Regressor model predicting salaries shows skill’s contribution to the model’s predictions, expressed as a percentage of total importance. \n",
    "- Python (19.4%) has the largest impact on salary predictions.\n",
    "- Tableau, SQL, and Azure follow as other high-impact skills.\n",
    "- Skills like SAS and TensorFlow contribute less, but still play a role."
   ]
  },
  {
   "cell_type": "markdown",
   "id": "b3516bf9",
   "metadata": {},
   "source": [
    "### Summary:\n",
    "\n",
    "This analysis explored the skill requirements for transitioning from Data Analyst to Data Scientist roles using 2024 global job postings.\n",
    "\n",
    "- On average, Data Scientists require about 6 skills per job posting, while Data Analysts require about 4.\n",
    "- The common top skills for Data Analysts and Data Scientists are SQL, Python and Tableau. These skills are also the most impactful on salary. \n",
    "- To transition successfully, Data Analysts should close the skill gap with Data Scientist requirements, focusing on learning AWS, Spark, and R.\n",
    "  \n",
    "The next notebook will leverage this list of impactful skills to build predictive models for salary estimation, aiding individuals in understanding the value of specific skills in the job market."
   ]
  }
 ],
 "metadata": {
  "kernelspec": {
   "display_name": "data_jobs",
   "language": "python",
   "name": "python3"
  },
  "language_info": {
   "codemirror_mode": {
    "name": "ipython",
    "version": 3
   },
   "file_extension": ".py",
   "mimetype": "text/x-python",
   "name": "python",
   "nbconvert_exporter": "python",
   "pygments_lexer": "ipython3",
   "version": "3.11.11"
  }
 },
 "nbformat": 4,
 "nbformat_minor": 5
}
