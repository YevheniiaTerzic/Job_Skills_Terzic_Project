{
 "cells": [
  {
   "cell_type": "markdown",
   "id": "b15c1de1",
   "metadata": {},
   "source": [
    "## What salary could get a candidate after transition?\n",
    "\n",
    "To support data analysts transitioning to data science roles, we build a xgboost model to estimate salary differences based on key skills we defined for transition. on this section we:\n",
    "\n",
    "- Remove salary outliers and filter for Data Scientist job postings\n",
    "- Engineer binary skill features\n",
    "- Train an XGBoost regression model\n",
    "- Predict the monthly salary in EUR"
   ]
  },
  {
   "cell_type": "markdown",
   "id": "1b56cfd3",
   "metadata": {},
   "source": [
    "### Import Libraries"
   ]
  },
  {
   "cell_type": "code",
   "execution_count": null,
   "id": "16791213",
   "metadata": {},
   "outputs": [],
   "source": [
    "from pathlib import Path\n",
    "import pandas as pd\n",
    "\n",
    "from sklearn.model_selection import train_test_split\n",
    "from sklearn.preprocessing import OneHotEncoder\n",
    "from sklearn.metrics import mean_squared_error, r2_score\n",
    "from xgboost import XGBRegressor\n",
    "\n",
    "import plotly.express as px"
   ]
  },
  {
   "cell_type": "markdown",
   "id": "7b0918c0",
   "metadata": {},
   "source": [
    "### Load Cleaned Dataset"
   ]
  },
  {
   "cell_type": "code",
   "execution_count": 257,
   "id": "2dd27b41",
   "metadata": {},
   "outputs": [],
   "source": [
    "df = pd.read_pickle(Path.cwd().parents[1] / 'Raw_Data' / 'df_Final_2.pkl')"
   ]
  },
  {
   "cell_type": "markdown",
   "id": "835c8323",
   "metadata": {},
   "source": [
    "### Predicting Data Scientist Salaries Based on Analyst Transition Skills\n",
    "\n",
    "To support data analysts transitioning to data science roles, we build a regression model to estimate salary on base of skillset we defined as the most appropriate for transition.\n",
    "\n",
    "- **Target Role:** Data Scientist  \n",
    "- **Base Skills:** `Python`, `SQL`, `Tableau`/`Looker`/`Power BI`\n",
    "- **Key Transition Skills:** `R`/`SAS`, `AWS`/`Azure`, `Spark`/`Tensorflow`, `Pytorch`"
   ]
  },
  {
   "cell_type": "code",
   "execution_count": 258,
   "id": "746040b5",
   "metadata": {},
   "outputs": [
    {
     "name": "stdout",
     "output_type": "stream",
     "text": [
      "Valid Data Scientist rows: 9507\n"
     ]
    }
   ],
   "source": [
    "df_ml = df[df['job_title_short'] == 'Data Scientist'].copy()\n",
    "\n",
    "print(f\"Valid Data Scientist rows: {len(df_ml)}\")"
   ]
  },
  {
   "cell_type": "markdown",
   "id": "30033531",
   "metadata": {},
   "source": [
    "### Skill Feature Engineering\n",
    "\n",
    "We create binary features to represent whether a posting mentions:\n",
    "- Base skills (Excel, Python, SQL, BI tools)\n",
    "- Transition skills (R/SAS, AWS/Azure, Spark/TensorFlow/PyTorch)\n",
    "\n",
    "We also add:\n",
    "- Total skill count\n",
    "- A composite binary meets_criteria flag for candidates having all required skills."
   ]
  },
  {
   "cell_type": "code",
   "execution_count": 259,
   "id": "b116d71b",
   "metadata": {},
   "outputs": [],
   "source": [
    "# Lowercase skill lists\n",
    "df_ml['job_skills'] = df_ml['job_skills'].apply(lambda x: [s.lower() for s in x] if isinstance(x, list) else [])\n",
    "\n",
    "# Define skill groups\n",
    "viz_tools = ['tableau', 'power bi', 'looker']\n",
    "r_sas = ['r', 'sas']\n",
    "spark_tf_pt = ['spark', 'tensorflow', 'pytorch']\n",
    "aws_azure = ['aws', 'azure']\n",
    "\n",
    "# Individual known skills\n",
    "df_ml['has_python'] = df_ml['job_skills'].apply(lambda skills: 'python' in skills).astype(int)\n",
    "df_ml['has_sql'] = df_ml['job_skills'].apply(lambda skills: 'sql' in skills).astype(int)\n",
    "df_ml['has_excel'] = df_ml['job_skills'].apply(lambda skills: 'excel' in skills).astype(int)\n",
    "\n",
    "# Group features\n",
    "df_ml['has_viz_tool'] = df_ml['job_skills'].apply(lambda skills: any(v in skills for v in viz_tools)).astype(int)\n",
    "df_ml['has_r_sas'] = df_ml['job_skills'].apply(lambda skills: any(v in skills for v in r_sas)).astype(int)\n",
    "df_ml['has_spark_tf_pt'] = df_ml['job_skills'].apply(lambda skills: any(v in skills for v in spark_tf_pt)).astype(int)\n",
    "df_ml['has_aws_azure'] = df_ml['job_skills'].apply(lambda skills: any(v in skills for v in aws_azure)).astype(int)\n",
    "\n",
    "# Total skills count in posting\n",
    "df_ml['total_skills'] = df_ml['job_skills'].apply(len)\n",
    "\n",
    "# Composite feature: candidate meets all conditions\n",
    "df_ml['meets_criteria'] = (\n",
    "    df_ml['has_excel'] &\n",
    "    df_ml['has_python'] &\n",
    "    df_ml['has_sql'] &\n",
    "    df_ml['has_viz_tool'] &\n",
    "    df_ml['has_r_sas'] &\n",
    "    df_ml['has_spark_tf_pt'] &\n",
    "    df_ml['has_aws_azure']\n",
    ").astype(int)"
   ]
  },
  {
   "cell_type": "markdown",
   "id": "fb3a7d98",
   "metadata": {},
   "source": [
    "### Additional Features\n",
    "\n",
    "- Location-based flag: is_eu\n",
    "- Work arrangement: job_work_from_home\n",
    "- Benefits: job_health_insurance\n",
    "- Encoded job schedule type (One-Hot Encoding)"
   ]
  },
  {
   "cell_type": "code",
   "execution_count": 260,
   "id": "05aeb9ed",
   "metadata": {},
   "outputs": [],
   "source": [
    "cat_features = ['job_schedule_type']\n",
    "ohe = OneHotEncoder(drop='first', sparse_output=False, handle_unknown='ignore')\n",
    "encoded = ohe.fit_transform(df_ml[cat_features])\n",
    "encoded_df = pd.DataFrame(encoded, columns=ohe.get_feature_names_out(cat_features), index=df_ml.index)\n",
    "\n",
    "# Merge with main dataframe\n",
    "df_model = pd.concat([\n",
    "    df_ml[[\n",
    "        'has_excel', 'has_python', 'has_sql', 'has_viz_tool',\n",
    "        'has_r_sas', 'has_spark_tf_pt', 'has_aws_azure',\n",
    "        'total_skills', 'meets_criteria',\n",
    "        'is_eu', 'job_work_from_home', 'job_health_insurance'\n",
    "    ]],\n",
    "    encoded_df\n",
    "], axis=1)\n",
    "\n",
    "# Target variable\n",
    "y = df_ml['salary_month_avg_eur']"
   ]
  },
  {
   "cell_type": "markdown",
   "id": "8ee73534",
   "metadata": {},
   "source": [
    "### Train-Test Split\n",
    "\n",
    "Split data into training (80%) and testing (20%) sets."
   ]
  },
  {
   "cell_type": "code",
   "execution_count": 261,
   "id": "7017f110",
   "metadata": {},
   "outputs": [],
   "source": [
    "X_train, X_test, y_train, y_test = train_test_split(df_model, y, test_size=0.2, random_state=42)"
   ]
  },
  {
   "cell_type": "markdown",
   "id": "a5973141",
   "metadata": {},
   "source": [
    "### XGBoost Model\n",
    "\n",
    "We train an XGBoost Regressor and evaluate it using:\n",
    "- R² score\n",
    "- RMSE (EUR/month)"
   ]
  },
  {
   "cell_type": "code",
   "execution_count": 262,
   "id": "63d9efd9",
   "metadata": {},
   "outputs": [
    {
     "name": "stdout",
     "output_type": "stream",
     "text": [
      "R² Score: 0.1461\n",
      "RMSE (EUR/month): 2991.37\n"
     ]
    }
   ],
   "source": [
    "model = XGBRegressor(\n",
    "    n_estimators=500,\n",
    "    learning_rate=0.05,\n",
    "    max_depth=5,\n",
    "    subsample=0.8,\n",
    "    colsample_bytree=0.8,\n",
    "    random_state=42\n",
    ")\n",
    "\n",
    "model.fit(X_train, y_train)\n",
    "\n",
    "# Predictions\n",
    "y_pred = model.predict(X_test)\n",
    "\n",
    "# Metrics\n",
    "rmse = mean_squared_error(y_test, y_pred) ** 0.5\n",
    "r2 = r2_score(y_test, y_pred)\n",
    "\n",
    "print(f\"R² Score: {r2:.4f}\")\n",
    "print(f\"RMSE (EUR/month): {rmse:.2f}\")"
   ]
  },
  {
   "cell_type": "markdown",
   "id": "c9837ae7",
   "metadata": {},
   "source": [
    "### Predict for the candidate"
   ]
  },
  {
   "cell_type": "code",
   "execution_count": 263,
   "id": "c9d8583e",
   "metadata": {},
   "outputs": [
    {
     "name": "stdout",
     "output_type": "stream",
     "text": [
      "Predicted salary for candidate: 12949.20 EUR/month\n"
     ]
    }
   ],
   "source": [
    "# Candidate feature vector\n",
    "candidate_features = pd.DataFrame([{\n",
    "    'has_excel': 1,\n",
    "    'has_python': 1,\n",
    "    'has_sql': 1,\n",
    "    'has_viz_tool': 1,     \n",
    "    'has_r_sas': 1,\n",
    "    'has_spark_tf_pt': 1,\n",
    "    'has_aws_azure': 1,\n",
    "    'total_skills': 7,    \n",
    "    'meets_criteria': 1,\n",
    "    'is_eu': 1,            \n",
    "    'job_work_from_home': 0,\n",
    "    'job_health_insurance': 0,\n",
    "    **{col: 0 for col in encoded_df.columns}  \n",
    "}])\n",
    "\n",
    "predicted_salary = model.predict(candidate_features)[0]\n",
    "print(f\"Predicted salary for candidate: {predicted_salary:.2f} EUR/month\")"
   ]
  },
  {
   "cell_type": "code",
   "execution_count": 264,
   "id": "19194fa2",
   "metadata": {},
   "outputs": [
    {
     "data": {
      "application/vnd.plotly.v1+json": {
       "config": {
        "plotlyServerURL": "https://plot.ly"
       },
       "data": [
        {
         "hovertemplate": "role=Data Scientist<br>Number of Skills=%{x}<br>Median Monthly Salary (EUR)=%{y}<br>Number of Job Postings=%{marker.size}<extra></extra>",
         "legendgroup": "Data Scientist",
         "marker": {
          "color": "darkblue",
          "size": {
           "bdata": "pAJaA7IFQgVpBFEDwwIkAgwCSQFsAecAhwBnAD8A",
           "dtype": "i2"
          },
          "sizemode": "area",
          "sizeref": 6.355,
          "symbol": "circle"
         },
         "mode": "markers",
         "name": "Data Scientist",
         "orientation": "v",
         "showlegend": true,
         "type": "scatter",
         "x": {
          "bdata": "AQIDBAUGBwgJCgsMDQ4P",
          "dtype": "i1"
         },
         "xaxis": "x",
         "y": {
          "bdata": "AAAAAEAcwkDsUbgehW3CQOJ6FK7358NAUrgehXtmw0DNzMzM7KTDQNejcD3qccNAw/UoXI/zwkAK16NwfQTDQAAAAADw48JA7FG4HgXbwUDNzMzMPCrCQNejcD2qw8FAMzMzMzPkwkAfhetReLPDQM3MzMwMMMRA",
          "dtype": "f8"
         },
         "yaxis": "y"
        },
        {
         "hovertemplate": "role=Data Analyst<br>Number of Skills=%{x}<br>Median Monthly Salary (EUR)=%{y}<br>Number of Job Postings=%{marker.size}<extra></extra>",
         "legendgroup": "Data Analyst",
         "marker": {
          "color": "gray",
          "size": {
           "bdata": "7gn2BDcFDAUaBF0D+gFYAVMBpgCeAIAAKwAcAA4A",
           "dtype": "i2"
          },
          "sizemode": "area",
          "sizeref": 6.355,
          "symbol": "circle"
         },
         "mode": "markers",
         "name": "Data Analyst",
         "orientation": "v",
         "showlegend": true,
         "type": "scatter",
         "x": {
          "bdata": "AQIDBAUGBwgJCgsMDQ4P",
          "dtype": "i1"
         },
         "xaxis": "x",
         "y": {
          "bdata": "AAAAAADWuEAK16NwfQy5QNejcD1KTLlAKVyPwnVnvEAzMzMzkze7QK5H4XqU07lAKVyPwjUmvEAK16Nw3SS9QAAAAAAAnL1AXI/C9cjLvECF61G4fr29QAAAAABg0r9AUrgehSvmvUAAAAAAgDm+QOxRuB7l+r5A",
          "dtype": "f8"
         },
         "yaxis": "y"
        },
        {
         "marker": {
          "color": "red",
          "line": {
           "color": "black",
           "width": 1
          },
          "size": 15
         },
         "mode": "markers+text",
         "name": "Predicted candidate salary",
         "text": [
          "12,949 EUR"
         ],
         "textposition": "top center",
         "type": "scatter",
         "x": [
          7
         ],
         "y": [
          12949.203125
         ]
        }
       ],
       "layout": {
        "legend": {
         "itemsizing": "constant",
         "title": {
          "text": ""
         },
         "tracegroupgap": 0
        },
        "plot_bgcolor": "white",
        "template": {
         "data": {
          "bar": [
           {
            "error_x": {
             "color": "#2a3f5f"
            },
            "error_y": {
             "color": "#2a3f5f"
            },
            "marker": {
             "line": {
              "color": "#E5ECF6",
              "width": 0.5
             },
             "pattern": {
              "fillmode": "overlay",
              "size": 10,
              "solidity": 0.2
             }
            },
            "type": "bar"
           }
          ],
          "barpolar": [
           {
            "marker": {
             "line": {
              "color": "#E5ECF6",
              "width": 0.5
             },
             "pattern": {
              "fillmode": "overlay",
              "size": 10,
              "solidity": 0.2
             }
            },
            "type": "barpolar"
           }
          ],
          "carpet": [
           {
            "aaxis": {
             "endlinecolor": "#2a3f5f",
             "gridcolor": "white",
             "linecolor": "white",
             "minorgridcolor": "white",
             "startlinecolor": "#2a3f5f"
            },
            "baxis": {
             "endlinecolor": "#2a3f5f",
             "gridcolor": "white",
             "linecolor": "white",
             "minorgridcolor": "white",
             "startlinecolor": "#2a3f5f"
            },
            "type": "carpet"
           }
          ],
          "choropleth": [
           {
            "colorbar": {
             "outlinewidth": 0,
             "ticks": ""
            },
            "type": "choropleth"
           }
          ],
          "contour": [
           {
            "colorbar": {
             "outlinewidth": 0,
             "ticks": ""
            },
            "colorscale": [
             [
              0,
              "#0d0887"
             ],
             [
              0.1111111111111111,
              "#46039f"
             ],
             [
              0.2222222222222222,
              "#7201a8"
             ],
             [
              0.3333333333333333,
              "#9c179e"
             ],
             [
              0.4444444444444444,
              "#bd3786"
             ],
             [
              0.5555555555555556,
              "#d8576b"
             ],
             [
              0.6666666666666666,
              "#ed7953"
             ],
             [
              0.7777777777777778,
              "#fb9f3a"
             ],
             [
              0.8888888888888888,
              "#fdca26"
             ],
             [
              1,
              "#f0f921"
             ]
            ],
            "type": "contour"
           }
          ],
          "contourcarpet": [
           {
            "colorbar": {
             "outlinewidth": 0,
             "ticks": ""
            },
            "type": "contourcarpet"
           }
          ],
          "heatmap": [
           {
            "colorbar": {
             "outlinewidth": 0,
             "ticks": ""
            },
            "colorscale": [
             [
              0,
              "#0d0887"
             ],
             [
              0.1111111111111111,
              "#46039f"
             ],
             [
              0.2222222222222222,
              "#7201a8"
             ],
             [
              0.3333333333333333,
              "#9c179e"
             ],
             [
              0.4444444444444444,
              "#bd3786"
             ],
             [
              0.5555555555555556,
              "#d8576b"
             ],
             [
              0.6666666666666666,
              "#ed7953"
             ],
             [
              0.7777777777777778,
              "#fb9f3a"
             ],
             [
              0.8888888888888888,
              "#fdca26"
             ],
             [
              1,
              "#f0f921"
             ]
            ],
            "type": "heatmap"
           }
          ],
          "histogram": [
           {
            "marker": {
             "pattern": {
              "fillmode": "overlay",
              "size": 10,
              "solidity": 0.2
             }
            },
            "type": "histogram"
           }
          ],
          "histogram2d": [
           {
            "colorbar": {
             "outlinewidth": 0,
             "ticks": ""
            },
            "colorscale": [
             [
              0,
              "#0d0887"
             ],
             [
              0.1111111111111111,
              "#46039f"
             ],
             [
              0.2222222222222222,
              "#7201a8"
             ],
             [
              0.3333333333333333,
              "#9c179e"
             ],
             [
              0.4444444444444444,
              "#bd3786"
             ],
             [
              0.5555555555555556,
              "#d8576b"
             ],
             [
              0.6666666666666666,
              "#ed7953"
             ],
             [
              0.7777777777777778,
              "#fb9f3a"
             ],
             [
              0.8888888888888888,
              "#fdca26"
             ],
             [
              1,
              "#f0f921"
             ]
            ],
            "type": "histogram2d"
           }
          ],
          "histogram2dcontour": [
           {
            "colorbar": {
             "outlinewidth": 0,
             "ticks": ""
            },
            "colorscale": [
             [
              0,
              "#0d0887"
             ],
             [
              0.1111111111111111,
              "#46039f"
             ],
             [
              0.2222222222222222,
              "#7201a8"
             ],
             [
              0.3333333333333333,
              "#9c179e"
             ],
             [
              0.4444444444444444,
              "#bd3786"
             ],
             [
              0.5555555555555556,
              "#d8576b"
             ],
             [
              0.6666666666666666,
              "#ed7953"
             ],
             [
              0.7777777777777778,
              "#fb9f3a"
             ],
             [
              0.8888888888888888,
              "#fdca26"
             ],
             [
              1,
              "#f0f921"
             ]
            ],
            "type": "histogram2dcontour"
           }
          ],
          "mesh3d": [
           {
            "colorbar": {
             "outlinewidth": 0,
             "ticks": ""
            },
            "type": "mesh3d"
           }
          ],
          "parcoords": [
           {
            "line": {
             "colorbar": {
              "outlinewidth": 0,
              "ticks": ""
             }
            },
            "type": "parcoords"
           }
          ],
          "pie": [
           {
            "automargin": true,
            "type": "pie"
           }
          ],
          "scatter": [
           {
            "fillpattern": {
             "fillmode": "overlay",
             "size": 10,
             "solidity": 0.2
            },
            "type": "scatter"
           }
          ],
          "scatter3d": [
           {
            "line": {
             "colorbar": {
              "outlinewidth": 0,
              "ticks": ""
             }
            },
            "marker": {
             "colorbar": {
              "outlinewidth": 0,
              "ticks": ""
             }
            },
            "type": "scatter3d"
           }
          ],
          "scattercarpet": [
           {
            "marker": {
             "colorbar": {
              "outlinewidth": 0,
              "ticks": ""
             }
            },
            "type": "scattercarpet"
           }
          ],
          "scattergeo": [
           {
            "marker": {
             "colorbar": {
              "outlinewidth": 0,
              "ticks": ""
             }
            },
            "type": "scattergeo"
           }
          ],
          "scattergl": [
           {
            "marker": {
             "colorbar": {
              "outlinewidth": 0,
              "ticks": ""
             }
            },
            "type": "scattergl"
           }
          ],
          "scattermap": [
           {
            "marker": {
             "colorbar": {
              "outlinewidth": 0,
              "ticks": ""
             }
            },
            "type": "scattermap"
           }
          ],
          "scattermapbox": [
           {
            "marker": {
             "colorbar": {
              "outlinewidth": 0,
              "ticks": ""
             }
            },
            "type": "scattermapbox"
           }
          ],
          "scatterpolar": [
           {
            "marker": {
             "colorbar": {
              "outlinewidth": 0,
              "ticks": ""
             }
            },
            "type": "scatterpolar"
           }
          ],
          "scatterpolargl": [
           {
            "marker": {
             "colorbar": {
              "outlinewidth": 0,
              "ticks": ""
             }
            },
            "type": "scatterpolargl"
           }
          ],
          "scatterternary": [
           {
            "marker": {
             "colorbar": {
              "outlinewidth": 0,
              "ticks": ""
             }
            },
            "type": "scatterternary"
           }
          ],
          "surface": [
           {
            "colorbar": {
             "outlinewidth": 0,
             "ticks": ""
            },
            "colorscale": [
             [
              0,
              "#0d0887"
             ],
             [
              0.1111111111111111,
              "#46039f"
             ],
             [
              0.2222222222222222,
              "#7201a8"
             ],
             [
              0.3333333333333333,
              "#9c179e"
             ],
             [
              0.4444444444444444,
              "#bd3786"
             ],
             [
              0.5555555555555556,
              "#d8576b"
             ],
             [
              0.6666666666666666,
              "#ed7953"
             ],
             [
              0.7777777777777778,
              "#fb9f3a"
             ],
             [
              0.8888888888888888,
              "#fdca26"
             ],
             [
              1,
              "#f0f921"
             ]
            ],
            "type": "surface"
           }
          ],
          "table": [
           {
            "cells": {
             "fill": {
              "color": "#EBF0F8"
             },
             "line": {
              "color": "white"
             }
            },
            "header": {
             "fill": {
              "color": "#C8D4E3"
             },
             "line": {
              "color": "white"
             }
            },
            "type": "table"
           }
          ]
         },
         "layout": {
          "annotationdefaults": {
           "arrowcolor": "#2a3f5f",
           "arrowhead": 0,
           "arrowwidth": 1
          },
          "autotypenumbers": "strict",
          "coloraxis": {
           "colorbar": {
            "outlinewidth": 0,
            "ticks": ""
           }
          },
          "colorscale": {
           "diverging": [
            [
             0,
             "#8e0152"
            ],
            [
             0.1,
             "#c51b7d"
            ],
            [
             0.2,
             "#de77ae"
            ],
            [
             0.3,
             "#f1b6da"
            ],
            [
             0.4,
             "#fde0ef"
            ],
            [
             0.5,
             "#f7f7f7"
            ],
            [
             0.6,
             "#e6f5d0"
            ],
            [
             0.7,
             "#b8e186"
            ],
            [
             0.8,
             "#7fbc41"
            ],
            [
             0.9,
             "#4d9221"
            ],
            [
             1,
             "#276419"
            ]
           ],
           "sequential": [
            [
             0,
             "#0d0887"
            ],
            [
             0.1111111111111111,
             "#46039f"
            ],
            [
             0.2222222222222222,
             "#7201a8"
            ],
            [
             0.3333333333333333,
             "#9c179e"
            ],
            [
             0.4444444444444444,
             "#bd3786"
            ],
            [
             0.5555555555555556,
             "#d8576b"
            ],
            [
             0.6666666666666666,
             "#ed7953"
            ],
            [
             0.7777777777777778,
             "#fb9f3a"
            ],
            [
             0.8888888888888888,
             "#fdca26"
            ],
            [
             1,
             "#f0f921"
            ]
           ],
           "sequentialminus": [
            [
             0,
             "#0d0887"
            ],
            [
             0.1111111111111111,
             "#46039f"
            ],
            [
             0.2222222222222222,
             "#7201a8"
            ],
            [
             0.3333333333333333,
             "#9c179e"
            ],
            [
             0.4444444444444444,
             "#bd3786"
            ],
            [
             0.5555555555555556,
             "#d8576b"
            ],
            [
             0.6666666666666666,
             "#ed7953"
            ],
            [
             0.7777777777777778,
             "#fb9f3a"
            ],
            [
             0.8888888888888888,
             "#fdca26"
            ],
            [
             1,
             "#f0f921"
            ]
           ]
          },
          "colorway": [
           "#636efa",
           "#EF553B",
           "#00cc96",
           "#ab63fa",
           "#FFA15A",
           "#19d3f3",
           "#FF6692",
           "#B6E880",
           "#FF97FF",
           "#FECB52"
          ],
          "font": {
           "color": "#2a3f5f"
          },
          "geo": {
           "bgcolor": "white",
           "lakecolor": "white",
           "landcolor": "#E5ECF6",
           "showlakes": true,
           "showland": true,
           "subunitcolor": "white"
          },
          "hoverlabel": {
           "align": "left"
          },
          "hovermode": "closest",
          "mapbox": {
           "style": "light"
          },
          "paper_bgcolor": "white",
          "plot_bgcolor": "#E5ECF6",
          "polar": {
           "angularaxis": {
            "gridcolor": "white",
            "linecolor": "white",
            "ticks": ""
           },
           "bgcolor": "#E5ECF6",
           "radialaxis": {
            "gridcolor": "white",
            "linecolor": "white",
            "ticks": ""
           }
          },
          "scene": {
           "xaxis": {
            "backgroundcolor": "#E5ECF6",
            "gridcolor": "white",
            "gridwidth": 2,
            "linecolor": "white",
            "showbackground": true,
            "ticks": "",
            "zerolinecolor": "white"
           },
           "yaxis": {
            "backgroundcolor": "#E5ECF6",
            "gridcolor": "white",
            "gridwidth": 2,
            "linecolor": "white",
            "showbackground": true,
            "ticks": "",
            "zerolinecolor": "white"
           },
           "zaxis": {
            "backgroundcolor": "#E5ECF6",
            "gridcolor": "white",
            "gridwidth": 2,
            "linecolor": "white",
            "showbackground": true,
            "ticks": "",
            "zerolinecolor": "white"
           }
          },
          "shapedefaults": {
           "line": {
            "color": "#2a3f5f"
           }
          },
          "ternary": {
           "aaxis": {
            "gridcolor": "white",
            "linecolor": "white",
            "ticks": ""
           },
           "baxis": {
            "gridcolor": "white",
            "linecolor": "white",
            "ticks": ""
           },
           "bgcolor": "#E5ECF6",
           "caxis": {
            "gridcolor": "white",
            "linecolor": "white",
            "ticks": ""
           }
          },
          "title": {
           "x": 0.05
          },
          "xaxis": {
           "automargin": true,
           "gridcolor": "white",
           "linecolor": "white",
           "ticks": "",
           "title": {
            "standoff": 15
           },
           "zerolinecolor": "white",
           "zerolinewidth": 2
          },
          "yaxis": {
           "automargin": true,
           "gridcolor": "white",
           "linecolor": "white",
           "ticks": "",
           "title": {
            "standoff": 15
           },
           "zerolinecolor": "white",
           "zerolinewidth": 2
          }
         }
        },
        "title": {
         "text": "Median Salary vs. Number of Skills (<= 15 skills)"
        },
        "xaxis": {
         "anchor": "y",
         "domain": [
          0,
          1
         ],
         "gridcolor": "lightgray",
         "showgrid": true,
         "title": {
          "text": "Number of Skills"
         }
        },
        "yaxis": {
         "anchor": "x",
         "domain": [
          0,
          1
         ],
         "gridcolor": "lightgray",
         "showgrid": true,
         "title": {
          "text": "Median Monthly Salary (EUR)"
         }
        }
       }
      }
     },
     "metadata": {},
     "output_type": "display_data"
    }
   ],
   "source": [
    "# Ensure total_skills exists for all postings\n",
    "df.loc[:, 'job_skills'] = df['job_skills'].apply(\n",
    "    lambda x: [s.lower() for s in x] if isinstance(x, list) else []\n",
    ")\n",
    "df.loc[:, 'total_skills'] = df['job_skills'].apply(len)\n",
    "\n",
    "# Filter <= 15 skills\n",
    "df_ds_filtered = df[(df['job_title_short'] == 'Data Scientist') & (df['total_skills'] <= 15)]\n",
    "df_da_filtered = df[(df['job_title_short'] == 'Data Analyst') & (df['total_skills'] <= 15)]\n",
    "\n",
    "# Compute median salaries and counts per skill count\n",
    "median_ds = df_ds_filtered.groupby('total_skills').agg(\n",
    "    median_salary=('salary_month_avg_eur', 'median'),\n",
    "    count=('salary_month_avg_eur', 'size')\n",
    ").reset_index()\n",
    "median_ds['role'] = 'Data Scientist'\n",
    "\n",
    "median_da = df_da_filtered.groupby('total_skills').agg(\n",
    "    median_salary=('salary_month_avg_eur', 'median'),\n",
    "    count=('salary_month_avg_eur', 'size')\n",
    ").reset_index()\n",
    "median_da['role'] = 'Data Analyst'\n",
    "\n",
    "# Combine for plotting\n",
    "median_df = pd.concat([median_ds, median_da], ignore_index=True)\n",
    "\n",
    "# Create scatter plot (bullets sized by number of postings)\n",
    "fig = px.scatter(\n",
    "    median_df,\n",
    "    x='total_skills',\n",
    "    y='median_salary',\n",
    "    size='count',\n",
    "    color='role',\n",
    "    color_discrete_map={\n",
    "        'Data Scientist': 'darkblue',\n",
    "        'Data Analyst': 'gray'\n",
    "    },\n",
    "    title='Median Salary vs. Number of Skills (<= 15 skills)',\n",
    "    labels={\n",
    "        'total_skills': 'Number of Skills',\n",
    "        'median_salary': 'Median Monthly Salary (EUR)',\n",
    "        'count': 'Number of Job Postings'\n",
    "    },\n",
    "    size_max=20,  # max size of bullet\n",
    ")\n",
    "\n",
    "# Add predicted candidate salary\n",
    "fig.add_scatter(\n",
    "    x=[candidate_features['total_skills'].iloc[0]],\n",
    "    y=[predicted_salary],\n",
    "    mode='markers+text',\n",
    "    marker=dict(color='red', size=15, line=dict(color='black', width=1)),\n",
    "    text=[f\"{predicted_salary:,.0f} EUR\"],\n",
    "    textposition='top center',\n",
    "    name='Predicted candidate salary'\n",
    ")\n",
    "\n",
    "fig.update_layout(\n",
    "    plot_bgcolor='white',\n",
    "    xaxis=dict(showgrid=True, gridcolor='lightgray'),\n",
    "    yaxis=dict(showgrid=True, gridcolor='lightgray'),\n",
    "    legend_title_text=''\n",
    ")\n",
    "\n",
    "fig.show()"
   ]
  },
  {
   "cell_type": "markdown",
   "id": "0a6e1578",
   "metadata": {},
   "source": [
    "### Summary:\n",
    "TBD"
   ]
  }
 ],
 "metadata": {
  "kernelspec": {
   "display_name": "data_jobs",
   "language": "python",
   "name": "python3"
  },
  "language_info": {
   "codemirror_mode": {
    "name": "ipython",
    "version": 3
   },
   "file_extension": ".py",
   "mimetype": "text/x-python",
   "name": "python",
   "nbconvert_exporter": "python",
   "pygments_lexer": "ipython3",
   "version": "3.11.11"
  }
 },
 "nbformat": 4,
 "nbformat_minor": 5
}
