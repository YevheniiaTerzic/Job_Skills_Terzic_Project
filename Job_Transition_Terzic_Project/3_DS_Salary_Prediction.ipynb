{
 "cells": [
  {
   "cell_type": "markdown",
   "id": "4cfac5dd",
   "metadata": {},
   "source": [
    "## What salary could get a candidate after transition?\n",
    "\n",
    "To support data analysts transitioning to data science roles, we build a xgboost model to estimate salary differences based on key skills we defined for transition. on this section we:\n",
    "\n",
    "- Remove salary outliers and filter for Data Scientist job postings\n",
    "- Engineer binary skill features\n",
    "- Train an XGBoost regression model\n",
    "- Predict the monthly salary in EUR"
   ]
  },
  {
   "cell_type": "markdown",
   "id": "b78b111a",
   "metadata": {},
   "source": [
    "### Import Libraries"
   ]
  },
  {
   "cell_type": "code",
   "execution_count": 13,
   "id": "b18ac9ed",
   "metadata": {},
   "outputs": [],
   "source": [
    "from pathlib import Path\n",
    "import pandas as pd\n",
    "\n",
    "from sklearn.model_selection import train_test_split\n",
    "from sklearn.preprocessing import OneHotEncoder\n",
    "from sklearn.metrics import mean_squared_error, r2_score\n",
    "from xgboost import XGBRegressor\n",
    "\n",
    "import plotly.express as px\n",
    "import matplotlib.pyplot as plt"
   ]
  },
  {
   "cell_type": "markdown",
   "id": "15fc0162",
   "metadata": {},
   "source": [
    "### Load Cleaned Dataset"
   ]
  },
  {
   "cell_type": "code",
   "execution_count": 14,
   "id": "6a6d74ec",
   "metadata": {},
   "outputs": [],
   "source": [
    "df = pd.read_pickle(Path.cwd().parents[1] / 'Raw_Data' / 'df_Final_2.pkl')"
   ]
  },
  {
   "cell_type": "markdown",
   "id": "2e2aeea4",
   "metadata": {},
   "source": [
    "### Predicting Data Scientist Salaries Based on Analyst Transition Skills\n",
    "\n",
    "To support data analysts transitioning to data science roles, we build a regression model to estimate salary on base of skillset we defined as the most appropriate for transition.\n",
    "\n",
    "- **Target Role:** Data Scientist  \n",
    "- **Base Skills:** `Python`, `SQL`, `Tableau`/`Looker`/`Power BI`\n",
    "- **Key Transition Skills:** `R`/`SAS`, `AWS`/`Azure`, `Spark`/`Tensorflow`, `Pytorch`"
   ]
  },
  {
   "cell_type": "code",
   "execution_count": 15,
   "id": "b22e4929",
   "metadata": {},
   "outputs": [
    {
     "name": "stdout",
     "output_type": "stream",
     "text": [
      "Valid Data Scientist rows: 9507\n"
     ]
    }
   ],
   "source": [
    "df_ml = df[df['job_title_short'] == 'Data Scientist'].copy()\n",
    "\n",
    "print(f\"Valid Data Scientist rows: {len(df_ml)}\")"
   ]
  },
  {
   "cell_type": "markdown",
   "id": "c1c365f8",
   "metadata": {},
   "source": [
    "### Skill Feature Engineering\n",
    "\n",
    "We create binary features to represent whether a posting mentions:\n",
    "- Base skills (Excel, Python, SQL, BI tools)\n",
    "- Transition skills (R/SAS, AWS/Azure, Spark/TensorFlow/PyTorch)\n",
    "\n",
    "We also add:\n",
    "- Total skill count\n",
    "- A composite binary meets_criteria flag for candidates having all required skills."
   ]
  },
  {
   "cell_type": "code",
   "execution_count": 16,
   "id": "2f65d3ee",
   "metadata": {},
   "outputs": [
    {
     "data": {
      "text/plain": [
       "has_python         7763\n",
       "has_sql            5727\n",
       "has_excel          1054\n",
       "has_viz_tool       2508\n",
       "has_r_sas          4597\n",
       "has_spark_tf_pt    2783\n",
       "has_aws_azure      2313\n",
       "dtype: int64"
      ]
     },
     "execution_count": 16,
     "metadata": {},
     "output_type": "execute_result"
    }
   ],
   "source": [
    "# Lowercase skill lists\n",
    "df_ml['job_skills'] = df_ml['job_skills'].apply(lambda x: [s.lower() for s in x] if isinstance(x, list) else [])\n",
    "\n",
    "# Define skill groups\n",
    "viz_tools = ['tableau', 'power bi', 'looker']\n",
    "r_sas = ['r', 'sas']\n",
    "spark_tf_pt = ['spark', 'tensorflow', 'pytorch']\n",
    "aws_azure = ['aws', 'azure']\n",
    "\n",
    "# Individual known skills\n",
    "df_ml['has_python'] = df_ml['job_skills'].apply(lambda skills: 'python' in skills).astype(int)\n",
    "df_ml['has_sql'] = df_ml['job_skills'].apply(lambda skills: 'sql' in skills).astype(int)\n",
    "df_ml['has_excel'] = df_ml['job_skills'].apply(lambda skills: 'excel' in skills).astype(int)\n",
    "\n",
    "# Group features\n",
    "df_ml['has_viz_tool'] = df_ml['job_skills'].apply(lambda skills: any(v in skills for v in viz_tools)).astype(int)\n",
    "df_ml['has_r_sas'] = df_ml['job_skills'].apply(lambda skills: any(v in skills for v in r_sas)).astype(int)\n",
    "df_ml['has_spark_tf_pt'] = df_ml['job_skills'].apply(lambda skills: any(v in skills for v in spark_tf_pt)).astype(int)\n",
    "df_ml['has_aws_azure'] = df_ml['job_skills'].apply(lambda skills: any(v in skills for v in aws_azure)).astype(int)\n",
    "\n",
    "# List of skill features\n",
    "skill_cols = ['has_excel','has_python','has_sql','has_viz_tool',\n",
    "              'has_r_sas','has_spark_tf_pt','has_aws_azure','total_skills','meets_criteria']\n",
    "\n",
    "# Total skills count in posting\n",
    "df_ml['total_skills'] = df_ml['job_skills'].apply(len)\n",
    "\n",
    "# Composite feature: candidate meets all conditions\n",
    "df_ml['meets_criteria'] = (\n",
    "    df_ml['has_excel'] &\n",
    "    df_ml['has_python'] &\n",
    "    df_ml['has_sql'] &\n",
    "    df_ml['has_viz_tool'] &\n",
    "    df_ml['has_r_sas'] &\n",
    "    df_ml['has_spark_tf_pt'] &\n",
    "    df_ml['has_aws_azure']\n",
    ").astype(int)\n",
    "\n",
    "df_ml[['has_python','has_sql','has_excel','has_viz_tool','has_r_sas','has_spark_tf_pt','has_aws_azure']].sum()"
   ]
  },
  {
   "cell_type": "markdown",
   "id": "1b7e8e0d",
   "metadata": {},
   "source": [
    "### Encode categorical variables"
   ]
  },
  {
   "cell_type": "code",
   "execution_count": 17,
   "id": "2a04e99e",
   "metadata": {},
   "outputs": [
    {
     "name": "stdout",
     "output_type": "stream",
     "text": [
      "Categorical/binary features counts:\n",
      "\n",
      "is_eu                    328\n",
      "is_us                   7480\n",
      "job_work_from_home      1809\n",
      "job_health_insurance    4925\n",
      "schedule_full_time      9247\n",
      "schedule_part_time       555\n",
      "schedule_contractor      265\n",
      "schedule_temp_work        95\n",
      "schedule_internship       65\n",
      "dtype: int64\n"
     ]
    }
   ],
   "source": [
    "# Multi-hot schedule type\n",
    "schedule_types = [\"Full-time\", \"Part-time\", \"Contractor\", \"Temp work\", \"Internship\"]\n",
    "\n",
    "for s in schedule_types:\n",
    "    col = \"schedule_\" + s.lower().replace(\" \", \"_\").replace(\"-\", \"_\")\n",
    "    # Assign 1 if schedule string contains this type, else 0\n",
    "    df_ml[col] = df_ml['job_schedule_type'].fillna(\"\").apply(lambda x: int(s in x))\n",
    "\n",
    "# Additional categorical/binary features\n",
    "df_ml['is_us'] = (df_ml['job_country'] == \"United States\").astype(int)\n",
    "\n",
    "# Collect categorical/binary columns (no schedule_missing here)\n",
    "categorical_cols = ['is_eu', 'is_us', 'job_work_from_home', 'job_health_insurance']\n",
    "categorical_cols += [c for c in df_ml.columns if c.startswith(\"schedule_\")]\n",
    "\n",
    "print(\"Categorical/binary features counts:\\n\")\n",
    "print(df_ml[categorical_cols].sum())"
   ]
  },
  {
   "cell_type": "markdown",
   "id": "418813ef",
   "metadata": {},
   "source": [
    "### Merge all features into modeling dataset"
   ]
  },
  {
   "cell_type": "code",
   "execution_count": 18,
   "id": "10205631",
   "metadata": {},
   "outputs": [
    {
     "name": "stdout",
     "output_type": "stream",
     "text": [
      "\n",
      "df_model created with 9507 rows and 35 features.\n",
      "Target variable: salary_month_avg_eur\n"
     ]
    }
   ],
   "source": [
    "# All model features\n",
    "model_features = skill_cols + categorical_cols\n",
    "\n",
    "# Target\n",
    "y = df_ml['salary_month_avg_eur']\n",
    "X = df_ml[model_features]\n",
    "\n",
    "# Summary of df_model\n",
    "print(f\"\\ndf_model created with {df_ml.shape[0]} rows and {df_ml.shape[1]} features.\")\n",
    "print(\"Target variable: salary_month_avg_eur\")"
   ]
  },
  {
   "cell_type": "markdown",
   "id": "b6790ba0",
   "metadata": {},
   "source": [
    "### Train XGBoost model"
   ]
  },
  {
   "cell_type": "code",
   "execution_count": 19,
   "id": "f00b7144",
   "metadata": {},
   "outputs": [
    {
     "name": "stdout",
     "output_type": "stream",
     "text": [
      "Training R^2: 0.3545002983394784\n",
      "Test R^2: 0.14617752139714746\n"
     ]
    }
   ],
   "source": [
    "from xgboost import XGBRegressor\n",
    "from sklearn.model_selection import train_test_split\n",
    "\n",
    "# Split data\n",
    "X_train, X_test, y_train, y_test = train_test_split(X, y, test_size=0.2, random_state=42)\n",
    "\n",
    "# Initialize and train\n",
    "model = XGBRegressor(n_estimators=200, max_depth=6, learning_rate=0.1, random_state=42)\n",
    "model.fit(X_train, y_train)\n",
    "\n",
    "# Optional: evaluate\n",
    "print(\"Training R^2:\", model.score(X_train, y_train))\n",
    "print(\"Test R^2:\", model.score(X_test, y_test))"
   ]
  },
  {
   "cell_type": "markdown",
   "id": "8ffe12e6",
   "metadata": {},
   "source": [
    "### Candidate prediction"
   ]
  },
  {
   "cell_type": "code",
   "execution_count": 20,
   "id": "e5b343bc",
   "metadata": {},
   "outputs": [
    {
     "name": "stdout",
     "output_type": "stream",
     "text": [
      "Predicted salary for candidate: 10078.52 EUR/month\n"
     ]
    }
   ],
   "source": [
    "# Candidate feature vector\n",
    "candidate_features = pd.DataFrame([{\n",
    "    'has_excel': 1,\n",
    "    'has_python': 1,\n",
    "    'has_sql': 1,\n",
    "    'has_viz_tool': 1,\n",
    "    'has_r_sas': 0,\n",
    "    'has_spark_tf_pt': 0,\n",
    "    'has_aws_azure': 1,\n",
    "    'total_skills': 7,\n",
    "    'meets_criteria': 0,\n",
    "    \n",
    "    'is_eu': 0,\n",
    "    'is_us': 1,\n",
    "    'job_work_from_home': 1,\n",
    "    'job_health_insurance': 1,\n",
    "    \n",
    "    'schedule_full_time': 1,\n",
    "    'schedule_part_time': 0,\n",
    "    'schedule_contractor': 0,\n",
    "    'schedule_temp_work': 0,\n",
    "    'schedule_internship': 0\n",
    "    \n",
    "}])\n",
    "\n",
    "# Predict salary\n",
    "predicted_salary = model.predict(candidate_features)[0]\n",
    "print(f\"Predicted salary for candidate: {predicted_salary:.2f} EUR/month\")"
   ]
  },
  {
   "cell_type": "code",
   "execution_count": 21,
   "id": "daba2981",
   "metadata": {},
   "outputs": [
    {
     "data": {
      "image/png": "[encoded data removed]",
      "text/plain": [
       "<Figure size 900x400 with 1 Axes>"
      ]
     },
     "metadata": {},
     "output_type": "display_data"
    }
   ],
   "source": [
    "import matplotlib.pyplot as plt\n",
    "\n",
    "# Ensure total_skills exists for all postings\n",
    "df['job_skills'] = df['job_skills'].apply(lambda x: [s.lower() for s in x] if isinstance(x, list) else [])\n",
    "df['total_skills'] = df['job_skills'].apply(len)\n",
    "\n",
    "# Filter <= 15 skills\n",
    "df_ds_filtered = df[(df['job_title_short'] == 'Data Scientist') & (df['total_skills'] <= 15)]\n",
    "df_da_filtered = df[(df['job_title_short'] == 'Data Analyst') & (df['total_skills'] <= 15)]\n",
    "\n",
    "# Compute median salaries and counts per skill count\n",
    "median_ds = df_ds_filtered.groupby('total_skills').agg(\n",
    "    median_salary=('salary_month_avg_eur', 'median'),\n",
    "    count=('salary_month_avg_eur', 'size')\n",
    ").reset_index()\n",
    "median_da = df_da_filtered.groupby('total_skills').agg(\n",
    "    median_salary=('salary_month_avg_eur', 'median'),\n",
    "    count=('salary_month_avg_eur', 'size')\n",
    ").reset_index()\n",
    "\n",
    "# Plotting\n",
    "plt.figure(figsize=(9,4))\n",
    "\n",
    "# Data Scientist points\n",
    "plt.scatter(\n",
    "    median_ds['total_skills'],\n",
    "    median_ds['median_salary'],\n",
    "    s=median_ds['count']*0.7,  \n",
    "    c='darkblue',\n",
    "    alpha=0.6,\n",
    "    label='Data Scientist'\n",
    ")\n",
    "\n",
    "# Data Analyst points\n",
    "plt.scatter(\n",
    "    median_da['total_skills'],\n",
    "    median_da['median_salary'],\n",
    "    s=median_da['count']*0.7,\n",
    "    c='gray',\n",
    "    alpha=0.6,\n",
    "    label='Data Analyst'\n",
    ")\n",
    "\n",
    "# Predicted candidate salary\n",
    "plt.scatter(\n",
    "    candidate_features['total_skills'].iloc[0],\n",
    "    predicted_salary,\n",
    "    s=400,  \n",
    "    c='red',\n",
    "    edgecolor='black',\n",
    "    label='Predicted candidate salary',\n",
    "    zorder=5\n",
    ")\n",
    "plt.text(\n",
    "    candidate_features['total_skills'].iloc[0],\n",
    "    predicted_salary + predicted_salary * 0.02,\n",
    "    f\"{predicted_salary:,.0f} EUR\",\n",
    "    ha='center',\n",
    "    va='bottom',\n",
    "    fontsize=10,\n",
    "    fontweight='bold'\n",
    ")\n",
    "\n",
    "# Axis labels and title\n",
    "plt.xlabel('Number of Skills')\n",
    "plt.ylabel('Median Monthly Salary (EUR)')\n",
    "plt.title('Median Salary vs. Number of Skills (<= 15 skills)')\n",
    "plt.grid(True, linestyle='--', alpha=0.5)\n",
    "plt.legend()\n",
    "plt.tight_layout()\n",
    "\n",
    "plt.show()"
   ]
  },
  {
   "cell_type": "code",
   "execution_count": 23,
   "id": "8722ebb3",
   "metadata": {},
   "outputs": [
    {
     "data": {
      "application/vnd.plotly.v1+json": {
       "config": {
        "plotlyServerURL": "https://plot.ly"
       },
       "data": [
        {
         "hovertemplate": "role=Data Scientist<br>Number of Skills=%{x}<br>Median Monthly Salary (EUR)=%{y}<br>Number of Job Postings=%{marker.size}<extra></extra>",
         "legendgroup": "Data Scientist",
         "marker": {
          "color": "darkblue",
          "size": {
           "bdata": "pAJaA7IFQgVpBFEDwwIkAgwCSQFsAecAhwBnAD8A",
           "dtype": "i2"
          },
          "sizemode": "area",
          "sizeref": 6.355,
          "symbol": "circle"
         },
         "mode": "markers",
         "name": "Data Scientist",
         "orientation": "v",
         "showlegend": true,
         "type": "scatter",
         "x": {
          "bdata": "AQIDBAUGBwgJCgsMDQ4P",
          "dtype": "i1"
         },
         "xaxis": "x",
         "y": {
          "bdata": "AAAAAEAcwkDsUbgehW3CQOJ6FK7358NAUrgehXtmw0DNzMzM7KTDQNejcD3qccNAw/UoXI/zwkAK16NwfQTDQAAAAADw48JA7FG4HgXbwUDNzMzMPCrCQNejcD2qw8FAMzMzMzPkwkAfhetReLPDQM3MzMwMMMRA",
          "dtype": "f8"
         },
         "yaxis": "y"
        },
        {
         "hovertemplate": "role=Data Analyst<br>Number of Skills=%{x}<br>Median Monthly Salary (EUR)=%{y}<br>Number of Job Postings=%{marker.size}<extra></extra>",
         "legendgroup": "Data Analyst",
         "marker": {
          "color": "gray",
          "size": {
           "bdata": "7gn2BDcFDAUaBF0D+gFYAVMBpgCeAIAAKwAcAA4A",
           "dtype": "i2"
          },
          "sizemode": "area",
          "sizeref": 6.355,
          "symbol": "circle"
         },
         "mode": "markers",
         "name": "Data Analyst",
         "orientation": "v",
         "showlegend": true,
         "type": "scatter",
         "x": {
          "bdata": "AQIDBAUGBwgJCgsMDQ4P",
          "dtype": "i1"
         },
         "xaxis": "x",
         "y": {
          "bdata": "AAAAAADWuEAK16NwfQy5QNejcD1KTLlAKVyPwnVnvEAzMzMzkze7QK5H4XqU07lAKVyPwjUmvEAK16Nw3SS9QAAAAAAAnL1AXI/C9cjLvECF61G4fr29QAAAAABg0r9AUrgehSvmvUAAAAAAgDm+QOxRuB7l+r5A",
          "dtype": "f8"
         },
         "yaxis": "y"
        },
        {
         "marker": {
          "color": "red",
          "line": {
           "color": "black",
           "width": 1
          },
          "size": 15
         },
         "mode": "markers+text",
         "name": "Predicted candidate salary",
         "text": [
          "10,079 EUR"
         ],
         "textposition": "top center",
         "type": "scatter",
         "x": [
          7
         ],
         "y": [
          10078.5166015625
         ]
        }
       ],
       "layout": {
        "legend": {
         "itemsizing": "constant",
         "title": {
          "text": ""
         },
         "tracegroupgap": 0
        },
        "plot_bgcolor": "white",
        "template": {
         "data": {
          "bar": [
           {
            "error_x": {
             "color": "#2a3f5f"
            },
            "error_y": {
             "color": "#2a3f5f"
            },
            "marker": {
             "line": {
              "color": "#E5ECF6",
              "width": 0.5
             },
             "pattern": {
              "fillmode": "overlay",
              "size": 10,
              "solidity": 0.2
             }
            },
            "type": "bar"
           }
          ],
          "barpolar": [
           {
            "marker": {
             "line": {
              "color": "#E5ECF6",
              "width": 0.5
             },
             "pattern": {
              "fillmode": "overlay",
              "size": 10,
              "solidity": 0.2
             }
            },
            "type": "barpolar"
           }
          ],
          "carpet": [
           {
            "aaxis": {
             "endlinecolor": "#2a3f5f",
             "gridcolor": "white",
             "linecolor": "white",
             "minorgridcolor": "white",
             "startlinecolor": "#2a3f5f"
            },
            "baxis": {
             "endlinecolor": "#2a3f5f",
             "gridcolor": "white",
             "linecolor": "white",
             "minorgridcolor": "white",
             "startlinecolor": "#2a3f5f"
            },
            "type": "carpet"
           }
          ],
          "choropleth": [
           {
            "colorbar": {
             "outlinewidth": 0,
             "ticks": ""
            },
            "type": "choropleth"
           }
          ],
          "contour": [
           {
            "colorbar": {
             "outlinewidth": 0,
             "ticks": ""
            },
            "colorscale": [
             [
              0,
              "#0d0887"
             ],
             [
              0.1111111111111111,
              "#46039f"
             ],
             [
              0.2222222222222222,
              "#7201a8"
             ],
             [
              0.3333333333333333,
              "#9c179e"
             ],
             [
              0.4444444444444444,
              "#bd3786"
             ],
             [
              0.5555555555555556,
              "#d8576b"
             ],
             [
              0.6666666666666666,
              "#ed7953"
             ],
             [
              0.7777777777777778,
              "#fb9f3a"
             ],
             [
              0.8888888888888888,
              "#fdca26"
             ],
             [
              1,
              "#f0f921"
             ]
            ],
            "type": "contour"
           }
          ],
          "contourcarpet": [
           {
            "colorbar": {
             "outlinewidth": 0,
             "ticks": ""
            },
            "type": "contourcarpet"
           }
          ],
          "heatmap": [
           {
            "colorbar": {
             "outlinewidth": 0,
             "ticks": ""
            },
            "colorscale": [
             [
              0,
              "#0d0887"
             ],
             [
              0.1111111111111111,
              "#46039f"
             ],
             [
              0.2222222222222222,
              "#7201a8"
             ],
             [
              0.3333333333333333,
              "#9c179e"
             ],
             [
              0.4444444444444444,
              "#bd3786"
             ],
             [
              0.5555555555555556,
              "#d8576b"
             ],
             [
              0.6666666666666666,
              "#ed7953"
             ],
             [
              0.7777777777777778,
              "#fb9f3a"
             ],
             [
              0.8888888888888888,
              "#fdca26"
             ],
             [
              1,
              "#f0f921"
             ]
            ],
            "type": "heatmap"
           }
          ],
          "histogram": [
           {
            "marker": {
             "pattern": {
              "fillmode": "overlay",
              "size": 10,
              "solidity": 0.2
             }
            },
            "type": "histogram"
           }
          ],
          "histogram2d": [
           {
            "colorbar": {
             "outlinewidth": 0,
             "ticks": ""
            },
            "colorscale": [
             [
              0,
              "#0d0887"
             ],
             [
              0.1111111111111111,
              "#46039f"
             ],
             [
              0.2222222222222222,
              "#7201a8"
             ],
             [
              0.3333333333333333,
              "#9c179e"
             ],
             [
              0.4444444444444444,
              "#bd3786"
             ],
             [
              0.5555555555555556,
              "#d8576b"
             ],
             [
              0.6666666666666666,
              "#ed7953"
             ],
             [
              0.7777777777777778,
              "#fb9f3a"
             ],
             [
              0.8888888888888888,
              "#fdca26"
             ],
             [
              1,
              "#f0f921"
             ]
            ],
            "type": "histogram2d"
           }
          ],
          "histogram2dcontour": [
           {
            "colorbar": {
             "outlinewidth": 0,
             "ticks": ""
            },
            "colorscale": [
             [
              0,
              "#0d0887"
             ],
             [
              0.1111111111111111,
              "#46039f"
             ],
             [
              0.2222222222222222,
              "#7201a8"
             ],
             [
              0.3333333333333333,
              "#9c179e"
             ],
             [
              0.4444444444444444,
              "#bd3786"
             ],
             [
              0.5555555555555556,
              "#d8576b"
             ],
             [
              0.6666666666666666,
              "#ed7953"
             ],
             [
              0.7777777777777778,
              "#fb9f3a"
             ],
             [
              0.8888888888888888,
              "#fdca26"
             ],
             [
              1,
              "#f0f921"
             ]
            ],
            "type": "histogram2dcontour"
           }
          ],
          "mesh3d": [
           {
            "colorbar": {
             "outlinewidth": 0,
             "ticks": ""
            },
            "type": "mesh3d"
           }
          ],
          "parcoords": [
           {
            "line": {
             "colorbar": {
              "outlinewidth": 0,
              "ticks": ""
             }
            },
            "type": "parcoords"
           }
          ],
          "pie": [
           {
            "automargin": true,
            "type": "pie"
           }
          ],
          "scatter": [
           {
            "fillpattern": {
             "fillmode": "overlay",
             "size": 10,
             "solidity": 0.2
            },
            "type": "scatter"
           }
          ],
          "scatter3d": [
           {
            "line": {
             "colorbar": {
              "outlinewidth": 0,
              "ticks": ""
             }
            },
            "marker": {
             "colorbar": {
              "outlinewidth": 0,
              "ticks": ""
             }
            },
            "type": "scatter3d"
           }
          ],
          "scattercarpet": [
           {
            "marker": {
             "colorbar": {
              "outlinewidth": 0,
              "ticks": ""
             }
            },
            "type": "scattercarpet"
           }
          ],
          "scattergeo": [
           {
            "marker": {
             "colorbar": {
              "outlinewidth": 0,
              "ticks": ""
             }
            },
            "type": "scattergeo"
           }
          ],
          "scattergl": [
           {
            "marker": {
             "colorbar": {
              "outlinewidth": 0,
              "ticks": ""
             }
            },
            "type": "scattergl"
           }
          ],
          "scattermap": [
           {
            "marker": {
             "colorbar": {
              "outlinewidth": 0,
              "ticks": ""
             }
            },
            "type": "scattermap"
           }
          ],
          "scattermapbox": [
           {
            "marker": {
             "colorbar": {
              "outlinewidth": 0,
              "ticks": ""
             }
            },
            "type": "scattermapbox"
           }
          ],
          "scatterpolar": [
           {
            "marker": {
             "colorbar": {
              "outlinewidth": 0,
              "ticks": ""
             }
            },
            "type": "scatterpolar"
           }
          ],
          "scatterpolargl": [
           {
            "marker": {
             "colorbar": {
              "outlinewidth": 0,
              "ticks": ""
             }
            },
            "type": "scatterpolargl"
           }
          ],
          "scatterternary": [
           {
            "marker": {
             "colorbar": {
              "outlinewidth": 0,
              "ticks": ""
             }
            },
            "type": "scatterternary"
           }
          ],
          "surface": [
           {
            "colorbar": {
             "outlinewidth": 0,
             "ticks": ""
            },
            "colorscale": [
             [
              0,
              "#0d0887"
             ],
             [
              0.1111111111111111,
              "#46039f"
             ],
             [
              0.2222222222222222,
              "#7201a8"
             ],
             [
              0.3333333333333333,
              "#9c179e"
             ],
             [
              0.4444444444444444,
              "#bd3786"
             ],
             [
              0.5555555555555556,
              "#d8576b"
             ],
             [
              0.6666666666666666,
              "#ed7953"
             ],
             [
              0.7777777777777778,
              "#fb9f3a"
             ],
             [
              0.8888888888888888,
              "#fdca26"
             ],
             [
              1,
              "#f0f921"
             ]
            ],
            "type": "surface"
           }
          ],
          "table": [
           {
            "cells": {
             "fill": {
              "color": "#EBF0F8"
             },
             "line": {
              "color": "white"
             }
            },
            "header": {
             "fill": {
              "color": "#C8D4E3"
             },
             "line": {
              "color": "white"
             }
            },
            "type": "table"
           }
          ]
         },
         "layout": {
          "annotationdefaults": {
           "arrowcolor": "#2a3f5f",
           "arrowhead": 0,
           "arrowwidth": 1
          },
          "autotypenumbers": "strict",
          "coloraxis": {
           "colorbar": {
            "outlinewidth": 0,
            "ticks": ""
           }
          },
          "colorscale": {
           "diverging": [
            [
             0,
             "#8e0152"
            ],
            [
             0.1,
             "#c51b7d"
            ],
            [
             0.2,
             "#de77ae"
            ],
            [
             0.3,
             "#f1b6da"
            ],
            [
             0.4,
             "#fde0ef"
            ],
            [
             0.5,
             "#f7f7f7"
            ],
            [
             0.6,
             "#e6f5d0"
            ],
            [
             0.7,
             "#b8e186"
            ],
            [
             0.8,
             "#7fbc41"
            ],
            [
             0.9,
             "#4d9221"
            ],
            [
             1,
             "#276419"
            ]
           ],
           "sequential": [
            [
             0,
             "#0d0887"
            ],
            [
             0.1111111111111111,
             "#46039f"
            ],
            [
             0.2222222222222222,
             "#7201a8"
            ],
            [
             0.3333333333333333,
             "#9c179e"
            ],
            [
             0.4444444444444444,
             "#bd3786"
            ],
            [
             0.5555555555555556,
             "#d8576b"
            ],
            [
             0.6666666666666666,
             "#ed7953"
            ],
            [
             0.7777777777777778,
             "#fb9f3a"
            ],
            [
             0.8888888888888888,
             "#fdca26"
            ],
            [
             1,
             "#f0f921"
            ]
           ],
           "sequentialminus": [
            [
             0,
             "#0d0887"
            ],
            [
             0.1111111111111111,
             "#46039f"
            ],
            [
             0.2222222222222222,
             "#7201a8"
            ],
            [
             0.3333333333333333,
             "#9c179e"
            ],
            [
             0.4444444444444444,
             "#bd3786"
            ],
            [
             0.5555555555555556,
             "#d8576b"
            ],
            [
             0.6666666666666666,
             "#ed7953"
            ],
            [
             0.7777777777777778,
             "#fb9f3a"
            ],
            [
             0.8888888888888888,
             "#fdca26"
            ],
            [
             1,
             "#f0f921"
            ]
           ]
          },
          "colorway": [
           "#636efa",
           "#EF553B",
           "#00cc96",
           "#ab63fa",
           "#FFA15A",
           "#19d3f3",
           "#FF6692",
           "#B6E880",
           "#FF97FF",
           "#FECB52"
          ],
          "font": {
           "color": "#2a3f5f"
          },
          "geo": {
           "bgcolor": "white",
           "lakecolor": "white",
           "landcolor": "#E5ECF6",
           "showlakes": true,
           "showland": true,
           "subunitcolor": "white"
          },
          "hoverlabel": {
           "align": "left"
          },
          "hovermode": "closest",
          "mapbox": {
           "style": "light"
          },
          "paper_bgcolor": "white",
          "plot_bgcolor": "#E5ECF6",
          "polar": {
           "angularaxis": {
            "gridcolor": "white",
            "linecolor": "white",
            "ticks": ""
           },
           "bgcolor": "#E5ECF6",
           "radialaxis": {
            "gridcolor": "white",
            "linecolor": "white",
            "ticks": ""
           }
          },
          "scene": {
           "xaxis": {
            "backgroundcolor": "#E5ECF6",
            "gridcolor": "white",
            "gridwidth": 2,
            "linecolor": "white",
            "showbackground": true,
            "ticks": "",
            "zerolinecolor": "white"
           },
           "yaxis": {
            "backgroundcolor": "#E5ECF6",
            "gridcolor": "white",
            "gridwidth": 2,
            "linecolor": "white",
            "showbackground": true,
            "ticks": "",
            "zerolinecolor": "white"
           },
           "zaxis": {
            "backgroundcolor": "#E5ECF6",
            "gridcolor": "white",
            "gridwidth": 2,
            "linecolor": "white",
            "showbackground": true,
            "ticks": "",
            "zerolinecolor": "white"
           }
          },
          "shapedefaults": {
           "line": {
            "color": "#2a3f5f"
           }
          },
          "ternary": {
           "aaxis": {
            "gridcolor": "white",
            "linecolor": "white",
            "ticks": ""
           },
           "baxis": {
            "gridcolor": "white",
            "linecolor": "white",
            "ticks": ""
           },
           "bgcolor": "#E5ECF6",
           "caxis": {
            "gridcolor": "white",
            "linecolor": "white",
            "ticks": ""
           }
          },
          "title": {
           "x": 0.05
          },
          "xaxis": {
           "automargin": true,
           "gridcolor": "white",
           "linecolor": "white",
           "ticks": "",
           "title": {
            "standoff": 15
           },
           "zerolinecolor": "white",
           "zerolinewidth": 2
          },
          "yaxis": {
           "automargin": true,
           "gridcolor": "white",
           "linecolor": "white",
           "ticks": "",
           "title": {
            "standoff": 15
           },
           "zerolinecolor": "white",
           "zerolinewidth": 2
          }
         }
        },
        "title": {
         "text": "Median Salary vs. Number of Skills (<= 15 skills)"
        },
        "xaxis": {
         "anchor": "y",
         "domain": [
          0,
          1
         ],
         "gridcolor": "lightgray",
         "showgrid": true,
         "title": {
          "text": "Number of Skills"
         }
        },
        "yaxis": {
         "anchor": "x",
         "domain": [
          0,
          1
         ],
         "gridcolor": "lightgray",
         "showgrid": true,
         "title": {
          "text": "Median Monthly Salary (EUR)"
         }
        }
       }
      }
     },
     "metadata": {},
     "output_type": "display_data"
    }
   ],
   "source": [
    "# Ensure total_skills exists for all postings\n",
    "df.loc[:, 'job_skills'] = df['job_skills'].apply(\n",
    "    lambda x: [s.lower() for s in x] if isinstance(x, list) else []\n",
    ")\n",
    "df.loc[:, 'total_skills'] = df['job_skills'].apply(len)\n",
    "\n",
    "# Filter: only Data Scientist / Data Analyst with <= 15 skills\n",
    "df_ds_filtered = df[\n",
    "    (df['job_title_short'] == 'Data Scientist') & (df['total_skills'] <= 15)\n",
    "]\n",
    "df_da_filtered = df[\n",
    "    (df['job_title_short'] == 'Data Analyst') & (df['total_skills'] <= 15)\n",
    "]\n",
    "\n",
    "# Compute median salaries and counts per skill count\n",
    "median_ds = (\n",
    "    df_ds_filtered.groupby('total_skills')\n",
    "    .agg(\n",
    "        median_salary=('salary_month_avg_eur', 'median'),\n",
    "        count=('salary_month_avg_eur', 'size')\n",
    "    )\n",
    "    .reset_index()\n",
    ")\n",
    "median_ds['role'] = 'Data Scientist'\n",
    "\n",
    "median_da = (\n",
    "    df_da_filtered.groupby('total_skills')\n",
    "    .agg(\n",
    "        median_salary=('salary_month_avg_eur', 'median'),\n",
    "        count=('salary_month_avg_eur', 'size')\n",
    "    )\n",
    "    .reset_index()\n",
    ")\n",
    "median_da['role'] = 'Data Analyst'\n",
    "\n",
    "# Combine results for plotting\n",
    "median_df = pd.concat([median_ds, median_da], ignore_index=True)\n",
    "\n",
    "# Create scatter plot (bubble size = number of postings)\n",
    "fig = px.scatter(\n",
    "    median_df,\n",
    "    x='total_skills',\n",
    "    y='median_salary',\n",
    "    size='count',\n",
    "    color='role',\n",
    "    color_discrete_map={\n",
    "        'Data Scientist': 'darkblue',\n",
    "        'Data Analyst': 'gray'\n",
    "    },\n",
    "    title='Median Salary vs. Number of Skills (<= 15 skills)',\n",
    "    labels={\n",
    "        'total_skills': 'Number of Skills',\n",
    "        'median_salary': 'Median Monthly Salary (EUR)',\n",
    "        'count': 'Number of Job Postings'\n",
    "    },\n",
    "    size_max=20,  # max bubble size\n",
    ")\n",
    "\n",
    "# Add predicted candidate salary\n",
    "fig.add_scatter(\n",
    "    x=[candidate_features['total_skills'].iloc[0]],\n",
    "    y=[predicted_salary],\n",
    "    mode='markers+text',\n",
    "    marker=dict(color='red', size=15, line=dict(color='black', width=1)),\n",
    "    text=[f\"{predicted_salary:,.0f} EUR\"],\n",
    "    textposition='top center',\n",
    "    name='Predicted candidate salary'\n",
    ")\n",
    "\n",
    "# Layout styling\n",
    "fig.update_layout(\n",
    "    plot_bgcolor='white',\n",
    "    xaxis=dict(showgrid=True, gridcolor='lightgray'),\n",
    "    yaxis=dict(showgrid=True, gridcolor='lightgray'),\n",
    "    legend_title_text=''\n",
    ")\n",
    "\n",
    "fig.show()\n"
   ]
  }
 ],
 "metadata": {
  "kernelspec": {
   "display_name": "data_jobs",
   "language": "python",
   "name": "python3"
  },
  "language_info": {
   "codemirror_mode": {
    "name": "ipython",
    "version": 3
   },
   "file_extension": ".py",
   "mimetype": "text/x-python",
   "name": "python",
   "nbconvert_exporter": "python",
   "pygments_lexer": "ipython3",
   "version": "3.11.11"
  }
 },
 "nbformat": 4,
 "nbformat_minor": 5
}
