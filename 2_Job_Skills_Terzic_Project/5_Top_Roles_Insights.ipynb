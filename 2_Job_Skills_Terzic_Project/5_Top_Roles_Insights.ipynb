{
 "cells": [
  {
   "cell_type": "markdown",
   "id": "b15c1de1",
   "metadata": {},
   "source": [
    "# How can you maximize your salary as a Data Analyst? \n",
    "- Which skills are most strongly correlated with higher pay?\n",
    "- What type of job better to search for - Remote/In-Office?\n",
    "- Do you need special degree to get bigger salary?\n",
    "- When better to search for a job to get bigger salary."
   ]
  },
  {
   "cell_type": "code",
   "execution_count": 7,
   "id": "16791213",
   "metadata": {},
   "outputs": [],
   "source": [
    "import pandas as pd\n",
    "#import plotly.express as px\n",
    "\n",
    "#import matplotlib.pyplot as plt\n",
    "#import seaborn as sns\n",
    "\n",
    "import numpy as np\n",
    "\n",
    "import plotly.graph_objects as go\n",
    "\n",
    "df = pd.read_csv('/Users/kolesnikevgenia/Documents/Python_Projects/Job_Skills/Raw_Data/df_Final.csv')"
   ]
  },
  {
   "cell_type": "code",
   "execution_count": 8,
   "id": "63f72fc3",
   "metadata": {},
   "outputs": [
    {
     "name": "stdout",
     "output_type": "stream",
     "text": [
      "Correlation between month and average salary: -0.220\n",
      "Correlation between month and job postings count: -0.763\n"
     ]
    }
   ],
   "source": [
    "# Filter for top 3 roles if needed, or use df directly\n",
    "df_filtered = df[df['job_title_short'].isin(top3_roles)].copy()\n",
    "\n",
    "# Ensure job_posted_date is datetime\n",
    "df_filtered['job_posted_date'] = pd.to_datetime(df_filtered['job_posted_date'])\n",
    "\n",
    "# Extract month number (1 to 12)\n",
    "df_filtered['month_num'] = df_filtered['job_posted_date'].dt.month\n",
    "\n",
    "# Calculate average salary per month_num\n",
    "salary_per_month = (\n",
    "    df_filtered.groupby('month_num')['salary_month_avg_eur']\n",
    "    .mean()\n",
    "    .reset_index()\n",
    ")\n",
    "\n",
    "# Calculate count of job postings per month_num\n",
    "count_per_month = (\n",
    "    df_filtered.groupby('month_num')\n",
    "    .size()\n",
    "    .reset_index(name='job_postings_count')\n",
    ")\n",
    "\n",
    "# Merge for correlation calculations if needed\n",
    "merged = pd.merge(salary_per_month, count_per_month, on='month_num')\n",
    "\n",
    "# Correlation between month number and average salary\n",
    "corr_salary_month = merged['month_num'].corr(merged['salary_month_avg_eur'])\n",
    "\n",
    "# Correlation between month number and job postings count\n",
    "corr_count_month = merged['month_num'].corr(merged['job_postings_count'])\n",
    "\n",
    "print(f\"Correlation between month and average salary: {corr_salary_month:.3f}\")\n",
    "print(f\"Correlation between month and job postings count: {corr_count_month:.3f}\")"
   ]
  },
  {
   "cell_type": "markdown",
   "id": "85266745",
   "metadata": {},
   "source": [
    "Correlation between month and job postings count = −0.763\n",
    "\n",
    "This is a strong negative correlation.\n",
    "It means that the number of job postings tends to drop significantly as the year goes on. For example, there may be many postings early in the year and fewer toward the end (or vice versa depending on how month numbering is defined).\n",
    "This pattern could reflect hiring cycles, budget periods, or seasonality in the job market."
   ]
  },
  {
   "cell_type": "code",
   "execution_count": 24,
   "id": "53383baf",
   "metadata": {},
   "outputs": [
    {
     "data": {
      "application/vnd.plotly.v1+json": {
       "config": {
        "plotlyServerURL": "https://plot.ly"
       },
       "data": [
        {
         "line": {
          "color": "#1f77b4",
          "width": 3
         },
         "mode": "lines+markers",
         "name": "Job Postings Count",
         "type": "scatter",
         "x": [
          "2023-01",
          "2023-02",
          "2023-03",
          "2023-04",
          "2023-05",
          "2023-06",
          "2023-07",
          "2023-08",
          "2023-09",
          "2023-10",
          "2023-11",
          "2023-12"
         ],
         "y": {
          "bdata": "UgLKAeIByQHCASUCNQIKAiYBQQFOAakB",
          "dtype": "i2"
         },
         "yaxis": "y"
        },
        {
         "line": {
          "color": "#ff7f0e",
          "width": 3
         },
         "mode": "lines+markers",
         "name": "Median Salary (EUR)",
         "type": "scatter",
         "x": [
          "2023-01",
          "2023-02",
          "2023-03",
          "2023-04",
          "2023-05",
          "2023-06",
          "2023-07",
          "2023-08",
          "2023-09",
          "2023-10",
          "2023-11",
          "2023-12"
         ],
         "y": {
          "bdata": "PgrXo7BiuUAAAAAAQIK5QAAAAABAgrlAAAAAAECCuUAAAAAAQIK5QAAAAADAebpA16NwPQrtukDXo3A9Cu26QAAAAABAgrlAzczMzIzntkCkcD0KN063QOxRuB5F97VA",
          "dtype": "f8"
         },
         "yaxis": "y2"
        }
       ],
       "layout": {
        "height": 450,
        "legend": {
         "orientation": "h",
         "x": 0.1,
         "y": 1.1
        },
        "margin": {
         "b": 40,
         "t": 70
        },
        "template": {
         "data": {
          "bar": [
           {
            "error_x": {
             "color": "#2a3f5f"
            },
            "error_y": {
             "color": "#2a3f5f"
            },
            "marker": {
             "line": {
              "color": "white",
              "width": 0.5
             },
             "pattern": {
              "fillmode": "overlay",
              "size": 10,
              "solidity": 0.2
             }
            },
            "type": "bar"
           }
          ],
          "barpolar": [
           {
            "marker": {
             "line": {
              "color": "white",
              "width": 0.5
             },
             "pattern": {
              "fillmode": "overlay",
              "size": 10,
              "solidity": 0.2
             }
            },
            "type": "barpolar"
           }
          ],
          "carpet": [
           {
            "aaxis": {
             "endlinecolor": "#2a3f5f",
             "gridcolor": "#C8D4E3",
             "linecolor": "#C8D4E3",
             "minorgridcolor": "#C8D4E3",
             "startlinecolor": "#2a3f5f"
            },
            "baxis": {
             "endlinecolor": "#2a3f5f",
             "gridcolor": "#C8D4E3",
             "linecolor": "#C8D4E3",
             "minorgridcolor": "#C8D4E3",
             "startlinecolor": "#2a3f5f"
            },
            "type": "carpet"
           }
          ],
          "choropleth": [
           {
            "colorbar": {
             "outlinewidth": 0,
             "ticks": ""
            },
            "type": "choropleth"
           }
          ],
          "contour": [
           {
            "colorbar": {
             "outlinewidth": 0,
             "ticks": ""
            },
            "colorscale": [
             [
              0,
              "#0d0887"
             ],
             [
              0.1111111111111111,
              "#46039f"
             ],
             [
              0.2222222222222222,
              "#7201a8"
             ],
             [
              0.3333333333333333,
              "#9c179e"
             ],
             [
              0.4444444444444444,
              "#bd3786"
             ],
             [
              0.5555555555555556,
              "#d8576b"
             ],
             [
              0.6666666666666666,
              "#ed7953"
             ],
             [
              0.7777777777777778,
              "#fb9f3a"
             ],
             [
              0.8888888888888888,
              "#fdca26"
             ],
             [
              1,
              "#f0f921"
             ]
            ],
            "type": "contour"
           }
          ],
          "contourcarpet": [
           {
            "colorbar": {
             "outlinewidth": 0,
             "ticks": ""
            },
            "type": "contourcarpet"
           }
          ],
          "heatmap": [
           {
            "colorbar": {
             "outlinewidth": 0,
             "ticks": ""
            },
            "colorscale": [
             [
              0,
              "#0d0887"
             ],
             [
              0.1111111111111111,
              "#46039f"
             ],
             [
              0.2222222222222222,
              "#7201a8"
             ],
             [
              0.3333333333333333,
              "#9c179e"
             ],
             [
              0.4444444444444444,
              "#bd3786"
             ],
             [
              0.5555555555555556,
              "#d8576b"
             ],
             [
              0.6666666666666666,
              "#ed7953"
             ],
             [
              0.7777777777777778,
              "#fb9f3a"
             ],
             [
              0.8888888888888888,
              "#fdca26"
             ],
             [
              1,
              "#f0f921"
             ]
            ],
            "type": "heatmap"
           }
          ],
          "histogram": [
           {
            "marker": {
             "pattern": {
              "fillmode": "overlay",
              "size": 10,
              "solidity": 0.2
             }
            },
            "type": "histogram"
           }
          ],
          "histogram2d": [
           {
            "colorbar": {
             "outlinewidth": 0,
             "ticks": ""
            },
            "colorscale": [
             [
              0,
              "#0d0887"
             ],
             [
              0.1111111111111111,
              "#46039f"
             ],
             [
              0.2222222222222222,
              "#7201a8"
             ],
             [
              0.3333333333333333,
              "#9c179e"
             ],
             [
              0.4444444444444444,
              "#bd3786"
             ],
             [
              0.5555555555555556,
              "#d8576b"
             ],
             [
              0.6666666666666666,
              "#ed7953"
             ],
             [
              0.7777777777777778,
              "#fb9f3a"
             ],
             [
              0.8888888888888888,
              "#fdca26"
             ],
             [
              1,
              "#f0f921"
             ]
            ],
            "type": "histogram2d"
           }
          ],
          "histogram2dcontour": [
           {
            "colorbar": {
             "outlinewidth": 0,
             "ticks": ""
            },
            "colorscale": [
             [
              0,
              "#0d0887"
             ],
             [
              0.1111111111111111,
              "#46039f"
             ],
             [
              0.2222222222222222,
              "#7201a8"
             ],
             [
              0.3333333333333333,
              "#9c179e"
             ],
             [
              0.4444444444444444,
              "#bd3786"
             ],
             [
              0.5555555555555556,
              "#d8576b"
             ],
             [
              0.6666666666666666,
              "#ed7953"
             ],
             [
              0.7777777777777778,
              "#fb9f3a"
             ],
             [
              0.8888888888888888,
              "#fdca26"
             ],
             [
              1,
              "#f0f921"
             ]
            ],
            "type": "histogram2dcontour"
           }
          ],
          "mesh3d": [
           {
            "colorbar": {
             "outlinewidth": 0,
             "ticks": ""
            },
            "type": "mesh3d"
           }
          ],
          "parcoords": [
           {
            "line": {
             "colorbar": {
              "outlinewidth": 0,
              "ticks": ""
             }
            },
            "type": "parcoords"
           }
          ],
          "pie": [
           {
            "automargin": true,
            "type": "pie"
           }
          ],
          "scatter": [
           {
            "fillpattern": {
             "fillmode": "overlay",
             "size": 10,
             "solidity": 0.2
            },
            "type": "scatter"
           }
          ],
          "scatter3d": [
           {
            "line": {
             "colorbar": {
              "outlinewidth": 0,
              "ticks": ""
             }
            },
            "marker": {
             "colorbar": {
              "outlinewidth": 0,
              "ticks": ""
             }
            },
            "type": "scatter3d"
           }
          ],
          "scattercarpet": [
           {
            "marker": {
             "colorbar": {
              "outlinewidth": 0,
              "ticks": ""
             }
            },
            "type": "scattercarpet"
           }
          ],
          "scattergeo": [
           {
            "marker": {
             "colorbar": {
              "outlinewidth": 0,
              "ticks": ""
             }
            },
            "type": "scattergeo"
           }
          ],
          "scattergl": [
           {
            "marker": {
             "colorbar": {
              "outlinewidth": 0,
              "ticks": ""
             }
            },
            "type": "scattergl"
           }
          ],
          "scattermap": [
           {
            "marker": {
             "colorbar": {
              "outlinewidth": 0,
              "ticks": ""
             }
            },
            "type": "scattermap"
           }
          ],
          "scattermapbox": [
           {
            "marker": {
             "colorbar": {
              "outlinewidth": 0,
              "ticks": ""
             }
            },
            "type": "scattermapbox"
           }
          ],
          "scatterpolar": [
           {
            "marker": {
             "colorbar": {
              "outlinewidth": 0,
              "ticks": ""
             }
            },
            "type": "scatterpolar"
           }
          ],
          "scatterpolargl": [
           {
            "marker": {
             "colorbar": {
              "outlinewidth": 0,
              "ticks": ""
             }
            },
            "type": "scatterpolargl"
           }
          ],
          "scatterternary": [
           {
            "marker": {
             "colorbar": {
              "outlinewidth": 0,
              "ticks": ""
             }
            },
            "type": "scatterternary"
           }
          ],
          "surface": [
           {
            "colorbar": {
             "outlinewidth": 0,
             "ticks": ""
            },
            "colorscale": [
             [
              0,
              "#0d0887"
             ],
             [
              0.1111111111111111,
              "#46039f"
             ],
             [
              0.2222222222222222,
              "#7201a8"
             ],
             [
              0.3333333333333333,
              "#9c179e"
             ],
             [
              0.4444444444444444,
              "#bd3786"
             ],
             [
              0.5555555555555556,
              "#d8576b"
             ],
             [
              0.6666666666666666,
              "#ed7953"
             ],
             [
              0.7777777777777778,
              "#fb9f3a"
             ],
             [
              0.8888888888888888,
              "#fdca26"
             ],
             [
              1,
              "#f0f921"
             ]
            ],
            "type": "surface"
           }
          ],
          "table": [
           {
            "cells": {
             "fill": {
              "color": "#EBF0F8"
             },
             "line": {
              "color": "white"
             }
            },
            "header": {
             "fill": {
              "color": "#C8D4E3"
             },
             "line": {
              "color": "white"
             }
            },
            "type": "table"
           }
          ]
         },
         "layout": {
          "annotationdefaults": {
           "arrowcolor": "#2a3f5f",
           "arrowhead": 0,
           "arrowwidth": 1
          },
          "autotypenumbers": "strict",
          "coloraxis": {
           "colorbar": {
            "outlinewidth": 0,
            "ticks": ""
           }
          },
          "colorscale": {
           "diverging": [
            [
             0,
             "#8e0152"
            ],
            [
             0.1,
             "#c51b7d"
            ],
            [
             0.2,
             "#de77ae"
            ],
            [
             0.3,
             "#f1b6da"
            ],
            [
             0.4,
             "#fde0ef"
            ],
            [
             0.5,
             "#f7f7f7"
            ],
            [
             0.6,
             "#e6f5d0"
            ],
            [
             0.7,
             "#b8e186"
            ],
            [
             0.8,
             "#7fbc41"
            ],
            [
             0.9,
             "#4d9221"
            ],
            [
             1,
             "#276419"
            ]
           ],
           "sequential": [
            [
             0,
             "#0d0887"
            ],
            [
             0.1111111111111111,
             "#46039f"
            ],
            [
             0.2222222222222222,
             "#7201a8"
            ],
            [
             0.3333333333333333,
             "#9c179e"
            ],
            [
             0.4444444444444444,
             "#bd3786"
            ],
            [
             0.5555555555555556,
             "#d8576b"
            ],
            [
             0.6666666666666666,
             "#ed7953"
            ],
            [
             0.7777777777777778,
             "#fb9f3a"
            ],
            [
             0.8888888888888888,
             "#fdca26"
            ],
            [
             1,
             "#f0f921"
            ]
           ],
           "sequentialminus": [
            [
             0,
             "#0d0887"
            ],
            [
             0.1111111111111111,
             "#46039f"
            ],
            [
             0.2222222222222222,
             "#7201a8"
            ],
            [
             0.3333333333333333,
             "#9c179e"
            ],
            [
             0.4444444444444444,
             "#bd3786"
            ],
            [
             0.5555555555555556,
             "#d8576b"
            ],
            [
             0.6666666666666666,
             "#ed7953"
            ],
            [
             0.7777777777777778,
             "#fb9f3a"
            ],
            [
             0.8888888888888888,
             "#fdca26"
            ],
            [
             1,
             "#f0f921"
            ]
           ]
          },
          "colorway": [
           "#636efa",
           "#EF553B",
           "#00cc96",
           "#ab63fa",
           "#FFA15A",
           "#19d3f3",
           "#FF6692",
           "#B6E880",
           "#FF97FF",
           "#FECB52"
          ],
          "font": {
           "color": "#2a3f5f"
          },
          "geo": {
           "bgcolor": "white",
           "lakecolor": "white",
           "landcolor": "white",
           "showlakes": true,
           "showland": true,
           "subunitcolor": "#C8D4E3"
          },
          "hoverlabel": {
           "align": "left"
          },
          "hovermode": "closest",
          "mapbox": {
           "style": "light"
          },
          "paper_bgcolor": "white",
          "plot_bgcolor": "white",
          "polar": {
           "angularaxis": {
            "gridcolor": "#EBF0F8",
            "linecolor": "#EBF0F8",
            "ticks": ""
           },
           "bgcolor": "white",
           "radialaxis": {
            "gridcolor": "#EBF0F8",
            "linecolor": "#EBF0F8",
            "ticks": ""
           }
          },
          "scene": {
           "xaxis": {
            "backgroundcolor": "white",
            "gridcolor": "#DFE8F3",
            "gridwidth": 2,
            "linecolor": "#EBF0F8",
            "showbackground": true,
            "ticks": "",
            "zerolinecolor": "#EBF0F8"
           },
           "yaxis": {
            "backgroundcolor": "white",
            "gridcolor": "#DFE8F3",
            "gridwidth": 2,
            "linecolor": "#EBF0F8",
            "showbackground": true,
            "ticks": "",
            "zerolinecolor": "#EBF0F8"
           },
           "zaxis": {
            "backgroundcolor": "white",
            "gridcolor": "#DFE8F3",
            "gridwidth": 2,
            "linecolor": "#EBF0F8",
            "showbackground": true,
            "ticks": "",
            "zerolinecolor": "#EBF0F8"
           }
          },
          "shapedefaults": {
           "line": {
            "color": "#2a3f5f"
           }
          },
          "ternary": {
           "aaxis": {
            "gridcolor": "#DFE8F3",
            "linecolor": "#A2B1C6",
            "ticks": ""
           },
           "baxis": {
            "gridcolor": "#DFE8F3",
            "linecolor": "#A2B1C6",
            "ticks": ""
           },
           "bgcolor": "white",
           "caxis": {
            "gridcolor": "#DFE8F3",
            "linecolor": "#A2B1C6",
            "ticks": ""
           }
          },
          "title": {
           "x": 0.05
          },
          "xaxis": {
           "automargin": true,
           "gridcolor": "#EBF0F8",
           "linecolor": "#EBF0F8",
           "ticks": "",
           "title": {
            "standoff": 15
           },
           "zerolinecolor": "#EBF0F8",
           "zerolinewidth": 2
          },
          "yaxis": {
           "automargin": true,
           "gridcolor": "#EBF0F8",
           "linecolor": "#EBF0F8",
           "ticks": "",
           "title": {
            "standoff": 15
           },
           "zerolinecolor": "#EBF0F8",
           "zerolinewidth": 2
          }
         }
        },
        "title": {
         "text": "Data Analyst: Job Postings and Median Salary Over Time"
        },
        "width": 900,
        "xaxis": {
         "title": {
          "text": "Month"
         }
        },
        "yaxis": {
         "side": "left",
         "title": {
          "text": "Job Postings Count"
         }
        },
        "yaxis2": {
         "overlaying": "y",
         "side": "right",
         "title": {
          "text": "Median Salary (EUR)"
         }
        }
       }
      }
     },
     "metadata": {},
     "output_type": "display_data"
    }
   ],
   "source": [
    "# 1. Ensure correct datetime and extract month\n",
    "df['job_posted_date'] = pd.to_datetime(df['job_posted_date'])\n",
    "df['month_period'] = df['job_posted_date'].dt.to_period('M').astype(str)\n",
    "\n",
    "# 2. Filter for \"Data Analyst\"\n",
    "df_analyst = df[df['job_title_short'] == 'Data Analyst'].copy()\n",
    "\n",
    "# 3. Job postings count per month\n",
    "job_postings_count = (\n",
    "    df_analyst.groupby('month_period')\n",
    "    .size()\n",
    "    .reset_index(name='job_postings_count')\n",
    "    .sort_values('month_period')\n",
    "    .reset_index(drop=True)\n",
    ")\n",
    "\n",
    "# 4. Median salary per month\n",
    "median_salary = (\n",
    "    df_analyst.groupby('month_period')['salary_month_avg_eur']\n",
    "    .median()\n",
    "    .reset_index(name='median_salary')\n",
    "    .sort_values('month_period')\n",
    "    .reset_index(drop=True)\n",
    ")\n",
    "\n",
    "# 5. Merge both into one DataFrame\n",
    "df_merged = pd.merge(\n",
    "    job_postings_count,\n",
    "    median_salary,\n",
    "    on='month_period'\n",
    ")\n",
    "\n",
    "# 6. Plot\n",
    "fig = go.Figure()\n",
    "\n",
    "# Job postings line\n",
    "fig.add_trace(go.Scatter(\n",
    "    x=df_merged['month_period'],\n",
    "    y=df_merged['job_postings_count'],\n",
    "    mode='lines+markers',\n",
    "    name='Job Postings Count',\n",
    "    line=dict(color='#1f77b4', width=3),\n",
    "    yaxis='y1'\n",
    "))\n",
    "\n",
    "# Median salary line\n",
    "fig.add_trace(go.Scatter(\n",
    "    x=df_merged['month_period'],\n",
    "    y=df_merged['median_salary'],\n",
    "    mode='lines+markers',\n",
    "    name='Median Salary (EUR)',\n",
    "    line=dict(color='#ff7f0e', width=3),\n",
    "    yaxis='y2'\n",
    "))\n",
    "\n",
    "# Layout with dual axes\n",
    "fig.update_layout(\n",
    "    title=\"Data Analyst: Job Postings and Median Salary Over Time\",\n",
    "    xaxis=dict(title='Month'),\n",
    "    yaxis=dict(title='Job Postings Count', side='left'),\n",
    "    yaxis2=dict(title='Median Salary (EUR)', overlaying='y', side='right'),\n",
    "    legend=dict(x=0.1, y=1.1, orientation='h'),\n",
    "    height=450,\n",
    "    width=900,\n",
    "    template='plotly_white',\n",
    "    margin=dict(t=70, b=40)\n",
    ")\n",
    "\n",
    "fig.show()"
   ]
  },
  {
   "cell_type": "markdown",
   "id": "a34cd609",
   "metadata": {},
   "source": [
    "# Correlation between number of postings and job salaries"
   ]
  },
  {
   "cell_type": "code",
   "execution_count": 28,
   "id": "4f570996",
   "metadata": {},
   "outputs": [
    {
     "name": "stdout",
     "output_type": "stream",
     "text": [
      "Correlation between job postings and current month median salary: nan\n",
      "Correlation between job postings and next month median salary: nan\n"
     ]
    }
   ],
   "source": [
    "# Ensure correct datetime and extract month\n",
    "df['job_posted_date'] = pd.to_datetime(df['job_posted_date'])\n",
    "df['month_period'] = df['job_posted_date'].dt.to_period('M').astype(str)\n",
    "\n",
    "# Filter top roles if needed\n",
    "df_filtered = df[df['job_title_short'].isin(top3_roles)].copy()\n",
    "\n",
    "# 1. Job postings count per month\n",
    "job_postings_count = (\n",
    "    df_filtered.groupby('month_period')\n",
    "    .size()\n",
    "    .reset_index(name='job_postings_count')\n",
    "    .sort_values('month_period')\n",
    "    .reset_index(drop=True)\n",
    ")\n",
    "\n",
    "# 2. Median salary per month\n",
    "median_salary = (\n",
    "    df_filtered.groupby('month_period')['salary_month_avg_eur']\n",
    "    .median()\n",
    "    .reset_index(name='median_salary')\n",
    "    .sort_values('month_period')\n",
    "    .reset_index(drop=True)\n",
    ")\n",
    "\n",
    "# 3. Next month salary: shift median salary up by 1\n",
    "median_salary['median_salary_next_month'] = median_salary['median_salary'].shift(-1)\n",
    "\n",
    "# 4. Merge counts with salaries\n",
    "df_corr = pd.merge(\n",
    "    job_postings_count,\n",
    "    median_salary[['month_period', 'median_salary', 'median_salary_next_month']],\n",
    "    on='month_period'\n",
    ")\n",
    "\n",
    "# 5. Drop last row (no next month salary)\n",
    "df_corr = df_corr.dropna()\n",
    "\n",
    "# 6. Calculate correlations\n",
    "corr_current = df_corr['job_postings_count'].corr(df_corr['median_salary'])\n",
    "corr_next = df_corr['job_postings_count'].corr(df_corr['median_salary_next_month'])\n",
    "\n",
    "# 7. Print results\n",
    "print(f\"Correlation between job postings and current month median salary: {corr_current:.3f}\")\n",
    "print(f\"Correlation between job postings and next month median salary: {corr_next:.3f}\")"
   ]
  },
  {
   "cell_type": "markdown",
   "id": "3fadff7e",
   "metadata": {},
   "source": [
    "Interpretation\n",
    "This is a moderate to strong positive correlation.\n",
    "It suggests that when there are more job postings in a given month, the average salary tends to be higher in the following month.\n",
    "This could indicate a lagged effect where increased hiring demand signals or even drives up salary offers shortly after.\n",
    "It might reflect market dynamics like salary negotiations catching up after spikes in demand, or employers responding to talent shortages by raising salaries in the near term.\n",
    "What could cause this pattern?\n",
    "Hiring cycles: Companies may ramp up postings first, then adjust salary offers in response.\n",
    "Budget timing: Salary budgets or offers might be updated shortly after observing market demand.\n",
    "Market signals: A surge in postings could reflect competitive pressures that lead to salary increases soon after."
   ]
  },
  {
   "cell_type": "code",
   "execution_count": null,
   "id": "00613116",
   "metadata": {},
   "outputs": [],
   "source": []
  }
 ],
 "metadata": {
  "kernelspec": {
   "display_name": "python_course",
   "language": "python",
   "name": "python3"
  },
  "language_info": {
   "codemirror_mode": {
    "name": "ipython",
    "version": 3
   },
   "file_extension": ".py",
   "mimetype": "text/x-python",
   "name": "python",
   "nbconvert_exporter": "python",
   "pygments_lexer": "ipython3",
   "version": "3.11.11"
  }
 },
 "nbformat": 4,
 "nbformat_minor": 5
}
