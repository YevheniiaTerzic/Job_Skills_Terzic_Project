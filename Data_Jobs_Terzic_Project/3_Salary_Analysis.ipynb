{
 "cells": [
  {
   "cell_type": "markdown",
   "id": "c711c70d",
   "metadata": {},
   "source": [
    "## How well are top data roles paid in Europe, and which roles have future growth potential?\n",
    "This section analyzes salary trends for the most in-demand data roles, with a focus on European markets, and includes:\n",
    "- Global salary distribution across data roles\n",
    "- Salary distributions for Top-3 Data Roles in Europe\n",
    "- Salary gap for top-3 data roles between Europe and the United States\n",
    "- An interactive map visualizing median salaries for these roles across European countries"
   ]
  },
  {
   "cell_type": "markdown",
   "id": "9f1cf94c",
   "metadata": {},
   "source": [
    "### Import Libraries"
   ]
  },
  {
   "cell_type": "code",
   "execution_count": 12,
   "id": "edcd26c5",
   "metadata": {},
   "outputs": [],
   "source": [
    "from pathlib import Path\n",
    "\n",
    "import pandas as pd\n",
    "import plotly.express as px\n",
    "import plotly.graph_objects as go"
   ]
  },
  {
   "cell_type": "markdown",
   "id": "54ae91a0",
   "metadata": {},
   "source": [
    "### Load Cleaned Dataset"
   ]
  },
  {
   "cell_type": "code",
   "execution_count": 13,
   "id": "df915008",
   "metadata": {},
   "outputs": [],
   "source": [
    "df = pd.read_csv(Path.cwd().parents[1] / 'Raw_Data' / 'df_Final.csv')"
   ]
  },
  {
   "cell_type": "markdown",
   "id": "b26a7308",
   "metadata": {},
   "source": [
    "### Remove Salary Outliers\n",
    "During the exploratory analysis, we identified unusually high salaries in countries with very few job postings. These outliers may result from salaries listed in local currencies, company registration addresses being used instead of actual job locations, or other inconsistencies.\n",
    "\n",
    "Action Taken:\n",
    "- Outliers were removed per job title and country to preserve meaningful comparisons.\n",
    "- For countries with fewer than 5 postings, outliers were removed based on job title only to avoid skewed insights from limited data."
   ]
  },
  {
   "cell_type": "code",
   "execution_count": 14,
   "id": "9026ce4f",
   "metadata": {},
   "outputs": [
    {
     "name": "stdout",
     "output_type": "stream",
     "text": [
      "Original dataset size: 22002\n",
      "Filtered dataset size: 21309\n"
     ]
    }
   ],
   "source": [
    "#Calculate global IQR\n",
    "Q1_global = df['salary_month_avg_eur'].quantile(0.25)\n",
    "Q3_global = df['salary_month_avg_eur'].quantile(0.75)\n",
    "IQR_global = Q3_global - Q1_global\n",
    "lower_bound_global = Q1_global - 1.5 * IQR_global\n",
    "upper_bound_global = Q3_global + 1.5 * IQR_global\n",
    "\n",
    "filtered_groups = []\n",
    "\n",
    "#Iterate over groups\n",
    "for (country, title), group in df.groupby(['job_country', 'job_title_short']):\n",
    "    if len(group) >= 5:\n",
    "        Q1 = group['salary_month_avg_eur'].quantile(0.25)\n",
    "        Q3 = group['salary_month_avg_eur'].quantile(0.75)\n",
    "        IQR = Q3 - Q1\n",
    "        lower = Q1 - 1.5 * IQR\n",
    "        upper = Q3 + 1.5 * IQR\n",
    "    else:\n",
    "        lower = lower_bound_global\n",
    "        upper = upper_bound_global\n",
    "\n",
    "    filtered = group[\n",
    "        (group['salary_month_avg_eur'] >= lower) &\n",
    "        (group['salary_month_avg_eur'] <= upper)\n",
    "    ]\n",
    "    filtered_groups.append(filtered)\n",
    "\n",
    "# Combine all groups back\n",
    "df_filtered = pd.concat(filtered_groups, ignore_index=True)\n",
    "\n",
    "print(f'Original dataset size: {len(df)}')\n",
    "print(f'Filtered dataset size: {len(df_filtered)}')"
   ]
  },
  {
   "cell_type": "markdown",
   "id": "516d4258",
   "metadata": {},
   "source": [
    "### Global salary distribution across data roles\n",
    "To understand overall salary positioning, we start by comparing the **global median monthly salaries** for each role. This helps compare the relative earning power of each job title before diving into regional details."
   ]
  },
  {
   "cell_type": "code",
   "execution_count": 15,
   "id": "850b1812",
   "metadata": {},
   "outputs": [
    {
     "data": {
      "application/vnd.plotly.v1+json": {
       "config": {
        "plotlyServerURL": "https://plot.ly"
       },
       "data": [
        {
         "hovertemplate": "Median Salary, EUR=%{x}<br>job_title_short=%{y}<br>text=%{text}<extra></extra>",
         "insidetextanchor": "middle",
         "legendgroup": "",
         "marker": {
          "color": "#5DADE2",
          "pattern": {
           "shape": ""
          }
         },
         "name": "",
         "orientation": "h",
         "showlegend": false,
         "text": {
          "bdata": "KVyPwnV+t0C4HoXrkaC4QAAAAABA4LhAXI/C9Wg5u0CF61G4ngW9QMP1KFyPur5A7FG4HmVGwUDsUbgeZUbBQM3MzMxsYsRAzczMzOxixUA=",
          "dtype": "f8"
         },
         "textposition": "inside",
         "texttemplate": "%{text:.0f}",
         "type": "bar",
         "x": {
          "bdata": "KVyPwnV+t0C4HoXrkaC4QAAAAABA4LhAXI/C9Wg5u0CF61G4ngW9QMP1KFyPur5A7FG4HmVGwUDsUbgeZUbBQM3MzMxsYsRAzczMzOxixUA=",
          "dtype": "f8"
         },
         "xaxis": "x",
         "y": [
          "Business Analyst",
          "Cloud Engineer",
          "Data Analyst",
          "Software Engineer",
          "Machine Learning Engineer",
          "Senior Data Analyst",
          "Data Scientist",
          "Data Engineer",
          "Senior Data Engineer",
          "Senior Data Scientist"
         ],
         "yaxis": "y"
        }
       ],
       "layout": {
        "barmode": "relative",
        "legend": {
         "tracegroupgap": 0
        },
        "showlegend": false,
        "template": {
         "data": {
          "bar": [
           {
            "error_x": {
             "color": "#2a3f5f"
            },
            "error_y": {
             "color": "#2a3f5f"
            },
            "marker": {
             "line": {
              "color": "#E5ECF6",
              "width": 0.5
             },
             "pattern": {
              "fillmode": "overlay",
              "size": 10,
              "solidity": 0.2
             }
            },
            "type": "bar"
           }
          ],
          "barpolar": [
           {
            "marker": {
             "line": {
              "color": "#E5ECF6",
              "width": 0.5
             },
             "pattern": {
              "fillmode": "overlay",
              "size": 10,
              "solidity": 0.2
             }
            },
            "type": "barpolar"
           }
          ],
          "carpet": [
           {
            "aaxis": {
             "endlinecolor": "#2a3f5f",
             "gridcolor": "white",
             "linecolor": "white",
             "minorgridcolor": "white",
             "startlinecolor": "#2a3f5f"
            },
            "baxis": {
             "endlinecolor": "#2a3f5f",
             "gridcolor": "white",
             "linecolor": "white",
             "minorgridcolor": "white",
             "startlinecolor": "#2a3f5f"
            },
            "type": "carpet"
           }
          ],
          "choropleth": [
           {
            "colorbar": {
             "outlinewidth": 0,
             "ticks": ""
            },
            "type": "choropleth"
           }
          ],
          "contour": [
           {
            "colorbar": {
             "outlinewidth": 0,
             "ticks": ""
            },
            "colorscale": [
             [
              0,
              "#0d0887"
             ],
             [
              0.1111111111111111,
              "#46039f"
             ],
             [
              0.2222222222222222,
              "#7201a8"
             ],
             [
              0.3333333333333333,
              "#9c179e"
             ],
             [
              0.4444444444444444,
              "#bd3786"
             ],
             [
              0.5555555555555556,
              "#d8576b"
             ],
             [
              0.6666666666666666,
              "#ed7953"
             ],
             [
              0.7777777777777778,
              "#fb9f3a"
             ],
             [
              0.8888888888888888,
              "#fdca26"
             ],
             [
              1,
              "#f0f921"
             ]
            ],
            "type": "contour"
           }
          ],
          "contourcarpet": [
           {
            "colorbar": {
             "outlinewidth": 0,
             "ticks": ""
            },
            "type": "contourcarpet"
           }
          ],
          "heatmap": [
           {
            "colorbar": {
             "outlinewidth": 0,
             "ticks": ""
            },
            "colorscale": [
             [
              0,
              "#0d0887"
             ],
             [
              0.1111111111111111,
              "#46039f"
             ],
             [
              0.2222222222222222,
              "#7201a8"
             ],
             [
              0.3333333333333333,
              "#9c179e"
             ],
             [
              0.4444444444444444,
              "#bd3786"
             ],
             [
              0.5555555555555556,
              "#d8576b"
             ],
             [
              0.6666666666666666,
              "#ed7953"
             ],
             [
              0.7777777777777778,
              "#fb9f3a"
             ],
             [
              0.8888888888888888,
              "#fdca26"
             ],
             [
              1,
              "#f0f921"
             ]
            ],
            "type": "heatmap"
           }
          ],
          "histogram": [
           {
            "marker": {
             "pattern": {
              "fillmode": "overlay",
              "size": 10,
              "solidity": 0.2
             }
            },
            "type": "histogram"
           }
          ],
          "histogram2d": [
           {
            "colorbar": {
             "outlinewidth": 0,
             "ticks": ""
            },
            "colorscale": [
             [
              0,
              "#0d0887"
             ],
             [
              0.1111111111111111,
              "#46039f"
             ],
             [
              0.2222222222222222,
              "#7201a8"
             ],
             [
              0.3333333333333333,
              "#9c179e"
             ],
             [
              0.4444444444444444,
              "#bd3786"
             ],
             [
              0.5555555555555556,
              "#d8576b"
             ],
             [
              0.6666666666666666,
              "#ed7953"
             ],
             [
              0.7777777777777778,
              "#fb9f3a"
             ],
             [
              0.8888888888888888,
              "#fdca26"
             ],
             [
              1,
              "#f0f921"
             ]
            ],
            "type": "histogram2d"
           }
          ],
          "histogram2dcontour": [
           {
            "colorbar": {
             "outlinewidth": 0,
             "ticks": ""
            },
            "colorscale": [
             [
              0,
              "#0d0887"
             ],
             [
              0.1111111111111111,
              "#46039f"
             ],
             [
              0.2222222222222222,
              "#7201a8"
             ],
             [
              0.3333333333333333,
              "#9c179e"
             ],
             [
              0.4444444444444444,
              "#bd3786"
             ],
             [
              0.5555555555555556,
              "#d8576b"
             ],
             [
              0.6666666666666666,
              "#ed7953"
             ],
             [
              0.7777777777777778,
              "#fb9f3a"
             ],
             [
              0.8888888888888888,
              "#fdca26"
             ],
             [
              1,
              "#f0f921"
             ]
            ],
            "type": "histogram2dcontour"
           }
          ],
          "mesh3d": [
           {
            "colorbar": {
             "outlinewidth": 0,
             "ticks": ""
            },
            "type": "mesh3d"
           }
          ],
          "parcoords": [
           {
            "line": {
             "colorbar": {
              "outlinewidth": 0,
              "ticks": ""
             }
            },
            "type": "parcoords"
           }
          ],
          "pie": [
           {
            "automargin": true,
            "type": "pie"
           }
          ],
          "scatter": [
           {
            "fillpattern": {
             "fillmode": "overlay",
             "size": 10,
             "solidity": 0.2
            },
            "type": "scatter"
           }
          ],
          "scatter3d": [
           {
            "line": {
             "colorbar": {
              "outlinewidth": 0,
              "ticks": ""
             }
            },
            "marker": {
             "colorbar": {
              "outlinewidth": 0,
              "ticks": ""
             }
            },
            "type": "scatter3d"
           }
          ],
          "scattercarpet": [
           {
            "marker": {
             "colorbar": {
              "outlinewidth": 0,
              "ticks": ""
             }
            },
            "type": "scattercarpet"
           }
          ],
          "scattergeo": [
           {
            "marker": {
             "colorbar": {
              "outlinewidth": 0,
              "ticks": ""
             }
            },
            "type": "scattergeo"
           }
          ],
          "scattergl": [
           {
            "marker": {
             "colorbar": {
              "outlinewidth": 0,
              "ticks": ""
             }
            },
            "type": "scattergl"
           }
          ],
          "scattermap": [
           {
            "marker": {
             "colorbar": {
              "outlinewidth": 0,
              "ticks": ""
             }
            },
            "type": "scattermap"
           }
          ],
          "scattermapbox": [
           {
            "marker": {
             "colorbar": {
              "outlinewidth": 0,
              "ticks": ""
             }
            },
            "type": "scattermapbox"
           }
          ],
          "scatterpolar": [
           {
            "marker": {
             "colorbar": {
              "outlinewidth": 0,
              "ticks": ""
             }
            },
            "type": "scatterpolar"
           }
          ],
          "scatterpolargl": [
           {
            "marker": {
             "colorbar": {
              "outlinewidth": 0,
              "ticks": ""
             }
            },
            "type": "scatterpolargl"
           }
          ],
          "scatterternary": [
           {
            "marker": {
             "colorbar": {
              "outlinewidth": 0,
              "ticks": ""
             }
            },
            "type": "scatterternary"
           }
          ],
          "surface": [
           {
            "colorbar": {
             "outlinewidth": 0,
             "ticks": ""
            },
            "colorscale": [
             [
              0,
              "#0d0887"
             ],
             [
              0.1111111111111111,
              "#46039f"
             ],
             [
              0.2222222222222222,
              "#7201a8"
             ],
             [
              0.3333333333333333,
              "#9c179e"
             ],
             [
              0.4444444444444444,
              "#bd3786"
             ],
             [
              0.5555555555555556,
              "#d8576b"
             ],
             [
              0.6666666666666666,
              "#ed7953"
             ],
             [
              0.7777777777777778,
              "#fb9f3a"
             ],
             [
              0.8888888888888888,
              "#fdca26"
             ],
             [
              1,
              "#f0f921"
             ]
            ],
            "type": "surface"
           }
          ],
          "table": [
           {
            "cells": {
             "fill": {
              "color": "#EBF0F8"
             },
             "line": {
              "color": "white"
             }
            },
            "header": {
             "fill": {
              "color": "#C8D4E3"
             },
             "line": {
              "color": "white"
             }
            },
            "type": "table"
           }
          ]
         },
         "layout": {
          "annotationdefaults": {
           "arrowcolor": "#2a3f5f",
           "arrowhead": 0,
           "arrowwidth": 1
          },
          "autotypenumbers": "strict",
          "coloraxis": {
           "colorbar": {
            "outlinewidth": 0,
            "ticks": ""
           }
          },
          "colorscale": {
           "diverging": [
            [
             0,
             "#8e0152"
            ],
            [
             0.1,
             "#c51b7d"
            ],
            [
             0.2,
             "#de77ae"
            ],
            [
             0.3,
             "#f1b6da"
            ],
            [
             0.4,
             "#fde0ef"
            ],
            [
             0.5,
             "#f7f7f7"
            ],
            [
             0.6,
             "#e6f5d0"
            ],
            [
             0.7,
             "#b8e186"
            ],
            [
             0.8,
             "#7fbc41"
            ],
            [
             0.9,
             "#4d9221"
            ],
            [
             1,
             "#276419"
            ]
           ],
           "sequential": [
            [
             0,
             "#0d0887"
            ],
            [
             0.1111111111111111,
             "#46039f"
            ],
            [
             0.2222222222222222,
             "#7201a8"
            ],
            [
             0.3333333333333333,
             "#9c179e"
            ],
            [
             0.4444444444444444,
             "#bd3786"
            ],
            [
             0.5555555555555556,
             "#d8576b"
            ],
            [
             0.6666666666666666,
             "#ed7953"
            ],
            [
             0.7777777777777778,
             "#fb9f3a"
            ],
            [
             0.8888888888888888,
             "#fdca26"
            ],
            [
             1,
             "#f0f921"
            ]
           ],
           "sequentialminus": [
            [
             0,
             "#0d0887"
            ],
            [
             0.1111111111111111,
             "#46039f"
            ],
            [
             0.2222222222222222,
             "#7201a8"
            ],
            [
             0.3333333333333333,
             "#9c179e"
            ],
            [
             0.4444444444444444,
             "#bd3786"
            ],
            [
             0.5555555555555556,
             "#d8576b"
            ],
            [
             0.6666666666666666,
             "#ed7953"
            ],
            [
             0.7777777777777778,
             "#fb9f3a"
            ],
            [
             0.8888888888888888,
             "#fdca26"
            ],
            [
             1,
             "#f0f921"
            ]
           ]
          },
          "colorway": [
           "#636efa",
           "#EF553B",
           "#00cc96",
           "#ab63fa",
           "#FFA15A",
           "#19d3f3",
           "#FF6692",
           "#B6E880",
           "#FF97FF",
           "#FECB52"
          ],
          "font": {
           "color": "#2a3f5f"
          },
          "geo": {
           "bgcolor": "white",
           "lakecolor": "white",
           "landcolor": "#E5ECF6",
           "showlakes": true,
           "showland": true,
           "subunitcolor": "white"
          },
          "hoverlabel": {
           "align": "left"
          },
          "hovermode": "closest",
          "mapbox": {
           "style": "light"
          },
          "paper_bgcolor": "white",
          "plot_bgcolor": "#E5ECF6",
          "polar": {
           "angularaxis": {
            "gridcolor": "white",
            "linecolor": "white",
            "ticks": ""
           },
           "bgcolor": "#E5ECF6",
           "radialaxis": {
            "gridcolor": "white",
            "linecolor": "white",
            "ticks": ""
           }
          },
          "scene": {
           "xaxis": {
            "backgroundcolor": "#E5ECF6",
            "gridcolor": "white",
            "gridwidth": 2,
            "linecolor": "white",
            "showbackground": true,
            "ticks": "",
            "zerolinecolor": "white"
           },
           "yaxis": {
            "backgroundcolor": "#E5ECF6",
            "gridcolor": "white",
            "gridwidth": 2,
            "linecolor": "white",
            "showbackground": true,
            "ticks": "",
            "zerolinecolor": "white"
           },
           "zaxis": {
            "backgroundcolor": "#E5ECF6",
            "gridcolor": "white",
            "gridwidth": 2,
            "linecolor": "white",
            "showbackground": true,
            "ticks": "",
            "zerolinecolor": "white"
           }
          },
          "shapedefaults": {
           "line": {
            "color": "#2a3f5f"
           }
          },
          "ternary": {
           "aaxis": {
            "gridcolor": "white",
            "linecolor": "white",
            "ticks": ""
           },
           "baxis": {
            "gridcolor": "white",
            "linecolor": "white",
            "ticks": ""
           },
           "bgcolor": "#E5ECF6",
           "caxis": {
            "gridcolor": "white",
            "linecolor": "white",
            "ticks": ""
           }
          },
          "title": {
           "x": 0.05
          },
          "xaxis": {
           "automargin": true,
           "gridcolor": "white",
           "linecolor": "white",
           "ticks": "",
           "title": {
            "standoff": 15
           },
           "zerolinecolor": "white",
           "zerolinewidth": 2
          },
          "yaxis": {
           "automargin": true,
           "gridcolor": "white",
           "linecolor": "white",
           "ticks": "",
           "title": {
            "standoff": 15
           },
           "zerolinecolor": "white",
           "zerolinewidth": 2
          }
         }
        },
        "title": {
         "text": "Global Median Salary by Job Title"
        },
        "xaxis": {
         "anchor": "y",
         "domain": [
          0,
          1
         ],
         "title": {
          "text": "Median Salary, EUR"
         }
        },
        "yaxis": {
         "anchor": "x",
         "domain": [
          0,
          1
         ],
         "title": {
          "text": ""
         }
        }
       }
      }
     },
     "metadata": {},
     "output_type": "display_data"
    }
   ],
   "source": [
    "median_salary = df_filtered.groupby('job_title_short')['salary_month_avg_eur'].median().sort_values()\n",
    "\n",
    "fig1 = px.bar(\n",
    "    median_salary,\n",
    "    x=median_salary.values,\n",
    "    y=median_salary.index,\n",
    "    orientation='h',\n",
    "    title='Global Median Salary by Job Title',\n",
    "    labels={'x': 'Median Salary, EUR', 'index': 'Job Title'},\n",
    "    color_discrete_sequence=['#5DADE2'],\n",
    "    text=median_salary.values\n",
    ")\n",
    "\n",
    "fig1.update_traces(\n",
    "    texttemplate='%{text:.0f}', \n",
    "    textposition='inside', \n",
    "    insidetextanchor='middle'\n",
    "    )\n",
    "\n",
    "fig1.update_layout(\n",
    "    showlegend=False,\n",
    "    yaxis_title=''\n",
    "    )\n",
    "fig1.show()"
   ]
  },
  {
   "cell_type": "markdown",
   "id": "48cf30e2",
   "metadata": {},
   "source": [
    "Despite being the most popular role in Europe, Data Analyst has the lowest median salary among the top-3 data roles, indicating high accessibility but limited earning potential in the long term. In contrast, Data Scientist and Data Engineer both offer significantly higher median salaries (nearly 40% more). \n",
    "\n",
    "For job seekers, starting as a Data Analyst offers a practical entry point, but upskilling toward Data Science — currently one of the highest-paid and fastest-growing roles globally — provides stronger long-term career and salary growth potential. "
   ]
  },
  {
   "cell_type": "markdown",
   "id": "b1bd2ff8",
   "metadata": {},
   "source": [
    "#### Focus on Europe: Filter for Top-3 Data Roles\n",
    "\n",
    "We now narrow our analysis to the most common data roles in the EU to assess salary distributions by role."
   ]
  },
  {
   "cell_type": "code",
   "execution_count": 16,
   "id": "bced3f9c",
   "metadata": {},
   "outputs": [],
   "source": [
    "top_roles = ['Data Analyst', 'Data Scientist', 'Data Engineer']\n",
    "\n",
    "df_eu_top = df_filtered[\n",
    "    (df_filtered['job_title_short'].isin(top_roles)) &\n",
    "    (df_filtered['region_group'] == 'EU')\n",
    "]"
   ]
  },
  {
   "cell_type": "markdown",
   "id": "4bba46e8",
   "metadata": {},
   "source": [
    "### Salary distributions for Top-3 Data Roles in Europe\n",
    "\n",
    "After identifying the most in-demand roles — Data Analyst, Data Scientist, and Data Engineer — we explore how these roles are compensated **within Europe**. This box plot shows distribution, median, and variability of salaries, helping assess earning potential and predictability."
   ]
  },
  {
   "cell_type": "code",
   "execution_count": 17,
   "id": "84d20767",
   "metadata": {},
   "outputs": [
    {
     "data": {
      "application/vnd.plotly.v1+json": {
       "config": {
        "plotlyServerURL": "https://plot.ly"
       },
       "data": [
        {
         "alignmentgroup": "True",
         "hovertemplate": "=%{x}<br>Monthly Salary (EUR)=%{y}<extra></extra>",
         "legendgroup": "",
         "line": {
          "color": "#5DADE2"
         },
         "marker": {
          "color": "#5DADE2"
         },
         "name": "",
         "notched": false,
         "offsetgroup": "",
         "orientation": "v",
         "showlegend": false,
         "type": "box",
         "x": [
          "Data Analyst",
          "Data Analyst",
          "Data Analyst",
          "Data Analyst",
          "Data Engineer",
          "Data Engineer",
          "Data Engineer",
          "Data Scientist",
          "Data Scientist",
          "Data Analyst",
          "Data Analyst",
          "Data Analyst",
          "Data Analyst",
          "Data Analyst",
          "Data Analyst",
          "Data Analyst",
          "Data Analyst",
          "Data Analyst",
          "Data Analyst",
          "Data Analyst",
          "Data Analyst",
          "Data Analyst",
          "Data Analyst",
          "Data Analyst",
          "Data Analyst",
          "Data Analyst",
          "Data Analyst",
          "Data Analyst",
          "Data Analyst",
          "Data Engineer",
          "Data Engineer",
          "Data Engineer",
          "Data Engineer",
          "Data Engineer",
          "Data Engineer",
          "Data Engineer",
          "Data Engineer",
          "Data Engineer",
          "Data Engineer",
          "Data Engineer",
          "Data Scientist",
          "Data Scientist",
          "Data Scientist",
          "Data Scientist",
          "Data Scientist",
          "Data Scientist",
          "Data Scientist",
          "Data Scientist",
          "Data Analyst",
          "Data Analyst",
          "Data Analyst",
          "Data Analyst",
          "Data Analyst",
          "Data Analyst",
          "Data Analyst",
          "Data Analyst",
          "Data Analyst",
          "Data Analyst",
          "Data Engineer",
          "Data Engineer",
          "Data Scientist",
          "Data Scientist",
          "Data Scientist",
          "Data Scientist",
          "Data Scientist",
          "Data Analyst",
          "Data Analyst",
          "Data Analyst",
          "Data Analyst",
          "Data Engineer",
          "Data Engineer",
          "Data Engineer",
          "Data Engineer",
          "Data Engineer",
          "Data Engineer",
          "Data Scientist",
          "Data Scientist",
          "Data Analyst",
          "Data Analyst",
          "Data Analyst",
          "Data Engineer",
          "Data Engineer",
          "Data Engineer",
          "Data Scientist",
          "Data Analyst",
          "Data Analyst",
          "Data Analyst",
          "Data Analyst",
          "Data Analyst",
          "Data Engineer",
          "Data Engineer",
          "Data Scientist",
          "Data Scientist",
          "Data Scientist",
          "Data Scientist",
          "Data Scientist",
          "Data Scientist",
          "Data Scientist",
          "Data Analyst",
          "Data Analyst",
          "Data Analyst",
          "Data Analyst",
          "Data Analyst",
          "Data Analyst",
          "Data Analyst",
          "Data Analyst",
          "Data Analyst",
          "Data Analyst",
          "Data Analyst",
          "Data Engineer",
          "Data Engineer",
          "Data Engineer",
          "Data Engineer",
          "Data Scientist",
          "Data Scientist",
          "Data Scientist",
          "Data Scientist",
          "Data Analyst",
          "Data Analyst",
          "Data Analyst",
          "Data Analyst",
          "Data Analyst",
          "Data Engineer",
          "Data Engineer",
          "Data Engineer",
          "Data Engineer",
          "Data Engineer",
          "Data Scientist",
          "Data Scientist",
          "Data Scientist",
          "Data Scientist",
          "Data Analyst",
          "Data Analyst",
          "Data Analyst",
          "Data Analyst",
          "Data Analyst",
          "Data Analyst",
          "Data Analyst",
          "Data Analyst",
          "Data Analyst",
          "Data Analyst",
          "Data Analyst",
          "Data Analyst",
          "Data Analyst",
          "Data Analyst",
          "Data Analyst",
          "Data Analyst",
          "Data Analyst",
          "Data Analyst",
          "Data Analyst",
          "Data Analyst",
          "Data Analyst",
          "Data Analyst",
          "Data Analyst",
          "Data Analyst",
          "Data Analyst",
          "Data Analyst",
          "Data Analyst",
          "Data Analyst",
          "Data Analyst",
          "Data Analyst",
          "Data Analyst",
          "Data Analyst",
          "Data Analyst",
          "Data Analyst",
          "Data Analyst",
          "Data Analyst",
          "Data Analyst",
          "Data Analyst",
          "Data Analyst",
          "Data Analyst",
          "Data Analyst",
          "Data Analyst",
          "Data Analyst",
          "Data Analyst",
          "Data Analyst",
          "Data Analyst",
          "Data Analyst",
          "Data Analyst",
          "Data Analyst",
          "Data Engineer",
          "Data Engineer",
          "Data Engineer",
          "Data Engineer",
          "Data Engineer",
          "Data Engineer",
          "Data Engineer",
          "Data Engineer",
          "Data Engineer",
          "Data Engineer",
          "Data Engineer",
          "Data Engineer",
          "Data Engineer",
          "Data Engineer",
          "Data Engineer",
          "Data Engineer",
          "Data Engineer",
          "Data Engineer",
          "Data Engineer",
          "Data Engineer",
          "Data Engineer",
          "Data Engineer",
          "Data Engineer",
          "Data Engineer",
          "Data Engineer",
          "Data Engineer",
          "Data Engineer",
          "Data Engineer",
          "Data Engineer",
          "Data Engineer",
          "Data Engineer",
          "Data Engineer",
          "Data Engineer",
          "Data Engineer",
          "Data Engineer",
          "Data Engineer",
          "Data Engineer",
          "Data Engineer",
          "Data Engineer",
          "Data Engineer",
          "Data Engineer",
          "Data Engineer",
          "Data Engineer",
          "Data Engineer",
          "Data Engineer",
          "Data Engineer",
          "Data Engineer",
          "Data Engineer",
          "Data Engineer",
          "Data Engineer",
          "Data Engineer",
          "Data Engineer",
          "Data Engineer",
          "Data Engineer",
          "Data Engineer",
          "Data Engineer",
          "Data Engineer",
          "Data Engineer",
          "Data Engineer",
          "Data Engineer",
          "Data Engineer",
          "Data Scientist",
          "Data Scientist",
          "Data Scientist",
          "Data Scientist",
          "Data Scientist",
          "Data Scientist",
          "Data Scientist",
          "Data Scientist",
          "Data Scientist",
          "Data Scientist",
          "Data Scientist",
          "Data Scientist",
          "Data Scientist",
          "Data Scientist",
          "Data Scientist",
          "Data Scientist",
          "Data Scientist",
          "Data Scientist",
          "Data Scientist",
          "Data Scientist",
          "Data Scientist",
          "Data Scientist",
          "Data Scientist",
          "Data Scientist",
          "Data Scientist",
          "Data Scientist",
          "Data Scientist",
          "Data Scientist",
          "Data Scientist",
          "Data Scientist",
          "Data Scientist",
          "Data Scientist",
          "Data Scientist",
          "Data Scientist",
          "Data Scientist",
          "Data Scientist",
          "Data Scientist",
          "Data Scientist",
          "Data Scientist",
          "Data Scientist",
          "Data Scientist",
          "Data Scientist",
          "Data Scientist",
          "Data Scientist",
          "Data Scientist",
          "Data Scientist",
          "Data Scientist",
          "Data Scientist",
          "Data Scientist",
          "Data Scientist",
          "Data Scientist",
          "Data Scientist",
          "Data Scientist",
          "Data Scientist",
          "Data Scientist",
          "Data Scientist",
          "Data Scientist",
          "Data Analyst",
          "Data Analyst",
          "Data Analyst",
          "Data Analyst",
          "Data Analyst",
          "Data Analyst",
          "Data Analyst",
          "Data Analyst",
          "Data Analyst",
          "Data Analyst",
          "Data Analyst",
          "Data Analyst",
          "Data Analyst",
          "Data Analyst",
          "Data Analyst",
          "Data Analyst",
          "Data Analyst",
          "Data Analyst",
          "Data Analyst",
          "Data Analyst",
          "Data Analyst",
          "Data Analyst",
          "Data Analyst",
          "Data Analyst",
          "Data Analyst",
          "Data Analyst",
          "Data Analyst",
          "Data Analyst",
          "Data Analyst",
          "Data Analyst",
          "Data Analyst",
          "Data Analyst",
          "Data Analyst",
          "Data Analyst",
          "Data Analyst",
          "Data Analyst",
          "Data Analyst",
          "Data Analyst",
          "Data Analyst",
          "Data Analyst",
          "Data Analyst",
          "Data Analyst",
          "Data Analyst",
          "Data Analyst",
          "Data Engineer",
          "Data Engineer",
          "Data Engineer",
          "Data Engineer",
          "Data Engineer",
          "Data Engineer",
          "Data Engineer",
          "Data Engineer",
          "Data Engineer",
          "Data Engineer",
          "Data Engineer",
          "Data Engineer",
          "Data Engineer",
          "Data Engineer",
          "Data Engineer",
          "Data Engineer",
          "Data Engineer",
          "Data Engineer",
          "Data Engineer",
          "Data Engineer",
          "Data Engineer",
          "Data Engineer",
          "Data Engineer",
          "Data Engineer",
          "Data Engineer",
          "Data Engineer",
          "Data Engineer",
          "Data Engineer",
          "Data Engineer",
          "Data Engineer",
          "Data Engineer",
          "Data Engineer",
          "Data Engineer",
          "Data Engineer",
          "Data Engineer",
          "Data Engineer",
          "Data Engineer",
          "Data Engineer",
          "Data Engineer",
          "Data Scientist",
          "Data Scientist",
          "Data Scientist",
          "Data Scientist",
          "Data Scientist",
          "Data Scientist",
          "Data Scientist",
          "Data Scientist",
          "Data Scientist",
          "Data Scientist",
          "Data Scientist",
          "Data Scientist",
          "Data Scientist",
          "Data Scientist",
          "Data Scientist",
          "Data Scientist",
          "Data Scientist",
          "Data Scientist",
          "Data Scientist",
          "Data Scientist",
          "Data Scientist",
          "Data Scientist",
          "Data Scientist",
          "Data Scientist",
          "Data Scientist",
          "Data Scientist",
          "Data Scientist",
          "Data Scientist",
          "Data Scientist",
          "Data Scientist",
          "Data Scientist",
          "Data Scientist",
          "Data Scientist",
          "Data Scientist",
          "Data Scientist",
          "Data Scientist",
          "Data Scientist",
          "Data Scientist",
          "Data Scientist",
          "Data Scientist",
          "Data Scientist",
          "Data Analyst",
          "Data Analyst",
          "Data Analyst",
          "Data Analyst",
          "Data Analyst",
          "Data Analyst",
          "Data Analyst",
          "Data Analyst",
          "Data Analyst",
          "Data Analyst",
          "Data Analyst",
          "Data Analyst",
          "Data Analyst",
          "Data Analyst",
          "Data Analyst",
          "Data Analyst",
          "Data Engineer",
          "Data Engineer",
          "Data Engineer",
          "Data Engineer",
          "Data Engineer",
          "Data Engineer",
          "Data Engineer",
          "Data Engineer",
          "Data Engineer",
          "Data Engineer",
          "Data Engineer",
          "Data Engineer",
          "Data Engineer",
          "Data Engineer",
          "Data Engineer",
          "Data Engineer",
          "Data Engineer",
          "Data Engineer",
          "Data Engineer",
          "Data Engineer",
          "Data Engineer",
          "Data Engineer",
          "Data Engineer",
          "Data Engineer",
          "Data Scientist",
          "Data Scientist",
          "Data Scientist",
          "Data Scientist",
          "Data Scientist",
          "Data Scientist",
          "Data Scientist",
          "Data Scientist",
          "Data Scientist",
          "Data Scientist",
          "Data Analyst",
          "Data Analyst",
          "Data Analyst",
          "Data Analyst",
          "Data Analyst",
          "Data Analyst",
          "Data Analyst",
          "Data Analyst",
          "Data Analyst",
          "Data Analyst",
          "Data Analyst",
          "Data Analyst",
          "Data Analyst",
          "Data Analyst",
          "Data Analyst",
          "Data Analyst",
          "Data Analyst",
          "Data Analyst",
          "Data Engineer",
          "Data Engineer",
          "Data Engineer",
          "Data Engineer",
          "Data Engineer",
          "Data Engineer",
          "Data Engineer",
          "Data Engineer",
          "Data Engineer",
          "Data Engineer",
          "Data Scientist",
          "Data Scientist",
          "Data Scientist",
          "Data Scientist",
          "Data Scientist",
          "Data Scientist",
          "Data Scientist",
          "Data Scientist",
          "Data Scientist",
          "Data Scientist",
          "Data Scientist",
          "Data Scientist",
          "Data Scientist",
          "Data Analyst",
          "Data Analyst",
          "Data Analyst",
          "Data Analyst",
          "Data Analyst",
          "Data Analyst",
          "Data Analyst",
          "Data Analyst",
          "Data Analyst",
          "Data Analyst",
          "Data Analyst",
          "Data Analyst",
          "Data Analyst",
          "Data Analyst",
          "Data Analyst",
          "Data Analyst",
          "Data Engineer",
          "Data Engineer",
          "Data Engineer",
          "Data Engineer",
          "Data Engineer",
          "Data Engineer",
          "Data Engineer",
          "Data Engineer",
          "Data Engineer",
          "Data Scientist",
          "Data Scientist",
          "Data Scientist",
          "Data Scientist",
          "Data Scientist",
          "Data Scientist",
          "Data Analyst",
          "Data Analyst",
          "Data Analyst",
          "Data Analyst",
          "Data Analyst",
          "Data Analyst",
          "Data Analyst",
          "Data Analyst",
          "Data Analyst",
          "Data Analyst",
          "Data Analyst",
          "Data Engineer",
          "Data Engineer",
          "Data Engineer",
          "Data Engineer",
          "Data Engineer",
          "Data Engineer",
          "Data Engineer",
          "Data Engineer",
          "Data Engineer",
          "Data Engineer",
          "Data Engineer",
          "Data Engineer",
          "Data Scientist",
          "Data Scientist",
          "Data Scientist",
          "Data Scientist",
          "Data Scientist",
          "Data Scientist",
          "Data Scientist",
          "Data Scientist",
          "Data Scientist",
          "Data Scientist",
          "Data Scientist",
          "Data Scientist",
          "Data Analyst",
          "Data Engineer",
          "Data Engineer",
          "Data Engineer",
          "Data Analyst",
          "Data Analyst",
          "Data Analyst",
          "Data Analyst",
          "Data Engineer",
          "Data Engineer",
          "Data Scientist",
          "Data Scientist",
          "Data Analyst",
          "Data Analyst",
          "Data Analyst",
          "Data Engineer",
          "Data Engineer",
          "Data Engineer",
          "Data Scientist",
          "Data Scientist",
          "Data Scientist",
          "Data Analyst",
          "Data Analyst",
          "Data Analyst",
          "Data Analyst",
          "Data Analyst",
          "Data Engineer",
          "Data Analyst",
          "Data Analyst",
          "Data Analyst",
          "Data Analyst",
          "Data Analyst",
          "Data Analyst",
          "Data Analyst",
          "Data Analyst",
          "Data Analyst",
          "Data Analyst",
          "Data Analyst",
          "Data Analyst",
          "Data Analyst",
          "Data Analyst",
          "Data Analyst",
          "Data Analyst",
          "Data Analyst",
          "Data Analyst",
          "Data Analyst",
          "Data Engineer",
          "Data Engineer",
          "Data Engineer",
          "Data Engineer",
          "Data Engineer",
          "Data Engineer",
          "Data Engineer",
          "Data Engineer",
          "Data Engineer",
          "Data Engineer",
          "Data Engineer",
          "Data Engineer",
          "Data Engineer",
          "Data Engineer",
          "Data Engineer",
          "Data Engineer",
          "Data Engineer",
          "Data Engineer",
          "Data Scientist",
          "Data Scientist",
          "Data Scientist",
          "Data Scientist",
          "Data Scientist",
          "Data Scientist",
          "Data Scientist",
          "Data Scientist",
          "Data Scientist",
          "Data Scientist",
          "Data Scientist",
          "Data Scientist",
          "Data Scientist",
          "Data Scientist",
          "Data Scientist",
          "Data Scientist",
          "Data Scientist",
          "Data Analyst",
          "Data Analyst",
          "Data Analyst",
          "Data Analyst",
          "Data Analyst",
          "Data Analyst",
          "Data Analyst",
          "Data Analyst",
          "Data Analyst",
          "Data Analyst",
          "Data Analyst",
          "Data Analyst",
          "Data Analyst",
          "Data Analyst",
          "Data Analyst",
          "Data Analyst",
          "Data Analyst",
          "Data Analyst",
          "Data Analyst",
          "Data Analyst",
          "Data Analyst",
          "Data Analyst",
          "Data Analyst",
          "Data Analyst",
          "Data Analyst",
          "Data Analyst",
          "Data Analyst",
          "Data Analyst",
          "Data Analyst",
          "Data Analyst",
          "Data Analyst",
          "Data Analyst",
          "Data Analyst",
          "Data Analyst",
          "Data Analyst",
          "Data Analyst",
          "Data Analyst",
          "Data Analyst",
          "Data Analyst",
          "Data Analyst",
          "Data Analyst",
          "Data Analyst",
          "Data Analyst",
          "Data Engineer",
          "Data Engineer",
          "Data Engineer",
          "Data Engineer",
          "Data Engineer",
          "Data Engineer",
          "Data Engineer",
          "Data Engineer",
          "Data Engineer",
          "Data Engineer",
          "Data Engineer",
          "Data Engineer",
          "Data Engineer",
          "Data Engineer",
          "Data Engineer",
          "Data Engineer",
          "Data Engineer",
          "Data Engineer",
          "Data Engineer",
          "Data Engineer",
          "Data Engineer",
          "Data Engineer",
          "Data Engineer",
          "Data Engineer",
          "Data Engineer",
          "Data Engineer",
          "Data Engineer",
          "Data Engineer",
          "Data Engineer",
          "Data Engineer",
          "Data Engineer",
          "Data Engineer",
          "Data Engineer",
          "Data Engineer",
          "Data Engineer",
          "Data Engineer",
          "Data Engineer",
          "Data Engineer",
          "Data Engineer",
          "Data Engineer",
          "Data Engineer",
          "Data Engineer",
          "Data Engineer",
          "Data Engineer",
          "Data Engineer",
          "Data Engineer",
          "Data Scientist",
          "Data Scientist",
          "Data Scientist",
          "Data Scientist",
          "Data Scientist",
          "Data Scientist",
          "Data Scientist",
          "Data Scientist",
          "Data Scientist",
          "Data Scientist",
          "Data Scientist",
          "Data Scientist",
          "Data Scientist",
          "Data Scientist",
          "Data Scientist",
          "Data Scientist",
          "Data Scientist",
          "Data Scientist",
          "Data Scientist",
          "Data Scientist",
          "Data Scientist",
          "Data Scientist",
          "Data Scientist",
          "Data Scientist",
          "Data Scientist",
          "Data Scientist",
          "Data Scientist",
          "Data Scientist",
          "Data Scientist",
          "Data Analyst",
          "Data Analyst",
          "Data Analyst",
          "Data Analyst",
          "Data Analyst",
          "Data Analyst",
          "Data Analyst",
          "Data Analyst",
          "Data Analyst",
          "Data Analyst",
          "Data Analyst",
          "Data Analyst",
          "Data Analyst",
          "Data Analyst",
          "Data Analyst",
          "Data Analyst",
          "Data Analyst",
          "Data Analyst",
          "Data Analyst",
          "Data Analyst",
          "Data Analyst",
          "Data Analyst",
          "Data Analyst",
          "Data Analyst",
          "Data Analyst",
          "Data Analyst",
          "Data Analyst",
          "Data Analyst",
          "Data Analyst",
          "Data Analyst",
          "Data Analyst",
          "Data Analyst",
          "Data Analyst",
          "Data Analyst",
          "Data Analyst",
          "Data Analyst",
          "Data Analyst",
          "Data Engineer",
          "Data Engineer",
          "Data Engineer",
          "Data Engineer",
          "Data Engineer",
          "Data Engineer",
          "Data Engineer",
          "Data Engineer",
          "Data Engineer",
          "Data Engineer",
          "Data Engineer",
          "Data Engineer",
          "Data Engineer",
          "Data Engineer",
          "Data Engineer",
          "Data Engineer",
          "Data Engineer",
          "Data Engineer",
          "Data Engineer",
          "Data Engineer",
          "Data Engineer",
          "Data Engineer",
          "Data Engineer",
          "Data Engineer",
          "Data Engineer",
          "Data Engineer",
          "Data Engineer",
          "Data Engineer",
          "Data Engineer",
          "Data Engineer",
          "Data Scientist",
          "Data Scientist",
          "Data Scientist",
          "Data Scientist",
          "Data Scientist",
          "Data Scientist",
          "Data Scientist",
          "Data Scientist",
          "Data Scientist",
          "Data Scientist",
          "Data Scientist",
          "Data Scientist",
          "Data Scientist",
          "Data Scientist",
          "Data Scientist",
          "Data Scientist",
          "Data Scientist",
          "Data Scientist",
          "Data Scientist",
          "Data Scientist",
          "Data Scientist",
          "Data Scientist",
          "Data Analyst",
          "Data Analyst",
          "Data Analyst",
          "Data Analyst",
          "Data Analyst",
          "Data Analyst",
          "Data Analyst",
          "Data Analyst",
          "Data Analyst",
          "Data Analyst",
          "Data Analyst",
          "Data Analyst",
          "Data Engineer",
          "Data Engineer",
          "Data Engineer",
          "Data Engineer",
          "Data Engineer",
          "Data Scientist",
          "Data Scientist",
          "Data Scientist",
          "Data Scientist",
          "Data Scientist",
          "Data Scientist",
          "Data Scientist",
          "Data Engineer",
          "Data Engineer",
          "Data Engineer",
          "Data Scientist",
          "Data Scientist",
          "Data Scientist",
          "Data Scientist",
          "Data Engineer",
          "Data Engineer",
          "Data Analyst",
          "Data Analyst",
          "Data Analyst",
          "Data Analyst",
          "Data Analyst",
          "Data Analyst",
          "Data Analyst",
          "Data Analyst",
          "Data Analyst",
          "Data Analyst",
          "Data Analyst",
          "Data Analyst",
          "Data Analyst",
          "Data Analyst",
          "Data Analyst",
          "Data Analyst",
          "Data Analyst",
          "Data Analyst",
          "Data Analyst",
          "Data Analyst",
          "Data Analyst",
          "Data Analyst",
          "Data Analyst",
          "Data Analyst",
          "Data Analyst",
          "Data Analyst",
          "Data Analyst",
          "Data Analyst",
          "Data Analyst",
          "Data Analyst",
          "Data Engineer",
          "Data Engineer",
          "Data Engineer",
          "Data Engineer",
          "Data Engineer",
          "Data Engineer",
          "Data Engineer",
          "Data Engineer",
          "Data Engineer",
          "Data Engineer",
          "Data Engineer",
          "Data Engineer",
          "Data Engineer",
          "Data Engineer",
          "Data Engineer",
          "Data Engineer",
          "Data Engineer",
          "Data Engineer",
          "Data Engineer",
          "Data Engineer",
          "Data Engineer",
          "Data Engineer",
          "Data Engineer",
          "Data Engineer",
          "Data Engineer",
          "Data Engineer",
          "Data Engineer",
          "Data Engineer",
          "Data Engineer",
          "Data Engineer",
          "Data Engineer",
          "Data Engineer",
          "Data Engineer",
          "Data Engineer",
          "Data Engineer",
          "Data Scientist",
          "Data Scientist",
          "Data Scientist",
          "Data Scientist",
          "Data Scientist",
          "Data Scientist",
          "Data Scientist",
          "Data Scientist",
          "Data Scientist",
          "Data Scientist",
          "Data Scientist",
          "Data Scientist",
          "Data Scientist",
          "Data Scientist",
          "Data Scientist",
          "Data Scientist",
          "Data Scientist",
          "Data Analyst",
          "Data Analyst",
          "Data Analyst",
          "Data Analyst",
          "Data Analyst",
          "Data Analyst",
          "Data Analyst",
          "Data Analyst",
          "Data Engineer",
          "Data Engineer",
          "Data Engineer",
          "Data Engineer",
          "Data Engineer",
          "Data Engineer",
          "Data Engineer",
          "Data Scientist",
          "Data Scientist",
          "Data Scientist",
          "Data Scientist",
          "Data Scientist",
          "Data Scientist",
          "Data Scientist"
         ],
         "x0": " ",
         "xaxis": "x",
         "y": {
          "bdata": "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",
          "dtype": "f8"
         },
         "y0": " ",
         "yaxis": "y"
        }
       ],
       "layout": {
        "annotations": [
         {
          "font": {
           "size": 12
          },
          "showarrow": false,
          "text": "Median: €6,305",
          "x": "Data Analyst",
          "y": 6305,
          "yshift": 10
         },
         {
          "font": {
           "size": 12
          },
          "showarrow": false,
          "text": "Median: €7,411",
          "x": "Data Engineer",
          "y": 7411,
          "yshift": 10
         },
         {
          "font": {
           "size": 12
          },
          "showarrow": false,
          "text": "Median: €7,476",
          "x": "Data Scientist",
          "y": 7476,
          "yshift": 10
         }
        ],
        "boxmode": "group",
        "legend": {
         "tracegroupgap": 0
        },
        "showlegend": false,
        "template": {
         "data": {
          "bar": [
           {
            "error_x": {
             "color": "#2a3f5f"
            },
            "error_y": {
             "color": "#2a3f5f"
            },
            "marker": {
             "line": {
              "color": "#E5ECF6",
              "width": 0.5
             },
             "pattern": {
              "fillmode": "overlay",
              "size": 10,
              "solidity": 0.2
             }
            },
            "type": "bar"
           }
          ],
          "barpolar": [
           {
            "marker": {
             "line": {
              "color": "#E5ECF6",
              "width": 0.5
             },
             "pattern": {
              "fillmode": "overlay",
              "size": 10,
              "solidity": 0.2
             }
            },
            "type": "barpolar"
           }
          ],
          "carpet": [
           {
            "aaxis": {
             "endlinecolor": "#2a3f5f",
             "gridcolor": "white",
             "linecolor": "white",
             "minorgridcolor": "white",
             "startlinecolor": "#2a3f5f"
            },
            "baxis": {
             "endlinecolor": "#2a3f5f",
             "gridcolor": "white",
             "linecolor": "white",
             "minorgridcolor": "white",
             "startlinecolor": "#2a3f5f"
            },
            "type": "carpet"
           }
          ],
          "choropleth": [
           {
            "colorbar": {
             "outlinewidth": 0,
             "ticks": ""
            },
            "type": "choropleth"
           }
          ],
          "contour": [
           {
            "colorbar": {
             "outlinewidth": 0,
             "ticks": ""
            },
            "colorscale": [
             [
              0,
              "#0d0887"
             ],
             [
              0.1111111111111111,
              "#46039f"
             ],
             [
              0.2222222222222222,
              "#7201a8"
             ],
             [
              0.3333333333333333,
              "#9c179e"
             ],
             [
              0.4444444444444444,
              "#bd3786"
             ],
             [
              0.5555555555555556,
              "#d8576b"
             ],
             [
              0.6666666666666666,
              "#ed7953"
             ],
             [
              0.7777777777777778,
              "#fb9f3a"
             ],
             [
              0.8888888888888888,
              "#fdca26"
             ],
             [
              1,
              "#f0f921"
             ]
            ],
            "type": "contour"
           }
          ],
          "contourcarpet": [
           {
            "colorbar": {
             "outlinewidth": 0,
             "ticks": ""
            },
            "type": "contourcarpet"
           }
          ],
          "heatmap": [
           {
            "colorbar": {
             "outlinewidth": 0,
             "ticks": ""
            },
            "colorscale": [
             [
              0,
              "#0d0887"
             ],
             [
              0.1111111111111111,
              "#46039f"
             ],
             [
              0.2222222222222222,
              "#7201a8"
             ],
             [
              0.3333333333333333,
              "#9c179e"
             ],
             [
              0.4444444444444444,
              "#bd3786"
             ],
             [
              0.5555555555555556,
              "#d8576b"
             ],
             [
              0.6666666666666666,
              "#ed7953"
             ],
             [
              0.7777777777777778,
              "#fb9f3a"
             ],
             [
              0.8888888888888888,
              "#fdca26"
             ],
             [
              1,
              "#f0f921"
             ]
            ],
            "type": "heatmap"
           }
          ],
          "histogram": [
           {
            "marker": {
             "pattern": {
              "fillmode": "overlay",
              "size": 10,
              "solidity": 0.2
             }
            },
            "type": "histogram"
           }
          ],
          "histogram2d": [
           {
            "colorbar": {
             "outlinewidth": 0,
             "ticks": ""
            },
            "colorscale": [
             [
              0,
              "#0d0887"
             ],
             [
              0.1111111111111111,
              "#46039f"
             ],
             [
              0.2222222222222222,
              "#7201a8"
             ],
             [
              0.3333333333333333,
              "#9c179e"
             ],
             [
              0.4444444444444444,
              "#bd3786"
             ],
             [
              0.5555555555555556,
              "#d8576b"
             ],
             [
              0.6666666666666666,
              "#ed7953"
             ],
             [
              0.7777777777777778,
              "#fb9f3a"
             ],
             [
              0.8888888888888888,
              "#fdca26"
             ],
             [
              1,
              "#f0f921"
             ]
            ],
            "type": "histogram2d"
           }
          ],
          "histogram2dcontour": [
           {
            "colorbar": {
             "outlinewidth": 0,
             "ticks": ""
            },
            "colorscale": [
             [
              0,
              "#0d0887"
             ],
             [
              0.1111111111111111,
              "#46039f"
             ],
             [
              0.2222222222222222,
              "#7201a8"
             ],
             [
              0.3333333333333333,
              "#9c179e"
             ],
             [
              0.4444444444444444,
              "#bd3786"
             ],
             [
              0.5555555555555556,
              "#d8576b"
             ],
             [
              0.6666666666666666,
              "#ed7953"
             ],
             [
              0.7777777777777778,
              "#fb9f3a"
             ],
             [
              0.8888888888888888,
              "#fdca26"
             ],
             [
              1,
              "#f0f921"
             ]
            ],
            "type": "histogram2dcontour"
           }
          ],
          "mesh3d": [
           {
            "colorbar": {
             "outlinewidth": 0,
             "ticks": ""
            },
            "type": "mesh3d"
           }
          ],
          "parcoords": [
           {
            "line": {
             "colorbar": {
              "outlinewidth": 0,
              "ticks": ""
             }
            },
            "type": "parcoords"
           }
          ],
          "pie": [
           {
            "automargin": true,
            "type": "pie"
           }
          ],
          "scatter": [
           {
            "fillpattern": {
             "fillmode": "overlay",
             "size": 10,
             "solidity": 0.2
            },
            "type": "scatter"
           }
          ],
          "scatter3d": [
           {
            "line": {
             "colorbar": {
              "outlinewidth": 0,
              "ticks": ""
             }
            },
            "marker": {
             "colorbar": {
              "outlinewidth": 0,
              "ticks": ""
             }
            },
            "type": "scatter3d"
           }
          ],
          "scattercarpet": [
           {
            "marker": {
             "colorbar": {
              "outlinewidth": 0,
              "ticks": ""
             }
            },
            "type": "scattercarpet"
           }
          ],
          "scattergeo": [
           {
            "marker": {
             "colorbar": {
              "outlinewidth": 0,
              "ticks": ""
             }
            },
            "type": "scattergeo"
           }
          ],
          "scattergl": [
           {
            "marker": {
             "colorbar": {
              "outlinewidth": 0,
              "ticks": ""
             }
            },
            "type": "scattergl"
           }
          ],
          "scattermap": [
           {
            "marker": {
             "colorbar": {
              "outlinewidth": 0,
              "ticks": ""
             }
            },
            "type": "scattermap"
           }
          ],
          "scattermapbox": [
           {
            "marker": {
             "colorbar": {
              "outlinewidth": 0,
              "ticks": ""
             }
            },
            "type": "scattermapbox"
           }
          ],
          "scatterpolar": [
           {
            "marker": {
             "colorbar": {
              "outlinewidth": 0,
              "ticks": ""
             }
            },
            "type": "scatterpolar"
           }
          ],
          "scatterpolargl": [
           {
            "marker": {
             "colorbar": {
              "outlinewidth": 0,
              "ticks": ""
             }
            },
            "type": "scatterpolargl"
           }
          ],
          "scatterternary": [
           {
            "marker": {
             "colorbar": {
              "outlinewidth": 0,
              "ticks": ""
             }
            },
            "type": "scatterternary"
           }
          ],
          "surface": [
           {
            "colorbar": {
             "outlinewidth": 0,
             "ticks": ""
            },
            "colorscale": [
             [
              0,
              "#0d0887"
             ],
             [
              0.1111111111111111,
              "#46039f"
             ],
             [
              0.2222222222222222,
              "#7201a8"
             ],
             [
              0.3333333333333333,
              "#9c179e"
             ],
             [
              0.4444444444444444,
              "#bd3786"
             ],
             [
              0.5555555555555556,
              "#d8576b"
             ],
             [
              0.6666666666666666,
              "#ed7953"
             ],
             [
              0.7777777777777778,
              "#fb9f3a"
             ],
             [
              0.8888888888888888,
              "#fdca26"
             ],
             [
              1,
              "#f0f921"
             ]
            ],
            "type": "surface"
           }
          ],
          "table": [
           {
            "cells": {
             "fill": {
              "color": "#EBF0F8"
             },
             "line": {
              "color": "white"
             }
            },
            "header": {
             "fill": {
              "color": "#C8D4E3"
             },
             "line": {
              "color": "white"
             }
            },
            "type": "table"
           }
          ]
         },
         "layout": {
          "annotationdefaults": {
           "arrowcolor": "#2a3f5f",
           "arrowhead": 0,
           "arrowwidth": 1
          },
          "autotypenumbers": "strict",
          "coloraxis": {
           "colorbar": {
            "outlinewidth": 0,
            "ticks": ""
           }
          },
          "colorscale": {
           "diverging": [
            [
             0,
             "#8e0152"
            ],
            [
             0.1,
             "#c51b7d"
            ],
            [
             0.2,
             "#de77ae"
            ],
            [
             0.3,
             "#f1b6da"
            ],
            [
             0.4,
             "#fde0ef"
            ],
            [
             0.5,
             "#f7f7f7"
            ],
            [
             0.6,
             "#e6f5d0"
            ],
            [
             0.7,
             "#b8e186"
            ],
            [
             0.8,
             "#7fbc41"
            ],
            [
             0.9,
             "#4d9221"
            ],
            [
             1,
             "#276419"
            ]
           ],
           "sequential": [
            [
             0,
             "#0d0887"
            ],
            [
             0.1111111111111111,
             "#46039f"
            ],
            [
             0.2222222222222222,
             "#7201a8"
            ],
            [
             0.3333333333333333,
             "#9c179e"
            ],
            [
             0.4444444444444444,
             "#bd3786"
            ],
            [
             0.5555555555555556,
             "#d8576b"
            ],
            [
             0.6666666666666666,
             "#ed7953"
            ],
            [
             0.7777777777777778,
             "#fb9f3a"
            ],
            [
             0.8888888888888888,
             "#fdca26"
            ],
            [
             1,
             "#f0f921"
            ]
           ],
           "sequentialminus": [
            [
             0,
             "#0d0887"
            ],
            [
             0.1111111111111111,
             "#46039f"
            ],
            [
             0.2222222222222222,
             "#7201a8"
            ],
            [
             0.3333333333333333,
             "#9c179e"
            ],
            [
             0.4444444444444444,
             "#bd3786"
            ],
            [
             0.5555555555555556,
             "#d8576b"
            ],
            [
             0.6666666666666666,
             "#ed7953"
            ],
            [
             0.7777777777777778,
             "#fb9f3a"
            ],
            [
             0.8888888888888888,
             "#fdca26"
            ],
            [
             1,
             "#f0f921"
            ]
           ]
          },
          "colorway": [
           "#636efa",
           "#EF553B",
           "#00cc96",
           "#ab63fa",
           "#FFA15A",
           "#19d3f3",
           "#FF6692",
           "#B6E880",
           "#FF97FF",
           "#FECB52"
          ],
          "font": {
           "color": "#2a3f5f"
          },
          "geo": {
           "bgcolor": "white",
           "lakecolor": "white",
           "landcolor": "#E5ECF6",
           "showlakes": true,
           "showland": true,
           "subunitcolor": "white"
          },
          "hoverlabel": {
           "align": "left"
          },
          "hovermode": "closest",
          "mapbox": {
           "style": "light"
          },
          "paper_bgcolor": "white",
          "plot_bgcolor": "#E5ECF6",
          "polar": {
           "angularaxis": {
            "gridcolor": "white",
            "linecolor": "white",
            "ticks": ""
           },
           "bgcolor": "#E5ECF6",
           "radialaxis": {
            "gridcolor": "white",
            "linecolor": "white",
            "ticks": ""
           }
          },
          "scene": {
           "xaxis": {
            "backgroundcolor": "#E5ECF6",
            "gridcolor": "white",
            "gridwidth": 2,
            "linecolor": "white",
            "showbackground": true,
            "ticks": "",
            "zerolinecolor": "white"
           },
           "yaxis": {
            "backgroundcolor": "#E5ECF6",
            "gridcolor": "white",
            "gridwidth": 2,
            "linecolor": "white",
            "showbackground": true,
            "ticks": "",
            "zerolinecolor": "white"
           },
           "zaxis": {
            "backgroundcolor": "#E5ECF6",
            "gridcolor": "white",
            "gridwidth": 2,
            "linecolor": "white",
            "showbackground": true,
            "ticks": "",
            "zerolinecolor": "white"
           }
          },
          "shapedefaults": {
           "line": {
            "color": "#2a3f5f"
           }
          },
          "ternary": {
           "aaxis": {
            "gridcolor": "white",
            "linecolor": "white",
            "ticks": ""
           },
           "baxis": {
            "gridcolor": "white",
            "linecolor": "white",
            "ticks": ""
           },
           "bgcolor": "#E5ECF6",
           "caxis": {
            "gridcolor": "white",
            "linecolor": "white",
            "ticks": ""
           }
          },
          "title": {
           "x": 0.05
          },
          "xaxis": {
           "automargin": true,
           "gridcolor": "white",
           "linecolor": "white",
           "ticks": "",
           "title": {
            "standoff": 15
           },
           "zerolinecolor": "white",
           "zerolinewidth": 2
          },
          "yaxis": {
           "automargin": true,
           "gridcolor": "white",
           "linecolor": "white",
           "ticks": "",
           "title": {
            "standoff": 15
           },
           "zerolinecolor": "white",
           "zerolinewidth": 2
          }
         }
        },
        "title": {
         "text": "Salary Distribution for Top-3 Data Roles in Europe"
        },
        "xaxis": {
         "anchor": "y",
         "domain": [
          0,
          1
         ],
         "title": {
          "text": ""
         }
        },
        "yaxis": {
         "anchor": "x",
         "domain": [
          0,
          1
         ],
         "title": {
          "text": "Monthly Salary (EUR)"
         }
        }
       }
      }
     },
     "metadata": {},
     "output_type": "display_data"
    }
   ],
   "source": [
    "fig2 = px.box(\n",
    "    df_eu_top,\n",
    "    x='job_title_short',\n",
    "    y='salary_month_avg_eur',\n",
    "    title='Salary Distribution for Top-3 Data Roles in Europe',\n",
    "    labels={\n",
    "        'salary_month_avg_eur': 'Monthly Salary (EUR)',\n",
    "        'job_title_short': ''\n",
    "    }\n",
    ")\n",
    "\n",
    "fig2.update_traces(marker_color='#5DADE2', line_color='#5DADE2')\n",
    "\n",
    "# Add median labels\n",
    "medians = df_eu_top.groupby('job_title_short')['salary_month_avg_eur'].median().round(0)\n",
    "for job, med in medians.items():\n",
    "    fig2.add_annotation(\n",
    "        x=job,\n",
    "        y=med,\n",
    "        text=f\"Median: €{med:,.0f}\",\n",
    "        showarrow=False,\n",
    "        font=dict(size=12),\n",
    "        yshift=10\n",
    "    )\n",
    "\n",
    "fig2.update_layout(showlegend=False)\n",
    "fig2.show()"
   ]
  },
  {
   "cell_type": "markdown",
   "id": "9b73399d",
   "metadata": {},
   "source": [
    "**Data Scientists** and **Data Engineers** in Europe earn noticeably more than **Data Analysts**, reinforcing the global trend of higher compensation for more specialized roles. However, **Data Analyst** salaries have a narrow, predictable distribution, making them attractive for entry-level professionals seeking **stability and lower risk**. In contrast, the broader and skewed distributions for **Data Scientist** and **Data Engineer** roles indicate greater variability but also higher earning potential."
   ]
  },
  {
   "cell_type": "markdown",
   "id": "c9a71a9e",
   "metadata": {},
   "source": [
    "### Salary gap for top-3 data roles between Europe and the United States"
   ]
  },
  {
   "cell_type": "markdown",
   "id": "71faf30d",
   "metadata": {},
   "source": [
    "The United States often leads in adopting new technologies and pays a premium for advanced data skills. By comparing median salaries between Europe and the United States for the same roles, we highlight potential for salary growth in Europe."
   ]
  },
  {
   "cell_type": "code",
   "execution_count": 18,
   "id": "dff5df2f",
   "metadata": {},
   "outputs": [
    {
     "data": {
      "application/vnd.plotly.v1+json": {
       "config": {
        "plotlyServerURL": "https://plot.ly"
       },
       "data": [
        {
         "insidetextanchor": "middle",
         "marker": {
          "color": "#aec7e8"
         },
         "name": "US",
         "text": {
          "bdata": "AAAAAADguEAAAAAAgEbBQAAAAAAAn8FA",
          "dtype": "f8"
         },
         "textposition": "inside",
         "type": "bar",
         "width": 0.35,
         "x": [
          "Data Analyst",
          "Data Engineer",
          "Data Scientist"
         ],
         "y": {
          "bdata": "AAAAAEDguEDsUbgeZUbBQB+F61HYnsFA",
          "dtype": "f8"
         }
        },
        {
         "insidetextanchor": "middle",
         "marker": {
          "color": "#1f77b4"
         },
         "name": "EU",
         "text": {
          "bdata": "AAAAAAChuEAAAAAAAPO8QAAAAAAANL1A",
          "dtype": "f8"
         },
         "textposition": "inside",
         "type": "bar",
         "width": 0.35,
         "x": [
          "Data Analyst",
          "Data Engineer",
          "Data Scientist"
         ],
         "y": {
          "bdata": "uB6F65GguEAUrkfhGvO8QIXrUbieM71A",
          "dtype": "f8"
         }
        }
       ],
       "layout": {
        "annotations": [
         {
          "arrowcolor": "gray",
          "arrowhead": 2,
          "arrowwidth": 2.5,
          "ax": 0,
          "ay": -40,
          "font": {
           "color": "black",
           "size": 12
          },
          "showarrow": true,
          "standoff": 6,
          "text": "1.0%",
          "x": "Data Analyst",
          "y": 7168.25
         },
         {
          "arrowcolor": "gray",
          "arrowhead": 2,
          "arrowwidth": 2.5,
          "ax": 0,
          "ay": -40,
          "font": {
           "color": "black",
           "size": 12
          },
          "showarrow": true,
          "standoff": 6,
          "text": "19.3%",
          "x": "Data Engineer",
          "y": 9644.79
         },
         {
          "arrowcolor": "gray",
          "arrowhead": 2,
          "arrowwidth": 2.5,
          "ax": 0,
          "ay": -40,
          "font": {
           "color": "black",
           "size": 12
          },
          "showarrow": true,
          "standoff": 6,
          "text": "20.7%",
          "x": "Data Scientist",
          "y": 9821.69
         }
        ],
        "bargap": 0.1,
        "barmode": "group",
        "height": 500,
        "legend": {
         "title": {
          "text": "Region"
         }
        },
        "margin": {
         "t": 80
        },
        "template": {
         "data": {
          "bar": [
           {
            "error_x": {
             "color": "#2a3f5f"
            },
            "error_y": {
             "color": "#2a3f5f"
            },
            "marker": {
             "line": {
              "color": "#E5ECF6",
              "width": 0.5
             },
             "pattern": {
              "fillmode": "overlay",
              "size": 10,
              "solidity": 0.2
             }
            },
            "type": "bar"
           }
          ],
          "barpolar": [
           {
            "marker": {
             "line": {
              "color": "#E5ECF6",
              "width": 0.5
             },
             "pattern": {
              "fillmode": "overlay",
              "size": 10,
              "solidity": 0.2
             }
            },
            "type": "barpolar"
           }
          ],
          "carpet": [
           {
            "aaxis": {
             "endlinecolor": "#2a3f5f",
             "gridcolor": "white",
             "linecolor": "white",
             "minorgridcolor": "white",
             "startlinecolor": "#2a3f5f"
            },
            "baxis": {
             "endlinecolor": "#2a3f5f",
             "gridcolor": "white",
             "linecolor": "white",
             "minorgridcolor": "white",
             "startlinecolor": "#2a3f5f"
            },
            "type": "carpet"
           }
          ],
          "choropleth": [
           {
            "colorbar": {
             "outlinewidth": 0,
             "ticks": ""
            },
            "type": "choropleth"
           }
          ],
          "contour": [
           {
            "colorbar": {
             "outlinewidth": 0,
             "ticks": ""
            },
            "colorscale": [
             [
              0,
              "#0d0887"
             ],
             [
              0.1111111111111111,
              "#46039f"
             ],
             [
              0.2222222222222222,
              "#7201a8"
             ],
             [
              0.3333333333333333,
              "#9c179e"
             ],
             [
              0.4444444444444444,
              "#bd3786"
             ],
             [
              0.5555555555555556,
              "#d8576b"
             ],
             [
              0.6666666666666666,
              "#ed7953"
             ],
             [
              0.7777777777777778,
              "#fb9f3a"
             ],
             [
              0.8888888888888888,
              "#fdca26"
             ],
             [
              1,
              "#f0f921"
             ]
            ],
            "type": "contour"
           }
          ],
          "contourcarpet": [
           {
            "colorbar": {
             "outlinewidth": 0,
             "ticks": ""
            },
            "type": "contourcarpet"
           }
          ],
          "heatmap": [
           {
            "colorbar": {
             "outlinewidth": 0,
             "ticks": ""
            },
            "colorscale": [
             [
              0,
              "#0d0887"
             ],
             [
              0.1111111111111111,
              "#46039f"
             ],
             [
              0.2222222222222222,
              "#7201a8"
             ],
             [
              0.3333333333333333,
              "#9c179e"
             ],
             [
              0.4444444444444444,
              "#bd3786"
             ],
             [
              0.5555555555555556,
              "#d8576b"
             ],
             [
              0.6666666666666666,
              "#ed7953"
             ],
             [
              0.7777777777777778,
              "#fb9f3a"
             ],
             [
              0.8888888888888888,
              "#fdca26"
             ],
             [
              1,
              "#f0f921"
             ]
            ],
            "type": "heatmap"
           }
          ],
          "histogram": [
           {
            "marker": {
             "pattern": {
              "fillmode": "overlay",
              "size": 10,
              "solidity": 0.2
             }
            },
            "type": "histogram"
           }
          ],
          "histogram2d": [
           {
            "colorbar": {
             "outlinewidth": 0,
             "ticks": ""
            },
            "colorscale": [
             [
              0,
              "#0d0887"
             ],
             [
              0.1111111111111111,
              "#46039f"
             ],
             [
              0.2222222222222222,
              "#7201a8"
             ],
             [
              0.3333333333333333,
              "#9c179e"
             ],
             [
              0.4444444444444444,
              "#bd3786"
             ],
             [
              0.5555555555555556,
              "#d8576b"
             ],
             [
              0.6666666666666666,
              "#ed7953"
             ],
             [
              0.7777777777777778,
              "#fb9f3a"
             ],
             [
              0.8888888888888888,
              "#fdca26"
             ],
             [
              1,
              "#f0f921"
             ]
            ],
            "type": "histogram2d"
           }
          ],
          "histogram2dcontour": [
           {
            "colorbar": {
             "outlinewidth": 0,
             "ticks": ""
            },
            "colorscale": [
             [
              0,
              "#0d0887"
             ],
             [
              0.1111111111111111,
              "#46039f"
             ],
             [
              0.2222222222222222,
              "#7201a8"
             ],
             [
              0.3333333333333333,
              "#9c179e"
             ],
             [
              0.4444444444444444,
              "#bd3786"
             ],
             [
              0.5555555555555556,
              "#d8576b"
             ],
             [
              0.6666666666666666,
              "#ed7953"
             ],
             [
              0.7777777777777778,
              "#fb9f3a"
             ],
             [
              0.8888888888888888,
              "#fdca26"
             ],
             [
              1,
              "#f0f921"
             ]
            ],
            "type": "histogram2dcontour"
           }
          ],
          "mesh3d": [
           {
            "colorbar": {
             "outlinewidth": 0,
             "ticks": ""
            },
            "type": "mesh3d"
           }
          ],
          "parcoords": [
           {
            "line": {
             "colorbar": {
              "outlinewidth": 0,
              "ticks": ""
             }
            },
            "type": "parcoords"
           }
          ],
          "pie": [
           {
            "automargin": true,
            "type": "pie"
           }
          ],
          "scatter": [
           {
            "fillpattern": {
             "fillmode": "overlay",
             "size": 10,
             "solidity": 0.2
            },
            "type": "scatter"
           }
          ],
          "scatter3d": [
           {
            "line": {
             "colorbar": {
              "outlinewidth": 0,
              "ticks": ""
             }
            },
            "marker": {
             "colorbar": {
              "outlinewidth": 0,
              "ticks": ""
             }
            },
            "type": "scatter3d"
           }
          ],
          "scattercarpet": [
           {
            "marker": {
             "colorbar": {
              "outlinewidth": 0,
              "ticks": ""
             }
            },
            "type": "scattercarpet"
           }
          ],
          "scattergeo": [
           {
            "marker": {
             "colorbar": {
              "outlinewidth": 0,
              "ticks": ""
             }
            },
            "type": "scattergeo"
           }
          ],
          "scattergl": [
           {
            "marker": {
             "colorbar": {
              "outlinewidth": 0,
              "ticks": ""
             }
            },
            "type": "scattergl"
           }
          ],
          "scattermap": [
           {
            "marker": {
             "colorbar": {
              "outlinewidth": 0,
              "ticks": ""
             }
            },
            "type": "scattermap"
           }
          ],
          "scattermapbox": [
           {
            "marker": {
             "colorbar": {
              "outlinewidth": 0,
              "ticks": ""
             }
            },
            "type": "scattermapbox"
           }
          ],
          "scatterpolar": [
           {
            "marker": {
             "colorbar": {
              "outlinewidth": 0,
              "ticks": ""
             }
            },
            "type": "scatterpolar"
           }
          ],
          "scatterpolargl": [
           {
            "marker": {
             "colorbar": {
              "outlinewidth": 0,
              "ticks": ""
             }
            },
            "type": "scatterpolargl"
           }
          ],
          "scatterternary": [
           {
            "marker": {
             "colorbar": {
              "outlinewidth": 0,
              "ticks": ""
             }
            },
            "type": "scatterternary"
           }
          ],
          "surface": [
           {
            "colorbar": {
             "outlinewidth": 0,
             "ticks": ""
            },
            "colorscale": [
             [
              0,
              "#0d0887"
             ],
             [
              0.1111111111111111,
              "#46039f"
             ],
             [
              0.2222222222222222,
              "#7201a8"
             ],
             [
              0.3333333333333333,
              "#9c179e"
             ],
             [
              0.4444444444444444,
              "#bd3786"
             ],
             [
              0.5555555555555556,
              "#d8576b"
             ],
             [
              0.6666666666666666,
              "#ed7953"
             ],
             [
              0.7777777777777778,
              "#fb9f3a"
             ],
             [
              0.8888888888888888,
              "#fdca26"
             ],
             [
              1,
              "#f0f921"
             ]
            ],
            "type": "surface"
           }
          ],
          "table": [
           {
            "cells": {
             "fill": {
              "color": "#EBF0F8"
             },
             "line": {
              "color": "white"
             }
            },
            "header": {
             "fill": {
              "color": "#C8D4E3"
             },
             "line": {
              "color": "white"
             }
            },
            "type": "table"
           }
          ]
         },
         "layout": {
          "annotationdefaults": {
           "arrowcolor": "#2a3f5f",
           "arrowhead": 0,
           "arrowwidth": 1
          },
          "autotypenumbers": "strict",
          "coloraxis": {
           "colorbar": {
            "outlinewidth": 0,
            "ticks": ""
           }
          },
          "colorscale": {
           "diverging": [
            [
             0,
             "#8e0152"
            ],
            [
             0.1,
             "#c51b7d"
            ],
            [
             0.2,
             "#de77ae"
            ],
            [
             0.3,
             "#f1b6da"
            ],
            [
             0.4,
             "#fde0ef"
            ],
            [
             0.5,
             "#f7f7f7"
            ],
            [
             0.6,
             "#e6f5d0"
            ],
            [
             0.7,
             "#b8e186"
            ],
            [
             0.8,
             "#7fbc41"
            ],
            [
             0.9,
             "#4d9221"
            ],
            [
             1,
             "#276419"
            ]
           ],
           "sequential": [
            [
             0,
             "#0d0887"
            ],
            [
             0.1111111111111111,
             "#46039f"
            ],
            [
             0.2222222222222222,
             "#7201a8"
            ],
            [
             0.3333333333333333,
             "#9c179e"
            ],
            [
             0.4444444444444444,
             "#bd3786"
            ],
            [
             0.5555555555555556,
             "#d8576b"
            ],
            [
             0.6666666666666666,
             "#ed7953"
            ],
            [
             0.7777777777777778,
             "#fb9f3a"
            ],
            [
             0.8888888888888888,
             "#fdca26"
            ],
            [
             1,
             "#f0f921"
            ]
           ],
           "sequentialminus": [
            [
             0,
             "#0d0887"
            ],
            [
             0.1111111111111111,
             "#46039f"
            ],
            [
             0.2222222222222222,
             "#7201a8"
            ],
            [
             0.3333333333333333,
             "#9c179e"
            ],
            [
             0.4444444444444444,
             "#bd3786"
            ],
            [
             0.5555555555555556,
             "#d8576b"
            ],
            [
             0.6666666666666666,
             "#ed7953"
            ],
            [
             0.7777777777777778,
             "#fb9f3a"
            ],
            [
             0.8888888888888888,
             "#fdca26"
            ],
            [
             1,
             "#f0f921"
            ]
           ]
          },
          "colorway": [
           "#636efa",
           "#EF553B",
           "#00cc96",
           "#ab63fa",
           "#FFA15A",
           "#19d3f3",
           "#FF6692",
           "#B6E880",
           "#FF97FF",
           "#FECB52"
          ],
          "font": {
           "color": "#2a3f5f"
          },
          "geo": {
           "bgcolor": "white",
           "lakecolor": "white",
           "landcolor": "#E5ECF6",
           "showlakes": true,
           "showland": true,
           "subunitcolor": "white"
          },
          "hoverlabel": {
           "align": "left"
          },
          "hovermode": "closest",
          "mapbox": {
           "style": "light"
          },
          "paper_bgcolor": "white",
          "plot_bgcolor": "#E5ECF6",
          "polar": {
           "angularaxis": {
            "gridcolor": "white",
            "linecolor": "white",
            "ticks": ""
           },
           "bgcolor": "#E5ECF6",
           "radialaxis": {
            "gridcolor": "white",
            "linecolor": "white",
            "ticks": ""
           }
          },
          "scene": {
           "xaxis": {
            "backgroundcolor": "#E5ECF6",
            "gridcolor": "white",
            "gridwidth": 2,
            "linecolor": "white",
            "showbackground": true,
            "ticks": "",
            "zerolinecolor": "white"
           },
           "yaxis": {
            "backgroundcolor": "#E5ECF6",
            "gridcolor": "white",
            "gridwidth": 2,
            "linecolor": "white",
            "showbackground": true,
            "ticks": "",
            "zerolinecolor": "white"
           },
           "zaxis": {
            "backgroundcolor": "#E5ECF6",
            "gridcolor": "white",
            "gridwidth": 2,
            "linecolor": "white",
            "showbackground": true,
            "ticks": "",
            "zerolinecolor": "white"
           }
          },
          "shapedefaults": {
           "line": {
            "color": "#2a3f5f"
           }
          },
          "ternary": {
           "aaxis": {
            "gridcolor": "white",
            "linecolor": "white",
            "ticks": ""
           },
           "baxis": {
            "gridcolor": "white",
            "linecolor": "white",
            "ticks": ""
           },
           "bgcolor": "#E5ECF6",
           "caxis": {
            "gridcolor": "white",
            "linecolor": "white",
            "ticks": ""
           }
          },
          "title": {
           "x": 0.05
          },
          "xaxis": {
           "automargin": true,
           "gridcolor": "white",
           "linecolor": "white",
           "ticks": "",
           "title": {
            "standoff": 15
           },
           "zerolinecolor": "white",
           "zerolinewidth": 2
          },
          "yaxis": {
           "automargin": true,
           "gridcolor": "white",
           "linecolor": "white",
           "ticks": "",
           "title": {
            "standoff": 15
           },
           "zerolinecolor": "white",
           "zerolinewidth": 2
          }
         }
        },
        "title": {
         "text": "### Salary gap% for top-3 data roles between Europe and the United States"
        },
        "xaxis": {
         "title": {
          "text": ""
         }
        },
        "yaxis": {
         "title": {
          "text": "Median Salary, EUR"
         }
        }
       }
      }
     },
     "metadata": {},
     "output_type": "display_data"
    }
   ],
   "source": [
    "df_top = df_filtered[\n",
    "    (df_filtered['region_group'].isin(['EU', 'US'])) &\n",
    "    (df_filtered['job_title_short'].isin(top_roles))\n",
    "    ]\n",
    "\n",
    "salary_medians = df_top.groupby(['job_title_short', 'region_group'])['salary_month_avg_eur'].median().unstack()\n",
    "salary_medians['gap_abs'] = salary_medians['US'] - salary_medians['EU']\n",
    "salary_medians['gap_pct'] = 100 * (salary_medians['gap_abs'] / salary_medians['EU'])\n",
    "\n",
    "df_base = salary_medians.reset_index()\n",
    "x_labels = df_base['job_title_short']\n",
    "\n",
    "fig3 = go.Figure()\n",
    "\n",
    "# US bars\n",
    "fig3.add_trace(go.Bar(\n",
    "    x=x_labels,\n",
    "    y=df_base['US'],\n",
    "    name='US',\n",
    "    marker_color='#aec7e8',\n",
    "    width=0.35,\n",
    "    text=df_base['US'].round(0),\n",
    "    textposition='inside',\n",
    "    insidetextanchor='middle'\n",
    "))\n",
    "\n",
    "# EU bars\n",
    "fig3.add_trace(go.Bar(\n",
    "    x=x_labels,\n",
    "    y=df_base['EU'],\n",
    "    name='EU',\n",
    "    marker_color='#1f77b4',\n",
    "    width=0.35,\n",
    "    text=df_base['EU'].round(0),\n",
    "    textposition='inside',\n",
    "    insidetextanchor='middle'\n",
    "))\n",
    "\n",
    "# Add arrows and % gap labels\n",
    "for i, row in df_base.iterrows():\n",
    "    x = row['job_title_short']\n",
    "    y_us = row['US']\n",
    "    y_eu = row['EU']\n",
    "    pct_gap = row['gap_pct']\n",
    "    y_max = max(y_us, y_eu)\n",
    "\n",
    "    fig3.add_annotation(\n",
    "        x=x,\n",
    "        y=y_max + 800,\n",
    "        text=f\"{pct_gap:.1f}%\",\n",
    "        showarrow=True,\n",
    "        arrowhead=2,\n",
    "        arrowwidth=2.5,\n",
    "        arrowcolor='gray',\n",
    "        ax=0,\n",
    "        ay=-40,\n",
    "        font=dict(size=12, color='black'),\n",
    "        standoff=6\n",
    "    )\n",
    "\n",
    "fig3.update_layout(\n",
    "    barmode='group',\n",
    "    bargap=0.1,  \n",
    "    title='### Salary gap% for top-3 data roles between Europe and the United States',\n",
    "    xaxis_title='',\n",
    "    yaxis_title='Median Salary, EUR',\n",
    "    height=500,\n",
    "    legend=dict(title='Region'),\n",
    "    margin=dict(t=80)\n",
    ")\n",
    "\n",
    "fig3.show()"
   ]
  },
  {
   "cell_type": "markdown",
   "id": "54eb9ded",
   "metadata": {},
   "source": [
    "The salary gap between the US and EU is almost negligible for Data Analysts (1%), indicating this role is well-established and globally standardized in terms of expectations and compensation. However, the much larger gap for Data Engineers and especially Data Scientists suggests that the EU is still catching up in adopting advanced analytics and scaling data infrastructure."
   ]
  },
  {
   "cell_type": "markdown",
   "id": "97759c64",
   "metadata": {},
   "source": [
    "### An interactive map visualizing median salaries for these roles across European countries\n",
    "\n",
    "This interactive map shows the **median monthly salaries** across European countries for each of the top-3 data roles. It helps identify salary hotspots and understand how location affects compensation."
   ]
  },
  {
   "cell_type": "code",
   "execution_count": 19,
   "id": "1e19d1ac",
   "metadata": {},
   "outputs": [
    {
     "data": {
      "application/vnd.plotly.v1+json": {
       "config": {
        "plotlyServerURL": "https://plot.ly"
       },
       "data": [
        {
         "colorbar": {
          "title": {
           "text": "EUR"
          }
         },
         "colorscale": [
          [
           0,
           "rgb(247,251,255)"
          ],
          [
           0.125,
           "rgb(222,235,247)"
          ],
          [
           0.25,
           "rgb(198,219,239)"
          ],
          [
           0.375,
           "rgb(158,202,225)"
          ],
          [
           0.5,
           "rgb(107,174,214)"
          ],
          [
           0.625,
           "rgb(66,146,198)"
          ],
          [
           0.75,
           "rgb(33,113,181)"
          ],
          [
           0.875,
           "rgb(8,81,156)"
          ],
          [
           1,
           "rgb(8,48,107)"
          ]
         ],
         "locationmode": "ISO-3",
         "locations": [
          "AUT",
          "BEL",
          "BGR",
          "HRV",
          "CYP",
          "DNK",
          "EST",
          "FIN",
          "FRA",
          "DEU",
          "GRC",
          "HUN",
          "IRL",
          "ITA",
          "LVA",
          "LTU",
          "LUX",
          "MLT",
          "NLD",
          "POL",
          "PRT",
          "ROU",
          "ESP",
          "SWE"
         ],
         "name": "Data Analyst",
         "text": [
          "Austria",
          "Belgium",
          "Bulgaria",
          "Croatia",
          "Cyprus",
          "Denmark",
          "Estonia",
          "Finland",
          "France",
          "Germany",
          "Greece",
          "Hungary",
          "Ireland",
          "Italy",
          "Latvia",
          "Lithuania",
          "Luxembourg",
          "Malta",
          "Netherlands",
          "Poland",
          "Portugal",
          "Romania",
          "Spain",
          "Sweden"
         ],
         "type": "choropleth",
         "visible": true,
         "z": {
          "bdata": "wvUoXM9YtkAUrkfhOoy1QMzMzMwsrbxAAAAAAABYr0CkcD0KVzOsQLgeheuRoLhAAAAAAABYr0CF61G4njO9QDMzMzMzya9AKVyPwjXHu0CuR+F6dIC7QMP1KFzPWLZAPgrXo7B8t0CPwvUoXE6tQAAAAAAAWK9AKVyPwjXHu0CPwvUoXNevQBSuR+G6VLxASOF6FO6nuEC4HoXrkaC4QLgeheuRoLhAXI/C9UgmtEBxPQrXI2y5QKRwPQoX971A",
          "dtype": "f8"
         },
         "zmax": 13514.84,
         "zmin": 3609.67
        },
        {
         "colorbar": {
          "title": {
           "text": "EUR"
          }
         },
         "colorscale": [
          [
           0,
           "rgb(247,251,255)"
          ],
          [
           0.125,
           "rgb(222,235,247)"
          ],
          [
           0.25,
           "rgb(198,219,239)"
          ],
          [
           0.375,
           "rgb(158,202,225)"
          ],
          [
           0.5,
           "rgb(107,174,214)"
          ],
          [
           0.625,
           "rgb(66,146,198)"
          ],
          [
           0.75,
           "rgb(33,113,181)"
          ],
          [
           0.875,
           "rgb(8,81,156)"
          ],
          [
           1,
           "rgb(8,48,107)"
          ]
         ],
         "locationmode": "ISO-3",
         "locations": [
          "AUT",
          "BEL",
          "BGR",
          "HRV",
          "CYP",
          "DNK",
          "EST",
          "FIN",
          "FRA",
          "DEU",
          "GRC",
          "HUN",
          "IRL",
          "ITA",
          "LVA",
          "LTU",
          "LUX",
          "MLT",
          "NLD",
          "POL",
          "PRT",
          "ROU",
          "SVK",
          "SVN",
          "ESP",
          "SWE"
         ],
         "name": "Data Engineer",
         "text": [
          "Austria",
          "Belgium",
          "Bulgaria",
          "Croatia",
          "Cyprus",
          "Denmark",
          "Estonia",
          "Finland",
          "France",
          "Germany",
          "Greece",
          "Hungary",
          "Ireland",
          "Italy",
          "Latvia",
          "Lithuania",
          "Luxembourg",
          "Malta",
          "Netherlands",
          "Poland",
          "Portugal",
          "Romania",
          "Slovakia",
          "Slovenia",
          "Spain",
          "Sweden"
         ],
         "type": "choropleth",
         "visible": false,
         "z": {
          "bdata": "zczMzGxixEBmZmZmpiu7QArXo3D9CMRACtejcD3XukBI4XoUbmHCQGZmZmYW4cBA9ihcj8Jwv0AAAAAAgL+6QGZmZmamK7tAzczMzGxixEAAAAAAgL+6QM3MzMxsYsRAzczMzGxixEAUrkfh+u66QAAAAACAv7pAZmZmZhbhwEC4HoXrkaC4QMP1KFzPWLZAFK5H4fruukCF61G4HnPCQB6F61FYYsFApHA9Clcqu0DNzMzMbGLEQLgehetx2bVASOF6FG5hwkCF61G4HnPCQA==",
          "dtype": "f8"
         },
         "zmax": 13514.84,
         "zmin": 3609.67
        },
        {
         "colorbar": {
          "title": {
           "text": "EUR"
          }
         },
         "colorscale": [
          [
           0,
           "rgb(247,251,255)"
          ],
          [
           0.125,
           "rgb(222,235,247)"
          ],
          [
           0.25,
           "rgb(198,219,239)"
          ],
          [
           0.375,
           "rgb(158,202,225)"
          ],
          [
           0.5,
           "rgb(107,174,214)"
          ],
          [
           0.625,
           "rgb(66,146,198)"
          ],
          [
           0.75,
           "rgb(33,113,181)"
          ],
          [
           0.875,
           "rgb(8,81,156)"
          ],
          [
           1,
           "rgb(8,48,107)"
          ]
         ],
         "locationmode": "ISO-3",
         "locations": [
          "AUT",
          "BEL",
          "BGR",
          "HRV",
          "CYP",
          "DNK",
          "EST",
          "FIN",
          "FRA",
          "DEU",
          "GRC",
          "HUN",
          "IRL",
          "ITA",
          "LTU",
          "LUX",
          "NLD",
          "POL",
          "PRT",
          "ROU",
          "SVK",
          "ESP",
          "SWE"
         ],
         "name": "Data Scientist",
         "text": [
          "Austria",
          "Belgium",
          "Bulgaria",
          "Croatia",
          "Cyprus",
          "Denmark",
          "Estonia",
          "Finland",
          "France",
          "Germany",
          "Greece",
          "Hungary",
          "Ireland",
          "Italy",
          "Lithuania",
          "Luxembourg",
          "Netherlands",
          "Poland",
          "Portugal",
          "Romania",
          "Slovakia",
          "Spain",
          "Sweden"
         ],
         "type": "choropleth",
         "visible": false,
         "z": {
          "bdata": "cD0K14Oxs0A+CtejQArBQI/C9SjcPbhAhetRuA75wEBSuB6Fa2XKQNejcD0KRL5A7FG4HoW3v0DYo3A9Kt2/QNejcD3KW7hAj8L1KHwuwkAK16NwHdi4QLgeheuRoLhAcD0K1+M0vEBI4XoULn64QIbrUbj+l8VAH4XrUTjExUAfhetROMTFQB+F61FYOcJA9ihcj1ITxUB7FK5H4bjAQJDC9SgsGsFAFK5H4bohuEAfhetROMTFQA==",
          "dtype": "f8"
         },
         "zmax": 13514.84,
         "zmin": 3609.67
        }
       ],
       "layout": {
        "geo": {
         "projection": {
          "type": "natural earth"
         },
         "scope": "europe",
         "showcoastlines": false,
         "showframe": false
        },
        "height": 600,
        "template": {
         "data": {
          "bar": [
           {
            "error_x": {
             "color": "#2a3f5f"
            },
            "error_y": {
             "color": "#2a3f5f"
            },
            "marker": {
             "line": {
              "color": "#E5ECF6",
              "width": 0.5
             },
             "pattern": {
              "fillmode": "overlay",
              "size": 10,
              "solidity": 0.2
             }
            },
            "type": "bar"
           }
          ],
          "barpolar": [
           {
            "marker": {
             "line": {
              "color": "#E5ECF6",
              "width": 0.5
             },
             "pattern": {
              "fillmode": "overlay",
              "size": 10,
              "solidity": 0.2
             }
            },
            "type": "barpolar"
           }
          ],
          "carpet": [
           {
            "aaxis": {
             "endlinecolor": "#2a3f5f",
             "gridcolor": "white",
             "linecolor": "white",
             "minorgridcolor": "white",
             "startlinecolor": "#2a3f5f"
            },
            "baxis": {
             "endlinecolor": "#2a3f5f",
             "gridcolor": "white",
             "linecolor": "white",
             "minorgridcolor": "white",
             "startlinecolor": "#2a3f5f"
            },
            "type": "carpet"
           }
          ],
          "choropleth": [
           {
            "colorbar": {
             "outlinewidth": 0,
             "ticks": ""
            },
            "type": "choropleth"
           }
          ],
          "contour": [
           {
            "colorbar": {
             "outlinewidth": 0,
             "ticks": ""
            },
            "colorscale": [
             [
              0,
              "#0d0887"
             ],
             [
              0.1111111111111111,
              "#46039f"
             ],
             [
              0.2222222222222222,
              "#7201a8"
             ],
             [
              0.3333333333333333,
              "#9c179e"
             ],
             [
              0.4444444444444444,
              "#bd3786"
             ],
             [
              0.5555555555555556,
              "#d8576b"
             ],
             [
              0.6666666666666666,
              "#ed7953"
             ],
             [
              0.7777777777777778,
              "#fb9f3a"
             ],
             [
              0.8888888888888888,
              "#fdca26"
             ],
             [
              1,
              "#f0f921"
             ]
            ],
            "type": "contour"
           }
          ],
          "contourcarpet": [
           {
            "colorbar": {
             "outlinewidth": 0,
             "ticks": ""
            },
            "type": "contourcarpet"
           }
          ],
          "heatmap": [
           {
            "colorbar": {
             "outlinewidth": 0,
             "ticks": ""
            },
            "colorscale": [
             [
              0,
              "#0d0887"
             ],
             [
              0.1111111111111111,
              "#46039f"
             ],
             [
              0.2222222222222222,
              "#7201a8"
             ],
             [
              0.3333333333333333,
              "#9c179e"
             ],
             [
              0.4444444444444444,
              "#bd3786"
             ],
             [
              0.5555555555555556,
              "#d8576b"
             ],
             [
              0.6666666666666666,
              "#ed7953"
             ],
             [
              0.7777777777777778,
              "#fb9f3a"
             ],
             [
              0.8888888888888888,
              "#fdca26"
             ],
             [
              1,
              "#f0f921"
             ]
            ],
            "type": "heatmap"
           }
          ],
          "histogram": [
           {
            "marker": {
             "pattern": {
              "fillmode": "overlay",
              "size": 10,
              "solidity": 0.2
             }
            },
            "type": "histogram"
           }
          ],
          "histogram2d": [
           {
            "colorbar": {
             "outlinewidth": 0,
             "ticks": ""
            },
            "colorscale": [
             [
              0,
              "#0d0887"
             ],
             [
              0.1111111111111111,
              "#46039f"
             ],
             [
              0.2222222222222222,
              "#7201a8"
             ],
             [
              0.3333333333333333,
              "#9c179e"
             ],
             [
              0.4444444444444444,
              "#bd3786"
             ],
             [
              0.5555555555555556,
              "#d8576b"
             ],
             [
              0.6666666666666666,
              "#ed7953"
             ],
             [
              0.7777777777777778,
              "#fb9f3a"
             ],
             [
              0.8888888888888888,
              "#fdca26"
             ],
             [
              1,
              "#f0f921"
             ]
            ],
            "type": "histogram2d"
           }
          ],
          "histogram2dcontour": [
           {
            "colorbar": {
             "outlinewidth": 0,
             "ticks": ""
            },
            "colorscale": [
             [
              0,
              "#0d0887"
             ],
             [
              0.1111111111111111,
              "#46039f"
             ],
             [
              0.2222222222222222,
              "#7201a8"
             ],
             [
              0.3333333333333333,
              "#9c179e"
             ],
             [
              0.4444444444444444,
              "#bd3786"
             ],
             [
              0.5555555555555556,
              "#d8576b"
             ],
             [
              0.6666666666666666,
              "#ed7953"
             ],
             [
              0.7777777777777778,
              "#fb9f3a"
             ],
             [
              0.8888888888888888,
              "#fdca26"
             ],
             [
              1,
              "#f0f921"
             ]
            ],
            "type": "histogram2dcontour"
           }
          ],
          "mesh3d": [
           {
            "colorbar": {
             "outlinewidth": 0,
             "ticks": ""
            },
            "type": "mesh3d"
           }
          ],
          "parcoords": [
           {
            "line": {
             "colorbar": {
              "outlinewidth": 0,
              "ticks": ""
             }
            },
            "type": "parcoords"
           }
          ],
          "pie": [
           {
            "automargin": true,
            "type": "pie"
           }
          ],
          "scatter": [
           {
            "fillpattern": {
             "fillmode": "overlay",
             "size": 10,
             "solidity": 0.2
            },
            "type": "scatter"
           }
          ],
          "scatter3d": [
           {
            "line": {
             "colorbar": {
              "outlinewidth": 0,
              "ticks": ""
             }
            },
            "marker": {
             "colorbar": {
              "outlinewidth": 0,
              "ticks": ""
             }
            },
            "type": "scatter3d"
           }
          ],
          "scattercarpet": [
           {
            "marker": {
             "colorbar": {
              "outlinewidth": 0,
              "ticks": ""
             }
            },
            "type": "scattercarpet"
           }
          ],
          "scattergeo": [
           {
            "marker": {
             "colorbar": {
              "outlinewidth": 0,
              "ticks": ""
             }
            },
            "type": "scattergeo"
           }
          ],
          "scattergl": [
           {
            "marker": {
             "colorbar": {
              "outlinewidth": 0,
              "ticks": ""
             }
            },
            "type": "scattergl"
           }
          ],
          "scattermap": [
           {
            "marker": {
             "colorbar": {
              "outlinewidth": 0,
              "ticks": ""
             }
            },
            "type": "scattermap"
           }
          ],
          "scattermapbox": [
           {
            "marker": {
             "colorbar": {
              "outlinewidth": 0,
              "ticks": ""
             }
            },
            "type": "scattermapbox"
           }
          ],
          "scatterpolar": [
           {
            "marker": {
             "colorbar": {
              "outlinewidth": 0,
              "ticks": ""
             }
            },
            "type": "scatterpolar"
           }
          ],
          "scatterpolargl": [
           {
            "marker": {
             "colorbar": {
              "outlinewidth": 0,
              "ticks": ""
             }
            },
            "type": "scatterpolargl"
           }
          ],
          "scatterternary": [
           {
            "marker": {
             "colorbar": {
              "outlinewidth": 0,
              "ticks": ""
             }
            },
            "type": "scatterternary"
           }
          ],
          "surface": [
           {
            "colorbar": {
             "outlinewidth": 0,
             "ticks": ""
            },
            "colorscale": [
             [
              0,
              "#0d0887"
             ],
             [
              0.1111111111111111,
              "#46039f"
             ],
             [
              0.2222222222222222,
              "#7201a8"
             ],
             [
              0.3333333333333333,
              "#9c179e"
             ],
             [
              0.4444444444444444,
              "#bd3786"
             ],
             [
              0.5555555555555556,
              "#d8576b"
             ],
             [
              0.6666666666666666,
              "#ed7953"
             ],
             [
              0.7777777777777778,
              "#fb9f3a"
             ],
             [
              0.8888888888888888,
              "#fdca26"
             ],
             [
              1,
              "#f0f921"
             ]
            ],
            "type": "surface"
           }
          ],
          "table": [
           {
            "cells": {
             "fill": {
              "color": "#EBF0F8"
             },
             "line": {
              "color": "white"
             }
            },
            "header": {
             "fill": {
              "color": "#C8D4E3"
             },
             "line": {
              "color": "white"
             }
            },
            "type": "table"
           }
          ]
         },
         "layout": {
          "annotationdefaults": {
           "arrowcolor": "#2a3f5f",
           "arrowhead": 0,
           "arrowwidth": 1
          },
          "autotypenumbers": "strict",
          "coloraxis": {
           "colorbar": {
            "outlinewidth": 0,
            "ticks": ""
           }
          },
          "colorscale": {
           "diverging": [
            [
             0,
             "#8e0152"
            ],
            [
             0.1,
             "#c51b7d"
            ],
            [
             0.2,
             "#de77ae"
            ],
            [
             0.3,
             "#f1b6da"
            ],
            [
             0.4,
             "#fde0ef"
            ],
            [
             0.5,
             "#f7f7f7"
            ],
            [
             0.6,
             "#e6f5d0"
            ],
            [
             0.7,
             "#b8e186"
            ],
            [
             0.8,
             "#7fbc41"
            ],
            [
             0.9,
             "#4d9221"
            ],
            [
             1,
             "#276419"
            ]
           ],
           "sequential": [
            [
             0,
             "#0d0887"
            ],
            [
             0.1111111111111111,
             "#46039f"
            ],
            [
             0.2222222222222222,
             "#7201a8"
            ],
            [
             0.3333333333333333,
             "#9c179e"
            ],
            [
             0.4444444444444444,
             "#bd3786"
            ],
            [
             0.5555555555555556,
             "#d8576b"
            ],
            [
             0.6666666666666666,
             "#ed7953"
            ],
            [
             0.7777777777777778,
             "#fb9f3a"
            ],
            [
             0.8888888888888888,
             "#fdca26"
            ],
            [
             1,
             "#f0f921"
            ]
           ],
           "sequentialminus": [
            [
             0,
             "#0d0887"
            ],
            [
             0.1111111111111111,
             "#46039f"
            ],
            [
             0.2222222222222222,
             "#7201a8"
            ],
            [
             0.3333333333333333,
             "#9c179e"
            ],
            [
             0.4444444444444444,
             "#bd3786"
            ],
            [
             0.5555555555555556,
             "#d8576b"
            ],
            [
             0.6666666666666666,
             "#ed7953"
            ],
            [
             0.7777777777777778,
             "#fb9f3a"
            ],
            [
             0.8888888888888888,
             "#fdca26"
            ],
            [
             1,
             "#f0f921"
            ]
           ]
          },
          "colorway": [
           "#636efa",
           "#EF553B",
           "#00cc96",
           "#ab63fa",
           "#FFA15A",
           "#19d3f3",
           "#FF6692",
           "#B6E880",
           "#FF97FF",
           "#FECB52"
          ],
          "font": {
           "color": "#2a3f5f"
          },
          "geo": {
           "bgcolor": "white",
           "lakecolor": "white",
           "landcolor": "#E5ECF6",
           "showlakes": true,
           "showland": true,
           "subunitcolor": "white"
          },
          "hoverlabel": {
           "align": "left"
          },
          "hovermode": "closest",
          "mapbox": {
           "style": "light"
          },
          "paper_bgcolor": "white",
          "plot_bgcolor": "#E5ECF6",
          "polar": {
           "angularaxis": {
            "gridcolor": "white",
            "linecolor": "white",
            "ticks": ""
           },
           "bgcolor": "#E5ECF6",
           "radialaxis": {
            "gridcolor": "white",
            "linecolor": "white",
            "ticks": ""
           }
          },
          "scene": {
           "xaxis": {
            "backgroundcolor": "#E5ECF6",
            "gridcolor": "white",
            "gridwidth": 2,
            "linecolor": "white",
            "showbackground": true,
            "ticks": "",
            "zerolinecolor": "white"
           },
           "yaxis": {
            "backgroundcolor": "#E5ECF6",
            "gridcolor": "white",
            "gridwidth": 2,
            "linecolor": "white",
            "showbackground": true,
            "ticks": "",
            "zerolinecolor": "white"
           },
           "zaxis": {
            "backgroundcolor": "#E5ECF6",
            "gridcolor": "white",
            "gridwidth": 2,
            "linecolor": "white",
            "showbackground": true,
            "ticks": "",
            "zerolinecolor": "white"
           }
          },
          "shapedefaults": {
           "line": {
            "color": "#2a3f5f"
           }
          },
          "ternary": {
           "aaxis": {
            "gridcolor": "white",
            "linecolor": "white",
            "ticks": ""
           },
           "baxis": {
            "gridcolor": "white",
            "linecolor": "white",
            "ticks": ""
           },
           "bgcolor": "#E5ECF6",
           "caxis": {
            "gridcolor": "white",
            "linecolor": "white",
            "ticks": ""
           }
          },
          "title": {
           "x": 0.05
          },
          "xaxis": {
           "automargin": true,
           "gridcolor": "white",
           "linecolor": "white",
           "ticks": "",
           "title": {
            "standoff": 15
           },
           "zerolinecolor": "white",
           "zerolinewidth": 2
          },
          "yaxis": {
           "automargin": true,
           "gridcolor": "white",
           "linecolor": "white",
           "ticks": "",
           "title": {
            "standoff": 15
           },
           "zerolinecolor": "white",
           "zerolinewidth": 2
          }
         }
        },
        "title": {
         "text": "Median Monthly Salary in EU — Data Analyst",
         "x": 0.5,
         "xanchor": "center",
         "y": 0.92
        },
        "updatemenus": [
         {
          "buttons": [
           {
            "args": [
             {
              "visible": [
               true,
               false,
               false
              ]
             },
             {
              "title": "Median Monthly Salary in EU — Data Analyst"
             }
            ],
            "label": "Data Analyst",
            "method": "update"
           },
           {
            "args": [
             {
              "visible": [
               false,
               true,
               false
              ]
             },
             {
              "title": "Median Monthly Salary in EU — Data Engineer"
             }
            ],
            "label": "Data Engineer",
            "method": "update"
           },
           {
            "args": [
             {
              "visible": [
               false,
               false,
               true
              ]
             },
             {
              "title": "Median Monthly Salary in EU — Data Scientist"
             }
            ],
            "label": "Data Scientist",
            "method": "update"
           }
          ],
          "direction": "right",
          "pad": {
           "r": 10,
           "t": 10
          },
          "type": "buttons",
          "x": 0.5,
          "xanchor": "center",
          "y": 1.05,
          "yanchor": "top"
         }
        ]
       }
      }
     },
     "metadata": {},
     "output_type": "display_data"
    }
   ],
   "source": [
    "# Prepare dataset\n",
    "df_map = df_eu_top.groupby(['job_country', 'job_title_short'])['salary_month_avg_eur'].median().reset_index()\n",
    "\n",
    "df_iso_lookup = df_eu_top[['job_country', 'ISO']].drop_duplicates()\n",
    "df_map = df_map.merge(df_iso_lookup, on='job_country', how='left')\n",
    "df_map.rename(columns={'ISO': 'iso_alpha'}, inplace=True)\n",
    "df_map = df_map.dropna(subset=['iso_alpha'])\n",
    "\n",
    "# Prepare traces for each role\n",
    "fig4 = go.Figure()\n",
    "\n",
    "job_titles = df_map['job_title_short'].unique()\n",
    "\n",
    "for role in job_titles:\n",
    "    df_role = df_map[df_map['job_title_short'] == role]\n",
    "    fig4.add_trace(go.Choropleth(\n",
    "        locations=df_role['iso_alpha'],\n",
    "        z=df_role['salary_month_avg_eur'],\n",
    "        text=df_role['job_country'],\n",
    "        colorscale='Blues',\n",
    "        colorbar_title='EUR',\n",
    "        zmin=df_map['salary_month_avg_eur'].min(),\n",
    "        zmax=df_map['salary_month_avg_eur'].max(),\n",
    "        visible=(role == job_titles[0]),\n",
    "        name=role,\n",
    "        locationmode='ISO-3'\n",
    "    ))\n",
    "\n",
    "# Add buttons\n",
    "buttons = [\n",
    "    {\n",
    "        'label': role,\n",
    "        'method': 'update',\n",
    "        'args': [\n",
    "            {'visible': [r == role for r in job_titles]},\n",
    "            {'title': f'Median Monthly Salary in EU — {role}'}\n",
    "        ]\n",
    "    }\n",
    "    for role in job_titles\n",
    "]\n",
    "\n",
    "fig4.update_layout(\n",
    "    title=dict(\n",
    "        text=f'Median Monthly Salary in EU — {job_titles[0]}',\n",
    "        y=0.92,  # move title up to make space\n",
    "        x=0.5,\n",
    "        xanchor='center'\n",
    "    ),\n",
    "    geo=dict(\n",
    "        showframe=False,\n",
    "        showcoastlines=False,\n",
    "        projection_type='natural earth',\n",
    "        scope='europe'\n",
    "    ),\n",
    "    height=600,\n",
    "    updatemenus=[{\n",
    "        'type': 'buttons',\n",
    "        'buttons': buttons,\n",
    "        'direction': 'right',\n",
    "        'pad': {'r': 10, 't': 10},\n",
    "        'x': 0.5,\n",
    "        'xanchor': 'center',\n",
    "        'y': 1.05,\n",
    "        'yanchor': 'top'\n",
    "    }]\n",
    ")\n",
    "\n",
    "fig4.show()"
   ]
  },
  {
   "cell_type": "markdown",
   "id": "7f6cc673",
   "metadata": {},
   "source": [
    "The highest salaries for Data Analysts in Europ are in Finland, Sweden and Bulfaria. Lets dive deeply and take a look into **companies offering the highest salaries** in these top-3 companies:"
   ]
  },
  {
   "cell_type": "code",
   "execution_count": 20,
   "id": "92ef5096",
   "metadata": {},
   "outputs": [
    {
     "data": {
      "text/html": [
       "<div>\n",
       "<style scoped>\n",
       "    .dataframe tbody tr th:only-of-type {\n",
       "        vertical-align: middle;\n",
       "    }\n",
       "\n",
       "    .dataframe tbody tr th {\n",
       "        vertical-align: top;\n",
       "    }\n",
       "\n",
       "    .dataframe thead th {\n",
       "        text-align: right;\n",
       "    }\n",
       "</style>\n",
       "<table border=\"1\" class=\"dataframe\">\n",
       "  <thead>\n",
       "    <tr style=\"text-align: right;\">\n",
       "      <th></th>\n",
       "      <th>company_name</th>\n",
       "      <th>job_country</th>\n",
       "      <th>salary_month_avg_eur</th>\n",
       "    </tr>\n",
       "  </thead>\n",
       "  <tbody>\n",
       "    <tr>\n",
       "      <th>11</th>\n",
       "      <td>Wolt</td>\n",
       "      <td>Finland</td>\n",
       "      <td>8845.0</td>\n",
       "    </tr>\n",
       "    <tr>\n",
       "      <th>6</th>\n",
       "      <td>Nordea</td>\n",
       "      <td>Sweden</td>\n",
       "      <td>8359.0</td>\n",
       "    </tr>\n",
       "    <tr>\n",
       "      <th>7</th>\n",
       "      <td>Spotify</td>\n",
       "      <td>Sweden</td>\n",
       "      <td>7868.0</td>\n",
       "    </tr>\n",
       "    <tr>\n",
       "      <th>4</th>\n",
       "      <td>HP</td>\n",
       "      <td>Bulgaria</td>\n",
       "      <td>7805.0</td>\n",
       "    </tr>\n",
       "    <tr>\n",
       "      <th>9</th>\n",
       "      <td>Verisk</td>\n",
       "      <td>Bulgaria</td>\n",
       "      <td>7253.0</td>\n",
       "    </tr>\n",
       "  </tbody>\n",
       "</table>\n",
       "</div>"
      ],
      "text/plain": [
       "   company_name job_country  salary_month_avg_eur\n",
       "11         Wolt     Finland                8845.0\n",
       "6        Nordea      Sweden                8359.0\n",
       "7       Spotify      Sweden                7868.0\n",
       "4            HP    Bulgaria                7805.0\n",
       "9        Verisk    Bulgaria                7253.0"
      ]
     },
     "execution_count": 20,
     "metadata": {},
     "output_type": "execute_result"
    }
   ],
   "source": [
    "df_ds = df_eu_top[df_eu_top['job_title_short'] == 'Data Analyst'].copy()\n",
    "\n",
    "top3_countries = (\n",
    "    df_ds.groupby('job_country')['salary_month_avg_eur']\n",
    "    .median()\n",
    "    .sort_values(ascending=False)\n",
    "    .head(3)\n",
    "    .index.tolist()\n",
    ")\n",
    "ds_top_countries = df_ds[df_ds['job_country'].isin(top3_countries)]\n",
    "\n",
    "# Remove overly common salary values\n",
    "common_salaries = ds_top_countries['salary_month_avg_eur'].value_counts()\n",
    "suspect_salaries = common_salaries[common_salaries >= 2].index.tolist()\n",
    "filtered_ds = ds_top_countries[~ds_top_countries['salary_month_avg_eur'].isin(suspect_salaries)]\n",
    "\n",
    "company_medians = (\n",
    "    filtered_ds.groupby(['company_name', 'job_country'])['salary_month_avg_eur']\n",
    "    .median()\n",
    "    .reset_index()\n",
    "    .sort_values(by='salary_month_avg_eur', ascending=False)\n",
    "    .round(0)\n",
    ")\n",
    "\n",
    "company_medians.head(5)"
   ]
  },
  {
   "cell_type": "markdown",
   "id": "dcf3433e",
   "metadata": {},
   "source": [
    "Well-known global companies like Wolt, Nordea, and Spotify offer the highest compensation for **Data Analysts** in Europe. This suggests that job seekers aiming for top salaries should prioritize applying to internationally established companies."
   ]
  },
  {
   "cell_type": "markdown",
   "id": "35bef8f1",
   "metadata": {},
   "source": [
    "### Summary:\n",
    "\n",
    "The salary analysis shows a clear trend: while **Data Analyst** roles are the most **in-demand** in Europe, they offer the **lowest earning potential** among the top three data roles. In contrast, Data Scientist and Data Engineer positions offer significantly higher salaries, but with much greater variability. It means that the salaries are influenced by multiple factors, including expertise in advanced tools such as machine learning, without that, professionals may earn salaries closer to — or even below — those of Data Analysts.\n",
    "\n",
    "The small salary gap for **Data Analysts** between the United States and Europe suggests this role is **globally standardized**, whereas the larger gaps for Data Scientist and Data Engineer roles highlight untapped potential in the European market.\n",
    "\n",
    "Given these insights, our next step will focus on **analyzing the key features** that influence **Data Analyst salaries**, to uncover what skills and factors can help job seekers stand out and maximize their earnings within this role."
   ]
  }
 ],
 "metadata": {
  "kernelspec": {
   "display_name": "data_jobs",
   "language": "python",
   "name": "python3"
  },
  "language_info": {
   "codemirror_mode": {
    "name": "ipython",
    "version": 3
   },
   "file_extension": ".py",
   "mimetype": "text/x-python",
   "name": "python",
   "nbconvert_exporter": "python",
   "pygments_lexer": "ipython3",
   "version": "3.11.11"
  }
 },
 "nbformat": 4,
 "nbformat_minor": 5
}
