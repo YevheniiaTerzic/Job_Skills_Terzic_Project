{
 "cells": [
  {
   "cell_type": "markdown",
   "id": "c711c70d",
   "metadata": {},
   "source": [
    "# How well are the most popular roles paid?\n",
    "- Global Salary Distribution\n",
    "- Salaries of Top-3 in-Demand Data Roles in Europe"
   ]
  },
  {
   "cell_type": "code",
   "execution_count": 1,
   "id": "edcd26c5",
   "metadata": {},
   "outputs": [],
   "source": [
    "import pandas as pd\n",
    "import plotly.express as px\n",
    "\n",
    "import matplotlib.pyplot as plt\n",
    "import seaborn as sns\n",
    "\n",
    "import plotly.graph_objects as go\n",
    "\n",
    "df = pd.read_csv('/Users/kolesnikevgenia/Documents/Python_Projects/Job_Skills/Raw_Data/df_Final.csv')"
   ]
  },
  {
   "cell_type": "code",
   "execution_count": 2,
   "id": "53d7f2fc",
   "metadata": {},
   "outputs": [
    {
     "data": {
      "text/html": [
       "<div>\n",
       "<style scoped>\n",
       "    .dataframe tbody tr th:only-of-type {\n",
       "        vertical-align: middle;\n",
       "    }\n",
       "\n",
       "    .dataframe tbody tr th {\n",
       "        vertical-align: top;\n",
       "    }\n",
       "\n",
       "    .dataframe thead th {\n",
       "        text-align: right;\n",
       "    }\n",
       "</style>\n",
       "<table border=\"1\" class=\"dataframe\">\n",
       "  <thead>\n",
       "    <tr style=\"text-align: right;\">\n",
       "      <th></th>\n",
       "      <th>job_country</th>\n",
       "      <th>avg_salary</th>\n",
       "      <th>job_count</th>\n",
       "    </tr>\n",
       "  </thead>\n",
       "  <tbody>\n",
       "    <tr>\n",
       "      <th>0</th>\n",
       "      <td>Bahamas</td>\n",
       "      <td>14791</td>\n",
       "      <td>21</td>\n",
       "    </tr>\n",
       "    <tr>\n",
       "      <th>1</th>\n",
       "      <td>Namibia</td>\n",
       "      <td>10339</td>\n",
       "      <td>7</td>\n",
       "    </tr>\n",
       "    <tr>\n",
       "      <th>2</th>\n",
       "      <td>Sudan</td>\n",
       "      <td>9839</td>\n",
       "      <td>1623</td>\n",
       "    </tr>\n",
       "    <tr>\n",
       "      <th>3</th>\n",
       "      <td>United States</td>\n",
       "      <td>9258</td>\n",
       "      <td>15766</td>\n",
       "    </tr>\n",
       "    <tr>\n",
       "      <th>4</th>\n",
       "      <td>Chile</td>\n",
       "      <td>9169</td>\n",
       "      <td>11</td>\n",
       "    </tr>\n",
       "    <tr>\n",
       "      <th>5</th>\n",
       "      <td>Canada</td>\n",
       "      <td>9037</td>\n",
       "      <td>463</td>\n",
       "    </tr>\n",
       "    <tr>\n",
       "      <th>6</th>\n",
       "      <td>Ireland</td>\n",
       "      <td>8891</td>\n",
       "      <td>53</td>\n",
       "    </tr>\n",
       "    <tr>\n",
       "      <th>7</th>\n",
       "      <td>Sweden</td>\n",
       "      <td>8855</td>\n",
       "      <td>47</td>\n",
       "    </tr>\n",
       "    <tr>\n",
       "      <th>8</th>\n",
       "      <td>Australia</td>\n",
       "      <td>8734</td>\n",
       "      <td>74</td>\n",
       "    </tr>\n",
       "    <tr>\n",
       "      <th>9</th>\n",
       "      <td>Tunisia</td>\n",
       "      <td>8717</td>\n",
       "      <td>5</td>\n",
       "    </tr>\n",
       "  </tbody>\n",
       "</table>\n",
       "</div>"
      ],
      "text/plain": [
       "     job_country  avg_salary  job_count\n",
       "0        Bahamas       14791         21\n",
       "1        Namibia       10339          7\n",
       "2          Sudan        9839       1623\n",
       "3  United States        9258      15766\n",
       "4          Chile        9169         11\n",
       "5         Canada        9037        463\n",
       "6        Ireland        8891         53\n",
       "7         Sweden        8855         47\n",
       "8      Australia        8734         74\n",
       "9        Tunisia        8717          5"
      ]
     },
     "execution_count": 2,
     "metadata": {},
     "output_type": "execute_result"
    }
   ],
   "source": [
    "#Exploring median salaries by country\n",
    "df = df.dropna(subset=['salary_month_avg_eur'])\n",
    "\n",
    "country_salary_stats = (\n",
    "    df.groupby('job_country')\n",
    "    .agg(job_count=('salary_month_avg_eur', 'count'),\n",
    "         avg_salary=('salary_month_avg_eur', 'mean'))\n",
    "         .sort_values(by='avg_salary', ascending=False)\n",
    "         ).round(0).astype(int)\n",
    "\n",
    "country_salary_stats.head(10)\n",
    "\n",
    "#Keep only countries with at least 5 job postings\n",
    "valid_countries = country_salary_stats[country_salary_stats['job_count'] >= 5].index\n",
    "df_valid = df[df['job_country'].isin(valid_countries)]\n",
    "\n",
    "country_salary_stats_filtered = (\n",
    "    df_valid.groupby('job_country')\n",
    "    .agg(avg_salary=('salary_month_avg_eur', 'mean'),\n",
    "         job_count=('salary_month_avg_eur', 'count'))\n",
    "         .sort_values(by='avg_salary', ascending=False)\n",
    "         ).round(0).astype(int).reset_index()\n",
    "\n",
    "country_salary_stats_filtered.head(10)"
   ]
  },
  {
   "cell_type": "code",
   "execution_count": 3,
   "id": "c0044d13",
   "metadata": {},
   "outputs": [],
   "source": [
    "# Remove outliers (5th–95th percentile)\n",
    "q_low = df_valid['salary_month_avg_eur'].quantile(0.05)\n",
    "q_high = df_valid['salary_month_avg_eur'].quantile(0.95)\n",
    "df_valid = df_valid[\n",
    "    (df_valid['salary_month_avg_eur'] >= q_low) &\n",
    "    (df_valid['salary_month_avg_eur'] <= q_high)\n",
    "]"
   ]
  },
  {
   "cell_type": "code",
   "execution_count": 4,
   "id": "850b1812",
   "metadata": {},
   "outputs": [
    {
     "data": {
      "application/vnd.plotly.v1+json": {
       "config": {
        "plotlyServerURL": "https://plot.ly"
       },
       "data": [
        {
         "hovertemplate": "Median Salary (USD)=%{x}<br>job_title_short=%{y}<extra></extra>",
         "legendgroup": "",
         "marker": {
          "color": "#5DADE2",
          "pattern": {
           "shape": ""
          }
         },
         "name": "",
         "orientation": "h",
         "showlegend": false,
         "textposition": "auto",
         "type": "bar",
         "x": {
          "bdata": "PQrXo/CLuUAAAAAAAM65QArXo3Dd1rpAj8L1KJxtvEC4HoXrUaG+QArXo3A94L9AAAAAAIDrwUAAAAAAgOvBQAAAAABAJcVAexSuRxGhxUA=",
          "dtype": "f8"
         },
         "xaxis": "x",
         "y": [
          "Business Analyst",
          "Cloud Engineer",
          "Data Analyst",
          "Software Engineer",
          "Machine Learning Engineer",
          "Senior Data Analyst",
          "Data Scientist",
          "Data Engineer",
          "Senior Data Engineer",
          "Senior Data Scientist"
         ],
         "yaxis": "y"
        }
       ],
       "layout": {
        "barmode": "relative",
        "legend": {
         "tracegroupgap": 0
        },
        "showlegend": false,
        "template": {
         "data": {
          "bar": [
           {
            "error_x": {
             "color": "#2a3f5f"
            },
            "error_y": {
             "color": "#2a3f5f"
            },
            "marker": {
             "line": {
              "color": "#E5ECF6",
              "width": 0.5
             },
             "pattern": {
              "fillmode": "overlay",
              "size": 10,
              "solidity": 0.2
             }
            },
            "type": "bar"
           }
          ],
          "barpolar": [
           {
            "marker": {
             "line": {
              "color": "#E5ECF6",
              "width": 0.5
             },
             "pattern": {
              "fillmode": "overlay",
              "size": 10,
              "solidity": 0.2
             }
            },
            "type": "barpolar"
           }
          ],
          "carpet": [
           {
            "aaxis": {
             "endlinecolor": "#2a3f5f",
             "gridcolor": "white",
             "linecolor": "white",
             "minorgridcolor": "white",
             "startlinecolor": "#2a3f5f"
            },
            "baxis": {
             "endlinecolor": "#2a3f5f",
             "gridcolor": "white",
             "linecolor": "white",
             "minorgridcolor": "white",
             "startlinecolor": "#2a3f5f"
            },
            "type": "carpet"
           }
          ],
          "choropleth": [
           {
            "colorbar": {
             "outlinewidth": 0,
             "ticks": ""
            },
            "type": "choropleth"
           }
          ],
          "contour": [
           {
            "colorbar": {
             "outlinewidth": 0,
             "ticks": ""
            },
            "colorscale": [
             [
              0,
              "#0d0887"
             ],
             [
              0.1111111111111111,
              "#46039f"
             ],
             [
              0.2222222222222222,
              "#7201a8"
             ],
             [
              0.3333333333333333,
              "#9c179e"
             ],
             [
              0.4444444444444444,
              "#bd3786"
             ],
             [
              0.5555555555555556,
              "#d8576b"
             ],
             [
              0.6666666666666666,
              "#ed7953"
             ],
             [
              0.7777777777777778,
              "#fb9f3a"
             ],
             [
              0.8888888888888888,
              "#fdca26"
             ],
             [
              1,
              "#f0f921"
             ]
            ],
            "type": "contour"
           }
          ],
          "contourcarpet": [
           {
            "colorbar": {
             "outlinewidth": 0,
             "ticks": ""
            },
            "type": "contourcarpet"
           }
          ],
          "heatmap": [
           {
            "colorbar": {
             "outlinewidth": 0,
             "ticks": ""
            },
            "colorscale": [
             [
              0,
              "#0d0887"
             ],
             [
              0.1111111111111111,
              "#46039f"
             ],
             [
              0.2222222222222222,
              "#7201a8"
             ],
             [
              0.3333333333333333,
              "#9c179e"
             ],
             [
              0.4444444444444444,
              "#bd3786"
             ],
             [
              0.5555555555555556,
              "#d8576b"
             ],
             [
              0.6666666666666666,
              "#ed7953"
             ],
             [
              0.7777777777777778,
              "#fb9f3a"
             ],
             [
              0.8888888888888888,
              "#fdca26"
             ],
             [
              1,
              "#f0f921"
             ]
            ],
            "type": "heatmap"
           }
          ],
          "histogram": [
           {
            "marker": {
             "pattern": {
              "fillmode": "overlay",
              "size": 10,
              "solidity": 0.2
             }
            },
            "type": "histogram"
           }
          ],
          "histogram2d": [
           {
            "colorbar": {
             "outlinewidth": 0,
             "ticks": ""
            },
            "colorscale": [
             [
              0,
              "#0d0887"
             ],
             [
              0.1111111111111111,
              "#46039f"
             ],
             [
              0.2222222222222222,
              "#7201a8"
             ],
             [
              0.3333333333333333,
              "#9c179e"
             ],
             [
              0.4444444444444444,
              "#bd3786"
             ],
             [
              0.5555555555555556,
              "#d8576b"
             ],
             [
              0.6666666666666666,
              "#ed7953"
             ],
             [
              0.7777777777777778,
              "#fb9f3a"
             ],
             [
              0.8888888888888888,
              "#fdca26"
             ],
             [
              1,
              "#f0f921"
             ]
            ],
            "type": "histogram2d"
           }
          ],
          "histogram2dcontour": [
           {
            "colorbar": {
             "outlinewidth": 0,
             "ticks": ""
            },
            "colorscale": [
             [
              0,
              "#0d0887"
             ],
             [
              0.1111111111111111,
              "#46039f"
             ],
             [
              0.2222222222222222,
              "#7201a8"
             ],
             [
              0.3333333333333333,
              "#9c179e"
             ],
             [
              0.4444444444444444,
              "#bd3786"
             ],
             [
              0.5555555555555556,
              "#d8576b"
             ],
             [
              0.6666666666666666,
              "#ed7953"
             ],
             [
              0.7777777777777778,
              "#fb9f3a"
             ],
             [
              0.8888888888888888,
              "#fdca26"
             ],
             [
              1,
              "#f0f921"
             ]
            ],
            "type": "histogram2dcontour"
           }
          ],
          "mesh3d": [
           {
            "colorbar": {
             "outlinewidth": 0,
             "ticks": ""
            },
            "type": "mesh3d"
           }
          ],
          "parcoords": [
           {
            "line": {
             "colorbar": {
              "outlinewidth": 0,
              "ticks": ""
             }
            },
            "type": "parcoords"
           }
          ],
          "pie": [
           {
            "automargin": true,
            "type": "pie"
           }
          ],
          "scatter": [
           {
            "fillpattern": {
             "fillmode": "overlay",
             "size": 10,
             "solidity": 0.2
            },
            "type": "scatter"
           }
          ],
          "scatter3d": [
           {
            "line": {
             "colorbar": {
              "outlinewidth": 0,
              "ticks": ""
             }
            },
            "marker": {
             "colorbar": {
              "outlinewidth": 0,
              "ticks": ""
             }
            },
            "type": "scatter3d"
           }
          ],
          "scattercarpet": [
           {
            "marker": {
             "colorbar": {
              "outlinewidth": 0,
              "ticks": ""
             }
            },
            "type": "scattercarpet"
           }
          ],
          "scattergeo": [
           {
            "marker": {
             "colorbar": {
              "outlinewidth": 0,
              "ticks": ""
             }
            },
            "type": "scattergeo"
           }
          ],
          "scattergl": [
           {
            "marker": {
             "colorbar": {
              "outlinewidth": 0,
              "ticks": ""
             }
            },
            "type": "scattergl"
           }
          ],
          "scattermap": [
           {
            "marker": {
             "colorbar": {
              "outlinewidth": 0,
              "ticks": ""
             }
            },
            "type": "scattermap"
           }
          ],
          "scattermapbox": [
           {
            "marker": {
             "colorbar": {
              "outlinewidth": 0,
              "ticks": ""
             }
            },
            "type": "scattermapbox"
           }
          ],
          "scatterpolar": [
           {
            "marker": {
             "colorbar": {
              "outlinewidth": 0,
              "ticks": ""
             }
            },
            "type": "scatterpolar"
           }
          ],
          "scatterpolargl": [
           {
            "marker": {
             "colorbar": {
              "outlinewidth": 0,
              "ticks": ""
             }
            },
            "type": "scatterpolargl"
           }
          ],
          "scatterternary": [
           {
            "marker": {
             "colorbar": {
              "outlinewidth": 0,
              "ticks": ""
             }
            },
            "type": "scatterternary"
           }
          ],
          "surface": [
           {
            "colorbar": {
             "outlinewidth": 0,
             "ticks": ""
            },
            "colorscale": [
             [
              0,
              "#0d0887"
             ],
             [
              0.1111111111111111,
              "#46039f"
             ],
             [
              0.2222222222222222,
              "#7201a8"
             ],
             [
              0.3333333333333333,
              "#9c179e"
             ],
             [
              0.4444444444444444,
              "#bd3786"
             ],
             [
              0.5555555555555556,
              "#d8576b"
             ],
             [
              0.6666666666666666,
              "#ed7953"
             ],
             [
              0.7777777777777778,
              "#fb9f3a"
             ],
             [
              0.8888888888888888,
              "#fdca26"
             ],
             [
              1,
              "#f0f921"
             ]
            ],
            "type": "surface"
           }
          ],
          "table": [
           {
            "cells": {
             "fill": {
              "color": "#EBF0F8"
             },
             "line": {
              "color": "white"
             }
            },
            "header": {
             "fill": {
              "color": "#C8D4E3"
             },
             "line": {
              "color": "white"
             }
            },
            "type": "table"
           }
          ]
         },
         "layout": {
          "annotationdefaults": {
           "arrowcolor": "#2a3f5f",
           "arrowhead": 0,
           "arrowwidth": 1
          },
          "autotypenumbers": "strict",
          "coloraxis": {
           "colorbar": {
            "outlinewidth": 0,
            "ticks": ""
           }
          },
          "colorscale": {
           "diverging": [
            [
             0,
             "#8e0152"
            ],
            [
             0.1,
             "#c51b7d"
            ],
            [
             0.2,
             "#de77ae"
            ],
            [
             0.3,
             "#f1b6da"
            ],
            [
             0.4,
             "#fde0ef"
            ],
            [
             0.5,
             "#f7f7f7"
            ],
            [
             0.6,
             "#e6f5d0"
            ],
            [
             0.7,
             "#b8e186"
            ],
            [
             0.8,
             "#7fbc41"
            ],
            [
             0.9,
             "#4d9221"
            ],
            [
             1,
             "#276419"
            ]
           ],
           "sequential": [
            [
             0,
             "#0d0887"
            ],
            [
             0.1111111111111111,
             "#46039f"
            ],
            [
             0.2222222222222222,
             "#7201a8"
            ],
            [
             0.3333333333333333,
             "#9c179e"
            ],
            [
             0.4444444444444444,
             "#bd3786"
            ],
            [
             0.5555555555555556,
             "#d8576b"
            ],
            [
             0.6666666666666666,
             "#ed7953"
            ],
            [
             0.7777777777777778,
             "#fb9f3a"
            ],
            [
             0.8888888888888888,
             "#fdca26"
            ],
            [
             1,
             "#f0f921"
            ]
           ],
           "sequentialminus": [
            [
             0,
             "#0d0887"
            ],
            [
             0.1111111111111111,
             "#46039f"
            ],
            [
             0.2222222222222222,
             "#7201a8"
            ],
            [
             0.3333333333333333,
             "#9c179e"
            ],
            [
             0.4444444444444444,
             "#bd3786"
            ],
            [
             0.5555555555555556,
             "#d8576b"
            ],
            [
             0.6666666666666666,
             "#ed7953"
            ],
            [
             0.7777777777777778,
             "#fb9f3a"
            ],
            [
             0.8888888888888888,
             "#fdca26"
            ],
            [
             1,
             "#f0f921"
            ]
           ]
          },
          "colorway": [
           "#636efa",
           "#EF553B",
           "#00cc96",
           "#ab63fa",
           "#FFA15A",
           "#19d3f3",
           "#FF6692",
           "#B6E880",
           "#FF97FF",
           "#FECB52"
          ],
          "font": {
           "color": "#2a3f5f"
          },
          "geo": {
           "bgcolor": "white",
           "lakecolor": "white",
           "landcolor": "#E5ECF6",
           "showlakes": true,
           "showland": true,
           "subunitcolor": "white"
          },
          "hoverlabel": {
           "align": "left"
          },
          "hovermode": "closest",
          "mapbox": {
           "style": "light"
          },
          "paper_bgcolor": "white",
          "plot_bgcolor": "#E5ECF6",
          "polar": {
           "angularaxis": {
            "gridcolor": "white",
            "linecolor": "white",
            "ticks": ""
           },
           "bgcolor": "#E5ECF6",
           "radialaxis": {
            "gridcolor": "white",
            "linecolor": "white",
            "ticks": ""
           }
          },
          "scene": {
           "xaxis": {
            "backgroundcolor": "#E5ECF6",
            "gridcolor": "white",
            "gridwidth": 2,
            "linecolor": "white",
            "showbackground": true,
            "ticks": "",
            "zerolinecolor": "white"
           },
           "yaxis": {
            "backgroundcolor": "#E5ECF6",
            "gridcolor": "white",
            "gridwidth": 2,
            "linecolor": "white",
            "showbackground": true,
            "ticks": "",
            "zerolinecolor": "white"
           },
           "zaxis": {
            "backgroundcolor": "#E5ECF6",
            "gridcolor": "white",
            "gridwidth": 2,
            "linecolor": "white",
            "showbackground": true,
            "ticks": "",
            "zerolinecolor": "white"
           }
          },
          "shapedefaults": {
           "line": {
            "color": "#2a3f5f"
           }
          },
          "ternary": {
           "aaxis": {
            "gridcolor": "white",
            "linecolor": "white",
            "ticks": ""
           },
           "baxis": {
            "gridcolor": "white",
            "linecolor": "white",
            "ticks": ""
           },
           "bgcolor": "#E5ECF6",
           "caxis": {
            "gridcolor": "white",
            "linecolor": "white",
            "ticks": ""
           }
          },
          "title": {
           "x": 0.05
          },
          "xaxis": {
           "automargin": true,
           "gridcolor": "white",
           "linecolor": "white",
           "ticks": "",
           "title": {
            "standoff": 15
           },
           "zerolinecolor": "white",
           "zerolinewidth": 2
          },
          "yaxis": {
           "automargin": true,
           "gridcolor": "white",
           "linecolor": "white",
           "ticks": "",
           "title": {
            "standoff": 15
           },
           "zerolinecolor": "white",
           "zerolinewidth": 2
          }
         }
        },
        "title": {
         "text": "Global Median Salary by Job Title"
        },
        "xaxis": {
         "anchor": "y",
         "domain": [
          0,
          1
         ],
         "title": {
          "text": "Median Salary (USD)"
         }
        },
        "yaxis": {
         "anchor": "x",
         "domain": [
          0,
          1
         ],
         "title": {
          "text": "job_title_short"
         }
        }
       }
      }
     },
     "metadata": {},
     "output_type": "display_data"
    }
   ],
   "source": [
    "median_salary = df_valid.groupby('job_title_short')['salary_month_avg_eur'].median().sort_values()\n",
    "\n",
    "fig1 = px.bar(\n",
    "    median_salary,\n",
    "    x=median_salary.values,\n",
    "    y=median_salary.index,\n",
    "    orientation='h',\n",
    "    title='Global Median Salary by Job Title',\n",
    "    labels={'x': 'Median Salary (USD)', 'index': 'Job Title'},\n",
    "    color_discrete_sequence=['#5DADE2']\n",
    ")\n",
    "\n",
    "fig1.update_layout(showlegend=False)\n",
    "fig1.show()"
   ]
  },
  {
   "cell_type": "code",
   "execution_count": 13,
   "id": "bced3f9c",
   "metadata": {},
   "outputs": [],
   "source": [
    "top_roles = ['Data Analyst', 'Data Scientist', 'Data Engineer']\n",
    "df_eu_top = df[\n",
    "    (df['job_title_short'].isin(top_roles)) &\n",
    "    (df['region_group'] == 'EU')\n",
    "]"
   ]
  },
  {
   "cell_type": "code",
   "execution_count": 17,
   "id": "84d20767",
   "metadata": {},
   "outputs": [
    {
     "data": {
      "application/vnd.plotly.v1+json": {
       "config": {
        "plotlyServerURL": "https://plot.ly"
       },
       "data": [
        {
         "alignmentgroup": "True",
         "hovertemplate": "Job Title=%{x}<br>Monthly Salary (EUR)=%{y}<extra></extra>",
         "legendgroup": "",
         "line": {
          "color": "#5DADE2"
         },
         "marker": {
          "color": "#5DADE2"
         },
         "name": "",
         "notched": false,
         "offsetgroup": "",
         "orientation": "v",
         "showlegend": false,
         "type": "box",
         "x": [
          "Data Scientist",
          "Data Scientist",
          "Data Analyst",
          "Data Analyst",
          "Data Scientist",
          "Data Engineer",
          "Data Analyst",
          "Data Engineer",
          "Data Engineer",
          "Data Engineer",
          "Data Scientist",
          "Data Analyst",
          "Data Analyst",
          "Data Engineer",
          "Data Engineer",
          "Data Scientist",
          "Data Analyst",
          "Data Scientist",
          "Data Scientist",
          "Data Analyst",
          "Data Analyst",
          "Data Engineer",
          "Data Scientist",
          "Data Analyst",
          "Data Analyst",
          "Data Engineer",
          "Data Analyst",
          "Data Engineer",
          "Data Engineer",
          "Data Scientist",
          "Data Analyst",
          "Data Engineer",
          "Data Scientist",
          "Data Analyst",
          "Data Analyst",
          "Data Scientist",
          "Data Analyst",
          "Data Scientist",
          "Data Scientist",
          "Data Scientist",
          "Data Engineer",
          "Data Scientist",
          "Data Engineer",
          "Data Analyst",
          "Data Analyst",
          "Data Engineer",
          "Data Scientist",
          "Data Engineer",
          "Data Scientist",
          "Data Scientist",
          "Data Analyst",
          "Data Analyst",
          "Data Scientist",
          "Data Scientist",
          "Data Engineer",
          "Data Analyst",
          "Data Analyst",
          "Data Engineer",
          "Data Scientist",
          "Data Engineer",
          "Data Scientist",
          "Data Engineer",
          "Data Engineer",
          "Data Analyst",
          "Data Scientist",
          "Data Analyst",
          "Data Analyst",
          "Data Scientist",
          "Data Engineer",
          "Data Analyst",
          "Data Analyst",
          "Data Scientist",
          "Data Analyst",
          "Data Engineer",
          "Data Analyst",
          "Data Analyst",
          "Data Analyst",
          "Data Engineer",
          "Data Analyst",
          "Data Analyst",
          "Data Scientist",
          "Data Analyst",
          "Data Analyst",
          "Data Analyst",
          "Data Analyst",
          "Data Analyst",
          "Data Scientist",
          "Data Analyst",
          "Data Engineer",
          "Data Scientist",
          "Data Scientist",
          "Data Engineer",
          "Data Scientist",
          "Data Analyst",
          "Data Engineer",
          "Data Engineer",
          "Data Scientist",
          "Data Engineer",
          "Data Analyst",
          "Data Engineer",
          "Data Analyst",
          "Data Scientist",
          "Data Scientist",
          "Data Scientist",
          "Data Analyst",
          "Data Scientist",
          "Data Analyst",
          "Data Engineer",
          "Data Analyst",
          "Data Scientist",
          "Data Engineer",
          "Data Analyst",
          "Data Analyst",
          "Data Scientist",
          "Data Analyst",
          "Data Engineer",
          "Data Scientist",
          "Data Analyst",
          "Data Analyst",
          "Data Engineer",
          "Data Analyst",
          "Data Engineer",
          "Data Analyst",
          "Data Analyst",
          "Data Engineer",
          "Data Engineer",
          "Data Scientist",
          "Data Analyst",
          "Data Scientist",
          "Data Engineer",
          "Data Engineer",
          "Data Scientist",
          "Data Scientist",
          "Data Scientist",
          "Data Engineer",
          "Data Engineer",
          "Data Scientist",
          "Data Engineer",
          "Data Engineer",
          "Data Engineer",
          "Data Engineer",
          "Data Engineer",
          "Data Analyst",
          "Data Analyst",
          "Data Scientist",
          "Data Scientist",
          "Data Scientist",
          "Data Engineer",
          "Data Engineer",
          "Data Scientist",
          "Data Analyst",
          "Data Engineer",
          "Data Analyst",
          "Data Analyst",
          "Data Analyst",
          "Data Scientist",
          "Data Scientist",
          "Data Analyst",
          "Data Engineer",
          "Data Scientist",
          "Data Analyst",
          "Data Analyst",
          "Data Analyst",
          "Data Analyst",
          "Data Analyst",
          "Data Scientist",
          "Data Analyst",
          "Data Analyst",
          "Data Analyst",
          "Data Engineer",
          "Data Engineer",
          "Data Analyst",
          "Data Scientist",
          "Data Analyst",
          "Data Scientist",
          "Data Engineer",
          "Data Engineer",
          "Data Analyst",
          "Data Analyst",
          "Data Engineer",
          "Data Analyst",
          "Data Analyst",
          "Data Scientist",
          "Data Engineer",
          "Data Scientist",
          "Data Analyst",
          "Data Engineer",
          "Data Engineer",
          "Data Analyst",
          "Data Analyst",
          "Data Analyst",
          "Data Scientist",
          "Data Scientist",
          "Data Analyst",
          "Data Scientist",
          "Data Analyst",
          "Data Engineer",
          "Data Scientist",
          "Data Analyst",
          "Data Engineer",
          "Data Scientist",
          "Data Scientist",
          "Data Scientist",
          "Data Scientist",
          "Data Engineer",
          "Data Analyst",
          "Data Engineer",
          "Data Scientist",
          "Data Analyst",
          "Data Engineer",
          "Data Analyst",
          "Data Engineer",
          "Data Scientist",
          "Data Engineer",
          "Data Engineer",
          "Data Engineer",
          "Data Analyst",
          "Data Analyst",
          "Data Analyst",
          "Data Analyst",
          "Data Analyst",
          "Data Engineer",
          "Data Scientist",
          "Data Analyst",
          "Data Engineer",
          "Data Analyst",
          "Data Engineer",
          "Data Analyst",
          "Data Scientist",
          "Data Analyst",
          "Data Analyst",
          "Data Scientist",
          "Data Engineer",
          "Data Analyst",
          "Data Analyst",
          "Data Engineer",
          "Data Engineer",
          "Data Engineer",
          "Data Scientist",
          "Data Engineer",
          "Data Scientist",
          "Data Engineer",
          "Data Scientist",
          "Data Engineer",
          "Data Analyst",
          "Data Analyst",
          "Data Scientist",
          "Data Analyst",
          "Data Scientist",
          "Data Engineer",
          "Data Engineer",
          "Data Analyst",
          "Data Engineer",
          "Data Scientist",
          "Data Engineer",
          "Data Analyst",
          "Data Engineer",
          "Data Engineer",
          "Data Analyst",
          "Data Analyst",
          "Data Engineer",
          "Data Scientist",
          "Data Scientist",
          "Data Engineer",
          "Data Analyst",
          "Data Scientist",
          "Data Engineer",
          "Data Analyst",
          "Data Engineer",
          "Data Engineer",
          "Data Analyst",
          "Data Engineer",
          "Data Analyst",
          "Data Scientist",
          "Data Analyst",
          "Data Analyst",
          "Data Engineer",
          "Data Engineer",
          "Data Engineer",
          "Data Scientist",
          "Data Engineer",
          "Data Engineer",
          "Data Scientist",
          "Data Engineer",
          "Data Scientist",
          "Data Analyst",
          "Data Analyst",
          "Data Analyst",
          "Data Scientist",
          "Data Engineer",
          "Data Analyst",
          "Data Engineer",
          "Data Scientist",
          "Data Analyst",
          "Data Analyst",
          "Data Engineer",
          "Data Engineer",
          "Data Analyst",
          "Data Analyst",
          "Data Analyst",
          "Data Engineer",
          "Data Analyst",
          "Data Scientist",
          "Data Analyst",
          "Data Engineer",
          "Data Engineer",
          "Data Scientist",
          "Data Analyst",
          "Data Analyst",
          "Data Scientist",
          "Data Scientist",
          "Data Engineer",
          "Data Engineer",
          "Data Scientist",
          "Data Analyst",
          "Data Engineer",
          "Data Analyst",
          "Data Scientist",
          "Data Scientist",
          "Data Analyst",
          "Data Engineer",
          "Data Scientist",
          "Data Analyst",
          "Data Scientist",
          "Data Analyst",
          "Data Engineer",
          "Data Engineer",
          "Data Scientist",
          "Data Scientist",
          "Data Scientist",
          "Data Engineer",
          "Data Scientist",
          "Data Scientist",
          "Data Engineer",
          "Data Scientist",
          "Data Engineer",
          "Data Scientist",
          "Data Scientist",
          "Data Scientist",
          "Data Engineer",
          "Data Engineer",
          "Data Analyst",
          "Data Engineer",
          "Data Scientist",
          "Data Analyst",
          "Data Analyst",
          "Data Engineer",
          "Data Engineer",
          "Data Engineer",
          "Data Engineer",
          "Data Engineer",
          "Data Analyst",
          "Data Engineer",
          "Data Analyst",
          "Data Engineer",
          "Data Scientist",
          "Data Scientist",
          "Data Analyst",
          "Data Scientist",
          "Data Engineer",
          "Data Analyst",
          "Data Analyst",
          "Data Analyst",
          "Data Scientist",
          "Data Scientist",
          "Data Engineer",
          "Data Scientist",
          "Data Analyst",
          "Data Engineer",
          "Data Analyst",
          "Data Engineer",
          "Data Analyst",
          "Data Scientist",
          "Data Analyst",
          "Data Analyst",
          "Data Engineer",
          "Data Engineer",
          "Data Analyst",
          "Data Scientist",
          "Data Engineer",
          "Data Analyst",
          "Data Analyst",
          "Data Analyst",
          "Data Analyst",
          "Data Scientist",
          "Data Analyst",
          "Data Engineer",
          "Data Engineer",
          "Data Engineer",
          "Data Analyst",
          "Data Scientist",
          "Data Scientist",
          "Data Scientist",
          "Data Analyst",
          "Data Analyst",
          "Data Analyst",
          "Data Engineer",
          "Data Engineer",
          "Data Scientist",
          "Data Scientist",
          "Data Scientist",
          "Data Engineer",
          "Data Analyst",
          "Data Analyst",
          "Data Engineer",
          "Data Scientist",
          "Data Scientist",
          "Data Analyst",
          "Data Engineer",
          "Data Scientist",
          "Data Analyst",
          "Data Engineer",
          "Data Scientist",
          "Data Scientist",
          "Data Analyst",
          "Data Engineer",
          "Data Engineer",
          "Data Analyst",
          "Data Engineer",
          "Data Scientist",
          "Data Engineer",
          "Data Scientist",
          "Data Engineer",
          "Data Engineer",
          "Data Scientist",
          "Data Analyst",
          "Data Engineer",
          "Data Analyst",
          "Data Analyst",
          "Data Scientist",
          "Data Engineer",
          "Data Engineer",
          "Data Engineer",
          "Data Engineer",
          "Data Scientist",
          "Data Engineer",
          "Data Engineer",
          "Data Scientist",
          "Data Scientist",
          "Data Engineer",
          "Data Engineer",
          "Data Scientist",
          "Data Engineer",
          "Data Engineer",
          "Data Engineer",
          "Data Engineer",
          "Data Scientist",
          "Data Analyst",
          "Data Engineer",
          "Data Analyst",
          "Data Scientist",
          "Data Engineer",
          "Data Scientist",
          "Data Scientist",
          "Data Analyst",
          "Data Scientist",
          "Data Analyst",
          "Data Engineer",
          "Data Analyst",
          "Data Analyst",
          "Data Scientist",
          "Data Engineer",
          "Data Engineer",
          "Data Analyst",
          "Data Analyst",
          "Data Analyst",
          "Data Analyst",
          "Data Analyst",
          "Data Engineer",
          "Data Engineer",
          "Data Analyst",
          "Data Engineer",
          "Data Scientist",
          "Data Engineer",
          "Data Engineer",
          "Data Analyst",
          "Data Scientist",
          "Data Analyst",
          "Data Analyst",
          "Data Analyst",
          "Data Analyst",
          "Data Analyst",
          "Data Engineer",
          "Data Engineer",
          "Data Engineer",
          "Data Scientist",
          "Data Scientist",
          "Data Analyst",
          "Data Scientist",
          "Data Engineer",
          "Data Analyst",
          "Data Scientist",
          "Data Engineer",
          "Data Scientist",
          "Data Scientist",
          "Data Analyst",
          "Data Analyst",
          "Data Engineer",
          "Data Scientist",
          "Data Analyst",
          "Data Scientist",
          "Data Analyst",
          "Data Analyst",
          "Data Analyst",
          "Data Scientist",
          "Data Scientist",
          "Data Engineer",
          "Data Scientist",
          "Data Analyst",
          "Data Analyst",
          "Data Engineer",
          "Data Engineer",
          "Data Analyst",
          "Data Scientist",
          "Data Scientist",
          "Data Scientist",
          "Data Engineer",
          "Data Analyst",
          "Data Analyst",
          "Data Scientist",
          "Data Engineer",
          "Data Scientist",
          "Data Engineer",
          "Data Engineer",
          "Data Analyst",
          "Data Engineer",
          "Data Analyst",
          "Data Analyst",
          "Data Engineer",
          "Data Engineer",
          "Data Engineer",
          "Data Engineer",
          "Data Engineer",
          "Data Engineer",
          "Data Analyst",
          "Data Engineer",
          "Data Analyst",
          "Data Analyst",
          "Data Engineer",
          "Data Scientist",
          "Data Engineer",
          "Data Scientist",
          "Data Engineer",
          "Data Scientist",
          "Data Analyst",
          "Data Scientist",
          "Data Analyst",
          "Data Analyst",
          "Data Analyst",
          "Data Analyst",
          "Data Scientist",
          "Data Scientist",
          "Data Scientist",
          "Data Analyst",
          "Data Analyst",
          "Data Engineer",
          "Data Engineer",
          "Data Scientist",
          "Data Scientist",
          "Data Scientist",
          "Data Analyst",
          "Data Scientist",
          "Data Analyst",
          "Data Engineer",
          "Data Engineer",
          "Data Scientist",
          "Data Engineer",
          "Data Engineer",
          "Data Analyst",
          "Data Analyst",
          "Data Engineer",
          "Data Engineer",
          "Data Engineer",
          "Data Scientist",
          "Data Engineer",
          "Data Analyst",
          "Data Engineer",
          "Data Analyst",
          "Data Engineer",
          "Data Engineer",
          "Data Engineer",
          "Data Engineer",
          "Data Analyst",
          "Data Engineer",
          "Data Analyst",
          "Data Engineer",
          "Data Scientist",
          "Data Engineer",
          "Data Analyst",
          "Data Engineer",
          "Data Scientist",
          "Data Analyst",
          "Data Engineer",
          "Data Analyst",
          "Data Engineer",
          "Data Engineer",
          "Data Analyst",
          "Data Engineer",
          "Data Engineer",
          "Data Analyst",
          "Data Engineer",
          "Data Engineer",
          "Data Engineer",
          "Data Engineer",
          "Data Engineer",
          "Data Scientist",
          "Data Scientist",
          "Data Engineer",
          "Data Analyst",
          "Data Engineer",
          "Data Analyst",
          "Data Scientist",
          "Data Scientist",
          "Data Scientist",
          "Data Analyst",
          "Data Engineer",
          "Data Analyst",
          "Data Scientist",
          "Data Engineer",
          "Data Analyst",
          "Data Scientist",
          "Data Analyst",
          "Data Engineer",
          "Data Scientist",
          "Data Scientist",
          "Data Analyst",
          "Data Analyst",
          "Data Scientist",
          "Data Engineer",
          "Data Engineer",
          "Data Analyst",
          "Data Analyst",
          "Data Scientist",
          "Data Engineer",
          "Data Engineer",
          "Data Analyst",
          "Data Engineer",
          "Data Scientist",
          "Data Analyst",
          "Data Analyst",
          "Data Scientist",
          "Data Analyst",
          "Data Engineer",
          "Data Analyst",
          "Data Engineer",
          "Data Engineer",
          "Data Analyst",
          "Data Scientist",
          "Data Engineer",
          "Data Engineer",
          "Data Engineer",
          "Data Engineer",
          "Data Analyst",
          "Data Scientist",
          "Data Scientist",
          "Data Scientist",
          "Data Engineer",
          "Data Analyst",
          "Data Scientist",
          "Data Scientist",
          "Data Analyst",
          "Data Analyst",
          "Data Engineer",
          "Data Scientist",
          "Data Engineer",
          "Data Scientist",
          "Data Analyst",
          "Data Analyst",
          "Data Analyst",
          "Data Analyst",
          "Data Scientist",
          "Data Analyst",
          "Data Analyst",
          "Data Engineer",
          "Data Engineer",
          "Data Engineer",
          "Data Analyst",
          "Data Scientist",
          "Data Scientist",
          "Data Engineer",
          "Data Analyst",
          "Data Scientist",
          "Data Analyst",
          "Data Engineer",
          "Data Analyst",
          "Data Engineer",
          "Data Analyst",
          "Data Analyst",
          "Data Analyst",
          "Data Analyst",
          "Data Engineer",
          "Data Analyst",
          "Data Scientist",
          "Data Engineer",
          "Data Engineer",
          "Data Analyst",
          "Data Scientist",
          "Data Engineer",
          "Data Analyst",
          "Data Engineer",
          "Data Engineer",
          "Data Engineer",
          "Data Analyst",
          "Data Scientist",
          "Data Scientist",
          "Data Scientist",
          "Data Engineer",
          "Data Analyst",
          "Data Analyst",
          "Data Scientist",
          "Data Engineer",
          "Data Analyst",
          "Data Analyst",
          "Data Analyst",
          "Data Engineer",
          "Data Scientist",
          "Data Scientist",
          "Data Analyst",
          "Data Analyst",
          "Data Analyst",
          "Data Engineer",
          "Data Analyst",
          "Data Engineer",
          "Data Scientist",
          "Data Scientist",
          "Data Analyst",
          "Data Engineer",
          "Data Analyst",
          "Data Scientist",
          "Data Engineer",
          "Data Engineer",
          "Data Analyst",
          "Data Engineer",
          "Data Analyst",
          "Data Engineer",
          "Data Analyst",
          "Data Engineer",
          "Data Scientist",
          "Data Scientist",
          "Data Scientist",
          "Data Analyst",
          "Data Scientist",
          "Data Scientist",
          "Data Engineer",
          "Data Analyst",
          "Data Engineer",
          "Data Engineer",
          "Data Engineer",
          "Data Analyst",
          "Data Analyst",
          "Data Analyst",
          "Data Engineer",
          "Data Scientist",
          "Data Analyst",
          "Data Engineer",
          "Data Analyst",
          "Data Engineer",
          "Data Engineer",
          "Data Analyst",
          "Data Engineer",
          "Data Scientist",
          "Data Analyst",
          "Data Analyst",
          "Data Engineer",
          "Data Analyst",
          "Data Analyst",
          "Data Analyst",
          "Data Analyst",
          "Data Scientist",
          "Data Engineer",
          "Data Scientist",
          "Data Scientist",
          "Data Engineer",
          "Data Engineer",
          "Data Analyst",
          "Data Engineer",
          "Data Analyst",
          "Data Analyst",
          "Data Scientist",
          "Data Analyst",
          "Data Analyst",
          "Data Scientist",
          "Data Analyst",
          "Data Analyst",
          "Data Analyst",
          "Data Scientist",
          "Data Analyst",
          "Data Engineer",
          "Data Engineer",
          "Data Scientist",
          "Data Engineer",
          "Data Engineer",
          "Data Engineer",
          "Data Engineer",
          "Data Analyst",
          "Data Engineer",
          "Data Scientist",
          "Data Engineer",
          "Data Analyst",
          "Data Engineer",
          "Data Analyst",
          "Data Analyst",
          "Data Scientist",
          "Data Scientist",
          "Data Scientist",
          "Data Engineer",
          "Data Analyst",
          "Data Scientist",
          "Data Analyst",
          "Data Analyst",
          "Data Scientist",
          "Data Scientist",
          "Data Analyst",
          "Data Analyst",
          "Data Scientist",
          "Data Scientist",
          "Data Analyst",
          "Data Scientist",
          "Data Scientist",
          "Data Analyst",
          "Data Engineer",
          "Data Engineer",
          "Data Analyst",
          "Data Engineer",
          "Data Analyst",
          "Data Scientist",
          "Data Scientist",
          "Data Analyst",
          "Data Engineer",
          "Data Engineer",
          "Data Engineer",
          "Data Scientist",
          "Data Scientist",
          "Data Scientist",
          "Data Analyst",
          "Data Analyst",
          "Data Engineer",
          "Data Scientist",
          "Data Scientist",
          "Data Scientist",
          "Data Engineer",
          "Data Analyst",
          "Data Engineer",
          "Data Engineer",
          "Data Analyst",
          "Data Scientist",
          "Data Analyst",
          "Data Analyst",
          "Data Analyst",
          "Data Analyst",
          "Data Engineer",
          "Data Scientist",
          "Data Engineer",
          "Data Engineer",
          "Data Analyst",
          "Data Analyst",
          "Data Engineer",
          "Data Scientist",
          "Data Scientist",
          "Data Scientist",
          "Data Analyst",
          "Data Analyst",
          "Data Scientist",
          "Data Analyst",
          "Data Engineer",
          "Data Engineer",
          "Data Engineer",
          "Data Engineer",
          "Data Analyst",
          "Data Scientist",
          "Data Analyst",
          "Data Analyst",
          "Data Engineer",
          "Data Scientist",
          "Data Analyst",
          "Data Engineer",
          "Data Analyst",
          "Data Scientist",
          "Data Analyst",
          "Data Engineer",
          "Data Engineer",
          "Data Engineer",
          "Data Scientist",
          "Data Scientist",
          "Data Analyst",
          "Data Analyst",
          "Data Analyst",
          "Data Analyst",
          "Data Scientist",
          "Data Analyst",
          "Data Analyst",
          "Data Scientist",
          "Data Analyst",
          "Data Analyst",
          "Data Analyst",
          "Data Scientist",
          "Data Scientist",
          "Data Analyst",
          "Data Engineer",
          "Data Engineer",
          "Data Scientist",
          "Data Analyst",
          "Data Analyst",
          "Data Scientist",
          "Data Scientist",
          "Data Analyst",
          "Data Analyst",
          "Data Analyst",
          "Data Scientist",
          "Data Engineer",
          "Data Analyst",
          "Data Analyst",
          "Data Analyst",
          "Data Engineer",
          "Data Analyst",
          "Data Analyst",
          "Data Engineer",
          "Data Engineer",
          "Data Engineer",
          "Data Scientist",
          "Data Analyst",
          "Data Engineer",
          "Data Analyst",
          "Data Analyst",
          "Data Scientist",
          "Data Scientist",
          "Data Engineer",
          "Data Analyst",
          "Data Engineer",
          "Data Analyst",
          "Data Scientist",
          "Data Scientist",
          "Data Engineer",
          "Data Analyst",
          "Data Analyst",
          "Data Engineer",
          "Data Engineer",
          "Data Engineer",
          "Data Analyst",
          "Data Engineer",
          "Data Analyst",
          "Data Scientist",
          "Data Engineer",
          "Data Scientist",
          "Data Analyst",
          "Data Engineer",
          "Data Analyst",
          "Data Engineer",
          "Data Engineer",
          "Data Engineer",
          "Data Engineer",
          "Data Engineer",
          "Data Analyst",
          "Data Analyst",
          "Data Analyst",
          "Data Engineer",
          "Data Scientist",
          "Data Engineer",
          "Data Analyst",
          "Data Scientist",
          "Data Engineer",
          "Data Engineer",
          "Data Scientist",
          "Data Engineer",
          "Data Scientist",
          "Data Analyst",
          "Data Analyst",
          "Data Analyst",
          "Data Engineer",
          "Data Analyst",
          "Data Analyst",
          "Data Analyst",
          "Data Analyst",
          "Data Engineer",
          "Data Analyst",
          "Data Engineer",
          "Data Scientist",
          "Data Scientist",
          "Data Scientist",
          "Data Scientist",
          "Data Engineer",
          "Data Scientist",
          "Data Scientist",
          "Data Scientist",
          "Data Analyst",
          "Data Scientist",
          "Data Engineer",
          "Data Engineer",
          "Data Engineer",
          "Data Analyst",
          "Data Scientist",
          "Data Engineer",
          "Data Analyst",
          "Data Engineer",
          "Data Analyst",
          "Data Scientist",
          "Data Scientist",
          "Data Analyst",
          "Data Analyst",
          "Data Analyst",
          "Data Analyst",
          "Data Engineer",
          "Data Engineer",
          "Data Engineer",
          "Data Scientist",
          "Data Scientist",
          "Data Engineer",
          "Data Analyst",
          "Data Analyst",
          "Data Analyst",
          "Data Engineer",
          "Data Engineer",
          "Data Engineer",
          "Data Analyst",
          "Data Scientist",
          "Data Engineer",
          "Data Analyst",
          "Data Analyst",
          "Data Analyst",
          "Data Engineer",
          "Data Analyst",
          "Data Engineer",
          "Data Engineer",
          "Data Analyst",
          "Data Analyst",
          "Data Analyst",
          "Data Engineer",
          "Data Scientist",
          "Data Analyst",
          "Data Scientist"
         ],
         "x0": " ",
         "xaxis": "x",
         "y": {
          "bdata": "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",
          "dtype": "f8"
         },
         "y0": " ",
         "yaxis": "y"
        }
       ],
       "layout": {
        "annotations": [
         {
          "font": {
           "size": 12
          },
          "showarrow": false,
          "text": "Median: €6,540",
          "x": "Data Analyst",
          "y": 6540,
          "yshift": 10
         },
         {
          "font": {
           "size": 12
          },
          "showarrow": false,
          "text": "Median: €8,545",
          "x": "Data Engineer",
          "y": 8545,
          "yshift": 10
         },
         {
          "font": {
           "size": 12
          },
          "showarrow": false,
          "text": "Median: €7,813",
          "x": "Data Scientist",
          "y": 7813,
          "yshift": 10
         }
        ],
        "boxmode": "group",
        "legend": {
         "tracegroupgap": 0
        },
        "showlegend": false,
        "template": {
         "data": {
          "bar": [
           {
            "error_x": {
             "color": "#2a3f5f"
            },
            "error_y": {
             "color": "#2a3f5f"
            },
            "marker": {
             "line": {
              "color": "#E5ECF6",
              "width": 0.5
             },
             "pattern": {
              "fillmode": "overlay",
              "size": 10,
              "solidity": 0.2
             }
            },
            "type": "bar"
           }
          ],
          "barpolar": [
           {
            "marker": {
             "line": {
              "color": "#E5ECF6",
              "width": 0.5
             },
             "pattern": {
              "fillmode": "overlay",
              "size": 10,
              "solidity": 0.2
             }
            },
            "type": "barpolar"
           }
          ],
          "carpet": [
           {
            "aaxis": {
             "endlinecolor": "#2a3f5f",
             "gridcolor": "white",
             "linecolor": "white",
             "minorgridcolor": "white",
             "startlinecolor": "#2a3f5f"
            },
            "baxis": {
             "endlinecolor": "#2a3f5f",
             "gridcolor": "white",
             "linecolor": "white",
             "minorgridcolor": "white",
             "startlinecolor": "#2a3f5f"
            },
            "type": "carpet"
           }
          ],
          "choropleth": [
           {
            "colorbar": {
             "outlinewidth": 0,
             "ticks": ""
            },
            "type": "choropleth"
           }
          ],
          "contour": [
           {
            "colorbar": {
             "outlinewidth": 0,
             "ticks": ""
            },
            "colorscale": [
             [
              0,
              "#0d0887"
             ],
             [
              0.1111111111111111,
              "#46039f"
             ],
             [
              0.2222222222222222,
              "#7201a8"
             ],
             [
              0.3333333333333333,
              "#9c179e"
             ],
             [
              0.4444444444444444,
              "#bd3786"
             ],
             [
              0.5555555555555556,
              "#d8576b"
             ],
             [
              0.6666666666666666,
              "#ed7953"
             ],
             [
              0.7777777777777778,
              "#fb9f3a"
             ],
             [
              0.8888888888888888,
              "#fdca26"
             ],
             [
              1,
              "#f0f921"
             ]
            ],
            "type": "contour"
           }
          ],
          "contourcarpet": [
           {
            "colorbar": {
             "outlinewidth": 0,
             "ticks": ""
            },
            "type": "contourcarpet"
           }
          ],
          "heatmap": [
           {
            "colorbar": {
             "outlinewidth": 0,
             "ticks": ""
            },
            "colorscale": [
             [
              0,
              "#0d0887"
             ],
             [
              0.1111111111111111,
              "#46039f"
             ],
             [
              0.2222222222222222,
              "#7201a8"
             ],
             [
              0.3333333333333333,
              "#9c179e"
             ],
             [
              0.4444444444444444,
              "#bd3786"
             ],
             [
              0.5555555555555556,
              "#d8576b"
             ],
             [
              0.6666666666666666,
              "#ed7953"
             ],
             [
              0.7777777777777778,
              "#fb9f3a"
             ],
             [
              0.8888888888888888,
              "#fdca26"
             ],
             [
              1,
              "#f0f921"
             ]
            ],
            "type": "heatmap"
           }
          ],
          "histogram": [
           {
            "marker": {
             "pattern": {
              "fillmode": "overlay",
              "size": 10,
              "solidity": 0.2
             }
            },
            "type": "histogram"
           }
          ],
          "histogram2d": [
           {
            "colorbar": {
             "outlinewidth": 0,
             "ticks": ""
            },
            "colorscale": [
             [
              0,
              "#0d0887"
             ],
             [
              0.1111111111111111,
              "#46039f"
             ],
             [
              0.2222222222222222,
              "#7201a8"
             ],
             [
              0.3333333333333333,
              "#9c179e"
             ],
             [
              0.4444444444444444,
              "#bd3786"
             ],
             [
              0.5555555555555556,
              "#d8576b"
             ],
             [
              0.6666666666666666,
              "#ed7953"
             ],
             [
              0.7777777777777778,
              "#fb9f3a"
             ],
             [
              0.8888888888888888,
              "#fdca26"
             ],
             [
              1,
              "#f0f921"
             ]
            ],
            "type": "histogram2d"
           }
          ],
          "histogram2dcontour": [
           {
            "colorbar": {
             "outlinewidth": 0,
             "ticks": ""
            },
            "colorscale": [
             [
              0,
              "#0d0887"
             ],
             [
              0.1111111111111111,
              "#46039f"
             ],
             [
              0.2222222222222222,
              "#7201a8"
             ],
             [
              0.3333333333333333,
              "#9c179e"
             ],
             [
              0.4444444444444444,
              "#bd3786"
             ],
             [
              0.5555555555555556,
              "#d8576b"
             ],
             [
              0.6666666666666666,
              "#ed7953"
             ],
             [
              0.7777777777777778,
              "#fb9f3a"
             ],
             [
              0.8888888888888888,
              "#fdca26"
             ],
             [
              1,
              "#f0f921"
             ]
            ],
            "type": "histogram2dcontour"
           }
          ],
          "mesh3d": [
           {
            "colorbar": {
             "outlinewidth": 0,
             "ticks": ""
            },
            "type": "mesh3d"
           }
          ],
          "parcoords": [
           {
            "line": {
             "colorbar": {
              "outlinewidth": 0,
              "ticks": ""
             }
            },
            "type": "parcoords"
           }
          ],
          "pie": [
           {
            "automargin": true,
            "type": "pie"
           }
          ],
          "scatter": [
           {
            "fillpattern": {
             "fillmode": "overlay",
             "size": 10,
             "solidity": 0.2
            },
            "type": "scatter"
           }
          ],
          "scatter3d": [
           {
            "line": {
             "colorbar": {
              "outlinewidth": 0,
              "ticks": ""
             }
            },
            "marker": {
             "colorbar": {
              "outlinewidth": 0,
              "ticks": ""
             }
            },
            "type": "scatter3d"
           }
          ],
          "scattercarpet": [
           {
            "marker": {
             "colorbar": {
              "outlinewidth": 0,
              "ticks": ""
             }
            },
            "type": "scattercarpet"
           }
          ],
          "scattergeo": [
           {
            "marker": {
             "colorbar": {
              "outlinewidth": 0,
              "ticks": ""
             }
            },
            "type": "scattergeo"
           }
          ],
          "scattergl": [
           {
            "marker": {
             "colorbar": {
              "outlinewidth": 0,
              "ticks": ""
             }
            },
            "type": "scattergl"
           }
          ],
          "scattermap": [
           {
            "marker": {
             "colorbar": {
              "outlinewidth": 0,
              "ticks": ""
             }
            },
            "type": "scattermap"
           }
          ],
          "scattermapbox": [
           {
            "marker": {
             "colorbar": {
              "outlinewidth": 0,
              "ticks": ""
             }
            },
            "type": "scattermapbox"
           }
          ],
          "scatterpolar": [
           {
            "marker": {
             "colorbar": {
              "outlinewidth": 0,
              "ticks": ""
             }
            },
            "type": "scatterpolar"
           }
          ],
          "scatterpolargl": [
           {
            "marker": {
             "colorbar": {
              "outlinewidth": 0,
              "ticks": ""
             }
            },
            "type": "scatterpolargl"
           }
          ],
          "scatterternary": [
           {
            "marker": {
             "colorbar": {
              "outlinewidth": 0,
              "ticks": ""
             }
            },
            "type": "scatterternary"
           }
          ],
          "surface": [
           {
            "colorbar": {
             "outlinewidth": 0,
             "ticks": ""
            },
            "colorscale": [
             [
              0,
              "#0d0887"
             ],
             [
              0.1111111111111111,
              "#46039f"
             ],
             [
              0.2222222222222222,
              "#7201a8"
             ],
             [
              0.3333333333333333,
              "#9c179e"
             ],
             [
              0.4444444444444444,
              "#bd3786"
             ],
             [
              0.5555555555555556,
              "#d8576b"
             ],
             [
              0.6666666666666666,
              "#ed7953"
             ],
             [
              0.7777777777777778,
              "#fb9f3a"
             ],
             [
              0.8888888888888888,
              "#fdca26"
             ],
             [
              1,
              "#f0f921"
             ]
            ],
            "type": "surface"
           }
          ],
          "table": [
           {
            "cells": {
             "fill": {
              "color": "#EBF0F8"
             },
             "line": {
              "color": "white"
             }
            },
            "header": {
             "fill": {
              "color": "#C8D4E3"
             },
             "line": {
              "color": "white"
             }
            },
            "type": "table"
           }
          ]
         },
         "layout": {
          "annotationdefaults": {
           "arrowcolor": "#2a3f5f",
           "arrowhead": 0,
           "arrowwidth": 1
          },
          "autotypenumbers": "strict",
          "coloraxis": {
           "colorbar": {
            "outlinewidth": 0,
            "ticks": ""
           }
          },
          "colorscale": {
           "diverging": [
            [
             0,
             "#8e0152"
            ],
            [
             0.1,
             "#c51b7d"
            ],
            [
             0.2,
             "#de77ae"
            ],
            [
             0.3,
             "#f1b6da"
            ],
            [
             0.4,
             "#fde0ef"
            ],
            [
             0.5,
             "#f7f7f7"
            ],
            [
             0.6,
             "#e6f5d0"
            ],
            [
             0.7,
             "#b8e186"
            ],
            [
             0.8,
             "#7fbc41"
            ],
            [
             0.9,
             "#4d9221"
            ],
            [
             1,
             "#276419"
            ]
           ],
           "sequential": [
            [
             0,
             "#0d0887"
            ],
            [
             0.1111111111111111,
             "#46039f"
            ],
            [
             0.2222222222222222,
             "#7201a8"
            ],
            [
             0.3333333333333333,
             "#9c179e"
            ],
            [
             0.4444444444444444,
             "#bd3786"
            ],
            [
             0.5555555555555556,
             "#d8576b"
            ],
            [
             0.6666666666666666,
             "#ed7953"
            ],
            [
             0.7777777777777778,
             "#fb9f3a"
            ],
            [
             0.8888888888888888,
             "#fdca26"
            ],
            [
             1,
             "#f0f921"
            ]
           ],
           "sequentialminus": [
            [
             0,
             "#0d0887"
            ],
            [
             0.1111111111111111,
             "#46039f"
            ],
            [
             0.2222222222222222,
             "#7201a8"
            ],
            [
             0.3333333333333333,
             "#9c179e"
            ],
            [
             0.4444444444444444,
             "#bd3786"
            ],
            [
             0.5555555555555556,
             "#d8576b"
            ],
            [
             0.6666666666666666,
             "#ed7953"
            ],
            [
             0.7777777777777778,
             "#fb9f3a"
            ],
            [
             0.8888888888888888,
             "#fdca26"
            ],
            [
             1,
             "#f0f921"
            ]
           ]
          },
          "colorway": [
           "#636efa",
           "#EF553B",
           "#00cc96",
           "#ab63fa",
           "#FFA15A",
           "#19d3f3",
           "#FF6692",
           "#B6E880",
           "#FF97FF",
           "#FECB52"
          ],
          "font": {
           "color": "#2a3f5f"
          },
          "geo": {
           "bgcolor": "white",
           "lakecolor": "white",
           "landcolor": "#E5ECF6",
           "showlakes": true,
           "showland": true,
           "subunitcolor": "white"
          },
          "hoverlabel": {
           "align": "left"
          },
          "hovermode": "closest",
          "mapbox": {
           "style": "light"
          },
          "paper_bgcolor": "white",
          "plot_bgcolor": "#E5ECF6",
          "polar": {
           "angularaxis": {
            "gridcolor": "white",
            "linecolor": "white",
            "ticks": ""
           },
           "bgcolor": "#E5ECF6",
           "radialaxis": {
            "gridcolor": "white",
            "linecolor": "white",
            "ticks": ""
           }
          },
          "scene": {
           "xaxis": {
            "backgroundcolor": "#E5ECF6",
            "gridcolor": "white",
            "gridwidth": 2,
            "linecolor": "white",
            "showbackground": true,
            "ticks": "",
            "zerolinecolor": "white"
           },
           "yaxis": {
            "backgroundcolor": "#E5ECF6",
            "gridcolor": "white",
            "gridwidth": 2,
            "linecolor": "white",
            "showbackground": true,
            "ticks": "",
            "zerolinecolor": "white"
           },
           "zaxis": {
            "backgroundcolor": "#E5ECF6",
            "gridcolor": "white",
            "gridwidth": 2,
            "linecolor": "white",
            "showbackground": true,
            "ticks": "",
            "zerolinecolor": "white"
           }
          },
          "shapedefaults": {
           "line": {
            "color": "#2a3f5f"
           }
          },
          "ternary": {
           "aaxis": {
            "gridcolor": "white",
            "linecolor": "white",
            "ticks": ""
           },
           "baxis": {
            "gridcolor": "white",
            "linecolor": "white",
            "ticks": ""
           },
           "bgcolor": "#E5ECF6",
           "caxis": {
            "gridcolor": "white",
            "linecolor": "white",
            "ticks": ""
           }
          },
          "title": {
           "x": 0.05
          },
          "xaxis": {
           "automargin": true,
           "gridcolor": "white",
           "linecolor": "white",
           "ticks": "",
           "title": {
            "standoff": 15
           },
           "zerolinecolor": "white",
           "zerolinewidth": 2
          },
          "yaxis": {
           "automargin": true,
           "gridcolor": "white",
           "linecolor": "white",
           "ticks": "",
           "title": {
            "standoff": 15
           },
           "zerolinecolor": "white",
           "zerolinewidth": 2
          }
         }
        },
        "title": {
         "text": "Salary Distribution in EU for Top-3 Roles"
        },
        "xaxis": {
         "anchor": "y",
         "domain": [
          0,
          1
         ],
         "title": {
          "text": "Job Title"
         }
        },
        "yaxis": {
         "anchor": "x",
         "domain": [
          0,
          1
         ],
         "title": {
          "text": "Monthly Salary (EUR)"
         }
        }
       }
      }
     },
     "metadata": {},
     "output_type": "display_data"
    }
   ],
   "source": [
    "fig2 = px.box(\n",
    "    df_eu_top,\n",
    "    x='job_title_short',\n",
    "    y='salary_month_avg_eur',\n",
    "    title='Salary Distribution in EU for Top-3 Roles',\n",
    "    labels={\n",
    "        'salary_month_avg_eur': 'Monthly Salary (EUR)',\n",
    "        'job_title_short': 'Job Title'\n",
    "    }\n",
    ")\n",
    "\n",
    "fig2.update_traces(marker_color='#5DADE2', line_color='#5DADE2')\n",
    "\n",
    "# Add median labels\n",
    "medians = df_eu_top.groupby('job_title_short')['salary_month_avg_eur'].median().round(0)\n",
    "for job, med in medians.items():\n",
    "    fig2.add_annotation(\n",
    "        x=job,\n",
    "        y=med,\n",
    "        text=f\"Median: €{med:,.0f}\",\n",
    "        showarrow=False,\n",
    "        font=dict(size=12),\n",
    "        yshift=10\n",
    "    )\n",
    "\n",
    "fig2.update_layout(showlegend=False)\n",
    "fig2.show()"
   ]
  },
  {
   "cell_type": "code",
   "execution_count": 15,
   "id": "e75797ee",
   "metadata": {},
   "outputs": [],
   "source": [
    "# Manual mapping: job_country → ISO-3\n",
    "country_iso_map = {\n",
    "    'Germany': 'DEU', 'France': 'FRA', 'Spain': 'ESP', 'Italy': 'ITA',\n",
    "    'Netherlands': 'NLD', 'Poland': 'POL', 'Sweden': 'SWE', 'Ireland': 'IRL',\n",
    "    'Belgium': 'BEL', 'Austria': 'AUT', 'Finland': 'FIN', 'Portugal': 'PRT',\n",
    "    'Denmark': 'DNK', 'Czech Republic': 'CZE', 'Hungary': 'HUN', 'Romania': 'ROU',\n",
    "    'Greece': 'GRC', 'Croatia': 'HRV', 'Slovakia': 'SVK', 'Slovenia': 'SVN',\n",
    "    'Bulgaria': 'BGR', 'Lithuania': 'LTU', 'Latvia': 'LVA', 'Estonia': 'EST',\n",
    "    'Luxembourg': 'LUX', 'Malta': 'MLT', 'Cyprus': 'CYP'\n",
    "}\n",
    "\n",
    "# Group by job_country and job_title_short, then get median salary\n",
    "df_map = df_eu_top.groupby(['job_country', 'job_title_short'])['salary_month_avg_eur'].median().reset_index()\n",
    "\n",
    "# Map ISO-3 codes\n",
    "df_map['iso_alpha'] = df_map['job_country'].map(country_iso_map)\n",
    "\n",
    "# Drop rows without ISO codes (non-EU or unmapped)\n",
    "df_map = df_map.dropna(subset=['iso_alpha'])"
   ]
  },
  {
   "cell_type": "code",
   "execution_count": 10,
   "id": "1e19d1ac",
   "metadata": {},
   "outputs": [
    {
     "data": {
      "application/vnd.plotly.v1+json": {
       "config": {
        "plotlyServerURL": "https://plot.ly"
       },
       "data": [
        {
         "colorbar": {
          "title": {
           "text": "EUR"
          }
         },
         "colorscale": [
          [
           0,
           "rgb(247,251,255)"
          ],
          [
           0.125,
           "rgb(222,235,247)"
          ],
          [
           0.25,
           "rgb(198,219,239)"
          ],
          [
           0.375,
           "rgb(158,202,225)"
          ],
          [
           0.5,
           "rgb(107,174,214)"
          ],
          [
           0.625,
           "rgb(66,146,198)"
          ],
          [
           0.75,
           "rgb(33,113,181)"
          ],
          [
           0.875,
           "rgb(8,81,156)"
          ],
          [
           1,
           "rgb(8,48,107)"
          ]
         ],
         "locationmode": "ISO-3",
         "locations": [
          "AUT",
          "BEL",
          "BGR",
          "HRV",
          "CYP",
          "DNK",
          "EST",
          "FIN",
          "FRA",
          "DEU",
          "GRC",
          "HUN",
          "IRL",
          "ITA",
          "LVA",
          "LTU",
          "LUX",
          "MLT",
          "NLD",
          "POL",
          "PRT",
          "ROU",
          "ESP",
          "SWE"
         ],
         "name": "Data Analyst",
         "text": [
          "Austria",
          "Belgium",
          "Bulgaria",
          "Croatia",
          "Cyprus",
          "Denmark",
          "Estonia",
          "Finland",
          "France",
          "Germany",
          "Greece",
          "Hungary",
          "Ireland",
          "Italy",
          "Latvia",
          "Lithuania",
          "Luxembourg",
          "Malta",
          "Netherlands",
          "Poland",
          "Portugal",
          "Romania",
          "Spain",
          "Sweden"
         ],
         "type": "choropleth",
         "visible": true,
         "z": {
          "bdata": "cD0K12Mut0BSuB6FK1q2QAAAAABAv71A4XoUrsdBsECPwvUo3ECtQD0K16Pwi7lA4XoUrsdBsEApXI/CtUq+QLgehetx1bNAAAAAAEC/vUDMzMzMTIe8QHE9CtdjLrdAZmZmZuY9vEApXI/CdWauQOF6FK7HQbBAMzMzM7PQvECkcD0K14OwQAAAAACAY71Aj8L1KLzoukA9Ctej8Iu5QD0K16Pwi7lAj8L1KNzmtECPwvUoHF+6QClcj8K1Sr5A",
          "dtype": "f8"
         },
         "zmax": 14019.4,
         "zmin": 3744.43
        },
        {
         "colorbar": {
          "title": {
           "text": "EUR"
          }
         },
         "colorscale": [
          [
           0,
           "rgb(247,251,255)"
          ],
          [
           0.125,
           "rgb(222,235,247)"
          ],
          [
           0.25,
           "rgb(198,219,239)"
          ],
          [
           0.375,
           "rgb(158,202,225)"
          ],
          [
           0.5,
           "rgb(107,174,214)"
          ],
          [
           0.625,
           "rgb(66,146,198)"
          ],
          [
           0.75,
           "rgb(33,113,181)"
          ],
          [
           0.875,
           "rgb(8,81,156)"
          ],
          [
           1,
           "rgb(8,48,107)"
          ]
         ],
         "locationmode": "ISO-3",
         "locations": [
          "AUT",
          "BEL",
          "BGR",
          "HRV",
          "CYP",
          "DNK",
          "EST",
          "FIN",
          "FRA",
          "DEU",
          "GRC",
          "HUN",
          "IRL",
          "ITA",
          "LVA",
          "LTU",
          "LUX",
          "MLT",
          "NLD",
          "POL",
          "PRT",
          "ROU",
          "SVK",
          "SVN",
          "ESP",
          "SWE"
         ],
         "name": "Data Engineer",
         "text": [
          "Austria",
          "Belgium",
          "Bulgaria",
          "Croatia",
          "Cyprus",
          "Denmark",
          "Estonia",
          "Finland",
          "France",
          "Germany",
          "Greece",
          "Hungary",
          "Ireland",
          "Italy",
          "Latvia",
          "Lithuania",
          "Luxembourg",
          "Malta",
          "Netherlands",
          "Poland",
          "Portugal",
          "Romania",
          "Slovakia",
          "Slovenia",
          "Spain",
          "Sweden"
         ],
         "type": "choropleth",
         "visible": false,
         "z": {
          "bdata": "AAAAAEAlxUCuR+F6VC+8QFyPwvV4yMRAcT0K18PXu0CamZmZGRHDQFyPwvVogsFAAAAAAKBOwEBxPQrXI7+7QK5H4XpUL7xAAAAAAEAlxUBxPQrXI7+7QAAAAABAJcVAAAAAAEAlxUBxPQrXY/C7QHE9Ctcjv7tAXI/C9WiCwUA9Ctej8Iu5QHE9CtdjLrdAcT0K12Pwu0AzMzMzcyPDQEjhehR+CMJASOF6FC4PvEAAAAAAQCXFQOxRuB5FqrZAmpmZmRkRw0CQwvUoDDHDQA==",
          "dtype": "f8"
         },
         "zmax": 14019.4,
         "zmin": 3744.43
        },
        {
         "colorbar": {
          "title": {
           "text": "EUR"
          }
         },
         "colorscale": [
          [
           0,
           "rgb(247,251,255)"
          ],
          [
           0.125,
           "rgb(222,235,247)"
          ],
          [
           0.25,
           "rgb(198,219,239)"
          ],
          [
           0.375,
           "rgb(158,202,225)"
          ],
          [
           0.5,
           "rgb(107,174,214)"
          ],
          [
           0.625,
           "rgb(66,146,198)"
          ],
          [
           0.75,
           "rgb(33,113,181)"
          ],
          [
           0.875,
           "rgb(8,81,156)"
          ],
          [
           1,
           "rgb(8,48,107)"
          ]
         ],
         "locationmode": "ISO-3",
         "locations": [
          "AUT",
          "BEL",
          "BGR",
          "HRV",
          "CYP",
          "DNK",
          "EST",
          "FIN",
          "FRA",
          "DEU",
          "GRC",
          "HUN",
          "IRL",
          "ITA",
          "LTU",
          "LUX",
          "NLD",
          "POL",
          "PRT",
          "ROU",
          "SVK",
          "ESP",
          "SWE"
         ],
         "name": "Data Scientist",
         "text": [
          "Austria",
          "Belgium",
          "Bulgaria",
          "Croatia",
          "Cyprus",
          "Denmark",
          "Estonia",
          "Finland",
          "France",
          "Germany",
          "Greece",
          "Hungary",
          "Ireland",
          "Italy",
          "Lithuania",
          "Luxembourg",
          "Netherlands",
          "Poland",
          "Portugal",
          "Romania",
          "Slovakia",
          "Spain",
          "Sweden"
         ],
         "type": "choropleth",
         "visible": false,
         "z": {
          "bdata": "FK5H4bpttECPwvUoHK3BQM3MzMyMJblAZmZmZkabwUAzMzMzs2HLQM3MzMxMZb9AMzMzM1NzwECamZmZ2YbAQJqZmZmZRLlAAAAAAEDcwkDC9Shcj8W5QD0K16Pwi7lAHoXrUXhCvUDsUbgeRWi5QAAAAABgZsZAAAAAAECUxkAAAAAAQJTGQOxRuB6F58JAAAAAAMDcxUAzMzMzs1jBQAAAAACgvcFAmpmZmZlEuUAAAAAAQJTGQA==",
          "dtype": "f8"
         },
         "zmax": 14019.4,
         "zmin": 3744.43
        }
       ],
       "layout": {
        "geo": {
         "projection": {
          "type": "natural earth"
         },
         "scope": "europe",
         "showcoastlines": false,
         "showframe": false
        },
        "height": 600,
        "template": {
         "data": {
          "bar": [
           {
            "error_x": {
             "color": "#2a3f5f"
            },
            "error_y": {
             "color": "#2a3f5f"
            },
            "marker": {
             "line": {
              "color": "#E5ECF6",
              "width": 0.5
             },
             "pattern": {
              "fillmode": "overlay",
              "size": 10,
              "solidity": 0.2
             }
            },
            "type": "bar"
           }
          ],
          "barpolar": [
           {
            "marker": {
             "line": {
              "color": "#E5ECF6",
              "width": 0.5
             },
             "pattern": {
              "fillmode": "overlay",
              "size": 10,
              "solidity": 0.2
             }
            },
            "type": "barpolar"
           }
          ],
          "carpet": [
           {
            "aaxis": {
             "endlinecolor": "#2a3f5f",
             "gridcolor": "white",
             "linecolor": "white",
             "minorgridcolor": "white",
             "startlinecolor": "#2a3f5f"
            },
            "baxis": {
             "endlinecolor": "#2a3f5f",
             "gridcolor": "white",
             "linecolor": "white",
             "minorgridcolor": "white",
             "startlinecolor": "#2a3f5f"
            },
            "type": "carpet"
           }
          ],
          "choropleth": [
           {
            "colorbar": {
             "outlinewidth": 0,
             "ticks": ""
            },
            "type": "choropleth"
           }
          ],
          "contour": [
           {
            "colorbar": {
             "outlinewidth": 0,
             "ticks": ""
            },
            "colorscale": [
             [
              0,
              "#0d0887"
             ],
             [
              0.1111111111111111,
              "#46039f"
             ],
             [
              0.2222222222222222,
              "#7201a8"
             ],
             [
              0.3333333333333333,
              "#9c179e"
             ],
             [
              0.4444444444444444,
              "#bd3786"
             ],
             [
              0.5555555555555556,
              "#d8576b"
             ],
             [
              0.6666666666666666,
              "#ed7953"
             ],
             [
              0.7777777777777778,
              "#fb9f3a"
             ],
             [
              0.8888888888888888,
              "#fdca26"
             ],
             [
              1,
              "#f0f921"
             ]
            ],
            "type": "contour"
           }
          ],
          "contourcarpet": [
           {
            "colorbar": {
             "outlinewidth": 0,
             "ticks": ""
            },
            "type": "contourcarpet"
           }
          ],
          "heatmap": [
           {
            "colorbar": {
             "outlinewidth": 0,
             "ticks": ""
            },
            "colorscale": [
             [
              0,
              "#0d0887"
             ],
             [
              0.1111111111111111,
              "#46039f"
             ],
             [
              0.2222222222222222,
              "#7201a8"
             ],
             [
              0.3333333333333333,
              "#9c179e"
             ],
             [
              0.4444444444444444,
              "#bd3786"
             ],
             [
              0.5555555555555556,
              "#d8576b"
             ],
             [
              0.6666666666666666,
              "#ed7953"
             ],
             [
              0.7777777777777778,
              "#fb9f3a"
             ],
             [
              0.8888888888888888,
              "#fdca26"
             ],
             [
              1,
              "#f0f921"
             ]
            ],
            "type": "heatmap"
           }
          ],
          "histogram": [
           {
            "marker": {
             "pattern": {
              "fillmode": "overlay",
              "size": 10,
              "solidity": 0.2
             }
            },
            "type": "histogram"
           }
          ],
          "histogram2d": [
           {
            "colorbar": {
             "outlinewidth": 0,
             "ticks": ""
            },
            "colorscale": [
             [
              0,
              "#0d0887"
             ],
             [
              0.1111111111111111,
              "#46039f"
             ],
             [
              0.2222222222222222,
              "#7201a8"
             ],
             [
              0.3333333333333333,
              "#9c179e"
             ],
             [
              0.4444444444444444,
              "#bd3786"
             ],
             [
              0.5555555555555556,
              "#d8576b"
             ],
             [
              0.6666666666666666,
              "#ed7953"
             ],
             [
              0.7777777777777778,
              "#fb9f3a"
             ],
             [
              0.8888888888888888,
              "#fdca26"
             ],
             [
              1,
              "#f0f921"
             ]
            ],
            "type": "histogram2d"
           }
          ],
          "histogram2dcontour": [
           {
            "colorbar": {
             "outlinewidth": 0,
             "ticks": ""
            },
            "colorscale": [
             [
              0,
              "#0d0887"
             ],
             [
              0.1111111111111111,
              "#46039f"
             ],
             [
              0.2222222222222222,
              "#7201a8"
             ],
             [
              0.3333333333333333,
              "#9c179e"
             ],
             [
              0.4444444444444444,
              "#bd3786"
             ],
             [
              0.5555555555555556,
              "#d8576b"
             ],
             [
              0.6666666666666666,
              "#ed7953"
             ],
             [
              0.7777777777777778,
              "#fb9f3a"
             ],
             [
              0.8888888888888888,
              "#fdca26"
             ],
             [
              1,
              "#f0f921"
             ]
            ],
            "type": "histogram2dcontour"
           }
          ],
          "mesh3d": [
           {
            "colorbar": {
             "outlinewidth": 0,
             "ticks": ""
            },
            "type": "mesh3d"
           }
          ],
          "parcoords": [
           {
            "line": {
             "colorbar": {
              "outlinewidth": 0,
              "ticks": ""
             }
            },
            "type": "parcoords"
           }
          ],
          "pie": [
           {
            "automargin": true,
            "type": "pie"
           }
          ],
          "scatter": [
           {
            "fillpattern": {
             "fillmode": "overlay",
             "size": 10,
             "solidity": 0.2
            },
            "type": "scatter"
           }
          ],
          "scatter3d": [
           {
            "line": {
             "colorbar": {
              "outlinewidth": 0,
              "ticks": ""
             }
            },
            "marker": {
             "colorbar": {
              "outlinewidth": 0,
              "ticks": ""
             }
            },
            "type": "scatter3d"
           }
          ],
          "scattercarpet": [
           {
            "marker": {
             "colorbar": {
              "outlinewidth": 0,
              "ticks": ""
             }
            },
            "type": "scattercarpet"
           }
          ],
          "scattergeo": [
           {
            "marker": {
             "colorbar": {
              "outlinewidth": 0,
              "ticks": ""
             }
            },
            "type": "scattergeo"
           }
          ],
          "scattergl": [
           {
            "marker": {
             "colorbar": {
              "outlinewidth": 0,
              "ticks": ""
             }
            },
            "type": "scattergl"
           }
          ],
          "scattermap": [
           {
            "marker": {
             "colorbar": {
              "outlinewidth": 0,
              "ticks": ""
             }
            },
            "type": "scattermap"
           }
          ],
          "scattermapbox": [
           {
            "marker": {
             "colorbar": {
              "outlinewidth": 0,
              "ticks": ""
             }
            },
            "type": "scattermapbox"
           }
          ],
          "scatterpolar": [
           {
            "marker": {
             "colorbar": {
              "outlinewidth": 0,
              "ticks": ""
             }
            },
            "type": "scatterpolar"
           }
          ],
          "scatterpolargl": [
           {
            "marker": {
             "colorbar": {
              "outlinewidth": 0,
              "ticks": ""
             }
            },
            "type": "scatterpolargl"
           }
          ],
          "scatterternary": [
           {
            "marker": {
             "colorbar": {
              "outlinewidth": 0,
              "ticks": ""
             }
            },
            "type": "scatterternary"
           }
          ],
          "surface": [
           {
            "colorbar": {
             "outlinewidth": 0,
             "ticks": ""
            },
            "colorscale": [
             [
              0,
              "#0d0887"
             ],
             [
              0.1111111111111111,
              "#46039f"
             ],
             [
              0.2222222222222222,
              "#7201a8"
             ],
             [
              0.3333333333333333,
              "#9c179e"
             ],
             [
              0.4444444444444444,
              "#bd3786"
             ],
             [
              0.5555555555555556,
              "#d8576b"
             ],
             [
              0.6666666666666666,
              "#ed7953"
             ],
             [
              0.7777777777777778,
              "#fb9f3a"
             ],
             [
              0.8888888888888888,
              "#fdca26"
             ],
             [
              1,
              "#f0f921"
             ]
            ],
            "type": "surface"
           }
          ],
          "table": [
           {
            "cells": {
             "fill": {
              "color": "#EBF0F8"
             },
             "line": {
              "color": "white"
             }
            },
            "header": {
             "fill": {
              "color": "#C8D4E3"
             },
             "line": {
              "color": "white"
             }
            },
            "type": "table"
           }
          ]
         },
         "layout": {
          "annotationdefaults": {
           "arrowcolor": "#2a3f5f",
           "arrowhead": 0,
           "arrowwidth": 1
          },
          "autotypenumbers": "strict",
          "coloraxis": {
           "colorbar": {
            "outlinewidth": 0,
            "ticks": ""
           }
          },
          "colorscale": {
           "diverging": [
            [
             0,
             "#8e0152"
            ],
            [
             0.1,
             "#c51b7d"
            ],
            [
             0.2,
             "#de77ae"
            ],
            [
             0.3,
             "#f1b6da"
            ],
            [
             0.4,
             "#fde0ef"
            ],
            [
             0.5,
             "#f7f7f7"
            ],
            [
             0.6,
             "#e6f5d0"
            ],
            [
             0.7,
             "#b8e186"
            ],
            [
             0.8,
             "#7fbc41"
            ],
            [
             0.9,
             "#4d9221"
            ],
            [
             1,
             "#276419"
            ]
           ],
           "sequential": [
            [
             0,
             "#0d0887"
            ],
            [
             0.1111111111111111,
             "#46039f"
            ],
            [
             0.2222222222222222,
             "#7201a8"
            ],
            [
             0.3333333333333333,
             "#9c179e"
            ],
            [
             0.4444444444444444,
             "#bd3786"
            ],
            [
             0.5555555555555556,
             "#d8576b"
            ],
            [
             0.6666666666666666,
             "#ed7953"
            ],
            [
             0.7777777777777778,
             "#fb9f3a"
            ],
            [
             0.8888888888888888,
             "#fdca26"
            ],
            [
             1,
             "#f0f921"
            ]
           ],
           "sequentialminus": [
            [
             0,
             "#0d0887"
            ],
            [
             0.1111111111111111,
             "#46039f"
            ],
            [
             0.2222222222222222,
             "#7201a8"
            ],
            [
             0.3333333333333333,
             "#9c179e"
            ],
            [
             0.4444444444444444,
             "#bd3786"
            ],
            [
             0.5555555555555556,
             "#d8576b"
            ],
            [
             0.6666666666666666,
             "#ed7953"
            ],
            [
             0.7777777777777778,
             "#fb9f3a"
            ],
            [
             0.8888888888888888,
             "#fdca26"
            ],
            [
             1,
             "#f0f921"
            ]
           ]
          },
          "colorway": [
           "#636efa",
           "#EF553B",
           "#00cc96",
           "#ab63fa",
           "#FFA15A",
           "#19d3f3",
           "#FF6692",
           "#B6E880",
           "#FF97FF",
           "#FECB52"
          ],
          "font": {
           "color": "#2a3f5f"
          },
          "geo": {
           "bgcolor": "white",
           "lakecolor": "white",
           "landcolor": "#E5ECF6",
           "showlakes": true,
           "showland": true,
           "subunitcolor": "white"
          },
          "hoverlabel": {
           "align": "left"
          },
          "hovermode": "closest",
          "mapbox": {
           "style": "light"
          },
          "paper_bgcolor": "white",
          "plot_bgcolor": "#E5ECF6",
          "polar": {
           "angularaxis": {
            "gridcolor": "white",
            "linecolor": "white",
            "ticks": ""
           },
           "bgcolor": "#E5ECF6",
           "radialaxis": {
            "gridcolor": "white",
            "linecolor": "white",
            "ticks": ""
           }
          },
          "scene": {
           "xaxis": {
            "backgroundcolor": "#E5ECF6",
            "gridcolor": "white",
            "gridwidth": 2,
            "linecolor": "white",
            "showbackground": true,
            "ticks": "",
            "zerolinecolor": "white"
           },
           "yaxis": {
            "backgroundcolor": "#E5ECF6",
            "gridcolor": "white",
            "gridwidth": 2,
            "linecolor": "white",
            "showbackground": true,
            "ticks": "",
            "zerolinecolor": "white"
           },
           "zaxis": {
            "backgroundcolor": "#E5ECF6",
            "gridcolor": "white",
            "gridwidth": 2,
            "linecolor": "white",
            "showbackground": true,
            "ticks": "",
            "zerolinecolor": "white"
           }
          },
          "shapedefaults": {
           "line": {
            "color": "#2a3f5f"
           }
          },
          "ternary": {
           "aaxis": {
            "gridcolor": "white",
            "linecolor": "white",
            "ticks": ""
           },
           "baxis": {
            "gridcolor": "white",
            "linecolor": "white",
            "ticks": ""
           },
           "bgcolor": "#E5ECF6",
           "caxis": {
            "gridcolor": "white",
            "linecolor": "white",
            "ticks": ""
           }
          },
          "title": {
           "x": 0.05
          },
          "xaxis": {
           "automargin": true,
           "gridcolor": "white",
           "linecolor": "white",
           "ticks": "",
           "title": {
            "standoff": 15
           },
           "zerolinecolor": "white",
           "zerolinewidth": 2
          },
          "yaxis": {
           "automargin": true,
           "gridcolor": "white",
           "linecolor": "white",
           "ticks": "",
           "title": {
            "standoff": 15
           },
           "zerolinecolor": "white",
           "zerolinewidth": 2
          }
         }
        },
        "title": {
         "text": "Median Monthly Salary in EU — Data Analyst",
         "x": 0.5,
         "xanchor": "center",
         "y": 0.92
        },
        "updatemenus": [
         {
          "buttons": [
           {
            "args": [
             {
              "visible": [
               true,
               false,
               false
              ]
             },
             {
              "title": "Median Monthly Salary in EU — Data Analyst"
             }
            ],
            "label": "Data Analyst",
            "method": "update"
           },
           {
            "args": [
             {
              "visible": [
               false,
               true,
               false
              ]
             },
             {
              "title": "Median Monthly Salary in EU — Data Engineer"
             }
            ],
            "label": "Data Engineer",
            "method": "update"
           },
           {
            "args": [
             {
              "visible": [
               false,
               false,
               true
              ]
             },
             {
              "title": "Median Monthly Salary in EU — Data Scientist"
             }
            ],
            "label": "Data Scientist",
            "method": "update"
           }
          ],
          "direction": "right",
          "pad": {
           "r": 10,
           "t": 10
          },
          "type": "buttons",
          "x": 0.5,
          "xanchor": "center",
          "y": 1.05,
          "yanchor": "top"
         }
        ]
       }
      }
     },
     "metadata": {},
     "output_type": "display_data"
    }
   ],
   "source": [
    "# 1. Prepare traces for each role (Data Analyst, Scientist, Engineer)\n",
    "fig = go.Figure()\n",
    "\n",
    "job_titles = df_map['job_title_short'].unique()\n",
    "\n",
    "for role in job_titles:\n",
    "    df_role = df_map[df_map['job_title_short'] == role]\n",
    "    fig.add_trace(go.Choropleth(\n",
    "        locations=df_role['iso_alpha'],\n",
    "        z=df_role['salary_month_avg_eur'],\n",
    "        text=df_role['job_country'],\n",
    "        colorscale='Blues',\n",
    "        colorbar_title='EUR',\n",
    "        zmin=df_map['salary_month_avg_eur'].min(),\n",
    "        zmax=df_map['salary_month_avg_eur'].max(),\n",
    "        visible=(role == job_titles[0]),  # show only first role initially\n",
    "        name=role,\n",
    "        locationmode='ISO-3'\n",
    "    ))\n",
    "\n",
    "# 2. Side-by-side toggle buttons\n",
    "buttons = [\n",
    "    {\n",
    "        'label': role,\n",
    "        'method': 'update',\n",
    "        'args': [\n",
    "            {'visible': [r == role for r in job_titles]},\n",
    "            {'title': f'Median Monthly Salary in EU — {role}'}\n",
    "        ]\n",
    "    }\n",
    "    for role in job_titles\n",
    "]\n",
    "\n",
    "# 3. Layout with buttons above the plot (not overlapping)\n",
    "fig.update_layout(\n",
    "    title=dict(\n",
    "        text=f'Median Monthly Salary in EU — {job_titles[0]}',\n",
    "        y=0.92,  # move title up to make space\n",
    "        x=0.5,\n",
    "        xanchor='center'\n",
    "    ),\n",
    "    geo=dict(\n",
    "        showframe=False,\n",
    "        showcoastlines=False,\n",
    "        projection_type='natural earth',\n",
    "        scope='europe'\n",
    "    ),\n",
    "    height=600,\n",
    "    updatemenus=[{\n",
    "        'type': 'buttons',\n",
    "        'buttons': buttons,\n",
    "        'direction': 'right',\n",
    "        'pad': {'r': 10, 't': 10},\n",
    "        'x': 0.5,\n",
    "        'xanchor': 'center',\n",
    "        'y': 1.05,\n",
    "        'yanchor': 'top'\n",
    "    }]\n",
    ")\n",
    "\n",
    "fig.show()"
   ]
  },
  {
   "cell_type": "code",
   "execution_count": null,
   "id": "173c255a",
   "metadata": {},
   "outputs": [],
   "source": []
  }
 ],
 "metadata": {
  "kernelspec": {
   "display_name": "python_course",
   "language": "python",
   "name": "python3"
  },
  "language_info": {
   "codemirror_mode": {
    "name": "ipython",
    "version": 3
   },
   "file_extension": ".py",
   "mimetype": "text/x-python",
   "name": "python",
   "nbconvert_exporter": "python",
   "pygments_lexer": "ipython3",
   "version": "3.11.11"
  }
 },
 "nbformat": 4,
 "nbformat_minor": 5
}
