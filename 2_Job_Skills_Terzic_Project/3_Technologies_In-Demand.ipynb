{
 "cells": [
  {
   "cell_type": "markdown",
   "id": "b8305e06",
   "metadata": {},
   "source": [
    "# What technologies should you learn to land one of the Top-3 in-demand roles?\n",
    "- Likelihood of Technologies Requested for Top-3 Data Roles in Europe\n",
    "- Number of skills requested for each of Top-3 Data Roles in Europe"
   ]
  },
  {
   "cell_type": "code",
   "execution_count": 22,
   "id": "8db2bc93",
   "metadata": {},
   "outputs": [],
   "source": [
    "import pandas as pd\n",
    "import matplotlib.pyplot as plt\n",
    "import plotly.express as px\n",
    "import seaborn as sns\n",
    "import ast\n",
    "\n",
    "from collections import Counter\n",
    "\n",
    "df = pd.read_csv('/Users/kolesnikevgenia/Documents/Python_Projects/Job_Skills/Raw_Data/df_Final.csv')"
   ]
  },
  {
   "cell_type": "code",
   "execution_count": 4,
   "id": "c4a59dbf",
   "metadata": {},
   "outputs": [
    {
     "data": {
      "text/html": [
       "<div>\n",
       "<style scoped>\n",
       "    .dataframe tbody tr th:only-of-type {\n",
       "        vertical-align: middle;\n",
       "    }\n",
       "\n",
       "    .dataframe tbody tr th {\n",
       "        vertical-align: top;\n",
       "    }\n",
       "\n",
       "    .dataframe thead th {\n",
       "        text-align: right;\n",
       "    }\n",
       "</style>\n",
       "<table border=\"1\" class=\"dataframe\">\n",
       "  <thead>\n",
       "    <tr style=\"text-align: right;\">\n",
       "      <th></th>\n",
       "      <th>technology</th>\n",
       "      <th>skills</th>\n",
       "    </tr>\n",
       "  </thead>\n",
       "  <tbody>\n",
       "    <tr>\n",
       "      <th>0</th>\n",
       "      <td>analyst_tools</td>\n",
       "      <td>visio</td>\n",
       "    </tr>\n",
       "    <tr>\n",
       "      <th>0</th>\n",
       "      <td>analyst_tools</td>\n",
       "      <td>datarobot</td>\n",
       "    </tr>\n",
       "    <tr>\n",
       "      <th>0</th>\n",
       "      <td>analyst_tools</td>\n",
       "      <td>sap</td>\n",
       "    </tr>\n",
       "    <tr>\n",
       "      <th>0</th>\n",
       "      <td>analyst_tools</td>\n",
       "      <td>ssrs</td>\n",
       "    </tr>\n",
       "    <tr>\n",
       "      <th>0</th>\n",
       "      <td>analyst_tools</td>\n",
       "      <td>ssis</td>\n",
       "    </tr>\n",
       "  </tbody>\n",
       "</table>\n",
       "</div>"
      ],
      "text/plain": [
       "      technology     skills\n",
       "0  analyst_tools      visio\n",
       "0  analyst_tools  datarobot\n",
       "0  analyst_tools        sap\n",
       "0  analyst_tools       ssrs\n",
       "0  analyst_tools       ssis"
      ]
     },
     "execution_count": 4,
     "metadata": {},
     "output_type": "execute_result"
    }
   ],
   "source": [
    "df_technology = df['job_type_skills'].copy()\n",
    "\n",
    "df_technology = df_technology.drop_duplicates()\n",
    "df_technology = df_technology.dropna()\n",
    "\n",
    "#combine all dictionaries into one\n",
    "technology_dict = {}\n",
    "for row in df_technology:\n",
    "    row_dict = ast.literal_eval(row)\n",
    "    for key, value in row_dict.items():\n",
    "        if key in technology_dict:\n",
    "            technology_dict[key] += value\n",
    "        else:\n",
    "            technology_dict[key] = value\n",
    "\n",
    "#remove duplicates by converting values to set then back to list\n",
    "for key, value in technology_dict.items():\n",
    "    technology_dict[key] = list(set(value))\n",
    "\n",
    "df_technology = pd.DataFrame(list(technology_dict.items()), columns=['technology', 'skills'])\n",
    "\n",
    "df_technology = df_technology.explode('skills')\n",
    "df_technology.head(5)"
   ]
  },
  {
   "cell_type": "code",
   "execution_count": 5,
   "id": "07563746",
   "metadata": {},
   "outputs": [
    {
     "data": {
      "text/html": [
       "<div>\n",
       "<style scoped>\n",
       "    .dataframe tbody tr th:only-of-type {\n",
       "        vertical-align: middle;\n",
       "    }\n",
       "\n",
       "    .dataframe tbody tr th {\n",
       "        vertical-align: top;\n",
       "    }\n",
       "\n",
       "    .dataframe thead th {\n",
       "        text-align: right;\n",
       "    }\n",
       "</style>\n",
       "<table border=\"1\" class=\"dataframe\">\n",
       "  <thead>\n",
       "    <tr style=\"text-align: right;\">\n",
       "      <th></th>\n",
       "      <th>job_title_short</th>\n",
       "      <th>job_title</th>\n",
       "      <th>job_location</th>\n",
       "      <th>job_via</th>\n",
       "      <th>job_schedule_type</th>\n",
       "      <th>job_work_from_home</th>\n",
       "      <th>search_location</th>\n",
       "      <th>job_posted_date</th>\n",
       "      <th>job_no_degree_mention</th>\n",
       "      <th>job_health_insurance</th>\n",
       "      <th>...</th>\n",
       "      <th>company_name</th>\n",
       "      <th>job_skills</th>\n",
       "      <th>job_type_skills</th>\n",
       "      <th>salary_year_avg_eur</th>\n",
       "      <th>salary_month_avg_eur</th>\n",
       "      <th>country</th>\n",
       "      <th>is_eu</th>\n",
       "      <th>region_group</th>\n",
       "      <th>technology</th>\n",
       "      <th>skills</th>\n",
       "    </tr>\n",
       "  </thead>\n",
       "  <tbody>\n",
       "    <tr>\n",
       "      <th>0</th>\n",
       "      <td>Data Scientist</td>\n",
       "      <td>CRM Data Specialist</td>\n",
       "      <td>San José Province, San José, Costa Rica</td>\n",
       "      <td>via Ai-Jobs.net</td>\n",
       "      <td>Full-time</td>\n",
       "      <td>False</td>\n",
       "      <td>Costa Rica</td>\n",
       "      <td>2023-08-01 13:37:57</td>\n",
       "      <td>False</td>\n",
       "      <td>False</td>\n",
       "      <td>...</td>\n",
       "      <td>Netskope</td>\n",
       "      <td>gdpr</td>\n",
       "      <td>{'analyst_tools': ['excel'], 'libraries': ['gd...</td>\n",
       "      <td>96447.6</td>\n",
       "      <td>8037.3</td>\n",
       "      <td>NaN</td>\n",
       "      <td>False</td>\n",
       "      <td>Other</td>\n",
       "      <td>libraries</td>\n",
       "      <td>gdpr</td>\n",
       "    </tr>\n",
       "    <tr>\n",
       "      <th>1</th>\n",
       "      <td>Data Scientist</td>\n",
       "      <td>CRM Data Specialist</td>\n",
       "      <td>San José Province, San José, Costa Rica</td>\n",
       "      <td>via Ai-Jobs.net</td>\n",
       "      <td>Full-time</td>\n",
       "      <td>False</td>\n",
       "      <td>Costa Rica</td>\n",
       "      <td>2023-08-01 13:37:57</td>\n",
       "      <td>False</td>\n",
       "      <td>False</td>\n",
       "      <td>...</td>\n",
       "      <td>Netskope</td>\n",
       "      <td>excel</td>\n",
       "      <td>{'analyst_tools': ['excel'], 'libraries': ['gd...</td>\n",
       "      <td>96447.6</td>\n",
       "      <td>8037.3</td>\n",
       "      <td>NaN</td>\n",
       "      <td>False</td>\n",
       "      <td>Other</td>\n",
       "      <td>analyst_tools</td>\n",
       "      <td>excel</td>\n",
       "    </tr>\n",
       "    <tr>\n",
       "      <th>2</th>\n",
       "      <td>Data Engineer</td>\n",
       "      <td>Data Engineer</td>\n",
       "      <td>Arlington, VA</td>\n",
       "      <td>via LinkedIn</td>\n",
       "      <td>Full-time</td>\n",
       "      <td>False</td>\n",
       "      <td>Sudan</td>\n",
       "      <td>2023-06-26 14:22:54</td>\n",
       "      <td>False</td>\n",
       "      <td>False</td>\n",
       "      <td>...</td>\n",
       "      <td>Intelletec</td>\n",
       "      <td>mongodb</td>\n",
       "      <td>{'analyst_tools': ['tableau'], 'cloud': ['orac...</td>\n",
       "      <td>123312.0</td>\n",
       "      <td>10276.0</td>\n",
       "      <td>NaN</td>\n",
       "      <td>False</td>\n",
       "      <td>Other</td>\n",
       "      <td>databases</td>\n",
       "      <td>mongodb</td>\n",
       "    </tr>\n",
       "    <tr>\n",
       "      <th>3</th>\n",
       "      <td>Data Engineer</td>\n",
       "      <td>Data Engineer</td>\n",
       "      <td>Arlington, VA</td>\n",
       "      <td>via LinkedIn</td>\n",
       "      <td>Full-time</td>\n",
       "      <td>False</td>\n",
       "      <td>Sudan</td>\n",
       "      <td>2023-06-26 14:22:54</td>\n",
       "      <td>False</td>\n",
       "      <td>False</td>\n",
       "      <td>...</td>\n",
       "      <td>Intelletec</td>\n",
       "      <td>mongodb</td>\n",
       "      <td>{'analyst_tools': ['tableau'], 'cloud': ['orac...</td>\n",
       "      <td>123312.0</td>\n",
       "      <td>10276.0</td>\n",
       "      <td>NaN</td>\n",
       "      <td>False</td>\n",
       "      <td>Other</td>\n",
       "      <td>programming</td>\n",
       "      <td>mongodb</td>\n",
       "    </tr>\n",
       "    <tr>\n",
       "      <th>4</th>\n",
       "      <td>Data Engineer</td>\n",
       "      <td>Data Engineer</td>\n",
       "      <td>Arlington, VA</td>\n",
       "      <td>via LinkedIn</td>\n",
       "      <td>Full-time</td>\n",
       "      <td>False</td>\n",
       "      <td>Sudan</td>\n",
       "      <td>2023-06-26 14:22:54</td>\n",
       "      <td>False</td>\n",
       "      <td>False</td>\n",
       "      <td>...</td>\n",
       "      <td>Intelletec</td>\n",
       "      <td>mongodb</td>\n",
       "      <td>{'analyst_tools': ['tableau'], 'cloud': ['orac...</td>\n",
       "      <td>123312.0</td>\n",
       "      <td>10276.0</td>\n",
       "      <td>NaN</td>\n",
       "      <td>False</td>\n",
       "      <td>Other</td>\n",
       "      <td>databases</td>\n",
       "      <td>mongodb</td>\n",
       "    </tr>\n",
       "  </tbody>\n",
       "</table>\n",
       "<p>5 rows × 22 columns</p>\n",
       "</div>"
      ],
      "text/plain": [
       "  job_title_short            job_title  \\\n",
       "0  Data Scientist  CRM Data Specialist   \n",
       "1  Data Scientist  CRM Data Specialist   \n",
       "2   Data Engineer        Data Engineer   \n",
       "3   Data Engineer        Data Engineer   \n",
       "4   Data Engineer        Data Engineer   \n",
       "\n",
       "                              job_location          job_via job_schedule_type  \\\n",
       "0  San José Province, San José, Costa Rica  via Ai-Jobs.net         Full-time   \n",
       "1  San José Province, San José, Costa Rica  via Ai-Jobs.net         Full-time   \n",
       "2                            Arlington, VA     via LinkedIn         Full-time   \n",
       "3                            Arlington, VA     via LinkedIn         Full-time   \n",
       "4                            Arlington, VA     via LinkedIn         Full-time   \n",
       "\n",
       "   job_work_from_home search_location      job_posted_date  \\\n",
       "0               False      Costa Rica  2023-08-01 13:37:57   \n",
       "1               False      Costa Rica  2023-08-01 13:37:57   \n",
       "2               False           Sudan  2023-06-26 14:22:54   \n",
       "3               False           Sudan  2023-06-26 14:22:54   \n",
       "4               False           Sudan  2023-06-26 14:22:54   \n",
       "\n",
       "   job_no_degree_mention  job_health_insurance  ... company_name job_skills  \\\n",
       "0                  False                 False  ...     Netskope       gdpr   \n",
       "1                  False                 False  ...     Netskope      excel   \n",
       "2                  False                 False  ...   Intelletec    mongodb   \n",
       "3                  False                 False  ...   Intelletec    mongodb   \n",
       "4                  False                 False  ...   Intelletec    mongodb   \n",
       "\n",
       "                                     job_type_skills salary_year_avg_eur  \\\n",
       "0  {'analyst_tools': ['excel'], 'libraries': ['gd...             96447.6   \n",
       "1  {'analyst_tools': ['excel'], 'libraries': ['gd...             96447.6   \n",
       "2  {'analyst_tools': ['tableau'], 'cloud': ['orac...            123312.0   \n",
       "3  {'analyst_tools': ['tableau'], 'cloud': ['orac...            123312.0   \n",
       "4  {'analyst_tools': ['tableau'], 'cloud': ['orac...            123312.0   \n",
       "\n",
       "  salary_month_avg_eur  country  is_eu region_group     technology   skills  \n",
       "0               8037.3      NaN  False        Other      libraries     gdpr  \n",
       "1               8037.3      NaN  False        Other  analyst_tools    excel  \n",
       "2              10276.0      NaN  False        Other      databases  mongodb  \n",
       "3              10276.0      NaN  False        Other    programming  mongodb  \n",
       "4              10276.0      NaN  False        Other      databases  mongodb  \n",
       "\n",
       "[5 rows x 22 columns]"
      ]
     },
     "execution_count": 5,
     "metadata": {},
     "output_type": "execute_result"
    }
   ],
   "source": [
    "df_dropna = df.dropna(subset=['job_skills']).copy()\n",
    "df_dropna['job_skills'] = df_dropna['job_skills'].apply(ast.literal_eval)\n",
    "df_exploded = df_dropna.explode('job_skills')\n",
    "df_plot = df_exploded.merge(df_technology, left_on='job_skills', right_on='skills').copy()\n",
    "df_plot.head(5)"
   ]
  },
  {
   "cell_type": "code",
   "execution_count": 25,
   "id": "7568f5ec",
   "metadata": {},
   "outputs": [
    {
     "data": {
      "application/vnd.plotly.v1+json": {
       "config": {
        "plotlyServerURL": "https://plot.ly"
       },
       "data": [
        {
         "hovertemplate": "=%{x}<br>job_title_short=Data Analyst<br>Percentage of Job Postings=%{y}<br>percentage_label=%{text}<extra></extra>",
         "legendgroup": "programming",
         "marker": {
          "color": "rgb(247,251,255)",
          "pattern": {
           "shape": ""
          }
         },
         "name": "programming",
         "orientation": "v",
         "showlegend": true,
         "text": [
          "39%"
         ],
         "textposition": "outside",
         "type": "bar",
         "x": [
          "programming"
         ],
         "xaxis": "x",
         "y": {
          "bdata": "sp+6qgev2D8=",
          "dtype": "f8"
         },
         "yaxis": "y"
        },
        {
         "hovertemplate": "=%{x}<br>job_title_short=Data Scientist<br>Percentage of Job Postings=%{y}<br>percentage_label=%{text}<extra></extra>",
         "legendgroup": "programming",
         "marker": {
          "color": "rgb(247,251,255)",
          "pattern": {
           "shape": ""
          }
         },
         "name": "programming",
         "orientation": "v",
         "showlegend": false,
         "text": [
          "40%"
         ],
         "textposition": "outside",
         "type": "bar",
         "x": [
          "programming"
         ],
         "xaxis": "x2",
         "y": {
          "bdata": "jqh6Zltf2T8=",
          "dtype": "f8"
         },
         "yaxis": "y2"
        },
        {
         "hovertemplate": "=%{x}<br>job_title_short=Data Engineer<br>Percentage of Job Postings=%{y}<br>percentage_label=%{text}<extra></extra>",
         "legendgroup": "programming",
         "marker": {
          "color": "rgb(247,251,255)",
          "pattern": {
           "shape": ""
          }
         },
         "name": "programming",
         "orientation": "v",
         "showlegend": false,
         "text": [
          "34%"
         ],
         "textposition": "outside",
         "type": "bar",
         "x": [
          "programming"
         ],
         "xaxis": "x3",
         "y": {
          "bdata": "tqs7ZoLN1T8=",
          "dtype": "f8"
         },
         "yaxis": "y3"
        },
        {
         "hovertemplate": "=%{x}<br>job_title_short=Data Analyst<br>Percentage of Job Postings=%{y}<br>percentage_label=%{text}<extra></extra>",
         "legendgroup": "analyst_tools",
         "marker": {
          "color": "rgb(222,235,247)",
          "pattern": {
           "shape": ""
          }
         },
         "name": "analyst_tools",
         "orientation": "v",
         "showlegend": true,
         "text": [
          "31%"
         ],
         "textposition": "outside",
         "type": "bar",
         "x": [
          "analyst_tools"
         ],
         "xaxis": "x",
         "y": {
          "bdata": "e0y/6U7q0z8=",
          "dtype": "f8"
         },
         "yaxis": "y"
        },
        {
         "hovertemplate": "=%{x}<br>job_title_short=Data Scientist<br>Percentage of Job Postings=%{y}<br>percentage_label=%{text}<extra></extra>",
         "legendgroup": "analyst_tools",
         "marker": {
          "color": "rgb(222,235,247)",
          "pattern": {
           "shape": ""
          }
         },
         "name": "analyst_tools",
         "orientation": "v",
         "showlegend": false,
         "text": [
          "13%"
         ],
         "textposition": "outside",
         "type": "bar",
         "x": [
          "analyst_tools"
         ],
         "xaxis": "x2",
         "y": {
          "bdata": "kxTU2ESewD8=",
          "dtype": "f8"
         },
         "yaxis": "y2"
        },
        {
         "hovertemplate": "=%{x}<br>job_title_short=Data Analyst<br>Percentage of Job Postings=%{y}<br>percentage_label=%{text}<extra></extra>",
         "legendgroup": "cloud",
         "marker": {
          "color": "rgb(198,219,239)",
          "pattern": {
           "shape": ""
          }
         },
         "name": "cloud",
         "orientation": "v",
         "showlegend": true,
         "text": [
          "11%"
         ],
         "textposition": "outside",
         "type": "bar",
         "x": [
          "cloud"
         ],
         "xaxis": "x",
         "y": {
          "bdata": "gSxiK9jcuz8=",
          "dtype": "f8"
         },
         "yaxis": "y"
        },
        {
         "hovertemplate": "=%{x}<br>job_title_short=Data Scientist<br>Percentage of Job Postings=%{y}<br>percentage_label=%{text}<extra></extra>",
         "legendgroup": "cloud",
         "marker": {
          "color": "rgb(198,219,239)",
          "pattern": {
           "shape": ""
          }
         },
         "name": "cloud",
         "orientation": "v",
         "showlegend": false,
         "text": [
          "11%"
         ],
         "textposition": "outside",
         "type": "bar",
         "x": [
          "cloud"
         ],
         "xaxis": "x2",
         "y": {
          "bdata": "R1Q9s62vvD8=",
          "dtype": "f8"
         },
         "yaxis": "y2"
        },
        {
         "hovertemplate": "=%{x}<br>job_title_short=Data Engineer<br>Percentage of Job Postings=%{y}<br>percentage_label=%{text}<extra></extra>",
         "legendgroup": "cloud",
         "marker": {
          "color": "rgb(198,219,239)",
          "pattern": {
           "shape": ""
          }
         },
         "name": "cloud",
         "orientation": "v",
         "showlegend": false,
         "text": [
          "20%"
         ],
         "textposition": "outside",
         "type": "bar",
         "x": [
          "cloud"
         ],
         "xaxis": "x3",
         "y": {
          "bdata": "IyUq4sw+yT8=",
          "dtype": "f8"
         },
         "yaxis": "y3"
        },
        {
         "hovertemplate": "=%{x}<br>job_title_short=Data Analyst<br>Percentage of Job Postings=%{y}<br>percentage_label=%{text}<extra></extra>",
         "legendgroup": "libraries",
         "marker": {
          "color": "rgb(158,202,225)",
          "pattern": {
           "shape": ""
          }
         },
         "name": "libraries",
         "orientation": "v",
         "showlegend": true,
         "text": [
          "10%"
         ],
         "textposition": "outside",
         "type": "bar",
         "x": [
          "libraries"
         ],
         "xaxis": "x",
         "y": {
          "bdata": "j7sdSSH+uT8=",
          "dtype": "f8"
         },
         "yaxis": "y"
        },
        {
         "hovertemplate": "=%{x}<br>job_title_short=Data Scientist<br>Percentage of Job Postings=%{y}<br>percentage_label=%{text}<extra></extra>",
         "legendgroup": "libraries",
         "marker": {
          "color": "rgb(158,202,225)",
          "pattern": {
           "shape": ""
          }
         },
         "name": "libraries",
         "orientation": "v",
         "showlegend": false,
         "text": [
          "23%"
         ],
         "textposition": "outside",
         "type": "bar",
         "x": [
          "libraries"
         ],
         "xaxis": "x2",
         "y": {
          "bdata": "dsPeC47fzT8=",
          "dtype": "f8"
         },
         "yaxis": "y2"
        },
        {
         "hovertemplate": "=%{x}<br>job_title_short=Data Engineer<br>Percentage of Job Postings=%{y}<br>percentage_label=%{text}<extra></extra>",
         "legendgroup": "libraries",
         "marker": {
          "color": "rgb(158,202,225)",
          "pattern": {
           "shape": ""
          }
         },
         "name": "libraries",
         "orientation": "v",
         "showlegend": false,
         "text": [
          "18%"
         ],
         "textposition": "outside",
         "type": "bar",
         "x": [
          "libraries"
         ],
         "xaxis": "x3",
         "y": {
          "bdata": "qGt0NpHYxj8=",
          "dtype": "f8"
         },
         "yaxis": "y3"
        },
        {
         "hovertemplate": "=%{x}<br>job_title_short=Data Analyst<br>Percentage of Job Postings=%{y}<br>percentage_label=%{text}<extra></extra>",
         "legendgroup": "other",
         "marker": {
          "color": "rgb(107,174,214)",
          "pattern": {
           "shape": ""
          }
         },
         "name": "other",
         "orientation": "v",
         "showlegend": true,
         "text": [
          "5%"
         ],
         "textposition": "outside",
         "type": "bar",
         "x": [
          "other"
         ],
         "xaxis": "x",
         "y": {
          "bdata": "sp+6qgevqD8=",
          "dtype": "f8"
         },
         "yaxis": "y"
        },
        {
         "hovertemplate": "=%{x}<br>job_title_short=Data Scientist<br>Percentage of Job Postings=%{y}<br>percentage_label=%{text}<extra></extra>",
         "legendgroup": "other",
         "marker": {
          "color": "rgb(107,174,214)",
          "pattern": {
           "shape": ""
          }
         },
         "name": "other",
         "orientation": "v",
         "showlegend": false,
         "text": [
          "7%"
         ],
         "textposition": "outside",
         "type": "bar",
         "x": [
          "other"
         ],
         "xaxis": "x2",
         "y": {
          "bdata": "n2uQlcoAsj8=",
          "dtype": "f8"
         },
         "yaxis": "y2"
        },
        {
         "hovertemplate": "=%{x}<br>job_title_short=Data Engineer<br>Percentage of Job Postings=%{y}<br>percentage_label=%{text}<extra></extra>",
         "legendgroup": "other",
         "marker": {
          "color": "rgb(107,174,214)",
          "pattern": {
           "shape": ""
          }
         },
         "name": "other",
         "orientation": "v",
         "showlegend": false,
         "text": [
          "13%"
         ],
         "textposition": "outside",
         "type": "bar",
         "x": [
          "other"
         ],
         "xaxis": "x3",
         "y": {
          "bdata": "Y7LbSRpGwD8=",
          "dtype": "f8"
         },
         "yaxis": "y3"
        },
        {
         "hovertemplate": "=%{x}<br>job_title_short=Data Engineer<br>Percentage of Job Postings=%{y}<br>percentage_label=%{text}<extra></extra>",
         "legendgroup": "databases",
         "marker": {
          "color": "rgb(66,146,198)",
          "pattern": {
           "shape": ""
          }
         },
         "name": "databases",
         "orientation": "v",
         "showlegend": true,
         "text": [
          "6%"
         ],
         "textposition": "outside",
         "type": "bar",
         "x": [
          "databases"
         ],
         "xaxis": "x3",
         "y": {
          "bdata": "DFjOCVMWrz8=",
          "dtype": "f8"
         },
         "yaxis": "y3"
        }
       ],
       "layout": {
        "annotations": [
         {
          "font": {},
          "showarrow": false,
          "text": "Data Analyst",
          "x": 0.15999999999999998,
          "xanchor": "center",
          "xref": "paper",
          "y": 1,
          "yanchor": "bottom",
          "yref": "paper"
         },
         {
          "font": {},
          "showarrow": false,
          "text": "Data Scientist",
          "x": 0.49999999999999994,
          "xanchor": "center",
          "xref": "paper",
          "y": 1,
          "yanchor": "bottom",
          "yref": "paper"
         },
         {
          "font": {},
          "showarrow": false,
          "text": "Data Engineer",
          "x": 0.8399999999999999,
          "xanchor": "center",
          "xref": "paper",
          "y": 1,
          "yanchor": "bottom",
          "yref": "paper"
         }
        ],
        "barmode": "relative",
        "height": 500,
        "legend": {
         "title": {
          "text": ""
         },
         "tracegroupgap": 0
        },
        "margin": {
         "b": 60,
         "l": 40,
         "r": 20,
         "t": 80
        },
        "showlegend": false,
        "template": {
         "data": {
          "bar": [
           {
            "error_x": {
             "color": "#2a3f5f"
            },
            "error_y": {
             "color": "#2a3f5f"
            },
            "marker": {
             "line": {
              "color": "#E5ECF6",
              "width": 0.5
             },
             "pattern": {
              "fillmode": "overlay",
              "size": 10,
              "solidity": 0.2
             }
            },
            "type": "bar"
           }
          ],
          "barpolar": [
           {
            "marker": {
             "line": {
              "color": "#E5ECF6",
              "width": 0.5
             },
             "pattern": {
              "fillmode": "overlay",
              "size": 10,
              "solidity": 0.2
             }
            },
            "type": "barpolar"
           }
          ],
          "carpet": [
           {
            "aaxis": {
             "endlinecolor": "#2a3f5f",
             "gridcolor": "white",
             "linecolor": "white",
             "minorgridcolor": "white",
             "startlinecolor": "#2a3f5f"
            },
            "baxis": {
             "endlinecolor": "#2a3f5f",
             "gridcolor": "white",
             "linecolor": "white",
             "minorgridcolor": "white",
             "startlinecolor": "#2a3f5f"
            },
            "type": "carpet"
           }
          ],
          "choropleth": [
           {
            "colorbar": {
             "outlinewidth": 0,
             "ticks": ""
            },
            "type": "choropleth"
           }
          ],
          "contour": [
           {
            "colorbar": {
             "outlinewidth": 0,
             "ticks": ""
            },
            "colorscale": [
             [
              0,
              "#0d0887"
             ],
             [
              0.1111111111111111,
              "#46039f"
             ],
             [
              0.2222222222222222,
              "#7201a8"
             ],
             [
              0.3333333333333333,
              "#9c179e"
             ],
             [
              0.4444444444444444,
              "#bd3786"
             ],
             [
              0.5555555555555556,
              "#d8576b"
             ],
             [
              0.6666666666666666,
              "#ed7953"
             ],
             [
              0.7777777777777778,
              "#fb9f3a"
             ],
             [
              0.8888888888888888,
              "#fdca26"
             ],
             [
              1,
              "#f0f921"
             ]
            ],
            "type": "contour"
           }
          ],
          "contourcarpet": [
           {
            "colorbar": {
             "outlinewidth": 0,
             "ticks": ""
            },
            "type": "contourcarpet"
           }
          ],
          "heatmap": [
           {
            "colorbar": {
             "outlinewidth": 0,
             "ticks": ""
            },
            "colorscale": [
             [
              0,
              "#0d0887"
             ],
             [
              0.1111111111111111,
              "#46039f"
             ],
             [
              0.2222222222222222,
              "#7201a8"
             ],
             [
              0.3333333333333333,
              "#9c179e"
             ],
             [
              0.4444444444444444,
              "#bd3786"
             ],
             [
              0.5555555555555556,
              "#d8576b"
             ],
             [
              0.6666666666666666,
              "#ed7953"
             ],
             [
              0.7777777777777778,
              "#fb9f3a"
             ],
             [
              0.8888888888888888,
              "#fdca26"
             ],
             [
              1,
              "#f0f921"
             ]
            ],
            "type": "heatmap"
           }
          ],
          "histogram": [
           {
            "marker": {
             "pattern": {
              "fillmode": "overlay",
              "size": 10,
              "solidity": 0.2
             }
            },
            "type": "histogram"
           }
          ],
          "histogram2d": [
           {
            "colorbar": {
             "outlinewidth": 0,
             "ticks": ""
            },
            "colorscale": [
             [
              0,
              "#0d0887"
             ],
             [
              0.1111111111111111,
              "#46039f"
             ],
             [
              0.2222222222222222,
              "#7201a8"
             ],
             [
              0.3333333333333333,
              "#9c179e"
             ],
             [
              0.4444444444444444,
              "#bd3786"
             ],
             [
              0.5555555555555556,
              "#d8576b"
             ],
             [
              0.6666666666666666,
              "#ed7953"
             ],
             [
              0.7777777777777778,
              "#fb9f3a"
             ],
             [
              0.8888888888888888,
              "#fdca26"
             ],
             [
              1,
              "#f0f921"
             ]
            ],
            "type": "histogram2d"
           }
          ],
          "histogram2dcontour": [
           {
            "colorbar": {
             "outlinewidth": 0,
             "ticks": ""
            },
            "colorscale": [
             [
              0,
              "#0d0887"
             ],
             [
              0.1111111111111111,
              "#46039f"
             ],
             [
              0.2222222222222222,
              "#7201a8"
             ],
             [
              0.3333333333333333,
              "#9c179e"
             ],
             [
              0.4444444444444444,
              "#bd3786"
             ],
             [
              0.5555555555555556,
              "#d8576b"
             ],
             [
              0.6666666666666666,
              "#ed7953"
             ],
             [
              0.7777777777777778,
              "#fb9f3a"
             ],
             [
              0.8888888888888888,
              "#fdca26"
             ],
             [
              1,
              "#f0f921"
             ]
            ],
            "type": "histogram2dcontour"
           }
          ],
          "mesh3d": [
           {
            "colorbar": {
             "outlinewidth": 0,
             "ticks": ""
            },
            "type": "mesh3d"
           }
          ],
          "parcoords": [
           {
            "line": {
             "colorbar": {
              "outlinewidth": 0,
              "ticks": ""
             }
            },
            "type": "parcoords"
           }
          ],
          "pie": [
           {
            "automargin": true,
            "type": "pie"
           }
          ],
          "scatter": [
           {
            "fillpattern": {
             "fillmode": "overlay",
             "size": 10,
             "solidity": 0.2
            },
            "type": "scatter"
           }
          ],
          "scatter3d": [
           {
            "line": {
             "colorbar": {
              "outlinewidth": 0,
              "ticks": ""
             }
            },
            "marker": {
             "colorbar": {
              "outlinewidth": 0,
              "ticks": ""
             }
            },
            "type": "scatter3d"
           }
          ],
          "scattercarpet": [
           {
            "marker": {
             "colorbar": {
              "outlinewidth": 0,
              "ticks": ""
             }
            },
            "type": "scattercarpet"
           }
          ],
          "scattergeo": [
           {
            "marker": {
             "colorbar": {
              "outlinewidth": 0,
              "ticks": ""
             }
            },
            "type": "scattergeo"
           }
          ],
          "scattergl": [
           {
            "marker": {
             "colorbar": {
              "outlinewidth": 0,
              "ticks": ""
             }
            },
            "type": "scattergl"
           }
          ],
          "scattermap": [
           {
            "marker": {
             "colorbar": {
              "outlinewidth": 0,
              "ticks": ""
             }
            },
            "type": "scattermap"
           }
          ],
          "scattermapbox": [
           {
            "marker": {
             "colorbar": {
              "outlinewidth": 0,
              "ticks": ""
             }
            },
            "type": "scattermapbox"
           }
          ],
          "scatterpolar": [
           {
            "marker": {
             "colorbar": {
              "outlinewidth": 0,
              "ticks": ""
             }
            },
            "type": "scatterpolar"
           }
          ],
          "scatterpolargl": [
           {
            "marker": {
             "colorbar": {
              "outlinewidth": 0,
              "ticks": ""
             }
            },
            "type": "scatterpolargl"
           }
          ],
          "scatterternary": [
           {
            "marker": {
             "colorbar": {
              "outlinewidth": 0,
              "ticks": ""
             }
            },
            "type": "scatterternary"
           }
          ],
          "surface": [
           {
            "colorbar": {
             "outlinewidth": 0,
             "ticks": ""
            },
            "colorscale": [
             [
              0,
              "#0d0887"
             ],
             [
              0.1111111111111111,
              "#46039f"
             ],
             [
              0.2222222222222222,
              "#7201a8"
             ],
             [
              0.3333333333333333,
              "#9c179e"
             ],
             [
              0.4444444444444444,
              "#bd3786"
             ],
             [
              0.5555555555555556,
              "#d8576b"
             ],
             [
              0.6666666666666666,
              "#ed7953"
             ],
             [
              0.7777777777777778,
              "#fb9f3a"
             ],
             [
              0.8888888888888888,
              "#fdca26"
             ],
             [
              1,
              "#f0f921"
             ]
            ],
            "type": "surface"
           }
          ],
          "table": [
           {
            "cells": {
             "fill": {
              "color": "#EBF0F8"
             },
             "line": {
              "color": "white"
             }
            },
            "header": {
             "fill": {
              "color": "#C8D4E3"
             },
             "line": {
              "color": "white"
             }
            },
            "type": "table"
           }
          ]
         },
         "layout": {
          "annotationdefaults": {
           "arrowcolor": "#2a3f5f",
           "arrowhead": 0,
           "arrowwidth": 1
          },
          "autotypenumbers": "strict",
          "coloraxis": {
           "colorbar": {
            "outlinewidth": 0,
            "ticks": ""
           }
          },
          "colorscale": {
           "diverging": [
            [
             0,
             "#8e0152"
            ],
            [
             0.1,
             "#c51b7d"
            ],
            [
             0.2,
             "#de77ae"
            ],
            [
             0.3,
             "#f1b6da"
            ],
            [
             0.4,
             "#fde0ef"
            ],
            [
             0.5,
             "#f7f7f7"
            ],
            [
             0.6,
             "#e6f5d0"
            ],
            [
             0.7,
             "#b8e186"
            ],
            [
             0.8,
             "#7fbc41"
            ],
            [
             0.9,
             "#4d9221"
            ],
            [
             1,
             "#276419"
            ]
           ],
           "sequential": [
            [
             0,
             "#0d0887"
            ],
            [
             0.1111111111111111,
             "#46039f"
            ],
            [
             0.2222222222222222,
             "#7201a8"
            ],
            [
             0.3333333333333333,
             "#9c179e"
            ],
            [
             0.4444444444444444,
             "#bd3786"
            ],
            [
             0.5555555555555556,
             "#d8576b"
            ],
            [
             0.6666666666666666,
             "#ed7953"
            ],
            [
             0.7777777777777778,
             "#fb9f3a"
            ],
            [
             0.8888888888888888,
             "#fdca26"
            ],
            [
             1,
             "#f0f921"
            ]
           ],
           "sequentialminus": [
            [
             0,
             "#0d0887"
            ],
            [
             0.1111111111111111,
             "#46039f"
            ],
            [
             0.2222222222222222,
             "#7201a8"
            ],
            [
             0.3333333333333333,
             "#9c179e"
            ],
            [
             0.4444444444444444,
             "#bd3786"
            ],
            [
             0.5555555555555556,
             "#d8576b"
            ],
            [
             0.6666666666666666,
             "#ed7953"
            ],
            [
             0.7777777777777778,
             "#fb9f3a"
            ],
            [
             0.8888888888888888,
             "#fdca26"
            ],
            [
             1,
             "#f0f921"
            ]
           ]
          },
          "colorway": [
           "#636efa",
           "#EF553B",
           "#00cc96",
           "#ab63fa",
           "#FFA15A",
           "#19d3f3",
           "#FF6692",
           "#B6E880",
           "#FF97FF",
           "#FECB52"
          ],
          "font": {
           "color": "#2a3f5f"
          },
          "geo": {
           "bgcolor": "white",
           "lakecolor": "white",
           "landcolor": "#E5ECF6",
           "showlakes": true,
           "showland": true,
           "subunitcolor": "white"
          },
          "hoverlabel": {
           "align": "left"
          },
          "hovermode": "closest",
          "mapbox": {
           "style": "light"
          },
          "paper_bgcolor": "white",
          "plot_bgcolor": "#E5ECF6",
          "polar": {
           "angularaxis": {
            "gridcolor": "white",
            "linecolor": "white",
            "ticks": ""
           },
           "bgcolor": "#E5ECF6",
           "radialaxis": {
            "gridcolor": "white",
            "linecolor": "white",
            "ticks": ""
           }
          },
          "scene": {
           "xaxis": {
            "backgroundcolor": "#E5ECF6",
            "gridcolor": "white",
            "gridwidth": 2,
            "linecolor": "white",
            "showbackground": true,
            "ticks": "",
            "zerolinecolor": "white"
           },
           "yaxis": {
            "backgroundcolor": "#E5ECF6",
            "gridcolor": "white",
            "gridwidth": 2,
            "linecolor": "white",
            "showbackground": true,
            "ticks": "",
            "zerolinecolor": "white"
           },
           "zaxis": {
            "backgroundcolor": "#E5ECF6",
            "gridcolor": "white",
            "gridwidth": 2,
            "linecolor": "white",
            "showbackground": true,
            "ticks": "",
            "zerolinecolor": "white"
           }
          },
          "shapedefaults": {
           "line": {
            "color": "#2a3f5f"
           }
          },
          "ternary": {
           "aaxis": {
            "gridcolor": "white",
            "linecolor": "white",
            "ticks": ""
           },
           "baxis": {
            "gridcolor": "white",
            "linecolor": "white",
            "ticks": ""
           },
           "bgcolor": "#E5ECF6",
           "caxis": {
            "gridcolor": "white",
            "linecolor": "white",
            "ticks": ""
           }
          },
          "title": {
           "x": 0.05
          },
          "xaxis": {
           "automargin": true,
           "gridcolor": "white",
           "linecolor": "white",
           "ticks": "",
           "title": {
            "standoff": 15
           },
           "zerolinecolor": "white",
           "zerolinewidth": 2
          },
          "yaxis": {
           "automargin": true,
           "gridcolor": "white",
           "linecolor": "white",
           "ticks": "",
           "title": {
            "standoff": 15
           },
           "zerolinecolor": "white",
           "zerolinewidth": 2
          }
         }
        },
        "title": {
         "text": "Top 5 Technologies per Role in EU (Percentage of Postings)"
        },
        "xaxis": {
         "anchor": "y",
         "categoryarray": [
          "programming",
          "analyst_tools",
          "cloud",
          "libraries",
          "other",
          "databases"
         ],
         "categoryorder": "array",
         "domain": [
          0,
          0.31999999999999995
         ],
         "title": {
          "text": ""
         }
        },
        "xaxis2": {
         "anchor": "y2",
         "categoryarray": [
          "programming",
          "analyst_tools",
          "cloud",
          "libraries",
          "other",
          "databases"
         ],
         "categoryorder": "array",
         "domain": [
          0.33999999999999997,
          0.6599999999999999
         ],
         "matches": "x",
         "title": {
          "text": ""
         }
        },
        "xaxis3": {
         "anchor": "y3",
         "categoryarray": [
          "programming",
          "analyst_tools",
          "cloud",
          "libraries",
          "other",
          "databases"
         ],
         "categoryorder": "array",
         "domain": [
          0.6799999999999999,
          0.9999999999999999
         ],
         "matches": "x",
         "title": {
          "text": ""
         }
        },
        "yaxis": {
         "anchor": "x",
         "domain": [
          0,
          1
         ],
         "title": {
          "text": "Percentage of Job Postings"
         }
        },
        "yaxis2": {
         "anchor": "x2",
         "domain": [
          0,
          1
         ],
         "matches": "y",
         "showticklabels": false
        },
        "yaxis3": {
         "anchor": "x3",
         "domain": [
          0,
          1
         ],
         "matches": "y",
         "showticklabels": false
        }
       }
      }
     },
     "metadata": {},
     "output_type": "display_data"
    }
   ],
   "source": [
    "import pandas as pd\n",
    "import plotly.express as px\n",
    "\n",
    "# Step 1: Filter relevant data\n",
    "top_roles = ['Data Analyst', 'Data Scientist', 'Data Engineer']\n",
    "df_filtered = df_plot[\n",
    "    (df_plot['region_group'] == 'EU') &\n",
    "    (df_plot['job_title_short'].isin(top_roles)) &\n",
    "    (df_plot['technology'].notna())\n",
    "]\n",
    "\n",
    "# Step 2: Explode technologies into individual rows\n",
    "df_exploded = (\n",
    "    df_filtered\n",
    "    .assign(technology=df_filtered['technology'].str.split(', '))\n",
    "    .explode('technology')\n",
    ")\n",
    "\n",
    "# Step 3: Calculate top 5 technologies per role (normalized)\n",
    "top_tech_list = []\n",
    "for role in top_roles:\n",
    "    tech_counts = (\n",
    "        df_exploded[df_exploded['job_title_short'] == role]['technology']\n",
    "        .value_counts(normalize=True)\n",
    "        .head(5)\n",
    "        .reset_index()\n",
    "    )\n",
    "    tech_counts.columns = ['technology', 'percentage']\n",
    "    tech_counts['job_title_short'] = role\n",
    "    top_tech_list.append(tech_counts)\n",
    "\n",
    "# Step 4: Combine into one DataFrame and add percentage labels\n",
    "df_top_tech = pd.concat(top_tech_list, ignore_index=True)\n",
    "df_top_tech['percentage_label'] = (df_top_tech['percentage'] * 100).round(0).astype(int).astype(str) + '%'\n",
    "\n",
    "# Step 5: Plot with Plotly Express (faceted by column instead of row)\n",
    "fig = px.bar(\n",
    "    df_top_tech,\n",
    "    x='technology',\n",
    "    y='percentage',\n",
    "    color='technology',\n",
    "    facet_col='job_title_short',\n",
    "    text='percentage_label',\n",
    "    title='Top 5 Technologies per Role in EU (Percentage of Postings)',\n",
    "    labels={'technology': '', 'percentage': 'Percentage of Job Postings'},\n",
    "    color_discrete_sequence=px.colors.sequential.Blues\n",
    ")\n",
    "\n",
    "# Step 6: Update layout\n",
    "fig.update_traces(textposition='outside')\n",
    "fig.update_layout(\n",
    "    height=500,\n",
    "    showlegend=False,\n",
    "    margin=dict(l=40, r=20, t=80, b=60)\n",
    ")\n",
    "fig.for_each_annotation(lambda a: a.update(text=a.text.split(\"=\")[-1]))  # Clean facet titles\n",
    "\n",
    "fig.show()"
   ]
  },
  {
   "cell_type": "code",
   "execution_count": 12,
   "id": "2fdd61d6",
   "metadata": {},
   "outputs": [
    {
     "data": {
      "image/png": "[encoded data removed]",
      "text/plain": [
       "<Figure size 800x600 with 3 Axes>"
      ]
     },
     "metadata": {},
     "output_type": "display_data"
    }
   ],
   "source": [
    "# Filter data\n",
    "top_roles = ['Data Analyst', 'Data Engineer', 'Data Scientist']\n",
    "df_plot_top3 = df_plot[df_plot['job_title_short'].isin(top_roles) & df_plot['technology'].notna()]\n",
    "\n",
    "# Define color palette\n",
    "black_color = '#333333'\n",
    "blue_color = '#4c78a8'\n",
    "\n",
    "# Create subplots\n",
    "fig, axes = plt.subplots(3, 1, figsize=(8, 6), sharex=True)\n",
    "fig.suptitle('Likelihood of Technologies Requested for Top-3 Data Roles in Europe', fontsize=14)\n",
    "\n",
    "# Loop through each role\n",
    "for ax, role in zip(axes, top_roles):\n",
    "    skill_series = (\n",
    "        df_plot_top3[df_plot_top3['job_title_short'] == role]['technology']\n",
    "        .str.split(', ')\n",
    "        .explode()\n",
    "    )\n",
    "    \n",
    "    skill_counts = skill_series.value_counts(normalize=True).head(5)  # Top 5\n",
    "    colors = [black_color if i == 0 else blue_color for i in range(len(skill_counts))]\n",
    "    \n",
    "    sns.barplot(\n",
    "        x=skill_counts.values * 100,\n",
    "        y=skill_counts.index,\n",
    "        ax=ax,\n",
    "        color=blue_color  # default bar color\n",
    "    )\n",
    "\n",
    "    # Color just the top bar (first one) manually\n",
    "    for bar, c in zip(ax.patches, colors):\n",
    "        bar.set_color(c)\n",
    "    \n",
    "    # Annotate bars\n",
    "    for i, (val, skill) in enumerate(zip(skill_counts.values, skill_counts.index)):\n",
    "        ax.text(val * 100 + 1, i, f'{int(val*100)}%', va='center')\n",
    "\n",
    "    ax.set_title(role)\n",
    "    ax.set_xlabel('')\n",
    "    ax.set_ylabel('')\n",
    "\n",
    "# Clean up layout\n",
    "plt.tight_layout(rect=[0, 0, 1, 0.95])\n",
    "sns.despine()\n",
    "plt.show()"
   ]
  },
  {
   "cell_type": "markdown",
   "id": "678a509f",
   "metadata": {},
   "source": [
    "### Number of skills requested for each of Top-3 Data Roles in Europe"
   ]
  },
  {
   "cell_type": "code",
   "execution_count": 21,
   "id": "9fe0213d",
   "metadata": {},
   "outputs": [
    {
     "name": "stdout",
     "output_type": "stream",
     "text": [
      "  job_title_short  avg_skills\n",
      "1   Data Engineer    6.722689\n",
      "2  Data Scientist    4.392982\n",
      "0    Data Analyst    3.481959\n"
     ]
    }
   ],
   "source": [
    "# Step 1: Define function to count skills\n",
    "def count_skills(skills_str):\n",
    "    if pd.isna(skills_str) or skills_str.strip() == '':\n",
    "        return 0\n",
    "    return len([s for s in skills_str.split(',') if s.strip() != ''])\n",
    "\n",
    "# Step 2: Add a skills_count column\n",
    "df['skills_count'] = df['job_skills'].apply(count_skills)\n",
    "\n",
    "# Step 3: Filter for EU region and top 3 roles\n",
    "top_roles = ['Data Analyst', 'Data Scientist', 'Data Engineer']\n",
    "filtered_df = df[\n",
    "    (df['region_group'] == 'EU') &\n",
    "    (df['job_title_short'].isin(top_roles))\n",
    "]\n",
    "\n",
    "# Step 4: Calculate average number of skills per role\n",
    "avg_skills_per_role = (\n",
    "    filtered_df.groupby('job_title_short')['skills_count']\n",
    "    .mean()\n",
    "    .reset_index()\n",
    "    .rename(columns={'skills_count': 'avg_skills'})\n",
    "    .sort_values(by='avg_skills', ascending=False)\n",
    ")\n",
    "\n",
    "# Display result\n",
    "print(avg_skills_per_role)"
   ]
  },
  {
   "cell_type": "code",
   "execution_count": null,
   "id": "01bcdb5e",
   "metadata": {},
   "outputs": [],
   "source": []
  }
 ],
 "metadata": {
  "kernelspec": {
   "display_name": "python_course",
   "language": "python",
   "name": "python3"
  },
  "language_info": {
   "codemirror_mode": {
    "name": "ipython",
    "version": 3
   },
   "file_extension": ".py",
   "mimetype": "text/x-python",
   "name": "python",
   "nbconvert_exporter": "python",
   "pygments_lexer": "ipython3",
   "version": "3.11.11"
  }
 },
 "nbformat": 4,
 "nbformat_minor": 5
}
