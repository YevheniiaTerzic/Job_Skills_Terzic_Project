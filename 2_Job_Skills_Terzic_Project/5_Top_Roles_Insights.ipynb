{
 "cells": [
  {
   "cell_type": "markdown",
   "id": "b15c1de1",
   "metadata": {},
   "source": [
    "# How can you maximize your salary as a Data Analyst? \n",
    "- Which skills are most strongly correlated with higher pay?\n",
    "- What type of job better to search for - Remote/In-Office?\n",
    "- Do you need special degree to get bigger salary?\n",
    "- When better to search for a job to get bigger salary."
   ]
  },
  {
   "cell_type": "markdown",
   "id": "4649a820",
   "metadata": {},
   "source": [
    "### For now correlations calculated globally - for all countrieas and job titles - need to review"
   ]
  },
  {
   "cell_type": "code",
   "execution_count": 39,
   "id": "16791213",
   "metadata": {},
   "outputs": [],
   "source": [
    "import pandas as pd\n",
    "#import plotly.express as px\n",
    "\n",
    "#import matplotlib.pyplot as plt\n",
    "#import seaborn as sns\n",
    "\n",
    "import numpy as np\n",
    "\n",
    "import plotly.graph_objects as go\n",
    "\n",
    "df = pd.read_csv('/Users/kolesnikevgenia/Documents/Python_Projects/Job_Skills/Raw_Data/df_Final.csv')"
   ]
  },
  {
   "cell_type": "markdown",
   "id": "c5fd90d4",
   "metadata": {},
   "source": [
    "### Remove Salary Outliers"
   ]
  },
  {
   "cell_type": "code",
   "execution_count": 40,
   "id": "1aa3b2d3",
   "metadata": {},
   "outputs": [
    {
     "name": "stdout",
     "output_type": "stream",
     "text": [
      "Original dataset size: 5451\n",
      "Filtered dataset size: 5324\n"
     ]
    }
   ],
   "source": [
    "df_eu_ds = df[\n",
    "    #(df['region_group'] == 'EU') &\n",
    "    (df['job_title_short'] == 'Data Analyst')\n",
    "]\n",
    "\n",
    "#Calculate global IQR\n",
    "Q1_global = df_eu_ds['salary_month_avg_eur'].quantile(0.25)\n",
    "Q3_global = df_eu_ds['salary_month_avg_eur'].quantile(0.75)\n",
    "IQR_global = Q3_global - Q1_global\n",
    "lower_bound_global = Q1_global - 1.5 * IQR_global\n",
    "upper_bound_global = Q3_global + 1.5 * IQR_global\n",
    "\n",
    "#Build list to collect filtered results\n",
    "filtered_groups = []\n",
    "\n",
    "#Iterate over groups manually\n",
    "for (country, title), group in df_eu_ds.groupby(['job_country', 'job_title_short']):\n",
    "    if len(group) >= 5:\n",
    "        Q1 = group['salary_month_avg_eur'].quantile(0.25)\n",
    "        Q3 = group['salary_month_avg_eur'].quantile(0.75)\n",
    "        IQR = Q3 - Q1\n",
    "        lower = Q1 - 1.5 * IQR\n",
    "        upper = Q3 + 1.5 * IQR\n",
    "    else:\n",
    "        lower = lower_bound_global\n",
    "        upper = upper_bound_global\n",
    "\n",
    "    filtered = group[\n",
    "        (group['salary_month_avg_eur'] >= lower) &\n",
    "        (group['salary_month_avg_eur'] <= upper)\n",
    "    ]\n",
    "    filtered_groups.append(filtered)\n",
    "\n",
    "# Combine all groups back\n",
    "df_filtered = pd.concat(filtered_groups, ignore_index=True)\n",
    "\n",
    "print(f\"Original dataset size: {len(df_eu_ds)}\")\n",
    "print(f\"Filtered dataset size: {len(df_filtered)}\")"
   ]
  },
  {
   "cell_type": "markdown",
   "id": "6cc518fc",
   "metadata": {},
   "source": [
    "### Correlation between month and number of job postings"
   ]
  },
  {
   "cell_type": "markdown",
   "id": "421d4681",
   "metadata": {},
   "source": [
    "### Number of Job Postings and Median Salary of Data Analysts Over Time"
   ]
  },
  {
   "cell_type": "code",
   "execution_count": 42,
   "id": "53383baf",
   "metadata": {},
   "outputs": [
    {
     "data": {
      "application/vnd.plotly.v1+json": {
       "config": {
        "plotlyServerURL": "https://plot.ly"
       },
       "data": [
        {
         "line": {
          "color": "#1f77b4",
          "width": 3
         },
         "mode": "lines+markers",
         "name": "Job Postings Count",
         "type": "scatter",
         "x": [
          "2023-01",
          "2023-02",
          "2023-03",
          "2023-04",
          "2023-05",
          "2023-06",
          "2023-07",
          "2023-08",
          "2023-09",
          "2023-10",
          "2023-11",
          "2023-12"
         ],
         "y": {
          "bdata": "QgK/AdwBvwG2ARQCJwL+ASEBNwFIAaEB",
          "dtype": "i2"
         },
         "yaxis": "y"
        },
        {
         "line": {
          "color": "#ff7f0e",
          "width": 3
         },
         "mode": "lines+markers",
         "name": "Median Salary (EUR)",
         "type": "scatter",
         "x": [
          "2023-01",
          "2023-02",
          "2023-03",
          "2023-04",
          "2023-05",
          "2023-06",
          "2023-07",
          "2023-08",
          "2023-09",
          "2023-10",
          "2023-11",
          "2023-12"
         ],
         "y": {
          "bdata": "MzMzM/NAuUAAAAAAQIK5QAAAAABAgrlAAAAAAECCuUAAAAAAQIK5QIXrUbje3rlAZmZmZqY3ukA+CtejcKC6QDMzMzPzQLlAUrgehaustkAehetRGPe2QPYoXI9C1LVA",
          "dtype": "f8"
         },
         "yaxis": "y2"
        }
       ],
       "layout": {
        "height": 450,
        "legend": {
         "orientation": "h",
         "x": 0.1,
         "y": 1.1
        },
        "margin": {
         "b": 40,
         "t": 70
        },
        "template": {
         "data": {
          "bar": [
           {
            "error_x": {
             "color": "#2a3f5f"
            },
            "error_y": {
             "color": "#2a3f5f"
            },
            "marker": {
             "line": {
              "color": "white",
              "width": 0.5
             },
             "pattern": {
              "fillmode": "overlay",
              "size": 10,
              "solidity": 0.2
             }
            },
            "type": "bar"
           }
          ],
          "barpolar": [
           {
            "marker": {
             "line": {
              "color": "white",
              "width": 0.5
             },
             "pattern": {
              "fillmode": "overlay",
              "size": 10,
              "solidity": 0.2
             }
            },
            "type": "barpolar"
           }
          ],
          "carpet": [
           {
            "aaxis": {
             "endlinecolor": "#2a3f5f",
             "gridcolor": "#C8D4E3",
             "linecolor": "#C8D4E3",
             "minorgridcolor": "#C8D4E3",
             "startlinecolor": "#2a3f5f"
            },
            "baxis": {
             "endlinecolor": "#2a3f5f",
             "gridcolor": "#C8D4E3",
             "linecolor": "#C8D4E3",
             "minorgridcolor": "#C8D4E3",
             "startlinecolor": "#2a3f5f"
            },
            "type": "carpet"
           }
          ],
          "choropleth": [
           {
            "colorbar": {
             "outlinewidth": 0,
             "ticks": ""
            },
            "type": "choropleth"
           }
          ],
          "contour": [
           {
            "colorbar": {
             "outlinewidth": 0,
             "ticks": ""
            },
            "colorscale": [
             [
              0,
              "#0d0887"
             ],
             [
              0.1111111111111111,
              "#46039f"
             ],
             [
              0.2222222222222222,
              "#7201a8"
             ],
             [
              0.3333333333333333,
              "#9c179e"
             ],
             [
              0.4444444444444444,
              "#bd3786"
             ],
             [
              0.5555555555555556,
              "#d8576b"
             ],
             [
              0.6666666666666666,
              "#ed7953"
             ],
             [
              0.7777777777777778,
              "#fb9f3a"
             ],
             [
              0.8888888888888888,
              "#fdca26"
             ],
             [
              1,
              "#f0f921"
             ]
            ],
            "type": "contour"
           }
          ],
          "contourcarpet": [
           {
            "colorbar": {
             "outlinewidth": 0,
             "ticks": ""
            },
            "type": "contourcarpet"
           }
          ],
          "heatmap": [
           {
            "colorbar": {
             "outlinewidth": 0,
             "ticks": ""
            },
            "colorscale": [
             [
              0,
              "#0d0887"
             ],
             [
              0.1111111111111111,
              "#46039f"
             ],
             [
              0.2222222222222222,
              "#7201a8"
             ],
             [
              0.3333333333333333,
              "#9c179e"
             ],
             [
              0.4444444444444444,
              "#bd3786"
             ],
             [
              0.5555555555555556,
              "#d8576b"
             ],
             [
              0.6666666666666666,
              "#ed7953"
             ],
             [
              0.7777777777777778,
              "#fb9f3a"
             ],
             [
              0.8888888888888888,
              "#fdca26"
             ],
             [
              1,
              "#f0f921"
             ]
            ],
            "type": "heatmap"
           }
          ],
          "histogram": [
           {
            "marker": {
             "pattern": {
              "fillmode": "overlay",
              "size": 10,
              "solidity": 0.2
             }
            },
            "type": "histogram"
           }
          ],
          "histogram2d": [
           {
            "colorbar": {
             "outlinewidth": 0,
             "ticks": ""
            },
            "colorscale": [
             [
              0,
              "#0d0887"
             ],
             [
              0.1111111111111111,
              "#46039f"
             ],
             [
              0.2222222222222222,
              "#7201a8"
             ],
             [
              0.3333333333333333,
              "#9c179e"
             ],
             [
              0.4444444444444444,
              "#bd3786"
             ],
             [
              0.5555555555555556,
              "#d8576b"
             ],
             [
              0.6666666666666666,
              "#ed7953"
             ],
             [
              0.7777777777777778,
              "#fb9f3a"
             ],
             [
              0.8888888888888888,
              "#fdca26"
             ],
             [
              1,
              "#f0f921"
             ]
            ],
            "type": "histogram2d"
           }
          ],
          "histogram2dcontour": [
           {
            "colorbar": {
             "outlinewidth": 0,
             "ticks": ""
            },
            "colorscale": [
             [
              0,
              "#0d0887"
             ],
             [
              0.1111111111111111,
              "#46039f"
             ],
             [
              0.2222222222222222,
              "#7201a8"
             ],
             [
              0.3333333333333333,
              "#9c179e"
             ],
             [
              0.4444444444444444,
              "#bd3786"
             ],
             [
              0.5555555555555556,
              "#d8576b"
             ],
             [
              0.6666666666666666,
              "#ed7953"
             ],
             [
              0.7777777777777778,
              "#fb9f3a"
             ],
             [
              0.8888888888888888,
              "#fdca26"
             ],
             [
              1,
              "#f0f921"
             ]
            ],
            "type": "histogram2dcontour"
           }
          ],
          "mesh3d": [
           {
            "colorbar": {
             "outlinewidth": 0,
             "ticks": ""
            },
            "type": "mesh3d"
           }
          ],
          "parcoords": [
           {
            "line": {
             "colorbar": {
              "outlinewidth": 0,
              "ticks": ""
             }
            },
            "type": "parcoords"
           }
          ],
          "pie": [
           {
            "automargin": true,
            "type": "pie"
           }
          ],
          "scatter": [
           {
            "fillpattern": {
             "fillmode": "overlay",
             "size": 10,
             "solidity": 0.2
            },
            "type": "scatter"
           }
          ],
          "scatter3d": [
           {
            "line": {
             "colorbar": {
              "outlinewidth": 0,
              "ticks": ""
             }
            },
            "marker": {
             "colorbar": {
              "outlinewidth": 0,
              "ticks": ""
             }
            },
            "type": "scatter3d"
           }
          ],
          "scattercarpet": [
           {
            "marker": {
             "colorbar": {
              "outlinewidth": 0,
              "ticks": ""
             }
            },
            "type": "scattercarpet"
           }
          ],
          "scattergeo": [
           {
            "marker": {
             "colorbar": {
              "outlinewidth": 0,
              "ticks": ""
             }
            },
            "type": "scattergeo"
           }
          ],
          "scattergl": [
           {
            "marker": {
             "colorbar": {
              "outlinewidth": 0,
              "ticks": ""
             }
            },
            "type": "scattergl"
           }
          ],
          "scattermap": [
           {
            "marker": {
             "colorbar": {
              "outlinewidth": 0,
              "ticks": ""
             }
            },
            "type": "scattermap"
           }
          ],
          "scattermapbox": [
           {
            "marker": {
             "colorbar": {
              "outlinewidth": 0,
              "ticks": ""
             }
            },
            "type": "scattermapbox"
           }
          ],
          "scatterpolar": [
           {
            "marker": {
             "colorbar": {
              "outlinewidth": 0,
              "ticks": ""
             }
            },
            "type": "scatterpolar"
           }
          ],
          "scatterpolargl": [
           {
            "marker": {
             "colorbar": {
              "outlinewidth": 0,
              "ticks": ""
             }
            },
            "type": "scatterpolargl"
           }
          ],
          "scatterternary": [
           {
            "marker": {
             "colorbar": {
              "outlinewidth": 0,
              "ticks": ""
             }
            },
            "type": "scatterternary"
           }
          ],
          "surface": [
           {
            "colorbar": {
             "outlinewidth": 0,
             "ticks": ""
            },
            "colorscale": [
             [
              0,
              "#0d0887"
             ],
             [
              0.1111111111111111,
              "#46039f"
             ],
             [
              0.2222222222222222,
              "#7201a8"
             ],
             [
              0.3333333333333333,
              "#9c179e"
             ],
             [
              0.4444444444444444,
              "#bd3786"
             ],
             [
              0.5555555555555556,
              "#d8576b"
             ],
             [
              0.6666666666666666,
              "#ed7953"
             ],
             [
              0.7777777777777778,
              "#fb9f3a"
             ],
             [
              0.8888888888888888,
              "#fdca26"
             ],
             [
              1,
              "#f0f921"
             ]
            ],
            "type": "surface"
           }
          ],
          "table": [
           {
            "cells": {
             "fill": {
              "color": "#EBF0F8"
             },
             "line": {
              "color": "white"
             }
            },
            "header": {
             "fill": {
              "color": "#C8D4E3"
             },
             "line": {
              "color": "white"
             }
            },
            "type": "table"
           }
          ]
         },
         "layout": {
          "annotationdefaults": {
           "arrowcolor": "#2a3f5f",
           "arrowhead": 0,
           "arrowwidth": 1
          },
          "autotypenumbers": "strict",
          "coloraxis": {
           "colorbar": {
            "outlinewidth": 0,
            "ticks": ""
           }
          },
          "colorscale": {
           "diverging": [
            [
             0,
             "#8e0152"
            ],
            [
             0.1,
             "#c51b7d"
            ],
            [
             0.2,
             "#de77ae"
            ],
            [
             0.3,
             "#f1b6da"
            ],
            [
             0.4,
             "#fde0ef"
            ],
            [
             0.5,
             "#f7f7f7"
            ],
            [
             0.6,
             "#e6f5d0"
            ],
            [
             0.7,
             "#b8e186"
            ],
            [
             0.8,
             "#7fbc41"
            ],
            [
             0.9,
             "#4d9221"
            ],
            [
             1,
             "#276419"
            ]
           ],
           "sequential": [
            [
             0,
             "#0d0887"
            ],
            [
             0.1111111111111111,
             "#46039f"
            ],
            [
             0.2222222222222222,
             "#7201a8"
            ],
            [
             0.3333333333333333,
             "#9c179e"
            ],
            [
             0.4444444444444444,
             "#bd3786"
            ],
            [
             0.5555555555555556,
             "#d8576b"
            ],
            [
             0.6666666666666666,
             "#ed7953"
            ],
            [
             0.7777777777777778,
             "#fb9f3a"
            ],
            [
             0.8888888888888888,
             "#fdca26"
            ],
            [
             1,
             "#f0f921"
            ]
           ],
           "sequentialminus": [
            [
             0,
             "#0d0887"
            ],
            [
             0.1111111111111111,
             "#46039f"
            ],
            [
             0.2222222222222222,
             "#7201a8"
            ],
            [
             0.3333333333333333,
             "#9c179e"
            ],
            [
             0.4444444444444444,
             "#bd3786"
            ],
            [
             0.5555555555555556,
             "#d8576b"
            ],
            [
             0.6666666666666666,
             "#ed7953"
            ],
            [
             0.7777777777777778,
             "#fb9f3a"
            ],
            [
             0.8888888888888888,
             "#fdca26"
            ],
            [
             1,
             "#f0f921"
            ]
           ]
          },
          "colorway": [
           "#636efa",
           "#EF553B",
           "#00cc96",
           "#ab63fa",
           "#FFA15A",
           "#19d3f3",
           "#FF6692",
           "#B6E880",
           "#FF97FF",
           "#FECB52"
          ],
          "font": {
           "color": "#2a3f5f"
          },
          "geo": {
           "bgcolor": "white",
           "lakecolor": "white",
           "landcolor": "white",
           "showlakes": true,
           "showland": true,
           "subunitcolor": "#C8D4E3"
          },
          "hoverlabel": {
           "align": "left"
          },
          "hovermode": "closest",
          "mapbox": {
           "style": "light"
          },
          "paper_bgcolor": "white",
          "plot_bgcolor": "white",
          "polar": {
           "angularaxis": {
            "gridcolor": "#EBF0F8",
            "linecolor": "#EBF0F8",
            "ticks": ""
           },
           "bgcolor": "white",
           "radialaxis": {
            "gridcolor": "#EBF0F8",
            "linecolor": "#EBF0F8",
            "ticks": ""
           }
          },
          "scene": {
           "xaxis": {
            "backgroundcolor": "white",
            "gridcolor": "#DFE8F3",
            "gridwidth": 2,
            "linecolor": "#EBF0F8",
            "showbackground": true,
            "ticks": "",
            "zerolinecolor": "#EBF0F8"
           },
           "yaxis": {
            "backgroundcolor": "white",
            "gridcolor": "#DFE8F3",
            "gridwidth": 2,
            "linecolor": "#EBF0F8",
            "showbackground": true,
            "ticks": "",
            "zerolinecolor": "#EBF0F8"
           },
           "zaxis": {
            "backgroundcolor": "white",
            "gridcolor": "#DFE8F3",
            "gridwidth": 2,
            "linecolor": "#EBF0F8",
            "showbackground": true,
            "ticks": "",
            "zerolinecolor": "#EBF0F8"
           }
          },
          "shapedefaults": {
           "line": {
            "color": "#2a3f5f"
           }
          },
          "ternary": {
           "aaxis": {
            "gridcolor": "#DFE8F3",
            "linecolor": "#A2B1C6",
            "ticks": ""
           },
           "baxis": {
            "gridcolor": "#DFE8F3",
            "linecolor": "#A2B1C6",
            "ticks": ""
           },
           "bgcolor": "white",
           "caxis": {
            "gridcolor": "#DFE8F3",
            "linecolor": "#A2B1C6",
            "ticks": ""
           }
          },
          "title": {
           "x": 0.05
          },
          "xaxis": {
           "automargin": true,
           "gridcolor": "#EBF0F8",
           "linecolor": "#EBF0F8",
           "ticks": "",
           "title": {
            "standoff": 15
           },
           "zerolinecolor": "#EBF0F8",
           "zerolinewidth": 2
          },
          "yaxis": {
           "automargin": true,
           "gridcolor": "#EBF0F8",
           "linecolor": "#EBF0F8",
           "ticks": "",
           "title": {
            "standoff": 15
           },
           "zerolinecolor": "#EBF0F8",
           "zerolinewidth": 2
          }
         }
        },
        "title": {
         "text": "Data Analyst: Job Postings and Median Salary for Data Analyst Over Time"
        },
        "width": 900,
        "xaxis": {
         "title": {
          "text": "Month"
         }
        },
        "yaxis": {
         "side": "left",
         "title": {
          "text": "Job Postings Count"
         }
        },
        "yaxis2": {
         "overlaying": "y",
         "side": "right",
         "title": {
          "text": "Median Salary (EUR)"
         }
        }
       }
      }
     },
     "metadata": {},
     "output_type": "display_data"
    }
   ],
   "source": [
    "df_filtered['month_period'] = df_filtered['job_posted_date'].dt.to_period('M').astype(str)\n",
    "\n",
    "# 3. Job postings count per month\n",
    "job_postings_count = (\n",
    "    df_filtered.groupby('month_period')\n",
    "    .size()\n",
    "    .reset_index(name='job_postings_count')\n",
    "    .sort_values('month_period')\n",
    "    .reset_index(drop=True)\n",
    ")\n",
    "\n",
    "# 4. Median salary per month\n",
    "median_salary = (\n",
    "    df_filtered.groupby('month_period')['salary_month_avg_eur']\n",
    "    .median()\n",
    "    .reset_index(name='median_salary')\n",
    "    .sort_values('month_period')\n",
    "    .reset_index(drop=True)\n",
    ")\n",
    "\n",
    "# 5. Merge both into one DataFrame\n",
    "df_merged = pd.merge(\n",
    "    job_postings_count,\n",
    "    median_salary,\n",
    "    on='month_period'\n",
    ")\n",
    "\n",
    "# 6. Plot\n",
    "fig = go.Figure()\n",
    "\n",
    "# Job postings line\n",
    "fig.add_trace(go.Scatter(\n",
    "    x=df_merged['month_period'],\n",
    "    y=df_merged['job_postings_count'],\n",
    "    mode='lines+markers',\n",
    "    name='Job Postings Count',\n",
    "    line=dict(color='#1f77b4', width=3),\n",
    "    yaxis='y1'\n",
    "))\n",
    "\n",
    "# Median salary line\n",
    "fig.add_trace(go.Scatter(\n",
    "    x=df_merged['month_period'],\n",
    "    y=df_merged['median_salary'],\n",
    "    mode='lines+markers',\n",
    "    name='Median Salary (EUR)',\n",
    "    line=dict(color='#ff7f0e', width=3),\n",
    "    yaxis='y2'\n",
    "))\n",
    "\n",
    "# Layout with dual axes\n",
    "fig.update_layout(\n",
    "    title=\"Data Analyst: Job Postings and Median Salary for Data Analyst Over Time\",\n",
    "    xaxis=dict(title='Month'),\n",
    "    yaxis=dict(title='Job Postings Count', side='left'),\n",
    "    yaxis2=dict(title='Median Salary (EUR)', overlaying='y', side='right'),\n",
    "    legend=dict(x=0.1, y=1.1, orientation='h'),\n",
    "    height=450,\n",
    "    width=900,\n",
    "    template='plotly_white',\n",
    "    margin=dict(t=70, b=40)\n",
    ")\n",
    "\n",
    "fig.show()"
   ]
  },
  {
   "cell_type": "markdown",
   "id": "a34cd609",
   "metadata": {},
   "source": [
    "# Correlation between number of postings and job salaries"
   ]
  },
  {
   "cell_type": "code",
   "execution_count": 43,
   "id": "4f570996",
   "metadata": {},
   "outputs": [
    {
     "name": "stdout",
     "output_type": "stream",
     "text": [
      "Correlation between job postings and current month median salary: 0.709\n",
      "Correlation between job postings and next month median salary: 0.878\n"
     ]
    }
   ],
   "source": [
    "df_filtered['month_period'] = df_filtered['job_posted_date'].dt.to_period('M').astype(str)\n",
    "\n",
    "# 1. Job postings count per month\n",
    "job_postings_count = (\n",
    "    df_filtered.groupby('month_period')\n",
    "    .size()\n",
    "    .reset_index(name='job_postings_count')\n",
    "    .sort_values('month_period')\n",
    "    .reset_index(drop=True)\n",
    ")\n",
    "\n",
    "# 2. Median salary per month\n",
    "median_salary = (\n",
    "    df_filtered.groupby('month_period')['salary_month_avg_eur']\n",
    "    .median()\n",
    "    .reset_index(name='median_salary')\n",
    "    .sort_values('month_period')\n",
    "    .reset_index(drop=True)\n",
    ")\n",
    "\n",
    "# 3. Next month salary: shift median salary up by 1\n",
    "median_salary['median_salary_next_month'] = median_salary['median_salary'].shift(-1)\n",
    "\n",
    "# 4. Merge counts with salaries\n",
    "df_corr = pd.merge(\n",
    "    job_postings_count,\n",
    "    median_salary[['month_period', 'median_salary', 'median_salary_next_month']],\n",
    "    on='month_period'\n",
    ")\n",
    "\n",
    "# 5. Drop last row (no next month salary)\n",
    "df_corr = df_corr.dropna()\n",
    "\n",
    "# 6. Calculate correlations\n",
    "corr_current = df_corr['job_postings_count'].corr(df_corr['median_salary'])\n",
    "corr_next = df_corr['job_postings_count'].corr(df_corr['median_salary_next_month'])\n",
    "\n",
    "# 7. Print results\n",
    "print(f\"Correlation between job postings and current month median salary: {corr_current:.3f}\")\n",
    "print(f\"Correlation between job postings and next month median salary: {corr_next:.3f}\")"
   ]
  },
  {
   "cell_type": "markdown",
   "id": "3fadff7e",
   "metadata": {},
   "source": [
    "Interpretation\n",
    "This is a moderate to strong positive correlation.\n",
    "It suggests that when there are more job postings in a given month, the average salary tends to be higher in the following month.\n",
    "This could indicate a lagged effect where increased hiring demand signals or even drives up salary offers shortly after.\n",
    "It might reflect market dynamics like salary negotiations catching up after spikes in demand, or employers responding to talent shortages by raising salaries in the near term.\n",
    "What could cause this pattern?\n",
    "Hiring cycles: Companies may ramp up postings first, then adjust salary offers in response.\n",
    "Budget timing: Salary budgets or offers might be updated shortly after observing market demand.\n",
    "Market signals: A surge in postings could reflect competitive pressures that lead to salary increases soon after."
   ]
  },
  {
   "cell_type": "code",
   "execution_count": null,
   "id": "00613116",
   "metadata": {},
   "outputs": [],
   "source": []
  }
 ],
 "metadata": {
  "kernelspec": {
   "display_name": "python_course",
   "language": "python",
   "name": "python3"
  },
  "language_info": {
   "codemirror_mode": {
    "name": "ipython",
    "version": 3
   },
   "file_extension": ".py",
   "mimetype": "text/x-python",
   "name": "python",
   "nbconvert_exporter": "python",
   "pygments_lexer": "ipython3",
   "version": "3.11.11"
  }
 },
 "nbformat": 4,
 "nbformat_minor": 5
}
