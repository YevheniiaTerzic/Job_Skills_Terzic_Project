{
 "cells": [
  {
   "cell_type": "markdown",
   "id": "b15c1de1",
   "metadata": {},
   "source": [
    "## Which skills and job features have the biggest impact on salary?\n",
    "\n",
    "Here we'll uncover factors that influence the salary range for Data Analysts and will specify:\n",
    "- Must-have skills for Data Analysts and how they affect salary\n",
    "- Top-paying analytical skills and their impact on salary\n",
    "- Impact of job type (remote vs on-site) and degree requirements on salary\n",
    "- Key drivers of Data Analyst salaries (SHAP analysis)"
   ]
  },
  {
   "cell_type": "markdown",
   "id": "1b56cfd3",
   "metadata": {},
   "source": [
    "### Import Libraries"
   ]
  },
  {
   "cell_type": "code",
   "execution_count": 46,
   "id": "16791213",
   "metadata": {},
   "outputs": [],
   "source": [
    "import ast\n",
    "from pathlib import Path\n",
    "\n",
    "import numpy as np\n",
    "import pandas as pd\n",
    "\n",
    "import plotly.express as px\n",
    "import plotly.graph_objects as go\n",
    "from plotly.subplots import make_subplots\n",
    "\n",
    "from sklearn.model_selection import train_test_split\n",
    "from sklearn.linear_model import LinearRegression\n",
    "from sklearn.preprocessing import MultiLabelBinarizer\n",
    "from xgboost import XGBRegressor\n",
    "import shap"
   ]
  },
  {
   "cell_type": "markdown",
   "id": "7b0918c0",
   "metadata": {},
   "source": [
    "### Load Cleaned Dataset"
   ]
  },
  {
   "cell_type": "code",
   "execution_count": 47,
   "id": "2dd27b41",
   "metadata": {},
   "outputs": [],
   "source": [
    "df = pd.read_csv(Path.cwd().parents[1] / 'Raw_Data' / 'df_Final.csv')"
   ]
  },
  {
   "cell_type": "markdown",
   "id": "ff3bef47",
   "metadata": {},
   "source": [
    "### Remove Salary Outliers\n",
    "During the exploratory analysis, we identified unusually high salaries in countries with very few job postings. These outliers may result from salaries listed in local currencies, company registration addresses being used instead of actual job locations, or other inconsistencies.\n",
    "\n",
    "Action Taken:\n",
    "- Outliers were removed per job title and country to preserve meaningful comparisons.\n",
    "- For countries with fewer than 5 postings, outliers were removed based on job title only to avoid skewed insights from limited data."
   ]
  },
  {
   "cell_type": "code",
   "execution_count": 48,
   "id": "1aa3b2d3",
   "metadata": {},
   "outputs": [
    {
     "name": "stdout",
     "output_type": "stream",
     "text": [
      "Original dataset size: 22002\n",
      "Filtered dataset size: 21309\n"
     ]
    }
   ],
   "source": [
    "#Calculate global IQR\n",
    "Q1_global = df['salary_month_avg_eur'].quantile(0.25)\n",
    "Q3_global = df['salary_month_avg_eur'].quantile(0.75)\n",
    "IQR_global = Q3_global - Q1_global\n",
    "lower_bound_global = Q1_global - 1.5 * IQR_global\n",
    "upper_bound_global = Q3_global + 1.5 * IQR_global\n",
    "\n",
    "filtered_groups = []\n",
    "\n",
    "#Iterate over groups manually\n",
    "for (country, title), group in df.groupby(['job_country', 'job_title_short']):\n",
    "    if len(group) >= 5:\n",
    "        Q1 = group['salary_month_avg_eur'].quantile(0.25)\n",
    "        Q3 = group['salary_month_avg_eur'].quantile(0.75)\n",
    "        IQR = Q3 - Q1\n",
    "        lower = Q1 - 1.5 * IQR\n",
    "        upper = Q3 + 1.5 * IQR\n",
    "    else:\n",
    "        lower = lower_bound_global\n",
    "        upper = upper_bound_global\n",
    "\n",
    "    filtered = group[\n",
    "        (group['salary_month_avg_eur'] >= lower) &\n",
    "        (group['salary_month_avg_eur'] <= upper)\n",
    "    ]\n",
    "    filtered_groups.append(filtered)\n",
    "\n",
    "# Combine all groups back\n",
    "df_filtered = pd.concat(filtered_groups, ignore_index=True)\n",
    "\n",
    "print(f'Original dataset size: {len(df)}')\n",
    "print(f'Filtered dataset size: {len(df_filtered)}')"
   ]
  },
  {
   "cell_type": "markdown",
   "id": "25d97c1c",
   "metadata": {},
   "source": [
    "### Filter Data\n",
    "Although our main focus is the **European job market**, analyzing US salary trends provides valuable foresight since the United States often leads in technology adoption and skill demand. This helps us benchmark Europe’s position, anticipate emerging trends, and make more informed decisions regarding talent strategy and compensation."
   ]
  },
  {
   "cell_type": "code",
   "execution_count": 49,
   "id": "7c62b56e",
   "metadata": {},
   "outputs": [],
   "source": [
    "eu_us = ['EU', 'US']\n",
    "\n",
    "df_da_eu_us = df_filtered[\n",
    "    (df_filtered['region_group'].isin(eu_us)) &\n",
    "    (df_filtered['job_title_short'] == 'Data Analyst')\n",
    "].copy()"
   ]
  },
  {
   "cell_type": "markdown",
   "id": "4682e437",
   "metadata": {},
   "source": [
    "To better understand how individual data analyst skills influence salaries, we first extract 'analyst_tools' data, convert the job_skills strings into actual Python lists and explode the lists so each skill appears in a separate row — making it easier to analyze skill-specific trends."
   ]
  },
  {
   "cell_type": "code",
   "execution_count": 50,
   "id": "39beefa7",
   "metadata": {},
   "outputs": [],
   "source": [
    "analyst_skills = set()\n",
    "for row in df_da_eu_us['job_type_skills'].dropna().unique():\n",
    "    row_dict = ast.literal_eval(row)\n",
    "    analyst_skills.update(row_dict.get('analyst_tools', []))\n",
    "\n",
    "df_da = df_da_eu_us.dropna(subset=['job_skills', 'salary_month_avg_eur']).copy()\n",
    "df_da['job_skills'] = df_da['job_skills'].apply(ast.literal_eval)\n",
    "df_da = df_da.explode('job_skills')\n",
    "df_plot = df_da[df_da['job_skills'].isin(analyst_skills)].copy()"
   ]
  },
  {
   "cell_type": "markdown",
   "id": "009b695c",
   "metadata": {},
   "source": [
    "### Must-have skills for Data Analysts and how they affect salary\n",
    "\n",
    "To identify essential analytical tools for data analysts, we first extract the most frequently mentioned skills from job postings. Then, we evaluate which of these skills correlate with higher salaries. This analysis helps job seekers prioritize skill acquisition based on both demand and earning potential."
   ]
  },
  {
   "cell_type": "code",
   "execution_count": 51,
   "id": "d9db1f80",
   "metadata": {},
   "outputs": [
    {
     "data": {
      "application/vnd.plotly.v1+json": {
       "config": {
        "plotlyServerURL": "https://plot.ly"
       },
       "data": [
        {
         "marker": {
          "color": {
           "bdata": "w/UoXM9YtkC4HoXrURS3QArXo3D9ILdAKVyPwnV+t0C4HoXrkaC4QAAAAABA4LhAAAAAAEDguEAAAAAAQOC4QGZmZmYmkblAFK5H4bpUvEA=",
           "dtype": "f8"
          },
          "colorscale": [
           [
            0,
            "rgb(247,251,255)"
           ],
           [
            0.125,
            "rgb(222,235,247)"
           ],
           [
            0.25,
            "rgb(198,219,239)"
           ],
           [
            0.375,
            "rgb(158,202,225)"
           ],
           [
            0.5,
            "rgb(107,174,214)"
           ],
           [
            0.625,
            "rgb(66,146,198)"
           ],
           [
            0.75,
            "rgb(33,113,181)"
           ],
           [
            0.875,
            "rgb(8,81,156)"
           ],
           [
            1,
            "rgb(8,48,107)"
           ]
          ]
         },
         "name": "Top Skills",
         "orientation": "h",
         "text": {
          "bdata": "AAAAAABZtkAAAAAAABS3QAAAAAAAIbdAAAAAAAB+t0AAAAAAAKG4QAAAAAAA4LhAAAAAAADguEAAAAAAAOC4QAAAAAAAkblAAAAAAABVvEA=",
          "dtype": "f8"
         },
         "textposition": "auto",
         "type": "bar",
         "x": {
          "bdata": "w/UoXM9YtkC4HoXrURS3QArXo3D9ILdAKVyPwnV+t0C4HoXrkaC4QAAAAABA4LhAAAAAAEDguEAAAAAAQOC4QGZmZmYmkblAFK5H4bpUvEA=",
          "dtype": "f8"
         },
         "xaxis": "x",
         "y": [
          "word",
          "excel",
          "spss",
          "powerpoint",
          "sharepoint",
          "sap",
          "sas",
          "power bi",
          "tableau",
          "looker"
         ],
         "yaxis": "y"
        },
        {
         "marker": {
          "color": [
           "#9ecae1",
           "#084594"
          ]
         },
         "name": "Group Comparison",
         "text": {
          "bdata": "AAAAAABEuEAAAAAAAEG6QA==",
          "dtype": "f8"
         },
         "textposition": "auto",
         "type": "bar",
         "x": [
          "Without Top 3 Skills",
          "With Top 3 Skills"
         ],
         "xaxis": "x2",
         "y": {
          "bdata": "gmDT25FDuEBowTG+7UC6QA==",
          "dtype": "f8"
         },
         "yaxis": "y2"
        }
       ],
       "layout": {
        "annotations": [
         {
          "font": {
           "size": 16
          },
          "showarrow": false,
          "text": "Top 10 In-Demand Analytical Skills Sorted by Salary",
          "x": 0.27,
          "xanchor": "center",
          "xref": "paper",
          "y": 1,
          "yanchor": "bottom",
          "yref": "paper"
         },
         {
          "font": {
           "size": 16
          },
          "showarrow": false,
          "text": "Avg Salary: With vs Without Top 3 Skills",
          "x": 0.8200000000000001,
          "xanchor": "center",
          "xref": "paper",
          "y": 1,
          "yanchor": "bottom",
          "yref": "paper"
         },
         {
          "font": {
           "color": "gray",
           "size": 14
          },
          "showarrow": false,
          "text": "+8.2%",
          "x": 0.5,
          "xref": "x2",
          "y": 7393.021551724139,
          "yref": "y2"
         }
        ],
        "height": 500,
        "margin": {
         "b": 40,
         "l": 60,
         "r": 40,
         "t": 60
        },
        "showlegend": false,
        "template": {
         "data": {
          "bar": [
           {
            "error_x": {
             "color": "#2a3f5f"
            },
            "error_y": {
             "color": "#2a3f5f"
            },
            "marker": {
             "line": {
              "color": "white",
              "width": 0.5
             },
             "pattern": {
              "fillmode": "overlay",
              "size": 10,
              "solidity": 0.2
             }
            },
            "type": "bar"
           }
          ],
          "barpolar": [
           {
            "marker": {
             "line": {
              "color": "white",
              "width": 0.5
             },
             "pattern": {
              "fillmode": "overlay",
              "size": 10,
              "solidity": 0.2
             }
            },
            "type": "barpolar"
           }
          ],
          "carpet": [
           {
            "aaxis": {
             "endlinecolor": "#2a3f5f",
             "gridcolor": "#C8D4E3",
             "linecolor": "#C8D4E3",
             "minorgridcolor": "#C8D4E3",
             "startlinecolor": "#2a3f5f"
            },
            "baxis": {
             "endlinecolor": "#2a3f5f",
             "gridcolor": "#C8D4E3",
             "linecolor": "#C8D4E3",
             "minorgridcolor": "#C8D4E3",
             "startlinecolor": "#2a3f5f"
            },
            "type": "carpet"
           }
          ],
          "choropleth": [
           {
            "colorbar": {
             "outlinewidth": 0,
             "ticks": ""
            },
            "type": "choropleth"
           }
          ],
          "contour": [
           {
            "colorbar": {
             "outlinewidth": 0,
             "ticks": ""
            },
            "colorscale": [
             [
              0,
              "#0d0887"
             ],
             [
              0.1111111111111111,
              "#46039f"
             ],
             [
              0.2222222222222222,
              "#7201a8"
             ],
             [
              0.3333333333333333,
              "#9c179e"
             ],
             [
              0.4444444444444444,
              "#bd3786"
             ],
             [
              0.5555555555555556,
              "#d8576b"
             ],
             [
              0.6666666666666666,
              "#ed7953"
             ],
             [
              0.7777777777777778,
              "#fb9f3a"
             ],
             [
              0.8888888888888888,
              "#fdca26"
             ],
             [
              1,
              "#f0f921"
             ]
            ],
            "type": "contour"
           }
          ],
          "contourcarpet": [
           {
            "colorbar": {
             "outlinewidth": 0,
             "ticks": ""
            },
            "type": "contourcarpet"
           }
          ],
          "heatmap": [
           {
            "colorbar": {
             "outlinewidth": 0,
             "ticks": ""
            },
            "colorscale": [
             [
              0,
              "#0d0887"
             ],
             [
              0.1111111111111111,
              "#46039f"
             ],
             [
              0.2222222222222222,
              "#7201a8"
             ],
             [
              0.3333333333333333,
              "#9c179e"
             ],
             [
              0.4444444444444444,
              "#bd3786"
             ],
             [
              0.5555555555555556,
              "#d8576b"
             ],
             [
              0.6666666666666666,
              "#ed7953"
             ],
             [
              0.7777777777777778,
              "#fb9f3a"
             ],
             [
              0.8888888888888888,
              "#fdca26"
             ],
             [
              1,
              "#f0f921"
             ]
            ],
            "type": "heatmap"
           }
          ],
          "histogram": [
           {
            "marker": {
             "pattern": {
              "fillmode": "overlay",
              "size": 10,
              "solidity": 0.2
             }
            },
            "type": "histogram"
           }
          ],
          "histogram2d": [
           {
            "colorbar": {
             "outlinewidth": 0,
             "ticks": ""
            },
            "colorscale": [
             [
              0,
              "#0d0887"
             ],
             [
              0.1111111111111111,
              "#46039f"
             ],
             [
              0.2222222222222222,
              "#7201a8"
             ],
             [
              0.3333333333333333,
              "#9c179e"
             ],
             [
              0.4444444444444444,
              "#bd3786"
             ],
             [
              0.5555555555555556,
              "#d8576b"
             ],
             [
              0.6666666666666666,
              "#ed7953"
             ],
             [
              0.7777777777777778,
              "#fb9f3a"
             ],
             [
              0.8888888888888888,
              "#fdca26"
             ],
             [
              1,
              "#f0f921"
             ]
            ],
            "type": "histogram2d"
           }
          ],
          "histogram2dcontour": [
           {
            "colorbar": {
             "outlinewidth": 0,
             "ticks": ""
            },
            "colorscale": [
             [
              0,
              "#0d0887"
             ],
             [
              0.1111111111111111,
              "#46039f"
             ],
             [
              0.2222222222222222,
              "#7201a8"
             ],
             [
              0.3333333333333333,
              "#9c179e"
             ],
             [
              0.4444444444444444,
              "#bd3786"
             ],
             [
              0.5555555555555556,
              "#d8576b"
             ],
             [
              0.6666666666666666,
              "#ed7953"
             ],
             [
              0.7777777777777778,
              "#fb9f3a"
             ],
             [
              0.8888888888888888,
              "#fdca26"
             ],
             [
              1,
              "#f0f921"
             ]
            ],
            "type": "histogram2dcontour"
           }
          ],
          "mesh3d": [
           {
            "colorbar": {
             "outlinewidth": 0,
             "ticks": ""
            },
            "type": "mesh3d"
           }
          ],
          "parcoords": [
           {
            "line": {
             "colorbar": {
              "outlinewidth": 0,
              "ticks": ""
             }
            },
            "type": "parcoords"
           }
          ],
          "pie": [
           {
            "automargin": true,
            "type": "pie"
           }
          ],
          "scatter": [
           {
            "fillpattern": {
             "fillmode": "overlay",
             "size": 10,
             "solidity": 0.2
            },
            "type": "scatter"
           }
          ],
          "scatter3d": [
           {
            "line": {
             "colorbar": {
              "outlinewidth": 0,
              "ticks": ""
             }
            },
            "marker": {
             "colorbar": {
              "outlinewidth": 0,
              "ticks": ""
             }
            },
            "type": "scatter3d"
           }
          ],
          "scattercarpet": [
           {
            "marker": {
             "colorbar": {
              "outlinewidth": 0,
              "ticks": ""
             }
            },
            "type": "scattercarpet"
           }
          ],
          "scattergeo": [
           {
            "marker": {
             "colorbar": {
              "outlinewidth": 0,
              "ticks": ""
             }
            },
            "type": "scattergeo"
           }
          ],
          "scattergl": [
           {
            "marker": {
             "colorbar": {
              "outlinewidth": 0,
              "ticks": ""
             }
            },
            "type": "scattergl"
           }
          ],
          "scattermap": [
           {
            "marker": {
             "colorbar": {
              "outlinewidth": 0,
              "ticks": ""
             }
            },
            "type": "scattermap"
           }
          ],
          "scattermapbox": [
           {
            "marker": {
             "colorbar": {
              "outlinewidth": 0,
              "ticks": ""
             }
            },
            "type": "scattermapbox"
           }
          ],
          "scatterpolar": [
           {
            "marker": {
             "colorbar": {
              "outlinewidth": 0,
              "ticks": ""
             }
            },
            "type": "scatterpolar"
           }
          ],
          "scatterpolargl": [
           {
            "marker": {
             "colorbar": {
              "outlinewidth": 0,
              "ticks": ""
             }
            },
            "type": "scatterpolargl"
           }
          ],
          "scatterternary": [
           {
            "marker": {
             "colorbar": {
              "outlinewidth": 0,
              "ticks": ""
             }
            },
            "type": "scatterternary"
           }
          ],
          "surface": [
           {
            "colorbar": {
             "outlinewidth": 0,
             "ticks": ""
            },
            "colorscale": [
             [
              0,
              "#0d0887"
             ],
             [
              0.1111111111111111,
              "#46039f"
             ],
             [
              0.2222222222222222,
              "#7201a8"
             ],
             [
              0.3333333333333333,
              "#9c179e"
             ],
             [
              0.4444444444444444,
              "#bd3786"
             ],
             [
              0.5555555555555556,
              "#d8576b"
             ],
             [
              0.6666666666666666,
              "#ed7953"
             ],
             [
              0.7777777777777778,
              "#fb9f3a"
             ],
             [
              0.8888888888888888,
              "#fdca26"
             ],
             [
              1,
              "#f0f921"
             ]
            ],
            "type": "surface"
           }
          ],
          "table": [
           {
            "cells": {
             "fill": {
              "color": "#EBF0F8"
             },
             "line": {
              "color": "white"
             }
            },
            "header": {
             "fill": {
              "color": "#C8D4E3"
             },
             "line": {
              "color": "white"
             }
            },
            "type": "table"
           }
          ]
         },
         "layout": {
          "annotationdefaults": {
           "arrowcolor": "#2a3f5f",
           "arrowhead": 0,
           "arrowwidth": 1
          },
          "autotypenumbers": "strict",
          "coloraxis": {
           "colorbar": {
            "outlinewidth": 0,
            "ticks": ""
           }
          },
          "colorscale": {
           "diverging": [
            [
             0,
             "#8e0152"
            ],
            [
             0.1,
             "#c51b7d"
            ],
            [
             0.2,
             "#de77ae"
            ],
            [
             0.3,
             "#f1b6da"
            ],
            [
             0.4,
             "#fde0ef"
            ],
            [
             0.5,
             "#f7f7f7"
            ],
            [
             0.6,
             "#e6f5d0"
            ],
            [
             0.7,
             "#b8e186"
            ],
            [
             0.8,
             "#7fbc41"
            ],
            [
             0.9,
             "#4d9221"
            ],
            [
             1,
             "#276419"
            ]
           ],
           "sequential": [
            [
             0,
             "#0d0887"
            ],
            [
             0.1111111111111111,
             "#46039f"
            ],
            [
             0.2222222222222222,
             "#7201a8"
            ],
            [
             0.3333333333333333,
             "#9c179e"
            ],
            [
             0.4444444444444444,
             "#bd3786"
            ],
            [
             0.5555555555555556,
             "#d8576b"
            ],
            [
             0.6666666666666666,
             "#ed7953"
            ],
            [
             0.7777777777777778,
             "#fb9f3a"
            ],
            [
             0.8888888888888888,
             "#fdca26"
            ],
            [
             1,
             "#f0f921"
            ]
           ],
           "sequentialminus": [
            [
             0,
             "#0d0887"
            ],
            [
             0.1111111111111111,
             "#46039f"
            ],
            [
             0.2222222222222222,
             "#7201a8"
            ],
            [
             0.3333333333333333,
             "#9c179e"
            ],
            [
             0.4444444444444444,
             "#bd3786"
            ],
            [
             0.5555555555555556,
             "#d8576b"
            ],
            [
             0.6666666666666666,
             "#ed7953"
            ],
            [
             0.7777777777777778,
             "#fb9f3a"
            ],
            [
             0.8888888888888888,
             "#fdca26"
            ],
            [
             1,
             "#f0f921"
            ]
           ]
          },
          "colorway": [
           "#636efa",
           "#EF553B",
           "#00cc96",
           "#ab63fa",
           "#FFA15A",
           "#19d3f3",
           "#FF6692",
           "#B6E880",
           "#FF97FF",
           "#FECB52"
          ],
          "font": {
           "color": "#2a3f5f"
          },
          "geo": {
           "bgcolor": "white",
           "lakecolor": "white",
           "landcolor": "white",
           "showlakes": true,
           "showland": true,
           "subunitcolor": "#C8D4E3"
          },
          "hoverlabel": {
           "align": "left"
          },
          "hovermode": "closest",
          "mapbox": {
           "style": "light"
          },
          "paper_bgcolor": "white",
          "plot_bgcolor": "white",
          "polar": {
           "angularaxis": {
            "gridcolor": "#EBF0F8",
            "linecolor": "#EBF0F8",
            "ticks": ""
           },
           "bgcolor": "white",
           "radialaxis": {
            "gridcolor": "#EBF0F8",
            "linecolor": "#EBF0F8",
            "ticks": ""
           }
          },
          "scene": {
           "xaxis": {
            "backgroundcolor": "white",
            "gridcolor": "#DFE8F3",
            "gridwidth": 2,
            "linecolor": "#EBF0F8",
            "showbackground": true,
            "ticks": "",
            "zerolinecolor": "#EBF0F8"
           },
           "yaxis": {
            "backgroundcolor": "white",
            "gridcolor": "#DFE8F3",
            "gridwidth": 2,
            "linecolor": "#EBF0F8",
            "showbackground": true,
            "ticks": "",
            "zerolinecolor": "#EBF0F8"
           },
           "zaxis": {
            "backgroundcolor": "white",
            "gridcolor": "#DFE8F3",
            "gridwidth": 2,
            "linecolor": "#EBF0F8",
            "showbackground": true,
            "ticks": "",
            "zerolinecolor": "#EBF0F8"
           }
          },
          "shapedefaults": {
           "line": {
            "color": "#2a3f5f"
           }
          },
          "ternary": {
           "aaxis": {
            "gridcolor": "#DFE8F3",
            "linecolor": "#A2B1C6",
            "ticks": ""
           },
           "baxis": {
            "gridcolor": "#DFE8F3",
            "linecolor": "#A2B1C6",
            "ticks": ""
           },
           "bgcolor": "white",
           "caxis": {
            "gridcolor": "#DFE8F3",
            "linecolor": "#A2B1C6",
            "ticks": ""
           }
          },
          "title": {
           "x": 0.05
          },
          "xaxis": {
           "automargin": true,
           "gridcolor": "#EBF0F8",
           "linecolor": "#EBF0F8",
           "ticks": "",
           "title": {
            "standoff": 15
           },
           "zerolinecolor": "#EBF0F8",
           "zerolinewidth": 2
          },
          "yaxis": {
           "automargin": true,
           "gridcolor": "#EBF0F8",
           "linecolor": "#EBF0F8",
           "ticks": "",
           "title": {
            "standoff": 15
           },
           "zerolinecolor": "#EBF0F8",
           "zerolinewidth": 2
          }
         }
        },
        "width": 1000,
        "xaxis": {
         "anchor": "y",
         "domain": [
          0,
          0.54
         ],
         "showticklabels": false,
         "title": {
          "text": "Median Salary, EUR"
         }
        },
        "xaxis2": {
         "anchor": "y2",
         "domain": [
          0.64,
          1
         ],
         "title": {
          "text": ""
         }
        },
        "yaxis": {
         "anchor": "x",
         "domain": [
          0,
          1
         ],
         "tickmode": "array",
         "ticktext": [
          "word",
          "excel",
          "spss",
          "powerpoint",
          "sharepoint",
          "sap",
          "sas",
          "<b>power bi</b>",
          "<b>tableau</b>",
          "<b>looker</b>"
         ],
         "tickvals": [
          "word",
          "excel",
          "spss",
          "powerpoint",
          "sharepoint",
          "sap",
          "sas",
          "power bi",
          "tableau",
          "looker"
         ],
         "title": {
          "text": ""
         }
        },
        "yaxis2": {
         "anchor": "x2",
         "domain": [
          0,
          1
         ],
         "range": [
          0,
          8065.114420062696
         ],
         "showticklabels": false,
         "title": {
          "text": ""
         }
        }
       }
      }
     },
     "metadata": {},
     "output_type": "display_data"
    }
   ],
   "source": [
    "# Find top 10 skills by number of postings\n",
    "top10_by_count = (\n",
    "    df_plot['job_skills']\n",
    "    .value_counts()\n",
    "    .head(10)\n",
    "    .index.tolist()\n",
    ")\n",
    "\n",
    "df_top10_count = df_plot[df_plot['job_skills'].isin(top10_by_count)]\n",
    "\n",
    "top10_salary_skills = (\n",
    "    df_top10_count.groupby('job_skills')['salary_month_avg_eur']\n",
    "    .median()\n",
    "    .sort_values(ascending=False)\n",
    "    .head(10)\n",
    "    .reset_index()\n",
    ")\n",
    "\n",
    "top10_salary_skills['job_postings'] = top10_salary_skills['job_skills'].apply(\n",
    "    lambda s: (df_plot['job_skills'] == s).sum()\n",
    ")\n",
    "\n",
    "top10_salary_skills.columns = ['skill', 'median_salary_eur', 'job_postings']\n",
    "top10_salary_skills = top10_salary_skills.sort_values('median_salary_eur')\n",
    "\n",
    "top_skills_set = set(top10_salary_skills['skill'])\n",
    "\n",
    "# Define top 3 highest-paid skills from these top 10\n",
    "top3_skills_set = set(top10_salary_skills.sort_values('median_salary_eur', ascending=False)['skill'].head(3))\n",
    "\n",
    "df_plot['has_top_skill'] = df_plot['job_skills'].apply(lambda s: s in top3_skills_set)\n",
    "df_valid = df_plot.dropna(subset=['salary_month_avg_eur'])\n",
    "\n",
    "avg_salary = (\n",
    "    df_valid.groupby('has_top_skill')['salary_month_avg_eur']\n",
    "    .mean()\n",
    "    .reset_index()\n",
    ")\n",
    "\n",
    "avg_salary['group'] = avg_salary['has_top_skill'].map({\n",
    "    True: 'With Top 3 Skills',\n",
    "    False: 'Without Top 3 Skills'\n",
    "})\n",
    "\n",
    "avg_salary['group'] = pd.Categorical(\n",
    "    avg_salary['group'],\n",
    "    categories=['Without Top 3 Skills', 'With Top 3 Skills'],\n",
    "    ordered=True\n",
    ")\n",
    "avg_salary = avg_salary.sort_values('group')\n",
    "\n",
    "with_salary = avg_salary.loc[avg_salary['group'] == 'With Top 3 Skills', 'salary_month_avg_eur'].values[0]\n",
    "without_salary = avg_salary.loc[avg_salary['group'] == 'Without Top 3 Skills', 'salary_month_avg_eur'].values[0]\n",
    "pct_diff = (with_salary - without_salary) / without_salary * 100\n",
    "\n",
    "# Plotting\n",
    "fig = make_subplots(\n",
    "    rows=1, cols=2,\n",
    "    column_widths=[0.6, 0.4],\n",
    "    subplot_titles=(\"Top 10 In-Demand Analytical Skills Sorted by Salary\", \"Avg Salary: With vs Without Top 3 Skills\"),\n",
    "    horizontal_spacing=0.1\n",
    ")\n",
    "\n",
    "# Left: horizontal bar for median salary of top 10 skills\n",
    "fig.add_trace(go.Bar(\n",
    "    x=top10_salary_skills['median_salary_eur'],\n",
    "    y=top10_salary_skills['skill'],\n",
    "    orientation='h',\n",
    "    marker=dict(color=top10_salary_skills['median_salary_eur'], colorscale='Blues'),\n",
    "    text=top10_salary_skills['median_salary_eur'].round(0).astype(int),\n",
    "    textposition='auto',\n",
    "    name='Top Skills'\n",
    "), row=1, col=1)\n",
    "\n",
    "top_3_skills = set(top10_salary_skills.tail(3)['skill'])\n",
    "ticktext = [f\"<b>{s}</b>\" if s in top_3_skills else s for s in top10_salary_skills['skill']]\n",
    "\n",
    "fig.update_yaxes(\n",
    "    tickmode='array',\n",
    "    tickvals=top10_salary_skills['skill'],\n",
    "    ticktext=ticktext,\n",
    "    row=1, col=1\n",
    ")\n",
    "\n",
    "# Right: bar for avg salary with/without top 3 skills\n",
    "fig.add_trace(go.Bar(\n",
    "    x=avg_salary['group'],\n",
    "    y=avg_salary['salary_month_avg_eur'],\n",
    "    marker_color=['#9ecae1' if g == 'Without Top 3 Skills' else '#084594' for g in avg_salary['group']],\n",
    "    text=avg_salary['salary_month_avg_eur'].round(0).astype(int),\n",
    "    textposition='auto',\n",
    "    name='Group Comparison'\n",
    "), row=1, col=2)\n",
    "\n",
    "fig.update_yaxes(\n",
    "    range=[0, avg_salary['salary_month_avg_eur'].max() * 1.2],\n",
    "    row=1, col=2\n",
    ")\n",
    "\n",
    "fig.add_annotation(\n",
    "    x=0.5,\n",
    "    y=max(avg_salary['salary_month_avg_eur']) * 1.1,\n",
    "    text=f'+{pct_diff:.1f}%',\n",
    "    showarrow=False,\n",
    "    font=dict(size=14, color='gray'),\n",
    "    xref='x2',\n",
    "    yref='y2'\n",
    ")\n",
    "\n",
    "fig.update_layout(\n",
    "    height=500,\n",
    "    width=1000,\n",
    "    template='plotly_white',\n",
    "    showlegend=False,\n",
    "    margin=dict(t=60, b=40, l=60, r=40),\n",
    ")\n",
    "\n",
    "fig.update_xaxes(title_text='Median Salary, EUR', row=1, col=1)\n",
    "fig.update_xaxes(showticklabels=False, row=1, col=1)\n",
    "fig.update_yaxes(title_text='', row=1, col=1)\n",
    "fig.update_xaxes(title_text='', row=1, col=2)\n",
    "fig.update_yaxes(title_text='', showticklabels=False, row=1, col=2)\n",
    "\n",
    "fig.show()"
   ]
  },
  {
   "cell_type": "markdown",
   "id": "69377d43",
   "metadata": {},
   "source": [
    "- With Top 3 Skills: Job posting has at least one of the top 3 skills.\n",
    "- Without Top 3 Skills: Job posting has none of the top 3 skills.\n",
    "\n",
    "Tools like **Looker**, **Tableau**, and **Power BI** top the list, offering the highest salary within the top-10 in-demand skills. Notably, candidates with at least one of the top 3 tools command an 8.2% higher average salary compared to those without. This emphasizes the strategic value of learning high-demand BI tools — both for entering the job market and for accelerating salary growth."
   ]
  },
  {
   "cell_type": "markdown",
   "id": "3911f306",
   "metadata": {},
   "source": [
    "### Top-paying analytical skills and their impact on salary\n",
    "\n",
    "While some tools are commonly requested, others—though less frequent—offer significantly higher salaries. This section uncovers the most lucrative analytical skills and compares salary outcomes for analysts who possess them versus those who don’t."
   ]
  },
  {
   "cell_type": "code",
   "execution_count": 52,
   "id": "715d3fb5",
   "metadata": {},
   "outputs": [
    {
     "data": {
      "application/vnd.plotly.v1+json": {
       "config": {
        "plotlyServerURL": "https://plot.ly"
       },
       "data": [
        {
         "marker": {
          "color": {
           "bdata": "AAAAAEDguEAAAAAAQOC4QGZmZmYmkblA16NwPQpCukDXo3A9CkK6QD0K16Pw8rpAMzMzM7M5u0AUrkfhulS8QIXrUbieBb1AFK5H4YprwUA=",
           "dtype": "f8"
          },
          "colorscale": [
           [
            0,
            "rgb(247,251,255)"
           ],
           [
            0.125,
            "rgb(222,235,247)"
           ],
           [
            0.25,
            "rgb(198,219,239)"
           ],
           [
            0.375,
            "rgb(158,202,225)"
           ],
           [
            0.5,
            "rgb(107,174,214)"
           ],
           [
            0.625,
            "rgb(66,146,198)"
           ],
           [
            0.75,
            "rgb(33,113,181)"
           ],
           [
            0.875,
            "rgb(8,81,156)"
           ],
           [
            1,
            "rgb(8,48,107)"
           ]
          ]
         },
         "name": "Top Skills",
         "orientation": "h",
         "text": {
          "bdata": "AAAAAADguEAAAAAAAOC4QAAAAAAAkblAAAAAAABCukAAAAAAAEK6QAAAAAAA87pAAAAAAAA6u0AAAAAAAFW8QAAAAAAABr1AAAAAAIBrwUA=",
          "dtype": "f8"
         },
         "textposition": "auto",
         "type": "bar",
         "x": {
          "bdata": "AAAAAEDguEAAAAAAQOC4QGZmZmYmkblA16NwPQpCukDXo3A9CkK6QD0K16Pw8rpAMzMzM7M5u0AUrkfhulS8QIXrUbieBb1AFK5H4YprwUA=",
          "dtype": "f8"
         },
         "xaxis": "x",
         "y": [
          "sas",
          "power bi",
          "tableau",
          "visio",
          "dax",
          "qlik",
          "ssis",
          "looker",
          "alteryx",
          "splunk"
         ],
         "yaxis": "y"
        },
        {
         "marker": {
          "color": [
           "#9ecae1",
           "#084594"
          ]
         },
         "name": "Group Comparison",
         "text": {
          "bdata": "AAAAAADCuEAAAAAAAH28QA==",
          "dtype": "f8"
         },
         "textposition": "auto",
         "type": "bar",
         "x": [
          "Without Top 3 Skills",
          "With Top 3 Skills"
         ],
         "xaxis": "x2",
         "y": {
          "bdata": "fy1nPFTCuEBInGcRLH28QA==",
          "dtype": "f8"
         },
         "yaxis": "y2"
        }
       ],
       "layout": {
        "annotations": [
         {
          "font": {
           "size": 16
          },
          "showarrow": false,
          "text": "Top 10 Highest Paid Analytical Skills",
          "x": 0.27,
          "xanchor": "center",
          "xref": "paper",
          "y": 1,
          "yanchor": "bottom",
          "yref": "paper"
         },
         {
          "font": {
           "size": 16
          },
          "showarrow": false,
          "text": "Avg Salary: With vs Without Top 3 Skills",
          "x": 0.8200000000000001,
          "xanchor": "center",
          "xref": "paper",
          "y": 1,
          "yanchor": "bottom",
          "yref": "paper"
         },
         {
          "font": {
           "color": "gray",
           "size": 14
          },
          "showarrow": false,
          "text": "+15.1%",
          "x": 0.5,
          "xref": "x2",
          "y": 8022.489354632588,
          "yref": "y2"
         }
        ],
        "height": 500,
        "margin": {
         "b": 40,
         "l": 60,
         "r": 40,
         "t": 60
        },
        "showlegend": false,
        "template": {
         "data": {
          "bar": [
           {
            "error_x": {
             "color": "#2a3f5f"
            },
            "error_y": {
             "color": "#2a3f5f"
            },
            "marker": {
             "line": {
              "color": "white",
              "width": 0.5
             },
             "pattern": {
              "fillmode": "overlay",
              "size": 10,
              "solidity": 0.2
             }
            },
            "type": "bar"
           }
          ],
          "barpolar": [
           {
            "marker": {
             "line": {
              "color": "white",
              "width": 0.5
             },
             "pattern": {
              "fillmode": "overlay",
              "size": 10,
              "solidity": 0.2
             }
            },
            "type": "barpolar"
           }
          ],
          "carpet": [
           {
            "aaxis": {
             "endlinecolor": "#2a3f5f",
             "gridcolor": "#C8D4E3",
             "linecolor": "#C8D4E3",
             "minorgridcolor": "#C8D4E3",
             "startlinecolor": "#2a3f5f"
            },
            "baxis": {
             "endlinecolor": "#2a3f5f",
             "gridcolor": "#C8D4E3",
             "linecolor": "#C8D4E3",
             "minorgridcolor": "#C8D4E3",
             "startlinecolor": "#2a3f5f"
            },
            "type": "carpet"
           }
          ],
          "choropleth": [
           {
            "colorbar": {
             "outlinewidth": 0,
             "ticks": ""
            },
            "type": "choropleth"
           }
          ],
          "contour": [
           {
            "colorbar": {
             "outlinewidth": 0,
             "ticks": ""
            },
            "colorscale": [
             [
              0,
              "#0d0887"
             ],
             [
              0.1111111111111111,
              "#46039f"
             ],
             [
              0.2222222222222222,
              "#7201a8"
             ],
             [
              0.3333333333333333,
              "#9c179e"
             ],
             [
              0.4444444444444444,
              "#bd3786"
             ],
             [
              0.5555555555555556,
              "#d8576b"
             ],
             [
              0.6666666666666666,
              "#ed7953"
             ],
             [
              0.7777777777777778,
              "#fb9f3a"
             ],
             [
              0.8888888888888888,
              "#fdca26"
             ],
             [
              1,
              "#f0f921"
             ]
            ],
            "type": "contour"
           }
          ],
          "contourcarpet": [
           {
            "colorbar": {
             "outlinewidth": 0,
             "ticks": ""
            },
            "type": "contourcarpet"
           }
          ],
          "heatmap": [
           {
            "colorbar": {
             "outlinewidth": 0,
             "ticks": ""
            },
            "colorscale": [
             [
              0,
              "#0d0887"
             ],
             [
              0.1111111111111111,
              "#46039f"
             ],
             [
              0.2222222222222222,
              "#7201a8"
             ],
             [
              0.3333333333333333,
              "#9c179e"
             ],
             [
              0.4444444444444444,
              "#bd3786"
             ],
             [
              0.5555555555555556,
              "#d8576b"
             ],
             [
              0.6666666666666666,
              "#ed7953"
             ],
             [
              0.7777777777777778,
              "#fb9f3a"
             ],
             [
              0.8888888888888888,
              "#fdca26"
             ],
             [
              1,
              "#f0f921"
             ]
            ],
            "type": "heatmap"
           }
          ],
          "histogram": [
           {
            "marker": {
             "pattern": {
              "fillmode": "overlay",
              "size": 10,
              "solidity": 0.2
             }
            },
            "type": "histogram"
           }
          ],
          "histogram2d": [
           {
            "colorbar": {
             "outlinewidth": 0,
             "ticks": ""
            },
            "colorscale": [
             [
              0,
              "#0d0887"
             ],
             [
              0.1111111111111111,
              "#46039f"
             ],
             [
              0.2222222222222222,
              "#7201a8"
             ],
             [
              0.3333333333333333,
              "#9c179e"
             ],
             [
              0.4444444444444444,
              "#bd3786"
             ],
             [
              0.5555555555555556,
              "#d8576b"
             ],
             [
              0.6666666666666666,
              "#ed7953"
             ],
             [
              0.7777777777777778,
              "#fb9f3a"
             ],
             [
              0.8888888888888888,
              "#fdca26"
             ],
             [
              1,
              "#f0f921"
             ]
            ],
            "type": "histogram2d"
           }
          ],
          "histogram2dcontour": [
           {
            "colorbar": {
             "outlinewidth": 0,
             "ticks": ""
            },
            "colorscale": [
             [
              0,
              "#0d0887"
             ],
             [
              0.1111111111111111,
              "#46039f"
             ],
             [
              0.2222222222222222,
              "#7201a8"
             ],
             [
              0.3333333333333333,
              "#9c179e"
             ],
             [
              0.4444444444444444,
              "#bd3786"
             ],
             [
              0.5555555555555556,
              "#d8576b"
             ],
             [
              0.6666666666666666,
              "#ed7953"
             ],
             [
              0.7777777777777778,
              "#fb9f3a"
             ],
             [
              0.8888888888888888,
              "#fdca26"
             ],
             [
              1,
              "#f0f921"
             ]
            ],
            "type": "histogram2dcontour"
           }
          ],
          "mesh3d": [
           {
            "colorbar": {
             "outlinewidth": 0,
             "ticks": ""
            },
            "type": "mesh3d"
           }
          ],
          "parcoords": [
           {
            "line": {
             "colorbar": {
              "outlinewidth": 0,
              "ticks": ""
             }
            },
            "type": "parcoords"
           }
          ],
          "pie": [
           {
            "automargin": true,
            "type": "pie"
           }
          ],
          "scatter": [
           {
            "fillpattern": {
             "fillmode": "overlay",
             "size": 10,
             "solidity": 0.2
            },
            "type": "scatter"
           }
          ],
          "scatter3d": [
           {
            "line": {
             "colorbar": {
              "outlinewidth": 0,
              "ticks": ""
             }
            },
            "marker": {
             "colorbar": {
              "outlinewidth": 0,
              "ticks": ""
             }
            },
            "type": "scatter3d"
           }
          ],
          "scattercarpet": [
           {
            "marker": {
             "colorbar": {
              "outlinewidth": 0,
              "ticks": ""
             }
            },
            "type": "scattercarpet"
           }
          ],
          "scattergeo": [
           {
            "marker": {
             "colorbar": {
              "outlinewidth": 0,
              "ticks": ""
             }
            },
            "type": "scattergeo"
           }
          ],
          "scattergl": [
           {
            "marker": {
             "colorbar": {
              "outlinewidth": 0,
              "ticks": ""
             }
            },
            "type": "scattergl"
           }
          ],
          "scattermap": [
           {
            "marker": {
             "colorbar": {
              "outlinewidth": 0,
              "ticks": ""
             }
            },
            "type": "scattermap"
           }
          ],
          "scattermapbox": [
           {
            "marker": {
             "colorbar": {
              "outlinewidth": 0,
              "ticks": ""
             }
            },
            "type": "scattermapbox"
           }
          ],
          "scatterpolar": [
           {
            "marker": {
             "colorbar": {
              "outlinewidth": 0,
              "ticks": ""
             }
            },
            "type": "scatterpolar"
           }
          ],
          "scatterpolargl": [
           {
            "marker": {
             "colorbar": {
              "outlinewidth": 0,
              "ticks": ""
             }
            },
            "type": "scatterpolargl"
           }
          ],
          "scatterternary": [
           {
            "marker": {
             "colorbar": {
              "outlinewidth": 0,
              "ticks": ""
             }
            },
            "type": "scatterternary"
           }
          ],
          "surface": [
           {
            "colorbar": {
             "outlinewidth": 0,
             "ticks": ""
            },
            "colorscale": [
             [
              0,
              "#0d0887"
             ],
             [
              0.1111111111111111,
              "#46039f"
             ],
             [
              0.2222222222222222,
              "#7201a8"
             ],
             [
              0.3333333333333333,
              "#9c179e"
             ],
             [
              0.4444444444444444,
              "#bd3786"
             ],
             [
              0.5555555555555556,
              "#d8576b"
             ],
             [
              0.6666666666666666,
              "#ed7953"
             ],
             [
              0.7777777777777778,
              "#fb9f3a"
             ],
             [
              0.8888888888888888,
              "#fdca26"
             ],
             [
              1,
              "#f0f921"
             ]
            ],
            "type": "surface"
           }
          ],
          "table": [
           {
            "cells": {
             "fill": {
              "color": "#EBF0F8"
             },
             "line": {
              "color": "white"
             }
            },
            "header": {
             "fill": {
              "color": "#C8D4E3"
             },
             "line": {
              "color": "white"
             }
            },
            "type": "table"
           }
          ]
         },
         "layout": {
          "annotationdefaults": {
           "arrowcolor": "#2a3f5f",
           "arrowhead": 0,
           "arrowwidth": 1
          },
          "autotypenumbers": "strict",
          "coloraxis": {
           "colorbar": {
            "outlinewidth": 0,
            "ticks": ""
           }
          },
          "colorscale": {
           "diverging": [
            [
             0,
             "#8e0152"
            ],
            [
             0.1,
             "#c51b7d"
            ],
            [
             0.2,
             "#de77ae"
            ],
            [
             0.3,
             "#f1b6da"
            ],
            [
             0.4,
             "#fde0ef"
            ],
            [
             0.5,
             "#f7f7f7"
            ],
            [
             0.6,
             "#e6f5d0"
            ],
            [
             0.7,
             "#b8e186"
            ],
            [
             0.8,
             "#7fbc41"
            ],
            [
             0.9,
             "#4d9221"
            ],
            [
             1,
             "#276419"
            ]
           ],
           "sequential": [
            [
             0,
             "#0d0887"
            ],
            [
             0.1111111111111111,
             "#46039f"
            ],
            [
             0.2222222222222222,
             "#7201a8"
            ],
            [
             0.3333333333333333,
             "#9c179e"
            ],
            [
             0.4444444444444444,
             "#bd3786"
            ],
            [
             0.5555555555555556,
             "#d8576b"
            ],
            [
             0.6666666666666666,
             "#ed7953"
            ],
            [
             0.7777777777777778,
             "#fb9f3a"
            ],
            [
             0.8888888888888888,
             "#fdca26"
            ],
            [
             1,
             "#f0f921"
            ]
           ],
           "sequentialminus": [
            [
             0,
             "#0d0887"
            ],
            [
             0.1111111111111111,
             "#46039f"
            ],
            [
             0.2222222222222222,
             "#7201a8"
            ],
            [
             0.3333333333333333,
             "#9c179e"
            ],
            [
             0.4444444444444444,
             "#bd3786"
            ],
            [
             0.5555555555555556,
             "#d8576b"
            ],
            [
             0.6666666666666666,
             "#ed7953"
            ],
            [
             0.7777777777777778,
             "#fb9f3a"
            ],
            [
             0.8888888888888888,
             "#fdca26"
            ],
            [
             1,
             "#f0f921"
            ]
           ]
          },
          "colorway": [
           "#636efa",
           "#EF553B",
           "#00cc96",
           "#ab63fa",
           "#FFA15A",
           "#19d3f3",
           "#FF6692",
           "#B6E880",
           "#FF97FF",
           "#FECB52"
          ],
          "font": {
           "color": "#2a3f5f"
          },
          "geo": {
           "bgcolor": "white",
           "lakecolor": "white",
           "landcolor": "white",
           "showlakes": true,
           "showland": true,
           "subunitcolor": "#C8D4E3"
          },
          "hoverlabel": {
           "align": "left"
          },
          "hovermode": "closest",
          "mapbox": {
           "style": "light"
          },
          "paper_bgcolor": "white",
          "plot_bgcolor": "white",
          "polar": {
           "angularaxis": {
            "gridcolor": "#EBF0F8",
            "linecolor": "#EBF0F8",
            "ticks": ""
           },
           "bgcolor": "white",
           "radialaxis": {
            "gridcolor": "#EBF0F8",
            "linecolor": "#EBF0F8",
            "ticks": ""
           }
          },
          "scene": {
           "xaxis": {
            "backgroundcolor": "white",
            "gridcolor": "#DFE8F3",
            "gridwidth": 2,
            "linecolor": "#EBF0F8",
            "showbackground": true,
            "ticks": "",
            "zerolinecolor": "#EBF0F8"
           },
           "yaxis": {
            "backgroundcolor": "white",
            "gridcolor": "#DFE8F3",
            "gridwidth": 2,
            "linecolor": "#EBF0F8",
            "showbackground": true,
            "ticks": "",
            "zerolinecolor": "#EBF0F8"
           },
           "zaxis": {
            "backgroundcolor": "white",
            "gridcolor": "#DFE8F3",
            "gridwidth": 2,
            "linecolor": "#EBF0F8",
            "showbackground": true,
            "ticks": "",
            "zerolinecolor": "#EBF0F8"
           }
          },
          "shapedefaults": {
           "line": {
            "color": "#2a3f5f"
           }
          },
          "ternary": {
           "aaxis": {
            "gridcolor": "#DFE8F3",
            "linecolor": "#A2B1C6",
            "ticks": ""
           },
           "baxis": {
            "gridcolor": "#DFE8F3",
            "linecolor": "#A2B1C6",
            "ticks": ""
           },
           "bgcolor": "white",
           "caxis": {
            "gridcolor": "#DFE8F3",
            "linecolor": "#A2B1C6",
            "ticks": ""
           }
          },
          "title": {
           "x": 0.05
          },
          "xaxis": {
           "automargin": true,
           "gridcolor": "#EBF0F8",
           "linecolor": "#EBF0F8",
           "ticks": "",
           "title": {
            "standoff": 15
           },
           "zerolinecolor": "#EBF0F8",
           "zerolinewidth": 2
          },
          "yaxis": {
           "automargin": true,
           "gridcolor": "#EBF0F8",
           "linecolor": "#EBF0F8",
           "ticks": "",
           "title": {
            "standoff": 15
           },
           "zerolinecolor": "#EBF0F8",
           "zerolinewidth": 2
          }
         }
        },
        "width": 1000,
        "xaxis": {
         "anchor": "y",
         "domain": [
          0,
          0.54
         ],
         "showticklabels": false,
         "title": {
          "text": "Median Salary, EUR"
         }
        },
        "xaxis2": {
         "anchor": "y2",
         "domain": [
          0.64,
          1
         ],
         "title": {
          "text": ""
         }
        },
        "yaxis": {
         "anchor": "x",
         "domain": [
          0,
          1
         ],
         "tickmode": "array",
         "ticktext": [
          "sas",
          "power bi",
          "tableau",
          "visio",
          "dax",
          "qlik",
          "ssis",
          "<b>looker</b>",
          "<b>alteryx</b>",
          "<b>splunk</b>"
         ],
         "tickvals": [
          "sas",
          "power bi",
          "tableau",
          "visio",
          "dax",
          "qlik",
          "ssis",
          "looker",
          "alteryx",
          "splunk"
         ],
         "title": {
          "text": ""
         }
        },
        "yaxis2": {
         "anchor": "x2",
         "domain": [
          0,
          1
         ],
         "range": [
          0,
          8751.806568690095
         ],
         "showticklabels": false,
         "title": {
          "text": ""
         }
        }
       }
      }
     },
     "metadata": {},
     "output_type": "display_data"
    }
   ],
   "source": [
    "# Top 10 highest paid skills\n",
    "top10_salary_skills = (\n",
    "    df_plot.groupby('job_skills')['salary_month_avg_eur']\n",
    "    .median()\n",
    "    .sort_values(ascending=False)\n",
    "    .head(10)\n",
    "    .reset_index()\n",
    ")\n",
    "\n",
    "top10_salary_skills.columns = ['skill', 'median_salary_eur']\n",
    "top10_salary_skills = top10_salary_skills.sort_values('median_salary_eur')\n",
    "top_skills_set = set(top10_salary_skills['skill'])\n",
    "\n",
    "# With vs Without top 3 highest-paid skills\n",
    "top3_skills_set = set(top10_salary_skills.sort_values('median_salary_eur', ascending=False)['skill'].head(3))\n",
    "\n",
    "df_plot['has_top_skill'] = df_plot['job_skills'].apply(lambda s: s in top3_skills_set)\n",
    "df_valid = df_plot.dropna(subset=['salary_month_avg_eur'])\n",
    "\n",
    "avg_salary = (\n",
    "    df_valid.groupby('has_top_skill')['salary_month_avg_eur']\n",
    "    .mean()\n",
    "    .reset_index()\n",
    ")\n",
    "\n",
    "avg_salary['group'] = avg_salary['has_top_skill'].map({\n",
    "    True: 'With Top 3 Skills',\n",
    "    False: 'Without Top 3 Skills'\n",
    "})\n",
    "\n",
    "with_salary = avg_salary.loc[avg_salary['group'] == 'With Top 3 Skills', 'salary_month_avg_eur'].values[0]\n",
    "without_salary = avg_salary.loc[avg_salary['group'] == 'Without Top 3 Skills', 'salary_month_avg_eur'].values[0]\n",
    "pct_diff = (with_salary - without_salary) / without_salary * 100\n",
    "\n",
    "# Plotting\n",
    "fig = make_subplots(\n",
    "    rows=1, cols=2,\n",
    "    column_widths=[0.6, 0.4],\n",
    "    subplot_titles=(\"Top 10 Highest Paid Analytical Skills\", \"Avg Salary: With vs Without Top 3 Skills\"),\n",
    "    horizontal_spacing=0.1\n",
    ")\n",
    "\n",
    "fig.add_trace(go.Bar(\n",
    "    x=top10_salary_skills['median_salary_eur'],\n",
    "    y=top10_salary_skills['skill'],\n",
    "    orientation='h',\n",
    "    marker=dict(color=top10_salary_skills['median_salary_eur'], colorscale='Blues'),\n",
    "    text=top10_salary_skills['median_salary_eur'].round(0).astype(int),\n",
    "    textposition='auto',\n",
    "    name='Top Skills'\n",
    "), row=1, col=1)\n",
    "\n",
    "top_3_skills = set(top10_salary_skills.tail(3)['skill'])\n",
    "ticktext = [f\"<b>{s}</b>\" if s in top_3_skills else s for s in top10_salary_skills['skill']]\n",
    "\n",
    "fig.update_yaxes(\n",
    "    tickmode='array',\n",
    "    tickvals=top10_salary_skills['skill'],\n",
    "    ticktext=ticktext,\n",
    "    row=1, col=1\n",
    ")\n",
    "\n",
    "fig.add_trace(go.Bar(\n",
    "    x=avg_salary['group'],\n",
    "    y=avg_salary['salary_month_avg_eur'],\n",
    "    marker_color=['#9ecae1' if g == 'Without Top 3 Skills' else '#084594' for g in avg_salary['group']],\n",
    "    text=avg_salary['salary_month_avg_eur'].round(0).astype(int),\n",
    "    textposition='auto',\n",
    "    name='Group Comparison'\n",
    "), row=1, col=2)\n",
    "\n",
    "fig.update_yaxes(\n",
    "    range=[0, avg_salary['salary_month_avg_eur'].max() * 1.2],\n",
    "    row=1, col=2\n",
    ")\n",
    "\n",
    "fig.add_annotation(\n",
    "    x=0.5,\n",
    "    y=max(avg_salary['salary_month_avg_eur']) * 1.1,\n",
    "    text=f'+{pct_diff:.1f}%',\n",
    "    showarrow=False,\n",
    "    font=dict(size=14, color='gray'),\n",
    "    xref='x2',\n",
    "    yref='y2'\n",
    ")\n",
    "\n",
    "fig.update_layout(\n",
    "    height=500,\n",
    "    width=1000,\n",
    "    template='plotly_white',\n",
    "    showlegend=False,\n",
    "    margin=dict(t=60, b=40, l=60, r=40),\n",
    ")\n",
    "\n",
    "fig.update_xaxes(title_text='Median Salary, EUR', row=1, col=1)\n",
    "fig.update_xaxes(showticklabels=False, row=1, col=1)\n",
    "fig.update_yaxes(title_text='', row=1, col=1)\n",
    "fig.update_xaxes(title_text='', row=1, col=2)\n",
    "fig.update_yaxes(title_text='', showticklabels=False, row=1, col=2)\n",
    "\n",
    "fig.show()"
   ]
  },
  {
   "cell_type": "markdown",
   "id": "90b3d47b",
   "metadata": {},
   "source": [
    "- With Top 3 Skills: Job posting has at least one of the top 3 skills.\n",
    "- Without Top 3 Skills: Job posting has none of the top 3 skills.\n",
    "\n",
    "Job seekers can boost their salary by over 15% with top-3 highest-paid analyst skills that are **Splunk**, **Alteryx**, and **Looker**. Splunk leads the list but is a niche tool focused on IT and security, making it less common in typical analyst roles. Alteryx specializes in data preparation and automation, offering both high pay and broader relevance. Looker stands out as the most strategic choice—it's both well-paid and widely used in modern analytics teams."
   ]
  },
  {
   "cell_type": "markdown",
   "id": "14cacc4b",
   "metadata": {},
   "source": [
    "### Impact of job type (remote vs on-site) and degree requirements on salary\n",
    "\n",
    "Job flexibility and educational requirements can influence compensation. Here, we examine how remote work and the presence of a degree requirement affect average analyst salaries across the EU and US."
   ]
  },
  {
   "cell_type": "code",
   "execution_count": 53,
   "id": "b5a21d66",
   "metadata": {},
   "outputs": [
    {
     "data": {
      "application/vnd.plotly.v1+json": {
       "config": {
        "plotlyServerURL": "https://plot.ly"
       },
       "data": [
        {
         "marker": {
          "color": [
           "#9ecae1",
           "#084594"
          ]
         },
         "showlegend": false,
         "text": {
          "bdata": "AAAAAABYuUAAAAAAAGi5QA==",
          "dtype": "f8"
         },
         "textposition": "auto",
         "type": "bar",
         "x": [
          "On-site",
          "Remote"
         ],
         "xaxis": "x",
         "y": {
          "bdata": "BEeDcgNYuUAzMzMzc2i5QA==",
          "dtype": "f8"
         },
         "yaxis": "y"
        },
        {
         "marker": {
          "color": [
           "#9ecae1",
           "#084594"
          ]
         },
         "showlegend": false,
         "text": {
          "bdata": "AAAAAAD4uEAAAAAAAHa5QA==",
          "dtype": "f8"
         },
         "textposition": "auto",
         "type": "bar",
         "x": [
          "No Degree Mentioned",
          "Degree Mentioned"
         ],
         "xaxis": "x2",
         "y": {
          "bdata": "2KYAphH4uEAQvd6QRXa5QA==",
          "dtype": "f8"
         },
         "yaxis": "y2"
        }
       ],
       "layout": {
        "annotations": [
         {
          "font": {
           "size": 16
          },
          "showarrow": false,
          "text": "Avg Salary by Remote Work",
          "x": 0.225,
          "xanchor": "center",
          "xref": "paper",
          "y": 1.05,
          "yanchor": "bottom",
          "yref": "paper"
         },
         {
          "font": {
           "size": 16
          },
          "showarrow": false,
          "text": "Avg Salary by Degree Mention",
          "x": 0.775,
          "xanchor": "center",
          "xref": "paper",
          "y": 1.05,
          "yanchor": "bottom",
          "yref": "paper"
         },
         {
          "font": {
           "color": "grey",
           "size": 14
          },
          "showarrow": false,
          "text": "+0.3%",
          "x": 0.5,
          "xref": "x domain",
          "y": 7805.389999999999,
          "yref": "y"
         },
         {
          "font": {
           "color": "grey",
           "size": 14
          },
          "showarrow": false,
          "text": "+2.0%",
          "x": 0.5,
          "xref": "x2 domain",
          "y": 7821.9760901502505,
          "yref": "y2"
         }
        ],
        "height": 400,
        "template": {
         "data": {
          "bar": [
           {
            "error_x": {
             "color": "#2a3f5f"
            },
            "error_y": {
             "color": "#2a3f5f"
            },
            "marker": {
             "line": {
              "color": "white",
              "width": 0.5
             },
             "pattern": {
              "fillmode": "overlay",
              "size": 10,
              "solidity": 0.2
             }
            },
            "type": "bar"
           }
          ],
          "barpolar": [
           {
            "marker": {
             "line": {
              "color": "white",
              "width": 0.5
             },
             "pattern": {
              "fillmode": "overlay",
              "size": 10,
              "solidity": 0.2
             }
            },
            "type": "barpolar"
           }
          ],
          "carpet": [
           {
            "aaxis": {
             "endlinecolor": "#2a3f5f",
             "gridcolor": "#C8D4E3",
             "linecolor": "#C8D4E3",
             "minorgridcolor": "#C8D4E3",
             "startlinecolor": "#2a3f5f"
            },
            "baxis": {
             "endlinecolor": "#2a3f5f",
             "gridcolor": "#C8D4E3",
             "linecolor": "#C8D4E3",
             "minorgridcolor": "#C8D4E3",
             "startlinecolor": "#2a3f5f"
            },
            "type": "carpet"
           }
          ],
          "choropleth": [
           {
            "colorbar": {
             "outlinewidth": 0,
             "ticks": ""
            },
            "type": "choropleth"
           }
          ],
          "contour": [
           {
            "colorbar": {
             "outlinewidth": 0,
             "ticks": ""
            },
            "colorscale": [
             [
              0,
              "#0d0887"
             ],
             [
              0.1111111111111111,
              "#46039f"
             ],
             [
              0.2222222222222222,
              "#7201a8"
             ],
             [
              0.3333333333333333,
              "#9c179e"
             ],
             [
              0.4444444444444444,
              "#bd3786"
             ],
             [
              0.5555555555555556,
              "#d8576b"
             ],
             [
              0.6666666666666666,
              "#ed7953"
             ],
             [
              0.7777777777777778,
              "#fb9f3a"
             ],
             [
              0.8888888888888888,
              "#fdca26"
             ],
             [
              1,
              "#f0f921"
             ]
            ],
            "type": "contour"
           }
          ],
          "contourcarpet": [
           {
            "colorbar": {
             "outlinewidth": 0,
             "ticks": ""
            },
            "type": "contourcarpet"
           }
          ],
          "heatmap": [
           {
            "colorbar": {
             "outlinewidth": 0,
             "ticks": ""
            },
            "colorscale": [
             [
              0,
              "#0d0887"
             ],
             [
              0.1111111111111111,
              "#46039f"
             ],
             [
              0.2222222222222222,
              "#7201a8"
             ],
             [
              0.3333333333333333,
              "#9c179e"
             ],
             [
              0.4444444444444444,
              "#bd3786"
             ],
             [
              0.5555555555555556,
              "#d8576b"
             ],
             [
              0.6666666666666666,
              "#ed7953"
             ],
             [
              0.7777777777777778,
              "#fb9f3a"
             ],
             [
              0.8888888888888888,
              "#fdca26"
             ],
             [
              1,
              "#f0f921"
             ]
            ],
            "type": "heatmap"
           }
          ],
          "histogram": [
           {
            "marker": {
             "pattern": {
              "fillmode": "overlay",
              "size": 10,
              "solidity": 0.2
             }
            },
            "type": "histogram"
           }
          ],
          "histogram2d": [
           {
            "colorbar": {
             "outlinewidth": 0,
             "ticks": ""
            },
            "colorscale": [
             [
              0,
              "#0d0887"
             ],
             [
              0.1111111111111111,
              "#46039f"
             ],
             [
              0.2222222222222222,
              "#7201a8"
             ],
             [
              0.3333333333333333,
              "#9c179e"
             ],
             [
              0.4444444444444444,
              "#bd3786"
             ],
             [
              0.5555555555555556,
              "#d8576b"
             ],
             [
              0.6666666666666666,
              "#ed7953"
             ],
             [
              0.7777777777777778,
              "#fb9f3a"
             ],
             [
              0.8888888888888888,
              "#fdca26"
             ],
             [
              1,
              "#f0f921"
             ]
            ],
            "type": "histogram2d"
           }
          ],
          "histogram2dcontour": [
           {
            "colorbar": {
             "outlinewidth": 0,
             "ticks": ""
            },
            "colorscale": [
             [
              0,
              "#0d0887"
             ],
             [
              0.1111111111111111,
              "#46039f"
             ],
             [
              0.2222222222222222,
              "#7201a8"
             ],
             [
              0.3333333333333333,
              "#9c179e"
             ],
             [
              0.4444444444444444,
              "#bd3786"
             ],
             [
              0.5555555555555556,
              "#d8576b"
             ],
             [
              0.6666666666666666,
              "#ed7953"
             ],
             [
              0.7777777777777778,
              "#fb9f3a"
             ],
             [
              0.8888888888888888,
              "#fdca26"
             ],
             [
              1,
              "#f0f921"
             ]
            ],
            "type": "histogram2dcontour"
           }
          ],
          "mesh3d": [
           {
            "colorbar": {
             "outlinewidth": 0,
             "ticks": ""
            },
            "type": "mesh3d"
           }
          ],
          "parcoords": [
           {
            "line": {
             "colorbar": {
              "outlinewidth": 0,
              "ticks": ""
             }
            },
            "type": "parcoords"
           }
          ],
          "pie": [
           {
            "automargin": true,
            "type": "pie"
           }
          ],
          "scatter": [
           {
            "fillpattern": {
             "fillmode": "overlay",
             "size": 10,
             "solidity": 0.2
            },
            "type": "scatter"
           }
          ],
          "scatter3d": [
           {
            "line": {
             "colorbar": {
              "outlinewidth": 0,
              "ticks": ""
             }
            },
            "marker": {
             "colorbar": {
              "outlinewidth": 0,
              "ticks": ""
             }
            },
            "type": "scatter3d"
           }
          ],
          "scattercarpet": [
           {
            "marker": {
             "colorbar": {
              "outlinewidth": 0,
              "ticks": ""
             }
            },
            "type": "scattercarpet"
           }
          ],
          "scattergeo": [
           {
            "marker": {
             "colorbar": {
              "outlinewidth": 0,
              "ticks": ""
             }
            },
            "type": "scattergeo"
           }
          ],
          "scattergl": [
           {
            "marker": {
             "colorbar": {
              "outlinewidth": 0,
              "ticks": ""
             }
            },
            "type": "scattergl"
           }
          ],
          "scattermap": [
           {
            "marker": {
             "colorbar": {
              "outlinewidth": 0,
              "ticks": ""
             }
            },
            "type": "scattermap"
           }
          ],
          "scattermapbox": [
           {
            "marker": {
             "colorbar": {
              "outlinewidth": 0,
              "ticks": ""
             }
            },
            "type": "scattermapbox"
           }
          ],
          "scatterpolar": [
           {
            "marker": {
             "colorbar": {
              "outlinewidth": 0,
              "ticks": ""
             }
            },
            "type": "scatterpolar"
           }
          ],
          "scatterpolargl": [
           {
            "marker": {
             "colorbar": {
              "outlinewidth": 0,
              "ticks": ""
             }
            },
            "type": "scatterpolargl"
           }
          ],
          "scatterternary": [
           {
            "marker": {
             "colorbar": {
              "outlinewidth": 0,
              "ticks": ""
             }
            },
            "type": "scatterternary"
           }
          ],
          "surface": [
           {
            "colorbar": {
             "outlinewidth": 0,
             "ticks": ""
            },
            "colorscale": [
             [
              0,
              "#0d0887"
             ],
             [
              0.1111111111111111,
              "#46039f"
             ],
             [
              0.2222222222222222,
              "#7201a8"
             ],
             [
              0.3333333333333333,
              "#9c179e"
             ],
             [
              0.4444444444444444,
              "#bd3786"
             ],
             [
              0.5555555555555556,
              "#d8576b"
             ],
             [
              0.6666666666666666,
              "#ed7953"
             ],
             [
              0.7777777777777778,
              "#fb9f3a"
             ],
             [
              0.8888888888888888,
              "#fdca26"
             ],
             [
              1,
              "#f0f921"
             ]
            ],
            "type": "surface"
           }
          ],
          "table": [
           {
            "cells": {
             "fill": {
              "color": "#EBF0F8"
             },
             "line": {
              "color": "white"
             }
            },
            "header": {
             "fill": {
              "color": "#C8D4E3"
             },
             "line": {
              "color": "white"
             }
            },
            "type": "table"
           }
          ]
         },
         "layout": {
          "annotationdefaults": {
           "arrowcolor": "#2a3f5f",
           "arrowhead": 0,
           "arrowwidth": 1
          },
          "autotypenumbers": "strict",
          "coloraxis": {
           "colorbar": {
            "outlinewidth": 0,
            "ticks": ""
           }
          },
          "colorscale": {
           "diverging": [
            [
             0,
             "#8e0152"
            ],
            [
             0.1,
             "#c51b7d"
            ],
            [
             0.2,
             "#de77ae"
            ],
            [
             0.3,
             "#f1b6da"
            ],
            [
             0.4,
             "#fde0ef"
            ],
            [
             0.5,
             "#f7f7f7"
            ],
            [
             0.6,
             "#e6f5d0"
            ],
            [
             0.7,
             "#b8e186"
            ],
            [
             0.8,
             "#7fbc41"
            ],
            [
             0.9,
             "#4d9221"
            ],
            [
             1,
             "#276419"
            ]
           ],
           "sequential": [
            [
             0,
             "#0d0887"
            ],
            [
             0.1111111111111111,
             "#46039f"
            ],
            [
             0.2222222222222222,
             "#7201a8"
            ],
            [
             0.3333333333333333,
             "#9c179e"
            ],
            [
             0.4444444444444444,
             "#bd3786"
            ],
            [
             0.5555555555555556,
             "#d8576b"
            ],
            [
             0.6666666666666666,
             "#ed7953"
            ],
            [
             0.7777777777777778,
             "#fb9f3a"
            ],
            [
             0.8888888888888888,
             "#fdca26"
            ],
            [
             1,
             "#f0f921"
            ]
           ],
           "sequentialminus": [
            [
             0,
             "#0d0887"
            ],
            [
             0.1111111111111111,
             "#46039f"
            ],
            [
             0.2222222222222222,
             "#7201a8"
            ],
            [
             0.3333333333333333,
             "#9c179e"
            ],
            [
             0.4444444444444444,
             "#bd3786"
            ],
            [
             0.5555555555555556,
             "#d8576b"
            ],
            [
             0.6666666666666666,
             "#ed7953"
            ],
            [
             0.7777777777777778,
             "#fb9f3a"
            ],
            [
             0.8888888888888888,
             "#fdca26"
            ],
            [
             1,
             "#f0f921"
            ]
           ]
          },
          "colorway": [
           "#636efa",
           "#EF553B",
           "#00cc96",
           "#ab63fa",
           "#FFA15A",
           "#19d3f3",
           "#FF6692",
           "#B6E880",
           "#FF97FF",
           "#FECB52"
          ],
          "font": {
           "color": "#2a3f5f"
          },
          "geo": {
           "bgcolor": "white",
           "lakecolor": "white",
           "landcolor": "white",
           "showlakes": true,
           "showland": true,
           "subunitcolor": "#C8D4E3"
          },
          "hoverlabel": {
           "align": "left"
          },
          "hovermode": "closest",
          "mapbox": {
           "style": "light"
          },
          "paper_bgcolor": "white",
          "plot_bgcolor": "white",
          "polar": {
           "angularaxis": {
            "gridcolor": "#EBF0F8",
            "linecolor": "#EBF0F8",
            "ticks": ""
           },
           "bgcolor": "white",
           "radialaxis": {
            "gridcolor": "#EBF0F8",
            "linecolor": "#EBF0F8",
            "ticks": ""
           }
          },
          "scene": {
           "xaxis": {
            "backgroundcolor": "white",
            "gridcolor": "#DFE8F3",
            "gridwidth": 2,
            "linecolor": "#EBF0F8",
            "showbackground": true,
            "ticks": "",
            "zerolinecolor": "#EBF0F8"
           },
           "yaxis": {
            "backgroundcolor": "white",
            "gridcolor": "#DFE8F3",
            "gridwidth": 2,
            "linecolor": "#EBF0F8",
            "showbackground": true,
            "ticks": "",
            "zerolinecolor": "#EBF0F8"
           },
           "zaxis": {
            "backgroundcolor": "white",
            "gridcolor": "#DFE8F3",
            "gridwidth": 2,
            "linecolor": "#EBF0F8",
            "showbackground": true,
            "ticks": "",
            "zerolinecolor": "#EBF0F8"
           }
          },
          "shapedefaults": {
           "line": {
            "color": "#2a3f5f"
           }
          },
          "ternary": {
           "aaxis": {
            "gridcolor": "#DFE8F3",
            "linecolor": "#A2B1C6",
            "ticks": ""
           },
           "baxis": {
            "gridcolor": "#DFE8F3",
            "linecolor": "#A2B1C6",
            "ticks": ""
           },
           "bgcolor": "white",
           "caxis": {
            "gridcolor": "#DFE8F3",
            "linecolor": "#A2B1C6",
            "ticks": ""
           }
          },
          "title": {
           "x": 0.05
          },
          "xaxis": {
           "automargin": true,
           "gridcolor": "#EBF0F8",
           "linecolor": "#EBF0F8",
           "ticks": "",
           "title": {
            "standoff": 15
           },
           "zerolinecolor": "#EBF0F8",
           "zerolinewidth": 2
          },
          "yaxis": {
           "automargin": true,
           "gridcolor": "#EBF0F8",
           "linecolor": "#EBF0F8",
           "ticks": "",
           "title": {
            "standoff": 15
           },
           "zerolinecolor": "#EBF0F8",
           "zerolinewidth": 2
          }
         }
        },
        "width": 800,
        "xaxis": {
         "anchor": "y",
         "domain": [
          0,
          0.45
         ]
        },
        "xaxis2": {
         "anchor": "y2",
         "domain": [
          0.55,
          1
         ]
        },
        "yaxis": {
         "anchor": "x",
         "domain": [
          0,
          1
         ],
         "showgrid": false,
         "showticklabels": false,
         "title": {
          "text": ""
         },
         "zeroline": false
        },
        "yaxis2": {
         "anchor": "x2",
         "domain": [
          0,
          1
         ],
         "showgrid": false,
         "showticklabels": false,
         "zeroline": false
        }
       }
      }
     },
     "metadata": {},
     "output_type": "display_data"
    }
   ],
   "source": [
    "# Prepare data\n",
    "remote_salary_avg = df_da_eu_us.groupby('job_work_from_home')['salary_month_avg_eur'].mean().reset_index()\n",
    "remote_salary_avg['Remote Work'] = remote_salary_avg['job_work_from_home'].map({True: 'Remote', False: 'On-site'})\n",
    "\n",
    "degree_salary_avg = df_da_eu_us.groupby('job_no_degree_mention')['salary_month_avg_eur'].mean().reset_index()\n",
    "degree_salary_avg['Degree Mention'] = degree_salary_avg['job_no_degree_mention'].map({True: 'No Degree Mentioned', False: 'Degree Mentioned'})\n",
    "\n",
    "remote_order = ['On-site', 'Remote']\n",
    "degree_order = ['No Degree Mentioned', 'Degree Mentioned']\n",
    "\n",
    "colors = ['#9ecae1', '#084594'] \n",
    "\n",
    "remote_salary_avg = remote_salary_avg.set_index('Remote Work').loc[remote_order].reset_index()\n",
    "degree_salary_avg = degree_salary_avg.set_index('Degree Mention').loc[degree_order].reset_index()\n",
    "\n",
    "# Calculate % differences\n",
    "def calc_pct_diff(group_df):\n",
    "    low = group_df['salary_month_avg_eur'].iloc[0]\n",
    "    high = group_df['salary_month_avg_eur'].iloc[1]\n",
    "    return (high - low) / low * 100\n",
    "\n",
    "remote_pct_diff = calc_pct_diff(remote_salary_avg)\n",
    "degree_pct_diff = calc_pct_diff(degree_salary_avg)\n",
    "\n",
    "fig = make_subplots(rows=1, cols=2, subplot_titles=('Avg Salary by Remote Work', 'Avg Salary by Degree Mention'))\n",
    "\n",
    "# Remote Work\n",
    "fig.add_trace(\n",
    "    go.Bar(\n",
    "        x=remote_salary_avg['Remote Work'],\n",
    "        y=remote_salary_avg['salary_month_avg_eur'],\n",
    "        marker_color=colors,\n",
    "        showlegend=False,\n",
    "        text=remote_salary_avg['salary_month_avg_eur'].round(0).astype(int),\n",
    "        textposition='auto'\n",
    "    ),\n",
    "    row=1,\n",
    "    col=1\n",
    ")\n",
    "\n",
    "# Degree Mention\n",
    "fig.add_trace(\n",
    "    go.Bar(\n",
    "        x=degree_salary_avg['Degree Mention'],\n",
    "        y=degree_salary_avg['salary_month_avg_eur'],\n",
    "        marker_color=colors,\n",
    "        showlegend=False,\n",
    "        text=degree_salary_avg['salary_month_avg_eur'].round(0).astype(int),\n",
    "        textposition='auto'\n",
    "    ),\n",
    "    row=1,\n",
    "    col=2\n",
    ")\n",
    "\n",
    "fig.add_annotation(\n",
    "    x=0.5, \n",
    "    y=max(remote_salary_avg['salary_month_avg_eur']) * 1.2,\n",
    "    xref='x domain',  # first subplot x axis\n",
    "    yref='y',         # first subplot y axis\n",
    "    text=f'+{remote_pct_diff:.1f}%',\n",
    "    showarrow=False,\n",
    "    font=dict(color='grey', size=14)\n",
    ")\n",
    "\n",
    "fig.add_annotation(\n",
    "    x=0.5, \n",
    "    y=max(degree_salary_avg['salary_month_avg_eur']) * 1.2,\n",
    "    xref='x2 domain', # second subplot x axis\n",
    "    yref='y2',        # second subplot y axis\n",
    "    text=f'+{degree_pct_diff:.1f}%',\n",
    "    showarrow=False,\n",
    "    font=dict(color='grey', size=14)\n",
    ")\n",
    "\n",
    "# Update layout\n",
    "fig.update_yaxes(\n",
    "    showticklabels=False,\n",
    "    showgrid=False,\n",
    "    zeroline=False\n",
    ")\n",
    "\n",
    "fig.update_yaxes(\n",
    "    showticklabels=False,\n",
    "    showgrid=False,\n",
    "    zeroline=False\n",
    ")\n",
    "\n",
    "for ann in fig['layout']['annotations']: ann['y'] += 0.05\n",
    "\n",
    "fig.update_layout(\n",
    "    height=400,\n",
    "    width=800,\n",
    "    yaxis_title='',\n",
    "    template='plotly_white',\n",
    ")\n",
    "\n",
    "fig.show()"
   ]
  },
  {
   "cell_type": "markdown",
   "id": "c286cef6",
   "metadata": {},
   "source": [
    "### Key drivers of Data Analyst salaries (SHAP analysis)\n",
    "\n",
    "To identify which job attributes most strongly influence salaries, we apply SHAP analysis on an XGBoost model with following steps:\n",
    "\n",
    "- Duplicate the original dataset to safely perform data transformations without altering the source.\n",
    "- Prepare feature columns for analysis:\n",
    "    - invert job_no_degree_mention,\n",
    "    - convert job_skills into individual binary (0/1) columns using multi-label binarization,\n",
    "    - make sure all boolean features are numerical (0/1) for model compatibility,\n",
    "    - combine relevant features (remote status, degree mention, and skills) into a feature matrix, \n",
    "    - set the target variable as the average monthly salary in EUR.\n",
    "- Train a Machine Learning Model: \n",
    "    - split the data into training and test sets (80/20),\n",
    "    - use a regression model (XGBoost) to learn patterns and predict salaries, \n",
    "    - evaluate performance using R² score.\n",
    "- Use SHAP to understand how each feature contributes to the model’s predictions for individual samples.\n",
    "- Calculate and rank features by their average impact (SHAP value) across all predictions."
   ]
  },
  {
   "cell_type": "code",
   "execution_count": 56,
   "id": "420e88ea",
   "metadata": {},
   "outputs": [
    {
     "name": "stdout",
     "output_type": "stream",
     "text": [
      "Test R^2 Score: 0.133\n",
      "SHAP Feature Importance (as % impact) for Top 5 Features:\n",
      "skill_excel: 15.7%\n",
      "skill_python: 10.6%\n",
      "skill_sql: 5.4%\n",
      "degree_mentioned: 4.5%\n",
      "skill_tableau: 4.4%\n"
     ]
    },
    {
     "data": {
      "image/png": "[encoded data removed]",
      "text/plain": [
       "<Figure size 800x350 with 2 Axes>"
      ]
     },
     "metadata": {},
     "output_type": "display_data"
    }
   ],
   "source": [
    "df_model = df_da_eu_us.copy()\n",
    "df_model['degree_mentioned'] = ~df_model['job_no_degree_mention']\n",
    "\n",
    "def ensure_list(x):\n",
    "    if isinstance(x, str):\n",
    "        try:\n",
    "            return ast.literal_eval(x)\n",
    "        except Exception:\n",
    "            return []\n",
    "    elif isinstance(x, list):\n",
    "        return x\n",
    "    else:\n",
    "        return []\n",
    "\n",
    "df_model['job_skills'] = df_model['job_skills'].apply(ensure_list)\n",
    "\n",
    "# Binarize job_skills\n",
    "mlb = MultiLabelBinarizer()\n",
    "skills_encoded = pd.DataFrame(\n",
    "    mlb.fit_transform(df_model['job_skills']),\n",
    "    columns=[f\"skill_{s}\" for s in mlb.classes_],\n",
    "    index=df_model.index\n",
    ")\n",
    "\n",
    "# Ensure boolean features are numeric\n",
    "df_model['job_work_from_home'] = df_model['job_work_from_home'].astype(int)\n",
    "df_model['degree_mentioned'] = df_model['degree_mentioned'].astype(int)\n",
    "\n",
    "# Combine features\n",
    "features = pd.concat([\n",
    "    df_model[['job_work_from_home', 'degree_mentioned']],\n",
    "    skills_encoded\n",
    "], axis=1)\n",
    "\n",
    "# Target variable\n",
    "target = df_model['salary_month_avg_eur']\n",
    "\n",
    "# Train/Test Split and Model Training\n",
    "X_train, X_test, y_train, y_test = train_test_split(features, target, test_size=0.2, random_state=42)\n",
    "\n",
    "model = XGBRegressor(random_state=42)\n",
    "model.fit(X_train, y_train)\n",
    "\n",
    "score = model.score(X_test, y_test)\n",
    "print(f\"Test R^2 Score: {score:.3f}\")\n",
    "\n",
    "# SHAP Analysis\n",
    "explainer = shap.TreeExplainer(model)\n",
    "shap_values = explainer.shap_values(X_test)\n",
    "\n",
    "mean_abs_shap = np.abs(shap_values).mean(axis=0)\n",
    "shap_importance = pd.DataFrame({\n",
    "    'feature': X_test.columns,\n",
    "    'mean_abs_shap': mean_abs_shap\n",
    "}).sort_values(by='mean_abs_shap', ascending=False)\n",
    "\n",
    "top5_features = shap_importance.head(5)['feature'].tolist()\n",
    "top5_indices = [X_test.columns.get_loc(f) for f in top5_features]\n",
    "\n",
    "shap_values_top5 = shap_values[:, top5_indices]\n",
    "X_test_top5 = X_test[top5_features]\n",
    "\n",
    "total_shap = shap_importance['mean_abs_shap'].sum()\n",
    "shap_importance['percentage_impact'] = 100 * shap_importance['mean_abs_shap'] / total_shap\n",
    "top5_impacts = shap_importance.set_index('feature').loc[top5_features]['percentage_impact']\n",
    "\n",
    "print('SHAP Feature Importance (as % impact) for Top 5 Features:')\n",
    "for feat, impact in top5_impacts.items():\n",
    "    print(f\"{feat}: {impact:.1f}%\")\n",
    "\n",
    "shap.summary_plot(shap_values_top5, X_test_top5, feature_names=top5_features)"
   ]
  },
  {
   "cell_type": "markdown",
   "id": "18eb9314",
   "metadata": {},
   "source": [
    "### Key insights from SHAP feature importance\n",
    "\n",
    "The model explains only 13.3% of the variation in salaries, so many salary-driving factors are not captured in the current features Despite that, the SHAP values still give useful signals about which features have the highest impact on salaries:\n",
    "\n",
    "- **Excel** (15.7% impact): the most impactful feature on salary. Mentioning Excel in a job posting is strongly associated with higher salary. It means that Excel is still a core skill for Data Analysts and often correlates with jobs that pay more, possibly due to its use in business-critical reporting or financial analysis.\n",
    "- **Python** (10.6%): strongly associated with higher salaries, especially in roles involving automation, or machine learning.\n",
    "- **SQL** (5.4%): is essential but has a moderate impact compared to Excel and Python. It's a baseline skill, so it doesn’t necessarily distinguish higher-paying roles — but still crucial.\n",
    "- **No Degree Mention** (4.5%): slightly associated with lower salaries, possibly reflecting more inclusive or junior positions.\n",
    "- **Tableau** (4.4%): is valued in visualization-heavy roles and may slightly boost salary expectations.\n",
    "\n",
    "**Summary**: While modern tools like Python increase salary, traditional tools like Excel still carry major weight — possibly due to their presence in senior business roles. Mention both Excel and Python on the aplcation makes the candidate more attractive to employers and can lead to better salary offers."
   ]
  },
  {
   "cell_type": "markdown",
   "id": "0a6e1578",
   "metadata": {},
   "source": [
    "### Summary:\n",
    "Job seekers aiming for a **Data Analyst** role should focus on learning one of the most in-demand tools, like **Looker**, **Tableau**, or **Power BI**. To boost their salary further, mastering a niche tool such as **Splunk** or **Alteryx** helps, with Looker being a strong choice due to its high demand and top-tier pay. \n",
    "\n",
    "Salary differences between **remote** and **in-office** roles generally even out, suggesting that compensation is driven more by skill and value delivered than work location. Notably, job postings that do not mention **degree requirements** are slightly associated with lower salaries, possibly reflecting more junior positions.\n",
    "\n",
    "SHAP analysis showed that **Excel** is still a **key skill** for Data Analysts — the most impactful on salary — while **Python** strongly correlates with higher pay. Highlighting both tools when applying, could improve chances of landing better-paying roles."
   ]
  }
 ],
 "metadata": {
  "kernelspec": {
   "display_name": "data_jobs",
   "language": "python",
   "name": "python3"
  },
  "language_info": {
   "codemirror_mode": {
    "name": "ipython",
    "version": 3
   },
   "file_extension": ".py",
   "mimetype": "text/x-python",
   "name": "python",
   "nbconvert_exporter": "python",
   "pygments_lexer": "ipython3",
   "version": "3.11.11"
  }
 },
 "nbformat": 4,
 "nbformat_minor": 5
}
