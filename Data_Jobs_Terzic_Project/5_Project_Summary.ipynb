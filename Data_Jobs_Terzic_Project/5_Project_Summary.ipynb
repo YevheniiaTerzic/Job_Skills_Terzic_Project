{
 "cells": [
  {
   "cell_type": "markdown",
   "id": "a895cbea",
   "metadata": {},
   "source": [
    "## Project Summary\n",
    "\n",
    "The global data job market is currently dominated by three key roles: **Data Analyst**, **Data Scientist**, and **Data Engineer**. In Europe, **Data Analyst** is the most in-demand position, and notably, it comes with the lowest skill barrier to entry. This makes it a smart starting point for job seekers looking to break into the data field quickly and with lower risk.\n",
    "\n",
    "Although Data Analyst roles offer lower average salaries compared to more technical roles, their compensation tends to be more consistent and predictable, making them appealing for those seeking stability. For this reason, the analysis focuses on the Data Analyst role and explores how job seekers can **optimize salary potential** during the application process.\n",
    "\n",
    "An analysis of **22,002 global job postings collected throughout 2023** reveals clear trends in hiring patterns:\n",
    "\n",
    "- **January and the summer months (June–August)** are the most active hiring periods.\n",
    "- There is a clear **correlation between job posting volume and salary**, suggesting that entering the market during peak demand can result in both faster hiring and better compensation.\n",
    "- **Skill Demand = Higher Pay:** Data Analysts with more listed skills — especially in analytics tools — consistently earn more. \n",
    "    - **Power BI** and **Tableau** are among the highest-paid and most commonly required platforms. Knowing even one of them increases job chances and boosts salary up to 8% on average. \n",
    "    - Niche tools like **Splunk** and **Alteryx** can increase salaries by 15% or more.\n",
    "    - **Looker** stands out as the most strategic tool: it offers both high salary premiums and is widely adopted in modern analytics teams.\n",
    "- To understand what drives compensation, a **SHAP analysis was conducted on an XGBoost model** trained to predict salary based on job description features, including skill keywords, remote/hybrid tags, and education requirements. The analysis showed that while modern tools like **Python** increase salaries, traditional tools like **Excel** still carry significant weight, possibly due to their prevalence in senior business roles.\n",
    "- **Remote vs. In-office** roles showed only minor salary differences, and **education level** had a modest impact, highlighting that practical, in-demand skills are far more important in driving compensation.\n",
    "- **The salary gap** between European and United States **Data Analyst** roles is surprisingly small — just about 1%, indicating a global alignment in compensation for this role. However, for **Data Scientists**, the gap remains substantial, showing that the European market is still maturing in advanced analytics. This represents an **opportunity for long-term salary growth** by transitioning into more technical roles.\n",
    "\n",
    "**Conclusion**\n",
    "\n",
    "For job seekers, starting as a **Data Analyst** offers an accessible and strategic entry point into the data industry. The role is in high demand, offers consistent pay, and allows for fast upskilling through tool specialization. Over time, expanding technical capabilities and transitioning toward **Data Science** roles can open up higher-paying and more specialized career paths.\n",
    "\n",
    "## Next Steps\n",
    "\n",
    "In future analysis, we’ll investigate how professionals can **transition from Data Analyst to Data Scientist**, as Data Scientist stands out with strong future potential — it’s the most in-demand role in the US, second in Europe, and offers the highest pay with room for salary growth in the EU. We'll explore skill development paths and salary growth projections.\n"
   ]
  }
 ],
 "metadata": {
  "language_info": {
   "name": "python"
  }
 },
 "nbformat": 4,
 "nbformat_minor": 5
}
