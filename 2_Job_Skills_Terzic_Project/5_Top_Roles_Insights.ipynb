{
 "cells": [
  {
   "cell_type": "markdown",
   "id": "b15c1de1",
   "metadata": {},
   "source": [
    "# How can a Data Analyst Maximize Salary When Searching for a Job?\n",
    "- Must-Have Skills for Data Analysts and How They Affect Salary\n",
    "- Top-Paying Analytical Skills and Their Impact on Salary\n",
    "- Impact of Job Type (Remote vs On-site) and Degree Requirements on Salary\n",
    "- SHAP Analysis – Key Drivers of Data Analyst Salaries"
   ]
  },
  {
   "cell_type": "code",
   "execution_count": 8,
   "id": "16791213",
   "metadata": {},
   "outputs": [],
   "source": [
    "import pandas as pd\n",
    "import numpy as np\n",
    "import ast\n",
    "\n",
    "import matplotlib.pyplot as plt\n",
    "import plotly.express as px\n",
    "import plotly.graph_objects as go\n",
    "from plotly.subplots import make_subplots\n",
    "\n",
    "from sklearn.model_selection import train_test_split\n",
    "from sklearn.linear_model import LinearRegression\n",
    "from sklearn.preprocessing import MultiLabelBinarizer\n",
    "from xgboost import XGBRegressor\n",
    "\n",
    "import shap\n",
    "\n",
    "df = pd.read_csv('/Users/kolesnikevgenia/Documents/Python_Projects/Job_Skills/Raw_Data/df_Final.csv')"
   ]
  },
  {
   "cell_type": "markdown",
   "id": "ff3bef47",
   "metadata": {},
   "source": [
    "### Remove Salary Outliers"
   ]
  },
  {
   "cell_type": "code",
   "execution_count": 9,
   "id": "1aa3b2d3",
   "metadata": {},
   "outputs": [
    {
     "name": "stdout",
     "output_type": "stream",
     "text": [
      "Original dataset size: 22003\n",
      "Filtered dataset size: 21307\n"
     ]
    }
   ],
   "source": [
    "#Calculate global IQR\n",
    "Q1_global = df['salary_month_avg_eur'].quantile(0.25)\n",
    "Q3_global = df['salary_month_avg_eur'].quantile(0.75)\n",
    "IQR_global = Q3_global - Q1_global\n",
    "lower_bound_global = Q1_global - 1.5 * IQR_global\n",
    "upper_bound_global = Q3_global + 1.5 * IQR_global\n",
    "\n",
    "#Build list to collect filtered results\n",
    "filtered_groups = []\n",
    "\n",
    "#Iterate over groups manually\n",
    "for (country, title), group in df.groupby(['job_country', 'job_title_short']):\n",
    "    if len(group) >= 5:\n",
    "        Q1 = group['salary_month_avg_eur'].quantile(0.25)\n",
    "        Q3 = group['salary_month_avg_eur'].quantile(0.75)\n",
    "        IQR = Q3 - Q1\n",
    "        lower = Q1 - 1.5 * IQR\n",
    "        upper = Q3 + 1.5 * IQR\n",
    "    else:\n",
    "        lower = lower_bound_global\n",
    "        upper = upper_bound_global\n",
    "\n",
    "    filtered = group[\n",
    "        (group['salary_month_avg_eur'] >= lower) &\n",
    "        (group['salary_month_avg_eur'] <= upper)\n",
    "    ]\n",
    "    filtered_groups.append(filtered)\n",
    "\n",
    "# Combine all groups back\n",
    "df_filtered = pd.concat(filtered_groups, ignore_index=True)\n",
    "\n",
    "print(f\"Original dataset size: {len(df)}\")\n",
    "print(f\"Filtered dataset size: {len(df_filtered)}\")"
   ]
  },
  {
   "cell_type": "markdown",
   "id": "25d97c1c",
   "metadata": {},
   "source": [
    "### Filter Data Analyst Roles in EU/US\n",
    "Although our main focus is the European job market, analyzing US salary trends provides valuable foresight since the US often leads in technology adoption and skill demand. This helps us benchmark Europe’s position, anticipate emerging trends, and make more informed decisions regarding talent strategy and compensation."
   ]
  },
  {
   "cell_type": "code",
   "execution_count": 10,
   "id": "7c62b56e",
   "metadata": {},
   "outputs": [],
   "source": [
    "eu_us = ['EU', 'US']\n",
    "\n",
    "df_da_eu_us = df_filtered[\n",
    "    (df_filtered['region_group'].isin(eu_us)) &\n",
    "    (df_filtered['job_title_short'] == 'Data Analyst')\n",
    "].copy()"
   ]
  },
  {
   "cell_type": "markdown",
   "id": "009b695c",
   "metadata": {},
   "source": [
    "### Must-Have Skills for Data Analysts and How They Affect Salary"
   ]
  },
  {
   "cell_type": "code",
   "execution_count": 11,
   "id": "d9db1f80",
   "metadata": {},
   "outputs": [
    {
     "data": {
      "application/vnd.plotly.v1+json": {
       "config": {
        "plotlyServerURL": "https://plot.ly"
       },
       "data": [
        {
         "marker": {
          "color": {
           "bdata": "zczMzMzWtkA9CtejcJa3QHE9Ctdjo7dAUrgehesCuEBSuB6Fayu5QAAAAACAbLlAAAAAAIBsuUAAAAAAgGy5QClcj8LVF7pAKVyPwnX0vEA=",
           "dtype": "f8"
          },
          "colorscale": [
           [
            0,
            "rgb(247,251,255)"
           ],
           [
            0.125,
            "rgb(222,235,247)"
           ],
           [
            0.25,
            "rgb(198,219,239)"
           ],
           [
            0.375,
            "rgb(158,202,225)"
           ],
           [
            0.5,
            "rgb(107,174,214)"
           ],
           [
            0.625,
            "rgb(66,146,198)"
           ],
           [
            0.75,
            "rgb(33,113,181)"
           ],
           [
            0.875,
            "rgb(8,81,156)"
           ],
           [
            1,
            "rgb(8,48,107)"
           ]
          ]
         },
         "name": "Top Skills",
         "orientation": "h",
         "text": {
          "bdata": "AAAAAADXtkAAAAAAAJa3QAAAAAAAo7dAAAAAAAADuEAAAAAAACu5QAAAAAAAbLlAAAAAAABsuUAAAAAAAGy5QAAAAAAAGLpAAAAAAAD0vEA=",
          "dtype": "f8"
         },
         "textposition": "auto",
         "type": "bar",
         "x": {
          "bdata": "zczMzMzWtkA9CtejcJa3QHE9Ctdjo7dAUrgehesCuEBSuB6Fayu5QAAAAACAbLlAAAAAAIBsuUAAAAAAgGy5QClcj8LVF7pAKVyPwnX0vEA=",
          "dtype": "f8"
         },
         "xaxis": "x",
         "y": [
          "word",
          "excel",
          "spss",
          "powerpoint",
          "sharepoint",
          "sap",
          "sas",
          "power bi",
          "tableau",
          "looker"
         ],
         "yaxis": "y"
        },
        {
         "marker": {
          "color": [
           "#9ecae1",
           "#084594"
          ]
         },
         "name": "Group Comparison",
         "text": {
          "bdata": "AAAAAADMuEAAAAAAANW6QA==",
          "dtype": "f8"
         },
         "textposition": "auto",
         "type": "bar",
         "x": [
          "Without Top 3 Skills",
          "With Top 3 Skills"
         ],
         "xaxis": "x2",
         "y": {
          "bdata": "v0UZI2bMuECWlNv3zdS6QA==",
          "dtype": "f8"
         },
         "yaxis": "y2"
        }
       ],
       "layout": {
        "annotations": [
         {
          "font": {
           "size": 16
          },
          "showarrow": false,
          "text": "Top 10 Highest Paid Analyst Tools Skills",
          "x": 0.27,
          "xanchor": "center",
          "xref": "paper",
          "y": 1,
          "yanchor": "bottom",
          "yref": "paper"
         },
         {
          "font": {
           "size": 16
          },
          "showarrow": false,
          "text": "Avg Salary: With vs Without Top 3 Skills",
          "x": 0.8200000000000001,
          "xanchor": "center",
          "xref": "paper",
          "y": 1,
          "yanchor": "bottom",
          "yref": "paper"
         },
         {
          "font": {
           "color": "gray",
           "size": 14
          },
          "showarrow": false,
          "text": "+8.2%",
          "x": 1.5,
          "xref": "x2",
          "y": 7212.2447914218565,
          "yref": "y2"
         }
        ],
        "height": 500,
        "margin": {
         "b": 40,
         "l": 60,
         "r": 40,
         "t": 60
        },
        "showlegend": false,
        "template": {
         "data": {
          "bar": [
           {
            "error_x": {
             "color": "#2a3f5f"
            },
            "error_y": {
             "color": "#2a3f5f"
            },
            "marker": {
             "line": {
              "color": "white",
              "width": 0.5
             },
             "pattern": {
              "fillmode": "overlay",
              "size": 10,
              "solidity": 0.2
             }
            },
            "type": "bar"
           }
          ],
          "barpolar": [
           {
            "marker": {
             "line": {
              "color": "white",
              "width": 0.5
             },
             "pattern": {
              "fillmode": "overlay",
              "size": 10,
              "solidity": 0.2
             }
            },
            "type": "barpolar"
           }
          ],
          "carpet": [
           {
            "aaxis": {
             "endlinecolor": "#2a3f5f",
             "gridcolor": "#C8D4E3",
             "linecolor": "#C8D4E3",
             "minorgridcolor": "#C8D4E3",
             "startlinecolor": "#2a3f5f"
            },
            "baxis": {
             "endlinecolor": "#2a3f5f",
             "gridcolor": "#C8D4E3",
             "linecolor": "#C8D4E3",
             "minorgridcolor": "#C8D4E3",
             "startlinecolor": "#2a3f5f"
            },
            "type": "carpet"
           }
          ],
          "choropleth": [
           {
            "colorbar": {
             "outlinewidth": 0,
             "ticks": ""
            },
            "type": "choropleth"
           }
          ],
          "contour": [
           {
            "colorbar": {
             "outlinewidth": 0,
             "ticks": ""
            },
            "colorscale": [
             [
              0,
              "#0d0887"
             ],
             [
              0.1111111111111111,
              "#46039f"
             ],
             [
              0.2222222222222222,
              "#7201a8"
             ],
             [
              0.3333333333333333,
              "#9c179e"
             ],
             [
              0.4444444444444444,
              "#bd3786"
             ],
             [
              0.5555555555555556,
              "#d8576b"
             ],
             [
              0.6666666666666666,
              "#ed7953"
             ],
             [
              0.7777777777777778,
              "#fb9f3a"
             ],
             [
              0.8888888888888888,
              "#fdca26"
             ],
             [
              1,
              "#f0f921"
             ]
            ],
            "type": "contour"
           }
          ],
          "contourcarpet": [
           {
            "colorbar": {
             "outlinewidth": 0,
             "ticks": ""
            },
            "type": "contourcarpet"
           }
          ],
          "heatmap": [
           {
            "colorbar": {
             "outlinewidth": 0,
             "ticks": ""
            },
            "colorscale": [
             [
              0,
              "#0d0887"
             ],
             [
              0.1111111111111111,
              "#46039f"
             ],
             [
              0.2222222222222222,
              "#7201a8"
             ],
             [
              0.3333333333333333,
              "#9c179e"
             ],
             [
              0.4444444444444444,
              "#bd3786"
             ],
             [
              0.5555555555555556,
              "#d8576b"
             ],
             [
              0.6666666666666666,
              "#ed7953"
             ],
             [
              0.7777777777777778,
              "#fb9f3a"
             ],
             [
              0.8888888888888888,
              "#fdca26"
             ],
             [
              1,
              "#f0f921"
             ]
            ],
            "type": "heatmap"
           }
          ],
          "histogram": [
           {
            "marker": {
             "pattern": {
              "fillmode": "overlay",
              "size": 10,
              "solidity": 0.2
             }
            },
            "type": "histogram"
           }
          ],
          "histogram2d": [
           {
            "colorbar": {
             "outlinewidth": 0,
             "ticks": ""
            },
            "colorscale": [
             [
              0,
              "#0d0887"
             ],
             [
              0.1111111111111111,
              "#46039f"
             ],
             [
              0.2222222222222222,
              "#7201a8"
             ],
             [
              0.3333333333333333,
              "#9c179e"
             ],
             [
              0.4444444444444444,
              "#bd3786"
             ],
             [
              0.5555555555555556,
              "#d8576b"
             ],
             [
              0.6666666666666666,
              "#ed7953"
             ],
             [
              0.7777777777777778,
              "#fb9f3a"
             ],
             [
              0.8888888888888888,
              "#fdca26"
             ],
             [
              1,
              "#f0f921"
             ]
            ],
            "type": "histogram2d"
           }
          ],
          "histogram2dcontour": [
           {
            "colorbar": {
             "outlinewidth": 0,
             "ticks": ""
            },
            "colorscale": [
             [
              0,
              "#0d0887"
             ],
             [
              0.1111111111111111,
              "#46039f"
             ],
             [
              0.2222222222222222,
              "#7201a8"
             ],
             [
              0.3333333333333333,
              "#9c179e"
             ],
             [
              0.4444444444444444,
              "#bd3786"
             ],
             [
              0.5555555555555556,
              "#d8576b"
             ],
             [
              0.6666666666666666,
              "#ed7953"
             ],
             [
              0.7777777777777778,
              "#fb9f3a"
             ],
             [
              0.8888888888888888,
              "#fdca26"
             ],
             [
              1,
              "#f0f921"
             ]
            ],
            "type": "histogram2dcontour"
           }
          ],
          "mesh3d": [
           {
            "colorbar": {
             "outlinewidth": 0,
             "ticks": ""
            },
            "type": "mesh3d"
           }
          ],
          "parcoords": [
           {
            "line": {
             "colorbar": {
              "outlinewidth": 0,
              "ticks": ""
             }
            },
            "type": "parcoords"
           }
          ],
          "pie": [
           {
            "automargin": true,
            "type": "pie"
           }
          ],
          "scatter": [
           {
            "fillpattern": {
             "fillmode": "overlay",
             "size": 10,
             "solidity": 0.2
            },
            "type": "scatter"
           }
          ],
          "scatter3d": [
           {
            "line": {
             "colorbar": {
              "outlinewidth": 0,
              "ticks": ""
             }
            },
            "marker": {
             "colorbar": {
              "outlinewidth": 0,
              "ticks": ""
             }
            },
            "type": "scatter3d"
           }
          ],
          "scattercarpet": [
           {
            "marker": {
             "colorbar": {
              "outlinewidth": 0,
              "ticks": ""
             }
            },
            "type": "scattercarpet"
           }
          ],
          "scattergeo": [
           {
            "marker": {
             "colorbar": {
              "outlinewidth": 0,
              "ticks": ""
             }
            },
            "type": "scattergeo"
           }
          ],
          "scattergl": [
           {
            "marker": {
             "colorbar": {
              "outlinewidth": 0,
              "ticks": ""
             }
            },
            "type": "scattergl"
           }
          ],
          "scattermap": [
           {
            "marker": {
             "colorbar": {
              "outlinewidth": 0,
              "ticks": ""
             }
            },
            "type": "scattermap"
           }
          ],
          "scattermapbox": [
           {
            "marker": {
             "colorbar": {
              "outlinewidth": 0,
              "ticks": ""
             }
            },
            "type": "scattermapbox"
           }
          ],
          "scatterpolar": [
           {
            "marker": {
             "colorbar": {
              "outlinewidth": 0,
              "ticks": ""
             }
            },
            "type": "scatterpolar"
           }
          ],
          "scatterpolargl": [
           {
            "marker": {
             "colorbar": {
              "outlinewidth": 0,
              "ticks": ""
             }
            },
            "type": "scatterpolargl"
           }
          ],
          "scatterternary": [
           {
            "marker": {
             "colorbar": {
              "outlinewidth": 0,
              "ticks": ""
             }
            },
            "type": "scatterternary"
           }
          ],
          "surface": [
           {
            "colorbar": {
             "outlinewidth": 0,
             "ticks": ""
            },
            "colorscale": [
             [
              0,
              "#0d0887"
             ],
             [
              0.1111111111111111,
              "#46039f"
             ],
             [
              0.2222222222222222,
              "#7201a8"
             ],
             [
              0.3333333333333333,
              "#9c179e"
             ],
             [
              0.4444444444444444,
              "#bd3786"
             ],
             [
              0.5555555555555556,
              "#d8576b"
             ],
             [
              0.6666666666666666,
              "#ed7953"
             ],
             [
              0.7777777777777778,
              "#fb9f3a"
             ],
             [
              0.8888888888888888,
              "#fdca26"
             ],
             [
              1,
              "#f0f921"
             ]
            ],
            "type": "surface"
           }
          ],
          "table": [
           {
            "cells": {
             "fill": {
              "color": "#EBF0F8"
             },
             "line": {
              "color": "white"
             }
            },
            "header": {
             "fill": {
              "color": "#C8D4E3"
             },
             "line": {
              "color": "white"
             }
            },
            "type": "table"
           }
          ]
         },
         "layout": {
          "annotationdefaults": {
           "arrowcolor": "#2a3f5f",
           "arrowhead": 0,
           "arrowwidth": 1
          },
          "autotypenumbers": "strict",
          "coloraxis": {
           "colorbar": {
            "outlinewidth": 0,
            "ticks": ""
           }
          },
          "colorscale": {
           "diverging": [
            [
             0,
             "#8e0152"
            ],
            [
             0.1,
             "#c51b7d"
            ],
            [
             0.2,
             "#de77ae"
            ],
            [
             0.3,
             "#f1b6da"
            ],
            [
             0.4,
             "#fde0ef"
            ],
            [
             0.5,
             "#f7f7f7"
            ],
            [
             0.6,
             "#e6f5d0"
            ],
            [
             0.7,
             "#b8e186"
            ],
            [
             0.8,
             "#7fbc41"
            ],
            [
             0.9,
             "#4d9221"
            ],
            [
             1,
             "#276419"
            ]
           ],
           "sequential": [
            [
             0,
             "#0d0887"
            ],
            [
             0.1111111111111111,
             "#46039f"
            ],
            [
             0.2222222222222222,
             "#7201a8"
            ],
            [
             0.3333333333333333,
             "#9c179e"
            ],
            [
             0.4444444444444444,
             "#bd3786"
            ],
            [
             0.5555555555555556,
             "#d8576b"
            ],
            [
             0.6666666666666666,
             "#ed7953"
            ],
            [
             0.7777777777777778,
             "#fb9f3a"
            ],
            [
             0.8888888888888888,
             "#fdca26"
            ],
            [
             1,
             "#f0f921"
            ]
           ],
           "sequentialminus": [
            [
             0,
             "#0d0887"
            ],
            [
             0.1111111111111111,
             "#46039f"
            ],
            [
             0.2222222222222222,
             "#7201a8"
            ],
            [
             0.3333333333333333,
             "#9c179e"
            ],
            [
             0.4444444444444444,
             "#bd3786"
            ],
            [
             0.5555555555555556,
             "#d8576b"
            ],
            [
             0.6666666666666666,
             "#ed7953"
            ],
            [
             0.7777777777777778,
             "#fb9f3a"
            ],
            [
             0.8888888888888888,
             "#fdca26"
            ],
            [
             1,
             "#f0f921"
            ]
           ]
          },
          "colorway": [
           "#636efa",
           "#EF553B",
           "#00cc96",
           "#ab63fa",
           "#FFA15A",
           "#19d3f3",
           "#FF6692",
           "#B6E880",
           "#FF97FF",
           "#FECB52"
          ],
          "font": {
           "color": "#2a3f5f"
          },
          "geo": {
           "bgcolor": "white",
           "lakecolor": "white",
           "landcolor": "white",
           "showlakes": true,
           "showland": true,
           "subunitcolor": "#C8D4E3"
          },
          "hoverlabel": {
           "align": "left"
          },
          "hovermode": "closest",
          "mapbox": {
           "style": "light"
          },
          "paper_bgcolor": "white",
          "plot_bgcolor": "white",
          "polar": {
           "angularaxis": {
            "gridcolor": "#EBF0F8",
            "linecolor": "#EBF0F8",
            "ticks": ""
           },
           "bgcolor": "white",
           "radialaxis": {
            "gridcolor": "#EBF0F8",
            "linecolor": "#EBF0F8",
            "ticks": ""
           }
          },
          "scene": {
           "xaxis": {
            "backgroundcolor": "white",
            "gridcolor": "#DFE8F3",
            "gridwidth": 2,
            "linecolor": "#EBF0F8",
            "showbackground": true,
            "ticks": "",
            "zerolinecolor": "#EBF0F8"
           },
           "yaxis": {
            "backgroundcolor": "white",
            "gridcolor": "#DFE8F3",
            "gridwidth": 2,
            "linecolor": "#EBF0F8",
            "showbackground": true,
            "ticks": "",
            "zerolinecolor": "#EBF0F8"
           },
           "zaxis": {
            "backgroundcolor": "white",
            "gridcolor": "#DFE8F3",
            "gridwidth": 2,
            "linecolor": "#EBF0F8",
            "showbackground": true,
            "ticks": "",
            "zerolinecolor": "#EBF0F8"
           }
          },
          "shapedefaults": {
           "line": {
            "color": "#2a3f5f"
           }
          },
          "ternary": {
           "aaxis": {
            "gridcolor": "#DFE8F3",
            "linecolor": "#A2B1C6",
            "ticks": ""
           },
           "baxis": {
            "gridcolor": "#DFE8F3",
            "linecolor": "#A2B1C6",
            "ticks": ""
           },
           "bgcolor": "white",
           "caxis": {
            "gridcolor": "#DFE8F3",
            "linecolor": "#A2B1C6",
            "ticks": ""
           }
          },
          "title": {
           "x": 0.05
          },
          "xaxis": {
           "automargin": true,
           "gridcolor": "#EBF0F8",
           "linecolor": "#EBF0F8",
           "ticks": "",
           "title": {
            "standoff": 15
           },
           "zerolinecolor": "#EBF0F8",
           "zerolinewidth": 2
          },
          "yaxis": {
           "automargin": true,
           "gridcolor": "#EBF0F8",
           "linecolor": "#EBF0F8",
           "ticks": "",
           "title": {
            "standoff": 15
           },
           "zerolinecolor": "#EBF0F8",
           "zerolinewidth": 2
          }
         }
        },
        "width": 1000,
        "xaxis": {
         "anchor": "y",
         "domain": [
          0,
          0.54
         ],
         "showticklabels": false,
         "title": {
          "text": "Median Salary, EUR"
         }
        },
        "xaxis2": {
         "anchor": "y2",
         "domain": [
          0.64,
          1
         ],
         "title": {
          "text": ""
         }
        },
        "yaxis": {
         "anchor": "x",
         "domain": [
          0,
          1
         ],
         "tickmode": "array",
         "ticktext": [
          "word",
          "excel",
          "spss",
          "powerpoint",
          "sharepoint",
          "sap",
          "sas",
          "<b>power bi</b>",
          "<b>tableau</b>",
          "<b>looker</b>"
         ],
         "tickvals": [
          "word",
          "excel",
          "spss",
          "powerpoint",
          "sharepoint",
          "sap",
          "sas",
          "power bi",
          "tableau",
          "looker"
         ],
         "title": {
          "text": ""
         }
        },
        "yaxis2": {
         "anchor": "x2",
         "domain": [
          0,
          1
         ],
         "showticklabels": false,
         "title": {
          "text": ""
         }
        }
       }
      }
     },
     "metadata": {},
     "output_type": "display_data"
    }
   ],
   "source": [
    "# Extract analyst_tools skills\n",
    "analyst_skills = set()\n",
    "for row in df_da_eu_us['job_type_skills'].dropna().unique():\n",
    "    row_dict = ast.literal_eval(row)\n",
    "    analyst_skills.update(row_dict.get('analyst_tools', []))\n",
    "\n",
    "df_da = df_da_eu_us.dropna(subset=['job_skills', 'salary_month_avg_eur']).copy()\n",
    "df_da['job_skills'] = df_da['job_skills'].apply(ast.literal_eval)\n",
    "df_da = df_da.explode('job_skills')\n",
    "df_plot = df_da[df_da['job_skills'].isin(analyst_skills)].copy()\n",
    "\n",
    "# Find top 10 skills by number of postings (frequency)\n",
    "top10_by_count = (\n",
    "    df_plot['job_skills']\n",
    "    .value_counts()\n",
    "    .head(10)\n",
    "    .index.tolist()\n",
    ")\n",
    "\n",
    "df_top10_count = df_plot[df_plot['job_skills'].isin(top10_by_count)]\n",
    "\n",
    "top10_salary_skills = (\n",
    "    df_top10_count.groupby('job_skills')['salary_month_avg_eur']\n",
    "    .median()\n",
    "    .sort_values(ascending=False)\n",
    "    .head(10)\n",
    "    .reset_index()\n",
    ")\n",
    "\n",
    "top10_salary_skills['job_postings'] = top10_salary_skills['job_skills'].apply(\n",
    "    lambda s: (df_plot['job_skills'] == s).sum()\n",
    ")\n",
    "\n",
    "top10_salary_skills.columns = ['skill', 'median_salary_eur', 'job_postings']\n",
    "top10_salary_skills = top10_salary_skills.sort_values('median_salary_eur')\n",
    "\n",
    "top_skills_set = set(top10_salary_skills['skill'])\n",
    "\n",
    "# Define top 3 highest-paid skills from these top 10\n",
    "top3_skills_set = set(top10_salary_skills.sort_values('median_salary_eur', ascending=False)['skill'].head(3))\n",
    "\n",
    "df_plot['has_top_skill'] = df_plot['job_skills'].apply(lambda s: s in top3_skills_set)\n",
    "df_valid = df_plot.dropna(subset=['salary_month_avg_eur'])\n",
    "\n",
    "avg_salary = (\n",
    "    df_valid.groupby('has_top_skill')['salary_month_avg_eur']\n",
    "    .mean()\n",
    "    .reset_index()\n",
    ")\n",
    "\n",
    "avg_salary['group'] = avg_salary['has_top_skill'].map({\n",
    "    True: 'With Top 3 Skills',\n",
    "    False: 'Without Top 3 Skills'\n",
    "})\n",
    "\n",
    "# Sort avg_salary to control bar order on plot\n",
    "avg_salary['group'] = pd.Categorical(\n",
    "    avg_salary['group'],\n",
    "    categories=['Without Top 3 Skills', 'With Top 3 Skills'],\n",
    "    ordered=True\n",
    ")\n",
    "avg_salary = avg_salary.sort_values('group')\n",
    "\n",
    "with_salary = avg_salary.loc[avg_salary['group'] == 'With Top 3 Skills', 'salary_month_avg_eur'].values[0]\n",
    "without_salary = avg_salary.loc[avg_salary['group'] == 'Without Top 3 Skills', 'salary_month_avg_eur'].values[0]\n",
    "pct_diff = (with_salary - without_salary) / without_salary * 100\n",
    "\n",
    "# Plotting\n",
    "fig = make_subplots(\n",
    "    rows=1, cols=2,\n",
    "    column_widths=[0.6, 0.4],\n",
    "    subplot_titles=(\"Top 10 Highest Paid Analyst Tools Skills\", \"Avg Salary: With vs Without Top 3 Skills\"),\n",
    "    horizontal_spacing=0.1\n",
    ")\n",
    "\n",
    "# Left: horizontal bar for median salary of top 10 skills\n",
    "fig.add_trace(go.Bar(\n",
    "    x=top10_salary_skills['median_salary_eur'],\n",
    "    y=top10_salary_skills['skill'],\n",
    "    orientation='h',\n",
    "    marker=dict(color=top10_salary_skills['median_salary_eur'], colorscale='Blues'),\n",
    "    text=top10_salary_skills['median_salary_eur'].round(0).astype(int),\n",
    "    textposition='auto',\n",
    "    name='Top Skills'\n",
    "), row=1, col=1)\n",
    "\n",
    "# Bold the top 3 skills on left y-axis\n",
    "top_3_skills = set(top10_salary_skills.tail(3)['skill'])\n",
    "ticktext = [f\"<b>{s}</b>\" if s in top_3_skills else s for s in top10_salary_skills['skill']]\n",
    "\n",
    "fig.update_yaxes(\n",
    "    tickmode='array',\n",
    "    tickvals=top10_salary_skills['skill'],\n",
    "    ticktext=ticktext,\n",
    "    row=1, col=1\n",
    ")\n",
    "\n",
    "# Right: bar for avg salary with/without top 3 skills\n",
    "fig.add_trace(go.Bar(\n",
    "    x=avg_salary['group'],\n",
    "    y=avg_salary['salary_month_avg_eur'],\n",
    "    marker_color=['#9ecae1' if g == 'Without Top 3 Skills' else '#084594' for g in avg_salary['group']],\n",
    "    text=avg_salary['salary_month_avg_eur'].round(0).astype(int),\n",
    "    textposition='auto',\n",
    "    name='Group Comparison'\n",
    "), row=1, col=2)\n",
    "\n",
    "fig.add_annotation(\n",
    "    x=1.5,\n",
    "    y=max(avg_salary['salary_month_avg_eur']) * 1.05,\n",
    "    text=f'+{pct_diff:.1f}%',\n",
    "    showarrow=False,\n",
    "    font=dict(size=14, color='gray'),\n",
    "    xref='x2',\n",
    "    yref='y2'\n",
    ")\n",
    "\n",
    "fig.update_layout(\n",
    "    height=500,\n",
    "    width=1000,\n",
    "    template='plotly_white',\n",
    "    showlegend=False,\n",
    "    margin=dict(t=60, b=40, l=60, r=40),\n",
    ")\n",
    "\n",
    "fig.update_xaxes(title_text='Median Salary, EUR', row=1, col=1)\n",
    "fig.update_xaxes(showticklabels=False, row=1, col=1)\n",
    "fig.update_yaxes(title_text='', row=1, col=1)\n",
    "fig.update_xaxes(title_text='', row=1, col=2)\n",
    "fig.update_yaxes(title_text='', showticklabels=False, row=1, col=2)\n",
    "\n",
    "fig.show()"
   ]
  },
  {
   "cell_type": "markdown",
   "id": "3911f306",
   "metadata": {},
   "source": [
    "### Top-Paying Analytical Skills and Their Impact on Salary"
   ]
  },
  {
   "cell_type": "code",
   "execution_count": 12,
   "id": "715d3fb5",
   "metadata": {},
   "outputs": [
    {
     "data": {
      "application/vnd.plotly.v1+json": {
       "config": {
        "plotlyServerURL": "https://plot.ly"
       },
       "data": [
        {
         "marker": {
          "color": {
           "bdata": "AAAAAIBsuUAAAAAAgGy5QClcj8LVF7pArkfhehTWukCuR+F6FNa6QHsUrkfhirtAPQrXozDTu0ApXI/CdfS8QAAAAABAqb1AuB6F68HNwUA=",
           "dtype": "f8"
          },
          "colorscale": [
           [
            0,
            "rgb(247,251,255)"
           ],
           [
            0.125,
            "rgb(222,235,247)"
           ],
           [
            0.25,
            "rgb(198,219,239)"
           ],
           [
            0.375,
            "rgb(158,202,225)"
           ],
           [
            0.5,
            "rgb(107,174,214)"
           ],
           [
            0.625,
            "rgb(66,146,198)"
           ],
           [
            0.75,
            "rgb(33,113,181)"
           ],
           [
            0.875,
            "rgb(8,81,156)"
           ],
           [
            1,
            "rgb(8,48,107)"
           ]
          ]
         },
         "name": "Top Skills",
         "orientation": "h",
         "text": {
          "bdata": "AAAAAABsuUAAAAAAAGy5QAAAAAAAGLpAAAAAAADWukAAAAAAANa6QAAAAAAAi7tAAAAAAADTu0AAAAAAAPS8QAAAAAAAqb1AAAAAAADOwUA=",
          "dtype": "f8"
         },
         "textposition": "auto",
         "type": "bar",
         "x": {
          "bdata": "AAAAAIBsuUAAAAAAgGy5QClcj8LVF7pArkfhehTWukCuR+F6FNa6QHsUrkfhirtAPQrXozDTu0ApXI/CdfS8QAAAAABAqb1AuB6F68HNwUA=",
          "dtype": "f8"
         },
         "xaxis": "x",
         "y": [
          "sas",
          "power bi",
          "tableau",
          "visio",
          "dax",
          "qlik",
          "ssis",
          "looker",
          "alteryx",
          "splunk"
         ],
         "yaxis": "y"
        },
        {
         "marker": {
          "color": [
           "#9ecae1",
           "#084594"
          ]
         },
         "name": "Group Comparison",
         "text": {
          "bdata": "AAAAAABOuUAAAAAAAB69QA==",
          "dtype": "f8"
         },
         "textposition": "auto",
         "type": "bar",
         "x": [
          "Without Top 3 Skills",
          "With Top 3 Skills"
         ],
         "xaxis": "x2",
         "y": {
          "bdata": "/QDCk+1NuUBjcym9yh29QA==",
          "dtype": "f8"
         },
         "yaxis": "y2"
        }
       ],
       "layout": {
        "annotations": [
         {
          "font": {
           "size": 16
          },
          "showarrow": false,
          "text": "Top 10 Highest Paid Analyst Tools Skills",
          "x": 0.27,
          "xanchor": "center",
          "xref": "paper",
          "y": 1,
          "yanchor": "bottom",
          "yref": "paper"
         },
         {
          "font": {
           "size": 16
          },
          "showarrow": false,
          "text": "Avg Salary: With vs Without Top 3 Skills",
          "x": 0.8200000000000001,
          "xanchor": "center",
          "xref": "paper",
          "y": 1,
          "yanchor": "bottom",
          "yref": "paper"
         },
         {
          "font": {
           "color": "gray",
           "size": 14
          },
          "showarrow": false,
          "text": "+15.1%",
          "x": 1.5,
          "xref": "x2",
          "y": 7826.481546325878,
          "yref": "y2"
         }
        ],
        "height": 500,
        "margin": {
         "b": 40,
         "l": 60,
         "r": 40,
         "t": 60
        },
        "showlegend": false,
        "template": {
         "data": {
          "bar": [
           {
            "error_x": {
             "color": "#2a3f5f"
            },
            "error_y": {
             "color": "#2a3f5f"
            },
            "marker": {
             "line": {
              "color": "white",
              "width": 0.5
             },
             "pattern": {
              "fillmode": "overlay",
              "size": 10,
              "solidity": 0.2
             }
            },
            "type": "bar"
           }
          ],
          "barpolar": [
           {
            "marker": {
             "line": {
              "color": "white",
              "width": 0.5
             },
             "pattern": {
              "fillmode": "overlay",
              "size": 10,
              "solidity": 0.2
             }
            },
            "type": "barpolar"
           }
          ],
          "carpet": [
           {
            "aaxis": {
             "endlinecolor": "#2a3f5f",
             "gridcolor": "#C8D4E3",
             "linecolor": "#C8D4E3",
             "minorgridcolor": "#C8D4E3",
             "startlinecolor": "#2a3f5f"
            },
            "baxis": {
             "endlinecolor": "#2a3f5f",
             "gridcolor": "#C8D4E3",
             "linecolor": "#C8D4E3",
             "minorgridcolor": "#C8D4E3",
             "startlinecolor": "#2a3f5f"
            },
            "type": "carpet"
           }
          ],
          "choropleth": [
           {
            "colorbar": {
             "outlinewidth": 0,
             "ticks": ""
            },
            "type": "choropleth"
           }
          ],
          "contour": [
           {
            "colorbar": {
             "outlinewidth": 0,
             "ticks": ""
            },
            "colorscale": [
             [
              0,
              "#0d0887"
             ],
             [
              0.1111111111111111,
              "#46039f"
             ],
             [
              0.2222222222222222,
              "#7201a8"
             ],
             [
              0.3333333333333333,
              "#9c179e"
             ],
             [
              0.4444444444444444,
              "#bd3786"
             ],
             [
              0.5555555555555556,
              "#d8576b"
             ],
             [
              0.6666666666666666,
              "#ed7953"
             ],
             [
              0.7777777777777778,
              "#fb9f3a"
             ],
             [
              0.8888888888888888,
              "#fdca26"
             ],
             [
              1,
              "#f0f921"
             ]
            ],
            "type": "contour"
           }
          ],
          "contourcarpet": [
           {
            "colorbar": {
             "outlinewidth": 0,
             "ticks": ""
            },
            "type": "contourcarpet"
           }
          ],
          "heatmap": [
           {
            "colorbar": {
             "outlinewidth": 0,
             "ticks": ""
            },
            "colorscale": [
             [
              0,
              "#0d0887"
             ],
             [
              0.1111111111111111,
              "#46039f"
             ],
             [
              0.2222222222222222,
              "#7201a8"
             ],
             [
              0.3333333333333333,
              "#9c179e"
             ],
             [
              0.4444444444444444,
              "#bd3786"
             ],
             [
              0.5555555555555556,
              "#d8576b"
             ],
             [
              0.6666666666666666,
              "#ed7953"
             ],
             [
              0.7777777777777778,
              "#fb9f3a"
             ],
             [
              0.8888888888888888,
              "#fdca26"
             ],
             [
              1,
              "#f0f921"
             ]
            ],
            "type": "heatmap"
           }
          ],
          "histogram": [
           {
            "marker": {
             "pattern": {
              "fillmode": "overlay",
              "size": 10,
              "solidity": 0.2
             }
            },
            "type": "histogram"
           }
          ],
          "histogram2d": [
           {
            "colorbar": {
             "outlinewidth": 0,
             "ticks": ""
            },
            "colorscale": [
             [
              0,
              "#0d0887"
             ],
             [
              0.1111111111111111,
              "#46039f"
             ],
             [
              0.2222222222222222,
              "#7201a8"
             ],
             [
              0.3333333333333333,
              "#9c179e"
             ],
             [
              0.4444444444444444,
              "#bd3786"
             ],
             [
              0.5555555555555556,
              "#d8576b"
             ],
             [
              0.6666666666666666,
              "#ed7953"
             ],
             [
              0.7777777777777778,
              "#fb9f3a"
             ],
             [
              0.8888888888888888,
              "#fdca26"
             ],
             [
              1,
              "#f0f921"
             ]
            ],
            "type": "histogram2d"
           }
          ],
          "histogram2dcontour": [
           {
            "colorbar": {
             "outlinewidth": 0,
             "ticks": ""
            },
            "colorscale": [
             [
              0,
              "#0d0887"
             ],
             [
              0.1111111111111111,
              "#46039f"
             ],
             [
              0.2222222222222222,
              "#7201a8"
             ],
             [
              0.3333333333333333,
              "#9c179e"
             ],
             [
              0.4444444444444444,
              "#bd3786"
             ],
             [
              0.5555555555555556,
              "#d8576b"
             ],
             [
              0.6666666666666666,
              "#ed7953"
             ],
             [
              0.7777777777777778,
              "#fb9f3a"
             ],
             [
              0.8888888888888888,
              "#fdca26"
             ],
             [
              1,
              "#f0f921"
             ]
            ],
            "type": "histogram2dcontour"
           }
          ],
          "mesh3d": [
           {
            "colorbar": {
             "outlinewidth": 0,
             "ticks": ""
            },
            "type": "mesh3d"
           }
          ],
          "parcoords": [
           {
            "line": {
             "colorbar": {
              "outlinewidth": 0,
              "ticks": ""
             }
            },
            "type": "parcoords"
           }
          ],
          "pie": [
           {
            "automargin": true,
            "type": "pie"
           }
          ],
          "scatter": [
           {
            "fillpattern": {
             "fillmode": "overlay",
             "size": 10,
             "solidity": 0.2
            },
            "type": "scatter"
           }
          ],
          "scatter3d": [
           {
            "line": {
             "colorbar": {
              "outlinewidth": 0,
              "ticks": ""
             }
            },
            "marker": {
             "colorbar": {
              "outlinewidth": 0,
              "ticks": ""
             }
            },
            "type": "scatter3d"
           }
          ],
          "scattercarpet": [
           {
            "marker": {
             "colorbar": {
              "outlinewidth": 0,
              "ticks": ""
             }
            },
            "type": "scattercarpet"
           }
          ],
          "scattergeo": [
           {
            "marker": {
             "colorbar": {
              "outlinewidth": 0,
              "ticks": ""
             }
            },
            "type": "scattergeo"
           }
          ],
          "scattergl": [
           {
            "marker": {
             "colorbar": {
              "outlinewidth": 0,
              "ticks": ""
             }
            },
            "type": "scattergl"
           }
          ],
          "scattermap": [
           {
            "marker": {
             "colorbar": {
              "outlinewidth": 0,
              "ticks": ""
             }
            },
            "type": "scattermap"
           }
          ],
          "scattermapbox": [
           {
            "marker": {
             "colorbar": {
              "outlinewidth": 0,
              "ticks": ""
             }
            },
            "type": "scattermapbox"
           }
          ],
          "scatterpolar": [
           {
            "marker": {
             "colorbar": {
              "outlinewidth": 0,
              "ticks": ""
             }
            },
            "type": "scatterpolar"
           }
          ],
          "scatterpolargl": [
           {
            "marker": {
             "colorbar": {
              "outlinewidth": 0,
              "ticks": ""
             }
            },
            "type": "scatterpolargl"
           }
          ],
          "scatterternary": [
           {
            "marker": {
             "colorbar": {
              "outlinewidth": 0,
              "ticks": ""
             }
            },
            "type": "scatterternary"
           }
          ],
          "surface": [
           {
            "colorbar": {
             "outlinewidth": 0,
             "ticks": ""
            },
            "colorscale": [
             [
              0,
              "#0d0887"
             ],
             [
              0.1111111111111111,
              "#46039f"
             ],
             [
              0.2222222222222222,
              "#7201a8"
             ],
             [
              0.3333333333333333,
              "#9c179e"
             ],
             [
              0.4444444444444444,
              "#bd3786"
             ],
             [
              0.5555555555555556,
              "#d8576b"
             ],
             [
              0.6666666666666666,
              "#ed7953"
             ],
             [
              0.7777777777777778,
              "#fb9f3a"
             ],
             [
              0.8888888888888888,
              "#fdca26"
             ],
             [
              1,
              "#f0f921"
             ]
            ],
            "type": "surface"
           }
          ],
          "table": [
           {
            "cells": {
             "fill": {
              "color": "#EBF0F8"
             },
             "line": {
              "color": "white"
             }
            },
            "header": {
             "fill": {
              "color": "#C8D4E3"
             },
             "line": {
              "color": "white"
             }
            },
            "type": "table"
           }
          ]
         },
         "layout": {
          "annotationdefaults": {
           "arrowcolor": "#2a3f5f",
           "arrowhead": 0,
           "arrowwidth": 1
          },
          "autotypenumbers": "strict",
          "coloraxis": {
           "colorbar": {
            "outlinewidth": 0,
            "ticks": ""
           }
          },
          "colorscale": {
           "diverging": [
            [
             0,
             "#8e0152"
            ],
            [
             0.1,
             "#c51b7d"
            ],
            [
             0.2,
             "#de77ae"
            ],
            [
             0.3,
             "#f1b6da"
            ],
            [
             0.4,
             "#fde0ef"
            ],
            [
             0.5,
             "#f7f7f7"
            ],
            [
             0.6,
             "#e6f5d0"
            ],
            [
             0.7,
             "#b8e186"
            ],
            [
             0.8,
             "#7fbc41"
            ],
            [
             0.9,
             "#4d9221"
            ],
            [
             1,
             "#276419"
            ]
           ],
           "sequential": [
            [
             0,
             "#0d0887"
            ],
            [
             0.1111111111111111,
             "#46039f"
            ],
            [
             0.2222222222222222,
             "#7201a8"
            ],
            [
             0.3333333333333333,
             "#9c179e"
            ],
            [
             0.4444444444444444,
             "#bd3786"
            ],
            [
             0.5555555555555556,
             "#d8576b"
            ],
            [
             0.6666666666666666,
             "#ed7953"
            ],
            [
             0.7777777777777778,
             "#fb9f3a"
            ],
            [
             0.8888888888888888,
             "#fdca26"
            ],
            [
             1,
             "#f0f921"
            ]
           ],
           "sequentialminus": [
            [
             0,
             "#0d0887"
            ],
            [
             0.1111111111111111,
             "#46039f"
            ],
            [
             0.2222222222222222,
             "#7201a8"
            ],
            [
             0.3333333333333333,
             "#9c179e"
            ],
            [
             0.4444444444444444,
             "#bd3786"
            ],
            [
             0.5555555555555556,
             "#d8576b"
            ],
            [
             0.6666666666666666,
             "#ed7953"
            ],
            [
             0.7777777777777778,
             "#fb9f3a"
            ],
            [
             0.8888888888888888,
             "#fdca26"
            ],
            [
             1,
             "#f0f921"
            ]
           ]
          },
          "colorway": [
           "#636efa",
           "#EF553B",
           "#00cc96",
           "#ab63fa",
           "#FFA15A",
           "#19d3f3",
           "#FF6692",
           "#B6E880",
           "#FF97FF",
           "#FECB52"
          ],
          "font": {
           "color": "#2a3f5f"
          },
          "geo": {
           "bgcolor": "white",
           "lakecolor": "white",
           "landcolor": "white",
           "showlakes": true,
           "showland": true,
           "subunitcolor": "#C8D4E3"
          },
          "hoverlabel": {
           "align": "left"
          },
          "hovermode": "closest",
          "mapbox": {
           "style": "light"
          },
          "paper_bgcolor": "white",
          "plot_bgcolor": "white",
          "polar": {
           "angularaxis": {
            "gridcolor": "#EBF0F8",
            "linecolor": "#EBF0F8",
            "ticks": ""
           },
           "bgcolor": "white",
           "radialaxis": {
            "gridcolor": "#EBF0F8",
            "linecolor": "#EBF0F8",
            "ticks": ""
           }
          },
          "scene": {
           "xaxis": {
            "backgroundcolor": "white",
            "gridcolor": "#DFE8F3",
            "gridwidth": 2,
            "linecolor": "#EBF0F8",
            "showbackground": true,
            "ticks": "",
            "zerolinecolor": "#EBF0F8"
           },
           "yaxis": {
            "backgroundcolor": "white",
            "gridcolor": "#DFE8F3",
            "gridwidth": 2,
            "linecolor": "#EBF0F8",
            "showbackground": true,
            "ticks": "",
            "zerolinecolor": "#EBF0F8"
           },
           "zaxis": {
            "backgroundcolor": "white",
            "gridcolor": "#DFE8F3",
            "gridwidth": 2,
            "linecolor": "#EBF0F8",
            "showbackground": true,
            "ticks": "",
            "zerolinecolor": "#EBF0F8"
           }
          },
          "shapedefaults": {
           "line": {
            "color": "#2a3f5f"
           }
          },
          "ternary": {
           "aaxis": {
            "gridcolor": "#DFE8F3",
            "linecolor": "#A2B1C6",
            "ticks": ""
           },
           "baxis": {
            "gridcolor": "#DFE8F3",
            "linecolor": "#A2B1C6",
            "ticks": ""
           },
           "bgcolor": "white",
           "caxis": {
            "gridcolor": "#DFE8F3",
            "linecolor": "#A2B1C6",
            "ticks": ""
           }
          },
          "title": {
           "x": 0.05
          },
          "xaxis": {
           "automargin": true,
           "gridcolor": "#EBF0F8",
           "linecolor": "#EBF0F8",
           "ticks": "",
           "title": {
            "standoff": 15
           },
           "zerolinecolor": "#EBF0F8",
           "zerolinewidth": 2
          },
          "yaxis": {
           "automargin": true,
           "gridcolor": "#EBF0F8",
           "linecolor": "#EBF0F8",
           "ticks": "",
           "title": {
            "standoff": 15
           },
           "zerolinecolor": "#EBF0F8",
           "zerolinewidth": 2
          }
         }
        },
        "width": 1000,
        "xaxis": {
         "anchor": "y",
         "domain": [
          0,
          0.54
         ],
         "showticklabels": false,
         "title": {
          "text": "Median Salary, EUR"
         }
        },
        "xaxis2": {
         "anchor": "y2",
         "domain": [
          0.64,
          1
         ],
         "title": {
          "text": ""
         }
        },
        "yaxis": {
         "anchor": "x",
         "domain": [
          0,
          1
         ],
         "title": {
          "text": ""
         }
        },
        "yaxis2": {
         "anchor": "x2",
         "domain": [
          0,
          1
         ],
         "showticklabels": false,
         "title": {
          "text": ""
         }
        }
       }
      }
     },
     "metadata": {},
     "output_type": "display_data"
    }
   ],
   "source": [
    "# Extract analyst_tools skills\n",
    "analyst_skills = set()\n",
    "for row in df_da_eu_us['job_type_skills'].dropna().unique():\n",
    "    row_dict = ast.literal_eval(row)\n",
    "    analyst_skills.update(row_dict.get('analyst_tools', []))\n",
    "\n",
    "df_da = df_da_eu_us.dropna(subset=['job_skills', 'salary_month_avg_eur']).copy()\n",
    "df_da['job_skills'] = df_da['job_skills'].apply(ast.literal_eval)\n",
    "df_da = df_da.explode('job_skills')\n",
    "df_plot = df_da[df_da['job_skills'].isin(analyst_skills)].copy()\n",
    "\n",
    "# Find top 10 skills by number of postings (frequency)\n",
    "top10_by_count = (\n",
    "    df_plot['job_skills']\n",
    "    .value_counts()\n",
    "    .head(10)\n",
    "    .index.tolist()\n",
    ")\n",
    "\n",
    "# Step 3: Top 10 highest paid skills in analyst_tools\n",
    "top10_salary_skills = (\n",
    "    df_plot.groupby('job_skills')['salary_month_avg_eur']\n",
    "    .median()\n",
    "    .sort_values(ascending=False)\n",
    "    .head(10)\n",
    "    .reset_index()\n",
    ")\n",
    "\n",
    "# Add job postings count for these skills\n",
    "top10_salary_skills['job_postings'] = top10_salary_skills['job_skills'].apply(\n",
    "    lambda s: (df_plot['job_skills'] == s).sum()\n",
    ")\n",
    "\n",
    "top10_salary_skills.columns = ['skill', 'median_salary_eur', 'job_postings']\n",
    "top10_salary_skills = top10_salary_skills.sort_values('median_salary_eur')\n",
    "top_skills_set = set(top10_salary_skills['skill'])\n",
    "\n",
    "# Step 4: With vs Without top 3 highest-paid skills\n",
    "top3_skills_set = set(top10_salary_skills.sort_values('median_salary_eur', ascending=False)['skill'].head(3))\n",
    "\n",
    "df_plot['has_top_skill'] = df_plot['job_skills'].apply(lambda s: s in top3_skills_set)\n",
    "df_valid = df_plot.dropna(subset=['salary_month_avg_eur'])\n",
    "\n",
    "avg_salary = (\n",
    "    df_valid.groupby('has_top_skill')['salary_month_avg_eur']\n",
    "    .mean()\n",
    "    .reset_index()\n",
    ")\n",
    "\n",
    "avg_salary['group'] = avg_salary['has_top_skill'].map({\n",
    "    True: 'With Top 3 Skills',\n",
    "    False: 'Without Top 3 Skills'\n",
    "})\n",
    "\n",
    "with_salary = avg_salary.loc[avg_salary['group'] == 'With Top 3 Skills', 'salary_month_avg_eur'].values[0]\n",
    "without_salary = avg_salary.loc[avg_salary['group'] == 'Without Top 3 Skills', 'salary_month_avg_eur'].values[0]\n",
    "pct_diff = (with_salary - without_salary) / without_salary * 100\n",
    "\n",
    "# Step 5: Plotting\n",
    "fig = make_subplots(\n",
    "    rows=1, cols=2,\n",
    "    column_widths=[0.6, 0.4],\n",
    "    subplot_titles=(\"Top 10 Highest Paid Analyst Tools Skills\", \"Avg Salary: With vs Without Top 3 Skills\"),\n",
    "    horizontal_spacing=0.1\n",
    ")\n",
    "\n",
    "fig.add_trace(go.Bar(\n",
    "    x=top10_salary_skills['median_salary_eur'],\n",
    "    y=top10_salary_skills['skill'],\n",
    "    orientation='h',\n",
    "    marker=dict(color=top10_salary_skills['median_salary_eur'], colorscale='Blues'),\n",
    "    text=top10_salary_skills['median_salary_eur'].round(0).astype(int),\n",
    "    textposition='auto',\n",
    "    name='Top Skills'\n",
    "), row=1, col=1)\n",
    "\n",
    "fig.add_trace(go.Bar(\n",
    "    x=avg_salary['group'],\n",
    "    y=avg_salary['salary_month_avg_eur'],\n",
    "    marker_color=['#9ecae1' if g == 'Without Top 3 Skills' else '#084594' for g in avg_salary['group']],\n",
    "    text=avg_salary['salary_month_avg_eur'].round(0).astype(int),\n",
    "    textposition='auto',\n",
    "    name='Group Comparison'\n",
    "), row=1, col=2)\n",
    "\n",
    "fig.add_annotation(\n",
    "    x=1.5,  \n",
    "    y=max(avg_salary['salary_month_avg_eur']) * 1.05,\n",
    "    text=f'+{pct_diff:.1f}%',\n",
    "    showarrow=False,\n",
    "    font=dict(size=14, color='gray'),\n",
    "    xref='x2',\n",
    "    yref='y2'\n",
    ")\n",
    "\n",
    "fig.update_layout(\n",
    "    height=500,\n",
    "    width=1000,\n",
    "    template='plotly_white',\n",
    "    showlegend=False,\n",
    "    margin=dict(t=60, b=40, l=60, r=40),\n",
    ")\n",
    "\n",
    "fig.update_xaxes(title_text='Median Salary, EUR', row=1, col=1)\n",
    "fig.update_xaxes(showticklabels=False, row=1, col=1)\n",
    "fig.update_yaxes(title_text='', row=1, col=1)\n",
    "fig.update_xaxes(title_text='', row=1, col=2)\n",
    "fig.update_yaxes(title_text='', showticklabels=False, row=1, col=2)\n",
    "\n",
    "fig.show()"
   ]
  },
  {
   "cell_type": "markdown",
   "id": "90b3d47b",
   "metadata": {},
   "source": [
    "- With Top 3 Skills: Job posting has at least one of the top 3 skills.\n",
    "- Without Top 3 Skills: Job posting has none of the top 3 skills."
   ]
  },
  {
   "cell_type": "markdown",
   "id": "14cacc4b",
   "metadata": {},
   "source": [
    "### Impact of Job Type (Remote vs On-site) and Degree Requirements on Salary"
   ]
  },
  {
   "cell_type": "code",
   "execution_count": 13,
   "id": "b5a21d66",
   "metadata": {},
   "outputs": [
    {
     "data": {
      "application/vnd.plotly.v1+json": {
       "config": {
        "plotlyServerURL": "https://plot.ly"
       },
       "data": [
        {
         "marker": {
          "color": [
           "#9ecae1",
           "#084594"
          ]
         },
         "showlegend": false,
         "text": {
          "bdata": "AAAAAADnuUAAAAAAAPe5QA==",
          "dtype": "f8"
         },
         "textposition": "auto",
         "type": "bar",
         "x": [
          "On-site",
          "Remote"
         ],
         "xaxis": "x",
         "y": {
          "bdata": "rwprqebmuUDBhCzfc/e5QA==",
          "dtype": "f8"
         },
         "yaxis": "y"
        },
        {
         "marker": {
          "color": [
           "#9ecae1",
           "#084594"
          ]
         },
         "showlegend": false,
         "text": {
          "bdata": "AAAAAACFuUAAAAAAAAa6QA==",
          "dtype": "f8"
         },
         "textposition": "auto",
         "type": "bar",
         "x": [
          "No Degree Mentioned",
          "Degree Mentioned"
         ],
         "xaxis": "x2",
         "y": {
          "bdata": "RjWJ5deEuUB002x2yAW6QA==",
          "dtype": "f8"
         },
         "yaxis": "y2"
        }
       ],
       "layout": {
        "annotations": [
         {
          "font": {
           "size": 16
          },
          "showarrow": false,
          "text": "Avg Salary by Remote Work",
          "x": 0.225,
          "xanchor": "center",
          "xref": "paper",
          "y": 1.05,
          "yanchor": "bottom",
          "yref": "paper"
         },
         {
          "font": {
           "size": 16
          },
          "showarrow": false,
          "text": "Avg Salary by Degree Mention",
          "x": 0.775,
          "xanchor": "center",
          "xref": "paper",
          "y": 1.05,
          "yanchor": "bottom",
          "yref": "paper"
         },
         {
          "font": {
           "color": "grey",
           "size": 14
          },
          "showarrow": false,
          "text": "+0.2%",
          "x": 0.5,
          "xref": "x domain",
          "y": 6979.875255319149,
          "yref": "y"
         },
         {
          "font": {
           "color": "grey",
           "size": 14
          },
          "showarrow": false,
          "text": "+2.0%",
          "x": 0.5,
          "xref": "x2 domain",
          "y": 6994.922209874827,
          "yref": "y2"
         }
        ],
        "height": 400,
        "template": {
         "data": {
          "bar": [
           {
            "error_x": {
             "color": "#2a3f5f"
            },
            "error_y": {
             "color": "#2a3f5f"
            },
            "marker": {
             "line": {
              "color": "white",
              "width": 0.5
             },
             "pattern": {
              "fillmode": "overlay",
              "size": 10,
              "solidity": 0.2
             }
            },
            "type": "bar"
           }
          ],
          "barpolar": [
           {
            "marker": {
             "line": {
              "color": "white",
              "width": 0.5
             },
             "pattern": {
              "fillmode": "overlay",
              "size": 10,
              "solidity": 0.2
             }
            },
            "type": "barpolar"
           }
          ],
          "carpet": [
           {
            "aaxis": {
             "endlinecolor": "#2a3f5f",
             "gridcolor": "#C8D4E3",
             "linecolor": "#C8D4E3",
             "minorgridcolor": "#C8D4E3",
             "startlinecolor": "#2a3f5f"
            },
            "baxis": {
             "endlinecolor": "#2a3f5f",
             "gridcolor": "#C8D4E3",
             "linecolor": "#C8D4E3",
             "minorgridcolor": "#C8D4E3",
             "startlinecolor": "#2a3f5f"
            },
            "type": "carpet"
           }
          ],
          "choropleth": [
           {
            "colorbar": {
             "outlinewidth": 0,
             "ticks": ""
            },
            "type": "choropleth"
           }
          ],
          "contour": [
           {
            "colorbar": {
             "outlinewidth": 0,
             "ticks": ""
            },
            "colorscale": [
             [
              0,
              "#0d0887"
             ],
             [
              0.1111111111111111,
              "#46039f"
             ],
             [
              0.2222222222222222,
              "#7201a8"
             ],
             [
              0.3333333333333333,
              "#9c179e"
             ],
             [
              0.4444444444444444,
              "#bd3786"
             ],
             [
              0.5555555555555556,
              "#d8576b"
             ],
             [
              0.6666666666666666,
              "#ed7953"
             ],
             [
              0.7777777777777778,
              "#fb9f3a"
             ],
             [
              0.8888888888888888,
              "#fdca26"
             ],
             [
              1,
              "#f0f921"
             ]
            ],
            "type": "contour"
           }
          ],
          "contourcarpet": [
           {
            "colorbar": {
             "outlinewidth": 0,
             "ticks": ""
            },
            "type": "contourcarpet"
           }
          ],
          "heatmap": [
           {
            "colorbar": {
             "outlinewidth": 0,
             "ticks": ""
            },
            "colorscale": [
             [
              0,
              "#0d0887"
             ],
             [
              0.1111111111111111,
              "#46039f"
             ],
             [
              0.2222222222222222,
              "#7201a8"
             ],
             [
              0.3333333333333333,
              "#9c179e"
             ],
             [
              0.4444444444444444,
              "#bd3786"
             ],
             [
              0.5555555555555556,
              "#d8576b"
             ],
             [
              0.6666666666666666,
              "#ed7953"
             ],
             [
              0.7777777777777778,
              "#fb9f3a"
             ],
             [
              0.8888888888888888,
              "#fdca26"
             ],
             [
              1,
              "#f0f921"
             ]
            ],
            "type": "heatmap"
           }
          ],
          "histogram": [
           {
            "marker": {
             "pattern": {
              "fillmode": "overlay",
              "size": 10,
              "solidity": 0.2
             }
            },
            "type": "histogram"
           }
          ],
          "histogram2d": [
           {
            "colorbar": {
             "outlinewidth": 0,
             "ticks": ""
            },
            "colorscale": [
             [
              0,
              "#0d0887"
             ],
             [
              0.1111111111111111,
              "#46039f"
             ],
             [
              0.2222222222222222,
              "#7201a8"
             ],
             [
              0.3333333333333333,
              "#9c179e"
             ],
             [
              0.4444444444444444,
              "#bd3786"
             ],
             [
              0.5555555555555556,
              "#d8576b"
             ],
             [
              0.6666666666666666,
              "#ed7953"
             ],
             [
              0.7777777777777778,
              "#fb9f3a"
             ],
             [
              0.8888888888888888,
              "#fdca26"
             ],
             [
              1,
              "#f0f921"
             ]
            ],
            "type": "histogram2d"
           }
          ],
          "histogram2dcontour": [
           {
            "colorbar": {
             "outlinewidth": 0,
             "ticks": ""
            },
            "colorscale": [
             [
              0,
              "#0d0887"
             ],
             [
              0.1111111111111111,
              "#46039f"
             ],
             [
              0.2222222222222222,
              "#7201a8"
             ],
             [
              0.3333333333333333,
              "#9c179e"
             ],
             [
              0.4444444444444444,
              "#bd3786"
             ],
             [
              0.5555555555555556,
              "#d8576b"
             ],
             [
              0.6666666666666666,
              "#ed7953"
             ],
             [
              0.7777777777777778,
              "#fb9f3a"
             ],
             [
              0.8888888888888888,
              "#fdca26"
             ],
             [
              1,
              "#f0f921"
             ]
            ],
            "type": "histogram2dcontour"
           }
          ],
          "mesh3d": [
           {
            "colorbar": {
             "outlinewidth": 0,
             "ticks": ""
            },
            "type": "mesh3d"
           }
          ],
          "parcoords": [
           {
            "line": {
             "colorbar": {
              "outlinewidth": 0,
              "ticks": ""
             }
            },
            "type": "parcoords"
           }
          ],
          "pie": [
           {
            "automargin": true,
            "type": "pie"
           }
          ],
          "scatter": [
           {
            "fillpattern": {
             "fillmode": "overlay",
             "size": 10,
             "solidity": 0.2
            },
            "type": "scatter"
           }
          ],
          "scatter3d": [
           {
            "line": {
             "colorbar": {
              "outlinewidth": 0,
              "ticks": ""
             }
            },
            "marker": {
             "colorbar": {
              "outlinewidth": 0,
              "ticks": ""
             }
            },
            "type": "scatter3d"
           }
          ],
          "scattercarpet": [
           {
            "marker": {
             "colorbar": {
              "outlinewidth": 0,
              "ticks": ""
             }
            },
            "type": "scattercarpet"
           }
          ],
          "scattergeo": [
           {
            "marker": {
             "colorbar": {
              "outlinewidth": 0,
              "ticks": ""
             }
            },
            "type": "scattergeo"
           }
          ],
          "scattergl": [
           {
            "marker": {
             "colorbar": {
              "outlinewidth": 0,
              "ticks": ""
             }
            },
            "type": "scattergl"
           }
          ],
          "scattermap": [
           {
            "marker": {
             "colorbar": {
              "outlinewidth": 0,
              "ticks": ""
             }
            },
            "type": "scattermap"
           }
          ],
          "scattermapbox": [
           {
            "marker": {
             "colorbar": {
              "outlinewidth": 0,
              "ticks": ""
             }
            },
            "type": "scattermapbox"
           }
          ],
          "scatterpolar": [
           {
            "marker": {
             "colorbar": {
              "outlinewidth": 0,
              "ticks": ""
             }
            },
            "type": "scatterpolar"
           }
          ],
          "scatterpolargl": [
           {
            "marker": {
             "colorbar": {
              "outlinewidth": 0,
              "ticks": ""
             }
            },
            "type": "scatterpolargl"
           }
          ],
          "scatterternary": [
           {
            "marker": {
             "colorbar": {
              "outlinewidth": 0,
              "ticks": ""
             }
            },
            "type": "scatterternary"
           }
          ],
          "surface": [
           {
            "colorbar": {
             "outlinewidth": 0,
             "ticks": ""
            },
            "colorscale": [
             [
              0,
              "#0d0887"
             ],
             [
              0.1111111111111111,
              "#46039f"
             ],
             [
              0.2222222222222222,
              "#7201a8"
             ],
             [
              0.3333333333333333,
              "#9c179e"
             ],
             [
              0.4444444444444444,
              "#bd3786"
             ],
             [
              0.5555555555555556,
              "#d8576b"
             ],
             [
              0.6666666666666666,
              "#ed7953"
             ],
             [
              0.7777777777777778,
              "#fb9f3a"
             ],
             [
              0.8888888888888888,
              "#fdca26"
             ],
             [
              1,
              "#f0f921"
             ]
            ],
            "type": "surface"
           }
          ],
          "table": [
           {
            "cells": {
             "fill": {
              "color": "#EBF0F8"
             },
             "line": {
              "color": "white"
             }
            },
            "header": {
             "fill": {
              "color": "#C8D4E3"
             },
             "line": {
              "color": "white"
             }
            },
            "type": "table"
           }
          ]
         },
         "layout": {
          "annotationdefaults": {
           "arrowcolor": "#2a3f5f",
           "arrowhead": 0,
           "arrowwidth": 1
          },
          "autotypenumbers": "strict",
          "coloraxis": {
           "colorbar": {
            "outlinewidth": 0,
            "ticks": ""
           }
          },
          "colorscale": {
           "diverging": [
            [
             0,
             "#8e0152"
            ],
            [
             0.1,
             "#c51b7d"
            ],
            [
             0.2,
             "#de77ae"
            ],
            [
             0.3,
             "#f1b6da"
            ],
            [
             0.4,
             "#fde0ef"
            ],
            [
             0.5,
             "#f7f7f7"
            ],
            [
             0.6,
             "#e6f5d0"
            ],
            [
             0.7,
             "#b8e186"
            ],
            [
             0.8,
             "#7fbc41"
            ],
            [
             0.9,
             "#4d9221"
            ],
            [
             1,
             "#276419"
            ]
           ],
           "sequential": [
            [
             0,
             "#0d0887"
            ],
            [
             0.1111111111111111,
             "#46039f"
            ],
            [
             0.2222222222222222,
             "#7201a8"
            ],
            [
             0.3333333333333333,
             "#9c179e"
            ],
            [
             0.4444444444444444,
             "#bd3786"
            ],
            [
             0.5555555555555556,
             "#d8576b"
            ],
            [
             0.6666666666666666,
             "#ed7953"
            ],
            [
             0.7777777777777778,
             "#fb9f3a"
            ],
            [
             0.8888888888888888,
             "#fdca26"
            ],
            [
             1,
             "#f0f921"
            ]
           ],
           "sequentialminus": [
            [
             0,
             "#0d0887"
            ],
            [
             0.1111111111111111,
             "#46039f"
            ],
            [
             0.2222222222222222,
             "#7201a8"
            ],
            [
             0.3333333333333333,
             "#9c179e"
            ],
            [
             0.4444444444444444,
             "#bd3786"
            ],
            [
             0.5555555555555556,
             "#d8576b"
            ],
            [
             0.6666666666666666,
             "#ed7953"
            ],
            [
             0.7777777777777778,
             "#fb9f3a"
            ],
            [
             0.8888888888888888,
             "#fdca26"
            ],
            [
             1,
             "#f0f921"
            ]
           ]
          },
          "colorway": [
           "#636efa",
           "#EF553B",
           "#00cc96",
           "#ab63fa",
           "#FFA15A",
           "#19d3f3",
           "#FF6692",
           "#B6E880",
           "#FF97FF",
           "#FECB52"
          ],
          "font": {
           "color": "#2a3f5f"
          },
          "geo": {
           "bgcolor": "white",
           "lakecolor": "white",
           "landcolor": "white",
           "showlakes": true,
           "showland": true,
           "subunitcolor": "#C8D4E3"
          },
          "hoverlabel": {
           "align": "left"
          },
          "hovermode": "closest",
          "mapbox": {
           "style": "light"
          },
          "paper_bgcolor": "white",
          "plot_bgcolor": "white",
          "polar": {
           "angularaxis": {
            "gridcolor": "#EBF0F8",
            "linecolor": "#EBF0F8",
            "ticks": ""
           },
           "bgcolor": "white",
           "radialaxis": {
            "gridcolor": "#EBF0F8",
            "linecolor": "#EBF0F8",
            "ticks": ""
           }
          },
          "scene": {
           "xaxis": {
            "backgroundcolor": "white",
            "gridcolor": "#DFE8F3",
            "gridwidth": 2,
            "linecolor": "#EBF0F8",
            "showbackground": true,
            "ticks": "",
            "zerolinecolor": "#EBF0F8"
           },
           "yaxis": {
            "backgroundcolor": "white",
            "gridcolor": "#DFE8F3",
            "gridwidth": 2,
            "linecolor": "#EBF0F8",
            "showbackground": true,
            "ticks": "",
            "zerolinecolor": "#EBF0F8"
           },
           "zaxis": {
            "backgroundcolor": "white",
            "gridcolor": "#DFE8F3",
            "gridwidth": 2,
            "linecolor": "#EBF0F8",
            "showbackground": true,
            "ticks": "",
            "zerolinecolor": "#EBF0F8"
           }
          },
          "shapedefaults": {
           "line": {
            "color": "#2a3f5f"
           }
          },
          "ternary": {
           "aaxis": {
            "gridcolor": "#DFE8F3",
            "linecolor": "#A2B1C6",
            "ticks": ""
           },
           "baxis": {
            "gridcolor": "#DFE8F3",
            "linecolor": "#A2B1C6",
            "ticks": ""
           },
           "bgcolor": "white",
           "caxis": {
            "gridcolor": "#DFE8F3",
            "linecolor": "#A2B1C6",
            "ticks": ""
           }
          },
          "title": {
           "x": 0.05
          },
          "xaxis": {
           "automargin": true,
           "gridcolor": "#EBF0F8",
           "linecolor": "#EBF0F8",
           "ticks": "",
           "title": {
            "standoff": 15
           },
           "zerolinecolor": "#EBF0F8",
           "zerolinewidth": 2
          },
          "yaxis": {
           "automargin": true,
           "gridcolor": "#EBF0F8",
           "linecolor": "#EBF0F8",
           "ticks": "",
           "title": {
            "standoff": 15
           },
           "zerolinecolor": "#EBF0F8",
           "zerolinewidth": 2
          }
         }
        },
        "width": 800,
        "xaxis": {
         "anchor": "y",
         "domain": [
          0,
          0.45
         ]
        },
        "xaxis2": {
         "anchor": "y2",
         "domain": [
          0.55,
          1
         ]
        },
        "yaxis": {
         "anchor": "x",
         "domain": [
          0,
          1
         ],
         "showgrid": false,
         "showticklabels": false,
         "title": {
          "text": ""
         },
         "zeroline": false
        },
        "yaxis2": {
         "anchor": "x2",
         "domain": [
          0,
          1
         ],
         "showgrid": false,
         "showticklabels": false,
         "zeroline": false
        }
       }
      }
     },
     "metadata": {},
     "output_type": "display_data"
    }
   ],
   "source": [
    "# Prepare data (same as before)\n",
    "remote_salary_avg = df_da_eu_us.groupby('job_work_from_home')['salary_month_avg_eur'].mean().reset_index()\n",
    "remote_salary_avg['Remote Work'] = remote_salary_avg['job_work_from_home'].map({True: 'Remote', False: 'On-site'})\n",
    "\n",
    "degree_salary_avg = df_da_eu_us.groupby('job_no_degree_mention')['salary_month_avg_eur'].mean().reset_index()\n",
    "degree_salary_avg['Degree Mention'] = degree_salary_avg['job_no_degree_mention'].map({True: 'No Degree Mentioned', False: 'Degree Mentioned'})\n",
    "\n",
    "# Define order and colors\n",
    "remote_order = ['On-site', 'Remote']\n",
    "degree_order = ['No Degree Mentioned', 'Degree Mentioned']\n",
    "\n",
    "colors = ['#9ecae1', '#084594']  # light blue, dark blue\n",
    "\n",
    "# Reorder data to match order\n",
    "remote_salary_avg = remote_salary_avg.set_index('Remote Work').loc[remote_order].reset_index()\n",
    "degree_salary_avg = degree_salary_avg.set_index('Degree Mention').loc[degree_order].reset_index()\n",
    "\n",
    "# Calculate % differences for annotations\n",
    "def calc_pct_diff(group_df):\n",
    "    low = group_df['salary_month_avg_eur'].iloc[0]\n",
    "    high = group_df['salary_month_avg_eur'].iloc[1]\n",
    "    return (high - low) / low * 100\n",
    "\n",
    "remote_pct_diff = calc_pct_diff(remote_salary_avg)\n",
    "degree_pct_diff = calc_pct_diff(degree_salary_avg)\n",
    "\n",
    "# Create subplot figure with 2 columns\n",
    "fig = make_subplots(rows=1, cols=2, subplot_titles=('Avg Salary by Remote Work', 'Avg Salary by Degree Mention'))\n",
    "\n",
    "# Remote Work Bar\n",
    "fig.add_trace(\n",
    "    go.Bar(\n",
    "        x=remote_salary_avg['Remote Work'],\n",
    "        y=remote_salary_avg['salary_month_avg_eur'],\n",
    "        marker_color=colors,\n",
    "        showlegend=False,\n",
    "        text=remote_salary_avg['salary_month_avg_eur'].round(0).astype(int),\n",
    "        textposition='auto'\n",
    "    ),\n",
    "    row=1,\n",
    "    col=1\n",
    ")\n",
    "\n",
    "# Degree Mention Bar\n",
    "fig.add_trace(\n",
    "    go.Bar(\n",
    "        x=degree_salary_avg['Degree Mention'],\n",
    "        y=degree_salary_avg['salary_month_avg_eur'],\n",
    "        marker_color=colors,\n",
    "        showlegend=False,\n",
    "        text=degree_salary_avg['salary_month_avg_eur'].round(0).astype(int),\n",
    "        textposition='auto'\n",
    "    ),\n",
    "    row=1,\n",
    "    col=2\n",
    ")\n",
    "\n",
    "fig.add_annotation(\n",
    "    x=0.5, \n",
    "    y=max(remote_salary_avg['salary_month_avg_eur']) * 1.05,\n",
    "    xref='x domain',  # first subplot x axis\n",
    "    yref='y',         # first subplot y axis\n",
    "    text=f'+{remote_pct_diff:.1f}%',\n",
    "    showarrow=False,\n",
    "    font=dict(color='grey', size=14)\n",
    ")\n",
    "\n",
    "fig.add_annotation(\n",
    "    x=0.5, \n",
    "    y=max(degree_salary_avg['salary_month_avg_eur']) * 1.05,\n",
    "    xref='x2 domain', # second subplot x axis\n",
    "    yref='y2',        # second subplot y axis\n",
    "    text=f'+{degree_pct_diff:.1f}%',\n",
    "    showarrow=False,\n",
    "    font=dict(color='grey', size=14)\n",
    ")\n",
    "\n",
    "# Update layout: remove y-axis ticks and labels\n",
    "fig.update_yaxes(\n",
    "    showticklabels=False,\n",
    "    showgrid=False,\n",
    "    zeroline=False\n",
    ")\n",
    "\n",
    "# Update layout: remove y-axis ticks and labels\n",
    "fig.update_yaxes(\n",
    "    showticklabels=False,\n",
    "    showgrid=False,\n",
    "    zeroline=False\n",
    ")\n",
    "\n",
    "for ann in fig['layout']['annotations']: ann['y'] += 0.05\n",
    "\n",
    "fig.update_layout(\n",
    "    height=400,\n",
    "    width=800,\n",
    "    yaxis_title='',\n",
    "    template='plotly_white',\n",
    ")\n",
    "\n",
    "fig.show()"
   ]
  },
  {
   "cell_type": "markdown",
   "id": "c286cef6",
   "metadata": {},
   "source": [
    "### SHAP Analysis – Key Drivers of Data Analyst Salaries\n",
    "Based on an XGBoost model trained on job skill keywords, remote work, and education mention flags, skill-related features alone explain approximately X% of the salary variance (R² score)."
   ]
  },
  {
   "cell_type": "code",
   "execution_count": 14,
   "id": "420e88ea",
   "metadata": {},
   "outputs": [
    {
     "name": "stdout",
     "output_type": "stream",
     "text": [
      "Test R^2 Score: 0.140\n",
      "SHAP Feature Importance (as % impact) for Top 5 Features:\n",
      "skill_excel: 15.4%\n",
      "skill_python: 9.7%\n",
      "skill_tableau: 5.5%\n",
      "skill_sql: 5.0%\n",
      "degree_mentioned: 4.3%\n"
     ]
    },
    {
     "data": {
      "image/png": "[encoded data removed]",
      "text/plain": [
       "<Figure size 800x350 with 2 Axes>"
      ]
     },
     "metadata": {},
     "output_type": "display_data"
    }
   ],
   "source": [
    "df_da_eu_us['job_posted_date'] = pd.to_datetime(df_da_eu_us['job_posted_date'])\n",
    "\n",
    "# Create a working copy\n",
    "df_model = df_da_eu_us.copy()\n",
    "\n",
    "# Rename and invert logic: degree_mentioned = not job_no_degree_mention\n",
    "df_model['degree_mentioned'] = ~df_model['job_no_degree_mention']\n",
    "\n",
    "# Ensure that job_skills is a list\n",
    "def ensure_list(x):\n",
    "    if isinstance(x, str):\n",
    "        try:\n",
    "            return ast.literal_eval(x)\n",
    "        except Exception:\n",
    "            return []\n",
    "    elif isinstance(x, list):\n",
    "        return x\n",
    "    else:\n",
    "        return []\n",
    "\n",
    "df_model['job_skills'] = df_model['job_skills'].apply(ensure_list)\n",
    "\n",
    "# Binarize job_skills\n",
    "mlb = MultiLabelBinarizer()\n",
    "skills_encoded = pd.DataFrame(\n",
    "    mlb.fit_transform(df_model['job_skills']),\n",
    "    columns=[f\"skill_{s}\" for s in mlb.classes_],\n",
    "    index=df_model.index\n",
    ")\n",
    "\n",
    "# Ensure boolean features are numeric\n",
    "df_model['job_work_from_home'] = df_model['job_work_from_home'].astype(int)\n",
    "df_model['degree_mentioned'] = df_model['degree_mentioned'].astype(int)\n",
    "\n",
    "# Combine features (excluding month and job_postings_count)\n",
    "features = pd.concat([\n",
    "    df_model[['job_work_from_home', 'degree_mentioned']],\n",
    "    skills_encoded\n",
    "], axis=1)\n",
    "\n",
    "# Target variable\n",
    "target = df_model['salary_month_avg_eur']\n",
    "\n",
    "# ----- Train/Test Split and Model Training -----\n",
    "X_train, X_test, y_train, y_test = train_test_split(features, target, test_size=0.2, random_state=42)\n",
    "\n",
    "model = XGBRegressor(random_state=42)\n",
    "model.fit(X_train, y_train)\n",
    "\n",
    "score = model.score(X_test, y_test)\n",
    "print(f\"Test R^2 Score: {score:.3f}\")\n",
    "\n",
    "# ----- SHAP Analysis -----\n",
    "explainer = shap.TreeExplainer(model)\n",
    "shap_values = explainer.shap_values(X_test)\n",
    "\n",
    "mean_abs_shap = np.abs(shap_values).mean(axis=0)\n",
    "shap_importance = pd.DataFrame({\n",
    "    'feature': X_test.columns,\n",
    "    'mean_abs_shap': mean_abs_shap\n",
    "}).sort_values(by='mean_abs_shap', ascending=False)\n",
    "\n",
    "# Top 5 features by impact\n",
    "top5_features = shap_importance.head(5)['feature'].tolist()\n",
    "top5_indices = [X_test.columns.get_loc(f) for f in top5_features]\n",
    "\n",
    "shap_values_top5 = shap_values[:, top5_indices]\n",
    "X_test_top5 = X_test[top5_features]\n",
    "\n",
    "# % impact\n",
    "total_shap = shap_importance['mean_abs_shap'].sum()\n",
    "shap_importance['percentage_impact'] = 100 * shap_importance['mean_abs_shap'] / total_shap\n",
    "top5_impacts = shap_importance.set_index('feature').loc[top5_features]['percentage_impact']\n",
    "\n",
    "print(\"SHAP Feature Importance (as % impact) for Top 5 Features:\")\n",
    "for feat, impact in top5_impacts.items():\n",
    "    print(f\"{feat}: {impact:.1f}%\")\n",
    "\n",
    "# SHAP plot\n",
    "shap.summary_plot(shap_values_top5, X_test_top5, feature_names=top5_features)"
   ]
  },
  {
   "cell_type": "markdown",
   "id": "18eb9314",
   "metadata": {},
   "source": [
    "### Key Insights from SHAP Feature Importance\n",
    "\n",
    "These features had the highest impact on predicted salaries:\n",
    "\n",
    "- **Excel** (13.1% impact): Surprisingly the most influential skill. Likely reflects its use in senior finance, strategy, or operations roles.\n",
    "- **Python** (8.3%): Strongly associated with higher salaries, especially in roles involving automation, scripting, or machine learning.\n",
    "- **Tableau** (4.6%): Valued for data visualization, though less impactful than core programming skills.\n",
    "- **SQL** (4.4%): Essential across most roles; its moderate impact suggests it's a baseline skill rather than a differentiator.\n",
    "- **No Degree Mention** (3.5%): Slightly associated with lower salaries, possibly reflecting more inclusive or junior positions.\n",
    "\n",
    "**Summary**: While modern tools like Python increase salary, traditional tools like Excel still carry major weight — possibly due to their presence in senior business roles."
   ]
  },
  {
   "cell_type": "code",
   "execution_count": null,
   "id": "3a48843b",
   "metadata": {},
   "outputs": [],
   "source": []
  }
 ],
 "metadata": {
  "kernelspec": {
   "display_name": "data_jobs",
   "language": "python",
   "name": "python3"
  },
  "language_info": {
   "codemirror_mode": {
    "name": "ipython",
    "version": 3
   },
   "file_extension": ".py",
   "mimetype": "text/x-python",
   "name": "python",
   "nbconvert_exporter": "python",
   "pygments_lexer": "ipython3",
   "version": "3.11.11"
  }
 },
 "nbformat": 4,
 "nbformat_minor": 5
}
