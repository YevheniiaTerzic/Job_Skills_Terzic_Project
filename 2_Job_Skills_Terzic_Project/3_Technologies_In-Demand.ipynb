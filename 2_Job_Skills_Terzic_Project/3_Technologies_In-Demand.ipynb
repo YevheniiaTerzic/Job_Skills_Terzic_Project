{
 "cells": [
  {
   "cell_type": "markdown",
   "id": "b8305e06",
   "metadata": {},
   "source": [
    "# What technologies should you learn to land one of the Top-3 in-demand roles?"
   ]
  }
 ],
 "metadata": {
  "language_info": {
   "name": "python"
  }
 },
 "nbformat": 4,
 "nbformat_minor": 5
}
