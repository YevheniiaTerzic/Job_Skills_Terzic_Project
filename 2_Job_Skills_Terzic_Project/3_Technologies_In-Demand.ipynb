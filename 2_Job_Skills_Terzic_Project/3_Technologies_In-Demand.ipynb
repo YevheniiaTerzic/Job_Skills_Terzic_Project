{
 "cells": [
  {
   "cell_type": "markdown",
   "id": "b8305e06",
   "metadata": {},
   "source": [
    "# What technologies should you learn to land one of the Top-3 in-demand roles?"
   ]
  },
  {
   "cell_type": "code",
   "execution_count": 13,
   "id": "8db2bc93",
   "metadata": {},
   "outputs": [],
   "source": [
    "import pandas as pd\n",
    "import matplotlib.pyplot as plt\n",
    "import seaborn as sns\n",
    "import ast\n",
    "\n",
    "from collections import Counter\n",
    "\n",
    "df = pd.read_csv('/Users/kolesnikevgenia/Documents/Python_Projects/Job_Skills/Raw_Data/df_Final.csv')"
   ]
  },
  {
   "cell_type": "code",
   "execution_count": 17,
   "id": "c4a59dbf",
   "metadata": {},
   "outputs": [
    {
     "data": {
      "text/html": [
       "<div>\n",
       "<style scoped>\n",
       "    .dataframe tbody tr th:only-of-type {\n",
       "        vertical-align: middle;\n",
       "    }\n",
       "\n",
       "    .dataframe tbody tr th {\n",
       "        vertical-align: top;\n",
       "    }\n",
       "\n",
       "    .dataframe thead th {\n",
       "        text-align: right;\n",
       "    }\n",
       "</style>\n",
       "<table border=\"1\" class=\"dataframe\">\n",
       "  <thead>\n",
       "    <tr style=\"text-align: right;\">\n",
       "      <th></th>\n",
       "      <th>technology</th>\n",
       "      <th>skills</th>\n",
       "    </tr>\n",
       "  </thead>\n",
       "  <tbody>\n",
       "    <tr>\n",
       "      <th>0</th>\n",
       "      <td>analyst_tools</td>\n",
       "      <td>sap</td>\n",
       "    </tr>\n",
       "    <tr>\n",
       "      <th>0</th>\n",
       "      <td>analyst_tools</td>\n",
       "      <td>ssis</td>\n",
       "    </tr>\n",
       "    <tr>\n",
       "      <th>0</th>\n",
       "      <td>analyst_tools</td>\n",
       "      <td>powerpoint</td>\n",
       "    </tr>\n",
       "    <tr>\n",
       "      <th>0</th>\n",
       "      <td>analyst_tools</td>\n",
       "      <td>tableau</td>\n",
       "    </tr>\n",
       "    <tr>\n",
       "      <th>0</th>\n",
       "      <td>analyst_tools</td>\n",
       "      <td>spss</td>\n",
       "    </tr>\n",
       "  </tbody>\n",
       "</table>\n",
       "</div>"
      ],
      "text/plain": [
       "      technology      skills\n",
       "0  analyst_tools         sap\n",
       "0  analyst_tools        ssis\n",
       "0  analyst_tools  powerpoint\n",
       "0  analyst_tools     tableau\n",
       "0  analyst_tools        spss"
      ]
     },
     "execution_count": 17,
     "metadata": {},
     "output_type": "execute_result"
    }
   ],
   "source": [
    "df_technology = df['job_type_skills'].copy()\n",
    "\n",
    "df_technology = df_technology.drop_duplicates()\n",
    "df_technology = df_technology.dropna()\n",
    "\n",
    "#combine all dictionaries into one\n",
    "technology_dict = {}\n",
    "for row in df_technology:\n",
    "    row_dict = ast.literal_eval(row)\n",
    "    for key, value in row_dict.items():\n",
    "        if key in technology_dict:\n",
    "            technology_dict[key] += value\n",
    "        else:\n",
    "            technology_dict[key] = value\n",
    "\n",
    "#remove duplicates by converting values to set then back to list\n",
    "for key, value in technology_dict.items():\n",
    "    technology_dict[key] = list(set(value))\n",
    "\n",
    "df_technology = pd.DataFrame(list(technology_dict.items()), columns=['technology', 'skills'])\n",
    "\n",
    "df_technology = df_technology.explode('skills')\n",
    "df_technology.head(5)"
   ]
  },
  {
   "cell_type": "code",
   "execution_count": 46,
   "id": "07563746",
   "metadata": {},
   "outputs": [
    {
     "data": {
      "text/html": [
       "<div>\n",
       "<style scoped>\n",
       "    .dataframe tbody tr th:only-of-type {\n",
       "        vertical-align: middle;\n",
       "    }\n",
       "\n",
       "    .dataframe tbody tr th {\n",
       "        vertical-align: top;\n",
       "    }\n",
       "\n",
       "    .dataframe thead th {\n",
       "        text-align: right;\n",
       "    }\n",
       "</style>\n",
       "<table border=\"1\" class=\"dataframe\">\n",
       "  <thead>\n",
       "    <tr style=\"text-align: right;\">\n",
       "      <th></th>\n",
       "      <th>job_title_short</th>\n",
       "      <th>job_title</th>\n",
       "      <th>job_location</th>\n",
       "      <th>job_via</th>\n",
       "      <th>job_schedule_type</th>\n",
       "      <th>job_work_from_home</th>\n",
       "      <th>search_location</th>\n",
       "      <th>job_posted_date</th>\n",
       "      <th>job_no_degree_mention</th>\n",
       "      <th>job_health_insurance</th>\n",
       "      <th>...</th>\n",
       "      <th>company_name</th>\n",
       "      <th>job_skills</th>\n",
       "      <th>job_type_skills</th>\n",
       "      <th>salary_year_avg_eur</th>\n",
       "      <th>salary_month_avg_eur</th>\n",
       "      <th>country</th>\n",
       "      <th>is_eu</th>\n",
       "      <th>region_group</th>\n",
       "      <th>technology</th>\n",
       "      <th>skills</th>\n",
       "    </tr>\n",
       "  </thead>\n",
       "  <tbody>\n",
       "  </tbody>\n",
       "</table>\n",
       "<p>0 rows × 22 columns</p>\n",
       "</div>"
      ],
      "text/plain": [
       "Empty DataFrame\n",
       "Columns: [job_title_short, job_title, job_location, job_via, job_schedule_type, job_work_from_home, search_location, job_posted_date, job_no_degree_mention, job_health_insurance, job_country, salary_rate, company_name, job_skills, job_type_skills, salary_year_avg_eur, salary_month_avg_eur, country, is_eu, region_group, technology, skills]\n",
       "Index: []\n",
       "\n",
       "[0 rows x 22 columns]"
      ]
     },
     "execution_count": 46,
     "metadata": {},
     "output_type": "execute_result"
    }
   ],
   "source": [
    "df_exploded = df.explode('job_skills')\n",
    "df_plot = df_exploded.merge(df_technology, left_on='job_skills', right_on='skills').copy()\n",
    "df_plot.head(5)"
   ]
  },
  {
   "cell_type": "code",
   "execution_count": 32,
   "id": "2fdd61d6",
   "metadata": {},
   "outputs": [
    {
     "data": {
      "image/png": "[encoded data removed]",
      "text/plain": [
       "<Figure size 800x600 with 3 Axes>"
      ]
     },
     "metadata": {},
     "output_type": "display_data"
    }
   ],
   "source": [
    "# Filter data\n",
    "top_roles = ['Data Analyst', 'Data Engineer', 'Data Scientist']\n",
    "df_plot_top3 = df_plot[df_plot['job_title_short'].isin(top_roles) & df_plot['technology'].notna()]\n",
    "\n",
    "# Define color palette\n",
    "black_color = '#333333'\n",
    "blue_color = '#4c78a8'\n",
    "\n",
    "# Create subplots\n",
    "fig, axes = plt.subplots(3, 1, figsize=(8, 6), sharex=True)\n",
    "fig.suptitle('Likelihood of Skills Requested in US Job Postings', fontsize=14)\n",
    "\n",
    "# Loop through each role\n",
    "for ax, role in zip(axes, top_roles):\n",
    "    skill_series = (\n",
    "        df_plot_top3[df_plot_top3['job_title_short'] == role]['technology']\n",
    "        .str.split(', ')\n",
    "        .explode()\n",
    "    )\n",
    "    \n",
    "    skill_counts = skill_series.value_counts(normalize=True).head(5)  # Top 5\n",
    "    colors = [black_color if i == 0 else blue_color for i in range(len(skill_counts))]\n",
    "    \n",
    "    sns.barplot(\n",
    "        x=skill_counts.values * 100,\n",
    "        y=skill_counts.index,\n",
    "        ax=ax,\n",
    "        palette=colors\n",
    "    )\n",
    "    \n",
    "    # Annotate bars\n",
    "    for i, (val, skill) in enumerate(zip(skill_counts.values, skill_counts.index)):\n",
    "        ax.text(val * 100 + 1, i, f'{int(val*100)}%', va='center')\n",
    "\n",
    "    ax.set_title(role)\n",
    "    ax.set_xlabel('')\n",
    "    ax.set_ylabel('')\n",
    "\n",
    "# Clean up layout\n",
    "plt.tight_layout(rect=[0, 0, 1, 0.95])\n",
    "sns.despine()\n",
    "plt.show()"
   ]
  },
  {
   "cell_type": "code",
   "execution_count": null,
   "id": "83d04c80",
   "metadata": {},
   "outputs": [],
   "source": []
  }
 ],
 "metadata": {
  "kernelspec": {
   "display_name": "python_course",
   "language": "python",
   "name": "python3"
  },
  "language_info": {
   "codemirror_mode": {
    "name": "ipython",
    "version": 3
   },
   "file_extension": ".py",
   "mimetype": "text/x-python",
   "name": "python",
   "nbconvert_exporter": "python",
   "pygments_lexer": "ipython3",
   "version": "3.11.11"
  }
 },
 "nbformat": 4,
 "nbformat_minor": 5
}
