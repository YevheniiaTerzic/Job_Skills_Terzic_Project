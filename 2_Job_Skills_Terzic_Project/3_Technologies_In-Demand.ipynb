{
 "cells": [
  {
   "cell_type": "markdown",
   "id": "b8305e06",
   "metadata": {},
   "source": [
    "# What technologies should you learn to land one of the Top-3 in-demand roles?\n",
    "- Likelihood of Technologies Requested for Top-3 Data Roles\n",
    "- Number of skills requested for each of Top-3 Data Roles"
   ]
  },
  {
   "cell_type": "code",
   "execution_count": 9,
   "id": "8db2bc93",
   "metadata": {},
   "outputs": [],
   "source": [
    "import pandas as pd\n",
    "import plotly.express as px\n",
    "import plotly.graph_objects as go\n",
    "from plotly.subplots import make_subplots\n",
    "import ast\n",
    "\n",
    "from collections import Counter\n",
    "\n",
    "df = pd.read_csv('/Users/kolesnikevgenia/Documents/Python_Projects/Job_Skills/Raw_Data/df_Final.csv')"
   ]
  },
  {
   "cell_type": "code",
   "execution_count": 2,
   "id": "c4a59dbf",
   "metadata": {},
   "outputs": [
    {
     "data": {
      "text/html": [
       "<div>\n",
       "<style scoped>\n",
       "    .dataframe tbody tr th:only-of-type {\n",
       "        vertical-align: middle;\n",
       "    }\n",
       "\n",
       "    .dataframe tbody tr th {\n",
       "        vertical-align: top;\n",
       "    }\n",
       "\n",
       "    .dataframe thead th {\n",
       "        text-align: right;\n",
       "    }\n",
       "</style>\n",
       "<table border=\"1\" class=\"dataframe\">\n",
       "  <thead>\n",
       "    <tr style=\"text-align: right;\">\n",
       "      <th></th>\n",
       "      <th>technology</th>\n",
       "      <th>skills</th>\n",
       "    </tr>\n",
       "  </thead>\n",
       "  <tbody>\n",
       "    <tr>\n",
       "      <th>0</th>\n",
       "      <td>analyst_tools</td>\n",
       "      <td>spss</td>\n",
       "    </tr>\n",
       "    <tr>\n",
       "      <th>0</th>\n",
       "      <td>analyst_tools</td>\n",
       "      <td>power bi</td>\n",
       "    </tr>\n",
       "    <tr>\n",
       "      <th>0</th>\n",
       "      <td>analyst_tools</td>\n",
       "      <td>spreadsheet</td>\n",
       "    </tr>\n",
       "    <tr>\n",
       "      <th>0</th>\n",
       "      <td>analyst_tools</td>\n",
       "      <td>sap</td>\n",
       "    </tr>\n",
       "    <tr>\n",
       "      <th>0</th>\n",
       "      <td>analyst_tools</td>\n",
       "      <td>dax</td>\n",
       "    </tr>\n",
       "  </tbody>\n",
       "</table>\n",
       "</div>"
      ],
      "text/plain": [
       "      technology       skills\n",
       "0  analyst_tools         spss\n",
       "0  analyst_tools     power bi\n",
       "0  analyst_tools  spreadsheet\n",
       "0  analyst_tools          sap\n",
       "0  analyst_tools          dax"
      ]
     },
     "execution_count": 2,
     "metadata": {},
     "output_type": "execute_result"
    }
   ],
   "source": [
    "df_technology = df['job_type_skills'].copy()\n",
    "\n",
    "df_technology = df_technology.drop_duplicates()\n",
    "df_technology = df_technology.dropna()\n",
    "\n",
    "#combine all dictionaries into one\n",
    "technology_dict = {}\n",
    "for row in df_technology:\n",
    "    row_dict = ast.literal_eval(row)\n",
    "    for key, value in row_dict.items():\n",
    "        if key in technology_dict:\n",
    "            technology_dict[key] += value\n",
    "        else:\n",
    "            technology_dict[key] = value\n",
    "\n",
    "#remove duplicates by converting values to set then back to list\n",
    "for key, value in technology_dict.items():\n",
    "    technology_dict[key] = list(set(value))\n",
    "\n",
    "df_technology = pd.DataFrame(list(technology_dict.items()), columns=['technology', 'skills'])\n",
    "\n",
    "df_technology = df_technology.explode('skills')\n",
    "df_technology.head(5)"
   ]
  },
  {
   "cell_type": "code",
   "execution_count": 14,
   "id": "07563746",
   "metadata": {},
   "outputs": [
    {
     "data": {
      "text/html": [
       "<div>\n",
       "<style scoped>\n",
       "    .dataframe tbody tr th:only-of-type {\n",
       "        vertical-align: middle;\n",
       "    }\n",
       "\n",
       "    .dataframe tbody tr th {\n",
       "        vertical-align: top;\n",
       "    }\n",
       "\n",
       "    .dataframe thead th {\n",
       "        text-align: right;\n",
       "    }\n",
       "</style>\n",
       "<table border=\"1\" class=\"dataframe\">\n",
       "  <thead>\n",
       "    <tr style=\"text-align: right;\">\n",
       "      <th></th>\n",
       "      <th>job_title_short</th>\n",
       "      <th>job_title</th>\n",
       "      <th>job_location</th>\n",
       "      <th>job_via</th>\n",
       "      <th>job_schedule_type</th>\n",
       "      <th>job_work_from_home</th>\n",
       "      <th>search_location</th>\n",
       "      <th>job_posted_date</th>\n",
       "      <th>job_no_degree_mention</th>\n",
       "      <th>job_health_insurance</th>\n",
       "      <th>...</th>\n",
       "      <th>job_skills</th>\n",
       "      <th>job_type_skills</th>\n",
       "      <th>salary_year_avg_eur</th>\n",
       "      <th>salary_month_avg_eur</th>\n",
       "      <th>country</th>\n",
       "      <th>is_eu</th>\n",
       "      <th>region_group</th>\n",
       "      <th>skills_count</th>\n",
       "      <th>technology</th>\n",
       "      <th>skills</th>\n",
       "    </tr>\n",
       "  </thead>\n",
       "  <tbody>\n",
       "    <tr>\n",
       "      <th>0</th>\n",
       "      <td>Data Scientist</td>\n",
       "      <td>CRM Data Specialist</td>\n",
       "      <td>San José Province, San José, Costa Rica</td>\n",
       "      <td>via Ai-Jobs.net</td>\n",
       "      <td>Full-time</td>\n",
       "      <td>False</td>\n",
       "      <td>Costa Rica</td>\n",
       "      <td>2023-08-01 13:37:57</td>\n",
       "      <td>False</td>\n",
       "      <td>False</td>\n",
       "      <td>...</td>\n",
       "      <td>gdpr</td>\n",
       "      <td>{'analyst_tools': ['excel'], 'libraries': ['gd...</td>\n",
       "      <td>96447.6</td>\n",
       "      <td>8037.3</td>\n",
       "      <td>NaN</td>\n",
       "      <td>False</td>\n",
       "      <td>Other</td>\n",
       "      <td>2</td>\n",
       "      <td>libraries</td>\n",
       "      <td>gdpr</td>\n",
       "    </tr>\n",
       "    <tr>\n",
       "      <th>1</th>\n",
       "      <td>Data Scientist</td>\n",
       "      <td>CRM Data Specialist</td>\n",
       "      <td>San José Province, San José, Costa Rica</td>\n",
       "      <td>via Ai-Jobs.net</td>\n",
       "      <td>Full-time</td>\n",
       "      <td>False</td>\n",
       "      <td>Costa Rica</td>\n",
       "      <td>2023-08-01 13:37:57</td>\n",
       "      <td>False</td>\n",
       "      <td>False</td>\n",
       "      <td>...</td>\n",
       "      <td>excel</td>\n",
       "      <td>{'analyst_tools': ['excel'], 'libraries': ['gd...</td>\n",
       "      <td>96447.6</td>\n",
       "      <td>8037.3</td>\n",
       "      <td>NaN</td>\n",
       "      <td>False</td>\n",
       "      <td>Other</td>\n",
       "      <td>2</td>\n",
       "      <td>analyst_tools</td>\n",
       "      <td>excel</td>\n",
       "    </tr>\n",
       "    <tr>\n",
       "      <th>2</th>\n",
       "      <td>Data Engineer</td>\n",
       "      <td>Data Engineer</td>\n",
       "      <td>Arlington, VA</td>\n",
       "      <td>via LinkedIn</td>\n",
       "      <td>Full-time</td>\n",
       "      <td>False</td>\n",
       "      <td>Sudan</td>\n",
       "      <td>2023-06-26 14:22:54</td>\n",
       "      <td>False</td>\n",
       "      <td>False</td>\n",
       "      <td>...</td>\n",
       "      <td>mongodb</td>\n",
       "      <td>{'analyst_tools': ['tableau'], 'cloud': ['orac...</td>\n",
       "      <td>123312.0</td>\n",
       "      <td>10276.0</td>\n",
       "      <td>NaN</td>\n",
       "      <td>False</td>\n",
       "      <td>Other</td>\n",
       "      <td>11</td>\n",
       "      <td>databases</td>\n",
       "      <td>mongodb</td>\n",
       "    </tr>\n",
       "  </tbody>\n",
       "</table>\n",
       "<p>3 rows × 23 columns</p>\n",
       "</div>"
      ],
      "text/plain": [
       "  job_title_short            job_title  \\\n",
       "0  Data Scientist  CRM Data Specialist   \n",
       "1  Data Scientist  CRM Data Specialist   \n",
       "2   Data Engineer        Data Engineer   \n",
       "\n",
       "                              job_location          job_via job_schedule_type  \\\n",
       "0  San José Province, San José, Costa Rica  via Ai-Jobs.net         Full-time   \n",
       "1  San José Province, San José, Costa Rica  via Ai-Jobs.net         Full-time   \n",
       "2                            Arlington, VA     via LinkedIn         Full-time   \n",
       "\n",
       "   job_work_from_home search_location      job_posted_date  \\\n",
       "0               False      Costa Rica  2023-08-01 13:37:57   \n",
       "1               False      Costa Rica  2023-08-01 13:37:57   \n",
       "2               False           Sudan  2023-06-26 14:22:54   \n",
       "\n",
       "   job_no_degree_mention  job_health_insurance  ... job_skills  \\\n",
       "0                  False                 False  ...       gdpr   \n",
       "1                  False                 False  ...      excel   \n",
       "2                  False                 False  ...    mongodb   \n",
       "\n",
       "                                     job_type_skills salary_year_avg_eur  \\\n",
       "0  {'analyst_tools': ['excel'], 'libraries': ['gd...             96447.6   \n",
       "1  {'analyst_tools': ['excel'], 'libraries': ['gd...             96447.6   \n",
       "2  {'analyst_tools': ['tableau'], 'cloud': ['orac...            123312.0   \n",
       "\n",
       "  salary_month_avg_eur country  is_eu  region_group skills_count  \\\n",
       "0               8037.3     NaN  False         Other            2   \n",
       "1               8037.3     NaN  False         Other            2   \n",
       "2              10276.0     NaN  False         Other           11   \n",
       "\n",
       "      technology   skills  \n",
       "0      libraries     gdpr  \n",
       "1  analyst_tools    excel  \n",
       "2      databases  mongodb  \n",
       "\n",
       "[3 rows x 23 columns]"
      ]
     },
     "execution_count": 14,
     "metadata": {},
     "output_type": "execute_result"
    }
   ],
   "source": [
    "top_roles = ['Data Analyst', 'Data Scientist', 'Data Engineer']\n",
    "df_top = df[df['job_title_short'].isin(top_roles)]\n",
    "\n",
    "df_dropna = df_top.dropna(subset=['job_skills']).copy()\n",
    "df_dropna['job_skills'] = df_dropna['job_skills'].apply(ast.literal_eval)\n",
    "df_exploded = df_dropna.explode('job_skills')\n",
    "\n",
    "df_plot = df_exploded.merge(df_technology, left_on='job_skills', right_on='skills').copy()\n",
    "df_plot.head(3)"
   ]
  },
  {
   "cell_type": "markdown",
   "id": "f90118f3",
   "metadata": {},
   "source": [
    "### Likelihood of Technologies Requested for Top-3 Data Roles"
   ]
  },
  {
   "cell_type": "code",
   "execution_count": 20,
   "id": "a7f24493",
   "metadata": {},
   "outputs": [
    {
     "data": {
      "application/vnd.plotly.v1+json": {
       "config": {
        "plotlyServerURL": "https://plot.ly"
       },
       "data": [
        {
         "marker": {
          "color": [
           "rgb(8,81,156)",
           "rgb(158,202,225)",
           "rgb(158,202,225)",
           "rgb(158,202,225)",
           "rgb(158,202,225)"
          ]
         },
         "orientation": "h",
         "showlegend": false,
         "text": [
          "40%",
          "40%",
          "7%",
          "4%",
          "3%"
         ],
         "textposition": "outside",
         "type": "bar",
         "x": {
          "bdata": "AiexmLDq2T+zouxSY3DZP+6u4LVfBbI/lZxyIeUlpT+N2fwlcpCbPw==",
          "dtype": "f8"
         },
         "xaxis": "x",
         "y": [
          "analyst_tools",
          "programming",
          "cloud",
          "libraries",
          "databases"
         ],
         "yaxis": "y"
        },
        {
         "marker": {
          "color": [
           "rgb(8,81,156)",
           "rgb(158,202,225)",
           "rgb(158,202,225)",
           "rgb(158,202,225)",
           "rgb(158,202,225)"
          ]
         },
         "orientation": "h",
         "showlegend": false,
         "text": [
          "47%",
          "18%",
          "16%",
          "10%",
          "4%"
         ],
         "textposition": "outside",
         "type": "bar",
         "x": {
          "bdata": "Iho9umPR3T+3e6bjBTHHP/imb93MNMQ/8U+drpj8uD8DdeEP59mlPw==",
          "dtype": "f8"
         },
         "xaxis": "x2",
         "y": [
          "programming",
          "libraries",
          "analyst_tools",
          "cloud",
          "other"
         ],
         "yaxis": "y2"
        },
        {
         "marker": {
          "color": [
           "rgb(8,81,156)",
           "rgb(158,202,225)",
           "rgb(158,202,225)",
           "rgb(158,202,225)",
           "rgb(158,202,225)"
          ]
         },
         "orientation": "h",
         "showlegend": false,
         "text": [
          "37%",
          "22%",
          "15%",
          "8%",
          "8%"
         ],
         "textposition": "outside",
         "type": "bar",
         "x": {
          "bdata": "0JBprwli1z9E4Gtt59PLPzPEvihedMM/p3IzHaEktD9FuF/gCbOzPw==",
          "dtype": "f8"
         },
         "xaxis": "x3",
         "y": [
          "programming",
          "cloud",
          "libraries",
          "other",
          "analyst_tools"
         ],
         "yaxis": "y3"
        }
       ],
       "layout": {
        "annotations": [
         {
          "font": {
           "size": 16
          },
          "showarrow": false,
          "text": "Data Analyst",
          "x": 0.5,
          "xanchor": "center",
          "xref": "paper",
          "y": 1,
          "yanchor": "bottom",
          "yref": "paper"
         },
         {
          "font": {
           "size": 16
          },
          "showarrow": false,
          "text": "Data Scientist",
          "x": 0.5,
          "xanchor": "center",
          "xref": "paper",
          "y": 0.6499999999999999,
          "yanchor": "bottom",
          "yref": "paper"
         },
         {
          "font": {
           "size": 16
          },
          "showarrow": false,
          "text": "Data Engineer",
          "x": 0.5,
          "xanchor": "center",
          "xref": "paper",
          "y": 0.3,
          "yanchor": "bottom",
          "yref": "paper"
         }
        ],
        "height": 600,
        "margin": {
         "b": 60,
         "l": 60,
         "r": 20,
         "t": 80
        },
        "template": {
         "data": {
          "bar": [
           {
            "error_x": {
             "color": "#2a3f5f"
            },
            "error_y": {
             "color": "#2a3f5f"
            },
            "marker": {
             "line": {
              "color": "#E5ECF6",
              "width": 0.5
             },
             "pattern": {
              "fillmode": "overlay",
              "size": 10,
              "solidity": 0.2
             }
            },
            "type": "bar"
           }
          ],
          "barpolar": [
           {
            "marker": {
             "line": {
              "color": "#E5ECF6",
              "width": 0.5
             },
             "pattern": {
              "fillmode": "overlay",
              "size": 10,
              "solidity": 0.2
             }
            },
            "type": "barpolar"
           }
          ],
          "carpet": [
           {
            "aaxis": {
             "endlinecolor": "#2a3f5f",
             "gridcolor": "white",
             "linecolor": "white",
             "minorgridcolor": "white",
             "startlinecolor": "#2a3f5f"
            },
            "baxis": {
             "endlinecolor": "#2a3f5f",
             "gridcolor": "white",
             "linecolor": "white",
             "minorgridcolor": "white",
             "startlinecolor": "#2a3f5f"
            },
            "type": "carpet"
           }
          ],
          "choropleth": [
           {
            "colorbar": {
             "outlinewidth": 0,
             "ticks": ""
            },
            "type": "choropleth"
           }
          ],
          "contour": [
           {
            "colorbar": {
             "outlinewidth": 0,
             "ticks": ""
            },
            "colorscale": [
             [
              0,
              "#0d0887"
             ],
             [
              0.1111111111111111,
              "#46039f"
             ],
             [
              0.2222222222222222,
              "#7201a8"
             ],
             [
              0.3333333333333333,
              "#9c179e"
             ],
             [
              0.4444444444444444,
              "#bd3786"
             ],
             [
              0.5555555555555556,
              "#d8576b"
             ],
             [
              0.6666666666666666,
              "#ed7953"
             ],
             [
              0.7777777777777778,
              "#fb9f3a"
             ],
             [
              0.8888888888888888,
              "#fdca26"
             ],
             [
              1,
              "#f0f921"
             ]
            ],
            "type": "contour"
           }
          ],
          "contourcarpet": [
           {
            "colorbar": {
             "outlinewidth": 0,
             "ticks": ""
            },
            "type": "contourcarpet"
           }
          ],
          "heatmap": [
           {
            "colorbar": {
             "outlinewidth": 0,
             "ticks": ""
            },
            "colorscale": [
             [
              0,
              "#0d0887"
             ],
             [
              0.1111111111111111,
              "#46039f"
             ],
             [
              0.2222222222222222,
              "#7201a8"
             ],
             [
              0.3333333333333333,
              "#9c179e"
             ],
             [
              0.4444444444444444,
              "#bd3786"
             ],
             [
              0.5555555555555556,
              "#d8576b"
             ],
             [
              0.6666666666666666,
              "#ed7953"
             ],
             [
              0.7777777777777778,
              "#fb9f3a"
             ],
             [
              0.8888888888888888,
              "#fdca26"
             ],
             [
              1,
              "#f0f921"
             ]
            ],
            "type": "heatmap"
           }
          ],
          "histogram": [
           {
            "marker": {
             "pattern": {
              "fillmode": "overlay",
              "size": 10,
              "solidity": 0.2
             }
            },
            "type": "histogram"
           }
          ],
          "histogram2d": [
           {
            "colorbar": {
             "outlinewidth": 0,
             "ticks": ""
            },
            "colorscale": [
             [
              0,
              "#0d0887"
             ],
             [
              0.1111111111111111,
              "#46039f"
             ],
             [
              0.2222222222222222,
              "#7201a8"
             ],
             [
              0.3333333333333333,
              "#9c179e"
             ],
             [
              0.4444444444444444,
              "#bd3786"
             ],
             [
              0.5555555555555556,
              "#d8576b"
             ],
             [
              0.6666666666666666,
              "#ed7953"
             ],
             [
              0.7777777777777778,
              "#fb9f3a"
             ],
             [
              0.8888888888888888,
              "#fdca26"
             ],
             [
              1,
              "#f0f921"
             ]
            ],
            "type": "histogram2d"
           }
          ],
          "histogram2dcontour": [
           {
            "colorbar": {
             "outlinewidth": 0,
             "ticks": ""
            },
            "colorscale": [
             [
              0,
              "#0d0887"
             ],
             [
              0.1111111111111111,
              "#46039f"
             ],
             [
              0.2222222222222222,
              "#7201a8"
             ],
             [
              0.3333333333333333,
              "#9c179e"
             ],
             [
              0.4444444444444444,
              "#bd3786"
             ],
             [
              0.5555555555555556,
              "#d8576b"
             ],
             [
              0.6666666666666666,
              "#ed7953"
             ],
             [
              0.7777777777777778,
              "#fb9f3a"
             ],
             [
              0.8888888888888888,
              "#fdca26"
             ],
             [
              1,
              "#f0f921"
             ]
            ],
            "type": "histogram2dcontour"
           }
          ],
          "mesh3d": [
           {
            "colorbar": {
             "outlinewidth": 0,
             "ticks": ""
            },
            "type": "mesh3d"
           }
          ],
          "parcoords": [
           {
            "line": {
             "colorbar": {
              "outlinewidth": 0,
              "ticks": ""
             }
            },
            "type": "parcoords"
           }
          ],
          "pie": [
           {
            "automargin": true,
            "type": "pie"
           }
          ],
          "scatter": [
           {
            "fillpattern": {
             "fillmode": "overlay",
             "size": 10,
             "solidity": 0.2
            },
            "type": "scatter"
           }
          ],
          "scatter3d": [
           {
            "line": {
             "colorbar": {
              "outlinewidth": 0,
              "ticks": ""
             }
            },
            "marker": {
             "colorbar": {
              "outlinewidth": 0,
              "ticks": ""
             }
            },
            "type": "scatter3d"
           }
          ],
          "scattercarpet": [
           {
            "marker": {
             "colorbar": {
              "outlinewidth": 0,
              "ticks": ""
             }
            },
            "type": "scattercarpet"
           }
          ],
          "scattergeo": [
           {
            "marker": {
             "colorbar": {
              "outlinewidth": 0,
              "ticks": ""
             }
            },
            "type": "scattergeo"
           }
          ],
          "scattergl": [
           {
            "marker": {
             "colorbar": {
              "outlinewidth": 0,
              "ticks": ""
             }
            },
            "type": "scattergl"
           }
          ],
          "scattermap": [
           {
            "marker": {
             "colorbar": {
              "outlinewidth": 0,
              "ticks": ""
             }
            },
            "type": "scattermap"
           }
          ],
          "scattermapbox": [
           {
            "marker": {
             "colorbar": {
              "outlinewidth": 0,
              "ticks": ""
             }
            },
            "type": "scattermapbox"
           }
          ],
          "scatterpolar": [
           {
            "marker": {
             "colorbar": {
              "outlinewidth": 0,
              "ticks": ""
             }
            },
            "type": "scatterpolar"
           }
          ],
          "scatterpolargl": [
           {
            "marker": {
             "colorbar": {
              "outlinewidth": 0,
              "ticks": ""
             }
            },
            "type": "scatterpolargl"
           }
          ],
          "scatterternary": [
           {
            "marker": {
             "colorbar": {
              "outlinewidth": 0,
              "ticks": ""
             }
            },
            "type": "scatterternary"
           }
          ],
          "surface": [
           {
            "colorbar": {
             "outlinewidth": 0,
             "ticks": ""
            },
            "colorscale": [
             [
              0,
              "#0d0887"
             ],
             [
              0.1111111111111111,
              "#46039f"
             ],
             [
              0.2222222222222222,
              "#7201a8"
             ],
             [
              0.3333333333333333,
              "#9c179e"
             ],
             [
              0.4444444444444444,
              "#bd3786"
             ],
             [
              0.5555555555555556,
              "#d8576b"
             ],
             [
              0.6666666666666666,
              "#ed7953"
             ],
             [
              0.7777777777777778,
              "#fb9f3a"
             ],
             [
              0.8888888888888888,
              "#fdca26"
             ],
             [
              1,
              "#f0f921"
             ]
            ],
            "type": "surface"
           }
          ],
          "table": [
           {
            "cells": {
             "fill": {
              "color": "#EBF0F8"
             },
             "line": {
              "color": "white"
             }
            },
            "header": {
             "fill": {
              "color": "#C8D4E3"
             },
             "line": {
              "color": "white"
             }
            },
            "type": "table"
           }
          ]
         },
         "layout": {
          "annotationdefaults": {
           "arrowcolor": "#2a3f5f",
           "arrowhead": 0,
           "arrowwidth": 1
          },
          "autotypenumbers": "strict",
          "coloraxis": {
           "colorbar": {
            "outlinewidth": 0,
            "ticks": ""
           }
          },
          "colorscale": {
           "diverging": [
            [
             0,
             "#8e0152"
            ],
            [
             0.1,
             "#c51b7d"
            ],
            [
             0.2,
             "#de77ae"
            ],
            [
             0.3,
             "#f1b6da"
            ],
            [
             0.4,
             "#fde0ef"
            ],
            [
             0.5,
             "#f7f7f7"
            ],
            [
             0.6,
             "#e6f5d0"
            ],
            [
             0.7,
             "#b8e186"
            ],
            [
             0.8,
             "#7fbc41"
            ],
            [
             0.9,
             "#4d9221"
            ],
            [
             1,
             "#276419"
            ]
           ],
           "sequential": [
            [
             0,
             "#0d0887"
            ],
            [
             0.1111111111111111,
             "#46039f"
            ],
            [
             0.2222222222222222,
             "#7201a8"
            ],
            [
             0.3333333333333333,
             "#9c179e"
            ],
            [
             0.4444444444444444,
             "#bd3786"
            ],
            [
             0.5555555555555556,
             "#d8576b"
            ],
            [
             0.6666666666666666,
             "#ed7953"
            ],
            [
             0.7777777777777778,
             "#fb9f3a"
            ],
            [
             0.8888888888888888,
             "#fdca26"
            ],
            [
             1,
             "#f0f921"
            ]
           ],
           "sequentialminus": [
            [
             0,
             "#0d0887"
            ],
            [
             0.1111111111111111,
             "#46039f"
            ],
            [
             0.2222222222222222,
             "#7201a8"
            ],
            [
             0.3333333333333333,
             "#9c179e"
            ],
            [
             0.4444444444444444,
             "#bd3786"
            ],
            [
             0.5555555555555556,
             "#d8576b"
            ],
            [
             0.6666666666666666,
             "#ed7953"
            ],
            [
             0.7777777777777778,
             "#fb9f3a"
            ],
            [
             0.8888888888888888,
             "#fdca26"
            ],
            [
             1,
             "#f0f921"
            ]
           ]
          },
          "colorway": [
           "#636efa",
           "#EF553B",
           "#00cc96",
           "#ab63fa",
           "#FFA15A",
           "#19d3f3",
           "#FF6692",
           "#B6E880",
           "#FF97FF",
           "#FECB52"
          ],
          "font": {
           "color": "#2a3f5f"
          },
          "geo": {
           "bgcolor": "white",
           "lakecolor": "white",
           "landcolor": "#E5ECF6",
           "showlakes": true,
           "showland": true,
           "subunitcolor": "white"
          },
          "hoverlabel": {
           "align": "left"
          },
          "hovermode": "closest",
          "mapbox": {
           "style": "light"
          },
          "paper_bgcolor": "white",
          "plot_bgcolor": "#E5ECF6",
          "polar": {
           "angularaxis": {
            "gridcolor": "white",
            "linecolor": "white",
            "ticks": ""
           },
           "bgcolor": "#E5ECF6",
           "radialaxis": {
            "gridcolor": "white",
            "linecolor": "white",
            "ticks": ""
           }
          },
          "scene": {
           "xaxis": {
            "backgroundcolor": "#E5ECF6",
            "gridcolor": "white",
            "gridwidth": 2,
            "linecolor": "white",
            "showbackground": true,
            "ticks": "",
            "zerolinecolor": "white"
           },
           "yaxis": {
            "backgroundcolor": "#E5ECF6",
            "gridcolor": "white",
            "gridwidth": 2,
            "linecolor": "white",
            "showbackground": true,
            "ticks": "",
            "zerolinecolor": "white"
           },
           "zaxis": {
            "backgroundcolor": "#E5ECF6",
            "gridcolor": "white",
            "gridwidth": 2,
            "linecolor": "white",
            "showbackground": true,
            "ticks": "",
            "zerolinecolor": "white"
           }
          },
          "shapedefaults": {
           "line": {
            "color": "#2a3f5f"
           }
          },
          "ternary": {
           "aaxis": {
            "gridcolor": "white",
            "linecolor": "white",
            "ticks": ""
           },
           "baxis": {
            "gridcolor": "white",
            "linecolor": "white",
            "ticks": ""
           },
           "bgcolor": "#E5ECF6",
           "caxis": {
            "gridcolor": "white",
            "linecolor": "white",
            "ticks": ""
           }
          },
          "title": {
           "x": 0.05
          },
          "xaxis": {
           "automargin": true,
           "gridcolor": "white",
           "linecolor": "white",
           "ticks": "",
           "title": {
            "standoff": 15
           },
           "zerolinecolor": "white",
           "zerolinewidth": 2
          },
          "yaxis": {
           "automargin": true,
           "gridcolor": "white",
           "linecolor": "white",
           "ticks": "",
           "title": {
            "standoff": 15
           },
           "zerolinecolor": "white",
           "zerolinewidth": 2
          }
         }
        },
        "title": {
         "text": "Likelihood of Technologies Requested for Top-3 Data Roles"
        },
        "xaxis": {
         "anchor": "y",
         "domain": [
          0,
          1
         ],
         "matches": "x3",
         "showticklabels": false
        },
        "xaxis2": {
         "anchor": "y2",
         "domain": [
          0,
          1
         ],
         "matches": "x3",
         "showticklabels": false
        },
        "xaxis3": {
         "anchor": "y3",
         "domain": [
          0,
          1
         ]
        },
        "yaxis": {
         "anchor": "x",
         "autorange": "reversed",
         "domain": [
          0.7,
          1
         ]
        },
        "yaxis2": {
         "anchor": "x2",
         "autorange": "reversed",
         "domain": [
          0.35,
          0.6499999999999999
         ]
        },
        "yaxis3": {
         "anchor": "x3",
         "autorange": "reversed",
         "domain": [
          0,
          0.3
         ]
        }
       }
      }
     },
     "metadata": {},
     "output_type": "display_data"
    }
   ],
   "source": [
    "# Explode technologies into individual rows\n",
    "df_exploded = (\n",
    "    df_plot\n",
    "    .assign(technology=df_plot['technology'].str.split(', '))\n",
    "    .explode('technology')\n",
    ")\n",
    "\n",
    "# Calculate top 5 technologies per role (normalized)\n",
    "top_tech_list = []\n",
    "for role in top_roles:\n",
    "    tech_counts = (\n",
    "        df_exploded[df_exploded['job_title_short'] == role]['technology']\n",
    "        .value_counts(normalize=True)\n",
    "        .head(5)\n",
    "        .reset_index()\n",
    "    )\n",
    "    tech_counts.columns = ['technology', 'percentage']\n",
    "    tech_counts['job_title_short'] = role\n",
    "    tech_counts['percentage_label'] = (tech_counts['percentage'] * 100).round(0).astype(int).astype(str) + '%'\n",
    "    top_tech_list.append(tech_counts)\n",
    "\n",
    "df_top_tech = pd.concat(top_tech_list, ignore_index=True)\n",
    "\n",
    "# Prepare figure with subplots for each role\n",
    "fig = make_subplots(\n",
    "    rows=len(top_roles), cols=1,\n",
    "    shared_xaxes=True,\n",
    "    vertical_spacing=0.05,\n",
    "    subplot_titles=top_roles\n",
    ")\n",
    "\n",
    "base_colors = px.colors.sequential.Blues\n",
    "\n",
    "for i, role in enumerate(top_roles, start=1):\n",
    "    df_role = df_top_tech[df_top_tech['job_title_short'] == role].copy()\n",
    "    # Sort descending so biggest bars on top\n",
    "    df_role = df_role.sort_values(by='percentage', ascending=False)\n",
    "\n",
    "    # Colors: darker for biggest bar, lighter for others\n",
    "    colors = [base_colors[-2]] + [base_colors[3]] * (len(df_role) - 1)\n",
    "\n",
    "    fig.add_trace(\n",
    "        go.Bar(\n",
    "            x=df_role['percentage'],\n",
    "            y=df_role['technology'],\n",
    "            orientation='h',\n",
    "            text=df_role['percentage_label'],\n",
    "            textposition='outside',\n",
    "            marker_color=colors,\n",
    "            showlegend=False\n",
    "        ),\n",
    "        row=i, col=1\n",
    "    )\n",
    "\n",
    "# Reverse y-axis so biggest bar is on top visually\n",
    "for i in range(1, len(top_roles) + 1):\n",
    "    fig.update_yaxes(autorange=\"reversed\", row=i, col=1)\n",
    "\n",
    "fig.update_layout(\n",
    "    height=600,\n",
    "    title='Likelihood of Technologies Requested for Top-3 Data Roles',\n",
    "    margin=dict(l=60, r=20, t=80, b=60)\n",
    ")\n",
    "\n",
    "fig.show()"
   ]
  },
  {
   "cell_type": "markdown",
   "id": "678a509f",
   "metadata": {},
   "source": [
    "### Number of skills requested for each of Top-3 Data Roles"
   ]
  },
  {
   "cell_type": "code",
   "execution_count": 27,
   "id": "9fe0213d",
   "metadata": {},
   "outputs": [
    {
     "name": "stdout",
     "output_type": "stream",
     "text": [
      "  job_title_short  avg_skills\n",
      "1   Data Engineer           7\n",
      "2  Data Scientist           5\n",
      "0    Data Analyst           4\n"
     ]
    }
   ],
   "source": [
    "# Count skills\n",
    "def count_skills(skills_str):\n",
    "    if pd.isna(skills_str) or skills_str.strip() == '':\n",
    "        return 0\n",
    "    return len([s for s in skills_str.split(',') if s.strip() != ''])\n",
    "\n",
    "df_top = df_top.copy()\n",
    "df_top['skills_count'] = df_top['job_skills'].apply(count_skills)\n",
    "\n",
    "#Average number of skills per role\n",
    "avg_skills_per_role = (\n",
    "    df_top.groupby('job_title_short')['skills_count']\n",
    "    .mean()\n",
    "    .reset_index()\n",
    "    .rename(columns={'skills_count': 'avg_skills'})\n",
    "    .sort_values(by='avg_skills', ascending=False)\n",
    ")\n",
    "\n",
    "avg_skills_per_role['avg_skills'] = avg_skills_per_role['avg_skills'].round(0).astype(int)\n",
    "\n",
    "print(avg_skills_per_role)"
   ]
  },
  {
   "cell_type": "code",
   "execution_count": null,
   "id": "78bac0d1",
   "metadata": {},
   "outputs": [],
   "source": []
  }
 ],
 "metadata": {
  "kernelspec": {
   "display_name": "python_course",
   "language": "python",
   "name": "python3"
  },
  "language_info": {
   "codemirror_mode": {
    "name": "ipython",
    "version": 3
   },
   "file_extension": ".py",
   "mimetype": "text/x-python",
   "name": "python",
   "nbconvert_exporter": "python",
   "pygments_lexer": "ipython3",
   "version": "3.11.11"
  }
 },
 "nbformat": 4,
 "nbformat_minor": 5
}
